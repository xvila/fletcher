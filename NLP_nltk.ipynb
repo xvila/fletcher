{
 "cells": [
  {
   "cell_type": "markdown",
   "metadata": {},
   "source": [
    "# NLP with NLTK (.. and a little sklearn) \n",
    "\n",
    "Natural Language Processing with the Natural Language Toolkit\n",
    "\n",
    "[nltk](http://www.nltk.org/) is a Python package for NLP."
   ]
  },
  {
   "cell_type": "code",
   "execution_count": 1,
   "metadata": {
    "ExecuteTime": {
     "end_time": "2017-10-27T15:37:24.487053Z",
     "start_time": "2017-10-27T15:37:13.127843Z"
    }
   },
   "outputs": [
    {
     "name": "stdout",
     "output_type": "stream",
     "text": [
      "Collecting nltk\n",
      "  Downloading nltk-3.2.5.tar.gz (1.2MB)\n",
      "\u001b[K    100% |████████████████████████████████| 1.2MB 858kB/s ta 0:00:01\n",
      "\u001b[?25hCollecting textblob\n",
      "  Downloading textblob-0.13.0-py2.py3-none-any.whl (631kB)\n",
      "\u001b[K    100% |████████████████████████████████| 634kB 647kB/s ta 0:00:011\n",
      "\u001b[?25hRequirement already up-to-date: six in /Users/xavier/anaconda/lib/python3.6/site-packages (from nltk)\n",
      "Building wheels for collected packages: nltk\n",
      "  Running setup.py bdist_wheel for nltk ... \u001b[?25ldone\n",
      "\u001b[?25h  Stored in directory: /Users/xavier/Library/Caches/pip/wheels/18/9c/1f/276bc3f421614062468cb1c9d695e6086d0c73d67ea363c501\n",
      "Successfully built nltk\n",
      "Installing collected packages: nltk, textblob\n",
      "  Found existing installation: nltk 3.2.4\n",
      "    Uninstalling nltk-3.2.4:\n",
      "      Successfully uninstalled nltk-3.2.4\n",
      "Successfully installed nltk-3.2.5 textblob-0.13.0\n"
     ]
    }
   ],
   "source": [
    "#!pip install nltk textblob -U"
   ]
  },
  {
   "cell_type": "code",
   "execution_count": 1,
   "metadata": {
    "ExecuteTime": {
     "end_time": "2017-11-08T02:17:45.446184Z",
     "start_time": "2017-11-08T02:17:40.345425Z"
    }
   },
   "outputs": [
    {
     "name": "stdout",
     "output_type": "stream",
     "text": [
      "Populating the interactive namespace from numpy and matplotlib\n"
     ]
    }
   ],
   "source": [
    "from textblob import TextBlob\n",
    "import nltk\n",
    "import IPython # we'll use this to draw\n",
    "import pandas as pd\n",
    "%pylab inline"
   ]
  },
  {
   "cell_type": "code",
   "execution_count": 2,
   "metadata": {
    "ExecuteTime": {
     "end_time": "2017-11-08T02:17:49.470641Z",
     "start_time": "2017-11-08T02:17:49.459520Z"
    },
    "collapsed": true
   },
   "outputs": [],
   "source": [
    "def nltk_disp(item):\n",
    "    IPython.core.display.display(item)"
   ]
  },
  {
   "cell_type": "markdown",
   "metadata": {},
   "source": [
    "Much of NLTK depends on additional data which you'll have to download. Use `nltk.download()` to get at least the following:\n",
    "\n",
    " * averaged_perceptron_tagger (in models)\n",
    " * maxent_treebank_pos_tagger (in models)\n",
    " * punkt (in models)\n",
    " * maxent_ne_chunk (in models)\n",
    " * words (in corpora)\n",
    "\n",
    "You can install these and continue without restarting your kernel."
   ]
  },
  {
   "cell_type": "code",
   "execution_count": 3,
   "metadata": {
    "ExecuteTime": {
     "end_time": "2017-11-08T02:17:53.628612Z",
     "start_time": "2017-11-08T02:17:53.232343Z"
    }
   },
   "outputs": [
    {
     "name": "stdout",
     "output_type": "stream",
     "text": [
      "[nltk_data] Downloading package averaged_perceptron_tagger to\n",
      "[nltk_data]     /Users/xavier/nltk_data...\n",
      "[nltk_data]   Package averaged_perceptron_tagger is already up-to-\n",
      "[nltk_data]       date!\n",
      "[nltk_data] Downloading package maxent_treebank_pos_tagger to\n",
      "[nltk_data]     /Users/xavier/nltk_data...\n",
      "[nltk_data]   Package maxent_treebank_pos_tagger is already up-to-\n",
      "[nltk_data]       date!\n",
      "[nltk_data] Downloading package punkt to /Users/xavier/nltk_data...\n",
      "[nltk_data]   Package punkt is already up-to-date!\n",
      "[nltk_data] Downloading package maxent_ne_chunker to\n",
      "[nltk_data]     /Users/xavier/nltk_data...\n",
      "[nltk_data]   Package maxent_ne_chunker is already up-to-date!\n",
      "[nltk_data] Downloading package words to /Users/xavier/nltk_data...\n",
      "[nltk_data]   Package words is already up-to-date!\n"
     ]
    }
   ],
   "source": [
    "for dl in [\"averaged_perceptron_tagger\", \"maxent_treebank_pos_tagger\", \"punkt\", \"maxent_ne_chunker\", \"words\"]:\n",
    "    nltk.download(dl)"
   ]
  },
  {
   "cell_type": "markdown",
   "metadata": {},
   "source": [
    "### Sentence tokenization"
   ]
  },
  {
   "cell_type": "code",
   "execution_count": 5,
   "metadata": {
    "ExecuteTime": {
     "end_time": "2017-11-08T02:18:11.416619Z",
     "start_time": "2017-11-08T02:18:11.390292Z"
    }
   },
   "outputs": [
    {
     "name": "stdout",
     "output_type": "stream",
     "text": [
      "['Hello.', 'How are you, dear Mr. Sir?', 'Are you well?', 'Here: drink this!', 'It will make you feel better.', \"I mean, it won't make you feel worse!\"]\n"
     ]
    }
   ],
   "source": [
    "from nltk.tokenize import sent_tokenize\n",
    "\n",
    "text = \"\"\"Hello. How are you, dear Mr. Sir? Are you well?\n",
    "          Here: drink this! It will make you feel better.\n",
    "          I mean, it won't make you feel worse!\"\"\"\n",
    "\n",
    "sentences = sent_tokenize(text)\n",
    "print(sentences)\n"
   ]
  },
  {
   "cell_type": "markdown",
   "metadata": {},
   "source": [
    "### Word tokenization"
   ]
  },
  {
   "cell_type": "code",
   "execution_count": 6,
   "metadata": {
    "ExecuteTime": {
     "end_time": "2017-11-08T02:18:12.000096Z",
     "start_time": "2017-11-08T02:18:11.991866Z"
    }
   },
   "outputs": [
    {
     "data": {
      "text/plain": [
       "['I', 'mean', ',', 'it', 'wo', \"n't\", 'make', 'you', 'feel', 'worse', '!']"
      ]
     },
     "execution_count": 6,
     "metadata": {},
     "output_type": "execute_result"
    }
   ],
   "source": [
    "# TreebankWordTokenizer assumes that our input has already been segmented into sentences..\n",
    "\n",
    "\n",
    "from nltk.tokenize import TreebankWordTokenizer\n",
    "tokenizer = TreebankWordTokenizer()\n",
    "tokenizer.tokenize(sentences[5])"
   ]
  },
  {
   "cell_type": "code",
   "execution_count": 7,
   "metadata": {
    "ExecuteTime": {
     "end_time": "2017-11-08T02:18:12.266218Z",
     "start_time": "2017-11-08T02:18:12.257479Z"
    }
   },
   "outputs": [
    {
     "data": {
      "text/plain": [
       "['I', 'mean', ',', 'it', 'wo', \"n't\", 'make', 'you', 'feel', 'worse', '!']"
      ]
     },
     "execution_count": 7,
     "metadata": {},
     "output_type": "execute_result"
    }
   ],
   "source": [
    "from nltk.tokenize import word_tokenize\n",
    "words = word_tokenize(sentences[5])\n",
    "words"
   ]
  },
  {
   "cell_type": "code",
   "execution_count": 8,
   "metadata": {
    "ExecuteTime": {
     "end_time": "2017-11-08T02:18:14.665989Z",
     "start_time": "2017-11-08T02:18:14.659322Z"
    }
   },
   "outputs": [
    {
     "data": {
      "text/plain": [
       "['I', 'mean', ',', 'it', 'won', \"'\", 't', 'make', 'you', 'feel', 'worse', '!']"
      ]
     },
     "execution_count": 8,
     "metadata": {},
     "output_type": "execute_result"
    }
   ],
   "source": [
    "from nltk.tokenize import wordpunct_tokenize\n",
    "wordpunct_tokenize(sentences[5])"
   ]
  },
  {
   "cell_type": "markdown",
   "metadata": {},
   "source": [
    "Demo of different tokenizers: http://text-processing.com/demo/tokenize/"
   ]
  },
  {
   "cell_type": "markdown",
   "metadata": {},
   "source": [
    "### Part of speech tagging"
   ]
  },
  {
   "cell_type": "code",
   "execution_count": 9,
   "metadata": {
    "ExecuteTime": {
     "end_time": "2017-11-08T02:18:35.238748Z",
     "start_time": "2017-11-08T02:18:35.122785Z"
    }
   },
   "outputs": [
    {
     "data": {
      "text/plain": [
       "[('Who', 'WP'),\n",
       " (\"'s\", 'VBZ'),\n",
       " ('going', 'VBG'),\n",
       " ('to', 'TO'),\n",
       " ('that', 'DT'),\n",
       " ('thing', 'NN'),\n",
       " ('today', 'NN'),\n",
       " ('?', '.')]"
      ]
     },
     "execution_count": 9,
     "metadata": {},
     "output_type": "execute_result"
    }
   ],
   "source": [
    "from nltk.tag import pos_tag\n",
    "words=pos_tag(word_tokenize(\"Who's going to that thing today?\"))\n",
    "words"
   ]
  },
  {
   "cell_type": "markdown",
   "metadata": {},
   "source": [
    "##### Some of POS tags: \n",
    "WP: wh-pronoun (\"who\", \"what\")  \n",
    "VBZ: verb, 3rd person sing. present (\"takes\")  \n",
    "VBG: verb, gerund/present participle (\"taking\")  \n",
    "TO: to (\"to go\", \"to him\")   \n",
    "DT: determiner (\"the\", \"this\")  \n",
    "NN: noun, singular or mass (\"door\")  \n",
    ".: Punctuation (\".\", \"?\")  \n",
    "\n",
    "All tags: http://www.monlp.com/2011/11/08/part-of-speech-tags/"
   ]
  },
  {
   "cell_type": "markdown",
   "metadata": {},
   "source": [
    "### Chunking\n",
    "Extracting phrases"
   ]
  },
  {
   "cell_type": "code",
   "execution_count": 10,
   "metadata": {
    "ExecuteTime": {
     "end_time": "2017-11-08T02:18:57.012070Z",
     "start_time": "2017-11-08T02:18:56.886864Z"
    }
   },
   "outputs": [
    {
     "name": "stdout",
     "output_type": "stream",
     "text": [
      "[('I', 'PRP'), (\"'m\", 'VBP'), ('Julia', 'JJ'), ('and', 'CC'), ('I', 'PRP'), (\"'m\", 'VBP'), ('here', 'RB'), ('to', 'TO'), ('say', 'VB'), ('I', 'PRP'), ('love', 'VBP'), ('NLTK', 'NNP'), ('in', 'IN'), ('a', 'DT'), ('major', 'JJ'), ('way', 'NN'), ('.', '.')]\n",
      "(S\n",
      "  I/PRP\n",
      "  'm/VBP\n",
      "  (PERSON Julia/JJ)\n",
      "  and/CC\n",
      "  I/PRP\n",
      "  'm/VBP\n",
      "  here/RB\n",
      "  to/TO\n",
      "  say/VB\n",
      "  I/PRP\n",
      "  love/VBP\n",
      "  (ORGANIZATION NLTK/NNP)\n",
      "  in/IN\n",
      "  a/DT\n",
      "  major/JJ\n",
      "  way/NN\n",
      "  ./.)\n"
     ]
    }
   ],
   "source": [
    "## the 'named entity' chunker!  ne_chunk utilizes \n",
    "\n",
    "from nltk.chunk import ne_chunk\n",
    "words = word_tokenize(\"\"\"I'm Julia and I'm here to say\n",
    "                         I love NLTK in a major way.\"\"\")\n",
    "tags = pos_tag(words)\n",
    "tree = ne_chunk(tags)\n",
    "print(tags)\n",
    "print(tree)"
   ]
  },
  {
   "cell_type": "code",
   "execution_count": 11,
   "metadata": {
    "ExecuteTime": {
     "end_time": "2017-11-08T02:19:03.058087Z",
     "start_time": "2017-11-08T02:19:02.172956Z"
    }
   },
   "outputs": [
    {
     "data": {
      "image/png": "[encoded data removed]",
      "text/plain": [
       "Tree('S', [('I', 'PRP'), (\"'m\", 'VBP'), Tree('PERSON', [('Julia', 'JJ')]), ('and', 'CC'), ('I', 'PRP'), (\"'m\", 'VBP'), ('here', 'RB'), ('to', 'TO'), ('say', 'VB'), ('I', 'PRP'), ('love', 'VBP'), Tree('ORGANIZATION', [('NLTK', 'NNP')]), ('in', 'IN'), ('a', 'DT'), ('major', 'JJ'), ('way', 'NN'), ('.', '.')])"
      ]
     },
     "metadata": {},
     "output_type": "display_data"
    }
   ],
   "source": [
    "nltk_disp(tree)"
   ]
  },
  {
   "cell_type": "code",
   "execution_count": 12,
   "metadata": {
    "ExecuteTime": {
     "end_time": "2017-11-08T02:19:06.747313Z",
     "start_time": "2017-11-08T02:19:06.738672Z"
    },
    "collapsed": true
   },
   "outputs": [],
   "source": [
    "words2 = word_tokenize(\"First National Bank announced earnings!\")\n",
    "tags2=pos_tag(words2)\n",
    "tree2=ne_chunk(tags2)"
   ]
  },
  {
   "cell_type": "code",
   "execution_count": 13,
   "metadata": {
    "ExecuteTime": {
     "end_time": "2017-11-08T02:19:09.899817Z",
     "start_time": "2017-11-08T02:19:09.769508Z"
    }
   },
   "outputs": [
    {
     "data": {
      "image/png": "[encoded data removed]",
      "text/plain": [
       "Tree('S', [Tree('PERSON', [('First', 'NNP')]), Tree('ORGANIZATION', [('National', 'NNP'), ('Bank', 'NNP')]), ('announced', 'VBD'), ('earnings', 'NNS'), ('!', '.')])"
      ]
     },
     "metadata": {},
     "output_type": "display_data"
    }
   ],
   "source": [
    "nltk_disp(tree2)"
   ]
  },
  {
   "cell_type": "markdown",
   "metadata": {},
   "source": [
    "### Included text corpora\n",
    "\n",
    "Also install these!\n",
    "\n",
    " * movie_reviews: Imdb reviews characterized as pos & neg  \n",
    " * treebank: tagged and parsed Wall Street Journal text  \n",
    " * brown: tagged & categorized English text (news, fiction, etc)  \n",
    "\n",
    "(There are over 60 others.)"
   ]
  },
  {
   "cell_type": "code",
   "execution_count": 14,
   "metadata": {
    "ExecuteTime": {
     "end_time": "2017-11-08T02:19:17.478756Z",
     "start_time": "2017-11-08T02:19:17.252984Z"
    }
   },
   "outputs": [
    {
     "name": "stdout",
     "output_type": "stream",
     "text": [
      "[nltk_data] Downloading package movie_reviews to\n",
      "[nltk_data]     /Users/xavier/nltk_data...\n",
      "[nltk_data]   Package movie_reviews is already up-to-date!\n",
      "[nltk_data] Downloading package treebank to /Users/xavier/nltk_data...\n",
      "[nltk_data]   Package treebank is already up-to-date!\n",
      "[nltk_data] Downloading package brown to /Users/xavier/nltk_data...\n",
      "[nltk_data]   Package brown is already up-to-date!\n",
      "[nltk_data] Downloading package stopwords to\n",
      "[nltk_data]     /Users/xavier/nltk_data...\n",
      "[nltk_data]   Package stopwords is already up-to-date!\n"
     ]
    }
   ],
   "source": [
    "for dl in [\"movie_reviews\", \"treebank\", \"brown\", \"stopwords\"]:\n",
    "    nltk.download(dl)"
   ]
  },
  {
   "cell_type": "code",
   "execution_count": 15,
   "metadata": {
    "ExecuteTime": {
     "end_time": "2017-11-08T02:19:19.923684Z",
     "start_time": "2017-11-08T02:19:19.907519Z"
    }
   },
   "outputs": [
    {
     "name": "stderr",
     "output_type": "stream",
     "text": [
      "/Users/xavier/anaconda/lib/python3.6/site-packages/nltk/tokenize/regexp.py:123: FutureWarning: split() requires a non-empty pattern match.\n",
      "  return [tok for tok in self._regexp.split(text) if tok]\n"
     ]
    },
    {
     "data": {
      "text/plain": [
       "[('Pierre', 'NNP'),\n",
       " ('Vinken', 'NNP'),\n",
       " (',', ','),\n",
       " ('61', 'CD'),\n",
       " ('years', 'NNS'),\n",
       " ('old', 'JJ'),\n",
       " (',', ','),\n",
       " ('will', 'MD'),\n",
       " ('join', 'VB'),\n",
       " ('the', 'DT'),\n",
       " ('board', 'NN'),\n",
       " ('as', 'IN'),\n",
       " ('a', 'DT'),\n",
       " ('nonexecutive', 'JJ'),\n",
       " ('director', 'NN'),\n",
       " ('Nov.', 'NNP'),\n",
       " ('29', 'CD'),\n",
       " ('.', '.')]"
      ]
     },
     "execution_count": 15,
     "metadata": {},
     "output_type": "execute_result"
    }
   ],
   "source": [
    "# A chunked corpora reader..\n",
    "\n",
    "from nltk.corpus import treebank_chunk\n",
    "treebank_chunk.tagged_sents()[0]"
   ]
  },
  {
   "cell_type": "code",
   "execution_count": 17,
   "metadata": {
    "ExecuteTime": {
     "end_time": "2017-10-27T15:44:04.575450Z",
     "start_time": "2017-10-27T15:44:04.385278Z"
    }
   },
   "outputs": [
    {
     "name": "stderr",
     "output_type": "stream",
     "text": [
      "/Users/xavier/anaconda/lib/python3.6/site-packages/nltk/tokenize/regexp.py:123: FutureWarning: split() requires a non-empty pattern match.\n",
      "  return [tok for tok in self._regexp.split(text) if tok]\n"
     ]
    },
    {
     "data": {
      "image/png": "[encoded data removed]",
      "text/plain": [
       "Tree('S', [Tree('NP', [('Pierre', 'NNP'), ('Vinken', 'NNP')]), (',', ','), Tree('NP', [('61', 'CD'), ('years', 'NNS')]), ('old', 'JJ'), (',', ','), ('will', 'MD'), ('join', 'VB'), Tree('NP', [('the', 'DT'), ('board', 'NN')]), ('as', 'IN'), Tree('NP', [('a', 'DT'), ('nonexecutive', 'JJ'), ('director', 'NN'), ('Nov.', 'NNP'), ('29', 'CD')]), ('.', '.')])"
      ]
     },
     "metadata": {},
     "output_type": "display_data"
    }
   ],
   "source": [
    "nltk_disp(treebank_chunk.chunked_sents()[0])"
   ]
  },
  {
   "cell_type": "code",
   "execution_count": 18,
   "metadata": {
    "ExecuteTime": {
     "end_time": "2017-10-27T15:44:06.057354Z",
     "start_time": "2017-10-27T15:44:06.042089Z"
    }
   },
   "outputs": [
    {
     "name": "stderr",
     "output_type": "stream",
     "text": [
      "/Users/xavier/anaconda/lib/python3.6/site-packages/nltk/tokenize/regexp.py:123: FutureWarning: split() requires a non-empty pattern match.\n",
      "  return [tok for tok in self._regexp.split(text) if tok]\n"
     ]
    },
    {
     "data": {
      "text/plain": [
       "'Pierre Vinken , 61 years old , will join the board as a nonexecutive director Nov. 29 .'"
      ]
     },
     "execution_count": 18,
     "metadata": {},
     "output_type": "execute_result"
    }
   ],
   "source": [
    "tree=treebank_chunk.chunked_sents()[0]\n",
    "' '.join([w for w, t in tree.leaves()])"
   ]
  },
  {
   "cell_type": "markdown",
   "metadata": {},
   "source": [
    "# TextBlob"
   ]
  },
  {
   "cell_type": "code",
   "execution_count": 16,
   "metadata": {
    "ExecuteTime": {
     "end_time": "2017-11-08T02:19:37.991883Z",
     "start_time": "2017-11-08T02:19:37.987285Z"
    },
    "collapsed": true
   },
   "outputs": [],
   "source": [
    "GATSBY_TEXT = \"\"\"In my younger and more vulnerable years my father\n",
    "                 gave me some advice that I've been turning over\n",
    "                 in my mind ever since. \"Whenever you feel like\n",
    "                 criticizing any one,\" he told me, \"blah blah blah.\"\"\"\n",
    "\n",
    "gatsby = TextBlob(GATSBY_TEXT)"
   ]
  },
  {
   "cell_type": "code",
   "execution_count": 17,
   "metadata": {
    "ExecuteTime": {
     "end_time": "2017-11-08T02:19:38.286588Z",
     "start_time": "2017-11-08T02:19:38.272228Z"
    }
   },
   "outputs": [
    {
     "data": {
      "text/plain": [
       "[('In', 'IN'),\n",
       " ('my', 'PRP$'),\n",
       " ('younger', 'JJR'),\n",
       " ('and', 'CC'),\n",
       " ('more', 'RBR'),\n",
       " ('vulnerable', 'JJ'),\n",
       " ('years', 'NNS'),\n",
       " ('my', 'PRP$'),\n",
       " ('father', 'NN'),\n",
       " ('gave', 'VBD'),\n",
       " ('me', 'PRP'),\n",
       " ('some', 'DT'),\n",
       " ('advice', 'NN'),\n",
       " ('that', 'IN'),\n",
       " ('I', 'PRP'),\n",
       " (\"'ve\", 'VBP'),\n",
       " ('been', 'VBN'),\n",
       " ('turning', 'VBG'),\n",
       " ('over', 'IN'),\n",
       " ('in', 'IN'),\n",
       " ('my', 'PRP$'),\n",
       " ('mind', 'NN'),\n",
       " ('ever', 'RB'),\n",
       " ('since', 'IN'),\n",
       " ('Whenever', 'IN'),\n",
       " ('you', 'PRP'),\n",
       " ('feel', 'VBP'),\n",
       " ('like', 'IN'),\n",
       " ('criticizing', 'VBG'),\n",
       " ('any', 'DT'),\n",
       " ('one', 'CD'),\n",
       " ('he', 'PRP'),\n",
       " ('told', 'VBD'),\n",
       " ('me', 'PRP'),\n",
       " ('blah', 'NN'),\n",
       " ('blah', 'NN'),\n",
       " ('blah', 'NN')]"
      ]
     },
     "execution_count": 17,
     "metadata": {},
     "output_type": "execute_result"
    }
   ],
   "source": [
    "gatsby.tags"
   ]
  },
  {
   "cell_type": "code",
   "execution_count": 18,
   "metadata": {
    "ExecuteTime": {
     "end_time": "2017-11-08T02:19:43.417019Z",
     "start_time": "2017-11-08T02:19:40.848435Z"
    }
   },
   "outputs": [
    {
     "data": {
      "text/plain": [
       "WordList(['vulnerable years', 'whenever', 'blah blah blah'])"
      ]
     },
     "execution_count": 18,
     "metadata": {},
     "output_type": "execute_result"
    }
   ],
   "source": [
    "gatsby.noun_phrases"
   ]
  },
  {
   "cell_type": "markdown",
   "metadata": {},
   "source": [
    "###  How do you really feel?    TextBlob:  Sentiment Analysis"
   ]
  },
  {
   "cell_type": "code",
   "execution_count": 19,
   "metadata": {
    "ExecuteTime": {
     "end_time": "2017-11-08T02:19:49.159036Z",
     "start_time": "2017-11-08T02:19:49.103436Z"
    }
   },
   "outputs": [
    {
     "data": {
      "text/plain": [
       "Sentiment(polarity=0.75, subjectivity=0.8)"
      ]
     },
     "execution_count": 19,
     "metadata": {},
     "output_type": "execute_result"
    }
   ],
   "source": [
    "TextBlob(\"Oh my god I love this bootcamp, it's so awesome.\").sentiment"
   ]
  },
  {
   "cell_type": "code",
   "execution_count": 20,
   "metadata": {
    "ExecuteTime": {
     "end_time": "2017-11-08T02:19:50.204146Z",
     "start_time": "2017-11-08T02:19:50.196273Z"
    }
   },
   "outputs": [
    {
     "data": {
      "text/plain": [
       "Sentiment(polarity=1.0, subjectivity=1.0)"
      ]
     },
     "execution_count": 20,
     "metadata": {},
     "output_type": "execute_result"
    }
   ],
   "source": [
    "TextBlob(\"it's so awesome\").sentiment"
   ]
  },
  {
   "cell_type": "code",
   "execution_count": 21,
   "metadata": {
    "ExecuteTime": {
     "end_time": "2017-11-08T02:19:52.354941Z",
     "start_time": "2017-11-08T02:19:52.350204Z"
    }
   },
   "outputs": [
    {
     "data": {
      "text/plain": [
       "Sentiment(polarity=0.0, subjectivity=0.0)"
      ]
     },
     "execution_count": 21,
     "metadata": {},
     "output_type": "execute_result"
    }
   ],
   "source": [
    "TextBlob(\"Oh my god.\").sentiment"
   ]
  },
  {
   "cell_type": "code",
   "execution_count": 22,
   "metadata": {
    "ExecuteTime": {
     "end_time": "2017-11-08T02:19:52.871521Z",
     "start_time": "2017-11-08T02:19:52.865242Z"
    }
   },
   "outputs": [
    {
     "data": {
      "text/plain": [
       "Sentiment(polarity=0.5, subjectivity=0.6)"
      ]
     },
     "execution_count": 22,
     "metadata": {},
     "output_type": "execute_result"
    }
   ],
   "source": [
    "TextBlob(\"I love this bootcamp.\").sentiment"
   ]
  },
  {
   "cell_type": "code",
   "execution_count": 23,
   "metadata": {
    "ExecuteTime": {
     "end_time": "2017-11-08T02:19:53.074709Z",
     "start_time": "2017-11-08T02:19:53.067352Z"
    }
   },
   "outputs": [
    {
     "data": {
      "text/plain": [
       "Sentiment(polarity=0.5, subjectivity=0.6)"
      ]
     },
     "execution_count": 23,
     "metadata": {},
     "output_type": "execute_result"
    }
   ],
   "source": [
    "TextBlob(\"Oh my god I love this bootcamp.\").sentiment"
   ]
  },
  {
   "cell_type": "code",
   "execution_count": 24,
   "metadata": {
    "ExecuteTime": {
     "end_time": "2017-11-08T02:19:53.299409Z",
     "start_time": "2017-11-08T02:19:53.294806Z"
    }
   },
   "outputs": [
    {
     "data": {
      "text/plain": [
       "Sentiment(polarity=1.0, subjectivity=1.0)"
      ]
     },
     "execution_count": 24,
     "metadata": {},
     "output_type": "execute_result"
    }
   ],
   "source": [
    "TextBlob(\"it's so awesome.\").sentiment"
   ]
  },
  {
   "cell_type": "code",
   "execution_count": 25,
   "metadata": {
    "ExecuteTime": {
     "end_time": "2017-11-08T02:19:53.515061Z",
     "start_time": "2017-11-08T02:19:53.511335Z"
    }
   },
   "outputs": [
    {
     "name": "stdout",
     "output_type": "stream",
     "text": [
      "Sentiment(polarity=-0.8, subjectivity=0.9)\n"
     ]
    }
   ],
   "source": [
    "print(TextBlob(\"I hate cupcakes.\").sentiment)"
   ]
  },
  {
   "cell_type": "code",
   "execution_count": 26,
   "metadata": {
    "ExecuteTime": {
     "end_time": "2017-11-08T02:19:55.373704Z",
     "start_time": "2017-11-08T02:19:55.368704Z"
    }
   },
   "outputs": [
    {
     "data": {
      "text/plain": [
       "[Sentence(\"In my younger and more vulnerable years my father\n",
       "                  gave me some advice that I've been turning over\n",
       "                  in my mind ever since.\"), Sentence(\"\"Whenever you feel like\n",
       "                  criticizing any one,\" he told me, \"blah blah blah.\")]"
      ]
     },
     "execution_count": 26,
     "metadata": {},
     "output_type": "execute_result"
    }
   ],
   "source": [
    "gatsby.sentences"
   ]
  },
  {
   "cell_type": "code",
   "execution_count": 27,
   "metadata": {
    "ExecuteTime": {
     "end_time": "2017-11-08T02:19:57.868500Z",
     "start_time": "2017-11-08T02:19:57.859825Z"
    }
   },
   "outputs": [
    {
     "data": {
      "text/plain": [
       "WordList(['In', 'my', 'younger', 'and', 'more', 'vulnerable', 'years', 'my', 'father', 'gave', 'me', 'some', 'advice', 'that', 'I', \"'ve\", 'been', 'turning', 'over', 'in', 'my', 'mind', 'ever', 'since', 'Whenever', 'you', 'feel', 'like', 'criticizing', 'any', 'one', 'he', 'told', 'me', 'blah', 'blah', 'blah'])"
      ]
     },
     "execution_count": 27,
     "metadata": {},
     "output_type": "execute_result"
    }
   ],
   "source": [
    "gatsby.words"
   ]
  },
  {
   "cell_type": "code",
   "execution_count": 28,
   "metadata": {
    "ExecuteTime": {
     "end_time": "2017-11-08T02:19:58.053954Z",
     "start_time": "2017-11-08T02:19:58.047825Z"
    }
   },
   "outputs": [
    {
     "data": {
      "text/plain": [
       "WordList(['In', 'my', 'younger', 'and', 'more', 'vulnerable', 'years', 'my', 'father', 'gave', 'me', 'some', 'advice', 'that', 'I', \"'ve\", 'been', 'turning', 'over', 'in', 'my', 'mind', 'ever', 'since'])"
      ]
     },
     "execution_count": 28,
     "metadata": {},
     "output_type": "execute_result"
    }
   ],
   "source": [
    "gatsby.sentences[0].words"
   ]
  },
  {
   "cell_type": "markdown",
   "metadata": {},
   "source": [
    "#### Stemming"
   ]
  },
  {
   "cell_type": "code",
   "execution_count": 29,
   "metadata": {
    "ExecuteTime": {
     "end_time": "2017-11-08T02:19:59.248004Z",
     "start_time": "2017-11-08T02:19:59.239583Z"
    }
   },
   "outputs": [
    {
     "name": "stdout",
     "output_type": "stream",
     "text": [
      "are\n",
      "you\n",
      "run\n",
      "in\n",
      "two\n",
      "marathon\n"
     ]
    }
   ],
   "source": [
    "stemmer = nltk.stem.porter.PorterStemmer()\n",
    "for word in TextBlob(\"Are you running in two marathons?\").words:\n",
    "    print(stemmer.stem(word))"
   ]
  },
  {
   "cell_type": "markdown",
   "metadata": {},
   "source": [
    "To see different nltk stemmers in effect:\n",
    "http://text-processing.com/demo/stem/"
   ]
  },
  {
   "cell_type": "code",
   "execution_count": 30,
   "metadata": {
    "ExecuteTime": {
     "end_time": "2017-11-08T02:20:07.893618Z",
     "start_time": "2017-11-08T02:20:07.879428Z"
    }
   },
   "outputs": [
    {
     "name": "stdout",
     "output_type": "stream",
     "text": [
      "             in 2\n",
      "             my 3\n",
      "        younger 1\n",
      "            and 1\n",
      "           more 1\n",
      "     vulnerable 1\n",
      "          years 1\n",
      "         father 1\n",
      "           gave 1\n",
      "             me 2\n",
      "           some 1\n",
      "         advice 1\n",
      "           that 1\n",
      "              i 1\n",
      "             ve 1\n",
      "           been 1\n",
      "        turning 1\n",
      "           over 1\n",
      "           mind 1\n",
      "           ever 1\n",
      "          since 1\n",
      "       whenever 1\n",
      "            you 1\n",
      "           feel 1\n",
      "           like 1\n",
      "    criticizing 1\n",
      "            any 1\n",
      "            one 1\n",
      "             he 1\n",
      "           told 1\n",
      "           blah 3\n"
     ]
    }
   ],
   "source": [
    "for word, count in gatsby.word_counts.items():\n",
    "    print(\"%15s %i\" % (word, count))"
   ]
  },
  {
   "cell_type": "code",
   "execution_count": 31,
   "metadata": {
    "ExecuteTime": {
     "end_time": "2017-11-08T02:20:10.895657Z",
     "start_time": "2017-11-08T02:20:10.880442Z"
    }
   },
   "outputs": [
    {
     "name": "stdout",
     "output_type": "stream",
     "text": [
      "             my 3\n",
      "           blah 3\n",
      "             in 2\n",
      "             me 2\n",
      "        younger 1\n",
      "            and 1\n",
      "           more 1\n",
      "     vulnerable 1\n",
      "          years 1\n",
      "         father 1\n",
      "           gave 1\n",
      "           some 1\n",
      "         advice 1\n",
      "           that 1\n",
      "              i 1\n",
      "             ve 1\n",
      "           been 1\n",
      "        turning 1\n",
      "           over 1\n",
      "           mind 1\n",
      "           ever 1\n",
      "          since 1\n",
      "       whenever 1\n",
      "            you 1\n",
      "           feel 1\n",
      "           like 1\n",
      "    criticizing 1\n",
      "            any 1\n",
      "            one 1\n",
      "             he 1\n",
      "           told 1\n"
     ]
    }
   ],
   "source": [
    "def get_count(item):\n",
    "    return item[1]\n",
    "\n",
    "for word, count in sorted(gatsby.word_counts.items(), key=get_count, reverse=True):\n",
    "    print(\"%15s %i\" % (word, count))"
   ]
  },
  {
   "cell_type": "markdown",
   "metadata": {},
   "source": [
    "### Movie Reviews \n",
    "(without stopwords!)"
   ]
  },
  {
   "cell_type": "code",
   "execution_count": 35,
   "metadata": {
    "ExecuteTime": {
     "end_time": "2017-10-27T15:58:19.881095Z",
     "start_time": "2017-10-27T15:58:19.877158Z"
    },
    "collapsed": true
   },
   "outputs": [],
   "source": [
    "# nltk.download()"
   ]
  },
  {
   "cell_type": "code",
   "execution_count": 32,
   "metadata": {
    "ExecuteTime": {
     "end_time": "2017-11-08T02:20:14.310361Z",
     "start_time": "2017-11-08T02:20:14.197485Z"
    }
   },
   "outputs": [
    {
     "name": "stdout",
     "output_type": "stream",
     "text": [
      "['plot : two teen couples go to a church party , drink and then drive . they get into an accident . one of the guys dies , but his girlfriend continues to see him in her life , and has nightmares . what \\' s the deal ? watch the movie and \" sorta \" find out . . . critique : a mind - fuck movie for the teen generation that touches on a very cool idea , but presents it in a very bad package . which is what makes this review an even harder one to write , since i generally applaud films which attempt to break the mold , mess with your head and such ( lost highway & memento ) , but there are good and bad ways of making all types of films , and these folks just didn \\' t snag this one correctly . they seem to have taken this pretty neat concept , but executed it terribly . so what are the problems with the movie ? well , its main problem is that it \\' s simply too jumbled . it starts off \" normal \" but then downshifts into this \" fantasy \" world in which you , as an audience member , have no idea what \\' s going on . there are dreams , there are characters coming back from the dead , there are others who look like the dead , there are strange apparitions , there are disappearances , there are a looooot of chase scenes , there are tons of weird things that happen , and most of it is simply not explained . now i personally don \\' t mind trying to unravel a film every now and then , but when all it does is give me the same clue over and over again , i get kind of fed up after a while , which is this film \\' s biggest problem . it \\' s obviously got this big secret to hide , but it seems to want to hide it completely until its final five minutes . and do they make things entertaining , thrilling or even engaging , in the meantime ? not really . the sad part is that the arrow and i both dig on flicks like this , so we actually figured most of it out by the half - way point , so all of the strangeness after that did start to make a little bit of sense , but it still didn \\' t the make the film all that more entertaining . i guess the bottom line with movies like this is that you should always make sure that the audience is \" into it \" even before they are given the secret password to enter your world of understanding . i mean , showing melissa sagemiller running away from visions for about 20 minutes throughout the movie is just plain lazy ! ! okay , we get it . . . there are people chasing her and we don \\' t know who they are . do we really need to see it over and over again ? how about giving us different scenes offering further insight into all of the strangeness going down in the movie ? apparently , the studio took this film away from its director and chopped it up themselves , and it shows . there might \\' ve been a pretty decent teen mind - fuck movie in here somewhere , but i guess \" the suits \" decided that turning it into a music video with little edge , would make more sense . the actors are pretty good for the most part , although wes bentley just seemed to be playing the exact same character that he did in american beauty , only in a new neighborhood . but my biggest kudos go out to sagemiller , who holds her own throughout the entire film , and actually has you feeling her character \\' s unraveling . overall , the film doesn \\' t stick because it doesn \\' t entertain , it \\' s confusing , it rarely excites and it feels pretty redundant for most of its runtime , despite a pretty cool ending and explanation to all of the craziness that came before it . oh , and by the way , this is not a horror or teen slasher flick . . . it \\' s just packaged to look that way because someone is apparently assuming that the genre is still hot with the kids . it also wrapped production two years ago and has been sitting on the shelves ever since . whatever . . . skip it ! where \\' s joblo coming from ? a nightmare of elm street 3 ( 7 / 10 ) - blair witch 2 ( 7 / 10 ) - the crow ( 9 / 10 ) - the crow : salvation ( 4 / 10 ) - lost highway ( 10 / 10 ) - memento ( 10 / 10 ) - the others ( 9 / 10 ) - stir of echoes ( 8 / 10 )']\n"
     ]
    }
   ],
   "source": [
    "import nltk\n",
    "from textblob import TextBlob\n",
    "from nltk.corpus import movie_reviews\n",
    "\n",
    "fileids = movie_reviews.fileids()[:100]\n",
    "\n",
    "doc_words = [movie_reviews.words(fileid) for fileid in fileids]\n",
    "documents = [' '.join(words) for words in doc_words]\n",
    "print(documents[0:1])"
   ]
  },
  {
   "cell_type": "code",
   "execution_count": 40,
   "metadata": {
    "ExecuteTime": {
     "end_time": "2017-11-08T02:22:38.790342Z",
     "start_time": "2017-11-08T02:22:38.776203Z"
    }
   },
   "outputs": [
    {
     "name": "stdout",
     "output_type": "stream",
     "text": [
      "['plot : two teen couples go to a church party , drink and then drive . they get into an accident . one of the guys dies , but his girlfriend continues to see him in her life , and has nightmares . what \\' s the deal ? watch the movie and \" sorta \" find out . . . critique : a mind - fuck movie for the teen generation that touches on a very cool idea , but presents it in a very bad package . which is what makes this review an even harder one to write , since i generally applaud films which attempt to break the mold , mess with your head and such ( lost highway & memento ) , but there are good and bad ways of making all types of films , and these folks just didn \\' t snag this one correctly . they seem to have taken this pretty neat concept , but executed it terribly . so what are the problems with the movie ? well , its main problem is that it \\' s simply too jumbled . it starts off \" normal \" but then downshifts into this \" fantasy \" world in which you , as an audience member , have no idea what \\' s going on . there are dreams , there are characters coming back from the dead , there are others who look like the dead , there are strange apparitions , there are disappearances , there are a looooot of chase scenes , there are tons of weird things that happen , and most of it is simply not explained . now i personally don \\' t mind trying to unravel a film every now and then , but when all it does is give me the same clue over and over again , i get kind of fed up after a while , which is this film \\' s biggest problem . it \\' s obviously got this big secret to hide , but it seems to want to hide it completely until its final five minutes . and do they make things entertaining , thrilling or even engaging , in the meantime ? not really . the sad part is that the arrow and i both dig on flicks like this , so we actually figured most of it out by the half - way point , so all of the strangeness after that did start to make a little bit of sense , but it still didn \\' t the make the film all that more entertaining . i guess the bottom line with movies like this is that you should always make sure that the audience is \" into it \" even before they are given the secret password to enter your world of understanding . i mean , showing melissa sagemiller running away from visions for about 20 minutes throughout the movie is just plain lazy ! ! okay , we get it . . . there are people chasing her and we don \\' t know who they are . do we really need to see it over and over again ? how about giving us different scenes offering further insight into all of the strangeness going down in the movie ? apparently , the studio took this film away from its director and chopped it up themselves , and it shows . there might \\' ve been a pretty decent teen mind - fuck movie in here somewhere , but i guess \" the suits \" decided that turning it into a music video with little edge , would make more sense . the actors are pretty good for the most part , although wes bentley just seemed to be playing the exact same character that he did in american beauty , only in a new neighborhood . but my biggest kudos go out to sagemiller , who holds her own throughout the entire film , and actually has you feeling her character \\' s unraveling . overall , the film doesn \\' t stick because it doesn \\' t entertain , it \\' s confusing , it rarely excites and it feels pretty redundant for most of its runtime , despite a pretty cool ending and explanation to all of the craziness that came before it . oh , and by the way , this is not a horror or teen slasher flick . . . it \\' s just packaged to look that way because someone is apparently assuming that the genre is still hot with the kids . it also wrapped production two years ago and has been sitting on the shelves ever since . whatever . . . skip it ! where \\' s joblo coming from ? a nightmare of elm street 3 ( 7 / 10 ) - blair witch 2 ( 7 / 10 ) - the crow ( 9 / 10 ) - the crow : salvation ( 4 / 10 ) - lost highway ( 10 / 10 ) - memento ( 10 / 10 ) - the others ( 9 / 10 ) - stir of echoes ( 8 / 10 )', 'the happy bastard \\' s quick movie review damn that y2k bug . it \\' s got a head start in this movie starring jamie lee curtis and another baldwin brother ( william this time ) in a story regarding a crew of a tugboat that comes across a deserted russian tech ship that has a strangeness to it when they kick the power back on . little do they know the power within . . . going for the gore and bringing on a few action sequences here and there , virus still feels very empty , like a movie going for all flash and no substance . we don \\' t know why the crew was really out in the middle of nowhere , we don \\' t know the origin of what took over the ship ( just that a big pink flashy thing hit the mir ) , and , of course , we don \\' t know why donald sutherland is stumbling around drunkenly throughout . here , it \\' s just \" hey , let \\' s chase these people around with some robots \" . the acting is below average , even from the likes of curtis . you \\' re more likely to get a kick out of her work in halloween h20 . sutherland is wasted and baldwin , well , he \\' s acting like a baldwin , of course . the real star here are stan winston \\' s robot design , some schnazzy cgi , and the occasional good gore shot , like picking into someone \\' s brain . so , if robots and body parts really turn you on , here \\' s your movie . otherwise , it \\' s pretty much a sunken ship of a movie .', \"it is movies like these that make a jaded movie viewer thankful for the invention of the timex indiglo watch . based on the late 1960 ' s television show by the same name , the mod squad tells the tale of three reformed criminals under the employ of the police to go undercover . however , things go wrong as evidence gets stolen and they are immediately under suspicion . of course , the ads make it seem like so much more . quick cuts , cool music , claire dane ' s nice hair and cute outfits , car chases , stuff blowing up , and the like . sounds like a cool movie , does it not ? after the first fifteen minutes , it quickly becomes apparent that it is not . the mod squad is certainly a slick looking production , complete with nice hair and costumes , but that simply isn ' t enough . the film is best described as a cross between an hour - long cop show and a music video , both stretched out into the span of an hour and a half . and with it comes every single clich ? . it doesn ' t really matter that the film is based on a television show , as most of the plot elements have been recycled from everything we ' ve already seen . the characters and acting is nothing spectacular , sometimes even bordering on wooden . claire danes and omar epps deliver their lines as if they are bored , which really transfers onto the audience . the only one to escape relatively unscathed is giovanni ribisi , who plays the resident crazy man , ultimately being the only thing worth watching . unfortunately , even he ' s not enough to save this convoluted mess , as all the characters don ' t do much apart from occupying screen time . with the young cast , cool clothes , nice hair , and hip soundtrack , it appears that the film is geared towards the teenage mindset . despite an american ' r ' rating ( which the content does not justify ) , the film is way too juvenile for the older mindset . information on the characters is literally spoon - fed to the audience ( would it be that hard to show us instead of telling us ? ) , dialogue is poorly written , and the plot is extremely predictable . the way the film progresses , you likely won ' t even care if the heroes are in any jeopardy , because you ' ll know they aren ' t . basing the show on a 1960 ' s television show that nobody remembers is of questionable wisdom , especially when one considers the target audience and the fact that the number of memorable films based on television shows can be counted on one hand ( even one that ' s missing a finger or two ) . the number of times that i checked my watch ( six ) is a clear indication that this film is not one of them . it is clear that the film is nothing more than an attempt to cash in on the teenage spending dollar , judging from the rash of really awful teen - flicks that we ' ve been seeing as of late . avoid this film at all costs .\", '\" quest for camelot \" is warner bros . \\' first feature - length , fully - animated attempt to steal clout from disney \\' s cartoon empire , but the mouse has no reason to be worried . the only other recent challenger to their throne was last fall \\' s promising , if flawed , 20th century fox production \" anastasia , \" but disney \\' s \" hercules , \" with its lively cast and colorful palate , had her beat hands - down when it came time to crown 1997 \\' s best piece of animation . this year , it \\' s no contest , as \" quest for camelot \" is pretty much dead on arrival . even the magic kingdom at its most mediocre -- that \\' d be \" pocahontas \" for those of you keeping score -- isn \\' t nearly as dull as this . the story revolves around the adventures of free - spirited kayley ( voiced by jessalyn gilsig ) , the early - teen daughter of a belated knight from king arthur \\' s round table . kayley \\' s only dream is to follow in her father \\' s footsteps , and she gets her chance when evil warlord ruber ( gary oldman ) , an ex - round table member - gone - bad , steals arthur \\' s magical sword excalibur and accidentally loses it in a dangerous , booby - trapped forest . with the help of hunky , blind timberland - dweller garrett ( carey elwes ) and a two - headed dragon ( eric idle and don rickles ) that \\' s always arguing with itself , kayley just might be able to break the medieval sexist mold and prove her worth as a fighter on arthur \\' s side . \" quest for camelot \" is missing pure showmanship , an essential element if it \\' s ever expected to climb to the high ranks of disney . there \\' s nothing here that differentiates \" quest \" from something you \\' d see on any given saturday morning cartoon -- subpar animation , instantly forgettable songs , poorly - integrated computerized footage . ( compare kayley and garrett \\' s run - in with the angry ogre to herc \\' s battle with the hydra . i rest my case . ) even the characters stink -- none of them are remotely interesting , so much that the film becomes a race to see which one can out - bland the others . in the end , it \\' s a tie -- they all win . that dragon \\' s comedy shtick is awfully cloying , but at least it shows signs of a pulse . at least fans of the early -\\' 90s tgif television line - up will be thrilled to find jaleel \" urkel \" white and bronson \" balki \" pinchot sharing the same footage . a few scenes are nicely realized ( though i \\' m at a loss to recall enough to be specific ) , and the actors providing the voice talent are enthusiastic ( though most are paired up with singers who don \\' t sound a thing like them for their big musical moments -- jane seymour and celine dion ? ? ? ) . but one must strain through too much of this mess to find the good . aside from the fact that children will probably be as bored watching this as adults , \" quest for camelot \" \\' s most grievous error is its complete lack of personality . and personality , we learn from this mess , goes a very long way .', 'synopsis : a mentally unstable man undergoing psychotherapy saves a boy from a potentially fatal accident and then falls in love with the boy \\' s mother , a fledgling restauranteur . unsuccessfully attempting to gain the woman \\' s favor , he takes pictures of her and kills a number of people in his way . comments : stalked is yet another in a seemingly endless string of spurned - psychos - getting - their - revenge type movies which are a stable category in the 1990s film industry , both theatrical and direct - to - video . their proliferation may be due in part to the fact that they \\' re typically inexpensive to produce ( no special effects , no big name stars ) and serve as vehicles to flash nudity ( allowing them to frequent late - night cable television ) . stalked wavers slightly from the norm in one respect : the psycho never actually has an affair ; on the contrary , he \\' s rejected rather quickly ( the psycho typically is an ex - lover , ex - wife , or ex - husband ) . other than that , stalked is just another redundant entry doomed to collect dust on video shelves and viewed after midnight on cable . stalked does not provide much suspense , though that is what it sets out to do . interspersed throughout the opening credits , for instance , a serious - sounding narrator spouts statistics about stalkers and ponders what may cause a man to stalk ( it \\' s implicitly implied that all stalkers are men ) while pictures of a boy are shown on the screen . after these credits , a snapshot of actor jay underwood appears . the narrator states that \" this is the story of daryl gleason \" and tells the audience that he is the stalker . of course , really , this is the story of restauranteur brooke daniels . if the movie was meant to be about daryl , then it should have been called stalker not stalked . okay . so we know who the stalker is even before the movie starts ; no guesswork required . stalked proceeds , then , as it begins : obvious , obvious , obvious . the opening sequence , contrived quite a bit , brings daryl and brooke ( the victim ) together . daryl obsesses over brooke , follows her around , and tries to woo her . ultimately rejected by her , his plans become more and more desperate and elaborate . these plans include the all - time , psycho - in - love , cliche : the murdered pet . for some reason , this genre \\' s films require a dead pet to be found by the victim stalked . stalked is no exception ( it \\' s a cat this time -- found in the shower ) . events like these lead to the inevitable showdown between stalker and stalked , where only one survives ( guess who it invariably always is and you \\' ll guess the conclusion to this turkey ) . stalked \\' s cast is uniformly adequate : not anything to write home about but also not all that bad either . jay underwood , as the stalker , turns toward melodrama a bit too much . he overdoes it , in other words , but he still manages to be creepy enough to pass as the type of stalker the story demands . maryam d \\' abo , about the only actor close to being a star here ( she played the bond chick in the living daylights ) , is equally adequate as the \" stalked \" of the title , even though she seems too ditzy at times to be a strong , independent business - owner . brooke ( d \\' abo ) needs to be ditzy , however , for the plot to proceed . toward the end , for example , brooke has her suspicions about daryl . to ensure he won \\' t use it as another excuse to see her , brooke decides to return a toolbox he had left at her place to his house . does she just leave the toolbox at the door when no one answers ? of course not . she tries the door , opens it , and wanders around the house . when daryl returns , he enters the house , of course , so our heroine is in danger . somehow , even though her car is parked at the front of the house , right by the front door , daryl is oblivious to her presence inside . the whole episode places an incredible strain on the audience \\' s suspension of disbelief and questions the validity of either character \\' s intelligence . stalked receives two stars because , even though it is highly derivative and somewhat boring , it is not so bad that it cannot be watched . rated r mostly for several murder scenes and brief nudity in a strip bar , it is not as offensive as many other thrillers in this genre are . if you \\' re in the mood for a good suspense film , though , stake out something else .', 'capsule : in 2176 on the planet mars police taking into custody an accused murderer face the title menace . there is a lot of fighting and not a whole lot of story otherwise . john carpenter reprises so many ideas from his previous films , especially assault on precinct 13 , that the new film comes off as his homage to himself . , 0 ( - 4 to + 4 ) . john carpenter apparently believes that action scenes in which people fight something horrible are the same as horror scenes . for a writer and director of horror films , supposedly an expert on horror , it is a very bad mistake to make . ghosts of mars is called a horror movie , but it is more just a drawn out fight between humans and a surprisingly low - powered alien menace . in addition if anybody but john carpenter had made ghosts of mars , carpenter would have grounds to sue . this film is just chock full of pieces taken from assault on precinct 13 , the thing , and prince of darkness . it is , in fact , surprising that carpenter managed to fit so many pieces of his previous work into this film in such an admittedly novel way . but that still does not make for a really good science fiction experience . ghosts of mars takes place in the year 2176 . mars has been mostly terraformed so that humans can walk on the surface without breathing gear ( which is good for the film \\' s budget ) . it is never mentioned , but the gravity on mars has been increased somehow to earth - normal , again making it easier to film . society has changed a bit by that time , but it has advanced surprisingly little . apparently the culture has changed so that women are much more in positions of control . and from carpenter \\' s view , women have really made a mess of things . society has stagnated under female control so that beyond some minor technological advances society has changed less in 175 years than we might expect it to change in ten . the basic plot of ghosts of mars has much in common with that of assault on precinct 13 except that precinct 9 ( yes , precinct 9 ) has been replaced by a somewhat tacky looking rundown martian mining colony . instead of having the criminal \" napolean \" wilson , this film has the criminal \" desolation \" williams . instead of facing hoodlums with automatic weapons the police face , well , ghosts of mars . because the ghosts are somewhat alien in nature they should behave in some alien manner , but they essentially behave as human savages , in another lapse of imagination . the story is told in flashback , flashback within flashback , and flashback within flashback within flashback . ghosts of mars takes place entirely at night and is filmed almost entirely in tones of red , yellow , and black . carpenter manages to give us a powerful opening scene , showing a mining train rushing through the martian night to the sound of music with a heavy beat . sadly what follows is not really up to the buildup . the terror he creates looks a little too much like fugitive wannabes from the rock band kiss . his idea of building suspense is having a bunch of sudden jump scenes that sucker the viewer into thinking something scary is happening and then prove to be just something boring . these are standard haunted house film shock effects that require no great talent to give the audience . somewhat newer but also unimpressive are the cgi digital decapitations in some of the fights . within a short stretch of time we have seen the release of mission to mars , red planet , and ghosts of mars . after mission to mars was panned by too many reviewers it looks better and better and better as time goes by . i rate ghosts of mars a 4 on the 0 to 10 scale and a 0 on the - 4 to + 4 scale . following the movie i showed my wife , who liked ghosts of mars moderately more than i did , carpenter \\' s classic assault on precinct 13 . her comment is that it was seeing the same film twice .', 'so ask yourself what \" 8mm \" ( \" eight millimeter \" ) is really all about . is it about a wholesome surveillance man who loses sight of his values after becoming enmeshed in the seedy , sleazy underworld of hardcore pornography ? is it about the business itself , how , bubbling just beneath the surface of big - town americana , there \\' s a sordid world of sick and depraved people who won \\' t necessarily stop short of murder in order to satisfy their sick and twisted desires ? or is it about those who can , those who are in a position to influence the making of the kinds of films sick and demented people want to see ? i \\' m not talking about snuff films , supposed \" documentaries \" of victims being brutalized and killed on camera . i \\' m talking about films like \" 8mm \" and its director , joel schumacher . with a recent run of big budget movies to his credit -- \" batman & robin , \" \" a time to kill , \" \" batman forever , \" \" the client \" -- schumacher certainly has that kind of influence . is \" 8mm \" something you really want to see ? probably not . the first two - thirds of \" 8mm \" unwind as a fairly conventional missing persons drama , albeit with a particularly unsavory core . then , as it \\' s been threatening all along , the film explodes into violence . and just when you think it \\' s finally over , schumacher tags on a ridiculous self - righteous finale that drags the whole unpleasant experience down even further . trust me . there are better ways to waste two hours of your life . nicolas \\' \" snake eyes \" \\' cage plays private investigator tom welles who is hired by a wealthy philadelphia widow to determine whether a reel of film found in her late husband \\' s safe documents a young girl \\' s murder . welles goes about his assignment rather matter - of - factly , and the pieces of the puzzle fall into place rather neatly , almost as if you don \\' t need any specialized skills or training to do this . welles certainly makes it look easy . and cops , obviously , never look in toilet tanks for clues . the deeper welles digs into his investigation the more obsessed he becomes , like george c . scott in paul schrader \\' s \" hardcore . \" occasionally , a little flickering sound whirs in his head like sprockets winding through a film projector , reminding him of his unpleasant task . there are hints that this is taking its toll on his lovely wife , played by catherine keener , who is frustrated by her husband spending all of his time in cleveland rather than in their ugly split - level home in harrisburg , pa . \" 8mm \" doesn \\' t condemn or condone its subject matter , it just exploits it . the irony , of course , is that schumacher and \" seven \" scribe andrew kevin walker \\' s vision of life in the snuff lane is limited by what they can show in an r - rated , first - run hollywood product . so we only see snippets of snuff , and a lot more footage of nicolas cage covering his face in horror . later it \\' s the turn of joaquin phoenix ( who \\' s quite good and by far the film \\' s most interesting character as adult bookstore flunky max california ) to cover his face as the horrid thing is screened over and over again . all this to get to the familiar yet offensive \" revelation \" that sexual deviants are not , indeed , monsters but everyday people like you and me . neither super nor standard , \" 8mm \" is shocking only in its banality .', 'that \\' s exactly how long the movie felt to me . there weren \\' t even nine laughs in nine months . it \\' s a terrible mess of a movie starring a terrible mess of a man , mr . hugh grant , a huge dork . it \\' s not the whole oral - sex / prostitution thing ( referring to grant , not me ) that bugs me , it \\' s the fact that grant is annoying . not just adam sandler - annoying , we \\' re talking jim carrey - annoying . since when do eye flutters and nervous smiles pass for acting ? but , on the other hand , since when do really bad slapstick ( a fistfight in the delivery room culminating in grant \\' s head in joan cusack \\' s lap -- a scene he paid $ 60 to have included in the movie ) and obscene double entendres ( robin williams , the obstetrician , tells grant \\' s pregnant girlfriend she has \" a big pussy , \" referring of course to the size of the cat hairs on her coat , but nonetheless , grant paid $ 60 to have the exchange included in the movie ) pass for comedy ? nine months is a predictable cookie - cutter movie with no originality in humor or plot . hugh grant plays a successful child psychiatrist . why a child psychologist ? so the scriptwriters could inject the following unfunny exchange : kid : my dad \\' s an asshole . grant ( flutters eyelashes , offers a nervous smile , then responds in his annoying english accent and i - think - i - actually - have - talent attitude ) : could you possibly elaborate on that ? kid : my dad \\' s a _huge_ asshole . more like a hugh asshole , but that \\' s beside the point , which is : nine months includes too many needlessly stupid jokes that get laughs from the ten year olds in the audience while everyone else shakes his or her head in disbelief . so , anyway , grant finds out his girlfriend is pregnant and does his usual reaction ( fluttered eyelashes , nervous smiles ) . this paves the way for every possible pregnancy / child birth gag in the book , especially since grant \\' s equally annoying friend \\' s wife is also pregnant . the annoying friend is played by tom arnold , who provides most of the cacophonous slapstick , none of which is funny , such as a scene where arnold beats up a costumed \" arnie the dinosaur \" ( you draw your own parallels on that one ) in a toy store . the only interesting character in the movie is played by jeff goldblum , who should have hid himself away somewhere after the dreadful hideaway , as an artist with a fear of ( and simultaneous longing for ) commitment . not even robin williams , who plays a russian doctor who has recently decided to switch from veterinary medicine to obstetrics , has much humor . his is a one - joke character -- the old foreign - guy - who - mispronounces - english stereotype ( did someone say yakov smirnov ? that \\' s my favorite vodka , by the way ) , hence the line \" now it \\' s time to take a look at your volvo , \" another nasty but unamusing joke , except this one goes right over the ten year olds \\' heads , while the adults simultaneously groan . nine months is a complete failure , low on laughs and intelligence and high on loud , unfunny slapstick , failed jokes and other uninspired lunacy . hugh grant \\' s sunset boulevard arrest ( please , no caught - with - his - pants - down jokes ) may bring more people into the theaters , but they certainly won \\' t leave with a smile on their faces , not after 90 minutes of grant \\' s nervous smiles . everything in the movie is so forced , so unauthentic that anyone with an i . q . over 80 ( sorry , hugh ) will know they wasted their money on an unfulfilled desire . but at least they didn \\' t spend 60 bucks for it .', 'call it a road trip for the walking wounded . stellan skarsg ? rd plays such a convincingly zombified drunken loser that it \\' s difficult to spend nearly two hours of screen time in his smelly , boozed - out presence . yet this ever - reliable swedish actor adds depth and significance to the otherwise plodding and forgettable aberdeen , a sentimental and painfully mundane european drama . playwright august strindberg built his career on families and relationships paralyzed by secrets , unable to express their longings until the hour is far too late . that \\' s an accurate reflection of what aberdeen strives for , focusing on the pairing of an alcoholic father , tomas ( skarsg ? rd ) and his alienated , openly hostile yuppie daughter , kaisa ( lena headey , gossip ) . they haven \\' t spoken in years , and wouldn \\' t even be making the long trip from norway to aberdeen , scotland by automobile if it weren \\' t for kaisa \\' s mother ( charlotte rampling , under the sand ) rotting away in a hospital bed from cancer . in a soap opera twist , mother has only a few days to live . ( only in the movies , right ? ) too blitzed to even step foot on a plane , tomas hits the open road with kaisa . loathing each other all the while , they make periodic stops for tomas to puke on the dashboard or pass out -- whenever he isn \\' t muttering what a rotten kid she turned out to be . despite his sloshed viewpoint , tomas recognizes that the apple hasn \\' t fallen very far from the tree . kaisa gets nosebleeds from snorting coke , sabotages her personal relationships through indifference , and is unable to restrain her quick and vindictive temper . ain \\' t they a pair ? unable to find true notes of unspoken familial empathy in the one - note and repetitively bitchy dialogue , screenwriters kristin amundsen and hans petter moland fabricate a series of contrivances to propel events forward -- lost money , roving street hooligans looking for drunks to kick around , nosy cops , and flat tires all figure into the schematic and convenient narrative . by the time they reach the hospital , it \\' s time to unveil the secrets from a dark past that are not only simplistic devices that trivialize the father - daughter conflict , they \\' re also the mainstays of many a bad strindberg wannabe . this revelation exists purely for its own sake . aberdeen doesn \\' t know where else to go . weak , unimaginative casting thwarts the pivotal role of kaisa . if lena headey were a stronger actress , perhaps aberdeen could have been able to coast on the performances and moody , haunting cinematography ( rendering norway into its own pastoral ghost world -- the reference to a certain superior american indie flick intentional ) . headey \\' s too busy acting , using her face and furrowed brow to convey every last twitch of insouciance . if she were paying any attention to skarsg ? rd , maybe she \\' d figure out that doing less can reveal so much more . it \\' s worthwhile to compare aberdeen to an earlier film released in 2001 , jonathan nossiter \\' s captivating signs & wonders . it \\' s not just because skarsg ? rd and rampling played disturbed parental figures in both films ( they \\' re not bound by ceremonial wedlock in aberdeen ) . the differences in the way their characters were presented is significant . in aberdeen , rampling is a luminous diva , preening and static in her hospital bed . despite skarsg ? rd \\' s solid performance as tomas , his pathetic drunk is never given much of a chance to emote anything besides catatonic sorrow . there \\' s genuine ferocity and sexually charged frisson during their understated confrontations in signs & wonders , allowing them to suggest a gray zone of complications that accompany torn romance and years of stifled curiosity . nossiter \\' s film thoroughly explores this neurotic territory in addition to delving into the americanization of greece and the use of mysticism as an illusion to deflect pain . if signs & wonders sometimes feels overloaded with ideas , at least it \\' s willing to stretch beyond what we \\' ve come to expect from traditional drama . aberdeen is never half so ambitious , content to sleepwalk through the rhythms and timing of other movies . when did character driven stories stop paying attention to the complexities of real life ? the depressing answer can be found in lawrence kasdan \\' s trite but occasionally useful grand canyon , where steve martin \\' s hollywood mogul pronounces , \" all of life \\' s riddles are answered in the movies ! \" even foreign films are taking that advice to heart .', 'plot : a young french boy sees his parents killed before his eyes by tim roth , oops . . . i mean , an evil man . he vows revenge on that man and is taught the ways of the musketeer by some old dude who used to be one himself ? anyway , fourteen years go by and . . . arrgh , well , you know the rest . . . swish - swish - zzzzzzz ! critique : this is a pretty bad movie . let \\' s see , where should i start ? okay , first of all , the story is just plain boring . it \\' s not original , is entirely predictable and lacks energy . okay , what \\' s next ? acting , you say . hmmmm , well , the main actor , justin chambers , is basically an uncharismatic version of chris o \\' donnell but with less range ( think about that ! ) , and mena suvari , is just plain off . not as bad as thora birch was in dungeons & dragons , but entirely miscast , with bad deliveries , awful sequences and a piss - poor accent that comes and goes . now i \\' m not sure if this was ms . suvari \\' s fault or the director \\' s , but i \\' ve definitely seen her at a much higher level than in this film . the only semi - saving grace actor - wise is tim roth as the irrepressible \" bad guy \" , but once again , it \\' s not something that we haven \\' t seen before . . . a thousand times . . . by the same guy ! ! tim , please . . . for the love of god , beg your agent to ask the marketplace for some modern day \" american roles \" for you as a \" nice guy \" in a romantic comedy or something . stretch , dude . . . stretch ! ! we all know that you can do much better than this gunk . alright , what else was bad in this film ? oh yeah , the score ! yikes , how \\' s about taking it down a few notches there , fellas ? this thing blares in your ear whenever it feels the need to accentuate a certain scene , but actually does little more than annoy . i think it \\' s important for the man behind the music to recognize that this film isn \\' t a \" real epic \" by any stretch of the imagination . it \\' s a fluffy rehashed cake - walk created by some \" shrewd \" studio heads who decided to take advantage of the whole \" kung - fu \" phenomenon in films , and test it out on an old classic . dudes . . . you failed all around ! ( keep reading ) the editing is also pretty shoddy in this movie , the dialogue banal and stilted and the plot problems . . . plentiful ! ( why does the guy on top of the horse carriage just stand there when his opponent takes forever scampering his way back to the top ? why don \\' t they just cut the mouseketeer \\' s rope at the top of the tower , instead of jumping down on their own chords and fighting him while hanging ? why doesn \\' t anybody look a day older , when the sequence says \" 14 years later \" ? ( at least . . . change your shirt , man ! ) keep in mind that i have never strayed away from championing certain movies that are created simply for the sake of a \" fun time \" , but this flick just didn \\' t cut it for me . it was boring for stretches , the acting was atrocious at times ( the \" romantic \" scene between suvari and chambers next to the lake reminded me of plays in high school which made you cringe ) , there was little reason to care for anyone and since when were the musketeers fat ? i will give the movie this much , and that is that its main reason for being ( its \" raison - d \\' etre \" , as the french would say ) , its fight sequences , do come through despite the lack of their numbers in the film . i was hoping that the movie would be packed with cool stuntwork as promoted in its trailer , but what you see there , are essentially the snippets from the two major ( and cool ) swashbuckling sequences from the film . the first comes right at the beginning of the movie , while the other essentially finishes the film off , hanging from the tower and juggling off ladders . the ladder sequence itself is a definite keeper but unfortunately the rest of the movie is just regurgitated crap . and can anyone please tell me how catherine deneuve got her name placed at the top of this film \\' s credits ? hullo ? the film is called the musketeer and stars a dude name justin chambers . deneuve is barely in this movie ! ugh , just another small thing that annoyed me about this trash . now say it together , gang : \" all for one , and one for all . . . we vow to stay away from it all ! ! \" thank me later . where \\' s joblo coming from ? a knight \\' s tale ( 7 / 10 ) - american outlaws ( 5 / 10 ) - crouching tiger , hidden dragon ( 7 / 10 ) - the matrix ( 8 / 10 ) - the replacement killers ( 6 / 10 ) - romeo must die ( 3 / 10 ) - shanghai noon ( 6 / 10 )', \"best remembered for his understated performance as dr . hannibal lecter in michael mann ' s forensics thriller , manhunter , scottish character actor brian cox brings something special to every movie he works on . usually playing a bit role in some studio schlock ( he dies halfway through the long kiss goodnight ) , he ' s only occasionally given something meaty and substantial to do . if you want to see some brilliant acting , check out his work as a dogged police inspector opposite frances mcdormand in ken loach ' s hidden agenda . cox plays the role of big john harrigan in the disturbing new indie flick l . i . e . , which lot 47 picked up at sundance when other distributors were scared to budge . big john feels the love that dares not speak its name , but he expresses it through seeking out adolescents and bringing them back to his pad . what bothered some audience members was the presentation of big john in an oddly empathetic light . he ' s an even - tempered , funny , robust old man who actually listens to the kids ' problems ( as opposed to their parents and friends , both caught up in the high - wire act of their own confused lives . ) he ' ll have sex - for - pay with them only after an elaborate courtship , charming them with temptations from the grown - up world . l . i . e . stands for long island expressway , which slices through the strip malls and middle - class homes of suburbia . filmmaker michael cuesta uses it as a ( pretty transparent ) metaphor of dangerous escape for his 15 - year old protagonist , howie ( paul franklin dano ) . in his opening voice - over , howie reveals a morbid preoccupation with death on the road , citing the l . i . e . highway deaths of filmmaker alan j . pakula , songwriter harry chapin , and his own mother on exit 52 . he ' s both fascinated and disturbed by the l . i . e . , and those feelings are projected onto big john ( who follows howie around in his bright red car , but never makes a move to force the boy to do something he doesn ' t want to do . this makes him much more complex than the usual child molesters seen in movies -- he ' s a beast , but ashamed of it . ) l . i . e . would have worked best as a half - hour short film about howie ' s ill - advised foray into big john ' s haven . there is unnecessary padding with howie ' s miserable dad ( bruce altman ) in the hot seat for a white - collar crime , degenerate youngsters who get their kicks from robbing middle - class houses , and some homoerotic shenanigans with wise - ass gary terrio ( billy kay ) , a handsome artful dodger . rather than add to the themes of suburban ennui ( not that we needed another movie on that subject ) , these awkward subplots pad out the running time to adequate feature length . concurrently , the relationship between howie and big john is evenly paced and exceptionally well acted . cox , sporting a baseball cap and a faded marine tattoo , is all bluff and bluster . dano is quiet and at first glance seems so withdrawn as to be transparent . we ' re so used to child actors whose dramatic choices are broad and obvious ( calling haley joel ! ) , it ' s surprising to see one who actually listens throughout any given scene . the restraint is admirable . but l . i . e . ' s screenplay doesn ' t always give them the best material . when howie reads big john a walt whitman poem , the moment feels a bit too precious . director michael cuesta lingers on an ecstatic reaction shot of big john , who may as well be hearing glenn gould performing bach ' s goldberg variations . it ' s too much . there are also some obvious dramatic contrivances involving big john ' s other boy toy ( walter masterson ) , jealous over the newbie . this plot thread predictably leads to violence . not content to be a haunting , observational portrait of teen alienation in a royally screwed up world ( like terry zwigoff ' s superb ghost world ) , cuesta lacks the confidence in his own work to end on an ambivalent note . it ' s typical of unimaginative cinema to wrap things up with a bullet , sparing the writers from actually having to come up with a complex , philosophical note . in this regard , l . i . e . ( and countless other indie films ) share something in common with blockbuster action films : problems are solved when the obstacle is removed . how often does real life work this way ? to extend the question : if a movie is striving for realism , do dramatic contrivances destroy the illusion ?\", 'janeane garofalo in a romantic comedy -- it was a good idea a couple years ago with the truth about cats and dogs but is almost excruciating in the matchmaker . this is a by - the - books movie that plods along on a predestined course with no surprises and very few laughs . it also jumps on the ever - popular political satire bandwagon and manages to fall flat there , too . garofalo plays a campaign aide to a massacusetts senator ( jay o . sanders ) running for reelection . denis leary plays the stereotypical strategist with no ethics who decides the only way for the scandal - plagued senator to win is to play up his irish roots and cash in on that boston roman catholic democrat contingent that \\' s made the kennedy family so popular . so leary orders garofalo to go to ireland and dig up some relatives to exploit . she soon learns why \" easier said than done \" is the mantra of movies like this . the matchmaker falls for every cliche of things that can go wrong -- garofalo has to take a tiny plane to ireland , almost misses the bus to town , can \\' t get a hotel room , ends up in the smallest , trashiest one around , has a dog piss on her luggage , and so on . then comes what roger ebert calls the \" meet cute . \" it happens in every romance : the man and woman have to meet each other for the first time in some unconventional , cinematic way . in the matchmaker , it happens when garofalo walks into her hotel bathroom and finds a nude sean ( david o \\' hara ) in the bathtub , his dog sitting at his side . no points for guessing it \\' s the same dog that just made water on her luggage . also no points for guessing garofalo hates o \\' hara on sight . that \\' s how it works in movies like these . i know from the instant i saw that irishman in the bathtub that she \\' d hate him for awhile , then succumb to his charms , live happily for a reel or so before allowing some superficial detail to throw the relationship into turmoil , after which they \\' d reconcile in time for a happy irish tune to play over the end credits . i haven \\' t mentioned the movie \\' s twist yet . garofalo comes to the small ireland town during the annual matchmaking festival , during which lonely folks from around the county pair off into a future of bliss . milo o \\' shea ( who looks like an irish tom snyder ) is the matchmaker who pops onscreen occasionally to spew his words of wisdom and bring lonely souls together . rest assured he \\' ll do all he can to match up garofalo and o \\' hara . oh , and in keeping with the matchmaker \\' s utter predictability , he dies toward the end . what the message here ? sometimes even the most respectable person of comedic distinction , like garofalo , will sell out with a weak script . i was excited to see garofalo and leary in the same movie , but they actually only have two or three scenes together . leary stays stateside , for the most part , yelling at garofalo over the phone and generally being an asshole . he even undoes himself with the old microphone \\' s still on after he \\' s done giving the speech cliche . both of them should have known better .', \"and now the high - flying hong kong style of filmmaking has made its way down to the classics , and it isn ' t pretty . this time out the nod to asia goes by way of france in the excruciating bland and lukewarm production of the musketeer , a version of dumas ' s the three musketeers . by bringing in popular asian actor / stunt coordinator xing xing xiong -- whose only prior american attempts at stunt choreography have been the laughable van damme vehicle double team and the dennis rodman cinematic joke simon sez -- our musketeers are thrown into the air to do their fighting . the end result is a tepid and dull action / adventure rip - off that stinks of indiana jones and bad asian kung fu . the story is so simple my grandmother could have adapted the screenplay . d ' artagnan ( justin chambers ) is the vengeful son of a slain musketeer . he travels to paris to join the royal musketeers and find the man that killed his parents . in paris , he meets the cunning cardinal richelieu ( stephen rea ) , who is trying to overthrow the king , and richelieu ' s man - in - black associate febre ( tim roth ) , the killer of his folks . he finds the musketeers in paris disbanded and drunk , so he rounds up aramis ( nick moran ) , athos ( jan gregor kremp ) and porthos ( steven spiers ) to free the musketeer ' s wrongfully imprisoned leader treville from the king ' s prison . d ' artagnan and his new frisky love interest / chambermaid francesca ( mena suvari ) play footsy and coo at each other as the cardinal hunts down the musketeers until finally the queen ( catherine deneuve ) ends up being captured by the menancing febre , forcing the musketeers to regroup , with d ' artagnan leading the charge , and save the day . director peter hyams ( end of days ) obviously wanted to blend eastern and western filmmaking styles , but here it ' s a disaster . one problem is that , in reality , most eastern films have taken their lead from western ones . jet li ' s high risk is a rip - off of die hard -- not the other way around . ironically , there is awfully little swordplay or action in the film at all -- maybe ten minutes of swashbuckling spread over five scenes . most asian action films carry the bulk of their production with 20 - to 30 - minute action sequences , because they know the scenes have to carry the picture . the musketeer instead weighs itself down with a predictable and monotonous screenplay by gene quintano ( sudden death ) , horrible acting by stephen rea and tim roth , and the prosaic attempt of justin chambers ( the wedding planner ) to deliver his mousy self as a leader . chambers ' d ' artangnan isn ' t a musketeer -- he ' s a mouseketeer ! and hyam ' s use of candles and torches to light the grime and filth of 17th century paris are well - noted , but that ' s the only standout in an overall flat production .\", 'a movie like mortal kombat : annihilation works ( and must be reviewed on ) multiple levels . first , there \\' s the rampant usage of randian subtext that pervades the entire movie . but occasionaly , almost as if making an ironic , self - depreciating remark , the movie tosses in clearly marxist imagery . no no . . . just kidding . had you going there for a moment , didn \\' t i ? in all seriousness however , and to be fair to the movie , it * is * necessary to provide two viewpoints : that of a movie watcher unfamiliar ( or only marginally familiar ) with the whole mortal kombat phenomenon , and that of a fan of the first movie and / or a fan of the games . the first movie ( mortal kombat ( 1995 ) ) concerned itself with a martial arts tournament that would decide the fate of earth ( and it \\' s 5 billion inhabitants ) . the mortals won , and in theory this should have prevented the emperor shao khan from taking over the earth . unfortunately , shao khan was a poor loser , and the very final scene in mortal kombat showed him arriving anyway , ready to take over the planet , as our heroes assumed a fighting stance . the first movie was extraordinarily entertaining for those ( like myself ) who are fans of the game . i \\' d even go so far as to say that many folks who didn \\' t know about the game probably enjoyed the movie . the writers and directors knew the limitations of both their cast and of the basic story itself , and they didn \\' t try to overachieve . there were a lot of really cool fight scenes ( with really cool accompanying music ) , intersperesed with some distracting ( but ultimately non - intrusive ) bits of fluff passing itself off as a plot . and , as we know , the movie was a smashing success at the box office . mortal kombat : annihilation picks up precisely where that movie left off , with some introductory exposition to clue in those who may not have seen the first movie . shao khan has decided that he \\' s going to take over the earth * anyways * , and to hell with some silly rule about mortals winning the tournament . thereafter follows approximately 85 minutes of film that alternates between being confused , being trite , being silly , and being just plain stupid . one gets the general impression that the producers of the movie thought \" hey , that last movie was such a success that we can get more money and make a * real * movie now . \" too bad they didn \\' t simply stick with the formula from the first movie . i could write volumes about the things that are wrong with this picture , but here are the high points : * the acting is truly bad . sandra hess ( playing the sonya blade character ) is particularly execrable , especially in scenes where she tries to convince us that she loved johnny cage ( a character from the first movie who gets greased at the beginning of this movie ) . * in one of the worst pieces of mis - casting i think i \\' ve * ever * seen , james remar plays raiden , the god of thunder . in the first movie , christopher lambert played raiden and played his character as though he was in on the joke : a french actor playing a japanese thunder god being revered by chinese mystics . i generally like it when actors are cast against type ( tim \" tiny \" lister , jr . being cast as the president of the u . s . in the fifth element , for example ) , and remar has always been one of my favorite \" utility \" actors but he \\' s so totally wrong for this part that he doesn \\' t even have the luxury of amused self - awareness . * there are too many characters that are introduced as being potentially important , but then never seen again . * there are a number of completely meaningless story sidetracks , including a muddled scene where liu kang ( robin shou ) seeks out nightwolf ( litefoot ) , has a mystical hallucination , and then wanders off with jade ( irina pantaeva ) . for these reasons ( and many others ) , i can only give the movie a 2 . . . . . . unless you \\' re a huge fan of the games and / or the first movie . in that case , the following critiques also apply : * sandra hess , while being an even worse actress than bridgette wilson ( who played sonya blade in the first movie ) , is much more convincing as a fighter . wilson looked like she was simply mimicing some movements taught to her by the fight choreographer . hess looks like she actually knows some martial arts , and puts together a much more believable fight scene . * in the fights , each of the characters does at least * one * thing they do in the game ( and often more ) . sonya does her \" kiss of death , \" jax does his \" earthquake , \" liu kang does his \" animality , \" and so on . a big bonus for those of us who were looking for similar moves in the first movie and found them only rarely . * there aren \\' t as many fight scenes in this movie as there were in the first , because the folks making the movie mistakenly try to hang a more robust plot in between . silly , silly folks . and the lamest fight involved two of the women in what turns into a mud - wrestling match . lame and so obviously sexist even i ( politically incorrect , for the most part ) noticed and remarked upon it . * the special effects are generally better , except for the final fight scene between the emporer and liu kang in which both perform their \" animalities . \" motaro and sheeva are both more convincing and lifelike than goro was in the first movie . for folks like myself who loved the first movie and enjoy the games , i give this a 5 . you \\' ll probably like it , but not nearly as much as you liked the first one .', 'she was the femme in \" la femme nikita . \" he was the baldwin in \" backdraft , \" \" sliver , \" and \" fair game \" ( with cindy crawford ) . together , anne parillaud and william baldwin conspire to make \" shattered image \" the biggest piece of hooey since the stallone / stone \" thriller \" \" the specialist . \" the film poses the question \" what if the life you \\' re living now is really a dream , and your dreams reality ? \" it \\' s either about a woman who \\' s haunted by a recurring ( and recurring and recurring ) nightmare that she \\' s a hired assassin , or it \\' s about a hired assassin who \\' s haunted by a recurring ( and recurring and recurring ) nightmare that she \\' s honeymooning with william baldwin in jamaica . it doesn \\' t much matter and believe me by the time \" shattered image \" runs its painful and pedestrian course you won \\' t care . these two lives , with parillaud looking like siouxsie sioux with a black wig , black emotionless eyes , and black leather clothing in the seattle - based assassin scenes , and moping around like karen carpenter in the jamaica scenes , play out endlessly throughout the film and the result is it \\' s now * twice * as boring as it might have been . it \\' s not that complicated plots can \\' t be entertaining . of course it helps if you have interesting characters , crisp dialogue , and a modicum of style . \" shattered image \" isn \\' t complex , it \\' s just stupid . and boring . parillaud and baldwin , who aren \\' t exactly shakespearean material to begin with , are saddled with such leaden dialogue that their characters have zero chance of breaking free of their cardboard confines . lines like : \" you don \\' t beg , you insist . i like that in a woman . \" that \\' s parillaud \\' s character talking . . . to her cat ! and : \" you \\' re not the reason i couldn \\' t care less about you . \" huh ? and this wonderful bathroom interchange early in the film : \" if you give me a couple of minutes you know i \\' ll charm the pants off you . \" \" i don \\' t have that kind of time . \" talking of pants , parillaud has her clothes off faster than you can say \" point of no return . \" we have come to expect this from billy baldwin , but it might have been nice to have learned something about their characters first . but there \\' s nothing to learn . karen is as interesting as a cereal box , a someone \\' s - out - to - get - me crybaby who imagines the voice at the other end of the phone , the stranger who sends her flowers , maybe even her husband himself , is her would - be killer . siouxsie is the chromium cool , tough - as - nails crack killing machine who shoots out a couple of mirrors in order to justify the film \\' s meaningless stock title . baldwin seems more interested in parillaud \\' s nest egg ( so that he can pave paradise and put up a parking lot ) than he does in her . each time graham greene shows up he gets killed . barbet schroeder ( \" reversal of fortune \" ) co - produced and should be ashamed of himself . every now and again it \\' s fun to watch a really bad movie . and every now and again , as \" shattered image \" makes agonizingly clear , it isn \\' t .', 'john carpenter makes b - movies . always has ( \" halloween , \" \" escape from new york , \" \" the thing \" ) and , by the looks of it ( \" they live , \" \" escape from l . a . , \" \" vampires \" ) , always will . carpenter \\' s latest horror opus with a science fiction bent ( or science fiction outing with a schlock horror bent ) is the aptly - titled \" john carpenter \\' s ghosts of mars \" ( in case , i suppose , you went looking for someone else \\' s \" ghosts of mars \" ) . like all those films prefixed by the very possessive \" john carpenter \\' s , \" \" ghosts of mars \" is an unashamed b - movie punctuated by a b - movie plot , b - movie actors , and b - movie special effects . in category one , above , we have a storyline that borders on idiotic ( and , at times , chaotic ) . dormant martians ( i . e . , swirling red gases ) awakened by meddling humans possess the souls of hapless mining colonists rendering them testy marilyn manson lookalikes . all this explained ( in flashback ) to some grand pooh - bah counsel by martian police official melanie ballard ( natasha henstridge , from the sub - \" species \" films ) , the only returnee on a silly - looking train . officer ballard went in to bring back incarcerated felon james \" desolation \" williams ; what she found was not a pretty picture . in the second category we have ms . henstridge , her blonde hair pulled back tightly and awkwardly into a ponytail , ice cube ( as the appropriately - named \" desolation \" ) , pam grier ( briefly , oddly -- who wanted to work with whom i wonder ? ) , and a host of extras all assuming that the story and special effects were going to carry this film and therefore they didn \\' t need to try too hard . in category number three we have , in addition to those swirling red gases and the silly - looking train , a couple of bird \\' s - eye - view shots of a sprawling martian metropolis ( reddish also ) . state - of - the - art special effects have never been a carpenter trademark and once again the writer / director ( who seems to have no problem finding work , however ) doesn \\' t waste any of the film \\' s budget in that department . \" ghosts of mars \" is lock , laughing stock , and barrel all your standard carpenter fare : dingy interiors , cluttered exteriors , inane dialogue , lots of leather , scarred , crazed - looking aliens , and lots and lots of weaponry . the film often and always explodes into warfare without warning -- spontaneously , stupidly . carpenter might like to think he \\' s made a western here but it \\' s a western without any real heroes , villains , or border conflicts . it \\' s just the shootouts minus a hissing snake plissken . i never thought i \\' d miss the guy but i do . it \\' s not * all * the same , however . dubbed the \" one - note wonder \" for his minimalist music soundtracks , carpenter seems to have graduated from simplistic ( yet effective ) scoring by highlighting his action with loud , screeching guitar work . fortunately this drowns out a lot of the dialogue . the final exchange between henstridge and , er , cube though is both audible * and * priceless . mars has proven an infertile breeding ground for hollywood in the last year or so , what with the stillborn \" mission to mars \" and \" red planet \" ( with val kilmer ) . \" ghosts of mars \" sadly adds to those disappointing returns ( in its opening weekend it was overshadowed by a bunch of sequels , among them \" american pie 2 \" and \" rush hour 2 \" ) . the irony is that the mars in carpenter \\' s film feels sadly absent . there are occasional references to the red planet , of course , but the film might as well have been set in perth amboys than on earth \\' s closest neighbor . two things keep \" john carpenter \\' s ghosts of mars \" from getting a huge slap upside the head . 1 . henstridge keeps her top on ( miraculously ) , and 2 . the film doesn \\' t pretend to be anything it \\' s not . what that means , however , is that fans of superior , intelligent , grade a sci - fi / horror are singularly out of luck .', 'i \\' m really starting to wonder about alicia silverstone . sure , she is one of the most beautiful creatures on god \\' s green earth ( second only to that movie critic at large guy ) , but when it comes to choosing what movies she stars in , she always strikes out . the crush was a slow - moving , predictable piece of fluff . hideaway was a horrific novel adaptation alicia had only a minor role in . clueless was an annoying , unfunny waste of time . and people have e - mailed me too , saying clueless is a good movie and that i \\' m the only one who doesn \\' t like it . one girl said if i \\' d seen the movie with \" an open mind , \" i would have enjoyed it . nothing could be further from the truth . i went into the theater expecting to love the movie . the preview looked good and of course i \\' m crazymadinlove with alicia , but the movie was a bunch of bad jokes coming from whiny , unlikable characters . almost everyone i saw the movie with felt the same way . when we were walking out of the theater , one guy ( and it wasn \\' t me ) yelled out , \" that was the worst f $&# in \\' movie i \\' ve ever seen \" and the rest of us had to laugh in agreement . so last night i walked into the video store and saw alicia \\' s pretty face on the cover of some made - for - video thriller called the babysitter . i knew it would be bad but some inner compulsion i \\' ll probably never understand made me rent it anyway . what i got was 90 minutes of regret -- the worst alicia silverstone movie ever . and you already know from the last paragraph what the competition is like . where to begin in criticizing this movie ? the plot is a thin shred that moves slower than a glacier , the writing could have been done ( and for all we know it was ) by a ten year old , alicia is the star and she \\' s still wasted in a movie that has no appeal whatsoever . there is zero humor , zero suspense , zero drama and zero action , until the last ten minutes , when the story is needlessly and pointlessly concluded with a violent sequence . zero plus zero plus zero plus zero equals zero . so why does this movie get one star out of me ? well , alicia spends twenty minutes of the movie in the bathtub . and if it wasn \\' t bubble bath , the babysitter would have instantly joined the ranks of our other four - star features , but you settle for what you can get . alicia plays a babysitter who \\' s spending friday night looking after two kids whose parents are out getting drunk at a cocktail party . and of course anyone as beautiful as alicia automatically spends their friday nights at home ( at least that movie critic at large guy does ) . as the movie trods along , we discover she \\' s not only the mostly - silent star of the movie but also the object of every male character \\' s fantasies ( and probably every male viewer \\' s too ) . the drunken father thinks she \\' s just the thing to recapture his lost youth , her boyfriend lets his imagination run wild while spying on alicia from outside , even the prepubescent boy looks in on alicia through the bathroom keyhole while she \\' s taking her bubble bath . they even throw in the middle aged wife \\' s fantasies about a male counterpart at the party . not that any of us asked or ever even thought about seeing this 200 + pound woman in a black silk teddy . at least none of the sex fanatasies ever leave the realm of the pg - rated . in fact , i could imagine the babysitter becoming a cinemax late - night staple if not for the fact that there \\' s absolutely no nudity in it . so you can \\' t call it a sex flick . i \\' ve already pointed out that it can \\' t fall under drama , comedy , thriller or action , so what do you classify the babysitter as ? bad .', 'so what do you get when you mix together plot elements from various successful sci - fi films such as close encounters of the third kind , 2001 : a space odyssey , apollo 13 and contact ? well , whatever it is , you \\' d sure as hell hope that it would be a thousand times better than this shoddy attempt at such a melange , considering the disastrous results we \\' re left with here . this is a film that takes a little bit of everything , but ultimately adds up to a lot of nothing ! it \\' s like i said . . . this movie sucks . plot : a rescue crew of astronauts is sent down to mars in the year 2020 , after an unknown energy force leads to a loss of contact with the previous gang of space aviators to visit the red planet . critique : extremely underwhelming is the best way to describe this movie . uneven , would be another . the trailer for this movie actually showed some promise , the buzz around it had been so - so , and even the film itself starts off with a decent first twenty minutes , all leading you to believe that it \\' s actually going to go \" somewhere \" . but it isn \\' t long before the entire movie downshifts into neutral , features more space walks than anything interesting on the cherry - colored planet , tries too hard to get us into the \" pain \" of some its characters and unsuccessfully tosses some romance into the mix . in a sci - fi movie ? well , i don \\' t know , much of it just seemed like a bunch of nerdies talking techie jargon for about an hour and a half , only to figure out some big secret in the end , a secret which practically had me yawning with excitement . ultimately , this is a movie that starts off with a decent premise , joins the crew in their \" misadventures in space \" for the main crux of its journey , and eventually settles down for one of the most anti - climactic endings this side of contact . mind you , if you enjoyed that film \\' s shrug - of - the - shoulders ending , you might just enjoy this frivolous ditty as well . of course , i don \\' t remember contact having such obvious and painfully distracting computer generated effects at its end of story . ugh . what a friggin \\' mess . films like this generally get me wondering about the brass in hollywood again . didn \\' t anybody recognize the crappiness in this script ? didn \\' t they read the bad dialogue , the cheezy lines , the obvious derivative nature of the work ( mind you , with a director like depalma at the helm , that ain \\' t saying much ! ) . of course , you can \\' t really blame the brass for the inclusion of jerry o \\' connell in this fine crew of thespians . \\' nuff said . neither can you blame them for depalma cranking up the juice on the film \\' s musical score during the last fifteen minutes , presumably in order to wake the audience up ( okay , we get it brian , this scene is supposed to be powerful . . . wow . . . yawn . . . my ears hurt ! ) . so is anything salvageable in this movie ? sure . gary sinise does another great job , as does cheadle , the film doesn \\' t completely bore you as much as it just moves along slowly without anything really interesting happening , and yes , the \" sand - twister \" effect that you see in the commercial is well done . other than that ? i guess i could say that i admire how filmmakers have become so much more devious in their product placement strategies . . . oops , did i say \" admire \" , i meant \" am disgusted \" ! all in all , this movie delivers very little in actual substance , offers two - bit dialogue masked in a lot of sci - fi mumbo - jumbo , pretends to be deep when really it \\' s just sappy , and eventually just settles into an ending which , other than presenting us with a pathetic computer graphic as a part of the story , gives us little more to think about than how we might be able to get our money back for sitting through this rehashed dreck . go see the ninth gate . . . now there \\' s a great movie ! and on a personal note , i think it \\' s time for depalma to stop worrying so much about his proverbial 12 - minute uninterrupted film sequences , and start worrying more about how crappy his movies are getting .', 'the law of crowd pleasing romantic movies states that the two leads must end up together by film \\' s end . if you \\' re not familiar with this law , then maybe you \\' ve seen the trailer for this film which shows that the two leads are together by film \\' s end . now if you \\' re a regular reader of mine , you \\' ve heard me say this countless times : you know how drive me crazy is going to end , but is the journey to get to that ending worth it ? no , it definitely is not . melissa joan hart ( from abc \\' s \" sabrina , the teenage witch \" ) likes a hunky stud on the basketball team . adrien grenier is her grungy neighbor who \\' s just broken up with his activist girlfriend . apparently he wants to make his ex - girlfriend jealous enough to take him back , and she wants someone to take her to the big year end dance . so the two pretend to date for some reason , but only after hart gives grenier a bath to turn him into a hunky stud . will grenier like his new popularity and turn on his friends ? will this crazy scheme work ? do i care ? the teen comedy resurgence of late has been surprisingly good in terms of comedy . what makes movies like can \\' t hardly wait and 10 things i hate about you work ( and to a lesser extent , she \\' s all that and never been kissed ) is because the writers of those films seem to realize that high school is a joke and write their scripts accordingly . i don \\' t know what the writer \\' s intention was with drive me crazy . there was some smart comedy in those films to make the obvious endings worth getting to . here there \\' s nothing . . . just teens whining about who \\' s going to take them to the big dance . do me a favor kids , go get a job or something . . . just shut the hell up . in all honesty , the best part of this film is the end credits . now normally when i say that it \\' s followed with the joke \" . . . because the movie is finally over . \" in this case though the end credits really are the most entertaining part of the film . after the obligatory second playing of britney spears \\' titular song , there \\' s a quick commercial jingle for a burger joint the kids in the film hang out in and a brief rendition of the school song for their high school . nothing great , but more entertaining than anything in the 90 minutes which preceded them . sci - fi fans take note : there are brief appearances from stephen collins ( star trek : the motion picture ) and faye grant ( the tv miniseries \" v \" and \" v : the final battle \" ) . [ pg - 13 ]', 'mighty joe young blunders about for nearly twenty minutes before we actually get to see a great big gorilla . his entrance , however , is a grand one : out from the trees he leaps , gargantuan and imposing , sporting hands big enough to crush a volkswagen bug , and a pair of feet much larger than any pro basketball player will ever have . joe bellows at the poachers before him , angry that they would like to kill him and sell him for millions of dollars . during this scene , i turned to my friend and said , \" wow . that \\' s some ape . \" joe is quite a gorilla -- a big , digital gorilla . he runs around the fields , chasing cars and people . he picks things up and stares at them pensively . he breaks things on accident , because he \\' s just too big to avoid clumsiness . joe , as a special effect , is an image that might hold your interest for five minutes . as a character , he doesn \\' t quite register . and the story he \\' s been put in is as limp as they come . the words \" family entertainment \" have never been a stamp of quality , but might joe young is just a silly special effects movie pretending to have a heart . the picture is a remake of the 1949 film . it \\' s mostly just about the big gorilla , but , strictly as a formality , the movie also has a few human characters . the main one is jill young ( poor charlize theron , forced to waste her talent ) , a lover of gorillas . as a child , she witnessed a group of poachers murder her mother ; now , she lives in the jungle to protect the wildlife . specifically , she \\' s out to protect joe , a giant gorilla who has been her friend since her childhood . soon , zoologist gregg o \\' hara ( bill paxton ) discovers joe ; he quickly realizes that poachers want to get joe and sell him to a big game hunter named strasser ( rade sherbedgia ) , who just happens to be the same guy who killed jill \\' s mother . so , in an effort to save joe , jill and gregg take the big gorilla to a preserve , where it is instantly clear that he is not safe from poachers . in addition , the space is way too small for him ( after all , he is a really big gorilla ) . and , to add to the complications , strasser shows up under a benevolent pretext ( he tells jill that he has a preserve big enough for joe ) , and joe recognizes strasser as the guy who killed jill \\' s mother . jill , of course , doesn \\' t recognize strasser , even though he did kill her mother . this is just one of the many examples of stupidity in mighty joe young , a film that fulfills every stereotype that comes with a special effects film . the movie isn \\' t really offensive -- it has some competent actors , a few nifty sets , and a lot of scenes with a big , digitized gorilla . but the story is really dumb , there aren \\' t any characters , and the film isn \\' t satisfying on any level beyond its visuals . the movie also has bad dialogue . if a critic says that a film has bad dialogue , it \\' s only fair to quote some of it , but most of the words spoken in this picture are phrases like \" joe isn \\' t happy ! \" and \" joe isn \\' t safe here ! \" \" we need to get joe out of here ! \" \" joe is way too big for that cage ! \" i don \\' t know if these phrases are word for word , but they \\' re close . as i said , the characters here are only present as a formality : they do little more than state the obvious ( of * course * joe is too big for that cage ) . paxton and theron are talented performers who deserve to work on a script that provides characters for them . sadly , mighty joe young wastes them both . there are a few clever moments ( although none of them are surfacing in my memory at the moment ) , and , as i said , the digital effects held my attention for at least five minutes . it \\' s certainly not a bad film for kids ; i doubt joe will give them nightmares . but adults in the audience aren \\' t likely to find much of anything interesting about the big gorilla . a big gorilla is only interesting for a little while ; after that , something needs to be done with the big gorilla . nobody ever figures out what to do with the big gorilla .', '\" spawn \" features good guys , bad guys , lots of fighting , bloody violence , a leather - clad machine gun chick , gooey , self - healing bullet holes , scatological humor and a man - eating monster . it not only appears to have been tailor made for a swarm of 12 - and 13 - year - old boys , it appears to have been made by them . in a classic example of telling and not showing , \" spawn \" opens with a truckload of mumbo jumbo about forces of darkness , forces of light and how \" men are the ones who create evil on earth . \" so much for a message . the movie then lurches forward into the plight of al simmons ( michael jai white ) , a government assassin / operative who is murdered by diabolical boss jason wynn ( martin sheen , who plays all of his scenes like an oscar clip ) while on a top secret mission in a north korean biological weapons plant . simmons goes to hell and back , after making a deal with satan himself -- if he agrees to command the devil \\' s army to overtake the world , he \\' ll be allowed to return to earth to see his wife wanda ( underused theresa randle ) and little girl cyan ( sydni beaudoin ) . of course , seeing as how five years has passed , wanda has fallen for -- and married -- simmons \\' partner ( d . b . sweeney ) . his , uh , shoulder to cry on comes in the form of clown ( john leguizamo ) , a disgustingly disproportioned minion of satan \\' s . clown manipulates simmons , now in superhuman spawn form , into a stand off with wynn . wynn , who thinks he is in league with the double - dealing clown , recognizes spawn as a threat and undergoes an operation where a bomb is placed on his heart -- when it stops beating , major cities around the world will detonate , causing the leak of a disease that \" makes the ebola virus look like a skin rash . \" phew . got all that ? it would be easy to dismiss \" spawn \" as just another one of those heavy - on - fx , short - on - substance action pics , but it doesn \\' t even work on that level . the computer - generated sequences are often and plenty , and the problem is that they look too computer - generated . the several scenes set in hell present a devil that looks and acts like a video game graphic -- with the movie \\' s healthy budget you \\' d think they could have afforded to make his mouth move when he talks . other elements of the movie are so - so ; spawn \\' s enormous red , flowing cape is a wonderful sight , but it \\' s too obvious when he \\' s being played by a costumed actor or an image . in movies like \" contact , \" the special effects serve the story . in \" spawn , \" they are the story . and spawn himself isn \\' t even an interesting character . the film \\' s reliance on razzle - dazzle would be acceptable if we were given somebody to root for , but both simmons and his funky alter - ego are completely underdeveloped . what we need is a batman , a luke skywalker . even watching the adventures of kleenex man would be more interesting than spawn . poor leguizamo . he starred in february \\' s \" the pest , \" a movie that i still think is the year \\' s worst so far , although this one does give it a run for its money . as clown , he overacts to the extreme , never missing an opportunity for a poor - taste punchline . leguizamo farts green mist , munches a pizza slice covered with maggots and even dons a mini - skirt and performs a cheerleader routine , all before turning into a giant grey demon . the guy was brilliant in \" to wong foo , thanks for everything ! julie newmar . \" what is he doing wasting his talent in this and \" the pest \" ? i \\' m one of the few people that liked \" batman & robin , \" this summer \\' s other big - budget comic book film . yet after catching this movie and making the inevitable comparison , i can only hope people will change their minds and think of \" batman \" as the superior adaptation . there \\' s a compelling story somewhere in \" spawn \" -- including strong religious overtones and the debut of the first african - american superhero ever -- but it \\' s just not found anywhere near here . as it is , \" spawn \" is just awful -- it stinks worse than a dead trout .', '\" in dreams \" might keep you awake at night , but not because of its creepy imagery , bizarre visual style or story about a clairvoyant madman who lures young girls to their untimely deaths . no , the source of potential sleeplessness here lies within the movie \\' s brutally squandered potential , the least of which is an admittedly nifty premise - even by tired serial killer genre standards . the big letdown , however , comes upon the realization that this 100 - minute head - scratcher was masterminded by neil jordan , the man behind \" the crying game . \" he \\' s no stranger to cinematic weirdness , but this nutty nonsense really pushes the envelope . things start out strong enough , with cinematographer darius khondji \\' s stunning camera work guiding viewers into the bowels of a underwater ghost town during a creepy prologue that establishes a notably grim tone right off the bat . this eerie opulence remains a dazzling display of showmanship throughout the entire film - there \\' s even something macabre about the way khondji photographs a rustic , seemingly innocent new england autumn - but if there ever was a film that didn \\' t deserve so good a polish , it \\' s this one . don \\' t knock the look , but say what you will about the foolish plot , underdeveloped characters and flat dialogue . annette bening , another asset \" in dreams \" shouldn \\' t be so lucky to boast , gives an increasingly effective performance in a role that doesn \\' t do much for her in return . she plays claire cooper , a massachusetts children \\' s book illustrator who \\' s plagued by terrifying nightmares involving kidnaped children . she thinks these visions are a warning knell for horrible , soon - to - be - committed crimes , but neither her ho - hum husband ( aidan quinn ) nor the ho - hummer police can muster up the sense to take her seriously . this being a thriller , we know that she is , in fact , on the money , and it \\' s a credit to bening \\' s acting that she delves equally into claire \\' s madness and compassion . but as soon as a body turns up and claire has given the authorities reason enough to believe her claims , \" in dreams \" trades in its nifty supernatural chills for a long series of allegedly spooky jolts that simply refuse to make sense . scenes pile up like a car wreck with little or no explanation or exposition . subplots appear and disappear . when claire finally comes face - to - face with our evil murderer ( robert downey jr . ) , it turns out his name is vivian , he \\' s clairvoyant and he \\' s got some major issues with mama , a la norman bates . \" in dreams \" reaches its absurdist zenith here , and the climax drags with mumbled revelations and laughable twists . some questions , then : what \\' s with the garbage disposal retching applesauce ? are the drawings on the wall blood or paint ? who cranked up the andrews sisters on the cd player and caused the swing to move on its own ? what about the computer ? does vivian possess the gift of telekinesis in addition to his other powers ? why would he continually endanger claire if she was necessary for his ultimate plan ? is the woman in australia integral to anything ? and the aforementioned flooded city - what function does that _really_ serve ? sigh . at least in my own dreams , i can imagine a better movie where certain talent didn \\' t go to waste .', '\" knock off \" is exactly that : a cheap knock off of an action movie . it \\' s also the worst movie i have seen thus far this year . i figured it would be at least a couple of months before i saw the worst film of 1998 , but alas , it has already been found . jean - claude van damme stars as ( i think ) a designer jeans executive who discovers his half - brother has been supplying him with cheaper goods . rob schneider plays van damme \\' s partner , and rochon plays . . . actually , i have no idea who rochon was supposed to be . she just sort of popped up halfway through without an explanation as to why she was there . many things are not explained in this film , but i do know that for some bizarre reason , van damme seemed to be doing a jackie chan impression throughout the flick . where chan comes off as endearing in his \" normal guy \" character seen in many of his films , van damme just comes off as a wimp . we \\' re never given any clear explanation as to the basis for many of his actions . to be more clear : i did not even know who he was supposed to be until about an hour into the movie , and even then , it was not made too clear . the film has been directed in the style of some strange film experiment gone horribly wrong . tsui hark ( who directed van damme \\' s last movie , the bad , but not nearly as bad as this , \" double team \" ) never lets the camera rest for a second , and that \\' s no exaggeration . we are even treated to a five second shot from the point of view of van damme \\' s foot entering a shoe . fabulous ! seriously , though , i have no problem with directors who want to play around with film conventions , as long as they don \\' t get carried away . for example , look at sam raimi . \" army of darkness \" , one of his best movies , features some of the most inventive camera work i have ever seen , but raimi never lets the special effects get in the way of story . that \\' s a concept that tsui can \\' t seem to grasp . the special effects and outrageous camera angles * rule * \" knock off \" to the point where the audience doesn \\' t have a clue as to what \\' s happening any more . another problem with the film is that it looks cheap . the film stock used is of such low caliber that i thought i was watching one of those chinese films shown really late at night . and for some inexplicable reason , everyone \\' s voice seems to have been dubbed . even the stars . and even the special effects , seemingly the only aspect of the film the director actually cared about , are inconsistent . for example , there is a scene in which van damme drives a car out of a window . the car slams into the ground , and the left wheel is completely destroyed . seconds later , the car drives off at full speed . hey , i have no problem suspending my disbelief in an action movie , but a line must be drawn somewhere . finally , the acting . nobody gives a good performance in this film . van damme , an actor i usually like , is way off the mark playing \" everyman \" . and schneider , here to provide comic relief i assume , is totally unfunny and over acts his way through every scene . even the usually solid paul sorvino gives a terribly over - the - top performance as . . . once again , i have no idea who he was supposed to be . in case i haven \\' t yet made it clear enough , \" knock off \" is the worst movie of van damme \\' s career and possibly the worst movie of the decade . and it \\' s not even one of those movies that \\' s so bad it \\' s funny . it \\' s too inept to be funny . there are no redeeming factors in \" knock off \" and i seriously hope that every print of this film is burned to a crisp and that somehow my memory of watching the film can be erased .', '\" snake eyes \" is the most aggravating kind of movie : the kind that shows so much potential then becomes unbelievably disappointing . it \\' s not just because this is a brian depalma film , and since he \\' s a great director and one who \\' s films are always greeted with at least some fanfare . and it \\' s not even because this was a film starring nicolas cage and since he gives a brauvara performance , this film is hardly worth his talents . it \\' s worse than that . it \\' s aggravating for the sole reason that its story could be so much more , could be totally intelligent , and it opens up with absolutely no subtlety that it will be handled complexly and intensely . . . then at one point in the movie makes on wrong turn that leads it to the hall of fame of half - assedness . or more deservedly , the hall of fame of the eighth - assedness . in certain circles , \" snake eyes \" was being advertised as a kind of modern day version of kurosawa \\' s classic \" rashomon , \" where a crime is told from the four different ( and i mean different ) perspectives , and it looks as though it may actually be just like this with the opening , which , i might add , is superb . in one very very very long steadicam shot , we meet the protagonist , crooked atlantic city detective , rick santoro ( cage ) , and follow him before a boxing match as he talks on his cell phone with his wife , interupts a pay - per - view event on tv , chases down a gambler , enters the arena all pumped up for the fight , sits down and talks with his bud , kevin dunne ( gary sinise , who \\' s character should not be confused with that of actor kevin dunn , who \\' s also in this ) , and watches as it happens . there \\' s a big name in the crowd , and that \\' s the secretary of defense , charles kirkland ( joel fabiani ) , who \\' s sitting behind rick , and who gets shot a second after the heavyweight champion , lincoln tyler ( stan shaw ) , is knocked out . this all happens in the opening shot , and it creates so many red herrings and possibilities of what happened that it opens this scene up for close examination and total deconstruction . what really happened , this film asks , and it sets this film up extremely well for when rick begins to question people and get different perspectives on the scene . . . and discovers there \\' s a very good possibility it was a conspiracy . as we follow rick trying to learn of more information , we also meet a woman who was talking to kirkland before he was shot ( carla gugino ) , and who flees the scene in a panic , and tries to hide from the cops in the arena and the adjacent casino / hotel since the cops have blocked off the doors so they can get witness \\' takes on what happened . this is all going pretty fine and dandy , and it \\' s extremely interesting to watch . . . then it takes one wrong step . we follow the wrong character , and we learn of the answer to the mystery too early on , and way before rick can find it out . but that \\' s not the worst part of it : it \\' s that it \\' s the one person you didn \\' t think it would be because he was too obviously supposed to be the red herring , the one you didn \\' t think did it because it would be stupid and cliched of that person to be behind it . it only gets worse : the film turns into a chase film about half way through the film , and since we already know what happened , we can \\' t rely on rick \\' s investigation to be all that interesting . it \\' s as if the film ran out of the guts to be really complex and original about a third of the way in , and decided to just fall back on an easy way out , and that just happens to mean that it has to become less and less credible . events become more and more proposterous , and by the end , the film has decided to rely on the worst offender in mysteries like this : the deux ex machina . that \\' s where some outside intereference brings the film to a sudden conclusion and makes everything okay . this time , it \\' s a hurricane , an out - of - control police car , and a big round ball that adorned the arena . what went wrong ? depalma and the screenwriter , david koepp , are extremely credible people in their respective fields , and have been known for bringing life and complexity to mysteries such as this . depalma , who idolizes hitchcock to death , has done many a film like this , such as his masterpiece , \" blow out , \" where a movie soundman uses movie elements to uncover a conspiracy piece by piece . but granted , depalma at least makes it intriguing to watch , what with his over - the - top shot set - ups , notably the beginning and a sequence where the camera pans over top of a bunch of rooms in the hotel , forgetting anything about boundaries . at least his direction makes up partly for it . then there \\' s koepp , who showed such great ability at making a character \\' s flaws come to life like he did in depalma \\' s earlier \" carlito \\' s way , \" a film that dove right into the life and past of its character and examined him extremely well . he can write a flawed character , but his rick santoro seems to be just a half - assed effort . he \\' s flawed , and we can see redemption if the story wasn \\' t so formulaic . a scene towards the end where he has to make a fatal decision is cheapened by the fact that his answer has no emotional buildup . he may as well have said the opposite of what he says ; it would have at least gone with what the character was like . this is the most disappointing kind of film because it promises intelligence and complexity , because it promises disection of a flawed character and perhaps even redemption , then pulls the rug from under us just as we were about to be convinced it would be able to go all the way . as i was watching the first half hour , i couldn \\' t wait to see how the mystery would be unearthed , how many different perspectives he \\' d be given , and perhaps he \\' d have to make a choice between who \\' s he has to believe . now there \\' s a film . unfortunately , the film has two major deux ex machinas : one in the disasterous ending ; the other , about a half hour in when the film goes into autopilot and becomes a stale and recycled piece of crap we \\' ve seen all too much before , but never from someone like depalma .', \"forgive the fevered criticism but the fervor of the crucible infects . set in 1692 at salem , massachusetts , the crucible opens with a group of teenage girls passionately singing and dancing around a boiling cauldron in the middle of a forest under the glow of a full moon . they beckon the names of men as the targets of their love spells . then one of the girls lets her hair down and sheds her clothes . not to be outdone in her quest to regain the attention of john proctor ( daniel day lewis ) , abigail ( winona ryder ) suddenly seizes a chicken , beats it against the ground and smears her face and lips with the fresh blood . taking even adolescent hormone surges into account , surely this chicken - bashing bit is a bit excessive , especially for prim puritan sensibilities ? surely to the puritan eye this is as close to a coven of witches as it gets ? the crucible errs from the beginning and arthur miller ' s name should be summoned for blame here for the addition of the above scene to his screen adaptation of his play . this is far from a harmless event , a bad start to an already shaky morality tale . the play describes the film ' s opening scene during tense exchanges that makes one wonder about the veracity of both accusation and reply , and this adds to the play ' s charged atmosphere . in the film , the opening scene becomes an unintentional pandora ' s box . not only is credulity stretched but abigail ' s obsession is unfortunately spotlighted . it positions the crucible more as a cautionary fable about obsessive and malevolent women than against witch hunts ; it will bring back the memory of a rabbit boiling away in a pot . not surprisingly , the nighttime forest frenzy does not go unnoticed and when two girls fail to wake the following morning , witches are invoked by those eager to blame . when the girls are questioned , their confession of guilt is accompanied with an announcement of their return to god and they are thereafter converted to immaculate witnesses , led lustfully by abigail . with alarming synchronicity our hormonally - advantaged girls zealously gesture and point accusing fingers at innocents , constant reminders that abigail ' s passion sets all this into inexorable motion . abigail seizes on this opportunity to rid herself of her rival for john proctor ' s love , his wife elizabeth ( joan allen ) , by including her among those accused of witchcraft . appropriately narrow - waisted and equipped with a distractingly white smile ( watch his teeth deteriorate much too quickly to a murky yellow ) , day lewis plays the dashing moral hero with an over - earnestness that longs to be watched . director nicholas hytner is guilty of encouraging day lewis ' foaming - mouth fervour with shots where we stare up at proctor as if he was mounted on a pedestal for our admiration . otherwise , hytner ' s direction is unremarkable . ryder ' s performance as abigail is as consistent as her mood swings . her fits of frenzy are energetic enough but the quieter moments are less successful . abigail supposedly revels in her newfound power , but ryder fails at being convincingly haughty although there is much haughtiness to spare here . paul scofield is fine as the overzealous judge danforth , but the incessant moral posturings of all the characters along with the recurrent histrionics of the young girls pricks at the nerves . probably because she is the only refuge of restraint amidst all the huffing and puffing , allen ' s elizabeth comes out as the most sympathetic character . a scene near the end featuring a private conversation between the imprisoned elizabeth and john is undeniably powerful because for once we are given a reprieve from the moral bantering and the human consequences are revealed . unfortunately , when john ' s audience again increases to more than one his urge to pontificate returns and the human urgency of his situation is lost . it is clear that miller meant well but i do wish he did it with more delicacy and fewer diversions . his screenplay is an imperfect creature with the distractions coming out as loud as the message . the result is a clumsy muddle - i felt like the chicken from the opening scene , head ceaselessly banged with piousness too heavy - handed to be wholly believable . when the gallows beckoned , it was sweet release indeed . far from bewitching , the crucible tests the patience .\", 'one might expect a cathartic viewing experience walking into a new jean - luc godard film . after all , he was a founding member of the highly influential french new wave . he is also an esteemed film critic , lending intelligence and historical perspective to us in much of his writing . however , his latest creation , in praise of love , is possibly the most exasperating film experience of the year . the abstract concept on which the film is based had merit , to dissect love into the following four categories : meeting , physical passion , quarrels , and reconciliation . these four universal truths would be revealed through three different couples : young , adult , and elderly . it is edgar \\' s ( bruno putzulu ) self - appointed task to capture these moments after a recent breakup , to define a central idea : \" it \\' s only when things are over that they make sense . \" whether this project will end up a play , film , or opera remains undecided . the thesis is simple enough that , if played right , it could really hold sympathetic value for anyone . instead what ensues is an hour and a half of repetitive vignettes , the next scene no more engaging than the last . only once does any character utter something worthwhile , but by the time it happens you \\' re so thoroughly bored you can easily miss it . but don \\' t fret , it will surface again . you could easily sleep through whole sections of the film ( as some fellow critics did ) and wake up in a scene exactly like the one you nodded off in , not having missed anything worthwhile . but you hold hope for some time . the background music keeps you in a state of urgency , and even suspense , for the first few conversations . it \\' s only after repeated failures to pay any of this off that you lose all hope . and with speeches like , \" i am thinking of something , but i can only think of that something when i am thinking of something else , \" how can you expect to hold anyone \\' s interest ? to godard \\' s credit , he certainly knows how to frame a scene . the black and white footage used for the first half of the film is starkly beautiful . watching edgar read while walking along a train track on a mountain makes you wish you had something to ponder along with him . and if this film had anything poignant to say , you would have , which makes you all the angrier at the numerous missed opportunities . the environments , be it city or country , are impeccably captured in crisp detail , but the script never complements them . unfortunately , godard also manages to pillage his photographic eye by randomly cutting to black numerous times within any given scene . sometimes these breaks are used for chapter headings , but these are even more cryptic than the spoken words . the second half is composed of nauseating hyper - color that often blurs the image . you suddenly feel like a doomed character straight out of scanners . the only scene that makes any sense is one that complains about the united states bastardizing history in the making of movies . steven spielberg is picked on in particular . while i \\' ll grant that this does happen , and i tend to shy away from watching such garbage , it \\' s still a pointless focus for a film that purports to articulate the specific qualities of couplehood . it just goes to show , an intelligent person isn \\' t necessarily an admirable storyteller . the days of breathless are no more .', 'america loves convenience . after all , we \\' re the culture that invented the cell phone , the 24 - hour atm , and my most beloved , the remote control . yet perhaps this time , with ghosts of mars , we have taken our love of convenience to far . ghosts of mars stars natasha henstridge as a tough as nails , pill - poppin \\' , martian cop , sent with her squadron to retrieve \" demolition \" williams ( ice cube ) from a remote mining town for trial back home . when she and her comrades , appropriately dubbed \" the commander , \" \" the rookies , \" and the guy with the cool accent discover the town \\' s residents slaughtered , they are forced to team up with williams to escape from the remaining residents \\' head - chopping , alien - possessed clutches . filled with a lovely overuse of storytelling flashbacks , flashes - sideways , and viewpoint changes , ghosts of mars is a hapless mishmash of poorly constructed dialogue and ill - conceived action sequences . the only thing keeping this film from becoming an incomprehensible mess is the sheer idiotic simplicity of its story . ripped straight from the pages of a 1970s zombie movie , ghosts leaps from one convenient moment to the next , stopping only to kill the characters which are most convenient to lose . attempts at character interaction and development are rare and forced . most of these moments come off as kwik - e - mart wisdom , dispensed heartily around the slushee machine of life by the even - tempered streetwise hand of ice cube . with a gun in one hand and a dynamite cap in the other , cube reminisces about his street life , comparing the zombie - stomping fun to \" me and my brother when we was kids . \" apparently , crime in the bronx has gotten so bad that the residents have actually taken to ritually decapitating one another for entertainment . but , even in the film \\' s darkest moments , fate conveniently lends a hand , supplying heavily armored transportation and easily accessible rifles and dynamite . yes , in the future , man may travel to space and conquer mars , but nothing beats a good stick of tnt . and as we all know , every police station , past , present , or future , keeps a healthy supply on hand . characters die , heads are lopped off , but they were only supporting roles anyway , so why should we care ? as long as you have plenty of narcotics , immunity is guaranteed . eventually though , even the most well - trained zombie alien gets a bit uppity and needs to be taught a lesson . what better way than by sacrificing a few minor characters to a convenient nuclear detonation , killing anything the machine guns can \\' t handle . explosions are fun . and even if the nukes don \\' t get them , the conveniently placed dynamite packs on the train stolen from the set of the road warrior certainly will . in the end this film defines itself when our cop \\' s tribunal pronounces , \" is that all you have to tell us ? \" for , indeed , john carpenter has run out of things to say , and has instead decided to use whatever is convenient to tell a ridiculously bad story .', 'reindeer games is easily the worst of the three recent films penned by ehren kruger ( scream 3 and arlington rd are the others , each derivative in their own special way ) . the guy can \\' t seem to write believable dialogue ( sample from reindeer games : \" rule # 1 : never put a car thief behind the wheel \" ) , create multi - faceted characters , or even engineer coherent plots but he sure knows how to pile on numerous nonsensical twists and turns ( no matter if each one deems the actual story increasingly unlikely ) . his screenplay for reindeer games turns the tables on the audience so many times that watching the film becomes something of a punishment with no reward anywhere in sight . i can just envision kruger laughing behind his keyboard , \" oh you thought my movie was gonna go here , f * ck you jack ass , take that twist , decipher this mother f * cker ! \" it \\' s almost as if the writer were angry at us for shelling out money to see his stupid movie . and why the hell would anyone want to invest time in a movie when the screenwriter keeps changing his own rules for no reason other than to congratulate himself on how damn clever he is ? auteur theory be damned ; it \\' s kruger \\' s \" style \" , not the director \\' s that winds up on screen . kruger has obviously never paid much mind to the old chestnut \" sometimes less is more \" . and his numerous twists can \\' t even claim to be originals ; arlington rd \\' s ending is a direct steal from the much better alan j . pakula thriller the parallax view , and in reindeer games we get this ol \\' gem ; character incriminates themself by saying something they shouldn \\' t know ( pronouns used to protect the gender of the \" character \" . . . grammar be damned ) . \" how did you know that ? \" the stunned protagonist asks , suddenly realizing that the character was in on the whole thing all along . . . since twist endings are currently so in vogue , and seeing as how kruger \\' s screenplays usually come equipped with about three twists per ending , i guess it \\' s no wonder why he works so frequently . he \\' s quickly becoming miramax \\' s mickey mouse ; the company has already signed him to work on several of their upcoming projects . this is appropriate considering that miramax ( which used to place their label on some of the most artistically daring films ) has quickly become a grindhouse for coddling foreign imports ( life is beautiful ) and freddie prinze jr . vehicles . their company \\' s current logo could be \" we ride the trends \" . reindeer games stars ben affleck as rudy , a supposedly hardened criminal spending his days and nights behind bars with fantasies of pecan pies dancing atop his head . although affleck is given some barbed wire tattoos to insinuate bad assness , he plays the role like steve guttenberg preciously mugging through a police academy flick . affleck is such a puppy dog that it \\' s impossible to believe he could survive in a harsh prison environment without becoming nearly everyone \\' s bitch . the role itself is so badly written ( the character only grows balls when the plot calls for it ) , the twists so outrageous , and the directing so self consciously gritty that this is about as close to self parody as i can recall a recent \" serious \" movie getting . it may have been wiser had the film makers simply went all the way in that direction , casting jerry seinfeld as the hardened criminal and howard stern as the sniveling bad guy ( who \\' s played here by gary sinise in yet another over the top villain performance ) james frain is nick , rudy \\' s cellmate , a manslaughterer who \\' s found a pen pal in the gorgeous ashley mason ( charlize theron ) . ashley is a prison groupie who sends nick many cheesecake photos of her though she \\' s never seen one picture of him . which works out fine since the character is killed in a near - riot , and rudy ( who was to be paroled on the same day as nick ) takes his place , which leads to a sudden and very frenzied sex scene between ashley and rudy ( so frenzied it kinda looks like rape ) and a surprise visit from ashley \\' s brother , gabriel ( gary sinise ) , who waltzes into their shabby hotel room flanked by his thuggish co - horts . he plans to rob an indian casino on christmas eve with the assistance of rudy who he thinks is nick who , according to what he wrote in the letters to ashley , used to work as a guard in the indian casino . though by the end , the film pulls the rug out from under us so frequently that everything i \\' ve described might as well be irrelevant . this is what you can expect should you chose to take this reindeer on ; several scenes in which , after catching his prey , the bad guy proceeds to stall interminably until the good guy has a chance to kill his captor and crack a stupid one - liner . included : two ( 2 ) scenes of two ( 2 ) different bad guys explaining their motives to the hero when they should be killing him ( one following the other no less ) . though it \\' s an action film , the ending is more a talkfest where we get the whole movie explained to us by one flustered character actor after another while affleck looks on , incredulous as the audience . the flick was directed by john frankenheimer , a straightforward action director who lucked into the manchurian candidate early in his career , fell off the a - list following a string of flops and now , in his old age , is slowly climbing his way back up . it would be a success story if he were choosing better scripts but his last major film was ronin ( one of those almost but not quite movies ) which followed the island of dr . morneau ( you remember , the one with marlon brando in mime make - up and a not so flattering moo - moo ) , and now this . he films action sequences with a minimum of quick cutting which i like considering that nowadays action scenes are commonly comprised of millisecond flash cuts strung together and laid out for a brain - zapped mtv audience to pick apart . problem is these action scenes ( nearly all failed escapes ) serve no purpose in the story other than to further pad out the running time and to remind the audience that their watching an action movie rather than a filmed radio play . character problems abound ; rudy is made to shift between sweet boy next door earnestness and hard edged wiseacre , the latter of which is not ( at least at this point ) something ben affleck is capable of pulling off . the former he can do with ease and often the actor coasts on his lackadaisical charm while those around him growl and swear . but then suddenly affleck starts growling and swearing alongside them like the class clown imitating a tarantino gangster . charlize theron , an extraordinary talent , is , like affleck , playing whatever part the script requires her to play , whether it be vulnerability at one moment , anger at the next . she never has a chance to evince any charm or make much of an impression beyond her obvious physical attributes ( frankenheimer has her needlessly pop her top to further italicize this . gary sinise has played this role frequently , and here , as in snake eyes , he does the snarling bad guy thing with such over the top vitriol ( the guy must be so incredibly bored of stomping through the same paces that going out of control is the only thing that keeps him interested any more ) , that it becomes more of an annoyance ( oh there he goes again ? ? ? ) than a threat . these are talented people who made the mistake of jumping on to a script with little but stock characters and a bag of tricks that it dully springs on its audience .', 'a follow - up to disney \\' s live - action \" 101 dalmatians \" that \\' s better , more entertaining than the first ? just as unlikely . with \" 102 dalmatians , \" the disney studios have proven that when it comes to going to the dogs , more is definitely * not * the merrier . 1996 \\' s \" 101 dalmatians \" certainly wasn \\' t the greatest movie - going experience of all time , but it did feature glenn close in an outrageous , larger - than - life performance . in addition , we had two amiable leads in the form of jeff daniels and joely richardson , and lots and lots of adorable spotted puppies . this time around there seem to be fewer puppies on the screen , and close \\' s facial and physical gyrations are starting to feel as old as the 53 - year - old actress under that startling black and white wig of hers . but that \\' s only half the problem with kevin lima \\' s laborious film . what makes \" 102 dalmatians \" such a collosal bore is its embarrassing attempts at humor ( here almost single - handedly foisted on a wisecracking macaw who thinks he \\' s a dog , voiced by eric idle ) , its rabid plotlessness ( cruella goes after puppies again ; winds up in goo again ) and most of all , the incredibly wooden actors who plays the romantic \" heroes \" of the piece , a welshman named ioan gruffudd and the blander - than - bland alice evans as a parole officer named chlo ? . gruffudd is cute and harmless , perhaps , but evans can \\' t even aspire to that . the dogs upstage them both , of course , but in the case of evans , even close \\' s split ends are more animated . bad acting , however , seems to be a requirement for this sequel , since g ? rard depardieu shows up as a french furrier with a haircut like robert de niro \\' s in \" men of honor . \" jean pierre le pelt is a flamboyant fashion designer with a penchant for fine furs and depardieu \\' s over - the - top antics mimic those of the campy close flail for flail , and wail for wail . france \\' s most popular export besides brie has long since turned into a caricature of himself , and in \" 102 dalmatians \" the producers milk that realization for all it \\' s worth -- le pelt likes to refer to the furry little critters as \" poopies , \" par example ( and ad nauseum ) . the finesses of the script ( attributed to four screenwriters no less , and far removed from anything dodie smith ever dreamed up ) are quickly dispensed with , since all it takes for a paroled cruella to be shaken from her years of successful aversion therapy in the slammer is the tolling of big ben ( ? ) . that done , it \\' s back to the mansion to roll around in her heretofore off - limits sables and minks and a plan to skin those little dahlings for the sake of a hooded designer gown . the dogs are pretty cute -- try making a puppy look otherwise -- but that \\' s pretty much all they are . there \\' s always the feeling that there \\' s a trainer off in the wings , coaxing the dogs to open doors , or pick up their food bowls in unison , or pop a tape into the videocasette recorder . savvy holiday goers should skip \" 102 dalmatians \" and pop the original 1961 animated classic into * their * vcrs instead . it \\' s one dalmatian less , but 101 % more satisfying .', 'one - sided \" doom and gloom \" documentary about the possible annihilation of the human race as foretold by the bible . orson welles narrates and appears in the film in which he , along with best - selling author hal lindsey , discusses various prophecies from the bible and relates them to recent ( well for 1976 anyway ) events . the film is dated badly , as many things that are supposed to happen in the \" future \" never do . for example , the planets of the solar system were supposed to line up in the year 1982 and cause chaos here on earth . we \\' re still here . the arms race between the soviets and america was supposed to kick - off the apocalypse . we \\' re still here . some of the more ludicrous moments come when it \\' s alluded to that people like jimmy carter and henry kissinger may actually be the antichrist ( ! ) . also , there \\' s ten minutes of stock footage at the end of the film meant to give us an idea of what the battle for armageddon might be like . if it \\' s anything like it \\' s depicted as here then it \\' s going to be incredibly boring . the late great planet earth is available on dvd from vci home video . it contains the film in standard form ( aspect ratio of 1 . 33 : 1 ) , although some moments of stock footage are letterboxed . also included are brief bios on orson welles and hal lindsey , as well as a trailer for another recent vci home video release , chariots of the gods . audio is mono dolby digital , and the video is fair to good for a film like this . i believe this is the first appearance of this film on any home video format so any condition at all is fine with me . certainly i never expected a remastered print . curiously , the menu screens on this dvd look nothing like the menu screens pictured on the back of the case . but they \\' re menu screens . . . so who really cares ? [ pg ]', 'play it to the bone , the newest addition to ron shelton \\' s sports - themed repertoire fails in numerous ways . like most of shelton \\' s other great films ( bull durham , white men can \\' t jump ) , this dud unsuccessfully attempts to use athleticism as a method of connecting characters and creating interesting subplots . shelton \\' s films are not considered sports films , but they do heavily revolve around a specific game to tell a story . shelton has been so good in the past at using sports to analyze the structure of society that from his collection of films we are given an examination of different classes and races living in various different regions . play it to the bone is unsuccessful because not only is the boxing theme dull , but the side story of the two guys and a girl travelling across the country is even worse . the film has no social message like its predecessors . the relationship between the friends , two failed boxers who must face off against each other in the ring for 50 thousand dollars , is very confusing for a number of reasons . the whole film , since it is primarily a \" buddy picture , \" depends on the strength of the friendship the two characters have for each other . unfortunately , it is a very weak bond for the reasons listed below . 1 ) we never see how cesar ( antonio banderas ) and vince ( woody harrelson ) meet . the two are so different from each other , that a scene of how this odd friendship developed should have been mandatory . 2 ) vince and cesar argue every moment possible on their trip to las vegas . there is not one convincing moment dedicated to seeing the characters laugh together or actually agree on something . 3 ) the third character on the trip , grace ( lolita davidovich ) stands in the way . she is in nearly every scene with them , making it impossible to understand the difficulty the two male characters are going to have when they fight each other . 4 ) there are two many interfering , irrelevant side stories . vince is convinced that he sees jesus on a regular basis , cesar yells at the sky in spanish when he is angry , and grace tries to sell her inventions to hotel owner robert wagner . these boring tales only hurt the central plot . 5 ) when it comes to time for the two men to fight , they don \\' t even hesitate to pound each other . wasn \\' t the whole point of the road trip to show that these two are friends who could never hurt each other ? by the time the road trip part of the movie is over with , the film wants to be over . shelton , on the other hand , continues to tell his story . forty five painful minutes remain . the boxing scene between cesar and vince starts out very powerful and interestingly different from other boxing movies . however , the fight goes on for way too long and becomes very repetitive and predictable after awhile , kind of like the whole film .', 'some movies i should just skip . my daughter and i had a really vile time at my favorite martian a few weeks back , and here comes another disney effects - filled live - action flick based on an old tv program . true , the probgram is only 15 years old this time , and it \\' s a cartoon . but it \\' s a cartoon i liked , and i was understandably reluctant to see what disney had done to it on the big screen . but my daughter really wanted to go , and how bad could it be ? turns out i was right , mostly . inspector gadget , oddly enough , follows almost exactly the same format as my favorite martian , down to the jive - talking side - kick . at first i thought it was done by the same people , but imdb informs me that ig was directed by david kellogg and written by dana olsen and kerry ehrin , where mfm was directed by donald petrie and written by sherri stoner and deanna oliver . this odd similarity between the two movies may best be explained by the studio that produced it , where \" formula \" isn \\' t just business , it \\' s a way of life . the producers who obviously micromanaged the two projects should get prominant screen credits . in some parts you can just hear them saying \" more zany ! i want more zany here -- and -- here . \" \" let \\' s have a really painful sexual reference for no reason right here -- make it really painful . i want the audience squirming in their seats . \" \" ok , that \\' s fine , but i want you to add bug guts . \" \" what does this scene do ? character depth ? but where \\' s the zaniness ? i don \\' t see zany here . if you can \\' t make it zany , cut it ! \" the latter is the only explanation i can come up with for the absence of the thoroughly charming michelle trachtenberg for most of the movie . michelle ( who plays penny , gadget \\' s niece ) shines in every scene she \\' s in , but unfortunately she only gets about nine minutes of screen time . my guess is that the rest is on the cutting room floor . dabney coleman \\' s comedic talents are utterly wasted as chief quimby . i kept expecting him to say or do something really funny and somehow save the film , but instead , he does the best he can with some really poor lines in a few unexceptional scenes . he is thoroughly upstaged by cheri oteri as the \" gidget bitch from hell \" town mayor . oteri \\' s overly enthusiastic and continually self - congratulatory speech patterns and mannerisms were so much like portland , oregon \\' s own manic mayor vera katz that i had to wonder if the studio wasn \\' t poking fun at our fair town . or , maybe all career politicians are like that . i must say , matthew broderick does not stroll through inspector gadget as he did godzilla . he appears to have some fun with the film , especially as the evil gadget . rupert everett is entertaining as the maniacle claw . joely fisher does fine as the zany scientist and even better as the zany carbon copy of herself . her performance is one of the few things worth watching in the film . d . l . hughley plays the shuckin \\'- and - jivin \\' vehicular side - kick , in a role that firmly sets emancipation back 20 years . the dialog is . . . let \\' s face it , it \\' s pretty bad . the tag - line after a major set - piece battle is a faux pas that makes no sense in context . a lot of the lines ( especially hughley \\' s ) appear to be made up as they go along , by people with little gift for ad - lib . about three - quarters of the film is a somewhat unnecessary origin story for both gadget and claw . gadget then spends the latter third of the movie trying to locate claw and having various altercations ( not really \" battles \" ) with the evil gadget . penny does about a minute and a half of the detective work her character did every week in the cartoon . let me rage here just for a minute . michelle trachtenberg was an excellent choice for the penny character . she \\' s utterly charming , and has excellent experience ( harriet the spy ) for the part of the pint - size detective . why she is so underutilized in this film is a real mystery . the film loses a star for casting brilliance coupled with scripting ( or editing ) stupidity . inspector gadget is missing the long , long stretches of potty humor that ( among other things ) made my favorite martian so unbearable , but it \\' s a very short movie , so perhaps something was cut at the last moment . probably the best scenes in the film occur during the end credits . the \" evil sidekick support group \" is especially worth seeing , and has an amazing number of cameo appearances for the few seconds it \\' s onscreen . all in all , another bad live action film from the premere studio for bad live action films . i wonder if disney uses the revenues for it \\' s generally money - making cartoons to produce these losers . but if true , why ? if they \\' re trying for another mary poppins , they need to find a team that can produce one , and then give them a chance to do it .', 'hong kong cinema has been going through a bad spell . the last few productions have been effect laded action adventures that combine both the best and worst of american filmmaking with the same qualities of hong kong films . in a nutshell , the current crop of films from hong kong has been maddeningly convoluted and visually sumptuous . with the one time british colony reverting back to mainland ownership , a lot of hong kong \\' s best talents have crossed the pacific to work on u . s . productions . such talents as jackie chan ( rush hour ) , chow yun - fat ( anna & the king , the corrupter ) and yuen woo - ping ( the matrix ) have all moved into the budget bloated world of hollywood filmmaking with mixed results . now we can add two other hong kong filmmakers to the mix with star jet li and director and fight choreographer corey yuen kwai . unfortunately \" romeo must die \" bears all the trademarks of a typical hollywood action film and none of hong kong \\' s rhythms . the film opens in a nightclub as an asian couple is necking . enter a group of chinese gangsters led by kai sing ( russell wong ) . kai confronts po sing ( jon kit lee ) , the son of kai \\' s boss and leader of the local chinese family . a battle breaks out between the bodyguards of the club and kai , who handily kicks and punches his opponents down . it \\' s not until club owner silk ( rapper dmx ) , bears down on kai and his henchmen that the fight ends . the following morning po sing is found dead . suspicions escalate , as issac o \\' day ( delroy lindo ) is told of the murder . his concern that the war between his and the chinese family may explode and ruin his plans to move out of the business of corruption and into a legitimate venture . issac implores his chief of security , mac ( issiah washington ) to watch after his son and daughter . the scene shifts to a prison in china , where han sing ( jet li ) learns of his brothers murder . he fights with the guards and is dragged off to be disciplined . hung upside down by one foot , han recovers and battle his way out of custody in a blistering display of fight choreography and stunt work . escaping to the u . s . han sets out to find the person responsible for his brother \\' s death . \" romeo must die \" is in many ways a fun film . it is both absurd and assured . the basic plot of a gangster wanting to become legitimate echoes \" the godfather \" . the relationship between jet li \\' s han and aaliyah \\' s trish o \\' day reminds us of abel ferrera \\' s \" china girl \" , except that romeo must die \\' s couple never once exchange more than a loving glance towards one another . their romance is much more puritanical than any other romance in film history . the performances are adequate if not fully acceptable . li , of course has the showiest part , having to express both an innocents and steadfast determination . allayah , in her feature film debut manages to carry what little is asked of her with a certain style and grace . it \\' s obvious that the camera loves her and she is very photogenic . but , still the part is under written in such a way that even a poor performance would not have affected it . delro lindo as issac o \\' day carries himself well in the film . an unsung and under appreciated actor , mr . lindo turns out the films best performance . the other performers are all adequate in what the script asks of them except for d . b . woodside as issac \\' s son , colin . the performance is undirected , with the character changing his tone and demeanor in accordance with whatever location he is in . an unfocused performance that should have been reigned in and / or better written . first time director andrzej bartkowiak does a workmanlike job in handling the film . having a career as one of the industry \\' s best cinematographers , bartkiwiak knows how to set up his shots , and \" romeo must die \" does look good . but the pacing of the film is lethargic , only coming to a semblance of life during the fight scenes . the script by eric bernt and john jarrell is not focused in such a way that we can care about the characters or the situations they are in . the big gambit of buying up waterfront property to facilitate the building of a sports center for a nfl team is needlessly confusing . and of course the common practice of one character being the comic relief of the film becomes painfully obvious here as anthony anderson as allayah \\' s bodyguard , maurice has no comic timing whatsoever . the best things about the film are its fight scenes . jet li is a master of these intricate physical battles . one needs only to see his film \" fist of legend \" to understand that the man is without peer in the realm of martial art combat . here , jet is given the opportunity to show off in a way that \" lethal weapon 4 \" ( jet \\' s u . s . debut ) didn \\' t allow . unfortunately , a lot of jet \\' s fights are aided with computer effects that detract from his ability and precision . also \" romeo must die \" must be noted as having the most singularly useless effect ever committed to film , and that is an x - ray effect that appears three times during the course of the film , showing the effect of bone crushing blows on an opponent . obviously a homage to the famed x - ray scene from sonny chiba \\' s \" streetfighter \" , the scenes here are just pointless and interfere with the pacing of the film . it \\' s as if the film has stopped and a video game has been inserted . one problem though about the fight scenes . those that are familiar with hong kong action know that even though the films are fantasies and are as removed from reality as any anime or cartoon . they do have an internal rhythm to them . a heartbeat , so to speak in their choreography . the fight scenes in a hong kong film breath with an emotional resonance . this is created by the performance , the direction and the editing . here in \" romeo must die \" , there is no staccato . every fight scene , even though technically adroit and amazing becomes boring as the editing both cuts away from battle at hand and simple follows a set pattern . the rhythm is monotonous . a hong kong film has a tempo that changes , heightening its emotional impact . \\' rmd \\' is limited to a standard 4 / 4 tempo , not allowing for any emotional content whatsoever . a fine example of this difference can be found by examining a couple of jackie chan \\' s films . . watch the restaurant fight from the film \" rush hour \" and notice that the context of the fight , while technically amazing is rather flat ( the framing and cut always do not help ) . now look at the warehouse fight from \" rumble in the bronx \" . there you have a heartbeat , and emotional draw that doesn \\' t let the audience catch its breath . the stops and pauses for dramatic effect work perfectly , causing the viewer to be both astounded and flabbergasted . here in \\' romeo must die \\' , the fight scenes have no more emotional content or character than any john wayne barroom brawl . jet li is a grand and personable screen presence . it \\' s a shame that his full talents were not used to full effect here . one day filmmakers here in the u . s . will stop making films by the numbers and start to embrace the style and emotion that has made hong kong action pictures such a commodity . until then , we \\' ll be left with emotionally hollow product like \" the replacement killer \" and , currently \" romeo must die \" .', 'i wish i could have been in the pitch meeting for this ridiculous notion of a sports film . i bet it was some hotshot warner brothers agent with an dark armani suit and manicured fingernails saying , \" it would be a very light comedic version of any given sunday , and we could throw in the hoosiers angle with the casting of gene hackman as the tough but determined coach . throw in that hunk of a guy keanu reeves and a cast of wacky characters and poof ! we \\' ll have a hit on our hands ! \" the replacements is a hokey mistake of a football film , a mishmash collage of one - dimensional characters , rampant stereotypes of cultures and races , cliched emotional statements of purpose , and keanu reeves wishing for the matrix sequel to start principal photography . the story is loosely based around the pro football players \\' strike in 1987 and a rag - tag team of replacement football players taking up the reins of professional play for a variety of teams with names like the washington sentinels . keanu reeves stars as shane falco , a has - been football college player looking for redemption . gene hackman dons a fedora like tom landry and speaks with gusto like a certain coach in hoosiers . rounding out the cast includes swingers \\' jon favreau , 7 - up pitchman orlando jones , gruff owner jack warden , and cast of wacky and unknown actors who do amazing jobs of portraying perfectly stereotyped characters : the drunken welshman , the overweight sumo wrestler , the black convict , the violent cop , and the dumb , dumb cheerleaders . this bunch of nobodies try to make something of themselves by taking the team to the season playoffs with unbelievable football plays , gene hackman yelling and asking himself where the hell dennis hopper is , keanu reeves looking for his body double making him look good on the football field , and cheerleaders hired from the local strip club making the girls from coyote ugly look like waitresses from denny \\' s . the usual things happen like clockwork . the hero rises from the ashes of failure , the team comes together in unity , the hero falls in love with a conventional love interest , the football games are won with enough schlock value to make the most ignorant of audiences cheer and clap , and the cheerleaders make you want to go home and watch late night movies on cinemax . it \\' s also a shame when decent directors with good movies under their belts go to seed and become television and sequel hacks . howard deutch , who was behind the camera for two of the best films of \\' 80s - pretty in pink and some kind of wonderful , has since been doing grumpier old men and caroline in the city episodes . obviously the problem is that without a good script , any director will fail in the end . sports films are strong vehicles for cinematic glory , gritty tales involving the honor of men and the valiant efforts taken for the ultimate goal of victory in the face of insurmountable odds , the rise and fall of gallant heroes , and stories of dramatic gusto painted with blood and sweat on the battlefield of life . the replacements offers none of this .', 'if you \\' re into watching near on two hours of bored , foul - mouthed florida teens having sex , doing drugs , having sex , listening to eminem , having sex , playing video games , having sex , and killing one of their peers , then \" bully \" \\' s for you . based on jim schutze \\' s novelization of a true - life event , \" bully \" charts the story of a handful of disenchanted teenagers who , in 1993 , murdered their high school bully in cold , calculated blood . the film could have provided fascinating insights into what turned these aimless kids into premeditated killers . in the hands of controversial director larry clark ( \" kids \" ) , however , it has less to say about its subject matter and more to say about the filmmaker \\' s pornographic proclivities . in terms of the incident and what provoked it , \" bully \" stirs up nothing new . the high schoolers are presented as a uniformly screwed up lot -- bored with life , not much ambition , promiscuous , profane . the bully in question , bobby kent ( nick stahl ) , is certainly an unpleasant piece of work but he doesn \\' t exactly tower over his colleagues in the pathological department . he hounds and harries and humiliates his \" best friend \" marty ( played by brad renfro ) and marty \\' s girlfriend lisa ( rachel miner ) doesn \\' t care for it at all and comes up with the idea of killing bobby . simply remove him from the equation . marty and lisa and a handful of their promiscuous , profane , and stoner friends , plus a recruited hit man ( ? ) , lure bobby to a swamp one night , stab him , beat him over the head with a baseball bat , and dump him into the canal where the sand crabs and the gators , presumably , finish him off . there \\' s no remorse -- the next day they \\' re talking about it as openly as a homework assignment . they did it because they wanted to , and because they could . what \\' s most troubling about the film , however , isn \\' t the unsettling subject matter and the matter - of - fact way these young people go about eliminating one of their own but the way in which clark is constantly distracted by his own material . not only is the nudity plentiful and graphic in \" bully \" but there \\' s also an uneasy , exploitative feel to it . gratuitous crotch shots abound ( one of which makes the zipper cut - away in \" there \\' s something about mary \" look like the height of subtlety ! ) . clark is so pre - occupied with his female ( predominantly ) leads that you forget , at times , what this movie is supposed to be about . the stripping bare , literally and figuratively , of these actors ( who are , after all , playing underage teenagers ) becomes harder to watch over time , as you begin to feel for them and question the motives of the man behind the camera . the conclusion of \" bully \" offers up literal snapshots of information about the sentences imposed on each of the protagonists for their involvement in the crime . it \\' s a short sequence of stills -- heather : 7 years ; ali : 40 years ; lisa : life imprisonment , for example -- but it \\' s infinitely more telling than the 110 minutes of rampant unpleasantness that precedes it . \" bully \" aims for truth , exploits it shamelessly , then bludgeons it to death .', 'sean connery stars as a harvard law professor who heads back into the courtroom , by way of the everglades , to defend a young , educated black man ( blair underwood ) . the guy is on death row for the murder of a white girl , and says that his confession was coerced from the region \\' s tough , black cop ( lawrence fishburne ) . watching connery and fishburne bump heads for two hours is amusing enough , but the plot \\' s a joke . there \\' s no logic at work here . tone is also an issue -- there is none . director arne glimcher never establishes exactly what his film is trying to say . is it a statement on human rights ? is it a knock - off of silence of the lambs ? glimcher never tells . instead , he forces his characters to jump through hoop after hoop , over drawbridge after drawbridge , hoping that the audience won \\' t notice what \\' s missing . just awful . the madness of king george 107 min . / not rated ========================== still wondering who nigel hawthorne is ? then check out his oscar - nominated work in the madness of king george , still playing in both raleigh and chapel hill . stage director nicholas hytner , in a remarkable screen debut , has adapted alan bennett \\' s 1991 tragic comedy to fine effect . sumptuous - looking and only mildly stuffy , the film charts the madness that plagued king george iii ( hawthorne ) almost 30 years into his reign . a man of no importance 98 min . / rated \" r \" ====================== in suri krishnamma \\' s a man of no importance , albert finney disappears so deeply into the role of a lovable dublin bus conductor that it \\' s a shame when the film gets so serious around him . his character is a conductor with a passion for oscar wilde . he reads to his riders , and once a year , with their help , he tries to stage one of the author \\' s plays . this year it \\' s \" salome . \" for about an hour , there \\' s a sweet magic behind finney and his troupe of working - class stiffs . conflict arises , but it \\' s small stuff -- an administrator from the bus company here , an outraged catholic pork butcher ( michael gambon ) there . but with finney at the wheel , so to speak , the film rolls smoothly over these plot points -- just like the gorgeous leland double - decker bus in the story . where things get serious is toward the end of the film , when the plot takes a turn that the bus never would , and the story heads down a very dark alley that marks the end of an enjoyable ride . the twist makes sense -- and helps paint a complete picture of finney \\' s character -- but the trip to get there betrays the light , airy atmosphere of what had come before . it \\' s not a fatal misstep , mind you , and it doesn \\' t send the story soaring into the realms of incredulity . it \\' s just a turn off . dr . strangelove 93 min . / not rated =============== mein fuhrer ! the most fun that * i * had last month was in durham , at the carolina , at a mid - week screening of stanley kubrick \\' s pitch - black comedy dr . strangelove ( or how i learned to stop worrying and love the bomb ) . the 1964 film stars peter sellers ( in three roles ) , george c . scott , sterling hayden , and slim pickens . their antics brought the house down , which , to my surprise , was packed by an audience younger than the film .', \"among multitude of erotic thrillers , that had been released in the early 1990s , woman of desire is interesting only because it was directed by robert ginty , star of the b - grade action films of the previous decade . those who tend not to be nostalgic about 1980s can find very good reason in the type of movies that made ginty the star . as director , ginty did very little to improve that impression . the protagonist of the movie is jack ( played by jeff fahey ) , yacht skipper that falls madly in love with christina ford ( played by bo derek ) . however , she has relationship with rich and powerful jonathan ashby ( steven bauer ) . one stormy night , the tragedy occurs and jack is accused of rape and murder . however , his good friend walter j . hill ( robert mitchum ) happens to be very good lawyer , so jack might even prove his innocence in the end . belonging more to the genre of courtroom drama than erotic thriller , woman of desire distinguishes itself from similar films by having almost all characters behaving like total idiots . unfortunately , this film isn ' t comedy and any laugh is unintentional . the characters are totally antipathetic and irritating and soon we stop caring what would happen to them . the actors that play them don ' t help either . that is especially the case with jeff fahey , whose jack is so stupid that even the character played by fahey in lawnmower man looks like a genius in comparison . his partner bo derek , on the other hand , shows that she didn ' t age enough to cease being the sex goddess , but that is small compensation for her apparent lack of acting talents . ginty , on the other hand , tries to bring some life in the movie by using many flashbacks and strange angles of shooting , but in the end it gets only irritating to the already bored and dissatisfied viewer .\", '\" lake placid \" marks yet another entry in the series of \" predator pics \" that were a screen staple in the late 1970s ( post - \" jaws \" ) and were revived recently by the godawful \" anaconda . \" \" placid \" claims to be a \" horror / comedy \" - it \\' s directed by the same guy who did \" house \" - but its attempts at humor are actually less funny than deadpan seriousness of \" anaconda . \" paleontologist kelly scott ( bridget fonda ) is sent up to maine to examine a tooth removed from a body that had been bitten in half on the lake . discovering that the tooth belongs to a crocodile ( which shouldn \\' t even be in this hemisphere ) , kelly goes croc - hunting with game warden jack wells ( bill pullman ) and sheriff hank keough ( brendan gleeson ) . they \\' re joined by an unwelcome guest , hector cyr ( oliver platt ) , a scholar who worships crocs and searches all over the world for them . along the way , the merry band meets mrs . delores bickerman ( betty white ) , a weird old lady who lives out on the lake . you know what to expect from this movie : lots of shots where the camera is the eyes of the predator ( croc cam ) swimming toward someone \\' s dangling legs while \" jaws \" - like music plays , one character ( hector ) who \\' s obsessed with the croc and stupidly endangers the rest , another character who insists that the predator can \\' t possibly exist . unlike its slippery cousin \" anaconda , \" \" lake placid \" wants to present its formulaic plot tongue - in - cheek , which is self - defeating . the result is neither scary nor funny ; it \\' s just tedious . while director steve miner has several horror films on his resume ( including two installments of \" friday the 13th \" and \" halloween h20 \" ) , screenwriter david kelley ( best known as the creator of tv series like \" ally mcbeal \" and \" chicago hope \" ) doesn \\' t seem to have the stomach for a chomp \\' em up flick . the body count is surprisingly low and doesn \\' t include any of the major characters , and most annoyingly kelly and hector insist that they capture the crocodile alive rather than killing it . ( \" lake placid \" manages to have it both ways - i \\' ll let you discover how for yourself ) . the croc itself is mostly computer - generated , of course . like the snake in \" anaconda , \" the thirty - foot monster crocodile doesn \\' t seem real ; it moves too quickly and in ways that seem unnatural . \" lake placid \" also offers little explanation for why a giant crocodile is in maine . there is a lot of semi - mystical mumbo jumbo about how \" we really don \\' t know much about crocodiles . \" they would have been better off going with something like the urban myth about alligators in the sewers . a movie like this doesn \\' t have to offer much of an explanation ( radioactive mutant ? creature from outer space ? ) , but it does have to give the audience something to hang their disbelief on . pullman and fonda seem to be plodding through the movie on auto - pilot . most of the time , they \\' re probably thinking about killing their agents or wondering if making this movie marks the end of their careers . platt and white , on the other hand , seem to be giving their best efforts , and they manage to squeeze a few chuckles out of this sorry script .', 'capsule : where are you tonight , leni rienfenstal ? starship troopers is an expensive , hateful and unenjoyable piece of violent pornography -- and bad pornography , at that . it is not good cinema , not good storytelling , and not even stupid fun : it \\' s so cynically , calculatedly bone - headed that even the least demanding members of the audience i was with were alternately bored and revulsed . it \\' s one of the worst movies i \\' ve seen in a long time . why am i calling this movie pornography ? pornography , in the abstract , is anything which is calculated to appeal to the baser instincts . i remember reading a review of full metal jacket which described the climact moment at the end of the movie , where private joker has to shoot the downed vc sniper , as \" a near - pornographic eternity \" . i didn \\' t agree with that assessment , but i could see what was being implied : the reviewer felt as if the audience was being incited to stand up and pump their fists and shout \" do \\' er , man , do \\' er ! \" that sentiment is echoed ad nauseam throughout starship troopers . it \\' s * literally * like a giant recruitment film that has gone berserk . it tries frantically to enlist our emotions but it winds up only being dull or sickening . the film takes place in our future , when earth has come under attack by some alien species that doesn \\' t appear to have intelligence . to counterattack , humankind does the single stupidest thing imaginable : instead of nuke the planet from orbit , which they \\' re clearly capable of , they send down grunts with m - 16 rifles . this isn \\' t heinlein , it \\' s a bad wwii movie , one where all the most obvious points of satire are ever poked and prodded in combat scenes that are noisy , repetitive , and ultimately tiresome . ( one scene has a journalist on a battlefield , filimg soldiers being slaughtered , and ends with groaning predictability : said cameraman gets skewered , too . ) the soldiers and their commanders are consistently idiotic . they do not possess a germ of tactical intelligence or even common sense . they don \\' t even behave like soldiers in a bad * movie * , and therefore we don \\' t care about them . we hated the tom berenger character in platoon , but he * mattered * , and therefore we were curious to learn about his fate . here , we don \\' t even hate the bugs -- what \\' s there to hate ? hating them would be like cursing a hurricaine . if there \\' s anything really hateful there , the movie doesn \\' t know how to give it to us . the screenwriter ( ed neumeier -- perhaps a better appelation would be \" screen typist \" ) and director ( the increasingly talent - impaired paul verhoeven ) have not found any way to make the characters or the story serve each other . one of the subplots concerns a woman pilot who \\' s great at getting out of tight situations , and does it again and again and again . once or twice is fine . by the fifth or sixth time , it \\' s worn out its welcome . there \\' s never any sense that these people are really thinking their way out of anything , or really being tested to show their mettle . also , the movie is irritatingly selective with how effective the bugs are to earthling weaponry . if a bug has one of the humans screaming in its grasp , then five guys can stand around it and blast away on full auto without doing a damned thing . but if one human gets cornered , he lays waste to whole platoons of bugs with one clip . uh - huh . the very worst feature of the movie is its repulsive quasi - fascist flavor . i say \" quasi - \" because while the movie uses many of the trappings of fascism ot eroticize its action -- the gear , the uniforms , etc . -- the movie doesn \\' t have the nerve ( or the brains ) to be genuinely fascist , or intelligent about the subject . the bumpers between scenes , which are apparently intended to parody wartime recruitment propaganda are propaganda -- just so clumsy and oafish that they wind up making the bugs look relatively innocuous in comparison . like the rest of the movie . there \\' s more , i suppose , but it \\' s not worth it . the acting is bland , neither arsenic nor gravy ; the music disposable ; the camerawork turgid . the heartbreaking thing is that it makes independence day look like a masterpiece .', 'the classic story & the production which ruined it marking the centennial anniversary of the 1896 h . g . wells classic , new line cinema , armed with a stellar cast and expert make - up effects man stan winston ( alien , predator , terminator etc ) churns out yet another hollywood film based on the classic novel . of course , the production is no doubt much more superior compared to the earlier 2 movies , one of which was made back in the 1933 and the other in the 1977 , under the title the island of lost souls ( sounds like a much better title . . ) . the story begins with edward douglas ( thewlis ) , a un representative sent to oversee a peace treaty somewhere in the south pacific , who is saved from the brink of death by montgomery ( kilmer ) after his plane crashes into the sea . douglas soon learns that montgomery is working for dr . moreau , who incidently , owns the island and also a reputable geneticist who has been awarded the nobel prize . his host \\' s reluctance to allow him to freely move around the island becomes clear when he stumbled into moreau \\' s lab , when a monstrous birth was in progress . even worse , the other workers in the lab are not exactly normal \" people . \" douglas stumbles across yet another shocking discovery when he is led to the beast - people community , which considers dr . moreau their maker . using shock - therapy and the law , dr . moreau has long been able to keep his beast - people civilised to some extent but there are a few animal - men who are just too savage to be controlled . the island of dr . moreau questions the ability of men playing god . dr . moreau is a man obsessed with creating a race of beings which is free from hate and violence . . . but the savage within every beast is not something one can suppress for long . moreau has no doubt a very interesting premise within its grasp . even so , the production has failed to make the most out of it . there are too many characters to put your attention to and the worst thing is , the characters are not \" prioritized \" so when the audience is led to believe that a particular character is important , before they know it , he or she or it perishes . . . . rather ungloriously at times too . perhaps there is some redemption in the development of the beast people , especially aissa ( balk ) , the most human of moreau \\' s creations . the two very important characters , montgomery and dr . moreau himself receive no development at all and it is in this area that the script fails miserably . more screen time could have been used for character interaction and development . i really would have liked it better if , say , they delved more into dr . moreau \\' s obsession , montgomery \\' s purpose in the story and justification to as why the beast - people had to rebel . maybe the nature of the screenplay , which incidently , does not incorporate much action sequences in the film , forced the filmmakers to \" cut a long story short \" and make it more of an action film than anything else ( it \\' s still summer , and movies have to be \" marketable \" ) . the special effects too , are really nothing for anyone to shout about . at most , i would say the beast - men looked just a bit more realistic than those apes in planet of the apes . this h . g . wells classic really has potential to be a good film . unfortunately , after 2 adaptations , they still could not decide on how and what to focus their attention on to really bring out that important message which makes up the entire essence of the story . as a third outing , the island of dr . moreau accomplishes little and is nothing more than an inferior version of ` the planet of the apes \\' . the flying inkpot rating system : * wait for the tv2 broadcast . * * a little creaky , but still better than staying at home with gotcha ! * * * pretty good , bring a friend . * * * * amazing , potent stuff . * * * * * perfection . see it twice .', \"lengthy and lousy are two words to describe the boring drama the english patient . great acting , music and cinematography were nice , but too many dull sub - plots and characters made the film hard to follow . ralph fiennes ( strange days , schindler ' s list ) gives a gripping performance as count laszlo almasy , a victim of amnesia and horrible burns after world war ii in italy . the story revolves around his past , in flashback form , making it even more confusing . anyway , he is taken in by hana ( juliette binoche , the horseman on the roof ) , a boring war - torn nurse . she was never really made into anything , until she met an indian towards the end , developing yet another sub - plot . count almasy begins to remember what happened to him as it is explained by a stranger ( willem dafoe , basquiat ) . his love ( kirstin scott thomas , mission impossible ) was severely injured in a plane crash , and eventually died in a cave . he returned to find her dead and was heart - broken . so he flew her dead body somewhere , but was shot down from the ground . don ' t get the wrong idea , it may sound good and the trailer may be tempting , but good is the last thing this film is . maybe if it were an hour less , it may have been tolerable , but 2 hours and 40 minutes of talking is too much to handle . the only redeeming qualities about this film are the fine acting of fiennes and dafoe and the beautiful desert cinematography . other than these , the english patient is full of worthless scenes of boredom and wastes entirely too much film . ,\", \"out of sight director steven sorderbergh baffles the hell out of us all in the limey , a cold , uninvolving , confusing new thriller . though the plot description may at first seem like it came from the pen of elmore leonard ( author of out of sight , as well as jackie brown , get shorty and pulp fiction ) , after you watch it , you realize that it ' s not nearly good enough . in an aggressively non - linear fashion , the limey ( li * mey , noun : an english gentleman ) tells the story of wilson ( terrence stamp ) , a british ex - con just released from a 9 year stint in prison for armed robbery . he has come to the us to seek vengeance for the death of his daughter jenny . he doesn ' t know much about the circumstances of her demise , all he has is a name : terry valentine . valentine was jenny ' s former boyfriend , a wealthy and corrupt record executive . he ' s played by peter fonda , in his first major role since the terrific ulee ' s gold in 1997 . seeking valentine ' s reclusive place of residence turns out to be no easy task for wilson . he finally finds the impressive abode high in the mountains and sneaks in just as valentine is having a big party . he winds up breaking his cover eventually , setting off valentine ' s head of security and valentine himself , who decides to run for it . what a mess . i have no problem when films refuse to be constricted by the linearity of time -- pulp fiction , which twisted time every which way , was a masterpiece -- but i do take exception to movies that decide to play around with it for no reason other than to confuse the viewer . the limey does exactly that . the plot is permeated with flashbacks , flash - forwards and what can only be described as random time - travel , without any evident purpose . there is no method to this movie ' s madness . it uses a fancy way to tell a story that would be better off told more conventionally and more comprehendably . the plot isn ' t particularly interesting in the first place : traditional , mildly hackneyed and not very involving . this is a sort of brooding film -- our protagonist doesn ' t speak much and the action sequences are done with an annoyingly perfunctory attitude . i felt like the director wasn ' t very interested in the proceedings himself , almost like he made this film for a paycheck . ditto for the editing , which seems to be deliberately sloppy and unpleasant . sixties icon terrence stamp manages to at least be menacing as the aging criminal . he ' s not much in the way of stature but he has a surprisingly imposing physical presence that works to his advantage here . peter fonda is an unbelievably underrated actor : he ' s shy , quiet but always effective . he ' s adept at conveying emotions through speech rather than expression : his feelings don ' t always show on his face by you can always tell what they are . this is basically a conventional thriller told in a pretentiously bizarre fashion . why soderbergh couldn ' t just parrot down and tell a story , i don ' t know , but what he does do certainly doesn ' t work . the result is a wild cornucopia of images that amount to precisely nil -- even the action scenes don ' t work . 1999 may have signified the death of the traditional act one - act two - act three storyline , but obviously some movies have not yet transcended it . shall we go back to basics ?\", 'a pseudo - intellectual film about the pseudo - intellectual world of art magazines , high art is as wasted as its drug - addled protagonists . in the only notable part of the movie , ally sheedy and radha mitchell deliver nice performances in the two leading roles , not that lisa cholodenko \\' s script or direction makes you care much about either character . living in a world of heroin induced highs , they float along until they fall in love with each other . this uninviting picture , full of pretentious minor characters , has a receptionist that reads dostoevski and a woman in the restroom line who is a certified genius , having recently been awarded a prestigious mcarthur grant . 24 - year - old syd ( radha mitchell ) , who has a rather bland , live - in boyfriend , was just promoted to assistant editor at the artistic photography magazine \" frame . \" although the receptionist is impressed , syd is mainly a gofer for her boss until she meets famous photographer lucy berliner ( ally sheedy ) . for her to do photos for \" frame , \" lucy demands that syd be promoted to editor and assigned to her since lucy fancies her . lucy lives with her current lover , a washed up german actress named greta , played with a frequently indecipherable series of mumbles by patricia clarkson . the two of them and their friends wile away their time snorting and shooting up dope , usually heroin . this does not happen in a single episode , but becomes more commonplace than sleeping in the picture . syd , who lives in the apartment below them , joins in on the fun and becomes a member of the zombie club . lucy seems pretty happy with her life of drugs , which apparently is funded by her mother . lucy quit working professionally 10 years ago since she thought she was being \" pigeonholed , \" and , since her mother has money , we can only assume that that \\' s how lucy supports her habit and procures her living expenses . a typical scene has the editors arguing about whether a potential photographer \\' s work is transcendental or merely classical . that no one has a clue as to the dogma they are spouting becomes obvious but not particularly funny . \" your work has a cultural currency that is important now , \" is the artist - speak that the frame \\' s manager uses to convince lucy to show her pictures in the magazine . when the big scene comes in which lucy puts the moves on syd , her idea of a romantic line is , \" i want to get high with you . \" in lucy \\' s world , sex and drugs come hand - in - hand . and the movie , except for the obligatory scene of someone almost overdosing , shows drug usage as being a hip and natural part of the art scene . this vacuous picture throws in a standard downer ending in an attempt to manipulate our emotions . in another movie , it might have worked , but in this one the reaction is likely to be decidedly muted . high art runs 1 : 36 . it is rated r for explicit sex , pervasive drug use and language and is not appropriate for those younger than college age .', '\" party camp , \" is one of the most mindnumbingly brainless comedies i \\' ve seen in awhile . a late rip - off of the \" meatballs \" series , the film follows a group of young camp counselors at camp chipmunk . that \\' s really about all that can be said about the \" plot \" because nothing much happens , except that the main character , wise - cracking jerry ( andrew ross ) , has the hots for a cute blonde ( kerry brennan ) , and there is a big contest in the climax . how fun ! since , \" party camp , \" has practically no screenplay and there is no talent at all involved , the least the makers could have done was make it raunchy and exploitative . it \\' s not that i think exploitation is necessarily a good quality , but when you are talking about a dull turkey like this , the least that could have been done would be to fill it with a lot of mindless sex . even a psychopathic slasher at the camp would have done the trick . at least , then , it wouldn \\' t have been such a chore to sit through . never before have i seen so many jokes fall astoundingly flat . the comedy was easy to spot , but it wasn \\' t the least bit funny . it was groan - inducing . constantly throghout , i was asking myself if director gary graver actually thought this movie was worth anything . so what saves , \" party camp , \" from the dreaded zero star rating ? well , that \\' s simple : jewel shepard , as a flighty bimbo , was admittedly fun to watch . although nothing could have saved this film from the lowest depths of motion picture trash , at least if the film had centered on shepard , she might have been able to add a little spice to an otherwise rancid , low - budget teen comedy .', 'i \\' m currently accepting all future names for drew barrymore characters . in _the wedding singer_ , she was julia gulia . in _never been kissed_ , she \\' s josie grossie . future db character names include : janet granite , janey grainy , and for that nc - 17 project in the works , jo - jo . . . aw forget it . i \\' ll stick to my day job . this is a teen movie , all right , except the main characters aren \\' t teens . drew barrymore is a copy editor at the chicago sun times who gets her big break as a reporter , only it \\' s very clear from the onset that she lacks the toughness and the pushy extravertedness that marks the best of reporters . the story she \\' s covering is not really a story , but a story in the making . she is to return to high school as a student and explain what \\' s really going on . the irony is that drew \\' s character , was such a dweeb first time around , that she is terrified at going back . when she does , she says the wrong things , wears the wrong clothes , and projects the \" i know the answer \" in class that popular kids ( or at least popular kids in the movies ) reject . at least she befriends nerdy aldys ( joan of arc \\' s leelee sobieski -- watch for her ) , who turns out to be more beautiful than those who are \" supposed \" to be more beautiful than her . what works : drew \\' s geeky old - self . after a start in films that was headline driven , and a nadir of roles that had her play the sluttish character , it \\' s a surprise to see her with bad hair , big glasses and braces . it \\' s very funny . what doesn \\' t work : drew \\' s geeky new - self . come on . nobody dresses as bad as she does . couldn \\' t she just go to _the gap_ and take suggestions ? had she dressed like princess leia it would have been better . the comedy is supposed to progress when drew \\' s younger brother ( played with zest by david arquette ) reenlists to jump - start his baseball career . now , how in the world can somebody as nerdy ( but in a funny way ) as he can be the most popular kid in the school . . . in a day ? ! the dialogue in the film is , well , an embarrassment . her co - workers ( molly shannon , john c . reilly and gary marshall ) are in terminal hyper - drive . her teenage peers ( except sobieski ) are so inept and stupid that there \\' s little bite from them . couldn \\' t the filmmakers watch _heathers_ first ? lastly , i am proud to say that i caught a significant gaffe in the film . if you see the film , you \\' d know what i \\' m talking about : drew walks into a bar , has her hand stamped , and over the night associates with some rastafarians with some delicious , um , cake . she goes wild , sleeps in late . when she wakes , she rushes off to school , without showering , without noticing that her head , lying on her stamped hand all night , has transferred part of the stamp \\' s image to her forehead , spelling \" loser \" . funny , eh ? . . . except that the hand would have transferred that image backwords .', 'when it comes to the average teenage romantic comedy , i expect negative reviews from critics left and right . predictable , unoriginal , and forgettable will most likely be the three adjectives to haunt the down to you \\' s and the drive me crazy \\' s released by the dozens these last couple of years . what i really look for in this kind of movie is the entertainment value while i \\' m sitting in the theater . am i enjoying myself ? is this a comfortable break from my week of finals ? this is why i have given films like final destination or road trip high marks ; i had a party of a time wasting my money on something i won \\' t remember next week . so last week i opened up the new york times - and , no surprise , boys and girls got a negative review . daily news ? negative . reelviews ? negative . epinions . com ? negative . this was nothing new . american pie , final destination , road trip didn \\' t get such hot reviews and i loved those guilty pleasures . same goes for she \\' s all that , a formulaic but enjoyable pygmalion adaptation that got unjustly pounded . since boys and girls reunites she \\' s all that director robert iscove and actor freddie prinze jr . , i predicted d ? j ? vu al over again . but , still curious , i asked around my school and from the one or two people who had seen it , the reactions were far from positive . i had made up my mind ; i \\' ll catch it on video or cable in a couple of years . but , soon after , following a series of unexpected events ( we couldn \\' t get into shaft because it is rated r ) , i found myself watching boys and girls . whoops . boys and girls is about a \" nerdy , smart \" boy named ryan ( prinze jr . ) and a \" popular , flirt \" girl named jennifer ( claire forlani ) . briefly meeting as pre - teens and now attending the same college , the two bump into each other so many times that eventually they become best friends . but in the movies , a male and a female cannot be friends without having that nagging feeling of attraction for each other . with advice from their roommates ( amanda detmer , jason biggs ) , ryan and jennifer attempt to discover the true meaning of their relationship . the film definitely lives up to the dreaded three adjectives - and mindless entertainment is nowhere to be found . i could hardly sit through the 93 minute running time for several reasons . the dialogue is probably the worst i have ever seen in any movie , mainly because the whole movie depends on the boring script and the ridiculous words these characters use is what hollywood thinks kids can relate to . it is almost offensive . an example of an insightful conversation : \" you \\' re dumb . dumb , dumb , dumb , dumb . \" \" no . \" ( followed by a mandy moore - esque tune background ) ( well it \\' s not as bad as wing commander i guess ) the supporting cast is also painfully useless . detmer and biggs stand in the way for anything interesting to happen with their own boring , pointless subplots . and although this is supposed to be from both perspectives of the human sex , prinze jr \\' s ryan dominates the screen while forlani \\' s jennifer simply acts as a dilemma for him to work with . we never learn anything about jennifer which is a shame too because forlani is the only actor to bring any life into her character . teenager or not : you \\' ll hate this movie , i guarantee it . maybe i should rent she \\' s all that again . is it really as good as i think it is ?', 'all through its production and into the early days of its initial , aborted pre - release publicity , hard rain bore the appropriate moniker of the flood . ultimately , however , paramount pictures , nervous that this movie would be confused with 1996 \\' s other , underperforming disaster films ( dante \\' s peak , volcano ) , changed the title and shifted the release date by nearly a year . but , to paraphrase the bard , swill , by any other name , would smell as rank . no number of name changes can help this picture . it \\' s not just about a disaster , it is a disaster . hard rain is the case of a movie that gets progressively worse with every passing minute . the best shot occurs during the opening credits , as the camera pans over the streets and byways of huntingburg , indiana as the water level slowly rises . the community , protected by an overworked dam , is being evacuated as the rain continues to pour relentlessly from the cloud - choked skies . from that moment on , it \\' s all downhill . whatever initial entertainment value the film possesses has long since drained away by the halfway point . it takes forever to get to the end credits -- this is one of the longest - seeming 95 - minute motion pictures i have recently endured . basically , hard rain is one extended , dull chase sequence punctuated by occasional shoot - outs . there \\' s a lot of water , broken glass , gunfire , and explosions . it \\' s all very routine and uninteresting because there aren \\' t any real characters and the plot only occasionally makes sense . the film \\' s conclusion is so preposterous that it \\' s almost worth watching for the sheer masochistic enjoyment of seeing the monumentally idiotic way that the film makers decide to resolve the myriad subplots that are floating around . action films are supposed to become progressively more invigorating as they rush towards a conclusion . graham yost , the writer of both speed and hard rain , surely understands that principle . unfortunately , neither he , nor cinematographer - turned - director mikael salomon ( a far off place ) , applies it . the action in hard rain grows tedious through repetition . we see the same kinds of things -- speedboat chases , flood damage , shoot - outs , etc . -- over and over again . the movie constantly recycles about twenty minutes worth of material to pad the running time out to an acceptable movie length . the storyline gives us a number of paper - thin characters in contrived circumstances . there \\' s tom ( christian slater ) , the one - dimensional action hero who works as a security guard driving an armored car full of cash . he and his partner , charlie ( edward asner , tv \\' s \" lou grant \" ) , get stuck on a street that \\' s rapidly turning into a river . a group of men , led by jimmy ( morgan freeman ) , arrive on the scene not as rescuers but as robbers . after charlie is killed in a shoot - out , tom hides the money , then runs . as he swims and boats his way through huntingburg \\' s roads , he encounters some of the locals : karen ( minnie driver ) , a would - be love interest ; a bickering old couple ( richard dysart and betty white ) , who are on hand to provide comic relief ; and the easily - corrupted sheriff ( randy quaid ) , whose seeming helpfulness hides sinister ulterior motives . there isn \\' t any real acting in this film . christian slater utters a few lame one - liners and does a lot of mugging for the camera . tom is easily one of the most lifeless characters the actor has brought to the screen . randy quaid sneers a lot , and is totally unconvincing . morgan freeman and minnie driver both attempt to give legitimate performances , but they are defeated by the script . freeman , one of the best cinematic thespians working today , looks suitably embarrassed to be here , but i suppose everyone needs a good paycheck from time - to - time . following in the wake of twister , this is yet another natural disaster movie that doesn \\' t trust nature \\' s fury as the chief engine of conflict . as a result , we are saddled with an idiotic good guys / bad guys story that effectively ruins any potential that the flood tale could have had . titanic proved that there can be a wealth of drama in a movie where everything goes under water . hard rain successfully demonstrates that the opposite is equally possible . thus far this year , hollywood has already subjected us to its unique brand of moronic mayhem by fire ( firestorm ) and water ( hard rain ) . fortunately , there are only two elements left .', 'instinct is the kind of movie that inexperienced moviegoers will undoubtedly label as \" powerful \" or \" touching \" . i have a name for it myself : \" gross \" . this is the sort of film where somebody stands up to a bully , the bully looks at the \" rebel \" threateningly , about to hurt him , and then everyone else whom the bully has heretofore controlled stands up too . how that scene is still present in so many movies today appalls me : aren \\' t present day moviegoers beyond being \" inspired \" by something like that ? this is one example ( there are actually some more in instinct alone ) of filmmakers insulting the audience \\' s intelligence . instinct \\' s plot is brimming with potential : world - renowned anthropologist ethan powell ( anthony hopkins ) disappeared for two years whilst doing research in the jungles of africa . he was found and is coming back to the united states a convicted killer ; he murdered to african policemen who were allegedly trying to capture him . after committing a few more brutal acts of violence in the airport , the authorities stick him in a prison \\' s \" psychotics ward \" . assigned to do an evaluation on powell is a bright ( or so we are told ) young psychiatrist theo caulder ( cuba gooding jr . ) . caulder starts out doing the evaluation merely for the purpose of furthering his career . of course ( and no mainstream filmmaker would ever have it any other way ) he starts really caring for powell and he becomes fixed on helping powell prove that he is not a psychotic and that he should not be in prison . and then there \\' s the inevitable \" heartless meanie \" character , in the form of donald sutherland who plays caulder \\' s mentor . he cares for caulder but does everything he can to discourage him from helping powell . let \\' s get one thing straight : dr . theo caulder is the most blatantly incompetent psychiatrist i have ever seen , on screen or off . any good shrink will listen to what his patient has to say no matter the subject because any good shrink will learn a great deal about his patient that way . not good old theo . no , he asks purposefully pointed questions and when powell dares to venture to another subject caulder says \" we need to talk about this right now . \" this is a flaw only in the sense that it detracts from instinct \\' s already dubious credibility ; unfortunately it \\' s also the least of its problems . director jon turteltaub , who made the delightful john travolta vehicle phenomenon as well as the surprisingly above - par cool runnings decided to make this movie so shamelessly sentimental that , contrary to what this movie \\' s promotion would have you believe , it has much more in common with patch adams than with the silence of the lambs . it \\' s not the kind of sentimentality that can almost bring tears to your eyes ( what dreams may come aptly demonstrated that ) but the kind that brings vomit up your esophagus ( excuse the graphic depiction ) . it aims to \" inspire \" rather than to touch hearts . as yoda would say , inspire it does not . it is the ultimate sign of futility when a screenwriter ( the very experienced gerald di pego ) has to resort to literally telling the audience a movie \\' s story . indeed , somewhere in the beginning of instinct , one of the characters actually reads aloud the film \\' s plot to another character . this , like the instance i mentioned in the first paragraph of this review , is a horrid insult to our intelligence . i am forced to wonder whether turteltaub and di pego did not think that we could figure out what instinct is about simply from regular conversation . i think that anthony hopkins is one of the greatest screen actors , and he chews the scenery in this movie , brilliant as ever . oscar winner cuba gooding jr . on the other hand is dreadful . his performance is at least part of what makes his character seem so incapable of being a shrink . i liked the guy in jerry maguire as well as in as good as it gets but here he fails to project any shred of credibility or real feeling . i love animals , and instinct \\' s prominent save the gorillas / live in harmony with nature theme is certainly something i could sympathize with . however this movie \\' s execution is completely unacceptable . tone down the violence and this will be a chick flick . ? 1999 eugene novikov', \"sydney lumet is the director whose work happens to be of varied quality . he is praised for some of the most important films of the previous decades , like twelve angry men , serpico or the verdict . but , in the same time , almost any of such pearls is followed by stinkers that hamper lumet ' s reputation . a stranger among us , 1992 rip - off of peter weir ' s witness , belongs to the latter category . the heroine of this movie is emily eden ( melanie griffith ) , tough lady cop who sometimes shows too much enthusiasm in battling bad guys on the streets of new york . during one of such actions , her partner nick ( jamey sheridan ) got hurt and as a result , she becomes depressed . in order to help her recover , bosses give her rather easy task of locating missing jeweller who belonged to hassidic jew community . emily starts investigation and soon realises that the case involves murder . concluding that the perpetrator belongs to community , she decides to go undercover . that isn ' t easy , because her modern manners are colliding with traditionalist ways . things get even more complicated when she develops feelings for young cabalistic scholar ariel ( eric thal ) . using peter weir ' s formula isn ' t the greatest flaw of this film . even the lame and unispiring crime mystery subplot works to the certain extent . but the worst insult to viewer ' s audience is terrible miscasting of melanie griffith . the author of this review never liked this actress very much , but she was at least tolerable in some of her roles . role of emily eden , unfortunately , isn ' t one of them . first of all , she can ' t pass for tough nypd street fighter , and her attempt to pass for orthodox jewish woman isn ' t much better . screenplay by robert j . avrech makes things even worse with some formulaic red herring subplots ( scene involving two italian gangsters was almost too painful to watch ) . but , on the other hand , other actors are more convincing ( lee richardson as an old rabbi , thal as ariel and charming mia sara as his intended bride ) , and the photography by andrzej bartkowiak very effectively creates atmosphere of warmth when the scenes take place in hassidic community . also , the film might educate viewers about hassidic culture . that is the only thing that prevents it from turning into total waste of time .\", '\" the world on land -- it \\' s just too big for me . \" starring tim roth , pruitt taylor vince , bill nunn , clarence williams iii . rated r . the legend of 1900s is the year \\' s most absurd movie , a rambling , nonsensical piece of seafaring garbage that goes nowhere fast . it stars thespian extraordinaire tim roth , looking wistful as ever , as a guy named . . . 1900 . you heard right . his name is , in all actuality , 1900 . he was born on an ocean liner on 1 / 1 / 1900 ( uh , hence the name ) , abandoned and adopted by danny , a ship crewman . 1900 spends most of his early years hiding in the bowels of the ship because of danny \\' s fear that he might be taken away from him because of \" visa matters . \" well , when 1900 is about 9 or so , he starts wondering all around the ship . one day , he discovers a grand piano . he sits down and starts playing . miraculously , what comes out is beautiful . a group of onlookers gathers to watch this stunning prodigy make such amazing music at such a young age . when one of the people who knows 1900 tells him that his playing the piano like that without permission is \" totally against regulations \" 1900 replies \" f * ck the regulations ! \" ho ho ho . 1900 grows up never setting foot on dry land . when he \\' s about 30ish and can play the piano like nobody \\' s business , onboard comes another musician . his name is max ( pruitt taylor vince ) and he plays the trumpet . after 1900 catches max barfing everywhere during a storm , he sits him down on the piano next to him , takes the piano \\' s braces off and plays while the piano flies all around the hall , taking them with it . how the chair they \\' re sitting on and the piano don \\' t separate , i don \\' t know , but this apparently isn \\' t the kind of thing we \\' re supposed to ask . after that , 1900 and max become friends . max is determined to get 1900 off the ship and discover what he is missing on land , but 1900 has no intention of doing so . what \\' s more , he doesn \\' t even want his music to go anywhere without him : when a record company hears about his talents , they come on board to make a record of his music , but after finding out that -- gasp ! -- they \\' re going to make millions of copies , he breaks the record . the conflict of the movie is that after max , unsuccessful in his endeavor to get 1900 off the ship , gets off himself , he stumbles upon a record of 1900 \\' s music in a store . the record shouldn \\' t exist because a ) 1900 never stepped on dry land and b ) the one record that was made on the ship was broken . ladies and gentlemen , it \\' s a mystery ! the story itself is ludicrous and uninteresting and so are its elements . we \\' re supposed to be roused by a climactic . . . piano duel ? there isn \\' t anything in this movie with the potential to compel . 1900 comes off as a whiny , brooding , extremely unlikable man : i can \\' t recall a single word he said that was not some sort of depressing pseudo - meditation on life . ditto for max , who doesn \\' t seem to have a life outside his friendship with 1900 . tim roth plays 1900 with about as much panache as a fig leaf ; there \\' s no spirit , no gusto to the character . he insists that he leads a happy life on the ship , but to us he is dead . pruitt taylor vince is a little more palatable , at least providing a moment of comic relief here and there to liven things up a bit . the highlight of the movie would have to be the eminently amusing clarence williams the iii as the arrogant , leering \" king of jazz \" who challenges 1900 to the aforementioned piano duel . the legend of 1900 was made by giuseppe tornatore , whose 1988 cinema paradiso is considered a masterpiece by many . this effort is utterly limp and lifeless . at once ridiculous , boring , narrow - sighted and pointless , this is one movie that should be -- and will be -- quickly forgotten .', 'my giant is two movies for the price of one , but neither is worth the cost of admission , even if you get in free . as lamely directed by michael lehmann , the picture tries to be a comedy by using and reusing every giant joke in the book . ( \" without goliath , david is just some punk throwing rocks . \" ) languidly paced throughout , the movie becomes increasingly lugubrious as the screenplay by david seltzer ( the omen ) meanders toward its sad ending . since it \\' s rarely funny or convincingly dramatic , what the filmmakers thought they were doing remains a mystery . other than a few nice visuals , there \\' s nothing to recommend the picture . with great film comedies under his belt from when harry met sally ? to the original city slickers , billy crystal has shown that he \\' s more than the world \\' s best oscar host . he does , however , have a propensity for choosing hopeless material as in last year \\' s father \\' s day and this year \\' s my giant . one wonders if he reads the script before agreeing to go ahead with a project . surely reading the one for my giant would have shown that there was nothing there . perhaps he thought he could ad lib it into success . or maybe he wants to be a dramatic actor and thought he could do something serious with the movie \\' s somber tone . the most charitable thing that could be said about it is that it is so ineffectual that people will probably forget they saw it by the next day . this one - joke movie \\' s single idea is to place real - life basketball player gheorghe muresan , who stands seven and a half feet tall , into as many visually striking situations as possible . sammy ( crystal ) , an agent currently without clients , is rescued after a car accident by a sweet romanian giant named max ( muresan ) . after throwing out constant one - liners ( \" either god is in the salvage business or big foot just took my car . \" ) , sammy decides to get serious , seeing max as his meal ticket . and although he doesn \\' t like it , he \\' s willing to sign max up to do disgusting events like a wrestling match with a half - dozen dwarfs . ( the movie itself knows no bounds as it contains one of the most putrid and lengthy vomiting scenes ever . ) after a series of missed opportunities , the comedic part of the movie is over , and it turns into a cheap and maudlin disease movie . we learn that max \\' s condition is terminal , and he will soon die . to be fair , the movie does contain a few good scenes - all of which you can see in the trailers . let \\' s hope billy gets himself a pair of reading glasses before he signs up for another movie . my giant runs too long even at just 1 : 37 . it is rated pg for violence and profanity and would be acceptable for kids around ten and up . my son jeffrey and his friend matthew , both 9 , gave the movie a single star and had nothing good to say about it . matthew pointed out that it \" is not as good as it could have been or should have been . \" ( amen . ) he went on to comment that he did not like the way the movie changed completely in the middle . jeffrey complained particularly about how gross the movie was .', 'talk about a movie that seemed dated before it even hit the theaters ! spice world is the feature film debut of the pre - fabricated pop band , the spice girls . it \\' s intended as a sort of hard day \\' s night , but ends up simply hard to watch . when watching the spice girls , i \\' m reminded of an old saturday morning cartoon trick ( such as from the smurfs , the snorks , or teenage mutant ninja turtles ) in which identically animated creatures are differentiated into characters merely by one personality quirk and a different name . the spice girls are themselves as interchangable as pringles , and about as talented . there \\' s ginger ( geri halliwell ) , the brainy one , sporty ( melanie chisholm ) , the athletic one , baby ( emma bunton ) , the childish one , posh ( victoria adams ) , the fashion - conscious one , and scary ( melanie brown ) , the one with a tongue pierced back so far you \\' re almost certain the post sticks out her throat . the film itself doesn \\' t really have a plot . it follows the girls as they travel here and there , culminating at their \" first live performance \" at albert hall . the action , however , seems more like a hodgepodge of mismatched ideas . the various misfires include : an alien encounter , a fiendish tabloid editor scheming to wreck the spice girls , the shooting of a spice girls documentary , a movie producer ( george wendt ) trying to pitch various ideas for a spice girls movie ( nearly all of which , though incredibly far fetched , seem more plausible than the mess with which they ended up ) , a meeting with a pregnant friend ( whose sole purpose seems to be to maintain the film maxim that all pregnant characters must give birth before the movie ends ) , a boating adventure , a bus race , club - hopping ( wherein apparently no one notices the famous spice girls among the crowd . . . even when they start to sing ) , and an assorted number of musical performances , press conferences , and general all - around celebrity stuff . whew . for some reason , the film is littered with star cameos . from elton john to elvis costello , from bob hoskins to meat loaf . heck , even roger moore shows up , though he can \\' t decide if he \\' s parodying himself as james bond , or if he \\' s lobbying to be the reincarnation of ernst stavro blofeld . richard e . grant has the largest secondary part , a thankless role of the band \\' s manager , clifford . the celebrity spotting is partially amusing , and a decent way to pass the time when confronted with the rest of the film . neither amusing or spontaneous , when the spice girls are between songs they are deadly boring . their songs are alright , but they play like lifeless adaptations of the music videos . my advice to fans is : stay home and watch that video collection , or at least spin that cd a couple of more times . . . either option will be more enjoyable than the film . non - fans should know to stay well away from this one .', \"this feature is like a double header , two sets of clich ? s for the price of one . not only do we get the usual tired sports chestnuts , but the banal rich girl - poor boy love story is tossed in for good measure . an original moment in this loser is as rare as a chicago cubs world series appearance . the screenplay by kevin falls and john gatins , based on a story by falls , merely lobs its plotline at the audience . this is a story that needed sent down for seasoning and more coaching . summer catch centers around ryan dunne ( freddie prinze jr . ) , a cape cod youth chosen to participate in the prestigious cape cod baseball league , supposedly a showcase for the best young amateur and college players in the country . ryan is a blue - collar kind of guy . he works with his dad taking care of the lawns of cape cod ' s rich and famous . he also , as we are informed early , his own worst enemy . he has the potential and the talent , but always seems to self - destruct at the crucial moment . so , ryan tries to remained focused on baseball . then he meets tenley parrish ( jessica biel ) , daughter of one of the blue bloods whose lawn he manicures . tenley , a name only a hack screenwriter could invent , is unlike her snobbish counterparts and falls for ryan . if you can ' t figure out where all this nonsense leads , then you need a remedial course in film viewing . as always prinze is pretty to look at , but his performance mainly consists of facial expressions : puppy dog love , heartbreak , frustration , self - loathing or determination . biel cries a lot , while bruce davison merely acts smarmy as her class - conscious father . the only beacon is matthew lillard ' s fun - loving billy brubaker , the team ' s catcher . summer catch borrows situations and stylings from other baseball movies , such as bull durham and the natural . no curve balls here , no sliders . every pitch is predictable . a blind umpire could call this movie . summer catch is strictly rookie league moviemaking . it has as much chance of making the movie hall of fame as the dodgers have of moving back to brooklyn .\", 'one of the responses those that enjoy \" detroit rock city \" ( probably kiss fans , mostly ) might have upon first glance at the rating i \\' ve given the film might be something like : \" oh , that casey \\' s gone and become a jaded critic on us . just what did he expect out of a dumb teenage rock n \\' roll movie like this ? \" i \\' m wondering the same thing . i feel like i should have had a grand time with \" detroit rock city . \" it \\' s the sort of movie i wish i could \\' ve had a lot of fun with , but i didn \\' t . i just didn \\' t . surely this film isn \\' t trying to win any major awards , so should i have expected an oscar - caliber film ? no , but i expected something . a funny joke . a clever prank . a plot development . anything . the movie never delivers . you \\' ve got to marvel at how the filmmakers managed to come up with a movie that is truly about nothing . \" detroit rock city \" is one of those films that you walk out of after the credits have rolled and realize that you just spent 90 minutes watching a movie in which absolutely nothing happened to justify the film \\' s existence , and it \\' s not a very satisfying realization . the film is about four teenage boys , all huge kiss fans from cleveland , trying to get into a kiss concert in detroit , michigan . that \\' s it . there is no big plot description in this review , because the movie has very little plot . the characters are hawk ( edward furlong ) , lex ( giuseppe andrews ) , trip ( james debello ) , and jam ( sam huntington ) . they have a garage band . they \\' re pathetic , like all garage bands , but they like kiss and they like rock n \\' roll , so i guess that means we root for them . they have tickets , they lose them . they get more tickets , they lose those too . they come up with crazy schemes to get tickets , most of which backfire . there \\' s not much more to it . frankly , it becomes a little less than exciting to see them try to get kiss tickets about halfway through the film , when a total of eight tickets have already graced the boys \\' hands , only to be lost because of their sheer stupidity . oh , and jam ( real name jeremiah ) has a really , really annoying ultra - religious mother who ought to be reported to the child welfare agency . she doesn \\' t want them to see kiss , if you hadn \\' t figured that out already . it \\' s really quite disheartening to see such a fine soundtrack go to waste in a pointless movie like this . we \\' ve got plenty of kiss , along with some ac / dc , ramones , and thin lizzy . then again , \" maximum overdrive \" had an awesome soundtrack ( me being the big ac / dc fan that i am ) , but is probably one of the worst movies of all time . \" detroit rock city \" doesn \\' t quite reach that level of ineptitude , but it gets dangerously close . in fact , the music is the only thing that keeps this movie from being a complete failure in my mind . basically , the soundtrack has earned the film a full half - star , which means all the bands involved can pat themselves on the back ( except for marilyn manson , whose half - hearted cover of ac / dc \\' s \" highway to hell \" sounds like something my neighbor \\' s cat coughed up ) . it \\' s also really sad to see the talents of the cast go to waste , because it \\' s evident that they \\' re all trying really hard to squeeze some life out of this dead turkey of a movie . edward furlong has done far better work than this , and so has natasha lyonne , and so has lin shaye , but hey , they \\' ve got to make a living in hollywood . people wanting to see kiss , and lots of it will probably be disappointed , considering the band appears for about five minutes and plays one song . too bad , they might have provided some energy to this mess . director adam rifkin knows he hasn \\' t got much material to work with , so he takes a chapter from the michael bay book of directing and keeps his camera spinning . we get an endless parade of quick - cuts , split - screens , zoom - outs , zoom - ins , and rotating cameras , all in an effort to cover up the sheer stupidity of the script . it \\' s fun for a while , but eventually it becomes disorienting . i would recommend that those who felt seasick at \" the blair witch project \" stay far away from \" detroit rock city , \" because the witch has got nothing on this baby . i haven \\' t felt such an urge to reach out and hold the camera still since \" armageddon . \" and what about that script ? it \\' s written by carl j . dupr ? , which sounds like as made - up a name as i \\' ve ever heard . if it is , i can \\' t say i blame the writer for distancing himself as far from this script as possible . a plotless , pointless rock n \\' roll movie can be fun , if the jokes and gags are actually funny . the jokes in \" detroit rock city \" rarely are . in fact , the only time i really laughed was when a priest gets stoned on a marijuana - laced pizza , and that was just because it was so surreal . the rest of the movie just seems like they just threw a bunch of vulgar stuff up on screen and called it \" comedy . \" there is no set - up , just a succession of punchlines that don \\' t provide for much in the way of chuckles , precisely because there was no set - up . it \\' s as if they just whacked someone on the head , pointed at him and said , \" see ? funny ! \" look , that woman was so shocked by hearing loud kiss music that she spilled her drink . see ? funny ! look , that guy just got clocked by a telephone receiver . twice . see ? funny ! look , that kid has been vomiting for 20 minutes after drinking an inordinate amount of alcohol and is now about to perform an exotic dance for money . see ? funny ! a word of advice to mr . dupr ? : no , these things aren \\' t funny all by themselves . they must be preceded by a clever set - up so the audience hasn \\' t predicted them five minutes in advance . that \\' s it , i \\' ve said enough about this movie . it \\' s a waste of time and money . i liked the music , but don \\' t bother buying the soundtrack . i hear it \\' s just modern bands doing inferior versions of the songs that are actually in the movie . you want to see this concept executed well ? go rent roger corman \\' s 1979 classic \" rock n \\' roll high school . \" it features another late - seventies rock band ( the ramones ) and a far more interesting story about a girl trying to get tickets to their show . yes , go rent that , and skip \" detroit rock city , \" which will probably bomb , and deservedly so .', 'has it really been two decades since walter matthau coached the bad news bears ? nineteen years and two mighty ducks later , the formula is still going strong . police academy graduate steve guttenberg stars as a small - town deputy sheriff corralled into co - coaching the school \\' s hastily formed soccer team . his partner - in - crime is the new british \" exchange teacher \" ( olivia d \\' abo ) , a lively lass who has obviously seen dangerous minds and knows that the best way to gain the respect of a disinterested , outer - city audience is to teach them something neat . like soccer . most of the good - natured gags are of the fast - motion variety , such as runaway cows and out - of - control lawnmowers . kids will laugh at the occasional belching bit , while their parents peacefully doze beside them . other than letting a supporting character named newt go unscathed , what \\' s missing from the big green is a better integration of music and comedy . instead of a peppy pop score , which would arguably work to better effect , most of the action is set to a bombastic orchestral score that belongs somewhere else . comedy needs music . just watch any old bugs bunny short . the marx brothers knew it . mel brooks knows it . unfortunately , the current trend is to \" overscore . \" lush strings and booming brass in every scene , at every moment . remember the simple strains of bizet \\' s \" habanera \" in the original bad news bears ? these days , it \\' s usually a bellowing fanfare that threatens to smother every scene in its path . much like adding frosting to already frosted cake . an awfully big adventure ======================== the reteaming of director mike newell and star hugh grant is about as far removed as you can get from the lightsome comedy of four weddings and a funeral . their second collaboration is a downbeat theatrical drama about a young intern ( georgina cates ) struggling to survive in post - w . w . ii liverpool . hugh plays the gay director , an * extremely * unappealing character who may alienate whatever fans are left after the nonsense of nine months . bleak make - up and thick accents conspire to make this a difficult story to settle into . an awful adventure is not without * some * rewards , tho . the peter pan subtext is intriguing . as is the diverse ensemble cast that includes peter firth , alan rickman , and prunella scales . basil ! devil in a blue dress ===================== the comparisons to chinatown are easy enough , except for the fact that this film isn \\' t nearly as gripping . writer / director carl franklin ( one false move ) is the force behind this accomplished - but - stiff adaptation of walter mosley \\' s crime novel . denzel washington is as sturdy as ever , but he \\' s burdened with a miscast supporting cast . tom sizemore and scene - stealer don cheadle are both fine . the problems start with jennifer beales , who never registers as the plot \\' s femme fatale . she \\' s a pretty face and nothing more . also underweight are maury chaykin and terry kinney . they play opposing mayoral candidates in 1948 los angeles and neither actor commands enough authority to stifle giggles . john huston , we miss you ! fine period detail and a strong sense of humor are a plus . they help to overcome a pace that \\' s too polite for mosley \\' s jazzy , swingin \\' story . steal big , steal little ======================= i can \\' t say much about this one . director andrew davis follows the fugitive with a wildly unfunny farce about twin brothers ( andy garcia ) with opposing moral codes . they \\' re fighting over their adoptive mother \\' s estate , a 40 , 000 - acre ranch worth millions and supporting dozens of migrant farm workers . so many different plots are trying to come together -- feuding brothers , reconciling husbands , loan - shark hired hitmen -- that you have to admire the director \\' s ambition . too bad that almost every single person or plot - line is out of sync . that is , with the exception of alan arkin . he \\' s the best thing in a movie that -- despite the work of four credited writers -- * still * manages to waste such diverse talents as david odgen stiers , kevin mccarthy , and joe pantolinao . and what the heck does that title mean ?', 'funny how your expectations can be defeated , and not in good ways . the ghost and the darkness promised ( at least , it seemed to me to promise ) a hemingwayesque showdown between men and nature . what it delivered was mystery science theater 3000 - level material -- an inadvertently hilarious story that made me scream advice at the characters . \" get new jobs ! \" was one line , if i remember correctly . at the end of the 19th century , col . patterson ( val kilmer , whose irish accent comes and goes like an african zephyr ) is an engineer who has been hired to build a british railway bridge across the tsavo river in uganda . he is having immensely stereotypical problems : the natives are restless , his boss is a jerk , and now two man - eating lions are stalking the work camp and killing people off . patterson tries to handle the situation himself , incompetently , and then turns to charles remington ( michael douglas ) , a hunter of world reknown ( or something like that ) . the movie stacks the deck so heavily in favor of the lions , they should have gotten top billing and co - starred with siegfried and roy . they are nigh - invulnerable , as one comic book put it , and this is of course just the excuse the movie needs to have one native after another stepping forth to solmenly recite lines about the power of nature . give me a break . the movie hasn \\' t got the wherewithal to even begin to exploit such ideas ; it \\' s just trying to find convenient ways to stall us . even the lion hunts themselves are idiotic . get this : remington \\' s big plan is to build a large scaffold - like structure in the middle of the savannah , sit on it , and wait for the lion to show up . he does this , and then gets knocked off by a bird . by the end of the movie , the blood vessels in my palm were all broken open from me pounding my forehead with my hand . the acting is forgettable . douglas does a good job of portraying a relatively cracked fellow , but it \\' s nothing he hasn \\' t done before . kilmer looks like he wishes he were someone else , somewhere else , and the rest vanish into the cinematography . the camera , by the way , sometimes behaves so stupidly all by itself that most of the lion attacks are incoherent . what did i expect from this movie ? i dunno . some real excitement , i suppose . a sense that there were formidable forces on both sides of this equation . no such luck . i dug out my tattered copy of hemingway \\' s \" the short happy life of francis macomber \" and read that to get the taste of this movie out of my mind .', \"unfortunately it doesn ' t get much more formulaic than one tough cop . there ' s the renegade cop with the loser partner who has to many problems to explain . the renegade has to prove his good name and is trapped between the good guys , the bad guys and some woman who really has nothing to do with the story other than being there for the purpose of providing sex for the hero in the middle of the film . bo dietl ( pronounced deedle , baldwin ) is one tough cop , a guy who is being investigated by hardass fbi agents due to his association with the ny mafia . on top of that problem , he has a drunk , gambling addicted partner ( penn ) who has a penchant for collecting parking tickets ( i guess cops aren ' t immune ? ) . then , throw into the mix the femme fatale ( gershon ) . right there you have plenty of ammo for a decent cop drama . but right in the middle of the film , they throw in a completely un - related plot point . dietl and his partner duke try to solve a case that they have been warned to stay away from . the film spends over half an hour tracking the case of a nun who was beaten and raped to near death . once the case is solved , the film shifts focus back to the mafia issue . whatever neat mesh the screenwriter wanted to create between the two stories failed miserably . aside from being asked to accept michael mcglone as a mafioso ( an insult if you ask me ) the performances were pretty good . baldwin , though he occasionally slips into an impression of his brother alec , does a fine job as one tough cop . penn , who also slips into an impression of his brother sean , is even better as a loser tough guy cop . what one tough cop lacks is originality . this film offers nothing new . nothing that you can ' t get from any cop film . it screams sidney lumet all over the place , perhaps because it was produced by marty and michael bregman , producers of lumet ' s dog day afternoon and serpico . but even the masterful sidney would not have been able to make one tough cop into a good film . too much else is lacking . i also saw the boom mic pop into the top of the frame twice early on in the picture , something that i almost never notice . but once i saw that , i had it in the back of my mind every time i saw a medium or long shot . at times , i was hoping to see it . one tough cop isn ' t laughable , nor is it a terrible film , but it just isn ' t unique . it is a classic example of a film that didn ' t need to be made . but one thing is for sure , it could really use a better title .\", \"supposedly based on a true story in which the british drive to build a rail bridge deep in africa grinds to a halt after a pair of lions start killing off the workers in 1898 . john patterson ( val kilmer ) , the bridge building expert set to oversee the operation , tried to rid his operation of the lions , but fails . a world renound hunter , remington ( michael douglas ) , is called in and the battle , man against lion , begins . this film has a great soundtrack , and wonderful scenery . the acting is not too bad except the characters are all so thin . we only see one side of each character . kilmer is a bridge builder and that ' s all we see him as . these lions kill dozens of his men and he doesn ' t even appear to be too upset about it . and the plot ? it ' s jaws , but with lions . again we ' re presented with an animal that behaves not at all as it should . it appears to kill men because it just likes too . why ? who knows . i guess there wouldn ' t be much of a story if it didn ' t . the problem is that there isn ' t much of a story even though it does .\", 'of course i knew this going in . why is it that whenever a tv - star makes a movie it \\' s always a romantic comedy , and then they say on entertainment tonight or something , that they were \" attracted to the characters . they were really original . \" original ? ! let me give you a run - through of picture perfect : character a ) kate ( jennifer aniston , from tv \\' s friends ) , a smart , beautiful , professional woman wants two things she can \\' t have : a new job - title and the love of her co - worker kevin bacon . her boss will only give her the job if she gets married and gets a mortgage and gets a lease on a german sportscar , and kevin bacon pnly sleeps with married or involved girls . what does she do ? she invents a fiance ! then when everyone wants to meet him , she tells some poor schmoe she met at a wedding that she will pay him $ 1000 to pretend to be in love with her for a company dinner , and pick a fight with her at the end , thus breaking the engagement but still being able to keep her job , since the guy ends up looking like a jerk and she is the poor , defenceless female . he , of course , goes along with it . gee , i wonder if they get together in the end . i \\' ve seen more original stuff on the wb . and better stuff too . picture perfect also makes the mistake of being _wayyyyy_ too long at 100 minutes , and expecting us to like aniston \\' s character , who comes off as a cold , spoiled bitch .', 'louie is a trumpeter swan with no voice . in order to woo his lady love serina , louie makes friends with a young boy , sammy , who persuades teacher mrs . hammerbottom ( carol burnett ) to allow louie to attend class . louie learns to read and write and returns to his flock , but is laughed at once again when no other swans can understand his message of love for serina . to make matters worse , louie \\' s father feels he \\' s lost his honor because of the trumpet he stole for his son in this animated version of e . b . white \\' s \" trumpet of the swan . \" as jane austen and henry james have become popular sources for adult filmmakers over the past decade or so , e . b . white is being returned to for children \\' s films . the animated \" charlotte \\' s web \" has become a minor classic since its release in 1973 and 1999 brought us a live action version of \" stuart little . \" \" trumpet of the swan , \" directed by richard rich ( 1999 \\' s animated \" the king and i , \" the \" swan princess \" series ) , is unlikely to be remembered along with those two . \" trumpet of the swan \" is receiving a regional theatrical release , but is sure to quickly appear on home video . boston is one of the targetted cities because our hero louie becomes famous playing his trumpet in beantown . he encounters a gypsy - like con man in the public gardens who pitches louie and his trumpet as an added attraction to boston \\' s swan boats . louie stays at the ritz carlton before giving a concert at the hatch shell along the banks of the charles river . at this point , louie \\' s earned enough money so that dad can pay for the trumpet and become musically capable enough to win over serina \\' s father . \" trumpet of the swan \" features flat background art , some poor sound syncing and insipid , sugary songs . this effort would be better suited to saturday morning television than the big screen , but may be ok for the real small set .', 'one of the most respected names in american independent filmmaking is john sayles . he has built a strong reputation with films like matewan and the secret of roan inish , and one of his best was his last film , lone star . after sayles gave us this complex and unconventional look at ethnic tensions on the us - mexico border , expectation ran high for his next film . unfortunately , his men with guns is not the film anyone was hoping for . we are essentially told in the first reel where the film is going to go and what it is going to do . then the film does exactly what it promised , a painful as that is . the plot of men with guns can be summarized \" in a central or south american country things are really bad for everybody in the mountains where the army clashes with the guerrillas . dr . fuentes did not believe how bad things were so he went . and he found out again and again and again . \" of course it is perfectly true that in many places in that region armed conflicts have turned life into a living hell . a guerrilla war is always bad for civilians . but the film talks down to the viewer . dr . fuentes ( played by federico luppi ) teaches medicine in the capital city of his country . he has , as a great humanitarian gesture , trained and inspired some of his best students to go into the mountains and make the world a little better for the poor indios . fuentes believe the students to be up there doing humanitarian service . then he discovers one of his best students has instead returned to the city and runs a squalid private pharmacy . in shame and disappointment fuentes asks the student what has happened to the others . the student tells him the others are still in the mountains , but suggests that it may not be a good place to be . fuentes goes off to find and visit the doctors , ignoring the advice of his family and a patient who happens to be an army general . the results are little different than one would expect . dr . fuentes starts out incredibly naive . even some american tourists , present in the film mostly for comic relief , seem to know better than dr . fuentes that things have gotten pretty bad in the mountains . but fuentes has to go from one scene of barbarity to another and discover how wrong he was . sayles certainly could have used 126 minute of screen time to tell us something more profound than that nasty things are happening down there and most of the worst happens to the unarmed civilians . the cast is mostly unknowns to american audiences . federico luppi is the good mexican actor who played the antique dealer torn by mysterious forces in cronos . damian delgado makes a late appearance as an army deserter . mandy patinkin has a small role made to look bigger in the trailer .', '\\' traffic violation \\' dr . daniel \\' s review of u - turn dr . d \\' s rating : critical condition ( okay , here \\' s the deal . i \\' ll be the first one to grant that everybody needs a day off now and then . i \\' ll even go so far as to say that a vacation is a necessary part of doing any job well . i mean , hey , i \\' ve been known to stretch a weekend into a three - day outing , if friday looks to be a slow day . and if monday ain \\' t looking like a pick - me - up , well , i \\' ve been known to give martha nell a call and say , \" do me a favor , sweetheart . bump old man ferguson \\' s boil lancing to tuesday morning , and tell miss audrey that i \\' ll swing by her house monday evening and see if we can \\' t get her trick knee back in line . \" a simple sentence like that , and i \\' ve got a nice four - day fishing trip with the boys , or more often than not , a trip up to cherokee , n . c . , for jackpot bingo and assorted other mountain funnery . but the point is , if you take a day off , do something different . if you \\' ve worked yourself silly for months , relax a bit . sleep in . eat pancakes at noon . microwave an egg in its shell . watch pro wrestling with the sound off . listen to some barry white records at high speed . whatever . but do not , under any circumstances , spend your vacation doing the same thing you do for a living . and , if you do , don \\' t make the final product look ten times worse than it would any other time . because i do not want to hear your sob stories , oliver stone . you apparently thought you needed a break from making \" important films . \" cool . so you found this hinky little book and decided to make it a movie . that \\' s cool , too . but , ollie , old sage , do not take a good story and a hot cast and make one of the most pointless and worthless films of the decade . i \\' m just eager to meet you one day , so i can buy you a stoli , look you in the eye and say , \" what in the wide world of sports were you thinking with u - turn ? \" and i \\' ll stand there staring \\' til i get a straight answer . sean penn stars u - turn , as bobby , a drifter who \\' s had some troubles a while back . he \\' s heading cross the desert minus two fingers when his mustang ragtop blows a radiator hose , stranding him in superior , arizona , held there by an \" ignorant , inbred , turtleneck hick \" of a mechanic named darrell . while darrell puts a new hose on the ride , bobby walks into town to see what \\' s cooking . is it needless of me to say that superior , arizona , is not exactly the shiny scrubbed home of all things lovely ? probably not . bobby meets up with grace ( jennifer lopez ) , who invites him back to her place , for drape - hanging and other domestic issues . just as those issues are starting up , grace \\' s husband , jake , storms in , looking like check - out day of the elks lodge convention . just beats bobby silly . bobby takes to the road , only to meet up with jake again , and jake asks bobby to kill grace . a little while later , grace asks bobby to kill jake . them murderous arizonians . gotta love \\' em . if any of this sounds familiar , congratulations . you win a kewpie doll . the story is a straight shoplift of red rock west , a cult favorite a few years back from john dahl , maker of the phenomenal the last seduction . but the contest doesn \\' t end there , guys and gals . we get steals from russ meyer movies , where everybody in town is horny and sweaty . we get the town from bad day at black rock , minus the train , plus busty women who can speak . look at any schwarzenegger film , and you \\' ll see our hero , bobby , as bobby has a mudhole stomped in his keister a dozen times , has his ribs stove in at least fifteen times , gets bit by a tarantula , gets shot at , and ends up with vultures circling overhead , all the while getting up like he just got a shaving nick . bobby as terminator ? stretch it a bit , and we have a five - finger discount from doc hollywood , where the whole story occurs because of car trouble , forcing the main character to stay at the mercy of the town and the mechanic . okay , he \\' s working from a book , so maybe ollie \\' s not totally to blame for blatantly copping these ideas . i just expect a man who can make up an alternative history of the united states to be able to craft a few original ideas before exposing the negative . i just wish he hadn \\' t brought a cast like this together for what amounts to a group toe - stub . sean penn gives a great performance , and jennifer lopez and nick nolte are as on target as they can be , playing over - the - top caricatures of stereotype characters . the best thing about the movie is watching penn react to the madness around him and try to figure out exactly what the blankety - blank is going on . too bad it \\' s not fun to watch when it \\' s happening to us . . . while we sit through this mess of a film . u - turn is not a bad film if you \\' re a fan of technique . it \\' s the oliver stone you \\' ve always known . robert richardson is his usual cinematographer , and rob and ollie know how to shoot a flick -- great camera angles , shifting viewpoints , wicked colors , nice looking pictures . but pictures of what ? i think i \\' d rather stare at a xeroxed envelope for two hours than try to figure out the tilt - o - whirl point of this loser film . plot twists are one thing , repetition is almost unforgivable , and this is dang near as unforgivable as any movie i \\' ve seen in the past five years . oliver , i know your body of work is nothing to sniff at . you \\' ve been nice enough to limit us to only one doors movie , and films like platoon , jfk , wall street and nixon give us plenty to dig on . your scripts are certainly respectable , your budgets are up there on the screen , and your actors don \\' t dog it . and i know that , maybe , with u - turn , you were just kicking back , just having fun . that \\' s fine . but don \\' t do that with a movie with the potential of this one . do some police academy sequel ( imagine that . ) do a big comedy , like a remake of it \\' s a mad , mad , mad , mad world . but do not drop a limp u - turn out of your pocket and expect us to accept it as \" an oliver stone movie , \" and not question why it stinks like week - old snook . there \\' s a right way to have fun , and a wrong way to have fun . this was as wrong as you can get without going to jail .', \"there are two things the american film industry should avoid at all costs . one is letting an ambitious actor convert one of his or her favorite novels into a feature film . two is never greenlight a sci - fi film starring john travolta . to wit , we present the disaster that is battlefield earth . a science - fiction opus starring the barbarino of the actors guild , battlefield earth should be shown only at maximum - security prisons when a prisoner is tossed in solitary for bad behavior . sci - fi is always a tricky beast : tight script , a good director , an ensemble cast of decent actors , and the ability to suspend even the most difficult of disbeliefs . battlefield earth fails at achieving even one of these attributes . here ' s the ` plot . ' the year is 3000 . mankind has been become an endangered species thanks to the conquest of a race of aliens called the psychlos ( sounds like either the latest clown act from cirque de soleil or a white rap group ) . a small band of humans dwell in radioactive caves located in the rockies in fear of the ` demons ' who dwell in the cities below . the psychlos are strip - mining the earth for its resources and terel , played by travolta , is the head of security for the mining / slave base located in denver . a young rogue named jonnie goodboy tyler , played with dramatic flair by barry pepper , ventures from the safety of the caves into the city to uncover the truth about the ` demons . ' he is promptly captured and taken to the alien base . after several attempts at escape , johnnie is placed in the middle of an underhanded subplot of terel ' s , involving circumventing gold from an exposed vein in the rockies to his own end . jonnie , assumed leader of the mining slave group , then manages to attain all psychlo and human intelligence through a learning machine terel forces him to use . then the story just runs along until jonnie teaches the rest of the humans the basics of trigonometry , the bill of rights , how to use a machine gun , and how to fly a harrier jet . the whole mess concludes with a big , loud , obnoxious gun - and - plane battle that had me praying for the end credits . roger christian , the director of this lumbering beast , must have rented dune , blade runner , planet of the apes , independence day , stargate , beastmaster , the airwolf episodes , the ` v ' miniseries , the matrix , and the omega man . . . and decided to steal every scene he could for battlefield earth . christian even shoots every scene in a weird dutch angle titled left or right for every frame of the movie ! and every scene in the movie ends with a middle wipe -- really . the psychlos reminded me of a cross between jamaican basketball players with bad teeth and bloated hands and klingon extras working the star trek convention circuit . travolta ' s acting hasn ' t been this bad since the experts or maybe perfect . jonnie goodboy tyler evolves into william wallace with lines like ` you can have your freedom if you fight ! ' then there ' s the script : the film just never convinces you that the plight of jonnie in teaching his fellow humans to fight and ` take back the planet ' would be a difficult task to achieve . why ? because terel provides all the necessary tools to incite a revolt -- for no particular reason beside the fact that ` humans are stupid . ' terel may be right , you know . humans made this movie .\", \"would you believe -- in real life , i mean -- that if you were julia roberts , that you ' d be the ugly underdog to your sister , the creepy catherine zeta - jones ? let me tell you what reality is . reality is that you are megastar julia fricking roberts and your brother is eric roberts , and he picks up whatever crumbs of stardom fall off your coattails as you blaze across the sky in a golden chariot . that ' s reality . america ' s sweethearts is the opposite of reality , a train wreck that tries to sell julia as a scruffy also - ran , presumably because she wears horn - rimmed glasses and used to be overweight ( uh - huh ) . the plot follows two married , mega - movie stars , gwen and eddie ( zeta - jones and poor , poor john cusack , whose material gets worse every year ) , on the eve of their new star vehicle ' s release , a film called time over time . the only problem : gwen and eddie have gone through a nasty separation , and the press and public have not been forgiving ( think meg and dennis ) . gosh , and the director has vanished with the film , holding the only print hostage . veteran pr agent lee ( billy crystal ) is called upon to clean up the mess , throwing a press junket in the nevada desert to woo them with the story of a possible reconciliation between the gwen and eddie , presumably distracting the stupid , stupid film critics into forgetting they haven ' t seen the movie at all . ( note to sony : any studio executive that thinks this plot is going to win points with the reviewing press needs to check into rehab . ) and did i mention gwen ' s sister kiki ( roberts ) is along for the ride ? and that she and eddie just might fall in love along the way ? oh billy , you ' re a scamp ! the script you ' ve co - written with peter tolan ( what planet are you from ? and bedazzled -- need i say more ? ) is a roast of hollywood and celebrity , sure , but it ' s not a funny one . yes , crystal tells us , hollywood is lying to our faces ! if you are surprised by this , you might want to check on your subscription to people magazine . it ' s about to expire . aside from a scant few zingers ( yeah , se ? or winces rules ! ) , america ' s sweethearts ' jokes aren ' t funny , its pace is choppy , and the whole affair comes off as a vanity project -- not for headlining star julia roberts -- but for billy crystal to deliver a bunch of lame punch lines that he wrote himself . i didn ' t time it ( the movie ' s not that bad ) , but it ' s crystal who really has the most screen time and is the unequivocal focus of the film . bad move , billy -- your jokes suck . the crotch humor is outpaced only by the meanness of the movie ' s gags -- and with unsubtle sexual innuendo dripping from every scene , how this movie earned a pg - 13 rating is a mystery to me . julia overcame a lot of spiteful writing and acting to make my best friend ' s wedding into a winning film , but not even that 90 - tooth smile can save her here . obviously aware of the ugliness before him , director joe roth turns to goofy supporting characters like hank azaria ( as a lisping spaniard ) , christopher walken ( the insane time over time director ) , and alan arkin ( a new age guru in a fright wig ) to crack wise . none of the stereotypes is successful except for walken ; azaria comes off as a preening queen when he ' s supposed to be macho . as for roth , in case you don ' t know , went from direcing revenge of the nerds ii to launching his own movie studio , revolution , which produced this work . he ' s back behind the camera for the first time in 11 years . it ' ll probably be another 11 before he ' s back again . i could drone on about how america ' s sweethearts will only appeal to the mouth - breathing morons who talk on their cell phones during the movies , but that would get old . instead , i ' ll settle for discussing the movie ' s worst sin : that sweethearts is painfully contrived and wholly unbelievable , not just in its plot but in its sentiment . every single character in this film ( with the arguable exception of kiki ) is simply hateful , and putting them in a romantic comedy is a waste of a bunch of villains . when you leave the theater , you ' ll ask yourself , too : why would i want any of these jerks to be happy ?\", 'rated : r for strong violence , language , drug use , nudity , and some sexuality . starring : wesley snipes , anne archer , michael chaykin , donald sutherland , marie matiko . running time : 117 minutes directed by : christian duguay i \\' ve never fully understood wesley snipes \\' s career . he has his ups and downs , but mostly the downs . his best movie was one of the best of 1998 and that movie was entitled \" blade \" . he has had his typical action movies , \" boiling point \" , \" passenger 57 \" , but his new movie \" the art of war \" should just be called \" rising sun 2 : the art of war \" cause basically it \\' s a semi - remake of the same plot , with a different cast , and forced to be a ridiculously unbelievable thriller , that is high on style and low on substance . wesley snipes plays a james bondish type secret agent working for the u . n . after a chinese ambassador is killed , he is on the track of the killer , trying to find out who it is , how it happened , where the killer was , and what to do . anne archer plays his \" boss \" type person of the u . n . and she has hired snipes to track down the killer . well snipes is mistakenly framed as the killer , and is now an outlaw , kidnapping a chinese woman with him , and having her help him along the way . all this leads to a finale that is so dumb , and so stupid that is it unbelievably dumb , and the stunts , dialogue and acting all ruin this movie . wesley snipes isn \\' t one of my favorite actors because of the fact that the character he plays in every movie is the same character he plays in the movie before . the only good role snipes has really had was in 1998 \\' s \" blade \" . i walked into \" the art of war \" expecting a good , high octane thriller , and all i got was a pile of mush . the only real \\' good \\' thing the movie has is action , and plenty of it , but i noticed it is badly filmed , the camera is so shaky you cannot even tell what is going on . the ending finale is so worthless and pitiful , that it even tries to mock \" the matrix \" , laughably funny , it is undeniably stupid . christian duguay \\' s direction is also not that great . his camera angles and sense of style are all in place , but sadly his lighting and editing are all badly done . even the whole \" matrix \" ending wasn \\' t even good . the stunts and action are badly filmed , and badly choreographed . his placing of the characters , and the assination of the chinese ambassador , and the plotting of the movie are so predictable and laughable , that it just takes all the fun out of the entire movie . anne archer who is usually good in her roles , turns in a horrible job here . she is sour , downbeat , and dreadfully dull with her forced dialogue , and dumb moves . even donald sutherland as a co - star can \\' t save this movie from being a bust . so for an overall opinion : \" the art of war \" is a total waste of time . it \\' s not entertaining , nor exciting , or even action packed . it is a pointless movie , and makes absolutely no sense at all . if you really want to see a good version of \" the art of war \" , rent the wesley snipes and sean connery action vehicle of the same kind \" rising sun \" , it isn \\' t a great film either , but at least it \\' s better than this .', 'movie reviewers have an obligation to see the good , the bad , and the despicable . i originally wrote this review for my college newspaper back in \\' 95 , but i wanted to re - write it because not all retro reviews should be about the classics . we need to be warned about some truly awful films , too . this picture was so bad , it inspired the description for my 1 / 10 rating ( see ratings chart below ) . the only thing saving it from a 0 / 10 rating is that being able to rent a movie like this is slightly less embarassing than renting a porno . so , it does indeed have some plusses . . . in fairness , elizabeth berkley is certainly worth seeing in the buff . and her ability to whine and irritate us , even while nude , was appropriate in her role as selfish temptress nomi malone . this character is not smart , not interesting , and ( deliberately ? ) far too annoying far too often . like in 1998s \" bulworth \" , when the movie was over i didn \\' t care one little iota about the main character . at least warren beatty tried to make a statement with his dreary and overrated film , though . \" showgirls \" is too stupid to make a statement . some people claim that the story is based on the legendary \" all about eve \" of all things ! if exploitation expert joe eszterhas was half the screenwriter that joseph l . mankiewicz was , he \\' d be . . . well , he \\' d be a good screenwriter . instead , this project may have sunk his career . he wrote the ( ha ha ! ) script and the usually reliable paul verhoeven directed . the same team who created a good sex - film in 1992 ( \" basic instinct \" ) struck out here with their occasional violence , gratuitous x - rated sex scenes , and numerous ( and quite unnecessary ) lesbian overtones . the predictable storyline revolves around nomi streaking into las vegas to make it big as a dancer . after the supposed street - smart young \" lady \" gets conned out of her suitcase by a slack - jawed yokel in the opening sequence , she befriends a tailor of the glamorous stage production at the \" stardust hotel \" . nomi doesn \\' t take advantage of this contact to break into the big - time of dirty dancing right away . first , she becomes a lap dancer at a scummy strip club . she sells her hot little wares at \" the cheetah \" for a short time , turning on the fictitious customers and the actual theatre audience . hey , i never said she wasn \\' t a hot number . . . maybe it \\' s that , her body , which gets her into the big - time when the star of the \" stardust hotel \" , crystal connors ( gina gershon ) stops into the strip club ( it certainly isn \\' t her brains or pleasant disposition ! ) . crystal requests a private lap dance for her boyfriend ( kyle maclachlan ) . he also happens to be the pleasure - seeking worm who runs the big show . crystal gets nomi onto the \" stardust \" team and , after an interminable amount of time , nomi \" earns \" the role of crystal \\' s understudy . the slut then deliberately injures and hospitalizes crystal . it was almost laughable that nomi had the guts to claim that she \\' s \" not a whore \" . that \\' s a phrase we hear a few different times and it \\' s completely ludicrous . of course she is ! she sells her soul to make it big , but in the end we \\' re supposed to believe that she \\' s a better person than that . we \\' re supposed to root for her . no way ! she \\' s a tramp and a back - stabber who deserved nothing -- least of all vindication in the . . . ahem . . . climax . she is not a good person and they take over two hours to explain that the audience should think that she is . the sub - plot with a male dancer ( glenn plummer ) who claims to see talent in nomi is just a gratuitous opportunity to let her dance naked a little bit more . it sure ain \\' t character development ! plummer also appeared in \" speed \" in \\' 94 in a smaller , yet better role . this sub - plot goes absolutely nowhere except maybe to deliver an unsubtle hint that fornicators should practice birth control . kyle maclachlan must have been promised a big pay - day or his standards have dipped since appearing in \" blue velvet \" . that picture was weird , but some critics claim it \\' s one of the best movies of the \\' 80s . now ol \\' kyle can say that he acted in one of the worst of the \\' 90s , too . his sleazy character is important to \" showgirls \" , but we don \\' t learn anything about him . he uses people to get what he wants , but that only means that he fits in well with the other characters in this movie . is he a villain ? who cares ! ultimately , this movie is as tiresome as it is explicit . everyone must know by now about the soft - core acts of copulation , especially the riotous romp between berkley and maclachlan in his pool . what few reviewers take issue with is how mean - spirited this movie is . everyone \\' s either having sex , exacting revenge , or wishing they were having sex or exacting revenge . it \\' s just too hard to take ( especially for over two hours ) . if we must be exposed to the evils of the vegas world , why couldn \\' t verhoeven have also made a point of highlighting the whispers , grunts , and other sounds during the dance numbers ? it \\' s hard to care about these people if we can \\' t even appreciate what they \\' re capable of doing on - stage . berkley may have a future in hollywood because she can dance and she has a great body . after all , the world of porn is still an active , dishonourable profession . perhaps berkley could join their ranks and leave the real acting to pauly shore and cindy crawford . oops , they \\' re bad actors , too . well , at least , they \\' re not selfish and contemptable like good ol \\' slutty nomi malone . useless trivia -- ironically , elizabeth berkley played virtuous and \" holier than thou \" jessie on the teeny - bopper tv show , \" saved by the bell \" , before breaking onto the big screen .', \"mr . nice guy is the latest jackie chan film , so you should know what to expect . a weak plot , terrible dialogue , very little acting ability , but some jaw - dropping action sequences that nearly make the rest of it worthwhile . however , mr . nice guy lacks the sparkle of jackie ' s best efforts , and its weaknesses are more glaring than ever . jackie chan plays , who else , jackie . this time out , he ' s a famous chef who hosts an australian cooking show . not that it ever makes a difference in the plot . there are only two scenes of him cooking . for the rest of the film , somehow he mutates into jackie chan , supercop . it never does explain why his character has such superb martial arts skills . . . perhaps he was in the same cooking class as steven seagal in under siege ? a tv newswoman , diana ( gabrielle fitzpatrick ) , covertly tapes a drug deal involving kingpin giancarlo ( richard norton ) and a local gang of toughs , the demons . although she only has one camcorder , somehow the result is full of close - ups and multiple angles . . . hmmm , shades of broadcast news ? ? ? anyway , the goons discover diana , and will do anything to recover the tape . here lies another crucial flaw in the story : doesn ' t anyone realize you can copy a tape ? oh well , no one ever said jackie chan movies had to make sense . as luck would have it , diana runs across jackie , and , wouldn ' t you know it , jackie accidentally ends up with the tape . this leads to countless chase and / or fight scenes which look like they could have been lifted from rumble in the bronx or nearly any other jackie chan movie . in a move apparently designed to woo american ( and other english - speaking ) audiences , the film uses english as its primary language . however , that doesn ' t mean an end to the atrocious dubbing that has afflicted jackie ' s recent americanized releases . strangely , many of the characters speaking english are overdubbed with english , and poorly too . whether this is just a very bad case of looping , an effort to minimize accents , or a simple case of nostalgia , it does achieve the same level of distraction present in all of jackie ' s dubbed films . the plot in mr . nice guy is negligible , merely an excuse to have jackie on the run from various goons . but even though plots have always been second to the action in jackie ' s films , it seems odd that the filmmakers have stuck us with this tired retread . look , if you have jackie chan playing a chef , why not use that to your advantage ? watching jackie doing his stuff in a kitchen , beating the bad guys with foodstuffs sounds like the perfect setup for innumerable comic stunts . the action is a mixed bag here . there ' s really only one no holds barred fight scenes that have become the trademark of jackie ' s films . it takes place in the arbitrary location of a construction site , apparently for the sole reason that there are lots of nifty things lying around that can be useful ala jackie chan . the action in the film is neither jackie ' s best nor worst , but you long for some more inspiration in the scenes . the film ' s gratuitous use of slow motion is distracting . once or twice , it may be useful to highlight a spectacular stunt sequence . but to slo - mo jackie running ? either this is a nod to the six - million dollar man , or a pathetic attempt to disguise the fact that jackie may be slowing down . if you ' ve seen all of jackie ' s films and are in need of another fix , go ahead and see mr . nice guy . however , if you ' re just in the mood for some good action , you ' d be better off hitting the video store for some of his better work , such as supercop .\", '\" first rule of fight club is , don \\' t talk about fight club . \" this quote deals directly with my opinion of this film , because quite frankly , it \\' s not even worth mentioning . director david fincher ( seven ) has completely gone over the edge . with crude humor , an intolerable script and 2 hours and 19 minutes of pure torture , i \\' m surprised i didn \\' t walk out . this just goes to show that hype kills . it \\' s very rare that a film so hyped up as \" fight club \" turns out to be noteworthy , and this is no exception . the story goes like this . edward norton is an insomniac trying to enlighten his dull life by going to a variety of disease therapy sessions , until he meets marla ( helena bonham carter ) . norton claims that she is wrecking his pleasurable lifestyle , when he spots her at a session that he also attended . apparently the disease sessions help them see what life is like , literally living in pain . why any person would think of such a thing is beyond me , but things do get worse . norton is soon assigned to a job that calls for traveling , and it \\' s on a plane that he meets tyler durden ( brad pitt ) . the two men develop a bond , and go out to a bar , and by golly after they get drunk , the two pitiful characters fight . how do they come up with this stuff ? anyway , their fighting catches other pathetic loser \\' s attention , and a club is formed . out of all this mess , there manages to lie a message . fincher shows us that society is like robots . we work in our jobs doing things step by step , and want out . our insanity gets to our brain and makes things worse than they really are , and we blame it on others . call me crazy , but this is common knowledge . i think fincher was acting as if the film is moodier and more poignant than it really is , which is probably one of the reasons it fails miserably . even with two good actors , and a solid actress , they only manage to weaken the story . i couldn \\' t help but hide my face in shame when norton beats himself up into a bloody pulp . it just shows how desperate the script is for attention . i guess brad pitt was right for this role , because i felt like beating him up myself . his bothersome and depressing character , made me disgusted at his 20 million fee . it only showed me that he was in it for the money and nothing more . helena bonham carter however really had no purpose . she just popped up on screen , mumbled some lines , smoked and left . this continues for what seems like 6 hours . the film drags on and my headache gets bigger , while \" fight club \" nears what i think might be the end . unfortunately by then , the film hits rock bottom . though the conclusion kept my interest for a mere 5 minutes , it backs down again and continues to move at a snails pace . on a side note , the trailer shows the only redeeming elements of the film , that coincidentally lasts the same amount of time that they did on the trailer . fincher will hopefully regret making this film or at least learn a lesson . concentrating on the atmosphere or a particular key moment , won \\' t do any good if everything else is in need of support . also , i \\' m afraid that immature men might respond to the film \\' s violence . the last thing the world needs is people praising a leader of a pointless cult . when the film ends , i \\' m just glad to get home and take some advil . you \\' ll either enjoy what the film has to offer , or agree with ed norton when he says \" this is so f * * * ing stupid . \"', 'note to screenwriters and self : when you hit the big time , and the studios come knocking for those scripts that are sitting in your bottom drawer , tell ? em all to hit the road . gilligan wrote the arbitrarily - titled home fries ten years ago ; it was shelved until he found success as one of \" the took a second look at gilligan \\' s \" comedy \" - they read it again wearing rose - tinted glasses . drew stars as sally , a dim ( but sweet ) , pregnant waitress at a small town burger joint located somewhere in the southern united states . the father of her child is dead , the victim of a severe heart attack brought on by sadistic torture from his two stepsons - these flyboys scared him with their low - flying helicopter . dorian ( wilson ) and angus ( busey ) were getting even for his philandering ways on behalf of their anguished mother ( o \\' hara ) . trouble is , sally picked up some interference on her drive - thru headset , and angus worries she may have heard conversations that took place in the helicopter prior to the accidental killing . so dorian goes undercover as a burger - flipper ; before you can say \" with cheese \" he falls for the mother - to - be . too bad mom and angus have homicidal plans for sally . does this sound like a movie you want to see ? without a doubt , the best thing about home fries is barrymore ; at the risk of sounding sexist , she \\' s never looked better than here , as a curly redhead with twinkling eyes . she is winning in a role that requires her to do absolutely nothing except look apple - cheek cute and gawk at wilson , her real - life boyfriend . but the plot and the situations are so off - putting that nothing could save it . this movie desperately wants to get mentioned in the same breath as the coen brothers , but home fries \\' brand of laboured hipness would be foreign to geniuses like ethan and joel . it \\' s raising arizona without babies , without charm , without laughs , without human characters , and without intelligence ; worst of all , it \\' s creepy . what \\' s funny about threatening to gun down a pregnant woman with a machine gun ? ( unless the woman in question is a spice girl . ) take out the helicopters , the quasi - incestuous relationship between the mother and her sons ( it is absolutely illogical , within the movie \\' s framework , that dorian still lives with his mother and brother ) , and the scenes of murder ( attempted and otherwise ) , and what are you left with ? the story of a single woman with child who works at a fast food joint ( but dreams of becoming a country singer ) . that could turn out to be the most boring movie ever made , but it \\' d be better than home fries .', 'the recent onslaught of film noir that has popped up in multiplexes , with everything ranging from \" l . a . confidential \" to \" palmetto \" to \" the big lebowski , \" has proved to be an artistic commodity for veteran , talented directors . with this particular genre , directors are able to collate the sleazy underworld of the lower - class and the glamorous , opulent upper - class , while maintaining the noirish , ambiguous ambience , the staple of film noir . \" wild things \" could be classified as a black comedy , a sultry film noir or a plain ol \\' erotic thriller , but the one category it doesn \\' t qualify for is that of a quality motion picture . overacted , overwrought and overlong , \" wild things \" is a confused mess , a movie that wants to have its cake and eat it too . with its incalculable twists , turns , more twists and more turns , it soon becomes a tedious exercise in pointlessness . in spite of game efforts by kevin bacon and matt dillon , who manage to sustain straight faces throughout the ordeal , \" wild things \" not once jells in its eroticism , unpredictability , character motivation , sense of the world , plot , etc . there \\' s not one redeeming quality in the picture that is not technical . directed by john mcnaughton ( \" henry : portrait of a serial killer \" ) , \" wild things \" follows sam lombardo ( matt dillon ) , a hunkish , suburban florida high school teacher who \\' s the dream of every spruced up female in the community . particularly one . kelly van ryan ( denise richards ) adores him to such extent that she offers to wash his jeep with a partner . soon , her tiny shorts are soaked and tells the other girl to take a hike , enabling her to come into his house . next thing , she cries rape . and the so - called \" roller - coaster ride \" ensues . a second accuser comes front , suzie toller ( neve campbell ) , a booze - drinkin \\' , tattooed piece of trailer trash that charges lombardo of sexually molesting her , virtually guaranteeing a trial where preposterous confessions , asinine occurrences and laughable courtroom procedures are bound to happen . even bill murray gets into the act as lombardo \\' s zany lawyer . he wears a fake neck - brace , waves the finger at the other client and infuses the script with some billy murray . you can tell mcnaughton knew he had nothing to lose assigning murray to this role . as ridiculous as it sounds , he \\' s the most sane character in the movie . the community is astonished . reporters flee to the scene . there \\' s an 8 . 5 - million settlement for a libel suit against kelly \\' s mother ( theresa russell ) . there \\' s the ambiguous cop ( kevin bacon , who also executive produced ) who sniffs something iffy in this concoction of deceit , murder and lust . we , the audience , sniff something not so lustful . like so many thrillers these days , including \" the usual suspects \" and \" the game , \" \" wild things \" eschews character for plot . mcnaughton knows how to handle the camera , and he keeps the campy fillings of the script flowing with workmanlike ease , as if he knows the territory he \\' s covering is a harmless appetizer to accompany \" henry , \" a furious , unsettling film directorial tour - de - force . george clinton \\' s score is a delight to behold . but it \\' s the humans . the characters are mere devices for the \" nasty \" twists . what writer stephen peters does not grasp is this becomes tediously uninvolving , almost unbearable , if those who inhibit this twisted world are not interesting , don \\' t feel real or we don \\' t care for them . not even the unintentionally funny moments work . the people in \" wild things \" are not so much people as they are caricatures . then there \\' s the erotic content , which nearly earned the film an nc - 17 , for a sexless , badly edited , poorly lit menage - a - trois . and in what has to be one of the most flabbergastingly inept scenes that has graced this country , kevin bacon \\' s member makes a cameo appearance with ten minutes to go . ironically , the wildest elements of \" wild things \" are not wild at all .', 'it rocks - actually , lots of rocks fly at us or from us , in slow or fast motion , at several points in the film . they seem like dangerous rocks because they kind of twirl through the air instead of just propelling forward , and when they land - once in a while , when we need a break from the space sequences - they cause damage enough to destroy the chrysler building and the like . ( nary a mention of these apocalyptic events is made after they occur . ) they also just might be the most interesting element of armageddon , a steroid user \\' s answer to deep impact . bruce willis stars as harry stamper , a famed oil - driller commissioned by the white house and nasa to stop a giant asteroid before it travels beyond \" zero barrier \" and destroys our planet . why an oil driller ? they require someone experience with deep - core mining to plant a nuclear missile into said asteroid . ( in one unintentionally ( ? ) hilarious sequence , nasa asks harry to inspect a deep - core driller they built based on his blueprints ; it is poorly constructed - harry criticizes almost every aspect of it . we trust nasa to build space shuttles ? ) harry assembles the obligatory \" ragtag \" bunch of \" cowboys \" , including a blond guy , a fat guy , a black guy , a wiseass , and the man who is sleeping with his daughter ( affleck ) . once they reach space , we experience sequence after sequence of something going wrong - perhaps the fact that they sent a bunch of nincompoops into outer space has something to do with it ; i cannot count the number of times they almost fail the mission on all my fingers and toes . whether or not they save the day , i will not reveal . nor will you care . i will say this : you know you \\' re in trouble when deep impact dwarfs your asteroid movie in terms of emotion and scope . willis has barely a chance to come alive ; ditto for affleck . their big scenes are mostly reserved for the third act , in a last minute - and futile - attempt to inject warmth into the material . steve buscemi \\' s character - the wiseass - is exceptionally problematic . \" rockhound \" , as he \\' s called , is sarcastic and foolish , so they tape him to a chair , where he spends most of the film . so why did they bring him up there to begin with ? rather , why write him into the film ? - give his almost - witty one - liners to serious willis , who scowls and mopes and demonstrates psychotic tendencies : at one point he chases after affleck with his shotgun for screwing his daughter , firing often and causing significant damage to his oil rig . i \\' m guessing he qualifies under nasa guidelines as someone unfit for space travel , at least in my world where the sky is blue . liv tyler is pretty and humourless , as always ; suspiciously , four of her father \\' s band \\' s ( \" aerosmith \" ) songs grace the soundtrack . director michael bay lays the visual and sound effects on thick , like ketchup , eventually drowning the movie on - screen . ( the middle hour is a non - sensical , pyrotechnic assault on the average primate \\' s brain . ) whenever someone dies in this movie , a crew member inevitably yells out \" we lost ( insert dead person \\' s last name here ) ! \" i must admit that not once could i distinguish a dead oil - guy - cum - astronaut from a live one , and close - ups of the corpses \\' faces beneath cracked helmets provided little assistance , as their skin was often covered in fake blood . armageddon is not as terrible movie as godzilla . it looks nicer , and has fewer plot - holes within its equally ludicrous framework . it has a vivid soundmix . but at almost two - and - a - half hours , i could not believe how little actually happened over the course of the story . the love story has been played up in the ads , perhaps hoping to catch people before they recover from titanic - fever . bollocks ! the lovers in the film are miles apart throughout - erase all thoughts of nude sketching or car - sex and replace them with obligatory shots of liv tyler tearing up while ben affleck dicks around in a moon - crawler . remember a little film called jaws ? in this film , three independent - minded men suddenly found themselves on a fishing boat in pursuit of a deadly shark . they didn \\' t much like each other at first ; eventually , they started to respect one another . one of jaws \\' great scenes involved the would - be - ahabs drinking and singing songs and telling stories . this is the sort of male - bonding foreign to bay or his producer , jerry bruckheimer , who throw too many characters into the mix and expect we \\' ll care about them on the grounds that the world is about to end . not once do we get the feeling that these characters are even acquaintances - i \\' d be surprised if these actors bothered to introduce themselves to one another before \" action \" was called . a male friend who loved the film suggested to me that perhaps i cannot relate to a bunch of men who don \\' t bare their souls , who believe in dying macho concepts like heroism and a kind of chest - beating bravery . to this , i will respond that the boys in armageddon are neither heroic , nor brave , nor smart , even : this team couldn \\' t build a birdhouse . and if i get no respect for disliking a movie with all the synthetic feeling of a trailer - a trailer for a movie written by a team of body - builders and greeting card authors - i \\' ve never been a prouder wimp my whole life .', 'there \\' s a 1 , 000 - foot tidal wave at the end of deep impact . i \\' d say it pretty accurately represents the towering flood of the last two years worth of disaster movies , which are getting more irwin allen - esque with every release . the early wave of this revival , while just as cheesy and laughable , at least knew to include thrills every five to ten minutes . deep impact tries to disguise itself as a human drama , with endless filler comprised of disaster prevention plans the country keeps taking . the repeating cycle is as follows -- the president ( morgan freeman ) will go on tv and tell the country that there \\' s a remote chance a comet will strike the earth , but that the nation \\' s crack scientists and astronauts have some brilliant plan to stop the problem . then we get to see the plan in action , in some sequence utterly lacking suspense . the mission will barely fail , and freeman will tell the country that the comet is still headed toward earth , and there \\' s a remote chance it will strike , but that the nation \\' s crack scientists and astronauts have some brilliant plan to stop the problem . it goes on and on throughout the movie , but every time freeman goes on tv , we know his plan is going to fail . how do we know this ? because we \\' ve seen the tv ads for deep impact , ads that feature freeman telling the nation that \" the comet is still headed right for us \" and show disaster shots of the comet striking earth and the giant tidal wave spreading . ladies and gentlemen , that is the movie . successful disaster movies have the main disaster toward the beginning and more little disasters that follow , but deep impact saves its one disaster for the end and discloses all in its 30 - second tv spots . television is what \\' s wrong with deep impact . the main character , played by tea leoni , is a low - level broadcast journalist for msnbc ( and that \\' s the mere tip of the product - placement iceberg ) who stumbles upon a huge government conspiracy . she thinks it \\' s an instance of an ex - secretary of something or other ( james cromwell ) resigning because of a mistress , and that maybe he took the fall for the president in the same area . when she goes nosing around cromwell , he begs her to keep it under wraps . \" i know you \\' re just a reporter , but you used to be a human being . \" she figures out what \\' s really going on after getting roughed up by some fbi men and doing an internet search , where all good journalists learn the difference between a mistress and an extinction - level comet . upon a top - secret meeting with president freeman , leoni agrees to keep the story under wraps until the president can hold a press conference , at which she gets to ask the first question . and everyone knows , if you get to ask the first question , baby you \\' re a star . leoni ends up in the anchor chair , broadcasting every step of the comet \\' s collision course with earth . and i \\' m sure it \\' s comforting for her to know that , even though the world \\' s ending in a matter of months , she \\' s a cable news personality . so there she is , narrating the six - astronaut mission to blow the comet up . such personalities as robert duvall , jon favreau and blair underwood cash their paychecks and go through the motions of this dragged - out process . but as anyone who \\' s seen the commercials knows , the astronauts fail . they only end up breaking the comet into two pieces , which means even more destruction to the earth . yeah , thanks , nasa . that \\' s when freeman has to come on tv for the last time and say goodbye to all the people who aren \\' t picked to live in the missouri cave site for two years . they even have animals , two by two , ready to climb into the cave . if the focus had been on people living inside these caves after the world had been destroyed , deep impact could have been a far more interesting movie . instead we watch as a lovestruck elijah wood defies all odds to chase down his young wife , while people pack the highways out of town . the reasoning is , of course , that if a comet is going to strike , they might as well be out in some scenic rural location . and , amusingly , the highway is spotted with people in u - haul trucks . i \\' m sure it \\' s comforting to know that , even though the world \\' s ending in a matter of minutes , the u - haul people are doing the most business of their lives .', '\" there will be another , \" the ads for this sequel proclaimed , and why not ? true , brandon lee is dead , but there would be no reason for him to appear in a followup to 1994 \\' s the crow , anyway . the idea of spinning artist james o \\' barr \\' s original comic book series into a sequel franchise revolves around the notion that a different startled soul would come back from the dead in each movie , taking its own righteous vengeance against the world . given that basic framework , the story could move in any number of directions . of course , it doesn \\' t . stubbornly , the crow : city of angels backtracks to the beginning of the previous film , when lee \\' s eric draven found himself drawn back out of his grave to do a charles bronson on the thugs who tortured him and his girlfriend to death . i remember the first film primarily as a harrowing exercise in brutality . in flashback , we see the most excruciating crimes exacted on eric and his lover , and then we watch in real - time as eric pays each perpetrator back in kind . it \\' s loud and repetitive , true , a sadist \\' s delight -- but it \\' s also horrifying and fascinating . city of angels gives us more of the same , but less skillfully . there \\' s an audience guaranteed for a film like this , although bad reviews and poor word - of - mouth will likely ensure that it won \\' t be much of a success . in fact , miramax subsidiary dimension films was so fearful of the critical reaction to this picture that reviewers were shut out of advance screenings . ( i \\' ve never understood the reasoning behind this tactic , since good notices have never been key to the success of movies like the crow . ) so much for any confidence in the worthiness of their followup . this time , ashe ( french - accented actor vincent perez ) is retrieved from his watery death ( he and his young son were shackled together , shot , and then thrown off a pier ) by the crow who serves as his link between the worlds of the living and the dead . perez might have some screen presence if he \\' s given something to do with himself , but here he \\' s simply thrown in front of the camera as a pretty face . at first , he \\' s shivery and frightened , but he quickly recovers from the shock of his own death and becomes a badass biker from beyond the grave . he \\' s befriended by sarah ( mia kirshner ) , presumably an older version of the child who narrated the first film . kirshner , so beguiling in exotica , is here an exquisitely photographed blank . tattooed with angels \\' wings , sarah is just about as lovely as women come , but she serves no purpose , not even as seductress . the gang of punks who killed ashe are ostensibly commanded by judah ( richard brooks ) , but a far more interesting choice as leader would have been iggy pop , who plays a gaunt fellow named curve . iggy , all bones , veins , and drawl , is the only one who seems to have shared in the aesthetic of ruin that defines this film . like all good things here , he \\' s dispatched too soon and without much imagination . in the meantime , we \\' re subjected to tedious glimpses of judah \\' s compound , where bondage is the order of the day and hot wax is poured over naked bodies in s & m fantasies that would seem shy of the cutting edge even if they weren \\' t distinctly secondhand . even the soundtrack is tired . more than anything i \\' ve seen from hollywood lately , city of angels smacks baldly of product -- it \\' s a movie with a lousy script but a great look . critics have been quick to fault the direction of mtv veteran tim pope , but his work isn \\' t that bad per se . he \\' s got a good eye , and some intriguing visual ideas -- if anything , this movie has a few too many scenes of ridiculously striking imagery . his major stylistic failing is that he can \\' t seem to direct an action scene , and the quick , nonsensical cutting that ensues is reminiscent of a low budget kung fu movie . but as director , he must also shoulder the blame for the little screenplay that wasn \\' t , the performers who couldn \\' t , and an apparent lack of ideas on the parts of everyone involved . who bought david s . goyer \\' s anemic script , anyway ? the producers of this crow were either too dim to realize their story was doomed to be a hollow rehash , or too cynical to figure their audience would know the difference .', 'late in down to you , the lead female character ( julia stiles ) states her greatest fear is having an \" artificial conversation \" with her boyfriend ( freddie prinze jr . ) . the irony of this statement will not be lost on audience members who have not yet walked out , fallen asleep , or otherwise given up on this pathetic attempt at romantic comedy . the film is a multi - million dollar testament to everything artificial . filled with characters , motivation , plot and dialogue that ring fake and shallow at every step this is an unquestionable disaster . prinze plays a college student intent on playing the field until he falls for stiles \\' freshman co - ed . at first the movie seems to be an attempt to string along scenes with the sole purpose of out - doing the previous in how \" cute \" it can be . the happy couple \" psychoanalyze \" each other ; they pick out a song because , as prinze \\' s dj mother ( lucie arnez ) explains , every couple needs a song ; he smells her shampoo ; she scratches his chest in the morning to let him know she wants to make love . then , in standard romantic comedy style , things fall apart . why ? well , because they have to . otherwise the couple can \\' t make up and live ( presumably ) happily ever after . down to you exists outside the realm of normal logic . scenes do not connect to each other and it often seems to be attempting some sort of surrealism , but this is handled so poorly that everything comes off random and stupid instead . a picnic scene involving the six key characters is just bizarre , not only for the stretched logic of these people hanging out together , or even knowing each other , but mostly because an unusual amount of screen time is dedicated to a goat . the supporting characters are remarkably flat , and insultingly ridiculous as well . stiles \\' best friend ( rosario dawson ) is a pot head , prinze \\' s roommate ( shawn hatosy ) is a girl crazy fool who can \\' t meet women , and then there are the porn stars ( zak orth and selma blair ) . he is one of those famous porn stars who is frequently interviewed on television , does the college lecture circuit , and stars in high budget costume epic porns that are shot on film . you know , the average porn star . the costume epic idea gives him a reason to appear in a different ridiculous outfit everytime he \\' s on screen , the porn angle exists just so there can be a couple of stupid sex jokes . she is a porn star mostly so we know she \\' s slutty , so her very existence will make stiles jealous and prinze tempted . attempts at drama ( which means julia is going to cry ) include a pregnancy scare and the big break up . these characters are so insipid only the most forgiving viewer would be manipulated by these weak scenes . what happened here ? the cast is full of likable , promising , young actors ( stiles especially seems to be going places ) . writer / director kris isacsson has simply given them material so weak not even seasoned pros could pull it off . in fact the whole film feels like a reworking of last year \\' s extremely unpleasant the story of us , for teen audiences . the direction is film - school - grad obvious . it \\' s stylish in a hugely self conscious way which throws in split screen , a pointless parody of \" cops , \" characters walking into the flashbacks of other characters , and a hilariously cheesy airport meeting between prinze and stiles where all the extras move in fast motion while the couple moves in extreme slow motion . plus , the whole story is told flashback style , narrated by prinze and stiles directly addressing the camera . this is the second film in a row ( following wing commander ) starring freddie prinze jr . which should have premiered on the aisles of the local blockbuster but was likely saved from that fate due to the fluke success of she \\' s all that . if he doesn \\' t start making better choices fast his future films won \\' t be so lucky .', \"for better or worse , the appearance of basic instinct in the movie marketplace gave the greenlight to a whole slew of overheated , oversexed , underwritten thrillers . apparently not having joe eszterhas as the writer doesn ' t change a thing , since body of evidence wasn ' t written by him , but has a puzzling eszterhas - ish presence all over it . in other words , it ' s a ) really dirty and b ) really , really stupid . madonna ( first warning sign ) stars in body of evidence as a woman who has piles of money and no apparent job ; she lives on a houseboat and likes to parade around semi - naked , presumably for the edification of the shrimp . she ' s been accused of having murdered an older man who was her lover . already two classic examples of hollywood sexism are in effect -- the first being that any woman in a movie cannot be sexual unless she ' s under thirty ( or at least looks it ) , and that they usually only exist for the sake of studs or filthy rich older men . what ' s worse is that the movie confirms all the above , and wallows in them as well . madonna ' s character is accused of forcing sex on the old goat when she knew darned well he had a heart condition . ( and yes , there are the obligatory cracks from the cops about how at least he died happy . this movie leave no scummy stone unturned . ) anyway . willem dafoe ( very good but completely wasted ) also stars as the lawyer who is doomed to run afoul of madonna ' s sexuality . how do we know this ? because his character is set up with the token wife and kids . how obvious is it that he ' s gonna cheat on her and have to fess everything up ? and get kicked out of the house ? and get welcomed back anyway ? don ' t skip to the end yet ; we ' re just getting warmed up . dafoe and madonna have a lot of sex in this movie . most of it is about as erotic as open - heart surgery , since it involves such goodies as hot candlewax ( always the kink of choice among screenwriters who don ' t know the first thing about * really * kinky sex ) and smashed light bulbs . don ' t ask . another thing that people are starting to realize about explicit sex in movies is that unless it is critically important to the story , it ' s insanely dull . what ' s worse is that body of evidence is dull * everywhere * , not just in the sex scenes . the stuff in the courtroom is recycled ninth - hand from other bad courtroom drama scenes . the thriller business itself is ridiculous -- it involves nasal spray bottles and drugs , and juergen prochnow as a surly doctor . and the ending -- another homage to eszterhas , maybe ? -- is one of those endings where you can almost see the exact * frame * where one of the five or six various endings to this mess was spliced in . the director is uli edel , all the more disappointing since he also directed the elegiac and powerful last exit to brooklyn and christiane f . everyone has to eat , i guess , but this isn ' t a meal ticket , it ' s leftovers .\", 'it was with great anticipation that i sat down to view braveheart last week as it premiered on american cable . the academy award winning film had been highly acclaimed . it also featured the music of one of my favorite film composers , james horner . what i was in for was a disappointing and overlong film which was anything but the best picture of 1995 . what drags braveheart down is its screenplay . it abounds with high production values : john toll \\' s award - winning cinematography ( which also graced edward zwick \\' s 1994 legends of the fall ) , a gorgeous score by horner , and the sort of logistics that make you wish assistant directors were household names . but this does not save a misguided script . the film wishes to paint its central character as a hero , but the viewer \\' s only response to his \" heroism \" is intellectual : william wallace ( producer - director mel gibson ) is fighting for freedom and against tyranny , so we have to root for him . but wallace \\' s actions paint a different story . he speaks of freedom and acts of vengeance . though one intellectually realizes wallace is on the right side , the film paints an unconvincing emotional portait , in which wallace is just not as bad as the english king . wallace speaks of freedom , but his acts point toward vengeance . after kicking the english out of scotland , he decides to invade england . this is evident of a \" spartacus complex \" , and this example applies both historically and cinematically . the historical spartacus at one point moved from liberating slaves to sacking roman cities ; the film spartacus , like braveheart , has high production values and competent performaces and is dragged down by an awful screenplay . it is a shame that such an excellent score is part of such a terrible film . horner \\' s score tries to make emotional connection , but the performances and the script do not help . gibson portrays wallace in such a way that the audience cannot relate to him or identify with him . this drags down any emotional connection to the film \\' s plot , and turns three hours into a total waste of time .', 'susan granger \\' s review of \" the watcher \" ( universal ) just what we need : another lurid , trashy serial killer saga . this time , keanu reeves plays an elusive homicidal maniac who engages in a gruesome ticking - clock cat - and - mouse game with james spader , a burnt - out fbi agent who has suffered a traumatic nervous breakdown after too many years on the job with the lapd . to taunt spader , who has relocated to chicago , reeves packs up his trusty piano wire and moves too . before long , he starts mailing photographs of the lonely , unsuspecting young women who are his intended windy city victims , challenging spader , along with the chicago police department , to stop him within 24 hours before he strikes again . in the midst of this murderous frenzy , there \\' s spader \\' s psychologist , played by marisa tomei , who is even less convincing as a medical professional than jennifer lopez in \" the cell . \" writers david elliot , clay ayers and darcy meyers , along with first - time director joe charbanic ( helmer of music videos for reeves \\' band dogstar ) , dwell on the warped thrill of the methodology and the chase , revealing , early on , exactly whodunit since the killer says he and the cop \" need each other to give meaning to our lives . \" plus , as reeves explains , \" we \\' re all stacked right on top of each other , but we don \\' t notice each other any more . \" after that , it \\' s all sound effects and tricky camera - work , along with a muddled , discordant soundtrack . james spader \\' s acting technique can be described as \\' wooden deadpan \\' while keanu reeves maintains his perpetually monotone \\' dude \\' persona which sometimes works , sometimes doesn \\' t . chris ellis , as spader \\' s self - important colleague , is the only cast member who manages to be convincing . on the granger movie gauge of 1 to 10 , \" the watcher \" is an appallingly awful , amateurish 2 . the real torture is watching it .', \"ahh yes . the teenage romance . an attractive young cast is pitted into an unlikely scenario that could only happen in the movies , and in the end , the guy always gets the girl . and with the arrival of the breakout hit ` she ' s all that ' last year ( followed by a long catalogue of imitators including ` 10 things i hate about you ' and ` drive me crazy ' ) , the genre previously on life support is once again a hot commodity . along now comes ` down to you ' . the folks at miramax are obviously trying to capitalize on the rabid ` she ' s all that ' craze with their latest project , which has the studdly freddie prinze jr . attached and all . only ` down to you ' doesn ' t have the ? unlikely scenario ' mentioned above . it is an extraordinarily ordinary romance - a dull , unattractive teen comedy that sticks to the boring game plan that we ' re accustomed to . this is the kind of romance that only giggly 12 - year old girls will find convincing . in strictly textbook fashion , college sophomore and aspiring chef al ( prinze jr . ) meets freshman artist imogen ( julia stiles ) . they hit it off like a couple can only in the movies . from here , it ' s the standard boy - meets - girl , boy - loses - girl , boy - drinks - entire - bottle - of - shampoo - and - may - or - may - not - get - girl - back story . the plot is conveniently assembled to suit the requirements of the main characters , who are frequently taking part in activities that . . . . well , only happen in the movies . fortunately , the cast of ` down to you ' has a certain appeal . freddie prinze jr . and julia stiles are an adorable couple , and when on screen together , they radiate the sort of warmth and charisma that the movie should have centered around . zak orth , as the newly realized porn star monk , shows an unmistakable flair with handling all of the film ' s intelligent dialogue . rounding out the impressive ensemble of young talent are shawn hatosy ( ` the faculty ' ) , selma blair ( ` cruel intentions ' ) and ashton kutcher ( tv ' s ` that 70 ' s shows ' ) . even the fonz himself - henry winkler , the epitome of teenage angst and nostalgia - has a welcome role as al ' s dad , the host of the popular cooking program ` chef ray ' . maybe the concept of ` down to you ' looked good on paper to draw such a crowd . as a feature film , however , the finished product is bland and tasteless fluff with only an occasional whiff of cuteness to keep the gears from stopping entirely . perhaps worst of all , ` down to you ' is not funny . the jokes are drawn from obvious sources and the resulting humor is banal and uninspired . the characters on screen , often laughing at each other ' s goofy / embarrassing antics , seemed far more amused than the audience . even the giggly 12 - year old girls had grown restless toward the end as they waited impatiently for the formula to run it ' s course . the one mildly clever segment featured winkler and prinze jr . in a fantasy sequence called ` cooks ' , a ` cops ' take - off in which the father and son would storm houses and cook a decent meal for ? needy ' families ( with the assistance of a fully - armed swat team , of course ) . when this is the highlight reel , you know the remaining film could leave something to be desired . in order to make a teen comedy work , you ' ve got to have characters that show something by way of depth and identity . ` 10 things i hate about you ' actually featured characters who were more than walking flashcards , and the result was refreshing . no such luck with ` down to you ' . it ' s just a textbook romance where , despite absurd circumstances , everything is bound to work out in the end . and at the end of the whole clich ? d ordeal , the nicest thing you could possibly say would be ` . . . . only in the movies ' .\", '\" virus \" is the type of cliched , vacuous film that has been recylcled so many times before that you wonder why anyone would even bother putting work into making it . strangely enough , on the same mid - january weekend last year , another film was released like this , \" deep rising , \" about an ugly monster on a cruise liner . prior movies with the almost exact same storyline include 1989 \\' s \" leviathan , \" 1989 \\' s \" deep star six , \" and all four \" alien \" pictures . \" virus , \" in comparison , is a servicable thriller , well - made and produced , but since it doesn \\' t include one moment of even remote originality or intelligence , it sinks under the weight of the water that the film was shot on . based on a series of comic books , \" virus \" concerns the crew of an ocean salvage tugboat , which becomes extremely damaged during a violent typhoon . after discovering that the boat is slowly sinking , ( un ) lucky for them , a huge ocean vessel that appears to be dead in the water turns up within the confines of their radar screen . once the team reaches the russian ship , they go on board to find that the place is seemingly deserted . after turning the power back on , however , there gradually are signs that something else is on the ship , and the electrical equipment is oddly working by itself . one survivor finally does turn up , nadia ( joanna pacula ) , who informs the suicidal and stern captain ( donald sutherland ) and one of the crew , kit foster ( jamie lee curtis ) , that a mysterious alien life form hit the santi mir space station which then was transported down to the ship , taking over the minds of all of the electrical machines and thinking that humans are viruses that should be completely wiped out . if \" virus \" sounds like all of the previously mentioned movies , you \\' re correct . although the technical artistry is fairly impressive to bring the mechanical creature to life , the film itself doesn \\' t appear to have a brain in its head . the film sticks so close to the worn - out conventions of the \" creature \" genre that it is amazing anyone would spend the money and time filming it when they could be making an original film . the actors are all very good and have all proven their acting abilities in the past , but they are sorely wasted here and do not really even have characters to play . in her second return to horror in the last year , jamie lee curtis once again proves to be a strong and resourceful heroine , but that is about it . although 1998 \\' s \" halloween : h20 \" was also a disappointment , at least she was given a few scenes to develop a character , unlike here . donald sutherland has fallen on hard times recently by starring in thoroughly disposable films , such as 1994 \\' s \" the puppet masters , \" although i just watched him in the superb 1978 sci - fi classic \" invasion of the body snatchers , \" where he was fabulous . the last of the three top - billers is william baldwin , but it is fairly hard to say if he is good or not in the picture , since he has nothing to do . basically , \" virus \" is another one of those films where a group of people walk around and investigate a space ship / ocean liner / haunted house until the deadly and equally grotesque and slimy creature pops up and kills them one - by - one . it is not the worst of its type , but it is far from one of the best , and when exactly are studios going to give up recycling such shameless and overdone plot gimmicks such as this ? as long as some of them keep making money , i suspect the answer is never .', 'over 40 years ago , a japanese production company called toho introduced the land of the rising sun to gojira , a reptilian creature of immense proportions created by mankind \\' s nuclear testing . partly flight of fancy , partly commentary on the exploitation of atomic power and weaponry , gojira emerged from the ocean to terrorize tokyo . a year later , gojira was marketed to the united states by adding three things : a new name , a dubbed english track , and raymond burr . as godzilla , the film took on the rest of the world . thirty years later , toho remade the classic film and once again took it to the american market by adding the same three things ( yes , including raymond burr ) and called it godzilla 1985 . now it \\' s 14 years after toho \\' s remake , and director roland emmerich has allowed the giant lizard to make an american first run . in emmerich \\' s godzilla , matthew broderick plays dr . niko tatopoulos , a biologist who is called in to join other scientists in the south pacific already studying the existence of a radiation - induced super mutant which leaves footprints the size of livingrooms . when the mutant reptile suddenly appears out of the hudson river , tatopoulos and the rest of the team relocate themselves back to the states . meanwhile , tatopoulos \\' s college girlfriend , audrey timmonds ( maria pitillo ) , works in new york city as an assistant to a big - time news reporter . she \\' d like to be a reporter herself , and when godzilla comes ashore , she figures this is her big break . of course , with the big guy running amok in the city , niko and audrey are bound to cross paths , and are joined by victor \" animal \" palotti ( hank azaria ) , audrey \\' s trusty cameraman friend , and phillipe roche ( jean reno ) , an operative for the french government , whose nuclear testing started the whole problem in the first place . together they attempt to find and destroy the surprisingly elusive godzilla . with the resources of the most cutting edge special effects houses and the clout of one of the nation \\' s premiere movie production companies , one would think emmerich could make a film truly deserving of the name godzilla . he didn \\' t . right up there with the lost world , godzilla is one of the biggest disappointments in recent cinematic history . the plot is pretty much what we expect : the big dinosaur - like creature comes out of the water and starts smashing new york city , and it \\' s up to our heroes to figure out why this thing is on its rampage and how it can be stopped , while the military makes futile attempts to bring the creature down . the script , however , is painfully bad . it \\' s fraught with lines so corny , they don \\' t even belong in b - movies , and includes many character actions which make you think , \" you idiot , \" or \" you stupid girl . \" i suppose when you \\' ve got a movie with a giant lizard loose in new york , any other semblance of reality goes out the window as well . why is it that godzilla topples some buildings by merely brushing against them , but is conveniently able to leap atop others ? why do helicopters have to follow godzilla by flying dangerously between buildings where they can lose sight of him , when they could more easily keep track of him by flying a little higher and in a straight line ? why do sidewinder missiles , which have small explosive warheads , blow up entire buildings when they miss godzilla ? why is a mission to bomb madison square garden carried out by three f - 18 fighter - bombers , when flights of such aircraft are always comprised of multiples of two ? okay , maybe the last one was a bit nit - picky , but hey , i was on a roll . broderick is usually a good actor , but in this film he \\' s weighed down by an unexciting character and an atrocious screenplay which seem to fight against him every step of the way . hank azaria does what he can , but don \\' t expect to see development of any of the promise he showed in the birdcage . like broderick \\' s , azaria \\' s character is quite simply lacking in color . what really annoyed me was maria pitillo , who actually takes the bad script and makes it worse with her acting . casting must have been asleep on this one . the one bright spot here is jean reno , who oddly enough seems to fit well into a role which is often comedic , quite unlike what we \\' ve seem him do in the past . although his character is contradictory to the unfolding disaster , reno brings a style to the role of phillipe which makes him enjoyable . unfortunately , the same cannot be said of the other incongruities . the entire feel of the movie is tongue - in - cheek , and seems to pay comical homage to a dozen or so films that have come before it . this results in a significant amount of parody , which contrasts sharply with the threat of the monster , and ends up just producing a mess . most of the characters seem to be there for comic relief , and almost none are smart enough for the audience to take seriously . although emmerich obviously wanted to make a fun action picture , what good is it to sink millions into a cgi creature whose ferocity is undermined by the humans he threatens ? if we can \\' t take the characters seriously , the threat they face is an empty one because we simply don \\' t care what happens to them . godzilla simply pulls too many punches in its attempt to be a film more light - hearted than it should be . far be it from me to want to see more carnage in the theaters , but here \\' s a behemoth running through the city ! there \\' s bound to be a lot of casualties , but instead godzilla is afflicted with the after - school g . i . joe cartoon syndrome , where almost everyone seems to get out of harm \\' s way just in time . in a couple of scenes , godzilla briefly breathes fire . none of the characters even remark upon this ability , nor is it used to any particular advantage by the filmmakers . it \\' s as if the special effects people just wanted to show that yes , godzilla can do this , just like in the old movie . consider another punch pulled . through creative script writing , you can make a sequel out of just about any movie , but the final scene in this one doesn \\' t just leave the door open , it opens into a hallway leading directly into a room where godzilla ii is waiting patiently . it made me want to gag . emmerich should have done away with 90 % of the humor and in - jokes and played this one as a straight action film . with an intelligently written screenplay , godzilla could have been so much more . however , by confusing the viewer with a ton of add - ins and parodies , the movie ends up being something that just doesn \\' t work . now if they only had raymond burr . . . .', 'before the remake of psycho appears , we \\' ve got to suffer through this remake of an earlier hitchcock film , dial m for murder . as usual , hollywood has filled it with glitz and big name stars , and it all amounts to a loud sounding nothing . the film opens with emily ( paltrow ) and david ( viggo mortensen ) \\' having fun \\' in an loft apartment . the problem is , paltrow is married to stephen ( douglas ) , who is not too happy when he discovers this affair . if i was paltrow , though , i \\' d definitely go with mortensen . less wrinkles . anyhow , stephen approaches david with an interesting proposition : he \\' ll pay him to kill his lovely wife . mortensen agrees , but the murder goes awry , and the twists keep on coming as the film progresses . unfortunately , the film dosen \\' t progress very fast . in fact , it moves like a tortoise with arthritis ( read : very , very s - l - o - w . ) the plot moves nowhere fast , and only becomes exciting in very short bursts . not too good for a \\' thriller . \\' also , the performances , apart from douglas , are below par . paltrow , showing immense talent in se7en ( 1995 ) and sliding doors ( 1997 ) is strangely stilted , even unconvincing , in this movie . mortensen is a little bit better , coming across as a younger douglas , but his role isn \\' t meaty enough to show all his talent . which leaves douglas to waltz away with the film , which is does . however , i doubt douglas finds it very hard to play a stogie smoking , drinking womanizer with a creepy underside . also popping up in the film is david suchet , playing a shifty looking detective . again , it \\' s not a character we \\' re seeing on the screen , it \\' s david suchet . the director , who bought us the fugitive , piles on all the flash techniques , such as zoom - in \\' s , quick cuts , etc . the lighting is also interesting . however , looks can \\' t save this film from the depths of mediocre , and the film seemed to work better in a single set anyway . the screenplay is o . k , but there \\' s some hackneyed sub - plot about douglas being a ruthless player on wall street ( again ) and the ending is surprisingly stupid and cliched . the characters also make incredibly dumb moves , especially paltrow , and stephen appears to lose all intelligence in the last reel . with a combination of no tension , drama , or decent characters , a perfect murder is a failure all round , and an incredible disappointment . there are a few bright moments , but they are far and few between . the last thing a thriller should be is boring , and although the film just barely manages to keep your interest thanks to michael douglas , you wouldn \\' t be missing anything if you decided not to watch a perfect murder . overall rating = review by david wilcock ? 1998 \" you know , for kids \" - norville barnes', \"coinciding with the emerging popularity of movies that deal with anything related to serial killers , relentless , 1989 low budget thriller about lapd detective sam dietz , played by character actor leo rossi , spawned three more sequels . relentless 3 , third in the row , features sam dietz again , but this time detective , who had to catch vicious serial killer in his very first case , doesn ' t want to deal with similar line of work . divorced , demoralised and transferred , he reluctantly returns to his old post when los angeles becomes a hunting ground for another serial killer , and evidence indicate connection with one of dietz ' s old cases . to make things even more interesting , it seems that the killer deliberately stages murders in order to bring dietz to the investigation . fans of the british tv films and mini - series like prime suspect or cracker would probably see a lot of similarities relentless series of movies . they both feature vicious psychopathic killers , yet also give a lot of , usually depressive , details about chief investigator ' s private lives . this one isn ' t an exception , but similarities with british television are only in content . the execution and style is different , which makes this film mediocre piece of entertainment at best . useless , gratuitous erotica also doesn ' t help either , obviously making this film longer than it should be . the actors are good , though - leo rossi is fine as usual , and william forsythe plays one of more compelling villains in his career . signy coleman as dietz ' s love interest , is , on the other hand , quite miscast . but she won ' t have to worry about it in the future career , since relentless 3 wasn ' t supposed to be anybody ' s finest moment anyway .\", \"edward burns tackles his third picture with no looking back , and like his previous two , it is a working - class relationship picture . however , unlike his previous work , the film dwells on a more personal story , and with a female protagonist . and in no looking back , he stumbles , making a slow , boring film without the spark that enlivened his previous work . claudia ( lauren holly ) is a small town waitress who is feeling stifled by her life . she ' s at a turning point in her life , and feels as if she ' s going nowhere . her boyfriend , michael ( jon bon jovi ) , is broke and in a dead end job . if she were to marry him , she ' d never get a chance to escape this town . enter charlie ( edward burns ) , claudia ' s old flame . he skipped town several years before , without any explanations . . . even for claudia . he has come back to town to see her , and suddenly she is torn . should she stay with stable michael , and never escape her hometown . . . or should she ignore her instincts and fall for charlie again . part of the answer lies in the character of her mother ( blythe danner ) , who fell for the wrong man . . . and has spent her life pining for claudia ' s father to return . now it seems that claudia is about to make the same mistakes . at only a little past ninety minutes , no looking back is rather short for its genre . unfortunately , it seems much much longer . the storyline is simple and uninspired , and there ' s a lack of energy to the whole proceedings , which makes the entire drama rather tedious . edward burns makes a misstep by casting himself in the crucial role as the egomaniacal old flame . there ' s no one to restrain his ego , which reigns unchecked . he walks into the room and lauren holly swoons . . . yeah , right . lauren holly does what she can with her central character . but we never understand why her character makes such pathetically bad decisions . . . and we never really care . bon jovi is the only sympathetic character in the whole movie . his acting talents are much greater than they might seem , but he is given a mostly bland and ineffective role to work with . there ' s not much to recommend in no looking back . it ' s not that the film is bad . . . it ' s simply boring . there ' s no zest in any aspect of the film , and no reason to spend ninety minutes watching it .\", 'i don \\' t expect much from eddie murphy these days . for the past four years , the gods of cinema -- or the expansive payrolls of studio conglomerates -- have allowed him to make one bad movie after another . such films as metro , doctor dolittle , holy man , life , and bowfinger have reduced a once great comedic persona to a living and breathing washed - up hack performing as a studio puppet for 20th century fox and universal pictures . the biggest shame to fall on his shoulders is his newest film , nutty professor ii : the klumps . the klumps once again revisits the life of sherman klump , an overweight university science professor looking for love in all the wrong places . sherman has just invented a new \" youth drink \" that enables man or beast to become younger for a short period of time . janet jackson is the love interest who chooses the lovable sherman for a soul mate rather than excel at her career as a university professor ( and for the most ridiculous reasons ) . with love on his mind , sherman is determined to rid himself of his alter ego , buddy love from the first professor , who still resides with vigor inside his psyche and causes sherman to act like a bad imitation of vince vaughn from swingers . with some convoluted mumbo - jumbo about dna extraction , sherman extracts the \" buddy love \" link in his dna and smartly deposits buddy into a handy - dandy lab beaker . but one night , the beaker is knocked over and buddy love is regenerated . . . because every movie like this needs an unnecessary villain to thwart the good guy . then the klump family , all played by eddie murphy , step in for some comedic relief involving old people having sex , flabby breasts , a slew of fart and dick jokes , and enough fat people jokes that i lost count after the first thirty minutes . and did i mention the part where larry miller gets anally raped by an overgrown hamster ? the movie finally dissolves into a really bad hallmark family special about realizing who you are and what you can be in this world -- with enough soft lighting and people on the verge of tears in every scene . pure and simple , the klumps is a failure . its script was handled by not one but five screenwriters , and it really shows during the awkward transitions between scenes . any sense of story and plot were lost in the rewrite process . it \\' s more discerning to learn that chris weitz and paul weitz , the team behind one of the funniest films of the last decade , american pie , have their names stamped to this trash . hey guys - quick note - keep this movie off of your resumes . the characterization of sherman \\' s family , the klumps , is one of the most ignorant stereotypes of a black family i have ever seen in cinema . everyone member of the family is a large person who wipes the bins clean at a local buffet restaurant like pigs at a trough . the grandma is an oversexed fiend who constantly talks of ways to pleasure her man and her sagging breasts . the father is gruff , is fired from a blue - collar job , is sexually inadequate , and cannot communicate with his family about his feelings . the mother is ignorant of all the negativity around her and seems to hold no opinion about anything or anyone . the brother is silent and brooding and resembles the ice cube gangster character from boyz in the hood . sherman himself is terribly insecure and never conveys anything for the audience to become attached to . but the main problem with the film is its inability to create any type of convincing conversational or situational comedy . the family scenes from the first nutty professor worked so well because their conversations were short and direct . and you got the feeling that these crass people couldn \\' t act like this all the time . the sequel does the reverse and drives the negatives of the klumps right in to the hilt , making the first five minutes of their interaction enjoyable and the last 55 or so unbearable and pathetic . after a while , their conversations just become a barrage of frustrated anger tinged with indecency and overworked premises that end up drawing energy away from any type of empathy one might feel for the central themes of the story . its also a damn shame that the makeup magic of rick baker -- who worked on the original nutty professor and won an academy award for his work on an american werewolf in london -- and amazing digital special effects that enabled murphy to interact with himself in such beautiful motions are built around such a lame story line . even the best effects can \\' t seem to save the most pathetic of movies these days . now that i think about it , the worst thing about this film has to be all the money that it will make . people will be lined up around the block for it . the studios will concoct the a sequel for release in the summer of 2002 . eddie murphy will be signed up to take not just one role or five roles , but he \\' ll play every character in the movie . i just can \\' t wait to see eddie murphy in a love scene with himself .', 'brian de palma , the director who bought us carrie , dressed to kill and mission : impossible is back , and has bought all his technical expertise with him . sadly , he forget to bring a good story and believable characters . nic cage plays rick santaro , a fast talking cop who is watching a boxing match with his friend commander kevin dunne ( sinise . ) an assassination takes place , and santaro tries to peace together how it took place , trying to work out the roles of the people involved in this conspiracy . the film uses flashbacks and video cameras to bring the mystery together . however , the film doesn \\' t keep the mystery for long , and once the big \\' secret \\' is out concerning kevin dunne , the film is at a dead end . although there are some fantastic shots by de palma , including a 15 minute steadicam shot at the start of the film , halfway through the film drops dead . the problem is that de palma doesn \\' t have a strong story or characters to work with . he tries to offshoot this with flashy camera techniques , but pretty soon this has no effect on the audience , and i quickly got bored . nic cage and gary sinise try to inject some life into some poorly realised characters , but it \\' s no use . they are boring , faceless , and completely unlikeable . yes , another problem with the film is that there \\' s no - one to root for . we \\' re supposed to be on cage \\' s side , because his character becomes nicer throughout the film . however , his change is sadly unbelievable . poor gary sinise \\' s character is terrible , who completely changes throughout the start , the middle and the end , in an appalling way . the film \\' s use of flashback quickly gets boring . while clever and interesting the first few times , it quickly becomes apparent that flashbacks are being used because the film has nowhere to go . they certainly don \\' t increase the tension or suspense of the movie . there is small thread of suspense running through the film , but it certainly doesn \\' t make this film a powerhouse thriller , rather just a slightly below average one . the script is lousy and contrived , the characters flat and two dimensional . certainly not good factors for a film passing itself off for a thriller . the most depressing aspect of the film is that it had potential . there \\' s a good story buried in snake eyes , it \\' s just bogged down in razzle dazzle and flashbacks . it also gives itself away far too quickly , rather than leaving the big twist for the end . while the performances are intriguing , especially by newcomer carla gugino as a sexy \\' number cruncher \\' wrapped up in the case , there \\' s no way of altering the fact that snake eyes is a terminal case of style of substance , and unless you \\' re a big fan of either cage or flash directing , should be avoided . a david wilcock review ? 1998 \" you know , for kids \" - norville barnes', 'it \\' s now the anniversary of the slayings of julie james \\' ( jennifer love hewitt ) best friends . still besieged by nightmarish memories of the man responsible for it all , she seems to be on the verge of a nervous breakdown . she can \\' t concentrate on her schoolwork , can \\' t get a good night \\' s sleep , and is even frightened by the shadows and the blinking strobe lights at a local dance club . everywhere she looks , she sees visions of the man in a rubber slicker with the hook on his hand . in the first movie , ` i know what you did last summer \\' , julie and three of her friends accidentally kill a man , running him down while driving down a dark mountain highway . to cover their misdeed , they dump the body into the ocean . however , he never quite died and returned to hunt down julie and her friends . julie and one other , ray ( freddie prinze jr . ) , survived only to make this dismal sequal . needing some desparate rest and relaxation , she is elated to learn that her college roommate , karla ( brandy ) , has won a trip for four to a secluded tropical island . accompanying these two girls are karla \\' s overbearing boyfriend , tyrell ( mehki phifer ) and a potential beau for julie . but was this contest too good to be true ? the resort is filled with a skeleton staff that seemed like love boat rejects . meanwhile , the hotel is practically deserted as the storm season is about to begin . this presumably creates a venue where they will be secluded and will have no possible means off the island . eventually , they will be hunted down during power outages and chased around during intense lightning storms . as you might have guessed , somewhere in the shadows lurk a mysteriously strange figure that is wearing a rubber slicker and wielding a hook . julie tries to convince her friends that the killer is on the island ( an eerie touch is when she is singing \" i will survive \" at the karaoke bar and the words scroll \" i still know . . . \" ) , but her friends chalk it up to paranoia . but the body count soon starts to rise , and for julie , it \\' s going to be the worst vacation of her life . the funny ( yes , i used the word \\' funny \\' ) thing about this movie is that i heard more chortling and giggling ( maybe it was my giggling ) than i heard screaming . this movie boils down to a mindless slashfest that never conjures up any amount of wry wit or even a quirky campiness . there isn \\' t even any suspense that leads up to the deaths . here \\' s an appropriate example . knock - knock . \" housekeeping \" , says the diminuitive cleaning lady . the door suddenly opens up . slash . next victim ! is there any reason to go and see this movie ? not unless you want to see four uninteresting college kids run around in circles for about 90 minutes . but i do want to say one thing about this movie that satisfied me . i was thoroughly irritated with tyrell , who incessantly ranted and raved about his sexual libido . i secretly wished for him to get filleted . did he get \\' hooked \\' ? well , let \\' s just say that if he didn \\' t , i would give this film a grade of \" d \" .', \"lucas was wise to start his star wars trilogy with episode 4 : episode 1 is a boring , empty spectacle that features some nice special effects . after the familiar ' a long time ago . . . . ' opening , the film starts with the opening yellow crawl that features in every star wars movie and computer game . the plot is that the trade confederation are blocking off supplies to the peaceful planet of naboo , ruled by queen amidala ( portman ) jedi knights qui - gon ( neeson ) and obi wan ( mcgregor ) are sent to negotiate a deal with the confederation to stop the blockade . however , this simple blockade is not all it seems , and the jedi knights soon have to deal with many more dangers , including facing the evil darth maul ( ray park . ) they also meet the future darth vadar , anakin skywalker ( jake lloyd ) star wars is largely a failure in all the major areas of filmmaking : script , direction and characters . the script desperately tries to make an thin and boring story into a two hour epic . the trade confederation plot is just not as exciting as the death star , and as the film goes on the drama becomes more and more non - existent . there ' s no underlying tension , and no urgent need to see what the outcome is . the film also takes a leisurely pace in telling the boring story , which doesn ' t help . there ' s no snap to make the film work , it moves at a plod . the script is boring : all the characters speak in morals , especially anakins mother . there ' s no group spirit evident here , and when all characters can speak only in profound statements or bark orders , it ' s evident that not much is going to happen . the two leads are hideously boring , static characters given little to do and too much time to do it . qui - gon and obi - wan hold no presence on film , and give little for the audience to root for . the audience will probably warm more to bad guy darth maul , if he had been given more screen time . maul is one of the most underused bad guys in film history , even if he does provide the only ' straight ' plot line in the film ( all the other plots in this film are to be concluded throughout the trilogy . ) anakin is annoying and unlikeable . , instead of cute and huggable as lucas no doubt intended . it ' s probably not surprising that his hateful little boy , unfortunately blessed ' ani ' by everyone he knows , joins the dark side and kills everyone as quickly as possible . the comedy relief is supposedly provided by the gangly jar jar brinks , although in the end none is provided in the film by him . although his floppy features will no doubt be great for stuffed toys , the lines and actions he is given are painfully unfunny . the only good laugh is when his tongue is burned by a ' pod ' racer , because i knew he wouldn ' t be able to talk for a while . queen amidala is a nothing in the film , she serves no real purpose apart from the fact that she must ' serve her people , ' and go goo - goo over anakin . again , her role will become more important in the later episodes , and is given little to do here . the actors don ' t help the movie much either . liam neeson seems bored and embarrassed , and seems desperate to leave the movie as quickly as possible . mcgregor comes across as a posh mothers boy , with little charm . the casting director must have chose him because he ' s scottish like alec guinness : there ' s little other explanation for it . natalie portman is plagued by hideous costumes and a poor script , but she delivers a spunky performance . and jake lloyd looks at everyone with hateful eyes and delivers his lines in a bored voice . there ' s very little talent evident with him , it ' s hard to see why lucas chose him when there are better child actors out there . he ' s not even very ' cute . ' the main claim of the film , the special effects , are okay . there ' s nothing impressive about them , yet they complement the story well . the cgi takes away much of the human element , however . the battle droids for example , the replacement for the stormtroopers , are characterless little computer graphics , lacking the humour and humanness that came from the stormtroopers . episode 1 is just disappointing . it ' s got high production values , but little else . the music is meandering , except near the end . the plot gives us no - one to root for , or even care for . the effects are nice , but dull . the plot goes on for half an hour longer than it should . there ' s an air of manufacturing among the whole sorry affair , and many clich ? s are catered for throughout the film . apart from a remotely exciting pod race sequence , episode 1 is a dry affair that serves little purpose , except to make money and to get us to watch episode 2 to see what happens to the many unfinished plot lines in the film . disappointing is barely the word . rating =\", 'five girls spend a day in a closed building doing inventory when a strange box gets delivered there ( is this starting to sound familiar ? ) by mistake . the girls accidentlly open the box ( big surprise , huh ! ) and release an evil spirit of a killer that kills the girls off one by one ( betcha didn \\' t see that one coming ! ) . hard to die , i found out while watching the film , is a sequel to sorority house massacre 2 : nightie nightmare ( r . a . m . r . # 1521 ) . two of the actresses from sorority house massacre 2 are in this film , robyn harris and melissa moore , but they play different characters here . orville ketchum is also back as ( get ready for this ) orville ketchum ( yes , the same character from number two ) . yes , he is also built like a tank in this film too . i \\' m telling you , a nuclear bomb detonated next to this man wouldn \\' t harm him at all ! the before mentioned three were the only actors from part two that i thought could act , well they seemed to have lost that ability . thankfully , for my sanity , i also saw the film warlock , which undid all the ill effects that i got from this film . the story for this film is completely ridiculous and has many elements from many cheapo low budget horror flicks . any good moments that this film fails to make are even more destroyed by the story line . the film is so pathetically predictable that every moment has already been figured out , analyzed , and discarded before it happens . there is no point in this film that any suspense is ever afoot . while we are on the subject of the story , the story also provides every chance it can to disrobe an actress . the film goes to the extent of putting a shower in the manager \\' s office . i \\' m sorry folks but this is completely unnecessary , ridiculous , and hurts the story more ( if that is still possible ) . the script for this film is completely pathetic . the lines the actresses come out with are completely horrible . the only thing that i think could have happened is that the actors made up the script as they went along . here is an example of the wonderful dialog . the scene is two girls have just entered a gun store and have picked out a * really * big gun . the line is \" my dad used to be a marine , i bet i can work it . \" this line has got to be a contender for the bad line hall of infamy . now , we fast forward for a few minutes until just after a big plan ( ? ! ! ? ) has been presented . one comment from an actress is \" not a lot of strategy involved , but i like it . \" i \\' m afraid folks that this is about as good as they get . now lets talk about the great special effects for this film . this obviously wasn \\' t a big concern of the film makers . the killing scenes are so obviously faked that they go to the point of threatening the viewer \\' s intelligence . a girl gets hacked with a knife and enough blood comes out to do one friday the 13th movie . are we trying to see how unrealistic we can get ? the continuity department was obviously asleep ( along with the viewers ) when watching this film . in one shot , actress has cloths on , camera angle changes , actress seems to have lost clothing . very impressive trick ! the one ( half ? ) plus that this film has going for it , is that in many places it is unintentionally hilarious . the incompetence behind the film makes it incredibly funny , and so the viewer can get some enjoyment ( ? ! ! ? ) from the film . however , this doesn \\' t make it worth the rental fee of over a penny . in the acting department , the only thing i can say is two thumbs squared and one head down . i would normally do a detailed paragraph on this topic , but there is no point here because there is nobody that i was impressed with in the least . oh well , win some , lose some .', 'the first film produced by adam sandler \\' s happy madison production company ( clever title eh ? ) is essentially a one joke movie , much like the movies sandler stars in himself . however the difference here is that this one joke just isn \\' t very funny . rob schneider stars as the title character , a scruffy fish tank cleaner who ends up becoming a \" man - whore \" to raise enough money to replace a wealthy client \\' s custom made fish tank , which deuce destroyed while staying in his home . deuce goes on numerous \" dates \" , and each woman he goes out with has a \" humorous \" quirk about herself . one has narcolepsy , one has tourette \\' s syndrome , one is a man . . . etc . etc . my problem is that we see all of these women in the film \\' s trailer , so why do i need to watch the movie ? seen the trailer . . . seen the film . only a quick cameo from norm macdonald ( and a follow up joke during the closing credits ) generates any chuckles . deuce bigalow : male gigolo is available on dvd from touchstone home video ( a division of di $ ney ) . the disc includes the film in its original theatrical aspect ratio of 1 . 85 : 1 , and features the original theatrical trailer ( as well as trailers for mystery alaska , happy texas , and outside providence ) , an extremely brief production featurette ( which contains footage not used in the film ) , and storyboard - to - scene comparisons . yep , you read that right . . . there are storyboard comparisons on this dvd . two scenes are storyboarded . . . neither of which are particularly exciting . there are fight scenes in this movie , so why aren \\' t we seeing storyboards of those segments ( especially the parody moments from the matrix ) ? i wonder what \\' s funnier : the fact that any moment in this film required storyboards or that di $ ney thought fans of this film would want to see them ? deleted scenes ? sure . audio commentary ? you betcha . but storyboards ? come on . [ r ]', 'tectonic plates is an incredibly painful motion picture experience that nearly prompted me to walk out 20 minutes into the movie . the film ( which opened in canada during 1992 but was never released in the united states ) is based on a 1988 stage play by canadian auteur robert lapage , and , while it \\' s evident that this could be a fascinating live production , the translation to the screen is a creative disaster . enduring tectonic plates is like sitting through a filmed version of performance art -- lifeless and tedious . the qualities that make it captivating when seen in person are effaced in the motion picture medium . tectonic plates has a storyline , although the narrative is developed in a decidedly non - traditional fashion , with shots of the stagebound play intercut with more typical cinematic sequences . it \\' s not an inherently uninteresting way to present a movie ( despite the valid complaint that it is pretentious , all - but - screaming , \" look ! art ! \" ) , although it keeps the audience distanced from the characters . because we \\' re constantly made aware that we \\' re watching a play or a movie , it \\' s impossible to accept these individuals as anything more than mouthpieces for the writer \\' s ideas . they \\' re not real , sympathetic , or believable . i \\' m willing to give director peter mettler credit for trying something different , but this particular experiment is not a success . tectonic plates opens by introducing us to madeleine ( marie gignac ) , an art student studying in montreal who has fallen in love with her professor , jacques ( lapage ) . one day , he disappears , and , fearing that he left because she was undeserving of his love , madeleine travels to venice to kill herself . while preparing to commit suicide , she encounters drug addict constance ( celine bonnier ) , who causes madeleine to re - think her decision . meanwhile , jacques has moved to new york city , where he starts cross - dressing , calls himself jennifer , and becomes a successful counter - culture talkshow host . with settings that shift from paris to venice to montreal to manhattan to scotland , supporting characters that include a topless goddess and a deaf / mute , and cultural references that point to chopin , george sand , and jim morrison , tectonic plates is unique , if nothing else . however , as interesting as the film sounds ( and i was excited to see it because the synopsis is promising ) , it never really delivers . the tone is soporific , the supposedly - intellectual prattle is inane and uninteresting , the plot meanders in a pointless and irritating manner ( although it doesn \\' t take long for the viewer to determine that the story is largely unimportant ) , and the symbolism is obvious . tectonic plates is trying to show that human interaction is as volatile as unpredictable as the shifting of the earth , but it takes one - hundred minutes to get across this transparent point . there are some worthwhile moments , such as a silly sword fight between jacques and the topless goddess and an entertaining discussion in both french and english about the differences between the two languages ( although the fine points will certainly be lost on those who aren \\' t bilingual ) . the only people likely to enjoy tectonic plates are those who feel a strong need to praise something this rootless and boring because ( a ) it \\' s different , ( b ) it \\' s not like anything they \\' ve seen before , and ( c ) it \\' s pretentious . for everyone else , it \\' s not only a waste of time , but a poor introduction to the work of robert lapage .', 'various films seen at the seattle film festival : it \\' s all true / three men on a raft ( u . s . a . , 1942 / 1986 ) director : orson welles a recently uncovered one - fourth of orson welle \\' s planned \" docu - drama \" of amazing stories around the world named it \\' s all true , this short dealt with welle \\' s attempts to document the actions of several brazilian fisherman in 1942 who had become folk heroes for their fantastic voyage to rio on a raft . while several clips of the film are seen , the short tends to spend more time trying to recount welle \\' s attempts to film it , despite studio problems , a staggering workload , and extremely ill fortune on the set . impressive photography , but really only interesting to film historians . sadie thompson ( u . s . a . , 1928 ) director : raoul walsh screenwriter : raoul walsh , from the john colton play \" rain \" , based on w . somerset maugham \\' s story \" miss thompson \" cast : gloria swanson , raoul walsh , lionel barrymore silent after the discussion of the newly - restored version of frank capra \\' s lost horizon , where several scenes had been restored using stills , i was interested to see sadie thompson , where the last 5 minutes of the film had been destroyed many years ago . this is the silent version of the somerset maugham short story \" miss thompson \" . this is one of the most skillful silent films i have ever seen -- little awkwardness , and a very clever script . the actors : gloria swanson , raoul walsh ( who also directed and wrote the screenplay ) and especially lionel barrymore , as the hypocritical reformer who supposedly wants to save sadie \\' s soul , but really wants to get her between the sheets , is the absolute epitome of sanctimonious scoundrel . swanson adds real life to the character , adding an worldly , affectionate air to the bawdy sadie . unfortunately , the ending is rather poorly tied up ; it is difficult to know whether this is due to the lack of live - action film , or the original script . the happy ending seems particularly poorly tied on ( i cannot believe maugham \\' s short story ended with sadie and our hero moving to australia ) ; the stills are expected to fill in a conclusion we \\' ve been waiting an hour and a half for . still , it \\' s entertaining right up to the end ; certainly barrymore \\' s incredibly hammy performance ( which , nonetheless , works , perhaps due to the silent screen ) is a must for anyone who is fed up with the actions of the falwells , bakkers , and robertses of the religious worlds . a c movie ; worth 2 . 50 if you can find it . the pied piper ( czechoslovakia , 1986 ) director : jim barta screenwriter : kamil piza this is an animated film from czechoslovakia that is definitely not for kids . it tells the old folk tale of the pied piper with a twist ending i find highly appropriate , and with a lot of political comment along with it . perhaps economic content is a better word -- it certainly doesn \\' t show capitalism in a good light . nor human nature , nor anything else , for that matter . as you may have guessed , this is not a tgif film ; this is the kind of film you are glad is over . not that it wasn \\' t interesting for technical reasons ; this is stop - animation that is very well done . all the puppets have been carefully carved out of walnuts -- except for the animated stuffed rats . boy , sounds like a real comedy vehicle , doesn \\' t it ? add onto that set design that makes the cabinet of doctor caligari absolutely cheerful in comparison , and you have something to give the wee ones ( and some of the mentally unstable larger folk ) to keep them up at night . some gore . don \\' t bring children to this one . don \\' t bring adults to this one , unless they \\' re fascinated by puppetry and / or hate capitalism so badly they enjoy seeing wooden puppets raped . blech . . no fun whatsoever . meier ( west germany , 1986 ) director / screenwriter : peter timm cast : rainier grenkowitz , nadja engelbrecht , alexander hauff , thomas besvater sub - titled this film takes us back and forth over the east german / west german border with meier , an east german wallpaperer whose father in the west dies and leaves him a good deal of money . his uncle ( also in the west ) sneaks meier out of the country , unknown to the east germans . meier , however , is less than thrilled -- his girlfriend , his friends and his job ( which he likes ) all exist in east germany . after a round - the - world trip ( his boss think \\' s he \\' s on leave in bulgaria ) , meier starts visiting east germany on day visas with a fake id , and uses his money and his connections to the west to buy his girlfriend presents and bring credit to his work crew \\' s work -- while everyone think \\' s he \\' s still living in east germany . of course , something goes wrong -- and the ending is very funny , but it takes the film too long to get there . the humor is spread too thin , and much of the plot is too obvious ( as is the acting ) . still , a good concept for the comedy , and the last five minutes are pretty funny . c -- $ 2 . 50 . the right hand man ( australia , 1986 ) director : di drew screenplay : helen hodgman cast : rupert everett , hugo weaving , arthur dignam , jennifer claire , catherine mcclements after a lifetime of movie - going , and about four years of attending the seattle international film festival , i \\' ve learned several rules which , while not absolute , should certainly be given deference to : 1 ) be wary of french comedies . these people like jerry lewis . 2 ) ken russell is never going to grow up , no matter how long you wait . 3 ) any film where siff associate director gary tucker refers to the lead as \" old pouty - lips \" is probably not worth watching . 4 ) when an australian film only awards credit is best cinematography , watch out ! australia has good cinematographers up the whazoo , but since weir and miller left for foreign shores , finding a good script or director seems to be a difficult ( not impossible -- witness malcolm last year ) task . well , i ignored rules 3 & 4 last night , and sat through a film that should be in the golden turkey awards . it \\' s as if the director was trying to do one of those classic romance stories that were done in the 30 \\' s about tragedy among the gentry , and falling in love with people below your station , and horses . lots and lots of horses . the film opens with a stallion mounting a mare under the direction of her ladyship , which i guess is some kind of foreshadowing , because the missus of the house wants to have her son produce an heir . unfortunately , said son , a reckless idiot who faints at the very worst times , kills his father and loses an arm during a racing accident . highlights include the amputation sequence ; the doctor \\' s daughter , who has the hots for the son , tasting his urine for a diagnosis ; their tender kissing with a window between them ( while it \\' s raining -- you \\' d think a woman studying medicine would know better ) . the photography is good , but i kept wishing for b & w -- everything seems sepia - colored anyway . actually , i wished i was watching swimming to cambodia instead , but that \\' s life . grade : z . avoid like the plague , unless you \\' re looking for inadvertent yuks .', 'capsule : the weakest and least engaging of the alien movies , dragged down by an uninvolving story and no real tension . alien 3 ( the \" 3 \" should be in superscript ) is a sad and wan entry in what was shaping up as one of the best sf sagas ever put on screen . it continues the story of ripley , the space - trucker - turned - impromptu - survivalist , but seems remarkably uninterested in her . in fact , the movie seems lucky to be interested in anything at all , it \\' s so elegaic and limp . a little of this would have been nice for atmosphere , but the movie telegraphs its own tragedy from the beginning . at the end of the last film ( aliens ) , ripley and two survivors were on their way home . unfortunately , an alien pod had been deposited in their ship , and wound up triggering off their ejection in an escape pod . the pod crashes on firorina 161 , a prison planet designed to house the incurably criminally violent . ripley lives through the crash ; the others do not . the prison is a grim place , even as prisons go -- it \\' s been built around the remnants of an abandoned steelworks , which provides no end of techno - gothic backdrops for the actors to be backlit against . lice are endemic , and so ripley \\' s head is shaved ( another surreal touch ) . at first it looks like she just has to hold out as an unwelcome guest until a company rescue ship can arrive , but it doesn \\' t stay that way . one of the other eggs on board the wrecked escape pod hatches , and soon a newly - gestated alien is running amuck . worse , it looks like ripley herself has been impregnated . what \\' s weird is how little tension this generates , except near the end , when the pressure is being troweled on through every cheap cinematic form of cheating imaginable : loud music , shaky camerawork , etc . sigourney weaver has become comfortable with the role , and she does well with it , but this time the role has been underwritten and left slack . the supporting actors are also not given a lot to do : the doctor ( charles dance ) and another , rather religious inmate ( charles s . dutton , very good ) , hiave presence , but they \\' re not asked to do anything with it . in light of the impending sequel , which apparently plays fast and loose with the ending of this movie , i will not talk about the ending -- except to say that they found a remarkably good ending for such a drab movie . it \\' s strange that some of the desperate and improvisational thinking that they found to wind up this story couldn \\' t have driven the rest of it .', '\" from the director of \" the nightmare before christmas \" it said in the previews , which i \\' m guessing was said to get people to go see the movie , obviously it hasn \\' t worked since the $ 75 million dollar movie has yet to break $ 5 million . to each it \\' s own however , since \" monkey bone \" is not only a bad movie all together , but technically well - made . a tragic waste of talent and incredible visual effects . stu miley is the genius behind the new phenomena \" monkey bone \" a crude comic strip , that everyone wants to merchandise , they go to great links to get it as well , including dollars that let out fart powder . when stu and his girlfriend , julie ( bridget fonda ) are in a freak car accident ( you \\' ll see ) stu goes into a coma , and while in his coma stu travels to i \\' m guessing dark town , where all the characters in dreams come to life . people are stuck in this town , with their nightmares roaming around them . when stu spots monkey bone ( whom he really can \\' t stand ) he tries to keep him under control . making a new friend kitty ( rose mcgowan ) he learns that if he gets an exit pass from death , he can go back up and live his life . when monkey bone and stu steal a pass , monkey bone becomes a trader and takes it and goes into stu \\' s body . now monkey bone must get everyone to buy these dolls with nightmare powder , so everyone has nightmares . . . or something like that . rather complex ( in fact more than it needs to be ) \" monkey bone \" had potential in the script and even the story . what is considerably noticeable is the gaping plot holes , and lack of character development . for instance we really don \\' t get to know who stu or julie are , so why should we even care ? kitty played well by rose mcgowan ha a story behind her , but we are not given a chance to know her . the cast is decent however , brendan fraser seems to be enjoying himself in the role as stu miley , but becomes awfully annoying when monkey bone takes over his body . bridget fonda is dreary and seems to bring the film to a screeching halt , her performance is bad and she seems miscast . dave foley isn \\' t given enough to do , as well as \" will & grace \\' s \" megan mullally who can be funny . the standout performance is the voice of nick turturro as monkey bone himself , he is very funny and entertaining and really keeps the film from being a total bust . the special effects of \" monkey bone \" is what might really bring in some curious viewers , these special effects are highly effective , and nice to look at with the eyes . some of them are believable and some unbelievable . . . for monkey bone he seems to be like stuart little , you really don \\' t realize that he is animated . . . but on occasion it sneaks up on you . the direction by henry selick is good , but at times he doesn \\' t know what kind of film he wants to make , and the ending climax falls off the cliff . it \\' s too bad really , \" monkey bone \" could have been a real good movie , but with it \\' s heavily done hack job , and lack of character development it just sinks when the end credits role . for those curious however , it might be worth the rental , but other than that avoid this one .', 'numerous comparisons can be made with this movie to past sci - fi , suspense thrillers . soldier is a multi ? crossbreed between the likes of terminator , aliens and offspring . the problem with such mixed genes is that the final product is a real mongrel ? not well made and should have been put down before production got off the ground . besides this , the action is mediocre when compared to the standard action flicks of this day and age . the fight scenes between jason scott lee and kurt russell seem laboured , slow and sluggish , and could have done with better choreography . russell who is usually a good actor in b - grade action flicks is unusually hampered by his character ? sergeant todd , who seems more like a sergeant toad . besides having almost no dialogue , his character appears stunted , zombie - like which is in line with his screen persona , but scores little points of empathy with the audience . this movie has not made me change my opinion about director paul anderson , whose last epic event horizon has left an unusually bitter taste in my mouth . although this movie does not come anywhere close to the strangeness of former , it is still a long way from anything considered desirable .', 'a documentary from the twin hughes brothers , allen and albert ( dead presidents , menace ii society ) , about street pimps , all of whom are african - american . an offscreen interviewer questions them about their lives and profession . it is mostly the pimps who do the talking for their ho \\' s , and the egotistical and flamboyant way you would expect them to be , is what you get . i learned that the word \" bitch \" is their favorite word , as it seemed to crop up in every sentence they used . it makes for a film with no surprises or nothing fresh to say , but if one has a sense a humor for what their lifestyle is about , then some of what they rap about might seem amusing . they seem to all want to be thought of as businessmen , in the business because it is the easiest way for them to make big money . it \\' s also a power trip , accomplished by manipulating the girls to work for them , mostly by humiliating them and keeping them in place . this sleazy pic , soon became grating and wore out its welcome to my unreceptive ears . these verbose pimps had a smart answer for everything and never knew when to shut their face . the hughes brothers used as their pimp role models , the feather - hatted , fur - coated , diamond ring - wearing , gold chain wearing , flashy cadillac - cruising pimp of the late \\' 70s blaxploitation movies -- like the mack and willie dynamite . also used as reference , was iceberg slim \\' s best - seller pimp , the story of my life . we meet pimps such as : fillmore slim , c - note , charm , k - red , gorgeous dre , bishop don magic juan , and rosebudd . they readily discuss their business arrangements : including percentages , lifestyles , knockin ( stealing another pimp \\' s ho ) , and the thrill they get from women giving them money . these dudes needed no prompting to talk , as they just love to brag about about themselves . \" priests need nuns , \\'\\' yaps c - note , a san francisco pimp . \" doctors need nurses . so ho \\' s need pimps . \\'\\' as he tries to persuasively make the same case all the other pimps in the film make ; that the girls need them to show them the ropes , how to make money , to be their security blankets , protectors , and counselors . the race issue was brought up right from the film \\' s onset , as a number of white interviewees , regular citizens , note that their impression of a pimp , is that he \\' s the lowest form of human . while , we are told , in the black community , the pimp is looked upon as a successful entrepenaur , riding around in fancy cars , flashing wads of money , dressed in a flamboyant style , where his snake - gaiter shoes might cost him a grand , and where he boasts hollywood style status in the community . we also see that the black pimps have a number of white girls in their stable and we see how they treat them like dirt , as the film implies that this could be payback for the days of slavery , of master and slave relations . the film was all about pimp style and their projected image , as they run a hard - sell riff about the virtues of their work . there are different styles of pimping , but the film mentions them only as being \" macks \" and \" players \" or \" real pimps \" and \" perpetrator pimps , \" but no further clarity is attempted . it is also failed to get the women \\' s side to this story of abuse , primarily taking the pimp at his word . the film could never get to the core of what makes the pimp think in such a perverted way as he does , as the filmmakers were taking for a ride by the pimps , who were looking only to pose in front of the camera and say their thing , hungry for their 15 - minutes of fame . the only laughs i got out of this bleak look at an american subculture , was hearing how a few pimps retired and what they are now up to . danny brown became a blues singer so he could keep his pimp \\' s wardrobe . while a hollywood pimp called rosebudd , married his ho and turned square , working to support his wife and daughter as a telemarketer .', 'gord brody ( tom green ) is an aspiring animator approaching thirty who still lives in parents jim ( rip torn ) and julie \\' s ( julie hagerty , \" airplane \" ) basement . as dad declares all out war , gord secures a job in a cheese sandwich factory in far off la and sets off to make his dreams come true . gord doesn \\' t make much of a go on his first attempt and lands back home with fawning mom and outraged dad in \" freddy got fingered . \" tom green cowrites ( with \" tom green show \" scribe derek harvie ) , directs and stars in what is essentially tom green \\' s primal scream . so , if tom green screams in an empty theater , does he make a sound ? it \\' s clear that \" freddy got fingered \" is at least partially autobiographical and green sure has one hell of a complex about his dad ( mom gets off easier when sonny boy advises her to go out and have sex with basketball players and greeks ) . while this may be of interest to his hard core fans , there \\' s little about green \\' s mania on display here to recommend this movie to anyone else . the film starts promisingly enough , with a well executed skateboarding scene through a shopping mall set to the sex pistols \\' \\' problem \\' ( green \\' s put together a first rate soundtrack ) and yes , i laughed a few times . green \\' s flummoxing of a security guard with psychotic ramblings and his attempt to draw , make music and eat at the same time ( the \\' daddy would you like some sausages \\' scene repeatedly shown in the film \\' s trailer ) are inspired comedy . but what \\' s funny about a paraplegic girlfriend who gets turned on by having her legs caned or a skateboarding injury that results in an exposed kneecap ? a baby delivery bit shows some groan - inducing promise until enough blood is splattered to coagulate the laughs . younger ( by three years ) brother freddy \\' s internment at the institute for sexually abused children does nothing but confirm one \\' s worst fears regarding the film \\' s title and green \\' s infamous \\' handling \\' of a real horse , while not nearly as shocking as it would seem , doesn \\' t make sense . by the time he repeats the gag with an elephant at film \\' s end , the overall effect is numbness . while \" freddy got fingered \" has the admirable end result of depicting the harm in demeaning a child \\' s self esteem , it \\' s essentially a whole lot of tom green running around being noisy . rip torn , what were you thinking ?', 'much ado about nothing . ah , how sweet the irony ! it \\' s accepted wisdom in some circles - among english literature nuts , mainly - that whenever a critic knocks shakespeare they are only doing so through ignorance . he just doesn \\' t \" understand \" shakespeare , you will hear them say . the bard \\' s work is apparently beyond criticism . what a load of old cobblers . if these arbiters of public taste think kenneth branaugh \\' s film of shakespeare \\' s \" comedy \" much ado about nothing is comedy in any modern sense of the word , it \\' s time to get a life . get monty python . get woody allen . get john waters . whatever . just get a real taste of some clever , witty , risky comedy . and banish this nonsense to where it belongs . drama and tragedy was shakespeare \\' s strength . to my sensibilities - and i \\' m no stick in the mud - much ado about nothing resonates with no spark whatsoever . no kidding : this film ranks among the most embarrassing two hours i have ever spent in a cinema in my 20 years of movie going . the only thing that stopped me walking out was loyalty to my lady friend , as this was our day out and i hadn \\' t seen her in ages . but boy , does she owe me one ! i won \\' t spend too much time on the plot . basically , we follow the trials and tribulations of two would - be couples - one young , the other older . there \\' s some dark treachery amongst all this , but everyone is so awfully jolly that you \\' d hardly know it . mind you , there \\' s nothing wrong with the basic story . good romantic comedies based on similar premises abound . nothing wrong with most of the cast , either . branaugh , emma thompson and denzel washington are all talented performers . the problem is the script , or more accurately , shakespeare \\' s original text . light comedy shouldn \\' t be complex . yet wrapped in elizabethan english , the dialogue becomes difficult to comprehend . for this alone it will be a problem for modern audiences unschooled in shakespeare and in search of nothing more than a good , undemanding laugh . the only laughs to escape my belly were brought on by the gloriously inept performance of keanu reeves , the actor once again miscast as a jealous half - brother or something . but when dissected and understood , what it all boils down to is that this stuff is just so goddamn lame . this is comedy so clean and nice and corny and so devoid of danger that it leaves this viewer totally cold . ho , ho , ho , boy likes girl ! ho , ho , ho , men are such klutzes ! ho , ho , ho , she \\' s so awfully clumsy ! oh please ! there \\' s wit in here somewhere , i \\' m told . i call it pretentious . something lightweight striving to be something sophisticated through clever wordplay . in the end , it \\' s cringeworthy . watching some of the cinema patrons around me collapse with laughter made much ado about nothing a very weird movie going experience . comedy ? bah , humbug !', 'another formula \\' feel good \\' quirky comedy from the british isles , much like \" waking ned devine , \" and a host of other popular low budget movies that turned a nifty profit off a thin story line . it is filled with likable establishment types living in a quaint town , such as tolerant vicars and policemen , plenty of eccentrics , and of locals who stick together through thick and thin . the strength of this film lies in its rational theme , that smoking pot should be legalized since it is even less dangerous than drinking alcohol . the film is tolerable until after its first hour , it then falls completely apart , becoming just too absurd to consider as anything but sitcom fluff gone completely bananas . but its long overdue message of decriminalization for certain drugs is on target and allows the film to , at least , be viewed as containing a pertinent message . its message is especially appropriate nowadays considering the \\' war on drugs \\' is about to be escalated into colombia . the drug war has been a total failure so far and with no hope of it being won by law enforcement methods in the future , it has so far just ended up causing america \\' s jails to be overcrowded with non - violent drug prisoners and offers zero hope of curtailing america \\' s drug usage and drug supply . billions of dollars have just been allocated by congress to get officially involved in the colombian civil war , by backing a corrupt government ( remember vietnam ! ) with the idea that military might could stop the cocaine and marijuana harvests in that country . everything about this proposed action smacks of vietnam , with this scenario closer to home , so what probably awaits such an effort is a more futile result than the other war . the film \\' s mild theme of showing squares getting into the weed business and finding it acceptable by the public , something that should have been accepted some 40 years ago , is a theme long overdue for public acceptance , but one that is better received late than never . there has to be some common sense in distinguishing what drugs should be legalized and how to educate the public on this , rather than making it a police matter altogether . the film opens in a quaint cornish seaside village at the funeral of the husband of a middle - aged woman , grace ( brenda blethyn ) , who fell out of an airplane , evidently committing suicide . the widow soon finds out her husband was a bigger bastard than she imagined . he left her with a stack of enormous bills and put up , without her knowledge , their comfortable 300 year old house as collateral for a failed business venture by taking out a second mortgage . the widow finds herself bankrupt and with no marketable skills to pay back her husband \\' s enormous debts and prevent her from losing the house and becoming homeless . she also knows that he was having an affair with a sophisticated woman from london , honey ( quick ) . what makes the affair doubly unsatisfying , is that when conferring with honey , she finds out that he was a tiger with her in bed but refrained from having sex with her . even though the locals try to help the bankrupt widow out as best they can , the creditors swoop down on her like vultures . her gardener and handyman , matthew ( ferguson ) , decides to stay on with her , despite his last check bouncing . since she is an expert amateur horticulturist , he convinces her to help him revive his hemp plants , which he grows for private use . the two soon see this as a possibly big business opportunity , as grace works miracles with the plants which turn out to be high - quality stuff . for grace , this is a way to save her house and get her out of debt ; for the scotsman , matthew , it offers a chance for him to continue to live in this beautiful village and earn enough money to marry his fisherman girlfriend nicky ( valerie ) . the locals all let the illegal activities go on undisturbed : the police sergeant ( campbell ) pretends not to notice what the bright lights in grace \\' s greenhouse is for , the friendly vicar ( phillips ) counsels about the wisdom of not taking action over something that you can \\' t control , and the doctor ( clunes ) enjoys smoking the weed for recreation . the story becomes incredulous when grace decides to go to london and score with a big - time drug dealer instead of having matthew go , because she finds out nicky is pregnant and doesn \\' t want matthew to end up in jail . it is interesting to note , that no one thinks smoking grass is bad for you , only that one can go to jail . the scene with grace on portobello road in the notting hill section of london , trying to find a drug dealer , while dressed out of place , in a white dress and hat one would wear to a tea party in cornwall but not on the streets of notting hill while looking to make a drug deal , was completely hokey and the film descended into a huge black hole , whereby it never recovered its dignity . the film moves into the formula mode , whereas grace beats the odds against her failing to survive , as she meets an international drug dealer , a frenchman ( tcheky karyo ) , who is first seen threatening to cut off her fingers but later becomes her business partner and husband as she becomes a millionaire and writes a best selling fiction book about her experiences , thereby becoming a celebrity . things work out in a ridiculous way , where there is a total breakdown in the character development of grace , where this matronly figure suddenly becomes merely a cartoon figure instead of live flesh and blood . there are a lot of silly giggles that come forth and the film has just enough of an acting performance by brenda blethyn to breathe air into it before it comes to its belated finale , as it drones on with its transparently gratuitous upbeat tone , until it makes the audience feel good that the sweet old lady succeeded . this \\' unhip \\' film leaves one with the impression that smoking and growing pot is silly , but should be tolerated as something naughty middle - aged widows screwed by their terrible former husbands must do in order not to remain destitute . ummm !', '\" love to kill \" starts off aimlessly and gets progressively less coherent as time passes . at the outset , the movie appears to be about tony danza , who \\' s an illegal distributor of guns , trying to establish a relationship with an unsuspecting woman . danza sets up a double date with her , her sister , and a collegue of his . everything seems to be going well , until the sister accidentally dies by falling down a set of stairs . much confusion and mahem ensues , as the death is covered up and other associates of danza \\' s begin to emerge , all after one thing or another . sound confusing ? it is . i think what the filmmakers were trying to do is take the standard crime movie and throw in a little humour and levity . in some respects , it works . but the majority of the film is a convoluted and confusing mess . characters keep popping up with no explanation , demanding money for deals that occur off - screen . the only aspect of the movie that actually works is the budding relationship between danza and the dead woman \\' s sister . but so little time is devoted to this part of the story , we never really become too familiar with these characters , and because of this , we don \\' t really care what happens to them . well , i didn \\' t , at least . one thing i will give the movie is that it \\' s a complete departure for tony danza . here \\' s a guy , because of his many sitcom roles , who \\' s ingrained in the consciousness as a nice guy who always does the right thing . here , he plays a man who \\' s just looking out for himself , and if that means he needs to kill in order to save his own skin , so be it . i was very impressed by his performance , and within minutes of the start of the film , i had forgotten all about his good - guy persona . michael madsen is also good as an associate of danza \\' s who spends half the movie buddying up to him and the other half trying to kill him . like i said , it \\' s not exactly a linear storyline . \" love to kill \" should be praised for trying to do something different with the well worn crime genre , but it \\' s just too bad that the story doesn \\' t really add up to much . the stars deserved better , and so did the audience .', 'whether you like the beatles or not , nobody wants to see the bee gee \\' s take on some of the fab four \\' s best known songs . well , maybe that \\' s not true . . . maybe you \\' re curious , the way you have to look in your hanky after you blow your nose . you just have to know how bad bad can be . if that \\' s the case , rejoice , because it was twenty years ago today ( or so ) that sgt . pepper \\' s lonely hearts club band was released ( unleashed ? ) to the world , and thanks to our modern technological advances , you can find this retched piece of filmmaking on vhs . derived from the lyrics of various beatles \\' songs , sgt . pepper \\' s tells the story of the fictitious band made popular from the song ( and album ) of the same name , released in 1967 . of course , the movie was made eleven years later , the gibbs three have become the lonely hearts , peter frampton is the one and only billy shears , and aside from being about a rock band , the story doesn \\' t correlate to the song at all . and oh , what joy - we \\' re the lovely audience they \\' d like to take home with them . i don \\' t think so . but at least these characters are actually * people * in a beatles \\' song , whereas other characters such as strawberry fields ( sandy farina ) gets her name from a song about a * place * called strawberry fields . the debate over this is really quite futile when it comes down to it , because all the film really has to offer is a feast of horrid cover tunes , embarrassing cameo appearances ( george burns ? ! steve martin ? ! ? alice cooper ? ! ? ! ) , and uuuuuuggggggglllllllyyyyy 70 \\' s fashion and faces . check please ! the plot is a bit unclear . people with bad 70 \\' s hair run around in leisure suits engaging in music video sequences that look like a sick and twisted world of make - believe from an overly demented mr . rogers . mean mr . mustard ( frankie howerd ) somehow gets hold of all billy & co . \\' s instruments , calling dr . maxwell edison ( steve martin with a silver hammer and an out - of - key singing voice ) , the sun king , marvin sunk ( alice cooper ! ) , and a couple of creepy robots to his aid . supposedly this is a horrible thing ? i guess in heartland , the talent is pretty non - existent . meanwhile , the lonely hearts are off doing the classic \" sex , drugs , and rock n \\' roll \" thing , leaving poor strawberry fields without her true love , billy . she sets out to find him , leaving her poor dad and mom ( mrs . fields ! hey , wanna cookie ? ) all alone to sing a horrible rendition of \" she \\' s leaving home \" , accompanied by those same creepy robots . but is billy getting it on with lucy ( dianne steinberg ) ? ya know , the diamond possessing girl who hangs out in the sky ? well , there \\' s some crazy chick singing soprano on the roof of a building next to a bus stop , and i assume that \\' s who it was . it \\' s movies like this that make ya sit back and ask the unanswerable question , \" what the hell were they thinking ? ? ? \" nobody will ever know , but as a novelty , sgt . pepper \\' s is one to examine . carol channing , robert palmer , keith carradine - they \\' re all here . but why ? ? ? ? who knows . it \\' s irrelevant . there \\' s as much meaning to be found here as there is to be found in your belly - button lint , although the latter may be more interesting . with the recent onslaught of 70 \\' s nostalgia in the movie world ( the ice storm , boogie nights , reissues of the star wars trilogy , etc . ) , let \\' s pray this doesn \\' t get a special 20th anniversary , second - chance in theaters . in the words of paul mccartney , live and let die . in fact , bury this one while you still can .']\n"
     ]
    }
   ],
   "source": [
    "print(documents)"
   ]
  },
  {
   "cell_type": "markdown",
   "metadata": {},
   "source": [
    "##### Top bigrams in reviews"
   ]
  },
  {
   "cell_type": "code",
   "execution_count": 41,
   "metadata": {
    "ExecuteTime": {
     "end_time": "2017-11-08T02:23:02.760606Z",
     "start_time": "2017-11-08T02:23:01.900109Z"
    }
   },
   "outputs": [
    {
     "name": "stdout",
     "output_type": "stream",
     "text": [
      "     special effects 20\n",
      "         ghosts mars 18\n",
      "         first movie 14\n",
      "           prinze jr 12\n",
      "         monkey bone 12\n",
      "         even though 11\n",
      "           hong kong 11\n",
      "        fight scenes 11\n",
      "            want see 10\n",
      "           van damme 10\n",
      "         jackie chan 10\n",
      "         every scene 10\n",
      "         movies like 9\n",
      "          romeo must 9\n",
      "            must die 9\n",
      "            big john 9\n",
      "              sci fi 9\n",
      "           years ago 8\n",
      "         sounds like 8\n",
      "         screen time 8\n",
      "      john carpenter 8\n",
      "           two hours 8\n",
      "            year old 8\n",
      "         action film 8\n",
      "         big gorilla 8\n",
      "            one best 8\n",
      "      freddie prinze 8\n",
      "           dr moreau 8\n",
      "               ho ho 8\n",
      "         spice girls 8\n"
     ]
    }
   ],
   "source": [
    "from nltk.util import ngrams\n",
    "\n",
    "from collections import Counter\n",
    "from operator import itemgetter\n",
    "\n",
    "from nltk.corpus import stopwords\n",
    "stop = stopwords.words('english')\n",
    "stop += ['.', ',', '(', ')', \"'\", '\"']\n",
    "stop = set(stop)\n",
    "\n",
    "counter = Counter()\n",
    "\n",
    "n = 2\n",
    "for doc in documents:\n",
    "    words = TextBlob(doc).words\n",
    "    words = [w for w in words if w not in stop]\n",
    "    bigrams = ngrams(words, n)\n",
    "    counter += Counter(bigrams)\n",
    "\n",
    "for phrase, count in counter.most_common(30):\n",
    "    print('%20s %i' % (\" \".join(phrase), count))"
   ]
  },
  {
   "cell_type": "markdown",
   "metadata": {},
   "source": [
    "### Using Sklearn algorithms with text data"
   ]
  },
  {
   "cell_type": "markdown",
   "metadata": {
    "collapsed": true
   },
   "source": [
    "CountVectorizer:  Convert a collection of text documents to a matrix of token counts\n",
    "This implementation produces a sparse representation.\n"
   ]
  },
  {
   "cell_type": "code",
   "execution_count": 42,
   "metadata": {
    "ExecuteTime": {
     "end_time": "2017-11-08T02:23:22.743950Z",
     "start_time": "2017-11-08T02:23:22.732954Z"
    }
   },
   "outputs": [
    {
     "name": "stdout",
     "output_type": "stream",
     "text": [
      "['above', 'above all', 'all', 'all to', 'be', 'be true', 'come', 'come to', 'denmark', 'in', 'in the', 'is', 'is rotten', 'is should', 'of', 'of denmark', 'own', 'own self', 'rotten', 'rotten in', 'self', 'self be', 'should', 'should come', 'something', 'something is', 'state', 'state of', 'that', 'that is', 'the', 'the state', 'thine', 'thine own', 'this', 'this above', 'to', 'to thine', 'to this', 'true']\n"
     ]
    }
   ],
   "source": [
    "from sklearn.feature_extraction.text import CountVectorizer\n",
    "\n",
    "text = ['That is should come to this!', 'This above all: to thine own self be true.', 'Something is rotten in the state of Denmark.']\n",
    "\n",
    "# CountVectorizer is a class; so `vectorizer` below represents an instance of that object.\n",
    "vectorizer = CountVectorizer(ngram_range=(1,2))\n",
    "\n",
    "# call `fit` to build the vocabulary\n",
    "vectorizer.fit(text)\n",
    "\n",
    "# then, use `get_feature_names` to return the tokens\n",
    "print(vectorizer.get_feature_names())\n",
    "\n",
    "# finally, call `transform` to convert text to a bag of words\n",
    "x = vectorizer.transform(text)"
   ]
  },
  {
   "cell_type": "code",
   "execution_count": 43,
   "metadata": {
    "ExecuteTime": {
     "end_time": "2017-11-08T02:23:26.354734Z",
     "start_time": "2017-11-08T02:23:26.345400Z"
    }
   },
   "outputs": [
    {
     "name": "stdout",
     "output_type": "stream",
     "text": [
      "Sparse Matrix\n",
      "<class 'scipy.sparse.csr.csr_matrix'>\n",
      "  (0, 6)\t1\n",
      "  (0, 7)\t1\n",
      "  (0, 11)\t1\n",
      "  (0, 13)\t1\n",
      "  (0, 22)\t1\n",
      "  (0, 23)\t1\n",
      "  (0, 28)\t1\n",
      "  (0, 29)\t1\n",
      "  (0, 34)\t1\n",
      "  (0, 36)\t1\n",
      "  (0, 38)\t1\n",
      "  (1, 0)\t1\n",
      "  (1, 1)\t1\n",
      "  (1, 2)\t1\n",
      "  (1, 3)\t1\n",
      "  (1, 4)\t1\n",
      "  (1, 5)\t1\n",
      "  (1, 16)\t1\n",
      "  (1, 17)\t1\n",
      "  (1, 20)\t1\n",
      "  (1, 21)\t1\n",
      "  (1, 32)\t1\n",
      "  (1, 33)\t1\n",
      "  (1, 34)\t1\n",
      "  (1, 35)\t1\n",
      "  (1, 36)\t1\n",
      "  (1, 37)\t1\n",
      "  (1, 39)\t1\n",
      "  (2, 8)\t1\n",
      "  (2, 9)\t1\n",
      "  (2, 10)\t1\n",
      "  (2, 11)\t1\n",
      "  (2, 12)\t1\n",
      "  (2, 14)\t1\n",
      "  (2, 15)\t1\n",
      "  (2, 18)\t1\n",
      "  (2, 19)\t1\n",
      "  (2, 24)\t1\n",
      "  (2, 25)\t1\n",
      "  (2, 26)\t1\n",
      "  (2, 27)\t1\n",
      "  (2, 30)\t1\n",
      "  (2, 31)\t1\n",
      "Matrix\n",
      "<class 'numpy.ndarray'>\n",
      "[[0 0 0 0 0 0 1 1 0 0 0 1 0 1 0 0 0 0 0 0 0 0 1 1 0 0 0 0 1 1 0 0 0 0 1 0 1\n",
      "  0 1 0]\n",
      " [1 1 1 1 1 1 0 0 0 0 0 0 0 0 0 0 1 1 0 0 1 1 0 0 0 0 0 0 0 0 0 0 1 1 1 1 1\n",
      "  1 0 1]\n",
      " [0 0 0 0 0 0 0 0 1 1 1 1 1 0 1 1 0 0 1 1 0 0 0 0 1 1 1 1 0 0 1 1 0 0 0 0 0\n",
      "  0 0 0]]\n"
     ]
    }
   ],
   "source": [
    "print('Sparse Matrix')\n",
    "# A compressed version; the \"sparse\" matrix.\n",
    "print(type(x))\n",
    "print(x)\n",
    "\n",
    "print ('Matrix')\n",
    "x_back = x.toarray()\n",
    "print(type(x_back))\n",
    "print(x_back)"
   ]
  },
  {
   "cell_type": "code",
   "execution_count": 44,
   "metadata": {
    "ExecuteTime": {
     "end_time": "2017-11-08T02:23:31.522625Z",
     "start_time": "2017-11-08T02:23:31.506994Z"
    }
   },
   "outputs": [
    {
     "data": {
      "text/html": [
       "<div>\n",
       "<style>\n",
       "    .dataframe thead tr:only-child th {\n",
       "        text-align: right;\n",
       "    }\n",
       "\n",
       "    .dataframe thead th {\n",
       "        text-align: left;\n",
       "    }\n",
       "\n",
       "    .dataframe tbody tr th {\n",
       "        vertical-align: top;\n",
       "    }\n",
       "</style>\n",
       "<table border=\"1\" class=\"dataframe\">\n",
       "  <thead>\n",
       "    <tr style=\"text-align: right;\">\n",
       "      <th></th>\n",
       "      <th>above</th>\n",
       "      <th>above all</th>\n",
       "      <th>all</th>\n",
       "      <th>all to</th>\n",
       "      <th>be</th>\n",
       "      <th>be true</th>\n",
       "      <th>come</th>\n",
       "      <th>come to</th>\n",
       "      <th>denmark</th>\n",
       "      <th>in</th>\n",
       "      <th>...</th>\n",
       "      <th>the</th>\n",
       "      <th>the state</th>\n",
       "      <th>thine</th>\n",
       "      <th>thine own</th>\n",
       "      <th>this</th>\n",
       "      <th>this above</th>\n",
       "      <th>to</th>\n",
       "      <th>to thine</th>\n",
       "      <th>to this</th>\n",
       "      <th>true</th>\n",
       "    </tr>\n",
       "  </thead>\n",
       "  <tbody>\n",
       "    <tr>\n",
       "      <th>0</th>\n",
       "      <td>0</td>\n",
       "      <td>0</td>\n",
       "      <td>0</td>\n",
       "      <td>0</td>\n",
       "      <td>0</td>\n",
       "      <td>0</td>\n",
       "      <td>1</td>\n",
       "      <td>1</td>\n",
       "      <td>0</td>\n",
       "      <td>0</td>\n",
       "      <td>...</td>\n",
       "      <td>0</td>\n",
       "      <td>0</td>\n",
       "      <td>0</td>\n",
       "      <td>0</td>\n",
       "      <td>1</td>\n",
       "      <td>0</td>\n",
       "      <td>1</td>\n",
       "      <td>0</td>\n",
       "      <td>1</td>\n",
       "      <td>0</td>\n",
       "    </tr>\n",
       "    <tr>\n",
       "      <th>1</th>\n",
       "      <td>1</td>\n",
       "      <td>1</td>\n",
       "      <td>1</td>\n",
       "      <td>1</td>\n",
       "      <td>1</td>\n",
       "      <td>1</td>\n",
       "      <td>0</td>\n",
       "      <td>0</td>\n",
       "      <td>0</td>\n",
       "      <td>0</td>\n",
       "      <td>...</td>\n",
       "      <td>0</td>\n",
       "      <td>0</td>\n",
       "      <td>1</td>\n",
       "      <td>1</td>\n",
       "      <td>1</td>\n",
       "      <td>1</td>\n",
       "      <td>1</td>\n",
       "      <td>1</td>\n",
       "      <td>0</td>\n",
       "      <td>1</td>\n",
       "    </tr>\n",
       "    <tr>\n",
       "      <th>2</th>\n",
       "      <td>0</td>\n",
       "      <td>0</td>\n",
       "      <td>0</td>\n",
       "      <td>0</td>\n",
       "      <td>0</td>\n",
       "      <td>0</td>\n",
       "      <td>0</td>\n",
       "      <td>0</td>\n",
       "      <td>1</td>\n",
       "      <td>1</td>\n",
       "      <td>...</td>\n",
       "      <td>1</td>\n",
       "      <td>1</td>\n",
       "      <td>0</td>\n",
       "      <td>0</td>\n",
       "      <td>0</td>\n",
       "      <td>0</td>\n",
       "      <td>0</td>\n",
       "      <td>0</td>\n",
       "      <td>0</td>\n",
       "      <td>0</td>\n",
       "    </tr>\n",
       "  </tbody>\n",
       "</table>\n",
       "<p>3 rows × 40 columns</p>\n",
       "</div>"
      ],
      "text/plain": [
       "   above  above all  all  all to  be  be true  come  come to  denmark  in  \\\n",
       "0      0          0    0       0   0        0     1        1        0   0   \n",
       "1      1          1    1       1   1        1     0        0        0   0   \n",
       "2      0          0    0       0   0        0     0        0        1   1   \n",
       "\n",
       "   ...   the  the state  thine  thine own  this  this above  to  to thine  \\\n",
       "0  ...     0          0      0          0     1           0   1         0   \n",
       "1  ...     0          0      1          1     1           1   1         1   \n",
       "2  ...     1          1      0          0     0           0   0         0   \n",
       "\n",
       "   to this  true  \n",
       "0        1     0  \n",
       "1        0     1  \n",
       "2        0     0  \n",
       "\n",
       "[3 rows x 40 columns]"
      ]
     },
     "execution_count": 44,
     "metadata": {},
     "output_type": "execute_result"
    }
   ],
   "source": [
    "\n",
    "pd.DataFrame(x_back, columns=vectorizer.get_feature_names())"
   ]
  },
  {
   "cell_type": "markdown",
   "metadata": {},
   "source": [
    "Now grab all the movies"
   ]
  },
  {
   "cell_type": "code",
   "execution_count": 45,
   "metadata": {
    "ExecuteTime": {
     "end_time": "2017-11-08T02:23:54.927789Z",
     "start_time": "2017-11-08T02:23:52.771249Z"
    },
    "collapsed": true
   },
   "outputs": [],
   "source": [
    "from nltk.corpus import movie_reviews\n",
    "fileids = movie_reviews.fileids()\n",
    "\n",
    "doc_words = [movie_reviews.words(fid) for fid in fileids]\n",
    "documents = [' '.join(words) for words in doc_words]\n",
    "classes = [movie_reviews.categories(fid)[0] for fid in fileids]"
   ]
  },
  {
   "cell_type": "code",
   "execution_count": 49,
   "metadata": {
    "ExecuteTime": {
     "end_time": "2017-11-08T02:24:51.306598Z",
     "start_time": "2017-11-08T02:24:51.294087Z"
    }
   },
   "outputs": [
    {
     "data": {
      "text/plain": [
       "['neg',\n",
       " 'neg',\n",
       " 'neg',\n",
       " 'neg',\n",
       " 'neg',\n",
       " 'neg',\n",
       " 'neg',\n",
       " 'neg',\n",
       " 'neg',\n",
       " 'neg',\n",
       " 'neg',\n",
       " 'neg',\n",
       " 'neg',\n",
       " 'neg',\n",
       " 'neg',\n",
       " 'neg',\n",
       " 'neg',\n",
       " 'neg',\n",
       " 'neg',\n",
       " 'neg',\n",
       " 'neg',\n",
       " 'neg',\n",
       " 'neg',\n",
       " 'neg',\n",
       " 'neg',\n",
       " 'neg',\n",
       " 'neg',\n",
       " 'neg',\n",
       " 'neg',\n",
       " 'neg',\n",
       " 'neg',\n",
       " 'neg',\n",
       " 'neg',\n",
       " 'neg',\n",
       " 'neg',\n",
       " 'neg',\n",
       " 'neg',\n",
       " 'neg',\n",
       " 'neg',\n",
       " 'neg',\n",
       " 'neg',\n",
       " 'neg',\n",
       " 'neg',\n",
       " 'neg',\n",
       " 'neg',\n",
       " 'neg',\n",
       " 'neg',\n",
       " 'neg',\n",
       " 'neg',\n",
       " 'neg',\n",
       " 'neg',\n",
       " 'neg',\n",
       " 'neg',\n",
       " 'neg',\n",
       " 'neg',\n",
       " 'neg',\n",
       " 'neg',\n",
       " 'neg',\n",
       " 'neg',\n",
       " 'neg',\n",
       " 'neg',\n",
       " 'neg',\n",
       " 'neg',\n",
       " 'neg',\n",
       " 'neg',\n",
       " 'neg',\n",
       " 'neg',\n",
       " 'neg',\n",
       " 'neg',\n",
       " 'neg',\n",
       " 'neg',\n",
       " 'neg',\n",
       " 'neg',\n",
       " 'neg',\n",
       " 'neg',\n",
       " 'neg',\n",
       " 'neg',\n",
       " 'neg',\n",
       " 'neg',\n",
       " 'neg',\n",
       " 'neg',\n",
       " 'neg',\n",
       " 'neg',\n",
       " 'neg',\n",
       " 'neg',\n",
       " 'neg',\n",
       " 'neg',\n",
       " 'neg',\n",
       " 'neg',\n",
       " 'neg',\n",
       " 'neg',\n",
       " 'neg',\n",
       " 'neg',\n",
       " 'neg',\n",
       " 'neg',\n",
       " 'neg',\n",
       " 'neg',\n",
       " 'neg',\n",
       " 'neg',\n",
       " 'neg',\n",
       " 'neg',\n",
       " 'neg',\n",
       " 'neg',\n",
       " 'neg',\n",
       " 'neg',\n",
       " 'neg',\n",
       " 'neg',\n",
       " 'neg',\n",
       " 'neg',\n",
       " 'neg',\n",
       " 'neg',\n",
       " 'neg',\n",
       " 'neg',\n",
       " 'neg',\n",
       " 'neg',\n",
       " 'neg',\n",
       " 'neg',\n",
       " 'neg',\n",
       " 'neg',\n",
       " 'neg',\n",
       " 'neg',\n",
       " 'neg',\n",
       " 'neg',\n",
       " 'neg',\n",
       " 'neg',\n",
       " 'neg',\n",
       " 'neg',\n",
       " 'neg',\n",
       " 'neg',\n",
       " 'neg',\n",
       " 'neg',\n",
       " 'neg',\n",
       " 'neg',\n",
       " 'neg',\n",
       " 'neg',\n",
       " 'neg',\n",
       " 'neg',\n",
       " 'neg',\n",
       " 'neg',\n",
       " 'neg',\n",
       " 'neg',\n",
       " 'neg',\n",
       " 'neg',\n",
       " 'neg',\n",
       " 'neg',\n",
       " 'neg',\n",
       " 'neg',\n",
       " 'neg',\n",
       " 'neg',\n",
       " 'neg',\n",
       " 'neg',\n",
       " 'neg',\n",
       " 'neg',\n",
       " 'neg',\n",
       " 'neg',\n",
       " 'neg',\n",
       " 'neg',\n",
       " 'neg',\n",
       " 'neg',\n",
       " 'neg',\n",
       " 'neg',\n",
       " 'neg',\n",
       " 'neg',\n",
       " 'neg',\n",
       " 'neg',\n",
       " 'neg',\n",
       " 'neg',\n",
       " 'neg',\n",
       " 'neg',\n",
       " 'neg',\n",
       " 'neg',\n",
       " 'neg',\n",
       " 'neg',\n",
       " 'neg',\n",
       " 'neg',\n",
       " 'neg',\n",
       " 'neg',\n",
       " 'neg',\n",
       " 'neg',\n",
       " 'neg',\n",
       " 'neg',\n",
       " 'neg',\n",
       " 'neg',\n",
       " 'neg',\n",
       " 'neg',\n",
       " 'neg',\n",
       " 'neg',\n",
       " 'neg',\n",
       " 'neg',\n",
       " 'neg',\n",
       " 'neg',\n",
       " 'neg',\n",
       " 'neg',\n",
       " 'neg',\n",
       " 'neg',\n",
       " 'neg',\n",
       " 'neg',\n",
       " 'neg',\n",
       " 'neg',\n",
       " 'neg',\n",
       " 'neg',\n",
       " 'neg',\n",
       " 'neg',\n",
       " 'neg',\n",
       " 'neg',\n",
       " 'neg',\n",
       " 'neg',\n",
       " 'neg',\n",
       " 'neg',\n",
       " 'neg',\n",
       " 'neg',\n",
       " 'neg',\n",
       " 'neg',\n",
       " 'neg',\n",
       " 'neg',\n",
       " 'neg',\n",
       " 'neg',\n",
       " 'neg',\n",
       " 'neg',\n",
       " 'neg',\n",
       " 'neg',\n",
       " 'neg',\n",
       " 'neg',\n",
       " 'neg',\n",
       " 'neg',\n",
       " 'neg',\n",
       " 'neg',\n",
       " 'neg',\n",
       " 'neg',\n",
       " 'neg',\n",
       " 'neg',\n",
       " 'neg',\n",
       " 'neg',\n",
       " 'neg',\n",
       " 'neg',\n",
       " 'neg',\n",
       " 'neg',\n",
       " 'neg',\n",
       " 'neg',\n",
       " 'neg',\n",
       " 'neg',\n",
       " 'neg',\n",
       " 'neg',\n",
       " 'neg',\n",
       " 'neg',\n",
       " 'neg',\n",
       " 'neg',\n",
       " 'neg',\n",
       " 'neg',\n",
       " 'neg',\n",
       " 'neg',\n",
       " 'neg',\n",
       " 'neg',\n",
       " 'neg',\n",
       " 'neg',\n",
       " 'neg',\n",
       " 'neg',\n",
       " 'neg',\n",
       " 'neg',\n",
       " 'neg',\n",
       " 'neg',\n",
       " 'neg',\n",
       " 'neg',\n",
       " 'neg',\n",
       " 'neg',\n",
       " 'neg',\n",
       " 'neg',\n",
       " 'neg',\n",
       " 'neg',\n",
       " 'neg',\n",
       " 'neg',\n",
       " 'neg',\n",
       " 'neg',\n",
       " 'neg',\n",
       " 'neg',\n",
       " 'neg',\n",
       " 'neg',\n",
       " 'neg',\n",
       " 'neg',\n",
       " 'neg',\n",
       " 'neg',\n",
       " 'neg',\n",
       " 'neg',\n",
       " 'neg',\n",
       " 'neg',\n",
       " 'neg',\n",
       " 'neg',\n",
       " 'neg',\n",
       " 'neg',\n",
       " 'neg',\n",
       " 'neg',\n",
       " 'neg',\n",
       " 'neg',\n",
       " 'neg',\n",
       " 'neg',\n",
       " 'neg',\n",
       " 'neg',\n",
       " 'neg',\n",
       " 'neg',\n",
       " 'neg',\n",
       " 'neg',\n",
       " 'neg',\n",
       " 'neg',\n",
       " 'neg',\n",
       " 'neg',\n",
       " 'neg',\n",
       " 'neg',\n",
       " 'neg',\n",
       " 'neg',\n",
       " 'neg',\n",
       " 'neg',\n",
       " 'neg',\n",
       " 'neg',\n",
       " 'neg',\n",
       " 'neg',\n",
       " 'neg',\n",
       " 'neg',\n",
       " 'neg',\n",
       " 'neg',\n",
       " 'neg',\n",
       " 'neg',\n",
       " 'neg',\n",
       " 'neg',\n",
       " 'neg',\n",
       " 'neg',\n",
       " 'neg',\n",
       " 'neg',\n",
       " 'neg',\n",
       " 'neg',\n",
       " 'neg',\n",
       " 'neg',\n",
       " 'neg',\n",
       " 'neg',\n",
       " 'neg',\n",
       " 'neg',\n",
       " 'neg',\n",
       " 'neg',\n",
       " 'neg',\n",
       " 'neg',\n",
       " 'neg',\n",
       " 'neg',\n",
       " 'neg',\n",
       " 'neg',\n",
       " 'neg',\n",
       " 'neg',\n",
       " 'neg',\n",
       " 'neg',\n",
       " 'neg',\n",
       " 'neg',\n",
       " 'neg',\n",
       " 'neg',\n",
       " 'neg',\n",
       " 'neg',\n",
       " 'neg',\n",
       " 'neg',\n",
       " 'neg',\n",
       " 'neg',\n",
       " 'neg',\n",
       " 'neg',\n",
       " 'neg',\n",
       " 'neg',\n",
       " 'neg',\n",
       " 'neg',\n",
       " 'neg',\n",
       " 'neg',\n",
       " 'neg',\n",
       " 'neg',\n",
       " 'neg',\n",
       " 'neg',\n",
       " 'neg',\n",
       " 'neg',\n",
       " 'neg',\n",
       " 'neg',\n",
       " 'neg',\n",
       " 'neg',\n",
       " 'neg',\n",
       " 'neg',\n",
       " 'neg',\n",
       " 'neg',\n",
       " 'neg',\n",
       " 'neg',\n",
       " 'neg',\n",
       " 'neg',\n",
       " 'neg',\n",
       " 'neg',\n",
       " 'neg',\n",
       " 'neg',\n",
       " 'neg',\n",
       " 'neg',\n",
       " 'neg',\n",
       " 'neg',\n",
       " 'neg',\n",
       " 'neg',\n",
       " 'neg',\n",
       " 'neg',\n",
       " 'neg',\n",
       " 'neg',\n",
       " 'neg',\n",
       " 'neg',\n",
       " 'neg',\n",
       " 'neg',\n",
       " 'neg',\n",
       " 'neg',\n",
       " 'neg',\n",
       " 'neg',\n",
       " 'neg',\n",
       " 'neg',\n",
       " 'neg',\n",
       " 'neg',\n",
       " 'neg',\n",
       " 'neg',\n",
       " 'neg',\n",
       " 'neg',\n",
       " 'neg',\n",
       " 'neg',\n",
       " 'neg',\n",
       " 'neg',\n",
       " 'neg',\n",
       " 'neg',\n",
       " 'neg',\n",
       " 'neg',\n",
       " 'neg',\n",
       " 'neg',\n",
       " 'neg',\n",
       " 'neg',\n",
       " 'neg',\n",
       " 'neg',\n",
       " 'neg',\n",
       " 'neg',\n",
       " 'neg',\n",
       " 'neg',\n",
       " 'neg',\n",
       " 'neg',\n",
       " 'neg',\n",
       " 'neg',\n",
       " 'neg',\n",
       " 'neg',\n",
       " 'neg',\n",
       " 'neg',\n",
       " 'neg',\n",
       " 'neg',\n",
       " 'neg',\n",
       " 'neg',\n",
       " 'neg',\n",
       " 'neg',\n",
       " 'neg',\n",
       " 'neg',\n",
       " 'neg',\n",
       " 'neg',\n",
       " 'neg',\n",
       " 'neg',\n",
       " 'neg',\n",
       " 'neg',\n",
       " 'neg',\n",
       " 'neg',\n",
       " 'neg',\n",
       " 'neg',\n",
       " 'neg',\n",
       " 'neg',\n",
       " 'neg',\n",
       " 'neg',\n",
       " 'neg',\n",
       " 'neg',\n",
       " 'neg',\n",
       " 'neg',\n",
       " 'neg',\n",
       " 'neg',\n",
       " 'neg',\n",
       " 'neg',\n",
       " 'neg',\n",
       " 'neg',\n",
       " 'neg',\n",
       " 'neg',\n",
       " 'neg',\n",
       " 'neg',\n",
       " 'neg',\n",
       " 'neg',\n",
       " 'neg',\n",
       " 'neg',\n",
       " 'neg',\n",
       " 'neg',\n",
       " 'neg',\n",
       " 'neg',\n",
       " 'neg',\n",
       " 'neg',\n",
       " 'neg',\n",
       " 'neg',\n",
       " 'neg',\n",
       " 'neg',\n",
       " 'neg',\n",
       " 'neg',\n",
       " 'neg',\n",
       " 'neg',\n",
       " 'neg',\n",
       " 'neg',\n",
       " 'neg',\n",
       " 'neg',\n",
       " 'neg',\n",
       " 'neg',\n",
       " 'neg',\n",
       " 'neg',\n",
       " 'neg',\n",
       " 'neg',\n",
       " 'neg',\n",
       " 'neg',\n",
       " 'neg',\n",
       " 'neg',\n",
       " 'neg',\n",
       " 'neg',\n",
       " 'neg',\n",
       " 'neg',\n",
       " 'neg',\n",
       " 'neg',\n",
       " 'neg',\n",
       " 'neg',\n",
       " 'neg',\n",
       " 'neg',\n",
       " 'neg',\n",
       " 'neg',\n",
       " 'neg',\n",
       " 'neg',\n",
       " 'neg',\n",
       " 'neg',\n",
       " 'neg',\n",
       " 'neg',\n",
       " 'neg',\n",
       " 'neg',\n",
       " 'neg',\n",
       " 'neg',\n",
       " 'neg',\n",
       " 'neg',\n",
       " 'neg',\n",
       " 'neg',\n",
       " 'neg',\n",
       " 'neg',\n",
       " 'neg',\n",
       " 'neg',\n",
       " 'neg',\n",
       " 'neg',\n",
       " 'neg',\n",
       " 'neg',\n",
       " 'neg',\n",
       " 'neg',\n",
       " 'neg',\n",
       " 'neg',\n",
       " 'neg',\n",
       " 'neg',\n",
       " 'neg',\n",
       " 'neg',\n",
       " 'neg',\n",
       " 'neg',\n",
       " 'neg',\n",
       " 'neg',\n",
       " 'neg',\n",
       " 'neg',\n",
       " 'neg',\n",
       " 'neg',\n",
       " 'neg',\n",
       " 'neg',\n",
       " 'neg',\n",
       " 'neg',\n",
       " 'neg',\n",
       " 'neg',\n",
       " 'neg',\n",
       " 'neg',\n",
       " 'neg',\n",
       " 'neg',\n",
       " 'neg',\n",
       " 'neg',\n",
       " 'neg',\n",
       " 'neg',\n",
       " 'neg',\n",
       " 'neg',\n",
       " 'neg',\n",
       " 'neg',\n",
       " 'neg',\n",
       " 'neg',\n",
       " 'neg',\n",
       " 'neg',\n",
       " 'neg',\n",
       " 'neg',\n",
       " 'neg',\n",
       " 'neg',\n",
       " 'neg',\n",
       " 'neg',\n",
       " 'neg',\n",
       " 'neg',\n",
       " 'neg',\n",
       " 'neg',\n",
       " 'neg',\n",
       " 'neg',\n",
       " 'neg',\n",
       " 'neg',\n",
       " 'neg',\n",
       " 'neg',\n",
       " 'neg',\n",
       " 'neg',\n",
       " 'neg',\n",
       " 'neg',\n",
       " 'neg',\n",
       " 'neg',\n",
       " 'neg',\n",
       " 'neg',\n",
       " 'neg',\n",
       " 'neg',\n",
       " 'neg',\n",
       " 'neg',\n",
       " 'neg',\n",
       " 'neg',\n",
       " 'neg',\n",
       " 'neg',\n",
       " 'neg',\n",
       " 'neg',\n",
       " 'neg',\n",
       " 'neg',\n",
       " 'neg',\n",
       " 'neg',\n",
       " 'neg',\n",
       " 'neg',\n",
       " 'neg',\n",
       " 'neg',\n",
       " 'neg',\n",
       " 'neg',\n",
       " 'neg',\n",
       " 'neg',\n",
       " 'neg',\n",
       " 'neg',\n",
       " 'neg',\n",
       " 'neg',\n",
       " 'neg',\n",
       " 'neg',\n",
       " 'neg',\n",
       " 'neg',\n",
       " 'neg',\n",
       " 'neg',\n",
       " 'neg',\n",
       " 'neg',\n",
       " 'neg',\n",
       " 'neg',\n",
       " 'neg',\n",
       " 'neg',\n",
       " 'neg',\n",
       " 'neg',\n",
       " 'neg',\n",
       " 'neg',\n",
       " 'neg',\n",
       " 'neg',\n",
       " 'neg',\n",
       " 'neg',\n",
       " 'neg',\n",
       " 'neg',\n",
       " 'neg',\n",
       " 'neg',\n",
       " 'neg',\n",
       " 'neg',\n",
       " 'neg',\n",
       " 'neg',\n",
       " 'neg',\n",
       " 'neg',\n",
       " 'neg',\n",
       " 'neg',\n",
       " 'neg',\n",
       " 'neg',\n",
       " 'neg',\n",
       " 'neg',\n",
       " 'neg',\n",
       " 'neg',\n",
       " 'neg',\n",
       " 'neg',\n",
       " 'neg',\n",
       " 'neg',\n",
       " 'neg',\n",
       " 'neg',\n",
       " 'neg',\n",
       " 'neg',\n",
       " 'neg',\n",
       " 'neg',\n",
       " 'neg',\n",
       " 'neg',\n",
       " 'neg',\n",
       " 'neg',\n",
       " 'neg',\n",
       " 'neg',\n",
       " 'neg',\n",
       " 'neg',\n",
       " 'neg',\n",
       " 'neg',\n",
       " 'neg',\n",
       " 'neg',\n",
       " 'neg',\n",
       " 'neg',\n",
       " 'neg',\n",
       " 'neg',\n",
       " 'neg',\n",
       " 'neg',\n",
       " 'neg',\n",
       " 'neg',\n",
       " 'neg',\n",
       " 'neg',\n",
       " 'neg',\n",
       " 'neg',\n",
       " 'neg',\n",
       " 'neg',\n",
       " 'neg',\n",
       " 'neg',\n",
       " 'neg',\n",
       " 'neg',\n",
       " 'neg',\n",
       " 'neg',\n",
       " 'neg',\n",
       " 'neg',\n",
       " 'neg',\n",
       " 'neg',\n",
       " 'neg',\n",
       " 'neg',\n",
       " 'neg',\n",
       " 'neg',\n",
       " 'neg',\n",
       " 'neg',\n",
       " 'neg',\n",
       " 'neg',\n",
       " 'neg',\n",
       " 'neg',\n",
       " 'neg',\n",
       " 'neg',\n",
       " 'neg',\n",
       " 'neg',\n",
       " 'neg',\n",
       " 'neg',\n",
       " 'neg',\n",
       " 'neg',\n",
       " 'neg',\n",
       " 'neg',\n",
       " 'neg',\n",
       " 'neg',\n",
       " 'neg',\n",
       " 'neg',\n",
       " 'neg',\n",
       " 'neg',\n",
       " 'neg',\n",
       " 'neg',\n",
       " 'neg',\n",
       " 'neg',\n",
       " 'neg',\n",
       " 'neg',\n",
       " 'neg',\n",
       " 'neg',\n",
       " 'neg',\n",
       " 'neg',\n",
       " 'neg',\n",
       " 'neg',\n",
       " 'neg',\n",
       " 'neg',\n",
       " 'neg',\n",
       " 'neg',\n",
       " 'neg',\n",
       " 'neg',\n",
       " 'neg',\n",
       " 'neg',\n",
       " 'neg',\n",
       " 'neg',\n",
       " 'neg',\n",
       " 'neg',\n",
       " 'neg',\n",
       " 'neg',\n",
       " 'neg',\n",
       " 'neg',\n",
       " 'neg',\n",
       " 'neg',\n",
       " 'neg',\n",
       " 'neg',\n",
       " 'neg',\n",
       " 'neg',\n",
       " 'neg',\n",
       " 'neg',\n",
       " 'neg',\n",
       " 'neg',\n",
       " 'neg',\n",
       " 'neg',\n",
       " 'neg',\n",
       " 'neg',\n",
       " 'neg',\n",
       " 'neg',\n",
       " 'neg',\n",
       " 'neg',\n",
       " 'neg',\n",
       " 'neg',\n",
       " 'neg',\n",
       " 'neg',\n",
       " 'neg',\n",
       " 'neg',\n",
       " 'neg',\n",
       " 'neg',\n",
       " 'neg',\n",
       " 'neg',\n",
       " 'neg',\n",
       " 'neg',\n",
       " 'neg',\n",
       " 'neg',\n",
       " 'neg',\n",
       " 'neg',\n",
       " 'neg',\n",
       " 'neg',\n",
       " 'neg',\n",
       " 'neg',\n",
       " 'neg',\n",
       " 'neg',\n",
       " 'neg',\n",
       " 'neg',\n",
       " 'neg',\n",
       " 'neg',\n",
       " 'neg',\n",
       " 'neg',\n",
       " 'neg',\n",
       " 'neg',\n",
       " 'neg',\n",
       " 'neg',\n",
       " 'neg',\n",
       " 'neg',\n",
       " 'neg',\n",
       " 'neg',\n",
       " 'neg',\n",
       " 'neg',\n",
       " 'neg',\n",
       " 'neg',\n",
       " 'neg',\n",
       " 'neg',\n",
       " 'neg',\n",
       " 'neg',\n",
       " 'neg',\n",
       " 'neg',\n",
       " 'neg',\n",
       " 'neg',\n",
       " 'neg',\n",
       " 'neg',\n",
       " 'neg',\n",
       " 'neg',\n",
       " 'neg',\n",
       " 'neg',\n",
       " 'neg',\n",
       " 'neg',\n",
       " 'neg',\n",
       " 'neg',\n",
       " 'neg',\n",
       " 'neg',\n",
       " 'neg',\n",
       " 'neg',\n",
       " 'neg',\n",
       " 'neg',\n",
       " 'neg',\n",
       " 'neg',\n",
       " 'neg',\n",
       " 'neg',\n",
       " 'neg',\n",
       " 'neg',\n",
       " 'neg',\n",
       " 'neg',\n",
       " 'neg',\n",
       " 'neg',\n",
       " 'neg',\n",
       " 'neg',\n",
       " 'neg',\n",
       " 'neg',\n",
       " 'neg',\n",
       " 'neg',\n",
       " 'neg',\n",
       " 'neg',\n",
       " 'neg',\n",
       " 'neg',\n",
       " 'neg',\n",
       " 'neg',\n",
       " 'neg',\n",
       " 'neg',\n",
       " 'neg',\n",
       " 'neg',\n",
       " 'neg',\n",
       " 'neg',\n",
       " 'neg',\n",
       " 'neg',\n",
       " 'neg',\n",
       " 'neg',\n",
       " 'neg',\n",
       " 'neg',\n",
       " 'neg',\n",
       " 'neg',\n",
       " 'neg',\n",
       " 'neg',\n",
       " 'neg',\n",
       " 'neg',\n",
       " 'neg',\n",
       " 'neg',\n",
       " 'neg',\n",
       " 'neg',\n",
       " 'neg',\n",
       " 'neg',\n",
       " 'neg',\n",
       " 'neg',\n",
       " 'neg',\n",
       " 'neg',\n",
       " 'neg',\n",
       " 'neg',\n",
       " 'neg',\n",
       " 'neg',\n",
       " 'neg',\n",
       " 'neg',\n",
       " 'neg',\n",
       " 'neg',\n",
       " 'neg',\n",
       " 'neg',\n",
       " 'neg',\n",
       " 'neg',\n",
       " 'neg',\n",
       " 'neg',\n",
       " 'neg',\n",
       " 'neg',\n",
       " 'neg',\n",
       " 'neg',\n",
       " 'neg',\n",
       " 'neg',\n",
       " 'neg',\n",
       " 'neg',\n",
       " 'neg',\n",
       " 'neg',\n",
       " 'neg',\n",
       " 'neg',\n",
       " 'neg',\n",
       " 'neg',\n",
       " 'neg',\n",
       " 'neg',\n",
       " 'neg',\n",
       " 'neg',\n",
       " 'neg',\n",
       " 'neg',\n",
       " 'neg',\n",
       " 'neg',\n",
       " 'neg',\n",
       " 'neg',\n",
       " 'neg',\n",
       " 'neg',\n",
       " 'neg',\n",
       " 'neg',\n",
       " 'neg',\n",
       " 'neg',\n",
       " 'neg',\n",
       " 'neg',\n",
       " 'neg',\n",
       " 'neg',\n",
       " 'neg',\n",
       " 'neg',\n",
       " 'neg',\n",
       " 'neg',\n",
       " 'neg',\n",
       " 'neg',\n",
       " 'neg',\n",
       " 'neg',\n",
       " 'neg',\n",
       " 'neg',\n",
       " 'neg',\n",
       " 'neg',\n",
       " 'neg',\n",
       " 'neg',\n",
       " 'neg',\n",
       " 'neg',\n",
       " 'neg',\n",
       " 'neg',\n",
       " 'neg',\n",
       " 'neg',\n",
       " 'neg',\n",
       " 'neg',\n",
       " 'neg',\n",
       " 'neg',\n",
       " 'neg',\n",
       " 'neg',\n",
       " 'neg',\n",
       " 'neg',\n",
       " 'neg',\n",
       " 'neg',\n",
       " 'neg',\n",
       " 'neg',\n",
       " 'neg',\n",
       " 'neg',\n",
       " 'neg',\n",
       " 'neg',\n",
       " 'neg',\n",
       " 'neg',\n",
       " 'neg',\n",
       " 'neg',\n",
       " 'neg',\n",
       " 'neg',\n",
       " 'neg',\n",
       " 'neg',\n",
       " 'neg',\n",
       " 'neg',\n",
       " 'neg',\n",
       " 'neg',\n",
       " 'neg',\n",
       " 'neg',\n",
       " 'neg',\n",
       " 'neg',\n",
       " 'neg',\n",
       " ...]"
      ]
     },
     "execution_count": 49,
     "metadata": {},
     "output_type": "execute_result"
    }
   ],
   "source": [
    "classes"
   ]
  },
  {
   "cell_type": "code",
   "execution_count": 46,
   "metadata": {
    "ExecuteTime": {
     "end_time": "2017-11-08T02:23:54.934267Z",
     "start_time": "2017-11-08T02:23:54.929950Z"
    }
   },
   "outputs": [
    {
     "data": {
      "text/plain": [
       "2000"
      ]
     },
     "execution_count": 46,
     "metadata": {},
     "output_type": "execute_result"
    }
   ],
   "source": [
    "len(classes)"
   ]
  },
  {
   "cell_type": "code",
   "execution_count": 50,
   "metadata": {
    "ExecuteTime": {
     "end_time": "2017-11-08T02:25:03.759682Z",
     "start_time": "2017-11-08T02:25:03.744903Z"
    },
    "collapsed": true
   },
   "outputs": [],
   "source": [
    "#### TF: frequency in this document\n",
    "#### IDF: inverse frequency in the corpus\n",
    "\n",
    "import numpy as np\n",
    "from sklearn.feature_extraction.text import TfidfVectorizer\n",
    "from sklearn.naive_bayes import MultinomialNB"
   ]
  },
  {
   "cell_type": "markdown",
   "metadata": {},
   "source": [
    "It takes a bit to vectorize"
   ]
  },
  {
   "cell_type": "code",
   "execution_count": 51,
   "metadata": {
    "ExecuteTime": {
     "end_time": "2017-11-08T02:25:07.404705Z",
     "start_time": "2017-11-08T02:25:04.505569Z"
    },
    "collapsed": true
   },
   "outputs": [],
   "source": [
    "vectorizer = TfidfVectorizer(stop_words=\"english\", ngram_range=(1,2))\n",
    "doc_vectors = vectorizer.fit_transform(documents)"
   ]
  },
  {
   "cell_type": "code",
   "execution_count": 52,
   "metadata": {
    "ExecuteTime": {
     "end_time": "2017-11-08T02:25:07.411338Z",
     "start_time": "2017-11-08T02:25:07.406891Z"
    }
   },
   "outputs": [
    {
     "data": {
      "text/plain": [
       "(2000, 533687)"
      ]
     },
     "execution_count": 52,
     "metadata": {},
     "output_type": "execute_result"
    }
   ],
   "source": [
    "doc_vectors.shape"
   ]
  },
  {
   "cell_type": "code",
   "execution_count": 53,
   "metadata": {
    "ExecuteTime": {
     "end_time": "2017-11-08T02:25:18.293364Z",
     "start_time": "2017-11-08T02:25:18.248608Z"
    },
    "collapsed": true
   },
   "outputs": [],
   "source": [
    "model = MultinomialNB().fit(doc_vectors, classes)"
   ]
  },
  {
   "cell_type": "code",
   "execution_count": 54,
   "metadata": {
    "ExecuteTime": {
     "end_time": "2017-11-08T02:25:18.551085Z",
     "start_time": "2017-11-08T02:25:18.544591Z"
    }
   },
   "outputs": [
    {
     "data": {
      "text/plain": [
       "{'analyzer': 'word',\n",
       " 'binary': False,\n",
       " 'decode_error': 'strict',\n",
       " 'dtype': numpy.int64,\n",
       " 'encoding': 'utf-8',\n",
       " 'input': 'content',\n",
       " 'lowercase': True,\n",
       " 'max_df': 1.0,\n",
       " 'max_features': None,\n",
       " 'min_df': 1,\n",
       " 'ngram_range': (1, 2),\n",
       " 'norm': 'l2',\n",
       " 'preprocessor': None,\n",
       " 'smooth_idf': True,\n",
       " 'stop_words': 'english',\n",
       " 'strip_accents': None,\n",
       " 'sublinear_tf': False,\n",
       " 'token_pattern': '(?u)\\\\b\\\\w\\\\w+\\\\b',\n",
       " 'tokenizer': None,\n",
       " 'use_idf': True,\n",
       " 'vocabulary': None}"
      ]
     },
     "execution_count": 54,
     "metadata": {},
     "output_type": "execute_result"
    }
   ],
   "source": [
    "vectorizer.get_params()"
   ]
  },
  {
   "cell_type": "code",
   "execution_count": 55,
   "metadata": {
    "ExecuteTime": {
     "end_time": "2017-11-08T02:25:24.803085Z",
     "start_time": "2017-11-08T02:25:23.961726Z"
    }
   },
   "outputs": [
    {
     "data": {
      "text/plain": [
       "array(['mug', 'intricacies', 'interesting walter', 'start color', 'maggie',\n",
       "       'somewhat honorary', 'red dwarf', 'everett performance',\n",
       "       'minute sit', 'da', 'lives works', 'viewers unfamiliar',\n",
       "       'crib self', '30 consist', 'knows programming', 'stint comedic',\n",
       "       'platt favorite', 'crosses place', 'bloodied left', 'camouflaged',\n",
       "       'chance giving', 'star weird', 'especially pretty',\n",
       "       'problems batman', 'nick cage', 'funny scary', 'place later',\n",
       "       'warriors picked', 'beaumarchais glistening', 'make parents',\n",
       "       'spicy', 'inner city', 'night rants', 'vision concludes',\n",
       "       'talking really', 'whiz girlfriend', 'underworld hardcore',\n",
       "       'incubus', 'adds grit', 'uses bend', 'sweet concentrating',\n",
       "       'robberies catch', 'disney world', 'financially survive',\n",
       "       'philip seymour', 'scientist zephram', 'accused child',\n",
       "       'unrightfully', 'miscast role', 'feign self', 'lola fiery',\n",
       "       'breaks section', 'comedy pacing', 'portrayals flew', 'shore shore',\n",
       "       'lured benign', 'break business', 'spies woody',\n",
       "       'poignant question', 'showing dancing', 'great effectiveness',\n",
       "       'helps viewer', 'giving explanation', 'cinematography luke',\n",
       "       'shanghai', 'middle watching', 'care disagree', 'effect commercial',\n",
       "       'company builds', 'preteen displays', 'washed bed', 'dahlings',\n",
       "       'ash eventually', 'fun buddy', 'return earth', 'white faced',\n",
       "       'delighting', 'suspense build', 'guttenberg preciously',\n",
       "       'palmetto spins', 'opportunity symbolized', 'frivolous mood',\n",
       "       'actress don', 'want depend', 'awesome power',\n",
       "       'experimenting taking', 'conclusion bleeding', 'fair horribly',\n",
       "       'wild weekend', 'uttering authentic', 'lady jane',\n",
       "       'tremendous leap', 'evil streak', 'accent ians', 'canet fran',\n",
       "       'abby mistakes', 'successful porn', 'fun classic',\n",
       "       'performers _saturday_night_live_', 'little power'],\n",
       "      dtype='<U64')"
      ]
     },
     "execution_count": 55,
     "metadata": {},
     "output_type": "execute_result"
    }
   ],
   "source": [
    "np.random.choice(vectorizer.get_feature_names(), 100)"
   ]
  },
  {
   "cell_type": "markdown",
   "metadata": {},
   "source": [
    "Let's look at the document at index one. This one is definitely bad. "
   ]
  },
  {
   "cell_type": "code",
   "execution_count": 56,
   "metadata": {
    "ExecuteTime": {
     "end_time": "2017-11-08T02:25:30.464252Z",
     "start_time": "2017-11-08T02:25:30.458523Z"
    }
   },
   "outputs": [
    {
     "data": {
      "text/plain": [
       "('the happy bastard \\' s quick movie review damn that y2k bug . it \\' s got a head start in this movie starring jamie lee curtis and another baldwin brother ( william this time ) in a story regarding a crew of a tugboat that comes across a deserted russian tech ship that has a strangeness to it when they kick the power back on . little do they know the power within . . . going for the gore and bringing on a few action sequences here and there , virus still feels very empty , like a movie going for all flash and no substance . we don \\' t know why the crew was really out in the middle of nowhere , we don \\' t know the origin of what took over the ship ( just that a big pink flashy thing hit the mir ) , and , of course , we don \\' t know why donald sutherland is stumbling around drunkenly throughout . here , it \\' s just \" hey , let \\' s chase these people around with some robots \" . the acting is below average , even from the likes of curtis . you \\' re more likely to get a kick out of her work in halloween h20 . sutherland is wasted and baldwin , well , he \\' s acting like a baldwin , of course . the real star here are stan winston \\' s robot design , some schnazzy cgi , and the occasional good gore shot , like picking into someone \\' s brain . so , if robots and body parts really turn you on , here \\' s your movie . otherwise , it \\' s pretty much a sunken ship of a movie .',\n",
       " 'neg')"
      ]
     },
     "execution_count": 56,
     "metadata": {},
     "output_type": "execute_result"
    }
   ],
   "source": [
    "documents[1], classes[1]"
   ]
  },
  {
   "cell_type": "code",
   "execution_count": 57,
   "metadata": {
    "ExecuteTime": {
     "end_time": "2017-11-08T02:25:34.115940Z",
     "start_time": "2017-11-08T02:25:34.103010Z"
    }
   },
   "outputs": [
    {
     "data": {
      "text/plain": [
       "array([[ 0.76189152,  0.23810848]])"
      ]
     },
     "execution_count": 57,
     "metadata": {},
     "output_type": "execute_result"
    }
   ],
   "source": [
    "model.predict_proba(doc_vectors[1])"
   ]
  },
  {
   "cell_type": "code",
   "execution_count": 58,
   "metadata": {
    "ExecuteTime": {
     "end_time": "2017-11-08T02:25:38.711176Z",
     "start_time": "2017-11-08T02:25:38.706073Z"
    }
   },
   "outputs": [
    {
     "data": {
      "text/plain": [
       "array(['neg', 'pos'],\n",
       "      dtype='<U3')"
      ]
     },
     "execution_count": 58,
     "metadata": {},
     "output_type": "execute_result"
    }
   ],
   "source": [
    "model.classes_"
   ]
  },
  {
   "cell_type": "code",
   "execution_count": 65,
   "metadata": {
    "ExecuteTime": {
     "end_time": "2017-10-27T16:04:42.110212Z",
     "start_time": "2017-10-27T16:04:42.105481Z"
    }
   },
   "outputs": [
    {
     "name": "stdout",
     "output_type": "stream",
     "text": [
      "In my younger and more vulnerable years my father\n",
      "                 gave me some advice that I've been turning over\n",
      "                 in my mind ever since. \"Whenever you feel like\n",
      "                 criticizing any one,\" he told me, \"blah blah blah.\n"
     ]
    }
   ],
   "source": [
    "print(GATSBY_TEXT)"
   ]
  },
  {
   "cell_type": "code",
   "execution_count": 66,
   "metadata": {
    "ExecuteTime": {
     "end_time": "2017-10-27T16:04:42.126731Z",
     "start_time": "2017-10-27T16:04:42.112837Z"
    }
   },
   "outputs": [
    {
     "data": {
      "text/plain": [
       "array(['neg'],\n",
       "      dtype='<U3')"
      ]
     },
     "execution_count": 66,
     "metadata": {},
     "output_type": "execute_result"
    }
   ],
   "source": [
    "gatsby_vector = vectorizer.transform([GATSBY_TEXT])\n",
    "model.predict(gatsby_vector)"
   ]
  },
  {
   "cell_type": "code",
   "execution_count": null,
   "metadata": {
    "collapsed": true
   },
   "outputs": [],
   "source": []
  }
 ],
 "metadata": {
  "kernelspec": {
   "display_name": "Python 3",
   "language": "python",
   "name": "python3"
  },
  "language_info": {
   "codemirror_mode": {
    "name": "ipython",
    "version": 3
   },
   "file_extension": ".py",
   "mimetype": "text/x-python",
   "name": "python",
   "nbconvert_exporter": "python",
   "pygments_lexer": "ipython3",
   "version": "3.6.3"
  },
  "toc": {
   "nav_menu": {},
   "number_sections": true,
   "sideBar": true,
   "skip_h1_title": true,
   "toc_cell": false,
   "toc_position": {},
   "toc_section_display": "block",
   "toc_window_display": true
  },
  "varInspector": {
   "cols": {
    "lenName": 16,
    "lenType": 16,
    "lenVar": 40
   },
   "kernels_config": {
    "python": {
     "delete_cmd_postfix": "",
     "delete_cmd_prefix": "del ",
     "library": "var_list.py",
     "varRefreshCmd": "print(var_dic_list())"
    },
    "r": {
     "delete_cmd_postfix": ") ",
     "delete_cmd_prefix": "rm(",
     "library": "var_list.r",
     "varRefreshCmd": "cat(var_dic_list()) "
    }
   },
   "types_to_exclude": [
    "module",
    "function",
    "builtin_function_or_method",
    "instance",
    "_Feature"
   ],
   "window_display": false
  }
 },
 "nbformat": 4,
 "nbformat_minor": 1
}
