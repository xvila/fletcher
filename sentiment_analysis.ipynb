{
 "cells": [
  {
   "cell_type": "markdown",
   "metadata": {},
   "source": [
    "# Sentiment Analysis"
   ]
  },
  {
   "cell_type": "code",
   "execution_count": 1,
   "metadata": {
    "ExecuteTime": {
     "end_time": "2018-07-09T18:37:30.836608Z",
     "start_time": "2018-07-09T18:37:29.889532Z"
    }
   },
   "outputs": [],
   "source": [
    "import pandas as pd\n",
    "from textblob import TextBlob\n",
    "from statsmodels.nonparametric.smoothers_lowess import lowess\n",
    "\n",
    "%matplotlib inline\n",
    "import seaborn as sns\n",
    "import matplotlib.pyplot as plt\n",
    "plt.style.use('fivethirtyeight')"
   ]
  },
  {
   "cell_type": "markdown",
   "metadata": {},
   "source": [
    "## Helper Functions "
   ]
  },
  {
   "cell_type": "code",
   "execution_count": 2,
   "metadata": {
    "ExecuteTime": {
     "end_time": "2018-07-09T18:37:30.843034Z",
     "start_time": "2018-07-09T18:37:30.838115Z"
    }
   },
   "outputs": [],
   "source": [
    "def plot_story(title,df,f=.1,d=0.0):\n",
    "    bookDF = df.loc[df['title'] == title]\n",
    "    sentiment = list(bookDF.sentiment)\n",
    "    lowX = list(range(1,len(sentiment)+1))\n",
    "    low_plot = lowess(sentiment,lowX,frac=.1,return_sorted=False,delta=d)\n",
    "    title = title\n",
    "    fig = plt.figure()\n",
    "    plt.plot(low_plot,label=title)\n",
    "    plt.ylabel(\"Sentiment Score\")\n",
    "    plt.xlabel(\"Sentence #\")    \n",
    "    plt.legend()\n",
    "#     plt.savefig('images/'+title+'.svg')\n",
    "   \n",
    "    #mpld3.show()\n",
    "    return"
   ]
  },
  {
   "cell_type": "markdown",
   "metadata": {
    "ExecuteTime": {
     "end_time": "2018-07-09T17:08:07.140151Z",
     "start_time": "2018-07-09T17:08:07.135538Z"
    }
   },
   "source": [
    "## Import Data"
   ]
  },
  {
   "cell_type": "code",
   "execution_count": 3,
   "metadata": {
    "ExecuteTime": {
     "end_time": "2018-07-09T18:37:31.025649Z",
     "start_time": "2018-07-09T18:37:30.845132Z"
    }
   },
   "outputs": [],
   "source": [
    "sentDF = pd.read_pickle('pickles/sentences.pkl')"
   ]
  },
  {
   "cell_type": "markdown",
   "metadata": {
    "ExecuteTime": {
     "end_time": "2018-07-09T17:08:14.417797Z",
     "start_time": "2018-07-09T17:08:14.411719Z"
    }
   },
   "source": [
    "## Compute Sentiment"
   ]
  },
  {
   "cell_type": "code",
   "execution_count": 4,
   "metadata": {
    "ExecuteTime": {
     "end_time": "2018-07-09T18:37:31.030577Z",
     "start_time": "2018-07-09T18:37:31.027249Z"
    }
   },
   "outputs": [],
   "source": [
    "# sentDF['sentiment'] = sentDF.content.apply(lambda x: TextBlob(x).sentiment[0])"
   ]
  },
  {
   "cell_type": "code",
   "execution_count": 5,
   "metadata": {
    "ExecuteTime": {
     "end_time": "2018-07-09T18:37:31.036093Z",
     "start_time": "2018-07-09T18:37:31.032805Z"
    }
   },
   "outputs": [],
   "source": [
    "# sentDF.to_pickle('pickles/sentiment.pkl')"
   ]
  },
  {
   "cell_type": "code",
   "execution_count": 6,
   "metadata": {
    "ExecuteTime": {
     "end_time": "2018-07-09T18:37:31.281602Z",
     "start_time": "2018-07-09T18:37:31.037726Z"
    }
   },
   "outputs": [],
   "source": [
    "sentDF = pd.read_pickle('pickles/sentiment.pkl')"
   ]
  },
  {
   "cell_type": "markdown",
   "metadata": {},
   "source": [
    "## Sentiment EDA"
   ]
  },
  {
   "cell_type": "code",
   "execution_count": 16,
   "metadata": {
    "ExecuteTime": {
     "end_time": "2018-07-09T18:38:31.775397Z",
     "start_time": "2018-07-09T18:38:31.749620Z"
    }
   },
   "outputs": [],
   "source": [
    "sentGroup = sentDF.groupby(['title','year']).sentiment.mean().reset_index()\n",
    "sentGroup.sort_values('sentiment',ascending=False,inplace=True)"
   ]
  },
  {
   "cell_type": "code",
   "execution_count": 17,
   "metadata": {
    "ExecuteTime": {
     "end_time": "2018-07-09T18:38:32.078203Z",
     "start_time": "2018-07-09T18:38:32.067821Z"
    }
   },
   "outputs": [
    {
     "data": {
      "text/html": [
       "<div>\n",
       "<style scoped>\n",
       "    .dataframe tbody tr th:only-of-type {\n",
       "        vertical-align: middle;\n",
       "    }\n",
       "\n",
       "    .dataframe tbody tr th {\n",
       "        vertical-align: top;\n",
       "    }\n",
       "\n",
       "    .dataframe thead th {\n",
       "        text-align: right;\n",
       "    }\n",
       "</style>\n",
       "<table border=\"1\" class=\"dataframe\">\n",
       "  <thead>\n",
       "    <tr style=\"text-align: right;\">\n",
       "      <th></th>\n",
       "      <th>title</th>\n",
       "      <th>year</th>\n",
       "      <th>sentiment</th>\n",
       "    </tr>\n",
       "  </thead>\n",
       "  <tbody>\n",
       "    <tr>\n",
       "      <th>33</th>\n",
       "      <td>Joyland</td>\n",
       "      <td>2013</td>\n",
       "      <td>0.078197</td>\n",
       "    </tr>\n",
       "    <tr>\n",
       "      <th>7</th>\n",
       "      <td>Colorado Kid, The</td>\n",
       "      <td>2005</td>\n",
       "      <td>0.065934</td>\n",
       "    </tr>\n",
       "    <tr>\n",
       "      <th>13</th>\n",
       "      <td>Doctor Sleep_ A Novel</td>\n",
       "      <td>2013</td>\n",
       "      <td>0.061267</td>\n",
       "    </tr>\n",
       "    <tr>\n",
       "      <th>46</th>\n",
       "      <td>Revival</td>\n",
       "      <td>2014</td>\n",
       "      <td>0.058960</td>\n",
       "    </tr>\n",
       "    <tr>\n",
       "      <th>2</th>\n",
       "      <td>Big Driver</td>\n",
       "      <td>2010</td>\n",
       "      <td>0.054257</td>\n",
       "    </tr>\n",
       "  </tbody>\n",
       "</table>\n",
       "</div>"
      ],
      "text/plain": [
       "                    title  year  sentiment\n",
       "33                Joyland  2013   0.078197\n",
       "7       Colorado Kid, The  2005   0.065934\n",
       "13  Doctor Sleep_ A Novel  2013   0.061267\n",
       "46                Revival  2014   0.058960\n",
       "2              Big Driver  2010   0.054257"
      ]
     },
     "execution_count": 17,
     "metadata": {},
     "output_type": "execute_result"
    }
   ],
   "source": [
    "sentGroup.head()"
   ]
  },
  {
   "cell_type": "markdown",
   "metadata": {},
   "source": [
    "### Sentiment By Decades"
   ]
  },
  {
   "cell_type": "code",
   "execution_count": 22,
   "metadata": {
    "ExecuteTime": {
     "end_time": "2018-07-09T18:43:25.468189Z",
     "start_time": "2018-07-09T18:43:25.445722Z"
    }
   },
   "outputs": [
    {
     "data": {
      "text/plain": [
       "'1974'"
      ]
     },
     "execution_count": 22,
     "metadata": {},
     "output_type": "execute_result"
    }
   ],
   "source": [
    "sentDF.year.min()"
   ]
  },
  {
   "cell_type": "code",
   "execution_count": 23,
   "metadata": {
    "ExecuteTime": {
     "end_time": "2018-07-09T18:43:31.705537Z",
     "start_time": "2018-07-09T18:43:31.685853Z"
    }
   },
   "outputs": [
    {
     "data": {
      "text/plain": [
       "'2015'"
      ]
     },
     "execution_count": 23,
     "metadata": {},
     "output_type": "execute_result"
    }
   ],
   "source": [
    "sentDF.year.max()"
   ]
  },
  {
   "cell_type": "code",
   "execution_count": 27,
   "metadata": {
    "ExecuteTime": {
     "end_time": "2018-07-09T18:44:50.575835Z",
     "start_time": "2018-07-09T18:44:50.527017Z"
    }
   },
   "outputs": [],
   "source": [
    "sentDF['year'] = sentDF.year.astype(int)"
   ]
  },
  {
   "cell_type": "code",
   "execution_count": 40,
   "metadata": {
    "ExecuteTime": {
     "end_time": "2018-07-09T18:53:17.001307Z",
     "start_time": "2018-07-09T18:53:16.997736Z"
    }
   },
   "outputs": [],
   "source": [
    "bins = [1969,1979,1989,1999,2009,2015]\n",
    "labels = ['1970s','1980s','1990s','2000s','2010+']"
   ]
  },
  {
   "cell_type": "code",
   "execution_count": 41,
   "metadata": {
    "ExecuteTime": {
     "end_time": "2018-07-09T18:53:18.557465Z",
     "start_time": "2018-07-09T18:53:18.551440Z"
    }
   },
   "outputs": [],
   "source": [
    "sentYear['decade'] = pd.cut(sentYear.year,bins=bins,labels=labels)"
   ]
  },
  {
   "cell_type": "code",
   "execution_count": 46,
   "metadata": {
    "ExecuteTime": {
     "end_time": "2018-07-09T18:54:38.492842Z",
     "start_time": "2018-07-09T18:54:38.480629Z"
    }
   },
   "outputs": [],
   "source": [
    "sentDecades = sentYear.groupby('decade').sentiment.mean()"
   ]
  },
  {
   "cell_type": "code",
   "execution_count": 55,
   "metadata": {
    "ExecuteTime": {
     "end_time": "2018-07-09T18:57:34.485732Z",
     "start_time": "2018-07-09T18:57:34.373310Z"
    }
   },
   "outputs": [
    {
     "data": {
      "image/png": "[encoded data removed]",
      "text/plain": [
       "<Figure size 432x288 with 1 Axes>"
      ]
     },
     "metadata": {},
     "output_type": "display_data"
    }
   ],
   "source": [
    "sentDecades.plot.bar(x='decade',y='sentiment')\n",
    "sentDecades.plot(x='decade',y='sentiment',c='red')\n",
    "plt.xlabel('Decade')\n",
    "plt.ylabel('Sentiment Average')\n",
    "plt.title('Sentiment Score by Decade');"
   ]
  },
  {
   "cell_type": "markdown",
   "metadata": {},
   "source": [
    "### Sentiment By Story"
   ]
  },
  {
   "cell_type": "code",
   "execution_count": 7,
   "metadata": {
    "ExecuteTime": {
     "end_time": "2018-07-09T18:37:33.252731Z",
     "start_time": "2018-07-09T18:37:31.283489Z"
    }
   },
   "outputs": [
    {
     "data": {
      "image/png": "[encoded data removed]",
      "text/plain": [
       "<Figure size 432x288 with 1 Axes>"
      ]
     },
     "metadata": {},
     "output_type": "display_data"
    }
   ],
   "source": [
    "plot_story('Stand, The',sentDF)"
   ]
  },
  {
   "cell_type": "code",
   "execution_count": 8,
   "metadata": {
    "ExecuteTime": {
     "end_time": "2018-07-09T18:37:33.753221Z",
     "start_time": "2018-07-09T18:37:33.254471Z"
    }
   },
   "outputs": [
    {
     "data": {
      "image/png": "[encoded data removed]",
      "text/plain": [
       "<Figure size 432x288 with 1 Axes>"
      ]
     },
     "metadata": {},
     "output_type": "display_data"
    }
   ],
   "source": [
    "plot_story('Cujo',sentDF)"
   ]
  },
  {
   "cell_type": "code",
   "execution_count": null,
   "metadata": {},
   "outputs": [],
   "source": []
  }
 ],
 "metadata": {
  "kernelspec": {
   "display_name": "Python 3",
   "language": "python",
   "name": "python3"
  },
  "language_info": {
   "codemirror_mode": {
    "name": "ipython",
    "version": 3
   },
   "file_extension": ".py",
   "mimetype": "text/x-python",
   "name": "python",
   "nbconvert_exporter": "python",
   "pygments_lexer": "ipython3",
   "version": "3.6.6"
  },
  "toc": {
   "nav_menu": {},
   "number_sections": true,
   "sideBar": true,
   "skip_h1_title": false,
   "toc_cell": false,
   "toc_position": {},
   "toc_section_display": "block",
   "toc_window_display": true
  }
 },
 "nbformat": 4,
 "nbformat_minor": 2
}
