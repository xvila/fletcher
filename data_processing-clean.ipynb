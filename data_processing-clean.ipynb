{
 "cells": [
  {
   "cell_type": "markdown",
   "metadata": {},
   "source": [
    "# Stephen King Novel NLP"
   ]
  },
  {
   "cell_type": "markdown",
   "metadata": {},
   "source": [
    "## Imports"
   ]
  },
  {
   "cell_type": "code",
   "execution_count": 1,
   "metadata": {
    "ExecuteTime": {
     "end_time": "2018-07-09T18:35:32.212457Z",
     "start_time": "2018-07-09T18:35:30.947081Z"
    }
   },
   "outputs": [],
   "source": [
    "import pandas as pd\n",
    "import numpy as np\n",
    "from IPython import display\n",
    "import os\n",
    "import re\n",
    "\n",
    "import nltk\n",
    "from nltk.corpus import stopwords\n",
    "from nltk.tokenize import sent_tokenize\n",
    "from nltk.tokenize import word_tokenize\n",
    "import json\n",
    "\n",
    "display.clear_output(wait=True)\n",
    "from config import user_name,password,ip\n",
    "from epub_conversion.utils import open_book\n",
    "\n",
    "%matplotlib inline\n",
    "import seaborn as sns\n",
    "import matplotlib.pyplot as plt, mpld3\n",
    "plt.style.use('fivethirtyeight')\n",
    "plt.rcParams['figure.figsize'] = 20, 10"
   ]
  },
  {
   "cell_type": "markdown",
   "metadata": {
    "collapsed": true
   },
   "source": [
    "## Stoplist"
   ]
  },
  {
   "cell_type": "code",
   "execution_count": 2,
   "metadata": {
    "ExecuteTime": {
     "end_time": "2018-07-09T18:35:32.218512Z",
     "start_time": "2018-07-09T18:35:32.213938Z"
    }
   },
   "outputs": [],
   "source": [
    "stoplist = stopwords.words('english')\n",
    "stoplist += ['.', ',', '(', ')', \"'\", '\"']\n",
    "#stoplist = set(stoplist)"
   ]
  },
  {
   "cell_type": "markdown",
   "metadata": {},
   "source": [
    "## Import Sentiment"
   ]
  },
  {
   "cell_type": "code",
   "execution_count": 3,
   "metadata": {
    "ExecuteTime": {
     "end_time": "2018-07-09T18:35:32.412148Z",
     "start_time": "2018-07-09T18:35:32.220364Z"
    }
   },
   "outputs": [],
   "source": [
    "sentDF = pd.read_pickle('pickles/sentiment.pkl')"
   ]
  },
  {
   "cell_type": "markdown",
   "metadata": {},
   "source": [
    "## Functions"
   ]
  },
  {
   "cell_type": "markdown",
   "metadata": {},
   "source": [
    "### Manual Word Count"
   ]
  },
  {
   "cell_type": "code",
   "execution_count": 4,
   "metadata": {
    "ExecuteTime": {
     "end_time": "2018-07-09T18:35:32.417684Z",
     "start_time": "2018-07-09T18:35:32.414329Z"
    }
   },
   "outputs": [],
   "source": [
    "def clean_text(row):\n",
    "    text = row['content'].lower()\n",
    "    text = text.strip('\\n')\n",
    "    return text"
   ]
  },
  {
   "cell_type": "markdown",
   "metadata": {},
   "source": [
    "### Cleanup"
   ]
  },
  {
   "cell_type": "code",
   "execution_count": 5,
   "metadata": {
    "ExecuteTime": {
     "end_time": "2018-07-09T18:35:32.422316Z",
     "start_time": "2018-07-09T18:35:32.419774Z"
    }
   },
   "outputs": [],
   "source": [
    "def cleanup(token, lower = True):\n",
    "    if lower:\n",
    "       token = token.lower()\n",
    "    return token.strip()"
   ]
  },
  {
   "cell_type": "markdown",
   "metadata": {},
   "source": [
    "### Entity Detection"
   ]
  },
  {
   "cell_type": "code",
   "execution_count": 6,
   "metadata": {
    "ExecuteTime": {
     "end_time": "2018-07-09T18:35:32.429260Z",
     "start_time": "2018-07-09T18:35:32.424233Z"
    }
   },
   "outputs": [],
   "source": [
    "def ie_preprocess(document):\n",
    "    document = ' '.join([i for i in document.split() if i not in stoplist])\n",
    "    sentences = nltk.sent_tokenize(document)\n",
    "    sentences = [nltk.word_tokenize(sent) for sent in sentences]\n",
    "    sentences = [nltk.pos_tag(sent) for sent in sentences]\n",
    "    return sentences"
   ]
  },
  {
   "cell_type": "code",
   "execution_count": 7,
   "metadata": {
    "ExecuteTime": {
     "end_time": "2018-07-09T18:35:32.434220Z",
     "start_time": "2018-07-09T18:35:32.431072Z"
    }
   },
   "outputs": [],
   "source": [
    "def extract_names(document):\n",
    "    names = []\n",
    "    sentences = ie_preprocess(document)\n",
    "    for tagged_sentence in sentences:\n",
    "        for chunk in nltk.ne_chunk(tagged_sentence):\n",
    "            if type(chunk) == nltk.tree.Tree:\n",
    "                if chunk.label() == 'PERSON':\n",
    "                    names.append(' '.join([c[0] for c in chunk]))\n",
    "    return names"
   ]
  },
  {
   "cell_type": "markdown",
   "metadata": {},
   "source": [
    "### Tokenize and Stem"
   ]
  },
  {
   "cell_type": "code",
   "execution_count": 8,
   "metadata": {
    "ExecuteTime": {
     "end_time": "2018-07-09T18:35:32.442517Z",
     "start_time": "2018-07-09T18:35:32.436707Z"
    }
   },
   "outputs": [],
   "source": [
    "def tokenize_and_stem(text):\n",
    "    # first tokenize by sentence, then by word to ensure that punctuation is caught as it's own token\n",
    "    tokens = [word for sent in nltk.sent_tokenize(text) for word in nltk.word_tokenize(sent)]\n",
    "    filtered_tokens = []\n",
    "    # filter out any tokens not containing letters (e.g., numeric tokens, raw punctuation)\n",
    "    for token in tokens:\n",
    "        if re.search('[a-zA-Z]', token):\n",
    "            filtered_tokens.append(token)\n",
    "    stems = [stemmer.stem(t) for t in filtered_tokens]\n",
    "    return stems"
   ]
  },
  {
   "cell_type": "code",
   "execution_count": 9,
   "metadata": {
    "ExecuteTime": {
     "end_time": "2018-07-09T18:35:32.450661Z",
     "start_time": "2018-07-09T18:35:32.445525Z"
    }
   },
   "outputs": [],
   "source": [
    "def tokenize_only(text):\n",
    "    # first tokenize by sentence, then by word to ensure that punctuation is caught as it's own token\n",
    "    tokens = [word.lower() for sent in nltk.sent_tokenize(text) for word in nltk.word_tokenize(sent)]\n",
    "    filtered_tokens = []\n",
    "    # filter out any tokens not containing letters (e.g., numeric tokens, raw punctuation)\n",
    "    for token in tokens:\n",
    "        if re.search('[a-zA-Z]', token):\n",
    "            filtered_tokens.append(token)\n",
    "    return filtered_tokens"
   ]
  },
  {
   "cell_type": "markdown",
   "metadata": {},
   "source": [
    "### Sentiment"
   ]
  },
  {
   "cell_type": "code",
   "execution_count": 10,
   "metadata": {
    "ExecuteTime": {
     "end_time": "2018-07-09T18:35:32.456614Z",
     "start_time": "2018-07-09T18:35:32.452668Z"
    }
   },
   "outputs": [],
   "source": [
    "def a_sentiment(filename):\n",
    "    with open (filename, \"r\") as myfile:\n",
    "        text=myfile.read().replace('\\n', ' ')\n",
    "        blob = TextBlob(text)       \n",
    "        tot = 0.0\n",
    "        sent = []        \n",
    "        afinn = Afinn()\n",
    "        for sentence in blob.sentences:            \n",
    "            senti = afinn.score(str(sentence))        \n",
    "            sent.append(senti)   \n",
    "        return sent"
   ]
  },
  {
   "cell_type": "markdown",
   "metadata": {},
   "source": [
    "### Sentiment Plot"
   ]
  },
  {
   "cell_type": "code",
   "execution_count": 11,
   "metadata": {
    "ExecuteTime": {
     "end_time": "2018-07-09T18:35:32.462515Z",
     "start_time": "2018-07-09T18:35:32.458755Z"
    }
   },
   "outputs": [],
   "source": [
    "def sentiplot(filename, title):\n",
    "    fig = plt.figure()\n",
    "    sent= a_sentiment(filename)    \n",
    "    plt.plot(sent,label=title)\n",
    "    plt.ylabel(\"Cumulative Emotional Valence\")\n",
    "    plt.xlabel(\"Sentence #\")    \n",
    "    plt.legend();\n"
   ]
  },
  {
   "cell_type": "markdown",
   "metadata": {
    "collapsed": true
   },
   "source": [
    "### Plot Stories"
   ]
  },
  {
   "cell_type": "code",
   "execution_count": 12,
   "metadata": {
    "ExecuteTime": {
     "end_time": "2018-07-09T18:35:32.469658Z",
     "start_time": "2018-07-09T18:35:32.464775Z"
    }
   },
   "outputs": [],
   "source": [
    "def plot_story(title,df=sentDF,f=.1,d=0.0):\n",
    "    bookDF = df.loc[df['title'] == title]\n",
    "    sentiment = list(bookDF.sentiment)\n",
    "    lowX = list(range(1,len(sentiment)+1))\n",
    "    #print(len(sent),len(lowX))\n",
    "    low_plot = lowess(sentiment,lowX,frac=.1,return_sorted=False,delta=d)\n",
    "    #f2 = interp1d(lowX, sentiment, kind='cubic')\n",
    "    title = title\n",
    "    #y = np.arange(-1.0,2.0,.1)\n",
    "    fig = plt.figure()\n",
    "    plt.plot(low_plot,label=title)\n",
    "    plt.ylabel(\"Sentiment Score\")\n",
    "    plt.xlabel(\"Sentence #\")    \n",
    "    plt.legend();\n",
    "#     plt.savefig('images/'+title+'.svg')\n",
    "   \n",
    "    #mpld3.show()\n",
    "    return"
   ]
  },
  {
   "cell_type": "markdown",
   "metadata": {},
   "source": [
    "## Data Processing"
   ]
  },
  {
   "cell_type": "markdown",
   "metadata": {},
   "source": [
    "**Create a dictionary from all books**"
   ]
  },
  {
   "cell_type": "code",
   "execution_count": 13,
   "metadata": {
    "ExecuteTime": {
     "end_time": "2018-07-09T18:35:32.594671Z",
     "start_time": "2018-07-09T18:35:32.471457Z"
    }
   },
   "outputs": [],
   "source": [
    "book_list = []\n",
    "book_dict = {}\n",
    "path = \"/Users/xavier/dev/metis/fletcher/books/\"\n",
    "for file in os.listdir(path):\n",
    "    if file.endswith(\".txt\"):\n",
    "        clean_name = file.replace(\" - Stephen King.txt\",\"\")\n",
    "        book_dict[clean_name] = open(path+file, \"r\").read()\n",
    "        book_list.append(clean_name)"
   ]
  },
  {
   "cell_type": "code",
   "execution_count": 14,
   "metadata": {
    "ExecuteTime": {
     "end_time": "2018-07-09T18:35:40.118686Z",
     "start_time": "2018-07-09T18:35:32.596941Z"
    }
   },
   "outputs": [],
   "source": [
    "clean_list = []\n",
    "for k,v in book_dict.items():\n",
    "    try:\n",
    "        year = re.search(\"[Cc]opyright ©\\s*.*_*(\\d{4}).*Stephen King|[Cc]opyright ©\\s.*Stephen King.*_*(\\d{4})|[Cc]opyright ©\\s*.*_*(\\d{4}).*Richard Bachman|[Cc]opyright ©\\s.*Richard Bachman.*_*(\\d{4})\",v).group(0) # get copyright year from book text\n",
    "        year = re.search(\"(\\d{4})\",year).group(0)\n",
    "    except:\n",
    "        year = \"\"\n",
    "    try:\n",
    "        isbn = re.search(\".*ISBN+:*(\\d*.*)\",v)[1].split(\" \")\n",
    "        isbn = max(isbn, key=len)\n",
    "    except:\n",
    "        isbn = \"\"\n",
    "    try:\n",
    "        start = v.find('******start_of_file******')+25\n",
    "        end = v.find('******end_of_file******')\n",
    "        text = v[start:end]\n",
    "    except:\n",
    "        text = \"\"\n",
    "        \n",
    "    doc = {\"title\":k,\"year\":year,'isbn':isbn,\"content\":text}\n",
    "    clean_list.append(doc)\n",
    "    #print(doc['title'],doc['isbn'])\n",
    "    #print(doc['title'],doc['year'])\n",
    "    #db.books.insert_one(doc)"
   ]
  },
  {
   "cell_type": "code",
   "execution_count": 15,
   "metadata": {
    "ExecuteTime": {
     "end_time": "2018-07-09T18:35:40.124301Z",
     "start_time": "2018-07-09T18:35:40.120612Z"
    }
   },
   "outputs": [],
   "source": [
    "df = pd.DataFrame(clean_list)"
   ]
  },
  {
   "cell_type": "code",
   "execution_count": 16,
   "metadata": {
    "ExecuteTime": {
     "end_time": "2018-07-09T18:35:40.286324Z",
     "start_time": "2018-07-09T18:35:40.126400Z"
    }
   },
   "outputs": [],
   "source": [
    "df.to_pickle('pickles/books.pkl')"
   ]
  },
  {
   "cell_type": "markdown",
   "metadata": {
    "ExecuteTime": {
     "end_time": "2017-11-06T21:26:34.672733Z",
     "start_time": "2017-11-06T21:26:34.669109Z"
    }
   },
   "source": [
    "### Import Pickle"
   ]
  },
  {
   "cell_type": "code",
   "execution_count": 18,
   "metadata": {
    "ExecuteTime": {
     "end_time": "2018-07-09T18:35:40.306241Z",
     "start_time": "2018-07-09T18:35:40.303223Z"
    }
   },
   "outputs": [],
   "source": [
    "# df = pd.read_pickle('pickles/books.pkl')"
   ]
  },
  {
   "cell_type": "code",
   "execution_count": 19,
   "metadata": {
    "ExecuteTime": {
     "end_time": "2018-07-09T18:35:40.312518Z",
     "start_time": "2018-07-09T18:35:40.308099Z"
    }
   },
   "outputs": [
    {
     "data": {
      "text/plain": [
       "['content', 'isbn', 'title', 'year']"
      ]
     },
     "execution_count": 19,
     "metadata": {},
     "output_type": "execute_result"
    }
   ],
   "source": [
    "df.columns.tolist()"
   ]
  },
  {
   "cell_type": "code",
   "execution_count": 20,
   "metadata": {
    "ExecuteTime": {
     "end_time": "2018-07-09T18:35:40.336278Z",
     "start_time": "2018-07-09T18:35:40.314514Z"
    },
    "scrolled": true
   },
   "outputs": [
    {
     "data": {
      "text/html": [
       "<div>\n",
       "<style scoped>\n",
       "    .dataframe tbody tr th:only-of-type {\n",
       "        vertical-align: middle;\n",
       "    }\n",
       "\n",
       "    .dataframe tbody tr th {\n",
       "        vertical-align: top;\n",
       "    }\n",
       "\n",
       "    .dataframe thead th {\n",
       "        text-align: right;\n",
       "    }\n",
       "</style>\n",
       "<table border=\"1\" class=\"dataframe\">\n",
       "  <thead>\n",
       "    <tr style=\"text-align: right;\">\n",
       "      <th></th>\n",
       "      <th>content</th>\n",
       "      <th>isbn</th>\n",
       "      <th>title</th>\n",
       "      <th>year</th>\n",
       "    </tr>\n",
       "  </thead>\n",
       "  <tbody>\n",
       "    <tr>\n",
       "      <th>0</th>\n",
       "      <td>d by “Duel”\\n\\nJoe Hill and Stephen King\\n\\n\\n...</td>\n",
       "      <td>9780062215956</td>\n",
       "      <td>Throttle</td>\n",
       "      <td>2009</td>\n",
       "    </tr>\n",
       "    <tr>\n",
       "      <th>1</th>\n",
       "      <td>TS\\n\\n\\n\\nCover Page\\n\\nTitle Page\\n\\n\\n\\nIntr...</td>\n",
       "      <td>978-0-385-52884-9</td>\n",
       "      <td>Night Shift</td>\n",
       "      <td>1976</td>\n",
       "    </tr>\n",
       "    <tr>\n",
       "      <th>2</th>\n",
       "      <td>this Scribner eBook.\\n\\n\\n\\n* * *\\n\\n\\n\\nSign...</td>\n",
       "      <td>0-7432-0467-0</td>\n",
       "      <td>Riding the Bullet</td>\n",
       "      <td>2000</td>\n",
       "    </tr>\n",
       "    <tr>\n",
       "      <th>3</th>\n",
       "      <td>Page\\n\\nCopyright Page\\n\\nDedication\\n\\n\\n\\n\\...</td>\n",
       "      <td>978-1-101-13813-7</td>\n",
       "      <td>Roadwork</td>\n",
       "      <td>1981</td>\n",
       "    </tr>\n",
       "    <tr>\n",
       "      <th>4</th>\n",
       "      <td>dication\\n\\nIntroduction\\n\\nAuthor’s Note\\n\\n\\...</td>\n",
       "      <td>978-0-385-52822-1</td>\n",
       "      <td>Salem's Lot</td>\n",
       "      <td>1975</td>\n",
       "    </tr>\n",
       "  </tbody>\n",
       "</table>\n",
       "</div>"
      ],
      "text/plain": [
       "                                             content               isbn  \\\n",
       "0  d by “Duel”\\n\\nJoe Hill and Stephen King\\n\\n\\n...      9780062215956   \n",
       "1  TS\\n\\n\\n\\nCover Page\\n\\nTitle Page\\n\\n\\n\\nIntr...  978-0-385-52884-9   \n",
       "2   this Scribner eBook.\\n\\n\\n\\n* * *\\n\\n\\n\\nSign...      0-7432-0467-0   \n",
       "3   Page\\n\\nCopyright Page\\n\\nDedication\\n\\n\\n\\n\\...  978-1-101-13813-7   \n",
       "4  dication\\n\\nIntroduction\\n\\nAuthor’s Note\\n\\n\\...  978-0-385-52822-1   \n",
       "\n",
       "               title  year  \n",
       "0           Throttle  2009  \n",
       "1        Night Shift  1976  \n",
       "2  Riding the Bullet  2000  \n",
       "3           Roadwork  1981  \n",
       "4        Salem's Lot  1975  "
      ]
     },
     "execution_count": 20,
     "metadata": {},
     "output_type": "execute_result"
    }
   ],
   "source": [
    "df.head()"
   ]
  },
  {
   "cell_type": "code",
   "execution_count": 21,
   "metadata": {
    "ExecuteTime": {
     "end_time": "2018-07-09T18:35:40.341074Z",
     "start_time": "2018-07-09T18:35:40.338249Z"
    }
   },
   "outputs": [],
   "source": [
    "document = df.iloc[28]['content']"
   ]
  },
  {
   "cell_type": "code",
   "execution_count": 22,
   "metadata": {
    "ExecuteTime": {
     "end_time": "2018-07-09T18:35:40.346175Z",
     "start_time": "2018-07-09T18:35:40.342885Z"
    }
   },
   "outputs": [],
   "source": [
    "# df['content'] = df.content.apply(lambda x: x.lower())\n",
    "# df['content'] = df.content.apply(lambda x: x.strip(\"\\n\"))"
   ]
  },
  {
   "cell_type": "markdown",
   "metadata": {},
   "source": [
    "### Character extraction test"
   ]
  },
  {
   "cell_type": "code",
   "execution_count": 23,
   "metadata": {
    "ExecuteTime": {
     "end_time": "2018-07-09T18:35:58.838392Z",
     "start_time": "2018-07-09T18:35:40.347960Z"
    }
   },
   "outputs": [],
   "source": [
    "characters = extract_names(document)"
   ]
  },
  {
   "cell_type": "code",
   "execution_count": 24,
   "metadata": {
    "ExecuteTime": {
     "end_time": "2018-07-09T18:35:58.845043Z",
     "start_time": "2018-07-09T18:35:58.840651Z"
    }
   },
   "outputs": [
    {
     "data": {
      "text/plain": [
       "['Page',\n",
       " 'Copyright Page',\n",
       " 'Stephen King',\n",
       " 'Prince Peter',\n",
       " 'Flagg',\n",
       " 'Thomas',\n",
       " 'Peter',\n",
       " 'Stephen',\n",
       " 'Stephen King',\n",
       " 'Penguin Group']"
      ]
     },
     "execution_count": 24,
     "metadata": {},
     "output_type": "execute_result"
    }
   ],
   "source": [
    "characters[:10]"
   ]
  },
  {
   "cell_type": "code",
   "execution_count": 25,
   "metadata": {
    "ExecuteTime": {
     "end_time": "2018-07-09T18:35:58.851414Z",
     "start_time": "2018-07-09T18:35:58.847353Z"
    }
   },
   "outputs": [],
   "source": [
    "characters = [s.split(\" \") for s in characters]"
   ]
  },
  {
   "cell_type": "code",
   "execution_count": 26,
   "metadata": {
    "ExecuteTime": {
     "end_time": "2018-07-09T18:35:58.857042Z",
     "start_time": "2018-07-09T18:35:58.853464Z"
    }
   },
   "outputs": [],
   "source": [
    "flat_list = [item for sublist in characters for item in sublist]"
   ]
  },
  {
   "cell_type": "code",
   "execution_count": 27,
   "metadata": {
    "ExecuteTime": {
     "end_time": "2018-07-09T18:35:58.862871Z",
     "start_time": "2018-07-09T18:35:58.859040Z"
    }
   },
   "outputs": [
    {
     "data": {
      "text/plain": [
       "['Page',\n",
       " 'Copyright',\n",
       " 'Page',\n",
       " 'Stephen',\n",
       " 'King',\n",
       " 'Prince',\n",
       " 'Peter',\n",
       " 'Flagg',\n",
       " 'Thomas',\n",
       " 'Peter']"
      ]
     },
     "execution_count": 27,
     "metadata": {},
     "output_type": "execute_result"
    }
   ],
   "source": [
    "flat_list[:10]"
   ]
  },
  {
   "cell_type": "code",
   "execution_count": 28,
   "metadata": {
    "ExecuteTime": {
     "end_time": "2018-07-09T18:35:58.868620Z",
     "start_time": "2018-07-09T18:35:58.864858Z"
    }
   },
   "outputs": [],
   "source": [
    "characters = set(flat_list)\n",
    "characters = list(characters)"
   ]
  },
  {
   "cell_type": "code",
   "execution_count": 29,
   "metadata": {
    "ExecuteTime": {
     "end_time": "2018-07-09T18:35:58.873598Z",
     "start_time": "2018-07-09T18:35:58.870727Z"
    }
   },
   "outputs": [],
   "source": [
    "stoplist = list(stoplist)\n",
    "stoplist.extend(characters)\n",
    "stoplist = set(stoplist)"
   ]
  },
  {
   "cell_type": "code",
   "execution_count": 30,
   "metadata": {
    "ExecuteTime": {
     "end_time": "2018-07-09T18:35:58.879259Z",
     "start_time": "2018-07-09T18:35:58.875796Z"
    }
   },
   "outputs": [],
   "source": [
    "stoplist = [x.lower() for x in stoplist]"
   ]
  },
  {
   "cell_type": "code",
   "execution_count": 31,
   "metadata": {
    "ExecuteTime": {
     "end_time": "2018-07-09T18:35:58.901676Z",
     "start_time": "2018-07-09T18:35:58.881160Z"
    }
   },
   "outputs": [
    {
     "data": {
      "text/html": [
       "<div>\n",
       "<style scoped>\n",
       "    .dataframe tbody tr th:only-of-type {\n",
       "        vertical-align: middle;\n",
       "    }\n",
       "\n",
       "    .dataframe tbody tr th {\n",
       "        vertical-align: top;\n",
       "    }\n",
       "\n",
       "    .dataframe thead th {\n",
       "        text-align: right;\n",
       "    }\n",
       "</style>\n",
       "<table border=\"1\" class=\"dataframe\">\n",
       "  <thead>\n",
       "    <tr style=\"text-align: right;\">\n",
       "      <th></th>\n",
       "      <th>content</th>\n",
       "      <th>isbn</th>\n",
       "      <th>title</th>\n",
       "      <th>year</th>\n",
       "    </tr>\n",
       "  </thead>\n",
       "  <tbody>\n",
       "    <tr>\n",
       "      <th>0</th>\n",
       "      <td>d by “Duel”\\n\\nJoe Hill and Stephen King\\n\\n\\n...</td>\n",
       "      <td>9780062215956</td>\n",
       "      <td>Throttle</td>\n",
       "      <td>2009</td>\n",
       "    </tr>\n",
       "    <tr>\n",
       "      <th>1</th>\n",
       "      <td>TS\\n\\n\\n\\nCover Page\\n\\nTitle Page\\n\\n\\n\\nIntr...</td>\n",
       "      <td>978-0-385-52884-9</td>\n",
       "      <td>Night Shift</td>\n",
       "      <td>1976</td>\n",
       "    </tr>\n",
       "    <tr>\n",
       "      <th>2</th>\n",
       "      <td>this Scribner eBook.\\n\\n\\n\\n* * *\\n\\n\\n\\nSign...</td>\n",
       "      <td>0-7432-0467-0</td>\n",
       "      <td>Riding the Bullet</td>\n",
       "      <td>2000</td>\n",
       "    </tr>\n",
       "    <tr>\n",
       "      <th>3</th>\n",
       "      <td>Page\\n\\nCopyright Page\\n\\nDedication\\n\\n\\n\\n\\...</td>\n",
       "      <td>978-1-101-13813-7</td>\n",
       "      <td>Roadwork</td>\n",
       "      <td>1981</td>\n",
       "    </tr>\n",
       "    <tr>\n",
       "      <th>4</th>\n",
       "      <td>dication\\n\\nIntroduction\\n\\nAuthor’s Note\\n\\n\\...</td>\n",
       "      <td>978-0-385-52822-1</td>\n",
       "      <td>Salem's Lot</td>\n",
       "      <td>1975</td>\n",
       "    </tr>\n",
       "  </tbody>\n",
       "</table>\n",
       "</div>"
      ],
      "text/plain": [
       "                                             content               isbn  \\\n",
       "0  d by “Duel”\\n\\nJoe Hill and Stephen King\\n\\n\\n...      9780062215956   \n",
       "1  TS\\n\\n\\n\\nCover Page\\n\\nTitle Page\\n\\n\\n\\nIntr...  978-0-385-52884-9   \n",
       "2   this Scribner eBook.\\n\\n\\n\\n* * *\\n\\n\\n\\nSign...      0-7432-0467-0   \n",
       "3   Page\\n\\nCopyright Page\\n\\nDedication\\n\\n\\n\\n\\...  978-1-101-13813-7   \n",
       "4  dication\\n\\nIntroduction\\n\\nAuthor’s Note\\n\\n\\...  978-0-385-52822-1   \n",
       "\n",
       "               title  year  \n",
       "0           Throttle  2009  \n",
       "1        Night Shift  1976  \n",
       "2  Riding the Bullet  2000  \n",
       "3           Roadwork  1981  \n",
       "4        Salem's Lot  1975  "
      ]
     },
     "execution_count": 31,
     "metadata": {},
     "output_type": "execute_result"
    }
   ],
   "source": [
    "df.head()"
   ]
  },
  {
   "cell_type": "markdown",
   "metadata": {},
   "source": [
    "### Word Tokenize"
   ]
  },
  {
   "cell_type": "code",
   "execution_count": 32,
   "metadata": {
    "ExecuteTime": {
     "end_time": "2018-07-09T18:37:13.676655Z",
     "start_time": "2018-07-09T18:35:58.903531Z"
    }
   },
   "outputs": [],
   "source": [
    "df['content'] = df.content.apply(lambda x: word_tokenize(x))"
   ]
  },
  {
   "cell_type": "code",
   "execution_count": 33,
   "metadata": {
    "ExecuteTime": {
     "end_time": "2018-07-09T18:37:13.691863Z",
     "start_time": "2018-07-09T18:37:13.678567Z"
    }
   },
   "outputs": [
    {
     "data": {
      "text/html": [
       "<div>\n",
       "<style scoped>\n",
       "    .dataframe tbody tr th:only-of-type {\n",
       "        vertical-align: middle;\n",
       "    }\n",
       "\n",
       "    .dataframe tbody tr th {\n",
       "        vertical-align: top;\n",
       "    }\n",
       "\n",
       "    .dataframe thead th {\n",
       "        text-align: right;\n",
       "    }\n",
       "</style>\n",
       "<table border=\"1\" class=\"dataframe\">\n",
       "  <thead>\n",
       "    <tr style=\"text-align: right;\">\n",
       "      <th></th>\n",
       "      <th>content</th>\n",
       "      <th>isbn</th>\n",
       "      <th>title</th>\n",
       "      <th>year</th>\n",
       "    </tr>\n",
       "  </thead>\n",
       "  <tbody>\n",
       "    <tr>\n",
       "      <th>0</th>\n",
       "      <td>[d, by, “, Duel, ”, Joe, Hill, and, Stephen, K...</td>\n",
       "      <td>9780062215956</td>\n",
       "      <td>Throttle</td>\n",
       "      <td>2009</td>\n",
       "    </tr>\n",
       "    <tr>\n",
       "      <th>1</th>\n",
       "      <td>[TS, Cover, Page, Title, Page, Introduction, b...</td>\n",
       "      <td>978-0-385-52884-9</td>\n",
       "      <td>Night Shift</td>\n",
       "      <td>1976</td>\n",
       "    </tr>\n",
       "    <tr>\n",
       "      <th>2</th>\n",
       "      <td>[this, Scribner, eBook, ., *, *, *, Sign, up, ...</td>\n",
       "      <td>0-7432-0467-0</td>\n",
       "      <td>Riding the Bullet</td>\n",
       "      <td>2000</td>\n",
       "    </tr>\n",
       "    <tr>\n",
       "      <th>3</th>\n",
       "      <td>[Page, Copyright, Page, Dedication, Part, One,...</td>\n",
       "      <td>978-1-101-13813-7</td>\n",
       "      <td>Roadwork</td>\n",
       "      <td>1981</td>\n",
       "    </tr>\n",
       "    <tr>\n",
       "      <th>4</th>\n",
       "      <td>[dication, Introduction, Author, ’, s, Note, ’...</td>\n",
       "      <td>978-0-385-52822-1</td>\n",
       "      <td>Salem's Lot</td>\n",
       "      <td>1975</td>\n",
       "    </tr>\n",
       "  </tbody>\n",
       "</table>\n",
       "</div>"
      ],
      "text/plain": [
       "                                             content               isbn  \\\n",
       "0  [d, by, “, Duel, ”, Joe, Hill, and, Stephen, K...      9780062215956   \n",
       "1  [TS, Cover, Page, Title, Page, Introduction, b...  978-0-385-52884-9   \n",
       "2  [this, Scribner, eBook, ., *, *, *, Sign, up, ...      0-7432-0467-0   \n",
       "3  [Page, Copyright, Page, Dedication, Part, One,...  978-1-101-13813-7   \n",
       "4  [dication, Introduction, Author, ’, s, Note, ’...  978-0-385-52822-1   \n",
       "\n",
       "               title  year  \n",
       "0           Throttle  2009  \n",
       "1        Night Shift  1976  \n",
       "2  Riding the Bullet  2000  \n",
       "3           Roadwork  1981  \n",
       "4        Salem's Lot  1975  "
      ]
     },
     "execution_count": 33,
     "metadata": {},
     "output_type": "execute_result"
    }
   ],
   "source": [
    "df.head()"
   ]
  },
  {
   "cell_type": "markdown",
   "metadata": {},
   "source": [
    "### Omit Stop Words"
   ]
  },
  {
   "cell_type": "code",
   "execution_count": 34,
   "metadata": {
    "ExecuteTime": {
     "end_time": "2018-07-09T18:38:03.623076Z",
     "start_time": "2018-07-09T18:37:13.693863Z"
    }
   },
   "outputs": [],
   "source": [
    "df['content'] = df.content.apply(lambda x: [word for word in x if word not in stoplist])"
   ]
  },
  {
   "cell_type": "code",
   "execution_count": 35,
   "metadata": {
    "ExecuteTime": {
     "end_time": "2018-07-09T18:38:03.638809Z",
     "start_time": "2018-07-09T18:38:03.624806Z"
    },
    "scrolled": true
   },
   "outputs": [
    {
     "data": {
      "text/html": [
       "<div>\n",
       "<style scoped>\n",
       "    .dataframe tbody tr th:only-of-type {\n",
       "        vertical-align: middle;\n",
       "    }\n",
       "\n",
       "    .dataframe tbody tr th {\n",
       "        vertical-align: top;\n",
       "    }\n",
       "\n",
       "    .dataframe thead th {\n",
       "        text-align: right;\n",
       "    }\n",
       "</style>\n",
       "<table border=\"1\" class=\"dataframe\">\n",
       "  <thead>\n",
       "    <tr style=\"text-align: right;\">\n",
       "      <th></th>\n",
       "      <th>content</th>\n",
       "      <th>isbn</th>\n",
       "      <th>title</th>\n",
       "      <th>year</th>\n",
       "    </tr>\n",
       "  </thead>\n",
       "  <tbody>\n",
       "    <tr>\n",
       "      <th>0</th>\n",
       "      <td>[“, Duel, ”, Joe, Hill, Stephen, King, Content...</td>\n",
       "      <td>9780062215956</td>\n",
       "      <td>Throttle</td>\n",
       "      <td>2009</td>\n",
       "    </tr>\n",
       "    <tr>\n",
       "      <th>1</th>\n",
       "      <td>[TS, Cover, Page, Title, Page, Introduction, J...</td>\n",
       "      <td>978-0-385-52884-9</td>\n",
       "      <td>Night Shift</td>\n",
       "      <td>1976</td>\n",
       "    </tr>\n",
       "    <tr>\n",
       "      <th>2</th>\n",
       "      <td>[Scribner, eBook, *, *, *, Sign, newsletter, r...</td>\n",
       "      <td>0-7432-0467-0</td>\n",
       "      <td>Riding the Bullet</td>\n",
       "      <td>2000</td>\n",
       "    </tr>\n",
       "    <tr>\n",
       "      <th>3</th>\n",
       "      <td>[Page, Copyright, Page, Dedication, Part, One,...</td>\n",
       "      <td>978-1-101-13813-7</td>\n",
       "      <td>Roadwork</td>\n",
       "      <td>1981</td>\n",
       "    </tr>\n",
       "    <tr>\n",
       "      <th>4</th>\n",
       "      <td>[dication, Introduction, Author, ’, Note, ’, S...</td>\n",
       "      <td>978-0-385-52822-1</td>\n",
       "      <td>Salem's Lot</td>\n",
       "      <td>1975</td>\n",
       "    </tr>\n",
       "  </tbody>\n",
       "</table>\n",
       "</div>"
      ],
      "text/plain": [
       "                                             content               isbn  \\\n",
       "0  [“, Duel, ”, Joe, Hill, Stephen, King, Content...      9780062215956   \n",
       "1  [TS, Cover, Page, Title, Page, Introduction, J...  978-0-385-52884-9   \n",
       "2  [Scribner, eBook, *, *, *, Sign, newsletter, r...      0-7432-0467-0   \n",
       "3  [Page, Copyright, Page, Dedication, Part, One,...  978-1-101-13813-7   \n",
       "4  [dication, Introduction, Author, ’, Note, ’, S...  978-0-385-52822-1   \n",
       "\n",
       "               title  year  \n",
       "0           Throttle  2009  \n",
       "1        Night Shift  1976  \n",
       "2  Riding the Bullet  2000  \n",
       "3           Roadwork  1981  \n",
       "4        Salem's Lot  1975  "
      ]
     },
     "execution_count": 35,
     "metadata": {},
     "output_type": "execute_result"
    }
   ],
   "source": [
    "df.head()"
   ]
  },
  {
   "cell_type": "markdown",
   "metadata": {},
   "source": [
    "### Convert tokens back to a long string"
   ]
  },
  {
   "cell_type": "code",
   "execution_count": 36,
   "metadata": {
    "ExecuteTime": {
     "end_time": "2018-07-09T18:38:04.058597Z",
     "start_time": "2018-07-09T18:38:03.640825Z"
    }
   },
   "outputs": [],
   "source": [
    "df['content'] = df.content.apply(lambda x: \" \".join(x))"
   ]
  },
  {
   "cell_type": "code",
   "execution_count": 37,
   "metadata": {
    "ExecuteTime": {
     "end_time": "2018-07-09T18:38:04.074707Z",
     "start_time": "2018-07-09T18:38:04.060402Z"
    }
   },
   "outputs": [
    {
     "data": {
      "text/html": [
       "<div>\n",
       "<style scoped>\n",
       "    .dataframe tbody tr th:only-of-type {\n",
       "        vertical-align: middle;\n",
       "    }\n",
       "\n",
       "    .dataframe tbody tr th {\n",
       "        vertical-align: top;\n",
       "    }\n",
       "\n",
       "    .dataframe thead th {\n",
       "        text-align: right;\n",
       "    }\n",
       "</style>\n",
       "<table border=\"1\" class=\"dataframe\">\n",
       "  <thead>\n",
       "    <tr style=\"text-align: right;\">\n",
       "      <th></th>\n",
       "      <th>content</th>\n",
       "      <th>isbn</th>\n",
       "      <th>title</th>\n",
       "      <th>year</th>\n",
       "    </tr>\n",
       "  </thead>\n",
       "  <tbody>\n",
       "    <tr>\n",
       "      <th>0</th>\n",
       "      <td>“ Duel ” Joe Hill Stephen King Contents Cover ...</td>\n",
       "      <td>9780062215956</td>\n",
       "      <td>Throttle</td>\n",
       "      <td>2009</td>\n",
       "    </tr>\n",
       "    <tr>\n",
       "      <th>1</th>\n",
       "      <td>TS Cover Page Title Page Introduction John D. ...</td>\n",
       "      <td>978-0-385-52884-9</td>\n",
       "      <td>Night Shift</td>\n",
       "      <td>1976</td>\n",
       "    </tr>\n",
       "    <tr>\n",
       "      <th>2</th>\n",
       "      <td>Scribner eBook * * * Sign newsletter receive s...</td>\n",
       "      <td>0-7432-0467-0</td>\n",
       "      <td>Riding the Bullet</td>\n",
       "      <td>2000</td>\n",
       "    </tr>\n",
       "    <tr>\n",
       "      <th>3</th>\n",
       "      <td>Page Copyright Page Dedication Part One - NOVE...</td>\n",
       "      <td>978-1-101-13813-7</td>\n",
       "      <td>Roadwork</td>\n",
       "      <td>1981</td>\n",
       "    </tr>\n",
       "    <tr>\n",
       "      <th>4</th>\n",
       "      <td>dication Introduction Author ’ Note ’ SALEM ’ ...</td>\n",
       "      <td>978-0-385-52822-1</td>\n",
       "      <td>Salem's Lot</td>\n",
       "      <td>1975</td>\n",
       "    </tr>\n",
       "  </tbody>\n",
       "</table>\n",
       "</div>"
      ],
      "text/plain": [
       "                                             content               isbn  \\\n",
       "0  “ Duel ” Joe Hill Stephen King Contents Cover ...      9780062215956   \n",
       "1  TS Cover Page Title Page Introduction John D. ...  978-0-385-52884-9   \n",
       "2  Scribner eBook * * * Sign newsletter receive s...      0-7432-0467-0   \n",
       "3  Page Copyright Page Dedication Part One - NOVE...  978-1-101-13813-7   \n",
       "4  dication Introduction Author ’ Note ’ SALEM ’ ...  978-0-385-52822-1   \n",
       "\n",
       "               title  year  \n",
       "0           Throttle  2009  \n",
       "1        Night Shift  1976  \n",
       "2  Riding the Bullet  2000  \n",
       "3           Roadwork  1981  \n",
       "4        Salem's Lot  1975  "
      ]
     },
     "execution_count": 37,
     "metadata": {},
     "output_type": "execute_result"
    }
   ],
   "source": [
    "df.head()"
   ]
  },
  {
   "cell_type": "code",
   "execution_count": 38,
   "metadata": {
    "ExecuteTime": {
     "end_time": "2018-07-09T18:38:04.079968Z",
     "start_time": "2018-07-09T18:38:04.076875Z"
    }
   },
   "outputs": [],
   "source": [
    "books=df.content.copy(deep=True)"
   ]
  },
  {
   "cell_type": "code",
   "execution_count": 39,
   "metadata": {
    "ExecuteTime": {
     "end_time": "2018-07-09T18:38:04.086681Z",
     "start_time": "2018-07-09T18:38:04.082305Z"
    }
   },
   "outputs": [
    {
     "data": {
      "text/plain": [
       "str"
      ]
     },
     "execution_count": 39,
     "metadata": {},
     "output_type": "execute_result"
    }
   ],
   "source": [
    "type(books[0])"
   ]
  },
  {
   "cell_type": "markdown",
   "metadata": {},
   "source": [
    "### Sentence Tokenize"
   ]
  },
  {
   "cell_type": "code",
   "execution_count": 40,
   "metadata": {
    "ExecuteTime": {
     "end_time": "2018-07-09T18:38:10.962118Z",
     "start_time": "2018-07-09T18:38:04.088576Z"
    }
   },
   "outputs": [],
   "source": [
    "df['content'] = df.content.apply(lambda x: sent_tokenize(x))"
   ]
  },
  {
   "cell_type": "code",
   "execution_count": 41,
   "metadata": {
    "ExecuteTime": {
     "end_time": "2018-07-09T18:38:10.981926Z",
     "start_time": "2018-07-09T18:38:10.964219Z"
    }
   },
   "outputs": [
    {
     "data": {
      "text/html": [
       "<div>\n",
       "<style scoped>\n",
       "    .dataframe tbody tr th:only-of-type {\n",
       "        vertical-align: middle;\n",
       "    }\n",
       "\n",
       "    .dataframe tbody tr th {\n",
       "        vertical-align: top;\n",
       "    }\n",
       "\n",
       "    .dataframe thead th {\n",
       "        text-align: right;\n",
       "    }\n",
       "</style>\n",
       "<table border=\"1\" class=\"dataframe\">\n",
       "  <thead>\n",
       "    <tr style=\"text-align: right;\">\n",
       "      <th></th>\n",
       "      <th>content</th>\n",
       "      <th>isbn</th>\n",
       "      <th>title</th>\n",
       "      <th>year</th>\n",
       "    </tr>\n",
       "  </thead>\n",
       "  <tbody>\n",
       "    <tr>\n",
       "      <th>0</th>\n",
       "      <td>[“ Duel ” Joe Hill Stephen King Contents Cover...</td>\n",
       "      <td>9780062215956</td>\n",
       "      <td>Throttle</td>\n",
       "      <td>2009</td>\n",
       "    </tr>\n",
       "    <tr>\n",
       "      <th>1</th>\n",
       "      <td>[TS Cover Page Title Page Introduction John D....</td>\n",
       "      <td>978-0-385-52884-9</td>\n",
       "      <td>Night Shift</td>\n",
       "      <td>1976</td>\n",
       "    </tr>\n",
       "    <tr>\n",
       "      <th>2</th>\n",
       "      <td>[Scribner eBook * * * Sign newsletter receive ...</td>\n",
       "      <td>0-7432-0467-0</td>\n",
       "      <td>Riding the Bullet</td>\n",
       "      <td>2000</td>\n",
       "    </tr>\n",
       "    <tr>\n",
       "      <th>3</th>\n",
       "      <td>[Page Copyright Page Dedication Part One - NOV...</td>\n",
       "      <td>978-1-101-13813-7</td>\n",
       "      <td>Roadwork</td>\n",
       "      <td>1981</td>\n",
       "    </tr>\n",
       "    <tr>\n",
       "      <th>4</th>\n",
       "      <td>[dication Introduction Author ’ Note ’ SALEM ’...</td>\n",
       "      <td>978-0-385-52822-1</td>\n",
       "      <td>Salem's Lot</td>\n",
       "      <td>1975</td>\n",
       "    </tr>\n",
       "  </tbody>\n",
       "</table>\n",
       "</div>"
      ],
      "text/plain": [
       "                                             content               isbn  \\\n",
       "0  [“ Duel ” Joe Hill Stephen King Contents Cover...      9780062215956   \n",
       "1  [TS Cover Page Title Page Introduction John D....  978-0-385-52884-9   \n",
       "2  [Scribner eBook * * * Sign newsletter receive ...      0-7432-0467-0   \n",
       "3  [Page Copyright Page Dedication Part One - NOV...  978-1-101-13813-7   \n",
       "4  [dication Introduction Author ’ Note ’ SALEM ’...  978-0-385-52822-1   \n",
       "\n",
       "               title  year  \n",
       "0           Throttle  2009  \n",
       "1        Night Shift  1976  \n",
       "2  Riding the Bullet  2000  \n",
       "3           Roadwork  1981  \n",
       "4        Salem's Lot  1975  "
      ]
     },
     "execution_count": 41,
     "metadata": {},
     "output_type": "execute_result"
    }
   ],
   "source": [
    "df.head()"
   ]
  },
  {
   "cell_type": "markdown",
   "metadata": {},
   "source": [
    "### Stem Words"
   ]
  },
  {
   "cell_type": "code",
   "execution_count": 42,
   "metadata": {
    "ExecuteTime": {
     "end_time": "2018-07-09T18:38:10.987344Z",
     "start_time": "2018-07-09T18:38:10.983976Z"
    }
   },
   "outputs": [],
   "source": [
    "from nltk.stem.snowball import SnowballStemmer\n",
    "stemmer = SnowballStemmer(\"english\")"
   ]
  },
  {
   "cell_type": "code",
   "execution_count": 43,
   "metadata": {
    "ExecuteTime": {
     "end_time": "2018-07-09T18:38:10.993414Z",
     "start_time": "2018-07-09T18:38:10.989259Z"
    }
   },
   "outputs": [],
   "source": [
    "titles = df.title"
   ]
  },
  {
   "cell_type": "code",
   "execution_count": 44,
   "metadata": {
    "ExecuteTime": {
     "end_time": "2018-07-09T18:38:18.089454Z",
     "start_time": "2018-07-09T18:38:10.995280Z"
    }
   },
   "outputs": [],
   "source": [
    "df['content'] = df.content.apply(lambda x: [stemmer.stem(word) for word in x])"
   ]
  },
  {
   "cell_type": "code",
   "execution_count": 45,
   "metadata": {
    "ExecuteTime": {
     "end_time": "2018-07-09T18:38:18.106353Z",
     "start_time": "2018-07-09T18:38:18.091261Z"
    }
   },
   "outputs": [
    {
     "data": {
      "text/html": [
       "<div>\n",
       "<style scoped>\n",
       "    .dataframe tbody tr th:only-of-type {\n",
       "        vertical-align: middle;\n",
       "    }\n",
       "\n",
       "    .dataframe tbody tr th {\n",
       "        vertical-align: top;\n",
       "    }\n",
       "\n",
       "    .dataframe thead th {\n",
       "        text-align: right;\n",
       "    }\n",
       "</style>\n",
       "<table border=\"1\" class=\"dataframe\">\n",
       "  <thead>\n",
       "    <tr style=\"text-align: right;\">\n",
       "      <th></th>\n",
       "      <th>content</th>\n",
       "      <th>isbn</th>\n",
       "      <th>title</th>\n",
       "      <th>year</th>\n",
       "    </tr>\n",
       "  </thead>\n",
       "  <tbody>\n",
       "    <tr>\n",
       "      <th>0</th>\n",
       "      <td>[“ duel ” joe hill stephen king contents cover...</td>\n",
       "      <td>9780062215956</td>\n",
       "      <td>Throttle</td>\n",
       "      <td>2009</td>\n",
       "    </tr>\n",
       "    <tr>\n",
       "      <th>1</th>\n",
       "      <td>[ts cover page title page introduction john d....</td>\n",
       "      <td>978-0-385-52884-9</td>\n",
       "      <td>Night Shift</td>\n",
       "      <td>1976</td>\n",
       "    </tr>\n",
       "    <tr>\n",
       "      <th>2</th>\n",
       "      <td>[scribner ebook * * * sign newsletter receive ...</td>\n",
       "      <td>0-7432-0467-0</td>\n",
       "      <td>Riding the Bullet</td>\n",
       "      <td>2000</td>\n",
       "    </tr>\n",
       "    <tr>\n",
       "      <th>3</th>\n",
       "      <td>[page copyright page dedication part one - nov...</td>\n",
       "      <td>978-1-101-13813-7</td>\n",
       "      <td>Roadwork</td>\n",
       "      <td>1981</td>\n",
       "    </tr>\n",
       "    <tr>\n",
       "      <th>4</th>\n",
       "      <td>[dication introduction author ' note ' salem '...</td>\n",
       "      <td>978-0-385-52822-1</td>\n",
       "      <td>Salem's Lot</td>\n",
       "      <td>1975</td>\n",
       "    </tr>\n",
       "  </tbody>\n",
       "</table>\n",
       "</div>"
      ],
      "text/plain": [
       "                                             content               isbn  \\\n",
       "0  [“ duel ” joe hill stephen king contents cover...      9780062215956   \n",
       "1  [ts cover page title page introduction john d....  978-0-385-52884-9   \n",
       "2  [scribner ebook * * * sign newsletter receive ...      0-7432-0467-0   \n",
       "3  [page copyright page dedication part one - nov...  978-1-101-13813-7   \n",
       "4  [dication introduction author ' note ' salem '...  978-0-385-52822-1   \n",
       "\n",
       "               title  year  \n",
       "0           Throttle  2009  \n",
       "1        Night Shift  1976  \n",
       "2  Riding the Bullet  2000  \n",
       "3           Roadwork  1981  \n",
       "4        Salem's Lot  1975  "
      ]
     },
     "execution_count": 45,
     "metadata": {},
     "output_type": "execute_result"
    }
   ],
   "source": [
    "df.head()"
   ]
  },
  {
   "cell_type": "code",
   "execution_count": 46,
   "metadata": {
    "ExecuteTime": {
     "end_time": "2018-07-09T18:38:18.110731Z",
     "start_time": "2018-07-09T18:38:18.108038Z"
    }
   },
   "outputs": [],
   "source": [
    "# books[4][:500]"
   ]
  },
  {
   "cell_type": "markdown",
   "metadata": {},
   "source": [
    "### Lower Stop List"
   ]
  },
  {
   "cell_type": "markdown",
   "metadata": {},
   "source": [
    "### Convert sentences to Rows"
   ]
  },
  {
   "cell_type": "markdown",
   "metadata": {},
   "source": [
    "This will be used for visualizing the sentiment analysis"
   ]
  },
  {
   "cell_type": "code",
   "execution_count": 47,
   "metadata": {
    "ExecuteTime": {
     "end_time": "2018-07-09T18:38:19.158268Z",
     "start_time": "2018-07-09T18:38:18.113193Z"
    }
   },
   "outputs": [],
   "source": [
    "s = df.apply(lambda x: pd.Series(x['content']),axis=1).stack().reset_index(level=1, drop=True)\n",
    "s.name = 'content'\n",
    "sentDF = df.drop('content', axis=1).join(s)"
   ]
  },
  {
   "cell_type": "code",
   "execution_count": 48,
   "metadata": {
    "ExecuteTime": {
     "end_time": "2018-07-09T18:38:19.170333Z",
     "start_time": "2018-07-09T18:38:19.160580Z"
    }
   },
   "outputs": [
    {
     "data": {
      "text/html": [
       "<div>\n",
       "<style scoped>\n",
       "    .dataframe tbody tr th:only-of-type {\n",
       "        vertical-align: middle;\n",
       "    }\n",
       "\n",
       "    .dataframe tbody tr th {\n",
       "        vertical-align: top;\n",
       "    }\n",
       "\n",
       "    .dataframe thead th {\n",
       "        text-align: right;\n",
       "    }\n",
       "</style>\n",
       "<table border=\"1\" class=\"dataframe\">\n",
       "  <thead>\n",
       "    <tr style=\"text-align: right;\">\n",
       "      <th></th>\n",
       "      <th>isbn</th>\n",
       "      <th>title</th>\n",
       "      <th>year</th>\n",
       "      <th>content</th>\n",
       "    </tr>\n",
       "  </thead>\n",
       "  <tbody>\n",
       "    <tr>\n",
       "      <th>0</th>\n",
       "      <td>9780062215956</td>\n",
       "      <td>Throttle</td>\n",
       "      <td>2009</td>\n",
       "      <td>“ duel ” joe hill stephen king contents cover ...</td>\n",
       "    </tr>\n",
       "    <tr>\n",
       "      <th>0</th>\n",
       "      <td>9780062215956</td>\n",
       "      <td>Throttle</td>\n",
       "      <td>2009</td>\n",
       "      <td>” vince looked hand arm—lemmy ' let go ; lemmy...</td>\n",
       "    </tr>\n",
       "    <tr>\n",
       "      <th>0</th>\n",
       "      <td>9780062215956</td>\n",
       "      <td>Throttle</td>\n",
       "      <td>2009</td>\n",
       "      <td>clarke ' gone so ' money there ' nothing left ...</td>\n",
       "    </tr>\n",
       "    <tr>\n",
       "      <th>0</th>\n",
       "      <td>9780062215956</td>\n",
       "      <td>Throttle</td>\n",
       "      <td>2009</td>\n",
       "      <td>” “ you ought find race feels you assuming two...</td>\n",
       "    </tr>\n",
       "    <tr>\n",
       "      <th>0</th>\n",
       "      <td>9780062215956</td>\n",
       "      <td>Throttle</td>\n",
       "      <td>2009</td>\n",
       "      <td>” he glanced meaningfully men vince noticed fi...</td>\n",
       "    </tr>\n",
       "  </tbody>\n",
       "</table>\n",
       "</div>"
      ],
      "text/plain": [
       "            isbn     title  year  \\\n",
       "0  9780062215956  Throttle  2009   \n",
       "0  9780062215956  Throttle  2009   \n",
       "0  9780062215956  Throttle  2009   \n",
       "0  9780062215956  Throttle  2009   \n",
       "0  9780062215956  Throttle  2009   \n",
       "\n",
       "                                             content  \n",
       "0  “ duel ” joe hill stephen king contents cover ...  \n",
       "0  ” vince looked hand arm—lemmy ' let go ; lemmy...  \n",
       "0  clarke ' gone so ' money there ' nothing left ...  \n",
       "0  ” “ you ought find race feels you assuming two...  \n",
       "0  ” he glanced meaningfully men vince noticed fi...  "
      ]
     },
     "execution_count": 48,
     "metadata": {},
     "output_type": "execute_result"
    }
   ],
   "source": [
    "sentDF.head()"
   ]
  },
  {
   "cell_type": "code",
   "execution_count": 49,
   "metadata": {
    "ExecuteTime": {
     "end_time": "2018-07-09T18:38:19.355343Z",
     "start_time": "2018-07-09T18:38:19.172463Z"
    }
   },
   "outputs": [],
   "source": [
    "sentDF.to_pickle('pickles/sentences.pkl')"
   ]
  },
  {
   "cell_type": "markdown",
   "metadata": {},
   "source": [
    "### Processing Sentences"
   ]
  },
  {
   "cell_type": "code",
   "execution_count": 50,
   "metadata": {
    "ExecuteTime": {
     "end_time": "2018-07-09T18:38:19.361297Z",
     "start_time": "2018-07-09T18:38:19.357094Z"
    }
   },
   "outputs": [
    {
     "data": {
      "text/plain": [
       "68"
      ]
     },
     "execution_count": 50,
     "metadata": {},
     "output_type": "execute_result"
    }
   ],
   "source": [
    "len(books)"
   ]
  },
  {
   "cell_type": "code",
   "execution_count": 51,
   "metadata": {
    "ExecuteTime": {
     "end_time": "2018-07-09T18:38:19.366705Z",
     "start_time": "2018-07-09T18:38:19.364054Z"
    }
   },
   "outputs": [],
   "source": [
    "titles = sentDF.title\n",
    "#titles"
   ]
  },
  {
   "cell_type": "code",
   "execution_count": 52,
   "metadata": {
    "ExecuteTime": {
     "end_time": "2018-07-09T18:40:51.122466Z",
     "start_time": "2018-07-09T18:38:19.368834Z"
    }
   },
   "outputs": [],
   "source": [
    "totalvocab_stemmed = []\n",
    "totalvocab_tokenized = []\n",
    "for i in books:\n",
    "    allwords_stemmed = tokenize_and_stem(i) #for each item in 'synopses', tokenize/stem\n",
    "    totalvocab_stemmed.extend(allwords_stemmed) #extend the 'totalvocab_stemmed' list\n",
    "    \n",
    "    allwords_tokenized = tokenize_only(i)\n",
    "    totalvocab_tokenized.extend(allwords_tokenized)"
   ]
  },
  {
   "cell_type": "code",
   "execution_count": 55,
   "metadata": {
    "ExecuteTime": {
     "end_time": "2018-07-09T18:43:01.500006Z",
     "start_time": "2018-07-09T18:43:01.494067Z"
    }
   },
   "outputs": [
    {
     "data": {
      "text/plain": [
       "['duel',\n",
       " 'joe',\n",
       " 'hill',\n",
       " 'stephen',\n",
       " 'king',\n",
       " 'content',\n",
       " 'cover',\n",
       " 'titl',\n",
       " 'throttl',\n",
       " 'about',\n",
       " 'author',\n",
       " 'credit',\n",
       " 'copyright',\n",
       " 'more',\n",
       " 'author',\n",
       " 'about',\n",
       " 'publish',\n",
       " '******start_of_file******',\n",
       " 'throttl',\n",
       " 'they']"
      ]
     },
     "execution_count": 55,
     "metadata": {},
     "output_type": "execute_result"
    }
   ],
   "source": [
    "totalvocab_stemmed[:20]"
   ]
  },
  {
   "cell_type": "code",
   "execution_count": null,
   "metadata": {},
   "outputs": [],
   "source": []
  }
 ],
 "metadata": {
  "kernelspec": {
   "display_name": "Python 3",
   "language": "python",
   "name": "python3"
  },
  "language_info": {
   "codemirror_mode": {
    "name": "ipython",
    "version": 3
   },
   "file_extension": ".py",
   "mimetype": "text/x-python",
   "name": "python",
   "nbconvert_exporter": "python",
   "pygments_lexer": "ipython3",
   "version": "3.6.6"
  },
  "toc": {
   "nav_menu": {},
   "number_sections": true,
   "sideBar": true,
   "skip_h1_title": true,
   "toc_cell": false,
   "toc_position": {
    "height": "828px",
    "left": "0px",
    "right": "1228px",
    "top": "110px",
    "width": "218px"
   },
   "toc_section_display": "block",
   "toc_window_display": true
  }
 },
 "nbformat": 4,
 "nbformat_minor": 2
}
