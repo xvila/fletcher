{
 "cells": [
  {
   "cell_type": "markdown",
   "metadata": {},
   "source": [
    "# Stephen King Novel NLP"
   ]
  },
  {
   "cell_type": "markdown",
   "metadata": {},
   "source": [
    "## Imports"
   ]
  },
  {
   "cell_type": "code",
   "execution_count": 1,
   "metadata": {
    "ExecuteTime": {
     "end_time": "2018-07-09T16:51:30.998566Z",
     "start_time": "2018-07-09T16:51:26.785466Z"
    }
   },
   "outputs": [],
   "source": [
    "import pandas as pd\n",
    "import numpy as np\n",
    "from IPython import display\n",
    "from pymongo import MongoClient\n",
    "import os\n",
    "import re\n",
    "from textblob import TextBlob\n",
    "import nltk\n",
    "from nltk.corpus import stopwords\n",
    "from nltk.tokenize import sent_tokenize\n",
    "from nltk.tokenize import word_tokenize\n",
    "import json\n",
    "from sklearn.externals import joblib\n",
    "from statsmodels.nonparametric.smoothers_lowess import lowess\n",
    "\n",
    "display.clear_output(wait=True)\n",
    "from config import user_name,password,ip\n",
    "from epub_conversion.utils import open_book\n",
    "\n",
    "%matplotlib inline\n",
    "import seaborn as sns\n",
    "import matplotlib.pyplot as plt, mpld3\n",
    "plt.style.use('fivethirtyeight')\n",
    "plt.rcParams['figure.figsize'] = 20, 10"
   ]
  },
  {
   "cell_type": "markdown",
   "metadata": {
    "collapsed": true
   },
   "source": [
    "## Stoplist"
   ]
  },
  {
   "cell_type": "code",
   "execution_count": 2,
   "metadata": {
    "ExecuteTime": {
     "end_time": "2018-07-09T16:51:31.011923Z",
     "start_time": "2018-07-09T16:51:31.001229Z"
    }
   },
   "outputs": [],
   "source": [
    "stoplist = stopwords.words('english')\n",
    "stoplist += ['.', ',', '(', ')', \"'\", '\"']\n",
    "#stoplist = set(stoplist)"
   ]
  },
  {
   "cell_type": "markdown",
   "metadata": {},
   "source": [
    "## Import Sentiment"
   ]
  },
  {
   "cell_type": "code",
   "execution_count": 3,
   "metadata": {
    "ExecuteTime": {
     "end_time": "2018-07-09T16:51:31.393370Z",
     "start_time": "2018-07-09T16:51:31.014226Z"
    }
   },
   "outputs": [],
   "source": [
    "sentDF = pd.read_pickle('sentiment.pkl')"
   ]
  },
  {
   "cell_type": "markdown",
   "metadata": {},
   "source": [
    "## Functions"
   ]
  },
  {
   "cell_type": "markdown",
   "metadata": {},
   "source": [
    "### Manual Word Count"
   ]
  },
  {
   "cell_type": "code",
   "execution_count": 4,
   "metadata": {
    "ExecuteTime": {
     "end_time": "2018-07-09T16:51:31.399444Z",
     "start_time": "2018-07-09T16:51:31.396109Z"
    }
   },
   "outputs": [],
   "source": [
    "def clean_text(row):\n",
    "    text = row['content'].lower()\n",
    "    text = text.strip('\\n')\n",
    "    return text"
   ]
  },
  {
   "cell_type": "markdown",
   "metadata": {},
   "source": [
    "### Cleanup"
   ]
  },
  {
   "cell_type": "code",
   "execution_count": 5,
   "metadata": {
    "ExecuteTime": {
     "end_time": "2018-07-09T16:51:31.406452Z",
     "start_time": "2018-07-09T16:51:31.402168Z"
    }
   },
   "outputs": [],
   "source": [
    "def cleanup(token, lower = True):\n",
    "    if lower:\n",
    "       token = token.lower()\n",
    "    return token.strip()"
   ]
  },
  {
   "cell_type": "markdown",
   "metadata": {},
   "source": [
    "### Entity Detection"
   ]
  },
  {
   "cell_type": "code",
   "execution_count": 6,
   "metadata": {
    "ExecuteTime": {
     "end_time": "2018-07-09T16:51:31.413797Z",
     "start_time": "2018-07-09T16:51:31.408916Z"
    }
   },
   "outputs": [],
   "source": [
    "def ie_preprocess(document):\n",
    "    document = ' '.join([i for i in document.split() if i not in stoplist])\n",
    "    sentences = nltk.sent_tokenize(document)\n",
    "    sentences = [nltk.word_tokenize(sent) for sent in sentences]\n",
    "    sentences = [nltk.pos_tag(sent) for sent in sentences]\n",
    "    return sentences"
   ]
  },
  {
   "cell_type": "code",
   "execution_count": 7,
   "metadata": {
    "ExecuteTime": {
     "end_time": "2018-07-09T16:51:31.421490Z",
     "start_time": "2018-07-09T16:51:31.416365Z"
    }
   },
   "outputs": [],
   "source": [
    "def extract_names(document):\n",
    "    names = []\n",
    "    sentences = ie_preprocess(document)\n",
    "    for tagged_sentence in sentences:\n",
    "        for chunk in nltk.ne_chunk(tagged_sentence):\n",
    "            if type(chunk) == nltk.tree.Tree:\n",
    "                if chunk.label() == 'PERSON':\n",
    "                    names.append(' '.join([c[0] for c in chunk]))\n",
    "    return names"
   ]
  },
  {
   "cell_type": "markdown",
   "metadata": {},
   "source": [
    "### Tokenize and Stem"
   ]
  },
  {
   "cell_type": "code",
   "execution_count": 8,
   "metadata": {
    "ExecuteTime": {
     "end_time": "2018-07-09T16:51:31.428400Z",
     "start_time": "2018-07-09T16:51:31.423687Z"
    }
   },
   "outputs": [],
   "source": [
    "def tokenize_and_stem(text):\n",
    "    # first tokenize by sentence, then by word to ensure that punctuation is caught as it's own token\n",
    "    tokens = [word for sent in nltk.sent_tokenize(text) for word in nltk.word_tokenize(sent)]\n",
    "    filtered_tokens = []\n",
    "    # filter out any tokens not containing letters (e.g., numeric tokens, raw punctuation)\n",
    "    for token in tokens:\n",
    "        if re.search('[a-zA-Z]', token):\n",
    "            filtered_tokens.append(token)\n",
    "    stems = [stemmer.stem(t) for t in filtered_tokens]\n",
    "    return stems"
   ]
  },
  {
   "cell_type": "code",
   "execution_count": 9,
   "metadata": {
    "ExecuteTime": {
     "end_time": "2018-07-09T16:51:31.436035Z",
     "start_time": "2018-07-09T16:51:31.431571Z"
    }
   },
   "outputs": [],
   "source": [
    "def tokenize_only(text):\n",
    "    # first tokenize by sentence, then by word to ensure that punctuation is caught as it's own token\n",
    "    tokens = [word.lower() for sent in nltk.sent_tokenize(text) for word in nltk.word_tokenize(sent)]\n",
    "    filtered_tokens = []\n",
    "    # filter out any tokens not containing letters (e.g., numeric tokens, raw punctuation)\n",
    "    for token in tokens:\n",
    "        if re.search('[a-zA-Z]', token):\n",
    "            filtered_tokens.append(token)\n",
    "    return filtered_tokens"
   ]
  },
  {
   "cell_type": "markdown",
   "metadata": {},
   "source": [
    "### Sentiment"
   ]
  },
  {
   "cell_type": "code",
   "execution_count": 10,
   "metadata": {
    "ExecuteTime": {
     "end_time": "2018-07-09T16:51:31.442697Z",
     "start_time": "2018-07-09T16:51:31.438561Z"
    }
   },
   "outputs": [],
   "source": [
    "def a_sentiment(filename):\n",
    "    with open (filename, \"r\") as myfile:\n",
    "        text=myfile.read().replace('\\n', ' ')\n",
    "        blob = TextBlob(text)       \n",
    "        tot = 0.0\n",
    "        sent = []        \n",
    "        afinn = Afinn()\n",
    "        for sentence in blob.sentences:            \n",
    "            senti = afinn.score(str(sentence))        \n",
    "            sent.append(senti)   \n",
    "        return sent"
   ]
  },
  {
   "cell_type": "markdown",
   "metadata": {},
   "source": [
    "### Sentiment Plot"
   ]
  },
  {
   "cell_type": "code",
   "execution_count": 11,
   "metadata": {
    "ExecuteTime": {
     "end_time": "2018-07-09T16:51:31.448510Z",
     "start_time": "2018-07-09T16:51:31.444983Z"
    }
   },
   "outputs": [],
   "source": [
    "def sentiplot(filename, title):\n",
    "    fig = plt.figure()\n",
    "    sent= a_sentiment(filename)    \n",
    "    plt.plot(sent,label=title)\n",
    "    plt.ylabel(\"Cumulative Emotional Valence\")\n",
    "    plt.xlabel(\"Sentence #\")    \n",
    "    plt.legend()\n"
   ]
  },
  {
   "cell_type": "markdown",
   "metadata": {
    "collapsed": true
   },
   "source": [
    "### Plot Stories"
   ]
  },
  {
   "cell_type": "code",
   "execution_count": 12,
   "metadata": {
    "ExecuteTime": {
     "end_time": "2018-07-09T16:51:31.455340Z",
     "start_time": "2018-07-09T16:51:31.450728Z"
    }
   },
   "outputs": [],
   "source": [
    "def plot_story(title,df=sentDF,f=.1,d=0.0):\n",
    "    bookDF = df.loc[df['title'] == title]\n",
    "    sentiment = list(bookDF.sentiment)\n",
    "    lowX = list(range(1,len(sentiment)+1))\n",
    "    #print(len(sent),len(lowX))\n",
    "    low_plot = lowess(sentiment,lowX,frac=.1,return_sorted=False,delta=d)\n",
    "    #f2 = interp1d(lowX, sentiment, kind='cubic')\n",
    "    title = title\n",
    "    #y = np.arange(-1.0,2.0,.1)\n",
    "    fig = plt.figure()\n",
    "    plt.plot(low_plot,label=title)\n",
    "    plt.ylabel(\"Sentiment Score\")\n",
    "    plt.xlabel(\"Sentence #\")    \n",
    "    plt.legend()\n",
    "    plt.savefig('images/'+title+'.svg')\n",
    "   \n",
    "    #mpld3.show()\n",
    "    return"
   ]
  },
  {
   "cell_type": "markdown",
   "metadata": {},
   "source": [
    "## Data Processing"
   ]
  },
  {
   "cell_type": "markdown",
   "metadata": {},
   "source": [
    "**Create a dictionary from all books**"
   ]
  },
  {
   "cell_type": "code",
   "execution_count": 13,
   "metadata": {
    "ExecuteTime": {
     "end_time": "2018-07-09T16:51:32.450601Z",
     "start_time": "2018-07-09T16:51:31.457266Z"
    }
   },
   "outputs": [],
   "source": [
    "book_list = []\n",
    "book_dict = {}\n",
    "path = \"/Users/xavier/dev/metis/fletcher/books/\"\n",
    "for file in os.listdir(path):\n",
    "    if file.endswith(\".txt\"):\n",
    "        clean_name = file.replace(\" - Stephen King.txt\",\"\")\n",
    "        book_dict[clean_name] = open(path+file, \"r\").read()\n",
    "        book_list.append(clean_name)"
   ]
  },
  {
   "cell_type": "code",
   "execution_count": 14,
   "metadata": {
    "ExecuteTime": {
     "end_time": "2018-07-09T16:51:40.714390Z",
     "start_time": "2018-07-09T16:51:32.452651Z"
    }
   },
   "outputs": [],
   "source": [
    "# Insert the books into mongo db\n",
    "clean_list = []\n",
    "for k,v in book_dict.items():\n",
    "    try:\n",
    "        year = re.search(\"[Cc]opyright ©\\s*.*_*(\\d{4}).*Stephen King|[Cc]opyright ©\\s.*Stephen King.*_*(\\d{4})|[Cc]opyright ©\\s*.*_*(\\d{4}).*Richard Bachman|[Cc]opyright ©\\s.*Richard Bachman.*_*(\\d{4})\",v).group(0) # get copyright year from book text\n",
    "        year = re.search(\"(\\d{4})\",year).group(0)\n",
    "    except:\n",
    "        year = \"\"\n",
    "    try:\n",
    "        isbn = re.search(\".*ISBN+:*(\\d*.*)\",v)[1].split(\" \")\n",
    "        isbn = max(isbn, key=len)\n",
    "    except:\n",
    "        isbn = \"\"\n",
    "    try:\n",
    "        start = v.find('******start_of_file******')+25\n",
    "        end = v.find('******end_of_file******')\n",
    "        text = v[start:end]\n",
    "    except:\n",
    "        text = \"\"\n",
    "        \n",
    "    doc = {\"title\":k,\"year\":year,'isbn':isbn,\"content\":text}\n",
    "    clean_list.append(doc)\n",
    "    #print(doc['title'],doc['isbn'])\n",
    "    #print(doc['title'],doc['year'])\n",
    "    #db.books.insert_one(doc)"
   ]
  },
  {
   "cell_type": "code",
   "execution_count": 15,
   "metadata": {
    "ExecuteTime": {
     "end_time": "2018-07-09T16:51:40.724945Z",
     "start_time": "2018-07-09T16:51:40.716281Z"
    }
   },
   "outputs": [],
   "source": [
    "df = pd.DataFrame(clean_list)"
   ]
  },
  {
   "cell_type": "code",
   "execution_count": 16,
   "metadata": {
    "ExecuteTime": {
     "end_time": "2018-07-09T16:51:40.905802Z",
     "start_time": "2018-07-09T16:51:40.727051Z"
    }
   },
   "outputs": [],
   "source": [
    "df.to_pickle('books.pkl')"
   ]
  },
  {
   "cell_type": "markdown",
   "metadata": {
    "ExecuteTime": {
     "end_time": "2017-11-06T21:26:34.672733Z",
     "start_time": "2017-11-06T21:26:34.669109Z"
    }
   },
   "source": [
    "### Import Pickle"
   ]
  },
  {
   "cell_type": "code",
   "execution_count": 17,
   "metadata": {
    "ExecuteTime": {
     "end_time": "2018-07-09T16:51:41.033925Z",
     "start_time": "2018-07-09T16:51:40.908455Z"
    }
   },
   "outputs": [],
   "source": [
    "df = pd.read_pickle('books.pkl')"
   ]
  },
  {
   "cell_type": "code",
   "execution_count": 18,
   "metadata": {
    "ExecuteTime": {
     "end_time": "2018-07-09T16:51:41.049508Z",
     "start_time": "2018-07-09T16:51:41.035823Z"
    }
   },
   "outputs": [
    {
     "data": {
      "text/plain": [
       "['content', 'isbn', 'title', 'year']"
      ]
     },
     "execution_count": 18,
     "metadata": {},
     "output_type": "execute_result"
    }
   ],
   "source": [
    "df.columns.tolist()"
   ]
  },
  {
   "cell_type": "code",
   "execution_count": 19,
   "metadata": {
    "ExecuteTime": {
     "end_time": "2018-07-09T16:51:41.143207Z",
     "start_time": "2018-07-09T16:51:41.051669Z"
    },
    "scrolled": true
   },
   "outputs": [
    {
     "data": {
      "text/html": [
       "<div>\n",
       "<style scoped>\n",
       "    .dataframe tbody tr th:only-of-type {\n",
       "        vertical-align: middle;\n",
       "    }\n",
       "\n",
       "    .dataframe tbody tr th {\n",
       "        vertical-align: top;\n",
       "    }\n",
       "\n",
       "    .dataframe thead th {\n",
       "        text-align: right;\n",
       "    }\n",
       "</style>\n",
       "<table border=\"1\" class=\"dataframe\">\n",
       "  <thead>\n",
       "    <tr style=\"text-align: right;\">\n",
       "      <th></th>\n",
       "      <th>content</th>\n",
       "      <th>isbn</th>\n",
       "      <th>title</th>\n",
       "      <th>year</th>\n",
       "    </tr>\n",
       "  </thead>\n",
       "  <tbody>\n",
       "    <tr>\n",
       "      <th>0</th>\n",
       "      <td>d by “Duel”\\n\\nJoe Hill and Stephen King\\n\\n\\n...</td>\n",
       "      <td>9780062215956</td>\n",
       "      <td>Throttle</td>\n",
       "      <td>2009</td>\n",
       "    </tr>\n",
       "    <tr>\n",
       "      <th>1</th>\n",
       "      <td>TS\\n\\n\\n\\nCover Page\\n\\nTitle Page\\n\\n\\n\\nIntr...</td>\n",
       "      <td>978-0-385-52884-9</td>\n",
       "      <td>Night Shift</td>\n",
       "      <td>1976</td>\n",
       "    </tr>\n",
       "    <tr>\n",
       "      <th>2</th>\n",
       "      <td>this Scribner eBook.\\n\\n\\n\\n* * *\\n\\n\\n\\nSign...</td>\n",
       "      <td>0-7432-0467-0</td>\n",
       "      <td>Riding the Bullet</td>\n",
       "      <td>2000</td>\n",
       "    </tr>\n",
       "    <tr>\n",
       "      <th>3</th>\n",
       "      <td>Page\\n\\nCopyright Page\\n\\nDedication\\n\\n\\n\\n\\...</td>\n",
       "      <td>978-1-101-13813-7</td>\n",
       "      <td>Roadwork</td>\n",
       "      <td>1981</td>\n",
       "    </tr>\n",
       "    <tr>\n",
       "      <th>4</th>\n",
       "      <td>dication\\n\\nIntroduction\\n\\nAuthor’s Note\\n\\n\\...</td>\n",
       "      <td>978-0-385-52822-1</td>\n",
       "      <td>Salem's Lot</td>\n",
       "      <td>1975</td>\n",
       "    </tr>\n",
       "  </tbody>\n",
       "</table>\n",
       "</div>"
      ],
      "text/plain": [
       "                                             content               isbn  \\\n",
       "0  d by “Duel”\\n\\nJoe Hill and Stephen King\\n\\n\\n...      9780062215956   \n",
       "1  TS\\n\\n\\n\\nCover Page\\n\\nTitle Page\\n\\n\\n\\nIntr...  978-0-385-52884-9   \n",
       "2   this Scribner eBook.\\n\\n\\n\\n* * *\\n\\n\\n\\nSign...      0-7432-0467-0   \n",
       "3   Page\\n\\nCopyright Page\\n\\nDedication\\n\\n\\n\\n\\...  978-1-101-13813-7   \n",
       "4  dication\\n\\nIntroduction\\n\\nAuthor’s Note\\n\\n\\...  978-0-385-52822-1   \n",
       "\n",
       "               title  year  \n",
       "0           Throttle  2009  \n",
       "1        Night Shift  1976  \n",
       "2  Riding the Bullet  2000  \n",
       "3           Roadwork  1981  \n",
       "4        Salem's Lot  1975  "
      ]
     },
     "execution_count": 19,
     "metadata": {},
     "output_type": "execute_result"
    }
   ],
   "source": [
    "df.head()"
   ]
  },
  {
   "cell_type": "code",
   "execution_count": 20,
   "metadata": {
    "ExecuteTime": {
     "end_time": "2018-07-09T16:51:41.155212Z",
     "start_time": "2018-07-09T16:51:41.145408Z"
    }
   },
   "outputs": [],
   "source": [
    "document = df.iloc[28]['content']"
   ]
  },
  {
   "cell_type": "code",
   "execution_count": 21,
   "metadata": {
    "ExecuteTime": {
     "end_time": "2018-07-09T16:51:41.167259Z",
     "start_time": "2018-07-09T16:51:41.161700Z"
    }
   },
   "outputs": [],
   "source": [
    "# df['content'] = df.content.apply(lambda x: x.lower())\n",
    "# df['content'] = df.content.apply(lambda x: x.strip(\"\\n\"))"
   ]
  },
  {
   "cell_type": "markdown",
   "metadata": {},
   "source": [
    "### Character extraction test"
   ]
  },
  {
   "cell_type": "code",
   "execution_count": 22,
   "metadata": {
    "ExecuteTime": {
     "end_time": "2018-07-09T16:52:03.996946Z",
     "start_time": "2018-07-09T16:51:41.181242Z"
    }
   },
   "outputs": [],
   "source": [
    "characters = extract_names(document)"
   ]
  },
  {
   "cell_type": "code",
   "execution_count": 23,
   "metadata": {
    "ExecuteTime": {
     "end_time": "2018-07-09T16:52:04.003684Z",
     "start_time": "2018-07-09T16:52:03.998598Z"
    }
   },
   "outputs": [
    {
     "data": {
      "text/plain": [
       "['Page',\n",
       " 'Copyright Page',\n",
       " 'Stephen King',\n",
       " 'Prince Peter',\n",
       " 'Flagg',\n",
       " 'Thomas',\n",
       " 'Peter',\n",
       " 'Stephen',\n",
       " 'Stephen King',\n",
       " 'Penguin Group']"
      ]
     },
     "execution_count": 23,
     "metadata": {},
     "output_type": "execute_result"
    }
   ],
   "source": [
    "characters[:10]"
   ]
  },
  {
   "cell_type": "code",
   "execution_count": 24,
   "metadata": {
    "ExecuteTime": {
     "end_time": "2018-07-09T16:52:04.010000Z",
     "start_time": "2018-07-09T16:52:04.005311Z"
    }
   },
   "outputs": [],
   "source": [
    "characters = [s.split(\" \") for s in characters]"
   ]
  },
  {
   "cell_type": "code",
   "execution_count": 25,
   "metadata": {
    "ExecuteTime": {
     "end_time": "2018-07-09T16:52:04.015830Z",
     "start_time": "2018-07-09T16:52:04.012117Z"
    }
   },
   "outputs": [],
   "source": [
    "flat_list = [item for sublist in characters for item in sublist]"
   ]
  },
  {
   "cell_type": "code",
   "execution_count": 26,
   "metadata": {
    "ExecuteTime": {
     "end_time": "2018-07-09T16:52:04.022101Z",
     "start_time": "2018-07-09T16:52:04.017666Z"
    }
   },
   "outputs": [
    {
     "data": {
      "text/plain": [
       "['Page',\n",
       " 'Copyright',\n",
       " 'Page',\n",
       " 'Stephen',\n",
       " 'King',\n",
       " 'Prince',\n",
       " 'Peter',\n",
       " 'Flagg',\n",
       " 'Thomas',\n",
       " 'Peter']"
      ]
     },
     "execution_count": 26,
     "metadata": {},
     "output_type": "execute_result"
    }
   ],
   "source": [
    "flat_list[:10]"
   ]
  },
  {
   "cell_type": "code",
   "execution_count": 27,
   "metadata": {
    "ExecuteTime": {
     "end_time": "2018-07-09T16:52:04.028473Z",
     "start_time": "2018-07-09T16:52:04.024313Z"
    }
   },
   "outputs": [],
   "source": [
    "characters = set(flat_list)\n",
    "characters = list(characters)"
   ]
  },
  {
   "cell_type": "code",
   "execution_count": 28,
   "metadata": {
    "ExecuteTime": {
     "end_time": "2018-07-09T16:52:04.033470Z",
     "start_time": "2018-07-09T16:52:04.030636Z"
    }
   },
   "outputs": [],
   "source": [
    "stoplist = list(stoplist)\n",
    "stoplist.extend(characters)\n",
    "stoplist = set(stoplist)"
   ]
  },
  {
   "cell_type": "markdown",
   "metadata": {},
   "source": [
    "### Word Tokenize"
   ]
  },
  {
   "cell_type": "code",
   "execution_count": 29,
   "metadata": {
    "ExecuteTime": {
     "end_time": "2018-07-09T16:52:04.038470Z",
     "start_time": "2018-07-09T16:52:04.035526Z"
    }
   },
   "outputs": [],
   "source": [
    "# df['content'] = df.content.apply(lambda x: word_tokenize(x))"
   ]
  },
  {
   "cell_type": "code",
   "execution_count": 30,
   "metadata": {
    "ExecuteTime": {
     "end_time": "2018-07-09T16:52:04.044139Z",
     "start_time": "2018-07-09T16:52:04.041302Z"
    }
   },
   "outputs": [],
   "source": [
    "# df.head()"
   ]
  },
  {
   "cell_type": "markdown",
   "metadata": {},
   "source": [
    "### Omit Stop Words"
   ]
  },
  {
   "cell_type": "code",
   "execution_count": 31,
   "metadata": {
    "ExecuteTime": {
     "end_time": "2018-07-09T16:52:06.930527Z",
     "start_time": "2018-07-09T16:52:04.046179Z"
    }
   },
   "outputs": [],
   "source": [
    "df['content'] = df.content.apply(lambda x: [word for word in x if word not in stoplist])"
   ]
  },
  {
   "cell_type": "code",
   "execution_count": 32,
   "metadata": {
    "ExecuteTime": {
     "end_time": "2018-07-09T16:52:06.946809Z",
     "start_time": "2018-07-09T16:52:06.932630Z"
    },
    "scrolled": true
   },
   "outputs": [
    {
     "data": {
      "text/html": [
       "<div>\n",
       "<style scoped>\n",
       "    .dataframe tbody tr th:only-of-type {\n",
       "        vertical-align: middle;\n",
       "    }\n",
       "\n",
       "    .dataframe tbody tr th {\n",
       "        vertical-align: top;\n",
       "    }\n",
       "\n",
       "    .dataframe thead th {\n",
       "        text-align: right;\n",
       "    }\n",
       "</style>\n",
       "<table border=\"1\" class=\"dataframe\">\n",
       "  <thead>\n",
       "    <tr style=\"text-align: right;\">\n",
       "      <th></th>\n",
       "      <th>content</th>\n",
       "      <th>isbn</th>\n",
       "      <th>title</th>\n",
       "      <th>year</th>\n",
       "    </tr>\n",
       "  </thead>\n",
       "  <tbody>\n",
       "    <tr>\n",
       "      <th>0</th>\n",
       "      <td>[ , b,  , “, D, u, e, l, ”, \\n, \\n, J, e,  , H...</td>\n",
       "      <td>9780062215956</td>\n",
       "      <td>Throttle</td>\n",
       "      <td>2009</td>\n",
       "    </tr>\n",
       "    <tr>\n",
       "      <th>1</th>\n",
       "      <td>[T, S, \\n, \\n, \\n, \\n, C, v, e, r,  , P, g, e,...</td>\n",
       "      <td>978-0-385-52884-9</td>\n",
       "      <td>Night Shift</td>\n",
       "      <td>1976</td>\n",
       "    </tr>\n",
       "    <tr>\n",
       "      <th>2</th>\n",
       "      <td>[ , h,  , S, c, r, b, n, e, r,  , e, B, k, \\n,...</td>\n",
       "      <td>0-7432-0467-0</td>\n",
       "      <td>Riding the Bullet</td>\n",
       "      <td>2000</td>\n",
       "    </tr>\n",
       "    <tr>\n",
       "      <th>3</th>\n",
       "      <td>[ , P, g, e, \\n, \\n, C, p, r, g, h,  , P, g, e...</td>\n",
       "      <td>978-1-101-13813-7</td>\n",
       "      <td>Roadwork</td>\n",
       "      <td>1981</td>\n",
       "    </tr>\n",
       "    <tr>\n",
       "      <th>4</th>\n",
       "      <td>[c, n, \\n, \\n, I, n, r, u, c, n, \\n, \\n, A, u,...</td>\n",
       "      <td>978-0-385-52822-1</td>\n",
       "      <td>Salem's Lot</td>\n",
       "      <td>1975</td>\n",
       "    </tr>\n",
       "  </tbody>\n",
       "</table>\n",
       "</div>"
      ],
      "text/plain": [
       "                                             content               isbn  \\\n",
       "0  [ , b,  , “, D, u, e, l, ”, \\n, \\n, J, e,  , H...      9780062215956   \n",
       "1  [T, S, \\n, \\n, \\n, \\n, C, v, e, r,  , P, g, e,...  978-0-385-52884-9   \n",
       "2  [ , h,  , S, c, r, b, n, e, r,  , e, B, k, \\n,...      0-7432-0467-0   \n",
       "3  [ , P, g, e, \\n, \\n, C, p, r, g, h,  , P, g, e...  978-1-101-13813-7   \n",
       "4  [c, n, \\n, \\n, I, n, r, u, c, n, \\n, \\n, A, u,...  978-0-385-52822-1   \n",
       "\n",
       "               title  year  \n",
       "0           Throttle  2009  \n",
       "1        Night Shift  1976  \n",
       "2  Riding the Bullet  2000  \n",
       "3           Roadwork  1981  \n",
       "4        Salem's Lot  1975  "
      ]
     },
     "execution_count": 32,
     "metadata": {},
     "output_type": "execute_result"
    }
   ],
   "source": [
    "df.head()"
   ]
  },
  {
   "cell_type": "markdown",
   "metadata": {},
   "source": [
    "### Convert tokens back to a long string"
   ]
  },
  {
   "cell_type": "code",
   "execution_count": 33,
   "metadata": {
    "ExecuteTime": {
     "end_time": "2018-07-09T16:52:07.696604Z",
     "start_time": "2018-07-09T16:52:06.948984Z"
    }
   },
   "outputs": [],
   "source": [
    "df['content'] = df.content.apply(lambda x: \" \".join(x))"
   ]
  },
  {
   "cell_type": "code",
   "execution_count": 34,
   "metadata": {
    "ExecuteTime": {
     "end_time": "2018-07-09T16:52:07.722586Z",
     "start_time": "2018-07-09T16:52:07.698278Z"
    },
    "scrolled": true
   },
   "outputs": [
    {
     "data": {
      "text/html": [
       "<div>\n",
       "<style scoped>\n",
       "    .dataframe tbody tr th:only-of-type {\n",
       "        vertical-align: middle;\n",
       "    }\n",
       "\n",
       "    .dataframe tbody tr th {\n",
       "        vertical-align: top;\n",
       "    }\n",
       "\n",
       "    .dataframe thead th {\n",
       "        text-align: right;\n",
       "    }\n",
       "</style>\n",
       "<table border=\"1\" class=\"dataframe\">\n",
       "  <thead>\n",
       "    <tr style=\"text-align: right;\">\n",
       "      <th></th>\n",
       "      <th>content</th>\n",
       "      <th>isbn</th>\n",
       "      <th>title</th>\n",
       "      <th>year</th>\n",
       "    </tr>\n",
       "  </thead>\n",
       "  <tbody>\n",
       "    <tr>\n",
       "      <th>0</th>\n",
       "      <td>b   “ D u e l ” \\n \\n J e   H l l   n   S e ...</td>\n",
       "      <td>9780062215956</td>\n",
       "      <td>Throttle</td>\n",
       "      <td>2009</td>\n",
       "    </tr>\n",
       "    <tr>\n",
       "      <th>1</th>\n",
       "      <td>T S \\n \\n \\n \\n C v e r   P g e \\n \\n T l e   ...</td>\n",
       "      <td>978-0-385-52884-9</td>\n",
       "      <td>Night Shift</td>\n",
       "      <td>1976</td>\n",
       "    </tr>\n",
       "    <tr>\n",
       "      <th>2</th>\n",
       "      <td>h   S c r b n e r   e B k \\n \\n \\n \\n *   * ...</td>\n",
       "      <td>0-7432-0467-0</td>\n",
       "      <td>Riding the Bullet</td>\n",
       "      <td>2000</td>\n",
       "    </tr>\n",
       "    <tr>\n",
       "      <th>3</th>\n",
       "      <td>P g e \\n \\n C p r g h   P g e \\n \\n D e c n ...</td>\n",
       "      <td>978-1-101-13813-7</td>\n",
       "      <td>Roadwork</td>\n",
       "      <td>1981</td>\n",
       "    </tr>\n",
       "    <tr>\n",
       "      <th>4</th>\n",
       "      <td>c n \\n \\n I n r u c n \\n \\n A u h r ’   N e \\n...</td>\n",
       "      <td>978-0-385-52822-1</td>\n",
       "      <td>Salem's Lot</td>\n",
       "      <td>1975</td>\n",
       "    </tr>\n",
       "  </tbody>\n",
       "</table>\n",
       "</div>"
      ],
      "text/plain": [
       "                                             content               isbn  \\\n",
       "0    b   “ D u e l ” \\n \\n J e   H l l   n   S e ...      9780062215956   \n",
       "1  T S \\n \\n \\n \\n C v e r   P g e \\n \\n T l e   ...  978-0-385-52884-9   \n",
       "2    h   S c r b n e r   e B k \\n \\n \\n \\n *   * ...      0-7432-0467-0   \n",
       "3    P g e \\n \\n C p r g h   P g e \\n \\n D e c n ...  978-1-101-13813-7   \n",
       "4  c n \\n \\n I n r u c n \\n \\n A u h r ’   N e \\n...  978-0-385-52822-1   \n",
       "\n",
       "               title  year  \n",
       "0           Throttle  2009  \n",
       "1        Night Shift  1976  \n",
       "2  Riding the Bullet  2000  \n",
       "3           Roadwork  1981  \n",
       "4        Salem's Lot  1975  "
      ]
     },
     "execution_count": 34,
     "metadata": {},
     "output_type": "execute_result"
    }
   ],
   "source": [
    "df.head()"
   ]
  },
  {
   "cell_type": "markdown",
   "metadata": {},
   "source": [
    "### Sentence Tokenize"
   ]
  },
  {
   "cell_type": "code",
   "execution_count": 35,
   "metadata": {
    "ExecuteTime": {
     "end_time": "2018-07-09T16:52:12.157961Z",
     "start_time": "2018-07-09T16:52:07.726253Z"
    }
   },
   "outputs": [],
   "source": [
    "df['content'] = df.content.apply(lambda x: sent_tokenize(x))"
   ]
  },
  {
   "cell_type": "code",
   "execution_count": 36,
   "metadata": {
    "ExecuteTime": {
     "end_time": "2018-07-09T16:52:12.177828Z",
     "start_time": "2018-07-09T16:52:12.160121Z"
    }
   },
   "outputs": [
    {
     "data": {
      "text/html": [
       "<div>\n",
       "<style scoped>\n",
       "    .dataframe tbody tr th:only-of-type {\n",
       "        vertical-align: middle;\n",
       "    }\n",
       "\n",
       "    .dataframe tbody tr th {\n",
       "        vertical-align: top;\n",
       "    }\n",
       "\n",
       "    .dataframe thead th {\n",
       "        text-align: right;\n",
       "    }\n",
       "</style>\n",
       "<table border=\"1\" class=\"dataframe\">\n",
       "  <thead>\n",
       "    <tr style=\"text-align: right;\">\n",
       "      <th></th>\n",
       "      <th>content</th>\n",
       "      <th>isbn</th>\n",
       "      <th>title</th>\n",
       "      <th>year</th>\n",
       "    </tr>\n",
       "  </thead>\n",
       "  <tbody>\n",
       "    <tr>\n",
       "      <th>0</th>\n",
       "      <td>[  b   “ D u e l ” \\n \\n J e   H l l   n   S e...</td>\n",
       "      <td>9780062215956</td>\n",
       "      <td>Throttle</td>\n",
       "      <td>2009</td>\n",
       "    </tr>\n",
       "    <tr>\n",
       "      <th>1</th>\n",
       "      <td>[T S \\n \\n \\n \\n C v e r   P g e \\n \\n T l e  ...</td>\n",
       "      <td>978-0-385-52884-9</td>\n",
       "      <td>Night Shift</td>\n",
       "      <td>1976</td>\n",
       "    </tr>\n",
       "    <tr>\n",
       "      <th>2</th>\n",
       "      <td>[  h   S c r b n e r   e B k \\n \\n \\n \\n *   *...</td>\n",
       "      <td>0-7432-0467-0</td>\n",
       "      <td>Riding the Bullet</td>\n",
       "      <td>2000</td>\n",
       "    </tr>\n",
       "    <tr>\n",
       "      <th>3</th>\n",
       "      <td>[  P g e \\n \\n C p r g h   P g e \\n \\n D e c n...</td>\n",
       "      <td>978-1-101-13813-7</td>\n",
       "      <td>Roadwork</td>\n",
       "      <td>1981</td>\n",
       "    </tr>\n",
       "    <tr>\n",
       "      <th>4</th>\n",
       "      <td>[c n \\n \\n I n r u c n \\n \\n A u h r ’   N e \\...</td>\n",
       "      <td>978-0-385-52822-1</td>\n",
       "      <td>Salem's Lot</td>\n",
       "      <td>1975</td>\n",
       "    </tr>\n",
       "  </tbody>\n",
       "</table>\n",
       "</div>"
      ],
      "text/plain": [
       "                                             content               isbn  \\\n",
       "0  [  b   “ D u e l ” \\n \\n J e   H l l   n   S e...      9780062215956   \n",
       "1  [T S \\n \\n \\n \\n C v e r   P g e \\n \\n T l e  ...  978-0-385-52884-9   \n",
       "2  [  h   S c r b n e r   e B k \\n \\n \\n \\n *   *...      0-7432-0467-0   \n",
       "3  [  P g e \\n \\n C p r g h   P g e \\n \\n D e c n...  978-1-101-13813-7   \n",
       "4  [c n \\n \\n I n r u c n \\n \\n A u h r ’   N e \\...  978-0-385-52822-1   \n",
       "\n",
       "               title  year  \n",
       "0           Throttle  2009  \n",
       "1        Night Shift  1976  \n",
       "2  Riding the Bullet  2000  \n",
       "3           Roadwork  1981  \n",
       "4        Salem's Lot  1975  "
      ]
     },
     "execution_count": 36,
     "metadata": {},
     "output_type": "execute_result"
    }
   ],
   "source": [
    "df.head()"
   ]
  },
  {
   "cell_type": "markdown",
   "metadata": {},
   "source": [
    "### Stem Words"
   ]
  },
  {
   "cell_type": "code",
   "execution_count": 37,
   "metadata": {
    "ExecuteTime": {
     "end_time": "2018-07-09T16:52:12.183200Z",
     "start_time": "2018-07-09T16:52:12.180214Z"
    }
   },
   "outputs": [],
   "source": [
    "from nltk.stem.snowball import SnowballStemmer\n",
    "stemmer = SnowballStemmer(\"english\")"
   ]
  },
  {
   "cell_type": "code",
   "execution_count": 38,
   "metadata": {
    "ExecuteTime": {
     "end_time": "2018-07-09T16:52:21.524861Z",
     "start_time": "2018-07-09T16:52:12.185494Z"
    }
   },
   "outputs": [],
   "source": [
    "df['content'] = df.content.apply(lambda x: [stemmer.stem(word) for word in x])"
   ]
  },
  {
   "cell_type": "code",
   "execution_count": 39,
   "metadata": {
    "ExecuteTime": {
     "end_time": "2018-07-09T16:52:21.546359Z",
     "start_time": "2018-07-09T16:52:21.527388Z"
    }
   },
   "outputs": [
    {
     "data": {
      "text/html": [
       "<div>\n",
       "<style scoped>\n",
       "    .dataframe tbody tr th:only-of-type {\n",
       "        vertical-align: middle;\n",
       "    }\n",
       "\n",
       "    .dataframe tbody tr th {\n",
       "        vertical-align: top;\n",
       "    }\n",
       "\n",
       "    .dataframe thead th {\n",
       "        text-align: right;\n",
       "    }\n",
       "</style>\n",
       "<table border=\"1\" class=\"dataframe\">\n",
       "  <thead>\n",
       "    <tr style=\"text-align: right;\">\n",
       "      <th></th>\n",
       "      <th>content</th>\n",
       "      <th>isbn</th>\n",
       "      <th>title</th>\n",
       "      <th>year</th>\n",
       "    </tr>\n",
       "  </thead>\n",
       "  <tbody>\n",
       "    <tr>\n",
       "      <th>0</th>\n",
       "      <td>[  b   “ d u e l ” \\n \\n j e   h l l   n   s e...</td>\n",
       "      <td>9780062215956</td>\n",
       "      <td>Throttle</td>\n",
       "      <td>2009</td>\n",
       "    </tr>\n",
       "    <tr>\n",
       "      <th>1</th>\n",
       "      <td>[t s \\n \\n \\n \\n c v e r   p g e \\n \\n t l e  ...</td>\n",
       "      <td>978-0-385-52884-9</td>\n",
       "      <td>Night Shift</td>\n",
       "      <td>1976</td>\n",
       "    </tr>\n",
       "    <tr>\n",
       "      <th>2</th>\n",
       "      <td>[  h   s c r b n e r   e b k \\n \\n \\n \\n *   *...</td>\n",
       "      <td>0-7432-0467-0</td>\n",
       "      <td>Riding the Bullet</td>\n",
       "      <td>2000</td>\n",
       "    </tr>\n",
       "    <tr>\n",
       "      <th>3</th>\n",
       "      <td>[  p g e \\n \\n c p r g h   p g e \\n \\n d e c n...</td>\n",
       "      <td>978-1-101-13813-7</td>\n",
       "      <td>Roadwork</td>\n",
       "      <td>1981</td>\n",
       "    </tr>\n",
       "    <tr>\n",
       "      <th>4</th>\n",
       "      <td>[c n \\n \\n i n r u c n \\n \\n a u h r '   n e \\...</td>\n",
       "      <td>978-0-385-52822-1</td>\n",
       "      <td>Salem's Lot</td>\n",
       "      <td>1975</td>\n",
       "    </tr>\n",
       "  </tbody>\n",
       "</table>\n",
       "</div>"
      ],
      "text/plain": [
       "                                             content               isbn  \\\n",
       "0  [  b   “ d u e l ” \\n \\n j e   h l l   n   s e...      9780062215956   \n",
       "1  [t s \\n \\n \\n \\n c v e r   p g e \\n \\n t l e  ...  978-0-385-52884-9   \n",
       "2  [  h   s c r b n e r   e b k \\n \\n \\n \\n *   *...      0-7432-0467-0   \n",
       "3  [  p g e \\n \\n c p r g h   p g e \\n \\n d e c n...  978-1-101-13813-7   \n",
       "4  [c n \\n \\n i n r u c n \\n \\n a u h r '   n e \\...  978-0-385-52822-1   \n",
       "\n",
       "               title  year  \n",
       "0           Throttle  2009  \n",
       "1        Night Shift  1976  \n",
       "2  Riding the Bullet  2000  \n",
       "3           Roadwork  1981  \n",
       "4        Salem's Lot  1975  "
      ]
     },
     "execution_count": 39,
     "metadata": {},
     "output_type": "execute_result"
    }
   ],
   "source": [
    "df.head()"
   ]
  },
  {
   "cell_type": "code",
   "execution_count": 40,
   "metadata": {
    "ExecuteTime": {
     "end_time": "2018-07-09T16:52:21.552387Z",
     "start_time": "2018-07-09T16:52:21.548801Z"
    }
   },
   "outputs": [],
   "source": [
    "titles = df.title"
   ]
  },
  {
   "cell_type": "code",
   "execution_count": 41,
   "metadata": {
    "ExecuteTime": {
     "end_time": "2018-07-09T16:52:21.558213Z",
     "start_time": "2018-07-09T16:52:21.554670Z"
    }
   },
   "outputs": [],
   "source": [
    "books = df.content"
   ]
  },
  {
   "cell_type": "code",
   "execution_count": 42,
   "metadata": {
    "ExecuteTime": {
     "end_time": "2018-07-09T16:52:21.580171Z",
     "start_time": "2018-07-09T16:52:21.561554Z"
    }
   },
   "outputs": [
    {
     "data": {
      "text/plain": [
       "[\"c n \\n \\n i n r u c n \\n \\n a u h r '   n e \\n \\n \\n \\n ' s a l e m ' s   l o t \\n \\n \\n \\n p r l g u e \\n \\n p r   o n e \\n \\n t h e   m r e n   h u e \\n \\n c h p e r   o n e   b e n   i \\n \\n c h p e r   t w   s u n   i \\n \\n c h p e r   t h r e e   t h e   l   i \\n \\n c h p e r   f u r   d n n   g l c k   n   o h e r \\n \\n c h p e r   f v e   b e n   i i \\n \\n c h p e r   s x   t h e   l   i i \\n \\n c h p e r   s e v e n   m \\n \\n p r   t w \\n \\n t h e   e p e r r   f   i c e   c r e \\n \\n c h p e r   e g h   b e n   i i i \\n \\n c h p e r   n n e   s u n   i i \\n \\n c h p e r   t e n   t h e   l   i i i \\n \\n c h p e r   e l e v e n   b e n   i v \\n \\n c h p e r   t w e l v e   m r k \\n \\n c h p e r   t h r e e n   f h e r   c l l h n \\n \\n p r   t h r e e \\n \\n t h e   d e e r e   v l l g e \\n \\n c h p e r   f u r e e n   t h e   l   i v \\n \\n c h p e r   f f e e n   b e n   n   m r k \\n \\n e p l g u e \\n \\n \\n \\n o n e   f r   h e   r \\n \\n j e r u l e '   l \\n \\n d e l e e   s c e n e \\n \\n \\n \\n a f e r w r \\n \\n c p r g h \\n \\n \\n \\n \\n \\n f r   n   r c h e l   k n g \\n \\n “ … p r e     k e e p ” \\n \\n \\n \\n \\n \\n i n r u c n     ' s l e '   l \\n \\n b   s e p h e n   k n g \\n \\n m   f h e r - n - l w     n w   r e r e   b u   w h e n   h e   w   w r k n g   f r   m n e '   d e p r e n   f   h u n   s e r v c e   h e   h     v e r   c l   g n   n   h   f f c e   i     o n c e   i   h a d   n o   c h i l d r e n   a n d   e i g h t   i d e a s   n o w   i   h a v e   e i g h t   c h i l d r e n   a n d   n o   i d e a s   i   l k e   h   b e c u e   n c e   i   h   n   p u b l h e   n v e l   n   r u g h l   w   h u n r e   e   b u   h e   r   n   c r f   f   w r n g   f c n   w   h u n r e   n   f f   n     g     n w   i   h v e   j u   b u   f f   p u b l h e   n v e l       c r e   n   n l   n e   u r v v n g   e   b u   f c n ;     w r n g   e n r     u g h   b   u r   r u l   w u l   p r b b l   l   b u   f f e e n   n u e \\n \\n o n e   f   h e   e   i   h   n   h e   g   l     w   h     w u l   b e   p e r f e c l   p b l e     c b n e   h e   v e r l r - v p r e   h   f r   b r   s k e r '   d r c u l   w h   h e   n u r l c   f c n   f   f r n k   n r r   n   h e   e c   h r r r   c c   i '   l v e       c h l … n   c e   u   w h     g r e   a e r c n   n v e l   i   w   w e n - h r e e   r e e b e r     c u   e     b r e k   i   h     e c h n g   c e r f c e   u p n   w h c h   h e   n k   h   h r l   r e   i   h   p u b l h e   e g h   h r   r e   n   i   h     p e r f e c l   n n e   u n   f   c n f e n c e   n     w n   b l   n     e n n     l l   r c u l u   e n e   f     w n   p r n c e   i   l   h     w f e   w h     p e w r e r   w h   l k e     r e — n   h e   l   w   h n g   w h c h   i   k   f r   g r n e   h e n   u r n e   u     b e   h e     p r n   h n g   f   l l \\n \\n d   i   r e l l   h n k   i   c u l   c b n e   d r c u l   n   t l e   f r   h e   c r p   n   c e   u   w h   m b - d c k ?\",\n",
       " \"i     i   r e l l     i   e v e n   p l n n e     e c n     h e   f r n   c l l e   “ e x r c ”   w h e r e   i   w u l   n c l u e   n e   c l p p n g   n   e p g r   b u   v p r e     m e l v l l e   e   b u   w h l e     h e   f r n   f   h   b k   w   i   u n e   b   h e   f c   h   m b - d c k   n l   l   b u   w e l v e   c p e   n   m e l v l l e '   l f e e ?\",\n",
       " \"n   i ;   n e   f     e   w   h     n v e l   k e   h e   l n g   v e w   h e   l f   v e w   n   h   e   n   n c l u e   h e   p r c e   f   e g g   m   w f e   w u l   n   h v e   g r e e   n   i   u b   f   m r   m e l v l l e   w u l   h v e   e h e r \\n \\n i n   n   c e   i   l k e   h e   e   f     v p r e   n v e l   e r v n g       b l n c e   f r   s k e r '   w h c h   h     g   w n   n   h r     h e     p c   c r   n v e l   f   l l   e   c u n   d r c u l   u l n e u l   f e r e   n   w r h p p e   n   h   r k   l l e   e u r p e n   f e f   f   t r n l v n   k e   h e   f l   k e   f   k n g   h   c   n   p u n g     n   h e   r   i n   l n n   h e   e e   e n   n   w e n   f   c e n c e   n   r e n   b   g — a b r h   v n   h e l n g   w h   k n w   b u   b l   r n f u n ;   j h n   s e w r   w h   k e e p   h   r   n   w x   p h n g r p h   c l n e r ;   m n   h r k e r   w h   k e e p   h e r   n   h r h n   n   l e r   e r v e     e c r e r     h e   f e r l e   v p r e   h u n e r \\n \\n s k e r   w   c l e r l   f c n e   b   e r n   n v e n n   n   n n v n   n   h e   u n e r l n g   h e   f   h   n v e l     c l e r :   n     c n f r n n   b e w e e n     f r e g n   c h l   f   h e   d r k   p w e r   n     g r u p   f   f n e   u p n n g   b r h e r   e q u p p e   w h   l l     c n   h e   p w e r   f   r k n e   n '   n     c h n c e   d r c u l     h u n e   f r   c r f x   h   b r h   e e   b c k     t r n l v n   n   f n l l   k e     u n e   t h e   v p r e - h u n e r   p     p r c e   f r   h e r   v c r — h     s k e r '   g e n u — b u   h   h e   w l l   c e   u   n   p     n e v e r   n   u c h   u b \\n \\n w h e n   i     w n     w r e     v e r n   f   h e   r   n   1 9 7 2 —   v e r n   w h e   l f e - f r c e   w   r w n   r e   f r   h e   n e r v u l   j k e   j e w h - a e r c n   h   f   w l l   g n e   n   a l   f e l e n   h n   f r   r n n   f l k - l e — i   w     f f e r e n   w r l   n e   w h e r e   l l   f   h e   g g e   s k e r   u   h v e   r e g r e   w h   u c h   h p e f u l   w n e r   h   b e g u n     e e   n e r   n   w n r g h   n g e r u   m n e   w   h e   w r l   h   h   b e g u n     c h k e   n     w n   e f f l u e n   h   h   h k e   e l f   h r u g h   h e   b g   n   n h n g   e n e r g   r e u r c e   n   h     e l   n   n l   w h   n u c l e r   w e p n   b u   n u c l e r   p r l f e r n   b g - e   e r r r   w   h n k f u l l     h   e   l l   v e r   h e   h r z n   i   w   e l f   n     c e     h e   h e r   e n   f   h e   e c h n l g c l   r n b w   n   e   u     w r e     b k   h   w u l   r e f l e c   h   g l u   e   o n e   w h e r e   n   h r   h e   v p r e   w u l   e n   u p   e n g   h e   f e r l e   v p r e - h u n e r   f r   l u n c h   w h c h   h e       v p r e   w u l   e     n g h   f   c u r e \\n \\n i   w   b u   h r e e   h u n r e   p g e   n   h   b k — h e n   l e   s e c n   c n g — w h e n   c r r e   w   p u b l h e   n     f r   e   b u   n v e l - w r n g   w e n   w e   i   w u l   b e   e r   b e f r e   i   w u l   h e r   a l f r e   b e e r '   x   “ t h e   b k     h e   b ”   b u   i   n '   n e e   ;   i   l e r n e     f r   e l f   w r n g   h e   n v e l   h   e v e n u l l   b e c e   ' s l e '   l   o f   c u r e   h e   w r e r   c n   p e   c n r l ;   '   j u     r e l l   h   e   w r n g   c n r l l e   f c n     c l l e   “ p l n g ”   b u c k l n g   u r   e b e l   n   l e n g   h e   r   k e   v e r   h w e v e r … h     c l l e   “ r e l l n g ”   s r e l l n g       n u r l     b r e h n g ;   p l n g     h e   l e r r   v e r n   f   r f c l   r e p r n \\n \\n g v e n       v e w   f   l l   n e w   e n g l n   w n   i   h   g r w n   u p   n   n e   n   k n e w   w h   h e   w e r e   l k e   i   h   n   u b     v e r n   f   c u n   d r c u l   w u l   e e r g e   c p l e e l   r u p h n   v e r   h e   p u n   r e p r e e n v e   f   h e   r n l   w r l   r r e   g n   h   w h   i   n '   c u n   n   w   h     c h r c e r   w e r e n '   c n e n     r e n   p u n   r e p r e e n v e   i n e   h e   c e   l v e   n   b e g n       h n g — e e   r   h n g   e e   f l h l   b r v e   h n g — n   h e r   w n   m r e   f   s k e r '   c h r c e r   r e   r u n     h e   f n h   f   d r c u l   h n     h e   e n   f   ' s l e '   l   n   e   h   — g n     u n g   u h r '   w l l —   u r p r n g l   p c   b k   i '   g l   i   l l   e e   l l   h e   n c k   n   n g   n     f e n e r   l l   h e   c r   n     h e   h   w e r e   n f l c e   b   h e   n e x p e r e n c e   f     c r f n   n e w     h   r e   b u   i   l l   f n   n   p g e   f   p w e r   h e r e   a n     f e w   f   g r c e \\n \\n d u b l e   h   p u b l h e     f r   n v e l   n   h   n   p n   n     e c n   i   h   c p l e e   h   n e   n   n h e r   w h   i   h u g h   f       “ e r u ”   n v e l   c l l e   r w r k   i   h w e   h e   b h       h e n - e r   b l l   t h p n   h e   l k e   h e   b h   w e   h     l u n c h     w h c h   n h n g   w   e c e   h e n   r e     w l k   b c k     d u b l e   a   h e   c r n e r   f   p r k   a v e n u e   n   5 4 h   s r e e — e h n g   l k e   h — w e   w e r e   p p e   b     d o n ' t   w a l k   l g h   i   f n l l   p u l l e   h e   p n   n   k e   b l l   w h c h   n e   h e   h u g h   w e   h u l   p u b l h \\n \\n h e     “ r w r k   w u l   p r b b l   g e   r e   e r u   e n n   b u   s e c n   c n g     p e n   p l c e   w h   v p r e   i '     g r e   r e   n     c u l   b e     b e e l l e r   t h e r e '   n l   n e   p r b l e ” \\n \\n “ w h '   h ?\",\n",
       " \"”   i   k e     d o n ' t   w a l k   c h n g e     w a l k   n   p e p l e   r e     v e   r u n   u \\n \\n b l l   e p p e   f f   h e   c u r b   i n   n e w   y r k   u   n '   w e   h e   w a l k   e v e n   w h e n   e c n   f   e n   r e   b e n g   e   n   h — i   g h   h v e   e n e     e v e n   h e n — w   n e   h   w u l   f f e c   h e   r e   f     l f e   “ y u ' l l   b e   p e       h r r r   w r e r ”   h e   \\n \\n i   w     r e l e v e   i   l u g h e   “ i   n '   c r e   w h   h e   c l l   e     l n g     h e   c h e c k   n '   b u n c e ”   i     “ l e '   p u b l h   s e c n   c n g ”   a n   h   w   w h   w e     l h u g h   h e   n e   w   f r   c h n g e     j e r u l e '   l   b e c u e     w f e   t b b     h   s e c n   c n g   u n e   l k e     e x   n u l   n   h e n     ' s l e '   l   b e c u e   h e   d u b l e   b r     j e r u l e '   l   u n e   l k e     r e l g u   b k   i   w   n e e   p e       h r r r   w r e r     g   i   h v e   n e v e r   c n f r e   r   e n e   p l   b e c u e   i   h n k   '   r r e l e v n     w h   i     i   e   h w e v e r   g v e   b k r e     h n   p l c e     h e l v e     b k \\n \\n s n c e   h e n   i   h v e   l e   g   f   l l   b u   n e   f     e   b u   f c n - w r n g   i '   h e   n e   i   c e     f r   r u n   g e   e v e n     i   r e c l l   n   h e   n e   i ' l l   p r b b l   h l   n   u n l   h e   e n :   '   g     e l l     r   n   e v e n   b e e r   w h e n   p e p l e   c u l l   w n     l e n   i   h n k   ' s l e '   l   f r   l l     f l w     n e   f   h e   g   n e   o n e   f   h e   c r   n e   i f   u ' v e   n e v e r   h e r     b e f r e   l e   e   e l l       u   n w   a n   f   u   h v e   l e   e   e l l       u   g n   s   u r n   f f   h e   e l e v n — n   f c   w h   n '   u   u r n   f f   l l   h e   l g h   e x c e p   f r   h e   n e   v e r   u r   f v r e   c h r ?\",\n",
       " \"— n   w e ' l l   l k   b u   v p r e   h e r e   n   h e     i   h n k   i   c n   k e   u   b e l e v e   n   h e   b e c u e   w h l e   i   w   w r k n g   n   h   b k   i   b e l e v e   n   h e   e l f \\n \\n \\n c e n e r   l v e l l   m n e \\n \\n j u n e   1 5   2 0 0 5 \\n \\n \\n \\n \\n \\n a u h r '   n e \\n \\n n   n e   w r e     l n g   n v e l   l n e   n   i   w u l   l k e     k e     e n   f   u r   e     h n k   e   f   h e   p e p l e   w h   h e l p e   w h   h   n e :   g   e v e r e   m c c u c h e n   f   h p e n   a c e   f r   h   p r c c l   u g g e n   n   e n c u r g e e n ;   d r   j h n   p e r n   f   o l   t w n   m n e   e c l   e x n e r   f   p e n b c   c u n   n   e b e r   n   g   n n g   f   h     e x c e l l e n   e c l   p e c l   g e n e r l   p r c c e ;   f h e r   r e n l   h l l e e   f   s   j h n '   c h l c   c h u r c h   n   b n g r   m n e   a n   f   c u r e     w f e   w h e   c r c       u g h   n   u n f l n c h n g     e v e r \\n \\n a l h u g h   h e   w n   u r r u n n g   ' l e '   l   r e   v e r   r e l   ' l e '   l   e l f   e x   w h l l   n   h e   u h r '   g n n   n   n   r e e b l n c e   b e w e e n   h e   p e p l e   w h   l v e   h e r e   n   p e p l e   w h   l v e   n   h e   r e l   w r l     c n c e n l   n   u n n e n e \\n \\n \\n s k \\n \\n \\n \\n \\n * * * * * * s t a r t _ o f _ f i l e * * * * * * \\n p r l g u e \\n \\n o l   f r e n   w h   r e   u   l k n g   f r ?\",\n",
       " \"a f e r   h e   n   e r   b r   u   c e \\n \\n w h   g e   u   e n e \\n \\n u n e r   f r e g n   k e \\n \\n f r   w   f r   u r   w n   l n \\n \\n g e o r g e   s e f e r i s \\n \\n \\n o n e \\n \\n a l   e v e r n e   h u g h   h e   n   n   h e   b   w e r e   f h e r   n   n \\n \\n t h e   c r e   h e   c u n r   n     r b l n g   u h w e   l n e   n   n   l   c r ë n   e n   k e e p n g   l     e c n r   r   r v e l n g   n   f   n   r   t h e   p p e   n   h r e e   p l c e   l n g   h e   w   b e f r e   r e c h n g   h e r   f n l   e n n :   f r   n   r h e   i l n   w h e r e   h e   l l   n   w h   h e   b l c k   h r   w r k e   n     e x l e   l l ;   h e n   n   y u n g w n   o h   w h e r e   h e   w r k e   f r   h r e e   n h   n     r c r   e b l   l n e ;   n   f n l l   n     l l   c l f r n   w n   n e r   h e   m e x c n   b r e r   w h e r e   h e   p u p e   g   n   w r k e     r e p r n g   l l   f r e g n   c r   w h   n   u n   f   u c c e   h   w     h   u r p r n g   n   g r f n g \\n \\n w h e r e v e r   h e   p p e   h e   g     m n e   n e w p p e r   c l l e   h e   p r l n   p r e - h e r l   n   w c h e     f r   e   c n c e r n n g     l l   u h e r n   m n e   w n   n e   j e r u l e '   l   n   h e   u r r u n n g   r e   t h e r e   w e r e   u c h   e   f r   e     e \\n \\n h e   w r e   n   u l n e   f     n v e l   n   e l   r   b e f r e   h e   h   c e n r l   f l l   r h e   i l n   n   l e       h   g e n   h e   h   b e e n     l l   u c c e f u l   n v e l     l l n   e r   b e f r e   n     e   w h e n   h e   r k n e   h   n   c e   v e r   h   l f e   t h e   g e n   k   h e   u l n e     h   l   p u b l h e r   w h   e x p r e e   p l e   n e r e   b u   n   n c l n n     p r   w h   n   v n c e   n e   “ p l e e ”   n   “ h n k   u ”   h e   l   h e   b     h e   r e   h e   g e n '   l e e r   u p   w e r e   l l   f r e e   h e       w h u     u c h   b e r n e   n   e   b u   h e   b k   n w \\n \\n t h e   b     n   p e k   u c h   h   f c e   r e n e     p e r p e u l   p n c h e   l k   n   h   e e   w e r e   r k —   f   h e   l w   c n n e   e   b l e k   n n e r   h r z n   i n   h e   n e r   n   g   n   w h e r e   h e   p p e   l n g   h e   w   h e   w   p l e   n   n h n g   r e   h e   n '   e e     w n   h e   l l   n   u   f   h   g h   n   h e   b   e e e   n e r v u   e v e n   w h e n   h e   n   l e f   h     u e   h e   b h r   h e   r e f u e     l k   b u   h e   w n   f   j e r u l e '   l   l h u g h   h e   l l   n   r e     r e   h e   p c   f r   e     e   n   h e   w u l   n   l k     h e   p r l n   n e w p p e r   h e   n   e e   e l b e r e l   l e f   r u n \\n \\n w h e n   h e   b k   w   w r e n   h e   w e r e   l v n g   n     b e c h   c g e   f f   h e   h g h w   n   h e   b h   w   n   h e   p c f c     g r e   e l   i   w   w r e r   h n   h e   a l n c   n   f r e n l e r   i   h e l   n   e r e   t h e   b   b e g n     g e   v e r   b r w n \\n \\n a l h u g h   h e   w e r e   l v n g   w e l l   e n u g h     e   h r e e   q u r e   e l       n   k e e p     l   r f   v e r   h e r   h e   h e   n   h   b e g u n     f e e l   e p r e e   n   u b f u l   b u   h e   l f e   h e   w e r e   l v n g   h e   w   u r n g   h e   b   n   h e     n   e e     b e   l n g   n h n g   n   h e   w   f   e u c n   h e   b   w   b r g h   n   e   b u   b k     h e   l l   n   h   b e e n   h e l f   b u   h e   n '   h n k   h   b l n g   ' l e '   l   u   w   n g   h e   b   n   g   s e e     n g h   h e   c r e e   n   h   l e e p   n   h r h e   h e   b l n k e   n   h e   f l r \\n \\n a   l e e r   c e   f r   n e w   y r k   t h e   l l   n '   g e n     h   r n   h u e   w   f f e r n g   $ 1 2 0 0 0   n   v n c e   n     b k   c l u b   l e   w   l   c e r n   w     k ?\",\n",
       " \"i   w \\n \\n t h e   n   q u   h   j b     h e   g   n   n   h e   n   h e   b   c r e   h e   b r e r \\n \\n \\n t w o \\n \\n l   z p   w h c h   e n   “ h e   h e ”     n e   h   e c r e l   p l e e   h e   n     n   e n   w     l l   v l l g e   n   f r   f r   h e   c e n   i   w   f r l   f r e e   f   u r   t h e r e   w   n   g   r   n   c e n   v e w   u   h     g   f v e   l e   f u r h e r   w e     g e   h   n   n   h r c l   p n   f   n e r e   a l   h e   l c l   c n n   w   n f e e   w h   c c k r c h e   n   h e   n l   w h r e   w     f f - e r - l   g r n h e r \\n \\n w h   h e   s e   b e h n   h e   n   l   u n e r h l   q u e   r p p e   v e r   h e r   l v e   f e w   p l n e   w e n   v e r h e   h e r e   w e r e   n   u r n p k e   n   n   n e   w n e     p w e r   l w n   w e r   r   c r e     h v e   n e   f r     h u n r e   l e   t h e   h     r   b u   e v e n   h   w   n e   w h u   e n n g ;   h e   n e w   b r c   w e r e   l l   n   s p n h   w h c h   h e   b   b e g n     p c k   u p   b u   w h c h   r e n e — n   l w   w u l — g b b e r h     h e   n   a l l   h e   u c   e e e     c n   f   p e r   a   n g h   h e   e e   g     p p   u c   n   f r   m n e r e   e   f r n c   w h   h e   c c e n   f   w l f n   j c k   b u     f e   n   n   u   t h e   n l   r   w h n   h e r n g   n c e   w     q u n   l   r l l e r   w n e   b     l c l   f r e r   w h e n   h e   w n   w   r g h     r r e g u l r   b u r p n g   n e   w u l   c e     h e r   e r   f n l   l k e   n   u n e   p r   t h e   r e w   h e r   w e r   f r   h e   w e l l   b   h n \\n \\n o n c e   r   w c e     n h   n   l w   g e h e r   h e   e n e       h e   l l   c h u r c h   n   w n   n e h e r   f   h e   u n e r   h e   c e r e n   b u   h e   w e n   l l   h e   e   t h e   n   f u n   h e l f   e e   r w n g   n   h e   u f f c n g   h e     h e   e   f l r   r h h   n   h e   v c e   w h c h   g v e   h e   n g u e   o n e   s u n   h e   b   c e   u   n   h e   r c k e   b c k   p r c h   w h e r e   h e   n   h   b e g u n   w r k   n     n e w   n v e l   n   l   h   h e n l   h   h e   h   p k e n     h e   p r e   b u   b e n g   k e n   n   h e   c h u r c h   t h e   n   n e   n   k e   h   f   h e   h   e n u g h   s p n h     k e   n r u c n   t h e   b     h e   n '   h n k     w u l   b e     p r b l e \\n \\n t h e   n   e     f r - l e   r p   n c e     w e e k     g e   h e   p r l n   m n e   p p e r   w h c h   w   l w     l e     w e e k   l   n   w   e e   e l l w e   w h   g   u r n e   t w   w e e k   f e r   h e   b   h   l   h   f   h   n e n n   h e   f u n     f e u r e   r   b u   ' l e '   l   n     v e r n   w n   c l l e   m n   t h e   l l   n '   n e   w   e n n e   n   h e   c u r e   f   h e   r \\n \\n h e   l e f   h e   p p e r   r u n   w h   n   p r c u l r   h p e   h   h e   b   w u l   p c k     u p   t h e   r c l e   e   h   u n e   f r     n u b e r   f   r e n   i   w   n   v e r   n   ' l e '   l   e     e e e \\n \\n t h e   b   c e     h       l e r   w h   h e   p p e r   n   h   h n   f l e   p e n     e x p e   h e   h e l n e :   “ g h   t w n   n   m n e ?\",\n",
       " \"” \\n \\n “ i '   c r e ”   h e   \\n \\n “ i     ”   h e   l l   n   n w e r e \\n \\n \\n t h r e e \\n \\n g h o s t   t o w n   i n   m a i n e ?\",\n",
       " \"b   j h n   l e w \\n \\n p r e - h e r l   f e u r e   e r \\n \\n \\n \\n j e r u s a l e m ' s   l o t — j e r u l e '   l       l l   w n   e   f   c u b e r l n   n   w e n   l e   n r h   f   p r l n   i     n   h e   f r   w n   n   a e r c n   h r     j u   r   u p   n   b l w   w   n   w l l   p r b b l   n   b e   h e   l   b u       n e   f   h e   r n g e   g h   w n   r e   c n   n   h e   a e r c n   s u h w e   w h e r e   c u n e   g r e w   u p   l   v e r n g h   r u n   r c h   g l   n   l v e r   l e   n   h e n   p p e r e   l     r p l   w h e n   h e   v e n   f   r e   p l e   u   l e v n g   e p   r e   n   h e l   n   l n     r   e p l   n   e e r   l e n c e \\n \\n i n   n e w   e n g l n   h e   n l   c u n e r p r     h e   e r u   e p n g   f   j e r u l e '   l   r   ' l e '   l     h e   n v e   f e n   r e f e r       e e     b e     l l   w n   n   v e r n   c l l e   m n   d u r n g   h e   u e r   f   1 9 2 3   m n   p p r e n l   j u   r e   u p   n   b l e w   w   n   l l   3 1 2   r e e n   w e n   w h     t h e   h u e   n   f e w   l l   b u n e   b u l n g   n   h e   w n '   c e n e r   l l   n   b u   n c e   h   u e r   f f - w   e r   g   h e   h v e   b e e n   u n n h b e   i n   e   c e   h e   f u r n h n g   h   b e e n   r e v e   b u   n     h e   h u e   w e r e   l l   f u r n h e     f   n   h e   l e   f   l   l f e   e   g r e   w n   h   b l w n   l l   h e   p e p l e   w   i n   n e   h u e   h e   b l e   h   b e e n   e   f r   h e   e v e n n g   e l   c p l e e   w h     c e n e r p e c e   f   l n g - w l e   f l w e r   i n   n h e r   h e   c v e r   h   b e e n   u r n e   w n   n e l   n   n   u p r   b e r     f   f r   l e e p   i n   h e   l c l   e r c n l e   r e     r e   b l   f   c n   c l h   w   f u n   n   h e   c u n e r   n     p r c e   f   $ 1 2 2   r u n g   u p   n   h e   c h   r e g e r   i n v e g r   f u n   l   $ 5 0 0 0   n   h e   c h   r w e r   u n u c h e \\n \\n p e p l e   n   h e   r e   l k e     e n e r n   u r   w h   h e   r   n     h n   h   h e   w n     h u n e — h   h e       w h     h   r e n e   e p   e v e r   n c e   a   r e   l k e l   r e n     h   m n     l c e   n     f r g e n   c r n e r   f   h e   e   f r   f r   n   n   r   t h e r e     n h n g   h e r e   h   c u l   n   b e   u p l c e   n     h u n r e   h e r   w n — e x c e p   f   c u r e   h e   m r   c e l e e – l k e   e r   f     u e n   e p n e \\n \\n m u c h   h e   e   c u l   b e     f r   j e r u l e '   l \\n \\n i n   h e   c e n u   f   1 9 7 0   ' l e '   l   c l e   1 3 1 9   n h b n —   g n   f   e x c l   6 7   u l   n   h e   e n   e r   n c e   h e   p r e v u   c e n u   i       p r w l n g   c f r b l e   w n h p   f l r l   c l l e   h e   l   b     p r e v u   n h b n   w h e r e   l l e   f   n   n e   e v e r   k   p l c e   t h e   n l   h n g   h e   l e r   w h   r e g u l r l   g h e r e   n   h e   p r k   n   r u n   h e   v e   n   c r e n '   a g r c u l u r l   m r k e   h     l k   b u   w   h e   f r e   f   ' 5 1   w h e n     c r e l e l   e   c h   r e   n e   f   h e   l r g e   f r e   f r e   n   h e   e '   h r \\n \\n i f     n   w n e     p n   u   h   r e r e e n   n     l l   c u n r   w n   w h e r e   e v e r n e   n e   h   w n   b u n e   n   h e   b g   e v e n   f   n   g v e n   w e e k   w   p     b e   h e   l e '   a u x l r   b k e - f f   h e n   h e   l   w u l   h v e   b e e n     g   c h c e   d e g r p h c l l   h e   c e n u   f   1 9 7 0   h w e     p e r n   f l r   b h     r u r l   c l g   n     h e   l n g e   r e e n   f   n   l l   m n e   w n :     l   f   l   f l k   q u e     f e w   p r   f l k   n     l   f   u n g   f l k   w h   l e v e   h e   r e   w h   h e r   p l   u n e r   h e r   r   n e v e r     r e u r n   g n \\n \\n b u     l l e   v e r     e r   g   e h n g   b e g n     h p p e n   n   j e r u l e '   l   h   w   n   u u l   p e p l e   b e g n     r p   u   f   g h   t h e   l r g e r   p r p r n   f   h e e   n u r l l   h v e n '   p p e r e   n   h e   r e l   e n e   f   h e   w r     l l   t h e   l '   f r e r   c n b l e   p r k n   g l l e p e     l v n g   w h   h   e r   n   k e r   c h r l e   j e   w n e r   f     g   n   c r   f r   h e   r u g r e     n w   r u n n n g     r e p r   h p   n   n e g h b r n g   c u b e r l n   p u l n e   d c k e n   h   v e     l   a n g e l e   n   r h   c u r l e     w r k n g   w h   h e   s   m h e w '   m n   n   p r l n   t h e   l   f   “ u n - p p e r n c e ”   c u l   g   n   n   n \\n \\n w h     f n g   b u   h e e   f u n   p e p l e     h e r   u n n u   u n w l l n g n e — r   n b l —   l k   b u   j e r u l e '   l   n   w h   f   n h n g   g h   h v e   h p p e n e   h e r e   p r k n   g l l e p e   p l   l k e     h   r e p r e r   l     c g r e e   n     “ i   j u   e c e     l e v e ”   c h r l e   j e   c l   h e   w   f r c e     l e v e   b e c u e   h   b u n e   r e   u p   w h   h e   w n   p u l n e   d c k e n   w h   w r k e       w r e   n   h e   e x c e l l e n   c f é   f r   e r   n e v e r   n w e r e   h   r e p r e r '   l e e r   f   n q u r   a n   m r   c u r l e   r e f u e     p e k   f   ' l e '   l     l l \\n \\n s e   f   h e   n g   c n   b e   c c u n e   f r   b   e u c e   g u e w r k   n     l l e   r e e r c h   l w r e n c e   c r c k e     l c l   r e l   e e   g e n   w h   h   p p e r e   w h   h   w f e   n   u g h e r   h   l e f     n u b e r   f   q u e n b l e   b u n e   v e n u r e   n   l n   e l   b e h n   h   n c l u n g   n e   p e c e   f   p r l n   l n   p e c u l n   w h e r e   h e   p r l n   m l l   n   s h p p n g   c e n e r     n w   u n e r   c n r u c n   t h e   r c e   m c d u g l l   l   n g   h e   n g   h   l   h e r   n f n   n   e r l e r   n   h e   e r   n   h e r e   w   l l e     h l   h e   n   w n   t h e   g h   b e   n w h e r e   o h e r   f   n   h e   e   c e g r   a c c r n g     s e   p l c e   c h e f   p e e r   m c f e e   “ w e ' v e   g   r c e r   u   n     g r e   n   p e p l e   f r   j e r u l e '   l — b u   h   n '   h e   n l   m n e   w n   w h e r e   p e p l e   h v e   r p p e   u   f   g h   r c e   m c d u g l l   f r   n n c e   l e f   w n g   n e     n e   b n k   n   w   f n n c e   c p n e … n     j u g e n   h e   w   j u     f l - b - n g h e r   w h   e c e     g e   u   f r   u n e r   s e   h   e r   r   n e x   h e ' l l   u e   n e   f   h e   c r e   c r   h e '   g   n   h   w l l e   n   h e   r e p e n   e n   w l l   l n   n   h   w h   b h   f e e   i n   a e r c   n g   p e r n   r e     n u r l     c h e r r   p e   w e ' r e   l v n g   n   n   u b l e - r e n e   c e   p e p l e   p c k   u p   k e   n   v e   n   e v e r   w   r   h r e e   e r   s e e   h e   f r g e     l e v e     f r w r n g   r e   e p e c l l   h e   e b e ” \\n \\n y e   f r   l l   h e   h r h e e   p r c c l   f   c p n   m c f e e '   w r   h e r e   r e   u n n w e r e   q u e n   n   j e r u l e '   l   h e n r   p e r e   n   h   w f e   n   n   r e   g n e   n   m r   p e r e     p r u e n l   i n u r n c e   c p n   e x e c u v e   c u l   h r l   b e   c l l e     e b e   t h e   l c l   r c n   h e   l c l   l b r r n   n   h e   l c l   b e u c n   r e   l   n   h e   e - l e e r   f l e   t h e   l     f     q u e n g   l e n g h \\n \\n i n   h e   u r r u n n g   w n   h e   w h p e r n g   c p g n   h     h e   b e g n n n g   f   l e g e n   h   l r e   b e g u n   ' s l e '   l     r e p u e     b e   h u n e   s e e   c l r e   l g h   r e   r e p r e   h v e r n g   v e r   h e   c e n r l   m n e   p w e r   l n e   h   b e c   h e   w n h p   n   f   u   u g g e   h   h e   n h b n   f   h e   l   h v e   b e e n   c r r e   f f   b   u f o   n   n e   w l l   l u g h   t h e r e   h   b e e n   e   l k   f     “ r k   c v e n ”   f   u n g   p e p l e   w h   w e r e   p r c c n g   h e   b l c k     n   w n   n   p e r h p   b r u g h   h e   w r h   f   g   h e l f   n   h e   n e k e   f   h e   h l   l n '   h l e   c   o h e r   f     l e   u p e r n u r l   b e n   r e e b e r   h e   u n g   e n   w h   “ p p e r e ”   n   h e   h u n   t e x   r e   e   h r e e   e r   g   n l     b e   c v e r e   n   g r l     g r v e \\n \\n a n   c u l   v     ' l e '   l   k e   u c h   l k   e e   l e   w l   t h e r e     n   n e   b u n e   l e f   p e n   t h e   l   n e     g   u n e r   w   s p e n c e r '   s u n r e   n   p h r c   w h c h   c l e     r   n   j n u r   c r e n '   a g r c u l u r l   s r e   h e   h r w r e   r e   b r l w   n   s r k e r '   f u r n u r e   s h p   h e   e x c e l l e n   c f é   n   e v e n   h e   m u n c p l   b u l n g   r e   l l   b r e   u p   t h e   n e w   g r r   c h l     e p   n       h e   r - w n   c n l e   h g h   c h l   b u l   n   h e   l   n   1 9 6 7   t h e   c h l   f u r n h n g   n   h e   b k   h v e   b e e n   v e     k e -   f c l e   n   c u b e r l n   p e n n g     r e f e r e n u   v e   n   h e   h e r   w n   f   h e   c h l   r c   b u     e e   h   n   c h l r e n   f r   ' l e '   l   w l l   b e   n   e n n c e   w h e n     n e w   c h l   e r   b e g n   t h e r e   r e   n   c h l r e n ;   n l   b n n e   h p   n   r e   e e r e   h u e   v e r g r w n   l w n   e e r e   r e e   n   b c k   r \\n \\n s e   f   h e   h e r   p e p l e   h   h e   e   p l c e   w u l   l k e     l c e   r     l e   h e r   f r   n c l u e   j h n   g r g g n   p r   f   h e   j e r u l e '   l   m e h   c h u r c h ;   f h e r   d n l   c l l h n   p r h   p r e   f   s   a n r e w ' ;   m b e l   w e r     l c l   w w   w h   w   p r n e n   n   ' l e '   l   c h u r c h   n   c l   f u n c n ;   l e e r   n   h r r e   d u r h     l c l   c u p l e   w h   b h   w r k e     g e   m l l   n   w e v n g ;   e v   m l l e r   w h   r n     l c l   b r n g h u e … \\n \\n \\n f o u r \\n \\n t w   n h   f e r   h e   n e w p p e r   r c l e   h e   b   w   k e n   n   h e   c h u r c h   h e   e   h   f r   c n f e n — n   c n f e e   e v e r h n g \\n \\n \\n f i v e \\n \\n t h e   v l l g e   p r e   w   n   l   n   w h   w h e   h r   n     f c e   e e   n     n e   f   w r n k l e   h   e e   p e e r e   u   f   h   u n - b e e n   f c e   w h   u r p r n g   l f e   n   v   t h e   w e r e   b l u e   e e   v e r   i r h   w h e n   h e   l l   n   r r v e     h   h u e   h e   w   n g   n   h e   p r c h   n   r n k n g   e   a   n   n     c   u     b e e   h   t h e   n '   h r   w   p r e   n   h e   l e   n   g r e e   n     n n e r   h   r e n e   h e   l l   n   f   p h g r p h   p r r   f r   h e   1 8 9 0 \\n \\n t h e   n     f f l   “ i     j e ú   e   l   r e   m u ñ z   f h e r   g r c n   h   k e   e     n e r p r e     h e   h   n   e n g l h   f h e r   g r c n   h   n e     f l     g r e   e r v c e   w h c h   i     n   e n n   m   l p   r e   l k e w e   e l e   n   h e   e r   h e   w h e     c u   i     g r e e b l e     u ?\",\n",
       " \"” \\n \\n “ y e ”   h e   h k   m u ñ z '   h n   n   h e n   g r c n '   g r c n   r e p l e   n   s p n h   n   l e   h e   h   n l   f v e   e e h   l e f   n   h   j w   b u   h e   l e   w   u n n   n   g l \\n \\n “ h e   k   w u l   u   l k e     c u p   f   e ?\",\n",
       " 'i     g r e e n   e   v e r   c l n g ” \\n \\n “ t h   w u l   b e   l v e l ” \\n \\n w h e n   h e   e n e   h   p e   n g   h e   h e   p r e     “ t h e   b     n   u r   n ” \\n \\n “ n ” \\n \\n “ h e   e     r n g e   c n f e n   i n   f c   i   h v e   n e v e r   h e r     r n g e r   c n f e n   n   l l       f   h e   p r e h ” \\n \\n “ t h   e   n   u r p r e   e ” \\n \\n “ h e   w e p ”   f h e r   g r c n     p p n g   h   e   “ i   w     e e p   n   e r r b l e   w e e p n g   i   c e   f r   h e   c e l l r   f   h   u l   m u   i   k   h e   q u e n   h   c n f e n   r e   n     h e r ?',\n",
       " \"” \\n \\n “ n ”   h e   l l   n     e v e n l   “ y u   n '   h e     e l l n g   h e   r u h ” \\n \\n g r c n   w   n n g   e v e n   b e f r e   m u ñ z   r n l e   n   h   f c e   h   g r w n   g r v e   h e   l e n e   f r w r   w h   h   h n   c l p e   b e w e e n   h   k n e e   n   p k e   f r     l n g   e   m u ñ z   l e n e   n e n l   h   f c e   c r e f u l l   e x p r e n l e   w h e n   h e   p r e   f n h e   m u ñ z   : \\n \\n “ h e     h e r e   r e   r n g e   h n g   n   h e   w r l   f r   e r   g     p e n   f r   e l   g r n n e   b r u g h   h     l z r   h   c r e e     h u g h     w e r e     w n   h e   h   e e n     n   w h   g   h e   r k   f   o u r   l r '   p n   n   h   n   b l e   f r   h   h n   n   f e e   n   g   f r   h e     h     n   w f u l   h n g     r k   h n g   i     e r u   f r   u   n   h e   b   p r c u l r l   f r   h e   b   i     e n g   h   u p   h e   … ” \\n \\n g r c n   p k e   g n   b r e f l \\n \\n “ h e   k   f   u   u n e r n   w h   u   h v e   n e   n   h   n e w   j e r u l e ” \\n \\n “ j e r u l e '   l ”   h e   l l   n     “ y e   i   u n e r n ” \\n \\n g r c n   p k e   g n \\n \\n “ h e   k   w h   u   n e n       b u   ” \\n \\n t h e   l l   n   h k   h   h e   v e r   l w l   “ i   n '   k n w ” \\n \\n g r c n   p k e   g n \\n \\n “ h e     h e   w l l   p r   f r   u ” \\n \\n \\n s i x \\n \\n a   w e e k   l e r   h e   w k e   w e n g   f r     n g h r e   n   c l l e   u   h e   b '   n e \\n \\n “ i '   g n g   b c k ”   h e   \\n \\n t h e   b   p l e   b e n e h   h   n \\n \\n “ c n   u   c e   w h   e ?\",\n",
       " '”   h e   n   k e \\n \\n “ d   u   l v e   e ?',\n",
       " \"” \\n \\n “ y e   g   e ” \\n \\n t h e   b   b e g n     w e e p   n   h e   l l   n   h e l   h \\n \\n \\n s e v e n \\n \\n s l l   h e r e   w   n   l e e p   f r   h   f c e   l u r k e   n   h e   h w   w r l n g   u p     h   l k e   f c e   b c u r e   n   n w   n   w h e n   h e   w n   b l e w   n   v e r h n g n g   r e e   l b   g n   h e   r f   h e   j u p e \\n \\n j e r u l e '   l \\n \\n h e   c l e   h   e e   n   p u   h   r   c r   h e   n     l l   b e g n     c e   b c k   h e   c u l   l   e e   h e   g l   p p e r w e g h   h e   k n   h   w l l   k e     n   b l z z r   w h e n   u   h k e   \\n \\n ' s l e '   l … \\n \\n \\n \\n \\n \\n p r   o n e \\n \\n t h e   m r e n   h u e \\n \\n n   l v e   r g n   c n   c n n u e   f r   l n g     e x   n e l   u n e r   c n n   f   b l u e   r e l ;   e v e n   l r k   n   k   r e   u p p e   b   e     r e   h l l   h u e   n   n e     b   e l f   g n     h l l   h l n g   r k n e   w h n ;     h     f r   e g h   e r   n   g h   n   f r   e g h   r e   w h n   w l l   c n n u e   u p r g h   b r c k   e   n e l   f l r   w e r e   f r   n   r   w e r e   e n b l   h u ;   l e n c e   l   e l   g n   h e   w   n   n e   f   h l l   h u e   n   w h e v e r   w l k e   h e r e   w l k e   l n e \\n \\n s h i r l e y   j a c k s o n \\n \\n t h e   h u n n g   f   h l l   h u e \\n \\n \\n \\n \\n \\n c h p e r   o n e \\n \\n b e n   i \\n \\n b   h e   e   h e   h   p e   p r l n   g n g   n r h   n   h e   u r n p k e   b e n   m e r   h   b e g u n     f e e l     n   u n p l e u r b l e   n g l e   f   e x c e e n   n   h   b e l l   i   w   s e p e b e r   5   1 9 7 5   n   u e r   w   e n j n g   h e r   f n l   g r n   f l n g   t h e   r e e   w e r e   b u r n g   w h   g r e e n   h e   k   w     h g h   f   b l u e   n   j u   v e r   h e   f l u h   w n   l n e   h e   w   w   b   w l k n g     r   p r l l e l     h e   e x p r e w   w h   f h n g   r   e l e   n   h e r   h u l e r   l k e   c r b n e \\n \\n h e   w c h e     h e   r v e l   l n e   l w e     h e   n u   u r n p k e   p e e   n   b e g n     l k   f r   n h n g   h   w u l   j g   h   e r   t h e r e   w   n h n g     f r   n   h e   r e     c u n   h e l f   g n   l   u r e   p p n e n   y u   w e r e   n n e   h e n   t h '   w e n - f v e   e r   f   w e r   u n e r   h e   b r g e   p l c e   c h n g e   l k e   p e p l e \\n \\n i n   h e     h e   f u r - l n e   2 9 5   h n '   e x e   i f   u   w n e     g     p r l n   f r   h e   l   u   w e n   u   r u e   1 2     f l u h   n   h e n   g   n   n u b e r   1   t e   h   r c h e   n \\n \\n s p   h   h \\n \\n b u     w   h r     p   i   w   h r     p   w h e n — \\n \\n a   b g   b s a   c c l e   w h   j c k e   h n l e b r   u e n l   r r e   p   h   n   h e   p n g   l n e     k   n     t - h r   r v n g     g r l   n     r e   c l h   j c k e   n   h u g e   r r r - l e n e   u n g l e   r n g   p l l n   b e h n   h   t h e   c u   n     l l e     q u c k l   n   h e   v e r r e c e   j n g   n   h   b r k e   n   l n g   b h   h n   n   h e   h r n   t h e   b s a   p e   u p   b e l c h n g   b l u e   k e   f r     e x h u   n   h e   g r l   j b b e   h e r   l e   f n g e r   b c k     h \\n \\n h e   r e u e   p e e   w h n g   f r     c g r e e   h   h n   w e r e   r e b l n g   l g h l   t h e   b s a   w   l   u   f   g h   n w   v n g   f   t h e   k   t h e   g n e   k   m e r e   r e     c r w   n   n   h   e r e   f     r e   r e c e n   v n g e   h e   p u h e   h e   w   h e   h n '   b e e n   n     r c c l e   n   w   e r   h e   p l n n e   n e v e r     r e   n   n e   g n \\n \\n a   f l h   f   r e   c u g h   h   e e   f f     h e   l e f   n   w h e n   h e   g l n c e   h   w   h e   f e l     b u r   f   p l e u r e   n   r e c g n n   a   l r g e   r e   b r n     n     h l l   f r   c r     r n g   f e l   f   h   n   c l v e r     b r n   w h     c u p l   p n e   w h e — e v e n     h   n c e   h e   c u l   e e   h e   u n   g l e   n   h e   w e h e r   v n e   p   h   c u p l   i   h   b e e n   h e r e   h e n   n   w   l l   h e r e   n w   i   l k e   e x c l   h e   e   m b e     w   g n g     b e   l l   r g h   f e r   l l   t h e n   h e   r e e   b l e     u \\n \\n a   h e   u r n p k e   e n e r e   c u b e r l n   r e   n   r e   h n g   b e g n     e e   f l r   h e   p e   v e r   h e   r l   r v e r   w h e r e   h e   h   f h e   f r   e e l e   n   p c k e r e l     b   p     b r e f   f l c k e r n g   v e w   f   c u b e r l n   v l l g e   h r u g h   h e   r e e   i n   h e   n c e   h e   c u b e r l n   w e r   w e r   w h     h u g e   l g n   p n e   c r   h e   e :   “ k e e p   m n e   g r e e n ”   a u n   c n   h   l w     e n e   h u l   p r n   “ b r n g   m n e ”   u n e r n e h   h \\n \\n h   r g n l   e n e   f   e x c e e n   g r e w   n   h e   b e g n     p e e   u p   w c h n g   f r   h e   g n   i   c e   w n k l n g   u p   u   f   h e   n c e   n   r e f l e c r z e   g r e e n   f v e   l e   l e r : \\n \\n \\n \\n r o u t e   1 2   j e r u s a l e m ' s   l o t \\n \\n c u m b e r l a n d   c u m b e r l a n d   c t r \\n \\n \\n \\n a   u e n   b l c k n e   c e   v e r   h   u n g   h   g   p r   l k e   n   n   f r e   h e   h   b e e n   u b j e c     h e e   n c e   h   n   r e     p e k   m r n '   n e   n   h e   w u l   n   l e     h e   b   e   n   w   u e     f e n n g   h e   f f   b u   h   n e   w e p   v e r   h   w h     v g e   p w e r   h   w   n g \\n \\n w h   w   h e   n g   c n g   b c k       w n   w h e r e   h e   h   l v e   f r   f u r   e r       b   r n g     r e c p u r e   e h n g   h   w   r r e v c b l   l ?\",\n",
       " 'w h   g c   c u l   h e   e x p e c     r e c p u r e   b   w l k n g   r   h   h e   h   n c e   w l k e       b   n   w e r e   p r b b l   p h l e   n   r g h e n e   n   l g g e   f f   n   l e r e   w h   u r   b e e r   c n ?',\n",
       " \"t h e   g c   w   g n e   b h   w h e   n   b l c k   i   h   l l   g n e   w n   h e   c h u e   n   h   n g h   w h e n   h e   r c c l e   h   g n e   u   f   c n r l   n   h e n   h e r e   w   h e   e l l w   v n g   v n   g r w n g   n   g r w n g   h   w f e   m r n '   c r e   c u   f f   w h   u e n   f n l   w h e n — \\n \\n t h e   e x   c e   u p   n   h   r g h   n   f r     e n   h e   c n e r e   r v n g   r g h   p     c n n u n g   n     c h b e r l n   r   l e w n   p p n g   f r   l u n c h   n   h e n   u r n n g   r u n   n   g n g   b c k   b u   b c k   w h e r e ?\",\n",
       " 'h e ?',\n",
       " \"t h   w     l u g h   i f   h e r e   w     h e     h   b e e n   h e r e   e v e n   f     h   n l   b e e n   f u r   e r     w   h \\n \\n h e   g n l e   l w e   h e   c r ë n   n   w e n   u p   h e   r p   t w r   h e   p   w h e r e   h e   u r n p k e   r p   j n e   r u e   1 2   w h c h   b e c e   j n n e r   a v e n u e   c l e r     w n   h e   g l n c e   u p   w r   h e   h r z n   w h   h e   w   h e r e   e   h   j   h e   b r k e   n   w h   b h   f e e   t h e   c r ë n   h u e r e       p   n   l l e \\n \\n t h e   r e e   l   p n e   n   p r u c e   r e   n   g e n l e   l p e   w r   h e   e   e e n g     l   c r w   g n   h e   k     h e   l   f   v n   f r   h e r e   h e   w n   w   n   v b l e   o n l   h e   r e e   n   n   h e   n c e   w h e r e   h e   r e e   r e   g n   h e   k   h e   p e k e   g b l e   r f   f   h e   m r e n   h u e \\n \\n h e   g z e       f c n e   w r r n g   e n   c r e   h   f c e   w h   k l e c p c   w f n e \\n \\n “ s l l   h e r e ”   h e   u r u r e   l u   “ b   g ” \\n \\n h e   l k e   w n     h   r   t h e   h   b r k e n   u   n   g e   f l e h \\n \\n \\n t w o \\n \\n h e   e l b e r e l   k r e   w n   c r n g   n   c u b e r l n   n   h e n   c n g   b c k   n   ' l e '   l   f r   h e   w e   k n g   h e   b u r n   r   h e   w   z e   b   h w   l l e   h n g   h   c h n g e   u   h e r e   t h e r e   w e r e     f e w   n e w   h u e   h e   n '   r e e b e r   h e r e   w     v e r n   c l l e   d e l l '   j u   v e r   h e   w n   l n e   n     p r   f   f r e h   g r v e l   q u r r e   a   g   e l   f   h e   h r w   h   b e e n   p u l p e   v e r   b u   h e   l   n   g n   p n n g   h e   w     h e   w n   u p   w   l l   h e r e   n   h e   r   e l f   w   l l   u n p v e   f u l l   f   c h u c k h l e   n   w h b r   n   h e   c u l   e e   s c h l r   h l l   h r u g h   h e   l h   n   h e   r e e   w h e r e   h e   c e n r l   m n e   p w e r   p l n   r n   n     n r h w e     u h e   l n e   t h e   g r f f e n   f r   w   l l   h e r e   l h u g h   h e   b r n   h   b e e n   e n l r g e   h e   w n e r e   f   h e   l l   b l e   n   l   h e r   w n   l k   t h e   l g   h   b e e n     l n g   c w   u n e r   h e   n e   b r n :   “ s u n h n e   m l k   f r   h e   g r f f e n   f r !\",\n",
       " \"”   h e   l e   h e   h   p l h e     l   f   h   l k   n   h   c r n   f l k e     a u n   c n '   h u e \\n \\n h e   u r n e   l e f   n   h e   b r k   r   p e   h e   w r u g h - r n   g e   n   h e   l w   f e l n e   w l l   u r r u n n g   h r n   h l l   c e e e r   n   h e n   w e n   w n   h e   e e p   g r e   n   r e   u p   h e   f r   e — h e   e   k n w n     m r e n '   h l l \\n \\n a   h e   p   h e   r e e   f e l l   w   n   b h   e   f   h e   r   o n   h e   r g h   u   c u l   l k   r g h   w n   n   h e   w n   p r p e r — b e n '   f r   v e w   f     o n   h e   l e f   h e   m r e n   h u e   h e   p u l l e   v e r   n   g   u   f   h e   c r \\n \\n i   w   j u   h e   e   t h e r e   w   n   f f e r e n c e   n     l l   h e   g h   h v e   l   e e n     e e r \\n \\n t h e   w c h   g r   g r e w   w l   n   l l   n   h e   f r n   r   b c u r n g   h e   l   f r - h e v e   f l g n e   h   l e     h e   p r c h   c h r r n g   c r c k e   n g   n     n   h e   c u l   e e   g r h p p e r   j u p n g   n   e r r c   p r b l \\n \\n t h e   h u e   e l f   l k e   w r   w n   i   w   h u g e   n   r b l n g   n   g g n g     w n w   h p h z r l   b r e   h u   g v n g     h   n e r   l k   f   l l   l   h u e   h   h v e   b e e n   e p   f r     l n g   e   t h e   p n   h   b e e n   w e h e r e   w   g v n g   h e   h u e     u n f r   g r   l k   w n r   h   r p p e   n   f   h e   h n g l e   f f   n     h e v   n w f l l   h   p u n c h e   n   h e   w e   c r n e r   f   h e   n   r f   g v n g       l u p e   h u n c h e   l k   a   e r e   n - r e p n g   g n   w   n l e     h e   r g h - h n   n e w e l   p \\n \\n h e   f e l     r n g   u r g e     w l k   u p   h   v e r g r w n   p h   p   h e   c r c k e   n   h p p e r   h   w u l   j u p   r u n   h   h e   c l b   h e   p r c h   p e e k   b e w e e n   h e   h p h z r   b r   n   h e   h l l w   r   h e   f r n   r   p e r h p   r   h e   f r n   r   i f     w   u n l c k e   g   n \\n \\n h e   w l l w e   n   r e   u p     h e   h u e   l   h p n z e   i   r e   b c k     h   w h     n f f e r e n c e \\n \\n y u   w l k e   w n   h e   h l l   e l l n g   w e   p l e r   n   r n g   w l l p p e r   n   c e   w u l   k e r   n   h e   w l l   t h e r e   w u l   l l   b e     l   f   j u n k   l n g   r u n   n   u   g h   p c k   e h n g   u p     p p e r w e g h   b e   n   p u     n   u r   p c k e   t h e n     h e   e n   f   h e   h l l   n e   f   g n g   h r u g h   n   h e   k c h e n   u   c u l   u r n   l e f   n   g   u p   h e   r   u r   f e e   g r n g   n   h e   p l e r   u   w h c h   h   f e   w n   f r   h e   c e l n g   v e r   h e   e r   t h e r e   w e r e   f u r e e n   e p   e x c l   f u r e e n   b u   h e   p   n e   w   l l e r   u   f   p r p r n     f     h   b e e n   e     v   h e   e v l   n u b e r   a   h e   p   f   h e   r   u   n   n   h e   l n n g   l k n g   w n   h e   h l l   w r     c l e   r   a n   f   u   w l k   w n   h e   h l l   w r     w c h n g     f   f r   u e   u r e l f     h e   r   g e   c l e r   n   l r g e r   u   c n   r e c h   u   u r   h n   n   p u     n   h e   r n h e   l v e r   k n b — \\n \\n h e   u r n e   w   f r   h e   h u e     r w - r   w h l e   f   r   l p p n g   f r   h   u h   n   e   l e r   p e r h p   b u   n   e   f r   n w     w   e n u g h     k n w   h   l l   f   h   w   l l   h e r e   i   h   w e   f r   h   h e   p u   h   h n   n   h e   h   f   h   c r   n   l k e   u   v e r   h e   w n   h e   c u l   f n   u   w n   h e r e   w h   w   h n l n g   h e   m r e n   h u e   n   p e r h p   l e e     t h e   k c h e n   w u l   k e   n   e q u e   w r n g   r   n   h e   c u l   b u n k   w n   n   h e   f r n   p r l r   b u   h e   w u l n '   l l w   h e l f     g   u p r \\n \\n n   u n l e     h     b e   n e \\n \\n h e   g   n   h   c r   r e     n   r v e   w n   h e   h l l     j e r u l e '   l \\n \\n \\n \\n \\n \\n c h p e r   t w \\n \\n s u n   i \\n \\n h e   w   n g   n     b e n c h   n   h e   p r k   w h e n   h e   b e r v e   h e   g r l   w c h n g   h   s h e   w     v e r   p r e   g r l   n   h e r e   w     l k   c r f   e   v e r   h e r   l g h   b l n   h r   s h e   w   c u r r e n l   r e n g     b k   b u   h e r e   w     k e c h   p   n   w h   l k e   l k e     c h r c l   p e n c l   b e e   h e r   i   w   t u e   s e p e b e r   1 6   h e   f r     f   c h l   n   h e   p r k   h   g c l l   e p e   f   h e   r w e r   e l e e n   w h   w   l e f   w     c e r n g   f   h e r   w h   n f n     f e w   l   e n   n g   b   h e   w r   e r l   n   h   g r l   n g   n   h e   p p l e   h e   f     g n r l e   l   e l \\n \\n s h e   l k e   u p   n   w   h   a n   e x p r e n   f   r l e e n   c r e   h e r   f c e   s h e   l k e   w n     h e r   b k ;   l k e   u p     h   g n   n   r e     r e ;   l   h u g h   b e e r   f   ;     r e ;     w n   g n \\n \\n h e   g   u p   n   w l k e   v e r   h l n g   h   w n   b k   w h c h   w     p p e r b c k   w e e r n   “ h e l l ”   h e     g r e e b l   “ d   w e   k n w   e c h   h e r ?\",\n",
       " \"” \\n \\n “ n ”   h e     “ t h   … u ' r e   b e n j n   m e r   r g h ?\",\n",
       " \"” \\n \\n “ r g h ”   h e   r e   h   e e b r w \\n \\n s h e   l u g h e   n e r v u l   n   l k n g   n   h   e e   e x c e p   n     q u c k   f l h     r     r e   h e   b r e e r   f   h   n e n n   s h e   w   q u e   b v u l     g r l   n   c c u e     p e k n g     r n g e   e n   n   h e   p r k \\n \\n “ i   h u g h   i   w   e e n g     g h ”   s h e   h e l   u p   h e   b k   n   h e r   l p   h e   w   f l e e n g l   h   “ j e r u l e '   l   p u b l c   l b r r ”   w   p e   n   h e   h c k n e   f   p g e   b e w e e n   c v e r   t h e   b k   w   a r   d n c e   h   e c n   n v e l   s h e   h w e   h   h e   p h g r p h   f   h e l f   n   h e   b c k   j c k e     p h   h   w   f u r   e r   l   n w   t h e   f c e   l k e   b h   n   f r g h e n n g l   e r u — h e   e e   w e r e   b l c k   n \\n \\n “ o f   u c h   n c n e q u e n l   b e g n n n g   n e   r e   b e g u n ”   h e     n   l h u g h     w     j k n g   h r w w   r e r k     h u n g   l   n   h e   r   l k e   p r p h e c   p k e n   n   j e   b e h n   h e     n u b e r   f   l e r   w e r e   p l h n g   h p p l   n   h e   w n g   p l   n     h e r   w   e l l n g   r   n     p u h   h   e r     h g h   t h e   e r   w e n   r n g   u p   n   h e r   w n g   r e g r l e   r e   f l n g   r n g   f r   h e   k   i   w     e n   h e   r e e b e r e   f r   e r   f e r     h u g h     p e c l   l l   l c e   h   b e e n   c u   f r   h e   c k e   f   e   i f   n h n g   f r e   b e w e e n   w   p e p l e   u c h   n   n n   p l   f l l   b c k   n   h e   g e n e r l   w r c k   f   e r \\n \\n t h e n   h e   l u g h e   n   f f e r e   h   h e   b k   “ w l l   u   u g r p h   ?\",\n",
       " '” \\n \\n “ a   l b r r   b k ?',\n",
       " \"” \\n \\n “ i ' l l   b u     f r   h e   n   r e p l c e   ” \\n \\n h e   f u n     e c h n c l   p e n c l   n   h   w e e r   p c k e   p e n e   h e   b k     h e   f l l e f   n   k e   “ w h '   u r   n e ?\",\n",
       " \"” \\n \\n “ s u n   n r n ” \\n \\n h e   w r e   q u c k l   w h u   h n k n g :   f r   s u n   n r n   h e   p r e e   g r l   n   h e   p r k   w r   r e g r   b e n   m e r   h e   e   h e   e   b e l w   h   g n u r e   n   l h e   n n \\n \\n “ n w   u ' l l   h v e     e l   ”   h e     h n n g     b c k   “ a r   d n c e     u   f   p r n   l ” \\n \\n “ i ' l l   g e     c p   f r   n e   f   h e   b k   f n e r   n   n e w   y r k ”   s h e   h e e   n   h   e   h e r   g l n c e     h   e e   w     l l e   l n g e r   “ i '   n   w f u l l   g   b k ” \\n \\n “ t h n k   w h e n   i   k e     w n   n   l k       i   w n e r   h w     e v e r   g   p u b l h e ” \\n \\n “ d   u   k e     w n   f e n ?\",\n",
       " \"” \\n \\n “ y e h   b u   i '   r n g     q u ” \\n \\n s h e   g r n n e     h   n   h e   b h   l u g h e   n   h   e   h n g   r e   n u r l   l e r   h e   w u l   h v e     c h n c e     h n k   h w   e l   h   h   h p p e n e   h w   h l   t h e   h u g h   w   n e v e r     c f r b l e   n e   i   c n j u r e   u p   n   g e   f   f e   n   b l n     l l   b u   e q u p p e   w h   e n e n   2 0 / 2 0   v n   n   n e n   n   g r n n g   h e l p l e   r l   b e w e e n   h e   g r e   l l n e   f   h e   u n v e r e     k e   e   u n k n w n   b r e \\n \\n “ i   r e   c n w '   d u g h e r     i   l v e   h   i   u p p e   u   h e r   h   l l   h e   e ” \\n \\n “ r e r k b l   l l e ”   h e     h n e l   m r n   h   l   l v e   c n w '   d u g h e r   b u     f   h   c f f e e h u e   f r e n   h   b e e n   n n c l   n     f   h e   c r c   h   c l b b e r e     w e l l   h   w   c r c   f r   u   p l   w   u   u r b n   n \\n \\n “ w e l l   i   ” \\n \\n “ h v e   u   r e   h e   n e w   n e ?\",\n",
       " '” \\n \\n “ b l l   s   k e e p   g n g ?',\n",
       " \"n   e   m   c g n     h e   r u g r e     '   p r e   r c ” \\n \\n “ h e l l   '   l   p u r n c l ”   b e n     “ t h e   l n g u g e     r u g h   b u   w h e n   u ' r e   w r n g   b u   u n e u c e   c u n r   b   u   c n ' … l k   c n   i   b u   u   n   c e - c r e     r   e h n g ?\",\n",
       " \"i   w   j u   g e n g     h n k e r   n   f r   n e ” \\n \\n s h e   c h e c k e   h   e e     h r   e   t h e n   l e   w r l   “ s u r e   i '   l v e   n e   t h e ' r e   g r e   n   s p e n c e r ' ” \\n \\n t h   w   h e   b e g n n n g   f   \\n \\n \\n t w o \\n \\n “ i   h   m   c g n ?\",\n",
       " \"” \\n \\n b e n   k e     l w - v c e   h e   w   l k n g       l l   p r e   w n   w h   w   w e r n g     r e   n l n   u e r   v e r   h e r   w h e   u n f r   h e r   b l u e - r n e   h r   w   n e   n     e p l k e   u c c e n   f   f n g e r   w v e \\n \\n “ t h '   h e r   s h e '   g     l l e   c r   h e   k e     h e   l b r r   e v e r   t h u r   n g h   s h e   f l l   u   r e e r v e   c r   b   h e   n   n   r v e   m   s r c h e r   c r z ” \\n \\n t h e   w e r e   e e   n   r e   l e h e r   l     h e     f u n n   h e   w   r n k n g     c h c l e   ;   h e r   w   r w b e r r   s p e n c e r '   l   e r v e     h e   l c l   b u   e p   n   f r   w h e r e   h e     h e   c u l   l k   h r u g h   n   l - f h n e   c r l l e   r c h   n   n   h e   w n g   r   w h e r e     l r   u n g   n   n   a r   f r c e   b l u e     g l u l   w h   h   f e e   p l n e   r u n   h   u c e \\n \\n “ d e n '   l k   h p p     b e   g n g   w h e r e v e r   h e '   g n g   e   h e ?\",\n",
       " \"”   h e     f l l w n g   h   g l n c e \\n \\n “ l e v e '   v e r   i   g n e ”   b e n     n w   h e   h u g h   h e ' l l   k   f   i ' v e   e v e r   b e e n   n   h e   e r v c e \\n \\n b u   n e :   “ i ' l l   b e   n   h   e n - h r   b u   n e   f   h e e     g b   ' l e '   l   p r b b l   i ' l l   b e   l k n g   j u     g l u     h   b ” \\n \\n “ w h e r e ?\",\n",
       " \"” \\n \\n “ n e w   y r k   i   g u e   t   e e   f   i   c n '   f n l l   b e c e   e l f - u p p r n g ” \\n \\n “ w h '   w r n g   w h   r g h   h e r e ?\",\n",
       " '” \\n \\n “ t h e   l ?',\n",
       " \"i   l v e     b u     f l k   u   k n w   t h e '   l w   b e   r   f   l k n g   v e r     h u l e r   t h '     b u e r   a n   h e   l   e n '   r e l l   h v e   h   u c h     f f e r   h e   u n g   c r e e r   g r l ”   s h e   h r u g g e   n   p p e   h e r   h e     u c k     h e r   r w   h e r   n e c k   w   n n e   b e u f u l l   u c l e   s h e   w   w e r n g     c l r f u l   p r n   h f   h   h n e       g   f g u r e \\n \\n “ w h   k n   f   j b   r e   u   l k n g   f r ?\",\n",
       " \"” \\n \\n s h e   h r u g g e   “ i ' v e   g     b a   f r   b n   u n v e r … n   w r h   h e   p p e r   '   p r n e   n   r e l l   a r   j r   e n g l h   n r   t h e   r g n l   p   u   s r c l   e l g b l e   f r   h e   e u c e     c e g r   i '   n   e v e n   r n e     e c r e   n   f f c e   s e   f   h e   g r l   i   w e n     h g h   c h l   w h   r e   h l n g   w n   p l u p   e c r e r l   j b   n w   i   n e v e r   g   b e n   p e r n l   t p n g   i   e l f ” \\n \\n “ s   w h   e   h   l e v e ?\",\n",
       " '” \\n \\n “ o h … b e     p u b l h n g   h u e ”   h e     v g u e l   “ o r   e   g z n e … v e r n g   b e   p l c e   l k e   h   c n   l w   u e   e n e   w h   c n   r w   n   c n   i   c n     h   i   h v e     p r f l ” \\n \\n “ d   u   h v e   f f e r ?',\n",
       " \"”   h e   k e   g e n l \\n \\n “ n … n   b u … ” \\n \\n “ y u   n '   g     n e w   y r k   w h u   f f e r ”   h e     “ b e l e v e   e   y u ' l l   w e r   u   h e   h e e l   n   u r   h e ” \\n \\n s h e   l e   u n e l   “ i   g u e   u   h u l   k n w ” \\n \\n “ h v e   u   l   u f f   l c l l ?\",\n",
       " \"” \\n \\n “ o h   e ”   s h e   l u g h e   b r u p l   “ m   b g g e   l e     e   w     h e   c n e x   c r p r n   t h e   p e n e     n e w   r p l e   c n e   n   p r l n   n   b u g h   w e l v e   p n n g       c r c k     h n g   n   h e r   l b b   p   e v e n   h u n r e   l l r   i   e     w n   p e n   n     l l e   c r ” \\n \\n “ y u   u g h     k e     h e l   r   f r     w e e k   r     n   n e w   y r k ”   h e     “ n   h   e v e r   g z n e   n   p u b l h n g   h u e   u   c n   f n   w h   u r   p r f l   m k e   u r   p p n e n   x   n h   n   v n c e     h e   e r   n   p e r n n e l   g u   n '   h v e   n h n g   n   h e r   c l e n r   b u   f r   g '   k e   n '   j u   h u l   k e   f r   h e   b g   c ” \\n \\n “ w h   b u   u ?\",\n",
       " \"”   h e   k e   l e v n g   f f   h e   r w   n   p n n g   c e   c r e   “ w h   r e   u   n g   n   h e   h r v n g   c u n   f   j e r u l e '   l   m n e   p p u l n   h r e e n   h u n r e ?\",\n",
       " '” \\n \\n h e   h r u g g e   “ t r n g     w r e     n v e l ” \\n \\n s h e   w   n n l   l g h   w h   e x c e e n   “ i n   h e   l ?',\n",
       " \"w h '     b u ?\",\n",
       " 'w h   h e r e ?',\n",
       " \"a r e   u — ” \\n \\n h e   l k e     h e r   g r v e l   “ y u ' r e   r p p n g ” \\n \\n “ i ' — ?\",\n",
       " \"o h   i     s r r ”   s h e   p p e   h e   b e   f   h e r   g l   w h     n p k n   “ s   i   n '   e n     p r   i '   r e l l   n   g u h       r u l e ” \\n \\n “ n   p l g   n e e e ”   h e     “ a l l   w r e r   l k e     l k   b u   h e r   b k   s e e   w h e n   i '   l n g   n   b e     n g h   i   k e   u p     p l b   n e r v e w   b u   e   w e   f   e   t h e   n l     u h r   f   h e r   b k   r e   b g   n   c p u ” \\n \\n t h e   a r   f r c e   u n g e r     u p   a   g r e h u n   w   p u l l n g   u p     h e   c u r b   u   f r n   r   b r k e   c h u f f n g \\n \\n “ i   l v e   n   ' l e '   l   f r   f u r   e r       k   o u   n   h e   b u r n   r ” \\n \\n “ t h e   b u r n   r ?\",\n",
       " \"t h e r e '   n h n g   u   h e r e   n w   b u   h e   m r h e   n     l l e   g r v e r   h r n   h l l   h e   c l l   ” \\n \\n “ i   l v e   w h     a u n   c n   c n h   s w e n   m     e   e e   n       w e n   h r u g h   … w e l l   k n   f     n e r v u   b r e k w n   s   h e   f r e   e   u     a u n   c n   w h l e   h e   g   h e r   c   b c k   g e h e r   a u n   c n   p u   e   n     b u   b c k     l n g   i l n   n       j u   b u     n h   f e r   h e   b g   f r e ”   h e   l k e     h   f c e   n   h e   r r r   b e h n   h e     f u n n   “ i   c r e   n   h e   b u   g n g   w   f r   m   n   i   c r e   n   h e   b u   g n g   w   f r   a u n   c n   n   j e r u l e '   l ” \\n \\n “ i   w   b r n   h e   e r   f   h e   f r e ”   s u n     “ t h e   b g g e   n   h n g   h   e v e r   h p p e n e     h   w n   n   i   l e p   h r u g h   ” \\n \\n b e n   l u g h e   “ t h   k e   u   b u   e v e n   e r   l e r   h n   i   h u g h   n   h e   p r k ” \\n \\n “ r e l l ?\",\n",
       " \"”   s h e   l k e   p l e e   “ t h n k   u … i   h n k   y u r   u n '   h u e   u   h v e   b u r n e   w n ” \\n \\n “ y e ”   h e     “ t h   n g h     n e   f     c l e r e   e r e   s e   e n   w h   i n n   p u p   n   h e r   b c k   c e     h e   r   n     w e '   h v e     l e v e   i   w   v e r   e x c n g   a u n   c n   h e r e   r u n   p c k n g   h n g   u p   n   l n g   h e   n   h e r   h u n   c h r   w h     n g h ” \\n \\n “ w   h e   n u r e ?\",\n",
       " \"” \\n \\n “ n   b u   h e   h u e   w   r e n e   n   w e   g   j u   b u   e v e r h n g   v l u b l e   n   h e   c r   e x c e p   f r   h e   t v   w e   r e     l f     n   c u l n '   e v e n   b u g e     f f   h e   f l r   i   w     v e   k n g   w h     e v e n - n c h   c r e e n   n     g n f n g   g l   v e r   h e   p c u r e   u b e   h e l l   n   h e   e e   w e   n l   g   n e   c h n n e l   n w — l   f   c u n r   u c   f r   r e p r   n   k   h e   k l w n ” \\n \\n “ a n   u   c e   b c k   h e r e     w r e     b k ”   h e   r v e l e \\n \\n b e n   n '   r e p l     n c e   m   c g n   w   p e n n g   c r n   f   c g r e e   n   f l l n g   h e   p l   r c k   b   h e   c h   r e g e r   t h e   p h r c   m r   l b r e e   w   p u e r n g   r u n   b e h n   h e   h g h   r u g   c u n e r   l k e     f r   g h   t h e   a r   f r c e   k   w   n n g   b   h e   r     h e   b u   w n g   f r   h e   r v e r     c e   b c k   f r   h e   b h r \\n \\n “ y e ”   b e n     h e   u r n e   n   l k e     h e r   f u l l   n   h e   f c e   f r   h e   f r   e   s h e   h     v e r   p r e   f c e   w h   c n   b l u e   e e   n     h g h   c l e r   n n e   f r e h e   “ i   h   w n   u r   c h l h ?\",\n",
       " \"”   h e   k e \\n \\n “ y e ” \\n \\n h e   n e   “ t h e n   u   k n w   i   w     k   n   ' l e '   l   n   '   h u n e   f r   e   w h e n   i   c e   b c k   i   l   r v e   r g h   b   b e c u e   i   w   f r     w u l   b e   f f e r e n ” \\n \\n “ t h n g   n '   c h n g e   h e r e ”   h e     “ n   v e r   u c h ” \\n \\n “ i   u e     p l   w r   w h   h e   g r e n e r   k   w n   n   h e   m r h e   p r e   u   b   r l '   p n   c p u r e - h e - f l g   n   h e - n - g - e e k   n   h e   p r k   m     n   i   k n c k e   r u n   e   p r e   h r   p l c e   f e r   i   l e f   a u n   c n   s h e   k l l e   h e r e l f   w h e n   i   w   f u r e e n   b u     f   h e   g c   u   h   r u b b e   f f   e   l n g   b e f r e   h   w h   h e r e   w   f     w   h e r e   a n   '   l l   h e r e   t h e   w n   h n '   c h n g e   h   u c h   l k n g   u   n   j n n e r   a v e n u e     l k e   l k n g   h r u g h     h n   p n e   f   c e — l k e   h e   n e   u   c n   p c k   f f   h e   p   f   h e   w n   c e r n   n   n v e b e r   f   u   k n c k     r u n   h e   e g e   f r — l k n g   h r u g h   h     u r   c h l h   i '   w v   n     n   n   e   p l c e     r l   f f   n   n h n g   b u     f       l l   l l   h e r e ” \\n \\n h e   p p e   z e   h e   h   e     p e e c h \\n \\n “ y u   l k   j u   l k e   u r   b k ”   h e     w e \\n \\n h e   l u g h e   “ i   n e v e r     n h n g   l k e   h   b e f r e   n   u   l u ” \\n \\n “ w h     u     f e r   u r   h e r … f e r   h e   e ?\",\n",
       " '” \\n \\n “ k n c k e   r u n ”   h e     b r e f l   “ e   u r   c e   c r e ” \\n \\n s h e   \\n \\n “ s e   h n g   h v e   c h n g e ”   h e     f e r     w h l e   “ m r   s p e n c e r   e   d   u   r e e b e r   h ?',\n",
       " \"” \\n \\n “ s u r e   e v e r   t h u r   n g h   a u n   c n   c e   n   w n       h e r   h p p n g     c r e n '   r e   n   h e '   e n   e   n   h e r e     h v e     r   b e e r   t h   w   w h e n     w   n   r f   r e l   r c h e e r   r   b e e r   s h e '   g v e   e     h n k e r c h e f   w h     n c k e l   w r p p e   u p   n   ” \\n \\n “ t h e   w e r e     e   w h e n   i   c e   l n g   d   u   r e e b e r   w h   h e   l w   u e     ?\",\n",
       " \"” \\n \\n b e n   h u n c h e   f r w r   w e   n e   h n   n   n   r h r c   c l w   n   u r n e   n e   c r n e r   f   h   u h   w n   n     p r l c   w   “ y u r   b l e r ”   h e   w h p e r e   “ t h e   r u   b e e r   w l l   e r   u r   b l e r   b u c k ” \\n \\n h e r   l u g h e r   p e l e   u p w r   w r   h e   l w l   r n g   f n   v e r   h e r   h e   m   c g n   l k e   u p   u p c u l   “ t h '   p e r f e c !\",\n",
       " 'e x c e p   h e   u e     c l l   e   l e ” \\n \\n t h e   l k e     e c h   h e r   e l g h e \\n \\n “ s   w u l   u   l k e     g       v e   n g h ?',\n",
       " \"”   h e   k e \\n \\n “ i '   l v e   ” \\n \\n “ w h '   c l e ?\",\n",
       " '” \\n \\n s h e   g g g l e   “ t h e   c n e x   n   p r l n   c u l l   w h e r e   h e   l b b     e c r e   w h   h e   e h l e   p n n g   f   s u n   n r n ” \\n \\n “ w h e r e   e l e ?',\n",
       " 'w h   k n   f   v e     u   l k e ?',\n",
       " '” \\n \\n “ s e h n g   e x c n g   w h     c r   c h e   n   ” \\n \\n “ o k   d   u   r e e b e r   h e   n r c ?',\n",
       " 't h   w   r g h   h e r e   n   w n ” \\n \\n “ s u r e   i   c l e   n   1 9 6 8   i   u e     g   n   u b l e   e   h e r e   w h e n   i   w   n   h g h   c h l   w e   h r e w   p p c r n   b x e     h e   c r e e n   w h e n   h e   v e   w e r e   b ”   s h e   g g g l e   “ t h e   u u l l   w e r e ” \\n \\n “ t h e   u e     h v e   h e   l   r e p u b l c   e r l ”   h e     “ r c k e   m n   t h e   r e u r n   f   r c k e   m n   c r h   c l l h n   n   h e   v   d e h   g ” \\n \\n “ t h   w   b e f r e     e ” \\n \\n “ w h e v e r   h p p e n e     ?',\n",
       " \"” \\n \\n “ t h '   l r r   c r c k e '   r e l   e e   f f c e   n w ”   h e     “ t h e   r v e - n   v e r   n   c u b e r l n   k l l e     i   g u e   t h   n   t v ” \\n \\n t h e   w e r e   l e n   f r     e n   h n k n g   h e r   w n   h u g h   t h e   g r e h u n   c l c k   h w e   1 0 : 4 5   \\n \\n t h e     n   c h r u :   “ s     u   r e e b e r — ” \\n \\n t h e   l k e     e c h   h e r   n   h   e   m   c g n   l k e   u p     b h   f   h e   w h e n   h e   l u g h e r   r n g   u   e v e n   m r   l b r e e   l k e   v e r \\n \\n t h e   l k e   f r   n h e r   f f e e n   n u e   u n l   s u n   l   h   r e l u c n l   h   h e   h   e r r n     r u n   b u   e   h e   c u l   b e   r e     e v e n - h r   w h e n   h e   w e n   f f e r e n   w   h e   b h   r v e l e   v e r   h e   e   n u r l   c n c e n l   p n g e e n   f   h e r   l v e \\n \\n b e n   r l l e   b c k   w n   j n n e r   a v e n u e   p u n g     h e   c r n e r   f   b r c k   s r e e     l k   c u l l   u p     h e   m r e n   h u e   h e   r e e b e r e   h   h e   g r e   f r e   f r e   f   1 9 5 1   h   b u r n e   l       v e r   r   b e f r e   h e   w n   h   c h n g e \\n \\n h e   h u g h :   m b e     h u l   h v e   b u r n e   m b e   h   w u l   h v e   b e e n   b e e r \\n \\n \\n t h r e e \\n \\n n l l   g r e n e r   c e   u   f   h e   m u n c p l   b u l n g   n     w n   n   h e   e p   n e x     p r k n   g l l e p e   j u   n   e     e e   b e n   n   s u n   w l k   n   s p e n c e r '   g e h e r   p r k n   w   k n g     p l l   m l l   n   c l e n n g   h   e l l w e   f n g e r n l   w h     p c k e k n f e \\n \\n “ t h '   h   w r e r   f e l l   n '   ?\",\n",
       " '”   n l l   k e \\n \\n “ y e p ” \\n \\n “ w   h   s u e   n r n   w h   h ?',\n",
       " \"” \\n \\n “ y e p ” \\n \\n “ w e l l   h '   n e r e n g ”   n l l     n   h c h e   h   g r r n   b e l   h   e p u   r   g l e r e   p r n l   n   h   c h e   h e   h   e n   w       e e c v e   g z n e     g e   ;   h e   w n     n   p r v e     e p u   c n b l e   w h   b g e   p r k n   h   n e   b u   h e   c r r e     n   h   w l l e   e h n g   n l l   h   n e v e r   b e e n   b l e     u n e r n   o f   c u r e   e v e r b   n   h e   l   k n e w   h e   w   h e   c n b l e   b u   h e r e   w   u c h     h n g     r n   t h e r e   w   u c h     h n g     r e p n b l   w h e n   u   w e r e   n   f f c e r   f   h e   l w   u   h     h n k   b u   b h   n l l   h u g h   b u   h e   b h   f e n   l h u g h   h e   c u l   n l   f f r     e p u   p r - e \\n \\n p r k n '   k n f e   l p p e   n   l   h e   c u c l e   f   h   h u b   “ s h ”   h e     l l \\n \\n “ y u   h n k   h e '     r e l   w r e r   p r k ?\",\n",
       " \"” \\n \\n “ s u r e   h e     h e '   g   h r e e   b k   r g h   n   h   l b r r ” \\n \\n “ t r u e   r   e   u p ?\",\n",
       " \"” \\n \\n “ m e   u p ”   p r k n   p u   h   k n f e   w   n   g h e \\n \\n “ f l   t b b   n '   g n g     l k e   e   g u   k n '   e   w h   h   w n ” \\n \\n “ t h e   n '   r r e ”   p r k n     “ a n   h e '   v e r   e g h e e n ” \\n \\n “ f l   n '   g n g     l k e   ” \\n \\n “ f l   c n   c r p   n   h   h   n   w e r     b c k w r   f r   l l   f   e ”   p r k n     h e   c r u h e   h   k e   n   h e   e p   k     s u c r e   b x   u   f   h   p c k e   p u   h e   e   b u   n e   n   p u   h e   b x   b c k   n   h   p c k e \\n \\n “ w h e r e '   h   w r e r   f e l l   l v n ' ?\",\n",
       " \"” \\n \\n “ d w n     e v ' ”   p r k n     h e   e x n e   h   w u n e   c u c l e   c l e l   “ h e   w   u p   l k n '     h e   m r e n   h u e   h e   h e r     f u n n   e x p r e n   n   h   f c e ” \\n \\n “ f u n n ?\",\n",
       " 'w h     u   e n ?',\n",
       " \"” \\n \\n “ f u n n   h '   l l ”   p r k n   k   h   c g r e e   u   t h e   u n   f e l   w r   n   g   n   h   f c e   “ t h e n   h e   w e n     e e   l r r   c r c k e   w n e     l e e   h e   p l c e ” \\n \\n “ t h e   m r e n   p l c e ?\",\n",
       " '” \\n \\n “ y e p ” \\n \\n “ w h     h e   c r z ?',\n",
       " \"” \\n \\n “ c u l   b e ”   p r k n   b r u h e     f l   f r   h e   l e f   k n e e   f   h   p n   n   w c h e     b u z z   w   n   h e   b r g h   r n n g   “ o l e   l r r   c r c k e '   b e e n     b u   n e   l e l   i   h e r   h e '   g n e   n   l   h e   v l l g e   w h u b   s l       w h l e   b c k       e r   f   f c ” \\n \\n “ w h   h   l   l u n r ?\",\n",
       " '” \\n \\n “ y e p ” \\n \\n “ w h   w u l   n n e   w n     p u   n   h e r e ?',\n",
       " \"” \\n \\n “ d u n n ” \\n \\n “ w e l l ”   n l l     u p   n   g v e   h   b e l   n h e r   h c h   “ t h n k   i ' l l   k e     u r n   r u n   w n ” \\n \\n “ y u     h ”   p r k n     n   l   n h e r   c g r e e \\n \\n “ w n     c e ?\",\n",
       " \"” \\n \\n “ n   i   b e l e v e   i ' l l     r g h   h e r e   f r     w h l e ” \\n \\n “ o k   s e e   u ” \\n \\n n l l   w e n   w n   h e   e p   w n e r n g   n   f r   h e   f r   e   w h e n   p r k n   w u l   e c e     r e r e     h   h e   n l l   c u l   h v e   h e   j b   f u l l - e   h w   n   g '   n e   c u l   u   f e r r e   u   c r e   n g   n   h e   m u n c p l   b u l n g   e p ?\",\n",
       " \"p r k n   w c h e   h   g   w h     l   f e e l n g   f   r e l e f   n l l   w     g   b   b u   h e   w   w f u l l   e g e r   h e   k   u   h   p c k e k n f e   p e n e     n   b e g n   p r n g   h   n l   g n \\n \\n \\n f o u r \\n \\n j e r u l e '   l   w   n c r p r e   n   1 7 6 5   w   h u n r e   e r   l e r     h   c e l e b r e     b c e n e n n l   w h   f r e w r k   n     p g e n   n   h e   p r k ;   l l e   d e b b e   f r e e r '   i n n   p r n c e   c u e   w   e   n   f r e   b     h r w n   p r k l e r   n   p r k n   g l l e p e   h     h r w   x   f e l l w   n   h e   l c l   c l e r   f r   p u b l c   n x c n     f u l l   f f - f v e   e r   b e f r e   m n e   b e c e     e     h e   r e u l   f   h e   m u r   c p r e \\n \\n t h e   w n   k     p e c u l r   n e   f r     f r l   p r c   c c u r r e n c e   o n e   f   h e   r e '   e r l e   r e e n   w     u r   g n g l n g   f r e r   n e   c h r l e   b e l k n p   t n n e r   h e   k e p   p g   n   n e   f   h e   l r g e   w   w   n e   j e r u l e   j e r u l e   b r k e   u   f   h e r   p e n   n e       f e e n g   e   e c p e   n   h e   n e r b   w   n   w e n   w l   n   e n   t n n e r   w r n e   l l   c h l r e n   f f   h   p r p e r   f r   e r   f e r w r   b   l e n n g   v e r   h   g e   n   c r k n g     h e   n   n u   g r e - c r w   n e :   “ k e e p   ' e e   u   '   j e r u l e '   w   l   f   ' e e   w n     k e e p   ' e e   g u   n   ' e e   b e l l !\",\n",
       " \"”   t h e   w r n n g   k   h l   n       h e   n e   i   p r v e   l l e   e x c e p   h   p e r h p   n   a e r c   e v e n     p g   c n   p r e     r l \\n \\n t h e   n   r e e   k n w n   r g n l l     h e   p r l n   p   r   h   b e e n   n e   f e r   e l   j n n e r   n   1 8 9 6   j n n e r     e b e r   f   h e   h u e   f   r e p r e e n v e   f r   x   e r   u p   u n l   h   e h   w h c h   w   c u e   b   p h l     h e   g e   f   f f - e g h   w   h e   c l e   h n g       p e r n g e   h   h e   l   c u l   b — w h   h e   e x c e p n   f   j e r u l e   h e   p g   n   p e r l   a n n   b u   w h   r n   f f     n e w   y r k   c   n   1 9 0 7     b e c e     z e g f e l   g r l \\n \\n b r c k   s r e e   c r e   j n n e r   a v e n u e   e   c e n e r   n     r g h   n g l e   n   h e   w n h p   e l f   w   n e r l   c r c u l r   l h u g h     l l e   f l   n   h e   e   w h e r e   h e   b u n r   w   h e   e n e r n g   r l   r v e r   o n     p   h e   w   n   r   g v e   h e   w n   n   p p e r n c e   v e r   u c h   l k e     e l e c p c   g h \\n \\n t h e   n r h w e   q u r n   f   h e   g h   w   n r h   j e r u l e   h e     h e v l   w e   e c n   f   w n   i   w   h e   h g h   g r u n   l h u g h     w u l   n   h v e   p p e r e   v e r   h g h     n n e   e x c e p   p e r h p     m w e e r n e r   t h e   r e   l   h l l   w h c h   w e r e   h n e c b e   w h   l   l g g n g   r   l p e   w n   g e n l   w r   h e   w n   e l f   n   h e   m r e n   h u e     n   h e   l   f   h e e \\n \\n m u c h   f   h e   n r h e   q u r n   w   p e n   l n — h   h   n   l f l f   t h e   r l   r v e r   r n   h e r e   n   l   r v e r   h   h   c u     b n k   l     h e   b e   l e v e l   i   f l w e   u n e r   h e   l l   w e n   b r c k   s r e e   b r g e   n   w n e r e   n r h   n   f l   h n n g   r c   u n l     e n e r e   h e   l n   n e r   h e   n r h e r n   l   f   h e   w n   w h e r e   l   g r n e   l   c l e   u n e r   h e   h n   l   h e r e     h   c u   f f - f   n e   c l f f   v e r   h e   c u r e   f     l l n   e r   t h e   k   c l l e     d r u n k '   l e p   b e c u e     f e w   e r   b c k   t   r h b u n   v r g e   r h b u n '   p   b r h e r   g g e r e   v e r   h e   e g e   w h l e   l k n g   f r     p l c e     k e     l e k   t h e   r l   f e   h e   l l - p l l u e   a n r c g g n   b u   h   n e v e r   b e e n   p l l u e   e l f ;   h e   n l   n u r   h e   l   h   e v e r   b e   w     w l l   l n g   n c e   c l e   i n   h e   u e r   n h   f h e r e n   c n g   f r   h e   b r c k   s r e e   b r g e   w e r e     c n   g h   a     w h e n   u   c u l n '   k e   u r   l   u   f   h e   r l   w     r r e   \\n \\n t h e   u h e   q u r n   w   h e   p r e e   t h e   l n   r e   g n   b u   h e r e   w   n   u g l   b l g h   f   f r e   r   n   f   h e   p l   r u n   h       f r e '   l e g c   t h e   l n   n   b h   e   f   h e   g r f f e n   r   w   w n e   b   c h r l e   g r f f e n   w h   w   h e   b g g e   r   f r e r   u h   f   m e c h n c   f l l   n   f r   s c h l r   h l l   u   c u l   e e   g r f f e n '   h u g e   b r n   w h     l u n u   r f   g l e r n g   n   h e   u n   l k e     n r u   h e l g r p h   t h e r e   w e r e   h e r   f r   n   h e   r e   n     g   n   h u e   h   h   b e e n   b u g h   b   h e   w h e - c l l r   w r k e r   w h   c u e     e h e r   p r l n   r   l e w n   s e e   n   u u n   u   c u l   n   n   p   f   s c h l r   h l l   n   e l l   h e   f r g r n   r   f   h e   f e l   b u r n n g   n   e e   h e   l k e   ' l e '   l   v l u n e e r   f r e   d e p r e n   r u c k   w n g     e p   n   f   n h n g   g   u   f   h n   t h e   l e n   f   1 9 5 1   h   r e n e   w h   h e e   p e p l e \\n \\n i   w   n   h e   u h w e   r e   h   h e   r l e r   h   b e g u n     v e   n   n   e v e r h n g   h   g e   w h   h e   l k e   n   e x u r b n   e r   b e l :   j u n k e - u   c r   u p   n   b l c k   r e   w n g   h n g n g   n   f r e   r p e   g l e r n g   b e e r   c n   l n g   b e e   h e   r   r g g e   w h   h u n g   n   l n e   b e w e e n   k e h f   p l e   h e   r p e   e l l   f   e w g e   f r   h l   l   e p c   n k   t h e   h u e   n   h e   b e n   w e r e   k n g   c u n     w h e   b u     g l e n g   t v   e r l   p r u e   f r   n e r l   e v e r   n e   n     f   h e   t v   n e   w e r e   c l r   b u g h   n   c r e   f r   g r n '   r   s e r   t h e   r   f   h e   h c k   n   r l e r   w e r e   u u l l   f u l l   f   k     p c k u p   r u c k   n w b l e   n   r b k e   i n   e   c e   h e   r l e r   w e r e   w e l l   k e p   b u   n     c e     e e e     b e     u c h   r u b l e   d n e l n   n   w c h   g r   g r e w   n k l e - e e p   o u   n e r   h e   w n   l n e   w h e r e   b r c k   s r e e   b e c e   b r c k   r   h e r e   w   d e l l '   w h e r e     r c k   ' n '   r l l   b n   p l e   n   f r   n     c / w   c b   p l e   n   s u r   i   h   b u r n e   w n   n c e   n   1 9 7 1   n   w   r e b u l   f r     f   h e   w n   h e   c w b   n   h e r   g r l f r e n     w   h e   p l c e     g   n   h v e     b e e r   r     f g h \\n \\n m   f   h e   e l e p h n e   l n e   w e r e   w -   f u r -   r   x - p r   c n n e c n   n     f l k   l w   h   e n e     l k   b u   i n   l l   l l   w n   c n l     l w   e r n g   n   h e   b c k   b u r n e r   l k e   u r   a u n   c n '   b k e   b e n   t h e   b e n   p r u c e     f   h e   c n l   b u   e v e r   n w   n   h e n   e n e   w h     l l e   r e   u   e   e h n g     h e   c u n l   p \\n \\n t w n   g v e r n e n   w   b   w n   e e n g   n   w h l e   h e r e   h   b e e n   l k   e v e r   n c e   1 9 6 5   f   c h n g n g     h e   w n   c u n c l   f r   w h   b n n u l   p u b l c   b u g e   h e r n g   h e   e   g n e   n   w   t h e   w n   w   n   g r w n g   f   e n u g h     k e   h e   l   w   c v e l   p n f u l   l h u g h     g   n e - f r - n e   e c r c   e   e   f   h e   n e w c e r   r l l   h e r   e e   n   e x p e r n   t h e r e   w e r e   h r e e   e l e c e n   h e   w n   c n b l e   n   v e r e e r   f   h e   p r     w n   c l e r k     r e g e r   u r   c r   u   h     g   f r   u   n   h e   t g g r   s r e   r   n   b r v e   w   e n   g   w h   r n   l e   n   h e   r   n   h e   c h l   c n e r   t h e   v l u n e e r   f r e   d e p r e n   g     k e n   p p r p r n   f   h r e e   h u n r e   l l r   e c h   e r   b u     w   l     c l   c l u b   f r   l   f e l l w   n   p e n n   t h e   w     f r   u n   f   e x c e e n   u r n g   g r   f r e   e n   n     r u n   h e   r e l b l e   l l - l n g   e c h   h e r   h e   r e   f   h e   e r   t h e r e   w   n   p u b l c   w r k   d e p r e n   b e c u e   h e r e   w e r e   n   p u b l c   w e r   l n e   g   n   e w g e   r   l g h - n - p w e r   t h e   c m p   e l e c r c   p l n   r c h e   c r   w n   n     g n l   f r   n r h w e     u h e   c u n g     h u g e   g h   h r u g h   h e   b e r l n   1 5 0   f e e   w e   o n e   f   h e e     c l e     h e   m r e n   h u e   l n g   v e r     l k e   n   l e n   e n n e l \\n \\n w h   ' l e '   l   k n e w   f   w r   n   b u r n n g   n   c r e   n   g v e r n e n     g   l   f r   w l e r   c r n k e   n   t v   o h   h e   p e r   b   g   k l l e   n   v e n   n   c l u e   b w e '   n   c e   b c k   w h     e c h n c l   f — e p p e   n     l n   n e — b u   h e   g     j b   w h   h e   p   f f c e   h e l p n g   k e n n   d n l e   n     h   w   l l   r g h   t h e   k   w e r e   w e r n g   h e r   h r   l n g e r   n   n   c b n g     n e l   l k e   h e r   f h e r   b u   n b   r e l l   n c e   n r e   w h e n   h e   h r e w   h e   r e   c e   u     h e   c n l e   h g h   s c h l   a g g e   c r l   w r e     l e e r     h e   c u b e r l n   l e g e r   b u   a g g e   h   b e e n   w r n g     h e   l e g e r   e v e r   w e e k   f r   e r   l   b u   h e   e v l   f   l q u r   n   h e   w n e r   f   c c e p n g   j e u   c h r   n   u r   h e r     u r   p e r n l   v r \\n \\n s e   f   h e   k   k   p e   h r c e   k l b '   b   f r n k   w e n   u p   b e f r e   j u g e   h k e r   n   a u g u   n   g   f n e   f f   l l r   h e   j u g e   g r e e     l e   h   p   h e   f n e   w h   p r f   f r   h   p p e r   r u e   b u   l c h l   w     b g g e r   p r b l e   l   f   k   h u n g   u     d e l l '   n c e   h e   l q u r   g e   w e n   w n     e g h e e n   t h e   w e n   r p - n g   h e     f   h e   w n e     r e u r f c e   h e   r   w h   r u b b e r   n   e v e r   n w   n   h e n   e n e   w u l   g e   k l l e   l k e   w h e n   b l l   s h   r n   n     r e e   n   h e   d e e p   c u   r     n n e   n   k l l e   b h   h e l f   n   h   g r l f r e n   l v e r n e   d u b e \\n \\n b u   e x c e p   f r   h e e   h n g   h e   l '   k n w l e g e   f   h e   c u n r '   r e n   w   c e c   t e   w e n   n     f f e r e n   c h e u l e   h e r e   n h n g     n   c u l   h p p e n   n   u c h     n c e   l l e   w n   n   h e r e \\n \\n \\n f i v e \\n \\n a n n   n r n   w   r n n g   w h e n   h e r   u g h e r   b u r   n   w h     b g   f   g r c e r e   h r u     b k   w h     r h e r   h n - f c e   u n g   n   n   h e   b c k   j c k e   n   h e r   f c e   n   b e g n     b b b l e \\n \\n “ s l w   w n ”   h e     “ t u r n   w n   h e   t v   n   e l l   e ” \\n \\n s u n   c h k e   f f   p e e r   m r h l l   w h   w   g v n g   w   h u n   f   l l r   n   “ t h e   h l l w   s q u r e ”   n   l   h e r   h e r   b u   e e n g   b e n   m e r   m r   n r n   e   h e r e l f   n   w h   c l   n   p h e c   u n e r n n g     h e   r   p l l e   u   e p e   h e   e l l w   w r n n g   l g h   h   l w   f l h e   w h e n   s u n   e n n e     n e w   b — e n   n w   h e   u p p e   l h u g h     w   h r     h n k   s u e   c u l   b e   l   e n u g h   f r   e n   b u   h e   l g h   w e r e     l l e   b r g h e r   \\n \\n “ s u n   e x c n g ”   h e     n   p u   n h e r   n e   f   h e r   h u b n '   h r   n   h e   r n n g   b r \\n \\n “ h e   w   r e l l   n c e ”   s u n     “ v e r   n u r l ” \\n \\n “ h     f e e ”   m r   n r n     s h e   e   h e   r n   n     f n n   k n g     h   b l e f u l l   n   e e   n   h e   b n   r c k e r   b   h e   p c u r e   w n w   s h e   r e c h e     p r l e n   u   f   h e   p c k   n   h e   c f f e e   b l e   n   l     “ a r e   u   u r e   h e '   l l   r g h   s u e ?\",\n",
       " \"” \\n \\n s u n   l e     l l e   e f e n v e l   “ s u r e   i '   u r e   h e   l k   l k e … h   i   n '   k n w —   c l l e g e   n r u c r   r   e h n g ” \\n \\n “ t h e     h e   m   b b e r   l k e   l k e     g r e n e r ”   m r   n r n     r e f l e c v e l \\n \\n “ m e   h ”   s u n     c h e e r f u l l   i   w   n   e p h e   h   n e v e r   f l e     r r e   h e r   h e r \\n \\n “ l e   e   e e   h e   b k ”   s h e   h e l     h n   u   f r   \\n \\n s u n   g v e       h e r   u e n l   r e e b e r n g   h e   h e x u l   r p e   c e n e   n   h e   p r n   e c n \\n \\n “ a r   d n c e ”   a n n   n r n     e v e l   n   b e g n     h u b   p g e     r n   s u n   w e   r e g n e   h e r   h e r   w u l   b r - g     s h e   l w   \\n \\n t h e   w n w   w e r e   u p   n     l z   f r e n n   b r e e z e   r u f f l e   h e   e l l w   c u r n   n   h e   k c h e n — w h c h   m   n e   n   c l l n g   h e   p n r     f   h e   l v e   n   h e   l p   f   c l   i   w     n c e   h u e   l   b r c k     l l e   h r     h e   n   h e   w n e r   b u   c l       g r   n   h e   u e r   t h e   w e r e   n     g e n l e   r e   f   l n   n   u e r   b r c k   s r e e   n   f r   h e   p c u r e   w n w   w h e r e   m r   n r n     u   c u l   e e   l l   h e   w   n   w n   t h e   v e w   w     p l e n   n e   n   n   h e   w n e r     c u l   b e   p e c c u l r   w h   l n g   w n k l n g   v   f   u n b r k e n   n w   n   n c e - w n l e   b u l n g   c n g   e l l w   b l n g   f   l g h   n   h e   n w   f e l \\n \\n “ s e e   i   r e     r e v e w   f   h   n   h e   p r l n   p p e r   i   w n '   v e r   g ” \\n \\n “ i   l k e   ”   s u n     e l   “ a n   i   l k e   h ” \\n \\n “ p e r h p   f l   w u l   l k e   h   ”   m r   n r n     l   “ y u   u g h     n r u c e   h e ” \\n \\n s u n   f e l     r e l   b   f   n g e r   n   w   e   b     s h e   h u g h   h   h e   n   h e r   h e r   h   w e h e r e   h e   l   f   h e   l e c e n   r   n   e v e n   h e   f e r q u l l   b u   h e r e     l l   w   t h e   k   u p   h e   n c e n   r g u e n   f   h e r   e n   v e r u   h e r   h e r '   e x p e r e n c e   n   b e l e f   l k e   n   l   p e c e   f   k n n g \\n \\n “ w e ' v e   l k e   b u   f l   m   y u   k n w   h e r e '   n h n g   f r   h e r e ” \\n \\n “ t h e   p p e r     h e r e   w e r e   e   p r e   l u r   p r n   c e n e     b   g e n g   g e h e r   w h   b ” \\n \\n “ o h   m h e r   f r   c h r '   k e ”   s h e   h e l p e   h e r e l f     n e   f   h e r   h e r '   c g r e e \\n \\n “ n   n e e     c u r e ”   m r   n r n     u n p e r u r b e   s h e   h n e   h e   b k   b c k   n   p p e   h e   l n g   h   n   h e r   c g r e e   n     c e r c   h r   n   h e   h p e   f     f h   i   h   b e e n   g v e n     h e r   b   n e   f   h e r   l e '   a u x l r   f r e n   n     h   l w   r r e   s u n   n     f r l e   r   f   w   t h e r e   w   e h n g   b c e n e   b u   p p n g   u r   h e   n     p e r c h '   u h \\n \\n “ i ' l l   p u   h e   g r c e r e   w ”   s u n     g e n g   u p \\n \\n m r   n r n     q u e l   “ i   n l   e n   h   f   u   n   f l   t b b   r e   g n g     b e   r r e — ” \\n \\n t h e   r r n   b l e   v e r   n   h e   l   g e   n g e r   “ w h   n   h e   n e   f   g   e v e r   g v e   u   h   e ?\",\n",
       " 'h v e   i   e v e r   l   u   h ?',\n",
       " '” \\n \\n “ i   u e — ” \\n \\n “ y u   u e   w r n g ”   h e     h l   n   n   e n r e l   r u h f u l l   b u   h e   h   b e e n   c l n g   w r   f l   b   l w   e g r e e   v e r     p e r   f   w e e k \\n \\n “ i   u e   h   w h e n   u   e   h e   e   b   f r     e r   n     h l f ”   h e r   h e r   c n n u e   f l   n   p l c b l   “ h     u   e n   h n g   h v e   g n e   b e n   h e   h n - h l n g   g e ” \\n \\n “ f l   n   i   r e   r e   h n   f r e n ”   s u n   g r e e   e v e n l   l e   h e r   k e   e h n g   f   h \\n \\n a n   u n p k e n   c n v e r n   h u n g   u p e n e   b e w e e n   h e \\n \\n h v e   u   b e e n   l e e p n g   w h   f l ?',\n",
       " 'n n e   f   u r   b u n e \\n \\n w h   e   h   b e n   m e r   e n     u ?',\n",
       " 'n n e   f   u r   b u n e \\n \\n a r e   u   g n g     f l l   f r   h   n     e h n g   f l h ?',\n",
       " \"n n e   f   u r   b u n e \\n \\n i   l v e   u   s u e   y u r     n   i   b h   l v e   u \\n \\n a n     h   n   n w e r   a n   n   n w e r   a n   n   n w e r   a n   h   w   w h   n e w   y r k — r   e p l c e — w   p e r v e   i n   h e   e n   u   l w   c r h e   g n   h e   u n p k e n   b r r c e   f   h e r   l v e   l k e   h e   w l l   f     p e   c e l l   t h e   r u h   f   h e r   l v e   r e n e r e   f u r h e r   e n n g f u l   c u n   p b l e   n   e   w h   h   g n e   b e f r e   e p   f   e n n g \\n \\n “ w e l l ”   m r   n r n     f l   s h e   u b b e   h e r   c g r e e   u   n   h e   p e r c h '   l p   n   r p p e     n   h   b e l l \\n \\n “ i '   g n g   u p r ”   s u n   \\n \\n “ s u r e   c n   i   r e   h e   b k   w h e n   u ' r e   f n h e ?\",\n",
       " \"” \\n \\n “ i f   u   w n   ” \\n \\n “ i '   l k e     e e   h ”   h e   \\n \\n s u n   p r e   h e r   h n   n   h r u g g e \\n \\n “ w l l   u   b e   l e   n g h ?\",\n",
       " \"” \\n \\n “ i   n '   k n w ” \\n \\n “ w h   h l l   i   e l l   f l   t b b   f   h e   c l l ?\",\n",
       " '” \\n \\n t h e   n g e r   f l h e   v e r   h e r   g n   “ t e l l   h   w h   u   w n ”   s h e   p u e   “ y u   w l l   n w ” \\n \\n “ s u n !',\n",
       " \"” \\n \\n s h e   w e n   u p r   w h u   l k n g   b c k \\n \\n m r   n r n   r e n e   w h e r e   h e   w   r n g   u   h e   w n w   n     h e   w n   w h u   e e n g     o v e r h e   h e   c u l   h e r   s u n '   f e p   n   h e n   h e   c l e r   f   h e r   e e l   b e n g   p u l l e   u \\n \\n s h e   g   u p   n   b e g n     r n   g n   w h e n   h e   h u g h   s u n   g h   b e   f u l l   e r e   n   h e r   w r k   l h u g h   h e   n '   l l w   h   e       r e   h n   f l e r   h r u g h     c r n e r   f   h e r   c n c u   n   h e   w e n     h e   e l e p h n e   n   h e   p n r   n   c l l e   u p   m b e l   w e r   i n   h e   c u r e   f   h e   c n v e r n   h e   h p p e n e     e n n   h   s u e   h   l   h e r   h e r e   w     f u   u h r   n   h e r     n   m b e l   n f f e   n     w e l l   u   u   e n   h   n   w h   w r e   c n w '   d u g h e r   n   m r   n r n     e   n   m b e l     h   w n '   w r n g   b u   j u     e x   b k   p u r e   n   p l e   m r   n r n   k e   f   h e   w   n g       e l   r — \\n \\n a     e r   f   f c   h e   w   n g   w n w n     e v '   r   h e   w n '   n l   b r n g h u e   m r   n r n   f e l     u r g e   f   r e l e f   e v   m l l e r   w     e c e n   w w   w h   w u l   p u   u p   w h   n   h n k - p n k   h e r   r u l e   n   w e n   n   h e   r   w e r e   b r e f   n     h e   p n   i f   h e '   u r   h e r   r   u r   e r   l l   r g h   i f   h e '   n   u   c n     n   h e   k c h e n   n   n e g n   n   h e   r u l e   w   e n e r n e \\n \\n m r   n r n   h u n g   u p   f f e e n   n u e   l e r   f e r   r f u l l   c u f l g n g   h e r   n   b j e c v e   w h   l l   l k \\n \\n s u n   h e   h u g h   g n g   b c k     h e   r n n g   b r   o h   s u n   i   n l   w n   w h '   b e   f r   u   c n '   u   e e   h ?\",\n",
       " \"s i x \\n \\n t h e   w e r e   r v n g   b c k   f r   p r l n   l n g   2 9 5   n     w   n   l e     l l — n l     l l e   f e r   e l e v e n   t h e   p e e   l   n   h e   e x p r e w   f e r     g   u   f   p r l n '   u b u r b   w   f f - f v e   n   h e   r v e   w e l l   t h e   c r ë n '   h e l g h   c u   h e   r k   h l \\n \\n t h e   h   b h   e n j e   h e   v e   b u   c u u l   h e   w   p e p l e     w h e n   h e   r e   f e e l n g   f r   e c h   h e r '   b u n r e   n w   h e r   h e r '   q u e n   c c u r r e     h e r   n   h e     “ w h e r e   r e   u   n g ?\",\n",
       " 'a r e   u   r e n n g     p l c e ?',\n",
       " \"” \\n \\n “ i ' v e   g     h r - f l r   c u b b h l e     e v '   r   n   r l r   s r e e ” \\n \\n “ b u   h '   w f u l !\",\n",
       " 'i   u   b e     h u n r e   e g r e e   u p   h e r e !',\n",
       " \"” \\n \\n “ i   l k e   h e   h e ”   h e     “ i   w r k   w e l l   n     s r p     h e   w   u r n   u p   h e   r   n   r n k     g l l n   f   b e e r   i ' v e   b e e n   p u n g   u   e n   p g e       f r e h   c p   t h e r e '   e   n e r e n g   l   c g e r   h e r e     a n   w h e n   u   f n l l   g   u   n   h e   p r c h   n   c c h   h e   b r e e z e … h e v e n ” \\n \\n “ s l l ”   h e     u b f u l l \\n \\n “ i   h u g h   b u   r e n n g   h e   m r e n   h u e ”   h e     c u l l   “ e v e n   w e n     f r       n q u r e   b u     b u   '   b e e n   l ” \\n \\n “ t h e   m r e n   h u e ?\",\n",
       " \"”   s h e   l e   “ y u ' r e   h n k n g   f   h e   w r n g   p l c e ” \\n \\n “ n p e   s   u p   n   h   f r   h l l     h e   n r h w e   f   w n   b r k   r ” \\n \\n “ s l ?\",\n",
       " 'w h   n   h e   n e   f   h e v e n — ?',\n",
       " \"” \\n \\n “ i   w n e r e   h e   e   h n g   i ' v e   b e e n   c c u e   f   h v n g     c r e w   l e   f r   e     e   b u   e v e n   i   n l   h u g h   f   r e n n g     t h e   r e l   e e   n   w u l n '   e l l   e   s e e     b e     e e p   r k   e c r e ” \\n \\n “ m b e   e   u - f - e   p e p l e   w n     u r n     n     u e r   p l c e ”   h e     “ w h e v e r       h e ' r e   c r z   r e n v n g     p l c e     n e   h n g — i '   l v e     r   — b u   h   p l c e     b e n   r e n v n   t h e   p l c e   w     w r e c k   e v e n   w h e n   i   w     k   b e n   w h   w u l   u   e v e r   w n       h e r e ?\",\n",
       " '” \\n \\n “ w e r e   u   e v e r   c u l l   n e ?',\n",
       " '” \\n \\n “ n   b u   i   l k e   n   h e   w n w   n     r e   w e r e   u ?',\n",
       " \"” \\n \\n “ y e   o n c e ” \\n \\n “ c r e e p   p l c e   n '   ?\",\n",
       " \"” \\n \\n t h e   f e l l   l e n   b h   h n k n g   f   h e   m r e n   h u e   t h   p r c u l r   r e n c e n c e     n   h v e   h e   p e l   n l g   f   h e   h e r   t h e   c n l   n   v l e n c e   c n n e c e   w h   h e   h u e   h   c c u r r e   b e f r e   h e r   b r h   b u   l l   w n   h v e   l n g   e r e   n   p   h e r   h r r r   w n   c e r e n l l   f r   g e n e r n     g e n e r n \\n \\n t h e   r   f   h u b e r   m r e n   n   h   w f e   b r e   w   h e   c l e   h n g   h e   w n   h       k e l e n   n     c l e   h u b e   h   b e e n   h e   p r e e n   f     l r g e   n e w   e n g l n   r u c k n g   c p n   n   h e   1 9 2 0 —   r u c k n g   c p n   w h c h   e     c n u c e       p r f b l e   b u n e   f e r   n g h   r u n n n g   c n n   w h k   n   m c h u e \\n \\n h e   n   h   w f e   h   r e r e   w e l h     ' l e '   l   n   1 9 2 8   n   h   l     g   p r   f   h   w e l h   n   n e   n   e v e n   m b e l   w e r   k n e w   e x c l   h w   u c h   n   h e   c k   r k e   c r h   f   1 9 2 9 \\n \\n i n   h e   e n   e r   b e w e e n   h e   f l l   f   h e   r k e   n   h e   r e   f   h l e r   m r e n   n   h   w f e   l v e   n   h e r   h u e   l k e   h e r   t h e   n l   e   h e   w e r e   e e n   w   n   w e n e   f e r n n   w h e n   h e   c e     w n       h e r   h p p n g   l r r   m c l e   w h   w   h e   l n   u r n g   h e   e r   r e p r e   h   m r e n   g   f u r   l   p p e r   t h e   s u r   e v e n n g   p   t h e   n e w   y r k e r   n     p u l p   g z n e   c l l e   a z n g   s r e   h e   l   g     c h e c k   n c e     n h   f r   h e   r u c k n g   c p n   w h c h   w   b e   n   f l l   r v e r   m c h u e   l r r     h e   c u l   e l l     w     c h e c k   b   b e n n g   h e   e n v e l p e   n   p e e k n g   n   h e   r e   w n w \\n \\n l r r   w   h e   n e   w h   f u n   h e   n   h e   u e r   f   1 9 3 9   t h e   p p e r   n   g z n e — f v e   '   w r h — h   p l e   u p   n   h e   l b x   u n l     w   p b l e     c r   n   r e   l r r   k   h e   l l   u p   h e   w l k   w h   h e   n e n n   f   p u n g   h e   n   b e w e e n   h e   c r e e n   r   n   h e   n   r \\n \\n i   w   a u g u   n   h g h   u e r   h e   b e g n n n g   f   g     n   h e   g r   n   h e   m r e n   f r n   r   w   c l f - h g h   g r e e n   n   r n k   h n e u c k l e   r n   w l   v e r   h e   r e l l   n   h e   w e   e   f   h e   h u e   n   f   b e e   b u z z e   n l e n l   r u n   h e   w x - w h e   r e l e n   b l   i n   h e     h e   h u e   w   l l     f n e - l k n g   p l c e   n   p e   f   h e   h g h   g r   n     w   g e n e r l l   g r e e   h   h u b e   h   b u l   h e   n c e   h u e   n   ' l e '   l   b e f r e   g n g   f   n   h e   c \\n \\n h l f w   u p   h e   w l k   c c r n g     h e   r   h   w   e v e n u l l   l   w h   b r e h l e   h r r r     e c h   n e w   l e '   a u x l r   e b e r   l r r   h   e l l e   e h n g   b   l k e   p l e   e   h e   k n c k e   n   h e   f r n   r   n   g   n   n w e r   h e   l k e   h r u g h   h e   r   b u   c u l   e e   n h n g   n   h e   h c k   g l   h e   w e n   r u n     h e   b c k   n e   f   w l k n g   n   w h c h   w   l u c k   f r   h   t h e   e l l   w   w r e   n   b c k   l r r   r e   h e   b c k   r   f u n     u n l c k e   n   e p p e   n   h e   k c h e n   b r e   m r e n   w   p r w l e   n     c r n e r   l e g   p l e   u   f e e   b r e   h l f   h e r   h e   h   b e e n   b l w n   w   b     c l e - r n g e   h   f r     h r - u g h - x \\n \\n “ f l e ”   a u r e   h e r e   l w       h   p n   p e k n g   w h   c l   u h r   “ l r r     h e   k c h e n   w   f u l l   f   ' e   b u z z n g   r u n   l g h n g   n   h e … u   k n w   n   k n g   f f   g n   f l e ” \\n \\n l r r   m c l e   u r n e   r u n   n   w e n   r g h   b c k     w n   h e   f e c h e   n r r   v r n e   w h   w   c n b l e     h e   e   n   h r e e   r   f u r   f   h e   h n g e r - n   f r   c r e n '   s r e — m l '   f h e r   w   l l   r u n n n g   h e   p l c e   n   h e     a u r e '   e l e   b r h e r   j c k n   h   b e e n   n g   h e   t h e   r v e   b c k   u p   n   n r r '   c h e v r l e   n   l r r '   l   r u c k \\n \\n n   n e   f r   w n   h   e v e r   b e e n   n   h e   h u e   n     w     n n e   '   w n e r   a f e r   h e   e x c e e n   e   w n   h e   p r l n   t e l e g r   h   n e     f e u r e   n     h u b e r   m r e n '   h u e   w     p l e   j u b l e   b e w l e r n g   r '   n e   f   j u n k   c v e n g e   e   n   n r r w   w n n g   p g e w   w h c h   l e   h r u g h   e l l w n g   c k   f   n e w p p e r   n   g z n e   n   p l e   f   l e r n g   w h e - e l e p h n   b k   t h e   c p l e e   e   f   d c k e n   s c   n   m r   h   b e e n   c v e n g e   f r   h e   j e r u l e '   l   p u b l c   l b r r   b   l r e   s r c h e r '   p r e e c e r   n   l l   r e n e   n   h e   c k \\n \\n j c k n   h e r e   p c k e   u p     s u r   e v e n n g   p   b e g n     f l p   h r u g h     n       u b l e   k e   a   l l r   b l l   h   b e e n   p e   n e l     e c h   p g e \\n \\n n r r   v r n e   c v e r e   h w   l u c k   l r r   h   b e e n   w h e n   h e   w e n   r u n     h e   b c k   r   t h e   u r e r   w e p n   h   b e e n   l h e       c h r   w h     b r r e l   p n n g   r e c l     h e   f r n   r   e   c h e - h g h   t h e   g u n   w   c c k e   n     r n g   c h e     h e   r g g e r   r n   w n   h e   h l l     h e   r k n b \\n \\n “ g u n   w   l e   ”   a u r e   w u l       h   p n   “ o n e   u g   n   l r r   m c l e   w u l   h v e   g n e   r g h   u p     h e   p e r l   g e ” \\n \\n t h e r e   w e r e   h e r   l e   l e h l   b b   r p   a   f r - p u n   b u n l e   f   n e w p p e r   h   b e e n   r g g e   v e r   h e   n n g   r   r   o n e   f   h e   r   r e r   l e n g     h e   e c n   f l r   h   b e e n   h n g e   n   c u l   h v e   c   e n e     b r k e n   n k l e   i   q u c k l   b e c e   p p r e n   h   h u b e   m r e n   h   b e e n   e h n g   r e   h n   s f ;   h e   h   b e e n     f u l l - f l e g e   l n \\n \\n t h e   f u n   h   n   h e   b e r     h e   e n   f   h e   u p r   h l l   n g l n g   f r     r f e r \\n \\n s u n   n   h e r   g r l f r e n   h   r u r e   h e e l v e   e l c u l   w h   h e   r e   h e   h   g l e n e   f r   h e r   e l e r ;   a   r w c l f f e   h     l g   p l h u e   n   h e r   b c k r   n   h e   w u l   l c k   h e e l v e   n   n     n   h e   r k   c r n g   e c h   h e r   b u   h e   m r e n   h u e   w h c h   g n e     p r p e r   n u n   u   f r   l l   e   e v e n   b e f r e   h l e r   n v e   p l n   n   r e p e n g   h e r   e l e r '   r e   w h     n   g r l   e b e l l h e n     h e r   n   c u l   c n c e v e   e v e n   n w   e g h e e n   e r   l e r   h e   f u n   h   j u   h n k n g   f   h e   m r e n   h u e   h   c e   n   h e r   l k e     w z r '   p e l l   c n j u r n g   u p   h e   p n f u l l   c l e r   g e   f   l l e   g r l   c r u c h e   n e   a '   p l h u e   h l n g   h n   n   a   n g   w h   p r e v e   e e r n e :   “ h   f c e   w   l l   w l e   u p   n   h   n g u e   u r n e   b l c k   n   p p p e   u   n   h e r e   w   f l e   c r w l n g   n     m     l e   m r   w e r ” \\n \\n “ … p l c e ” \\n \\n “ w h ?\",\n",
       " \"i '   r r ”   s h e   c e   b c k     h e   p r e e n   w h   n   l   p h c l   w r e n c h   b e n   w   p u l l n g   f f   h e   u r n p k e   n   n   h e   ' l e '   l   e x   r p \\n \\n “ i       w     p k   l   p l c e ” \\n \\n “ t e l l   e   b u   w h e n   u   w e n   n ” \\n \\n h e   l u g h e   h u r l e l   n   f l c k e   u p   h   h g h   b e   t h e   w - l n e   b l c k p   r n   r g h   h e   h r u g h   n   l l e   f   p n e   n   p r u c e   e e r e   “ i   r e     k '   u f f   m b e   h '   l l     e v e r   w   r e e b e r   h   w   n   1 9 5 1   n   l l e   k   h     h n k   u p   e h n g     k e   h e   p l c e   f   n f f n g   r p l n e   g l u e   u   f   p p e r   b g   w h c h   h n '   b e e n   n v e n e   e   i   u e     p l   p r e   u c h   w h   h e   b e n   k   n     f   h e   h v e   p r b b l   v e   w   b   n w …   h e   l l   c l l   u h   ' l e '   l   h e   b e n ?\",\n",
       " '” \\n \\n “ y e ” \\n \\n “ i   e e   r u n   w h   d v e   b r c l   c h r l e   j e — n l   l l   h e   k   u e     c l l   h   s n n — h r l   r u b e r n   f l   t b b — ” \\n \\n “ f l ?',\n",
       " '”   h e   k e   r l e \\n \\n “ y e     u   k n w   h ?',\n",
       " \"” \\n \\n “ i ' v e   e   h ”   h e     n   f r   h e r   v c e   u n e   r n g e   h u r r e   n :   “ s n n   j e     l l   r u n     h e   r u n   h e   g   n   n   j n n e r   a v e n u e   h r l   r u b e r n     e   l e u k e ” \\n \\n “ t h e   w e r e   l l   l e r   h n   i   b     e r   r   w   t h e   h     c l u b   e x c l u v e   u   k n w   o n l   b l   p r e   w h     l e   h r e e   r e f e r e n c e   n e e   p p l ”   h e   h   e n       b e   l g h   b u   h e r e   w     j g   f   l   b e r n e   b u r e   n   h e   w r   “ b u   i   w   p e r e n   t h e   n e   h n g   n   h e   w r l   i   w n e   w     b e     b l   p r e … h   u e r     l e \\n \\n “ t h e   f n l l   w e k e n e   n   l   e   i   c u l   c e   n   f   i   p e   h e   n n   w h c h   d v e   h u g h   u p   n   h e   p   w e   w e r e   l l   g n g   u p     h e   m r e n   h u e   n   i   w   u p p e     g   n   n   b r n g   e h n g   u   a   b ”   h e   c h u c k l e   b u   h   u h   h   g n e   r \\n \\n “ w h   h p p e n e ?\",\n",
       " '” \\n \\n “ i   g   n   h r u g h     w n w   t h e   h u e   w   l l   f u l l   f   j u n k   e v e n   f e r   w e l v e   e r   t h e   u   h v e   k e n   h e   n e w p p e r   u r n g   h e   w r   b u   h e   j u   l e f   h e   r e   f     t h e r e   w     b l e   n   h e   f r n   h l l   w h   n e   f   h e   n w   g l b e   n   —   u   k n w   w h   i   e n ?',\n",
       " \"t h e r e '     l l e   h u e   n e   n   w h e n   u   h k e     h e r e '   n w   i   p u     n     p c k e   b u   i   n '   l e v e   i   r e l l   w n e     p r v e   e l f   s   i   w e n   u p r     w h e r e   h e   h u n g   h e l f ” \\n \\n “ o h     g ”   h e   \\n \\n “ r e c h   n   h e   g l v e   b x   n   g e   e     c g r e e   w u l   u ?\",\n",
       " \"i '   r n g     q u   b u   i   n e e   n e   f r   h ” \\n \\n s h e   g   h   n e   n   h e   p u n c h e   h e   h b r   l g h e r \\n \\n “ t h e   h u e   e l l e   y u   w u l n '   b e l e v e   h w     e l l e   m l e w   n   u p h l e r   r   n     k n   f   r n c   e l l   l k e   b u e r   h   h   g n e   v e r   a n   l v n g   h n g — r   r   w c h u c k   r   w h e v e r   e l e   h   h   b e e n   n e n g   n   h e   w l l   r   h b e r n n g   n   h e   c e l l r   a   e l l w   w e   e l l \\n \\n “ i   c r e p   u p   h e   r     l l e   k   n n e   e r   l   c r e   h l e   t h e   h u e   w   c r e k n g   n   e l n g   r u n   e   n   i   c u l   h e r   h n g   c u l n g   w   f r   e   n   h e   h e r   e   f   h e   p l e r   i   k e p   h n k n g   i   h e r   f e p   b e h n   e   i   w   f r     u r n   r u n   b e c u e   i   g h   e e   h u b e   m r e n   h b l n g   f e r   e   w h     h n g n '   n e   n   n e   h n   n   h   f c e   l l   b l c k ” \\n \\n h e   w   g r p p n g   h e   e e r n g   w h e e l   v e r   h r   t h e   l e v   h   g n e   u   f   h   v c e   t h e   n e n   f   h   r e e b e r n g   f r g h e n e   h e r     l l e   h   f c e   n   h e   g l w   f   h e   n r u e n   p n e l   w   e   n   h e   l n g   l n e   f     n   w h   w   r v e l n g     h e   c u n r   h e   c u l   n   c p l e e l   l e v e \\n \\n “ a   h e   p   f   h e   r   i   g   l l     c u r g e   n   r n   w n   h e   h l l     h   r   m   e   w     r u n   n   g r b   e h n g   f r   h e r e     n   h e n   g e   h e   h e l l   u   f   h e r e   t h e   r     h e   e n   f   h e   h l l   w   c l e   i   c u l   e e     g e n g   c l e r   n   c l e r   n   i   c u l   e e   h   h e   h n g e   h   e l e   n   h e   b   e g e   w   r e n g   n   h e   r j b   i   c u l   e e   h e   r k n b   l v e r   n     l l e   r n h e   n   h e   p l c e   w h e r e   p l   h   g r p p e     w h e n   i   p u l l e   n     h e   b   e g e   f   h e   r   g v e     c r e   g n   h e   w   l k e     w n   n   p n   i f   i   h   b e e n   r g h   i   h n k   i   w u l   h v e   u r n e   r u n   n   g e n   h e   h e l l   u   r g h   h e n   b u   i   w   p u p e   f u l l   f   r e n l n e   n   i   g r b b e     n   b h   h n   n   p u l l e   f r   l l   i   w   w r h   i   f l e w   p e n   a n   h e r e   w   h u b e   h n g n g   f r   h e   b e   w h   h   b   l h u e e   g n   h e   l g h   f r   h e   w n w ” \\n \\n “ o h   b e n   n ' — ”   h e     n e r v u l \\n \\n “ n   i '   e l l n g   u   h e   r u h ”   h e   n e   “ t h e   r u h   f   w h     n n e - e r - l   b   w   n   w h   h e   n   r e e b e r   w e n - f u r   e r   l e r   n w   h u b e   w   h n g n g   h e r e   n   h   f c e   w n '   b l c k     l l   i   w   g r e e n   t h e   e e   w e r e   p u f f e   h u   h   h n   w e r e   l v … g h l   a n   h e n   h e   p e n e   h   e e ” \\n \\n b e n   k     h u g e   r g   n   h   c g r e e   n   p c h e     u   h   w n w   n   h e   r k \\n \\n “ i   l e   u     c r e   h   p r b b l   c u l   h v e   b e e n   h e r   f r   w   l e   a n   h e n   i   r n   i   f e l l   h l f w   w n r   g   u p   n   r n   u   h e   f r n   r   n   r g h   w n   h e   r   t h e   k   w e r e   w n g   f r   e   b u   h l f     l e   w n   t h '   w h e n   i   n c e   i   l l   h   h e   g l   n w   g l b e   n     h n   a n   i ' v e   l l   g   ” \\n \\n “ y u   n '   r e l l   h n k   u   w   h u b e r   m r e n     u   b e n ?\",\n",
       " \"”   f r   u p   h e   h e   c u l   e e   h e   e l l w   b l n k n g   l g h   h   g n l e   h e   c e n e r   f   w n   n   w   g l   f r   \\n \\n a f e r     l n g   p u e   h e     “ i   n '   k n w ”   h e       w h   f f c u l   n   r e l u c n c e     f   h e   w u l   h v e   r h e r     n   n   c l e   h e   u b j e c   h e r e b   “ p r b b l   i   w     k e e   u p   h   i   h l l u c n e   h e   w h l e   h n g   o n   h e   h e r   h n   h e r e     b e   e   r u h   n   h   e   h   h u e   b r b   h e   e n   h   r e   p e n   n   h e   h   h e   h l     k n   f … r   c h r g e   p e r h p   h e   r g h   p e r n l   h   f   n   g n v e   b   f r   n n c e   c u l   c       c l   n   h   r   c h r g e   n   c u e       p r u c e   n   c v e   n f e n   f … f   e h n g   i '   n   l k n g   b u   g h   p r e c e l   i '   l k n g   b u     k n   f   p c h c   e l e v n   n   h r e e   e n n   p e r h p   e v e n   e h n g   l v e   a   n e r   f   u   l k e ” \\n \\n s h e   k   n e   f   h   c g r e e   n   l   \\n \\n “ a n w   i   l e p   w h   h e   l g h   n   n     b e r   f r   w e e k   f e r   n   i ' v e   r e e   b u   p e n n g   h   r   f f   n   n   f r   h e   r e   f     l f e   w h e n e v e r   i '   n   r e   h e   r e   c e ” \\n \\n “ t h '   e r r b l e ” \\n \\n “ n   '   n ”   h e     “ n   v e r   n w   w e   l l   h v e   u r   b   r e ”   h e   g e u r e   w h     h u b     h e   l e n   l e e p n g   h u e   h e   w e r e   p n g   n   j n n e r   a v e n u e   “ s e e   i   w n e r   h   h e   v e r   b r   f   h e   h u e   n '   c r   u   w h   h e   w f u l   h n g   h   h p p e n   n   r e ”   h e   p u e   “ c e   n   w n     e v '   n     n   h e   p r c h   f r     w h l e   f   u   l k e   i   c n '   n v e   u   n — r u l e   f   h e   h u e — b u   i ' v e   g     c u p l e   f   c k e   n   h e   c e b x   n   e   b c r   n     r   f   u '   l k e     n g h c p ” \\n \\n “ i '   l k e   n e   v e r   u c h ” \\n \\n h e   u r n e   n   r l r   s r e e   p p p e   f f   h e   h e l g h   n   u r n e   n   h e   l l   r   p r k n g   l   w h c h   e r v e   h e   r n g   h u e   t h e   b c k   p r c h   w   p n e   w h e   w h   r e   r   n   h e   h r e e   w c k e r   c h r   l n e   u p   n     l k e   w r   h e   r l   r v e r   t h e   r v e r   e l f   w     z z l n g   r e   t h e r e   w     l e   u e r   n   c u g h   n   h e   r e e   n   h e   r v e r '   f r   b n k   h r e e - q u r e r   f u l l   n     h   p n e     l v e r   p h   c r   h e   w e r   w h   h e   w n   l e n   h e   c u l   h e r   h e   f n   f n g   u n     w e r   p l l e   w n   h e   l u c e w   f   h e   \\n \\n “ s   w n   i ' l l   b e   b c k ” \\n \\n h e   w e n   n   c l n g   h e   c r e e n   r   f l   b e h n   h   n   h e     w n   n   n e   f   h e   r c k e r \\n \\n s h e   l k e   h   n   p e   f   h   r n g e n e   s h e   w   n     b e l e v e r   n   l v e     f r   g h   l h u g h   h e     b e l e v e   h   n n   l u   g n g   u n e r   h e   r e   n n c e n   n e   f   n f u n   c c u r r e   f r e q u e n l   a n   e   h e   w n '     n   h   w u l   r n r l   e n c u r g e   n g h   e n r e   n     l c k e   r ;   h e   w     h n   f r   h   h e g h     l l e   p l e   h   f c e   w   n r p e c v e   n   b k h   n   h   e e   r r e l   g v e   w   h e   r n   f   h   h u g h   a l l   h   p p e   w h     h e v   p e l   f   b l c k   h r   h   l k e     f     h   b e e n   r k e   w h   h e   f n g e r   r h e r   h n   b r u h e \\n \\n a n   h   r — \\n \\n n e h e r   c n w '   d u g h e r   n r   a r   d n c e   h n e     u c h     r b   u r n   f   n   t h e   f r e r   w   b u     n e r '   u g h e r   w h   r u n   w   j n   h e   c u n e r c u l u r e   n   k e     l n g   r b l n g   j u r n e   c r   h e   c u n r   b   h u b   t h e   l e r   w   h e   r   f   f r n k   b u z z e   n   e c p e   c n v c   w h   b e g n     n e w   l f e       c r   e c h n c   n   n h e r   e   n   h   e v e n u l   r e c p u r e   b h   f   h e   w e r e   b r g h   e n e r g e c   b k   n   h u b e   m r e n '   n g l n g   h w   r r r e   n   h e   e e   f     n n e - e r - l   b     n   e e     l e   v e r   e h e r   f   h e \\n \\n a   f   b   h e   v e r   u g g e n   h e   f u n   h e r   e e   r g g e   w   f r   h e   r v e r   n   u p     h e   l e f   f   h e   p r c h   w h e r e   h e   l   h l l   b e f r e   w n   b l e   u   h e   r \\n \\n “ h e r e ”   h e     “ i   h p e   h e e ' l l   b e   l l   r g h — ” \\n \\n “ l k     h e   m r e n   h u e ”   h e   \\n \\n h e     t h e r e   w     l g h   n   u p   h e r e \\n \\n \\n s e v e n \\n \\n t h e   r n k   w e r e   g n e   n   n g h   p e ;   h e   n   w   n e r l   u   f   g h   t h e   h   e   e   l g h   c n v e r n   n   h e n   h e     n     p u e : \\n \\n “ i   l k e   u   b e n   v e r   u c h ” \\n \\n “ i   l k e   u     a n   i '   u r p r e … n   i   n '   e n     h   w   d   u   r e e b e r   h   u p   c r c k   i   e   n   h e   p r k ?\",\n",
       " \"t h   l l   e e     f r u u ” \\n \\n “ i   w n     e e   u   g n   f   u   w n     e e   e ” \\n \\n “ i   ” \\n \\n “ b u   g   l w   r e e b e r   i '   j u     l l - w n   g r l ” \\n \\n h e   l e   “ i   e e     h l l w   b u   h l l w   g   a   i   u p p e     k   u   n w ?\",\n",
       " \"” \\n \\n “ y e ”   h e     e r u l   “ i   h n k   h   c e   n e x ” \\n \\n h e   w   n g   n   h e   r c k e r   n e x     h e r   n   w h u   p p n g     l w   v e e n   f r h   n   b c k   h e   l e n e   v e r   n   p r e e   h   u h   n   h e r   w h   n   e p     r w   h e r   n g u e   r     u c h   h e r   h   l p   w e r e   f r   w h   h e   p r e u r e   f   h   q u r e   e e h   n   h e r e   w     f n   e - r   f   r u   n   b c c \\n \\n s h e   b e g n     r c k   l   n   h e   v e e n   e   h e   k   n   e h n g   n e w   i   w x e   n   w n e   l g h   n   h e n   f r   s h e   h u g h :   h e '   n g   e   t h e   h u g h   w k e n e     e c r e   c l e n   e x c e e n   n   h e r   n   h e   b r k e   h e   k   b e f r e     c u l   k e   h e r   f u r h e r \\n \\n “ w w ”   h e   \\n \\n “ w u l   u   l k e     c e     n n e r       h u e   r r w   n g h ?\",\n",
       " '”   h e   k e   “ m   f l k   w u l   l v e     e e   u   i   b e ”   i n   h e   p l e u r e   n   e r e n   f   h   e n   h e   c u l   h r w   h   p     h e r   h e r \\n \\n “ h e   c k n g ?',\n",
       " \"” \\n \\n “ t h e   h e ” \\n \\n “ i '   l v e     i ' v e   b e e n   l v n g   n   t v   n n e r   n c e   i   v e   n ” \\n \\n “ s x   ' c l c k ?\",\n",
       " \"w e   e   e r l   n   s c k v l l e ” \\n \\n “ s u r e   f n e   a n   p e k n g   f   h e   i   b e e r   g e   u   h e r e   c e   n ” \\n \\n t h e   n '   p e k   n   h e   r e   b c k   u n l   h e   c u l   e e   h e   n g h - l g h   w n k l n g   n   p   f   h e   h l l   h e   n e   h e r   h e r   l w   l e f   n   w h e n   h e   w   u \\n \\n “ i   w n e r   w h '   u p   h e r e   n g h ?\",\n",
       " \"”   h e   k e   l k n g   w r   h e   m r e n   h u e \\n \\n “ t h e   n e w   w n e r   p r b b l ”   h e     n n c l l \\n \\n “ i   n '   l k   l k e   e l e c r c   h   l g h ”   h e   u e   “ t   e l l w     f n   k e r e n e   l p   b e ” \\n \\n “ t h e   p r b b l   h v e n '   h     c h n c e     h v e   h e   p w e r   u r n e   n   e ” \\n \\n “ m b e   b u   l   n n e   w h     l l e   f r e g h   w u l   c l l   u p   h e   p w e r   c p n   b e f r e   h e   v e   n ” \\n \\n h e   n '   r e p l   t h e   h   c e     h e r   r v e w \\n \\n “ b e n ”   h e     u e n l   “   u r   n e w   b k   b u   h e   m r e n   h u e ?\",\n",
       " \"” \\n \\n h e   l u g h e   n   k e   h e   p   f   h e r   n e   “ i '   l e ” \\n \\n s h e   l e     h   “ i   n '   e n     n p ” \\n \\n “ i '   l l   r g h   b u   b e   n h e r   e … n   l g h ” \\n \\n “ o k ” \\n \\n “ y u   b e e r   g e   n   g r l   s x   r r w ?\",\n",
       " \"” \\n \\n s h e   l k e     h e r   w c h   “ s x   ” \\n \\n “ n g h   s u n ” \\n \\n “ n g h ” \\n \\n s h e   g   u   n   r n   l g h l   u p   h e   p h     h e   e   r   h e n   u r n e   n   w v e     h e   r v e   w   b e f r e   h e   w e n   n   h e   e   u r   c r e     h e   l k n '   r e r   w h   b k e   p e   h   w u l       l l e   c l     u p p e r \\n \\n s h e   p u e     n u e   l n g e r   b e f r e   g n g   n   l k n g   u p     h e   m r e n   h u e \\n \\n \\n e i g h t \\n \\n i n   h   l l   b x l k e   r   h e   u n r e e   w h   h e   l g h   f f   n   c r w l e   n   b e   n k e   s h e   w     n c e   g r l   h e   f r   n c e   n e   n c e   m r n   h   e   h e   h p e   h e   w n '   r n g     u r n   h e r   n     n e w   m r n ;   h   w u l   b e   p n f u l   f r   h   n   h r r b l   u n f r     h e r \\n \\n h e   l   w n   n   l e   h e l f   r f   s h r l   b e f r e   l e e p   k   h   h e   h k e   h e l f   u p   n   n e   e l b w   l k e   p   h e   q u r e   h w   f   h   p e w r e r   n   h e   h n   h e f   f   n u c r p   b e e     n   u   h e   w n w   h e   h   k e   e v   m l l e r   p e c f c l l   f r   h   r   f e r   l k n g     e v e r l   b e c u e     f c e   h e   m r e n   h u e   r e c l \\n \\n t h e   l g h   u p   h e r e   w e r e   l l   n \\n \\n t h   n g h   h e   h   h e   l   r e   f r   h e   f r   e   n c e   h e   h   c e     j e r u l e '   l   n     h   n   c e   w h   u c h   v v n e   n c e   h e   e r r b l e   r n     f l l w n g   m r n '   e h   n   h e   r c c l e   c c e n   t h e   r u n   u p   h e   h l l w   h e   h r r b l e   c r e   f   h e   r     h e   p u l l e     p e n   h e   n g l n g   f g u r e   u e n l   p e n n g     h e u   p u f f e   e e   h e l f   u r n n g     h e   r   n   h e   l w   l u g   p n c   f   r e — \\n \\n a n   f n n g     l c k e \\n \\n \\n \\n \\n \\n c h p e r   t h r e e \\n \\n t h e   l   i \\n \\n t h e   w n     n   l w     w k e — c h r e   w n '   w   e v e n   w h l e   h e   e g e   f   h e   u n   l e   b e l w   h e   h r z n   n   r k n e     n   h e   l n   c v   h   b e g u n \\n \\n \\n t w o \\n \\n 4 : 0 0   a m \\n \\n t h e   g r f f e n   b — h l   e g h e e n   n   j c k   f u r e e n — n   h e   w   h r e   h n   h   b e g u n   h e   l k n g   t h e   b r n   w     r v e l   f   c l e n l n e   w h e w h e   n   g l e n g   d w n   h e   c e n e r   b e w e e n   h e   p l e   r u n w   w h c h   f r n e   h e   l l   n   b h   e     c e e n   r n k n g   r u g h   r n   h l   u r n e   n   h e   w e r     h e   f r   e n   b   f l c k n g     w c h   n   p e n n g     v l v e   t h e   e l e c r c   p u p   h   p u l l e   w e r   u p   f r   n e   f   h e   w   r e n   w e l l   h   e r v e   h e   p l c e   h u e   n   h   p e r n   h e   w     u l l e n   b   n   b r g h   n   e p e c l l   r k e   n   h     h e   n   h   f h e r   h   h     u   h e   n g h   b e f r e   h l   w n e     q u   c h l   h e   h e   c h l   h e   h e     b r e     n e n c e   h   u     l l   f r   g r e   f f - n u e   c h u n k   f   e   n   h e   h e   l l   h   u b j e c   w h   h e   e x c e p n   f   w h p   n   g r p h c   a r   e n g l h   w   e n n g   h r   w   u p   b u n e   h   w   n c p r e h e n b l e   a n   n n e   f     e r e   h   w   h e   h e l l   f     c w   n '   c r e   f   u     n '   r   x e   u r   e n e   h e   n '   c r e   w h   w   h e   c n e r   n   c h e f   f   h e   g n   a r   f   h e   p c   u r n g   h e   g n   c v l   w r   n     f r   h   h   w n   f r   c h r k e   f h e r   c u l n '     w - f f h   n   n e   h l f   f     e n   h e   f r n g   q u   t h '   w h   h e   h   n   c c u n n   a n   l k     h   g u !\",\n",
       " \"c l l e g e - e u c e   n   l l   w r k n g   f r     u   l k e   h   l   n   h   f h e r   h   l   h   n   e   h   b k   l e r n n g   w n '   h e   e c r e   f   r u n n n g     u c c e f u l   b u n e   n   r   f r n g   w     b u n e   l k e   n   h e r ;   k n w n g   p e p l e   w   h e   e c r e   f   h   h   f h e r   w     g r e   n e     l n g   l l   h   b u l l h   b u   h e   w n e r   f   e u c n   h   n   h   x h - g r e   e u c n   h e   n e v e r   r e   n h n g   b u   r e e r '   d g e   n   h e   f r   w   k n g   $ 1 6 0 0 0     e r   k n w   p e p l e   b e   b l e     h k e   h e r   h n   n   k   f e r   h e r   w v e   b   n e   w e l l   h l   k n e w   p e p l e   t h e r e   w e r e   w   k n :   h e   u   c u l   p u h   r u n   n   h e   u   c u l n '   t h e   f r e r   u n u b e r e   h e   l e r   e n     n e \\n \\n u n f r u n e l   h   f h e r   w     n e \\n \\n h e   l k e   v e r   h   h u l e r     j c k   w h   w   f r k n g   h   l w l   n   r e l   n   h e   f r   f u r   l l   f r     b r k e n   b l e   t h e r e   w   h e   b k w r   d '   p e   t h e   e r b l e   l l e   h \\n \\n “ c e   n !\",\n",
       " '”   h e   h u e   “ f r k   h   h !',\n",
       " \"” \\n \\n h e   p e n e   h e   r g e   l c k e r   n   p u l l e   u   h e   f r   f   h e r   f u r   l k n g   c h n e   h e   r u n l e     w n   h e   l e   f r w n n g   f e r c e l   v e r   h e   g l e r n g   n l e - e e l   p \\n \\n s c h l   f u c k n g   f r   c h r k e   c h l \\n \\n t h e   n e x   n n e   n h   r e c h e   h e   f   h   l k e   n   e n l e   b \\n \\n \\n t h r e e \\n \\n 4 : 3 0   a m \\n \\n t h e   f r u   f   e e r '   l e   l k n g   h   b e e n   p r c e e   n   w e r e   n w   n   h e r   w   b c k     h e   l   h   e   n   c r n   r h e r   h n   g l v n z e   e e l   l k   c n   u n e r   h e   c l r f u l   l b e l   f   s l e w f   h l l   d r   c h r l e   g r f f e n '   f h e r   h   r k e e   h   w n   l k   b u   h   w   n   l n g e r   p r c c l   t h e   c n g l e r e   h   e e n   u p   h e   l   f   h e   n e p e n e n \\n \\n t h e   s l e w f   h l l   l k n   n   w e   s l e   w   i r w n   p u r n n   n   h e   b e g n   h   r u n   l n g   b r c k   s r e e   w h c h   w   k n w n   n   h e   c u n r     h e   b r c k   r   r   t h   c h r l e   w h b r   l e r   h e   w u l   c v e r   h e   c e n e r   f   w n   n   h e n   w r k   b c k   u   f   w n   l n g   h e   b r k   r \\n \\n w n   h   u r n e   x - n e   n   a u g u   n   f r   h e   f r   e   h   c n g   r e r e e n   e e e   r e l   n   p b l e   h   w f e     h e f u l   l   b c h   n e   e l e   h   e   n   h e   f l l   f   1 9 7 3   p r e e c e n g   h   w   h e   n e   c n e r e   h n g   h e   h   n e   n   w e n - e v e n   e r   f   r r g e   n   w h e n   h   r e r e e n   f n l l   c e   h e   w   g n g     p c k   u p   h   g     h l f - c c k e r   n g r e l   n e   d c   n   v e   w n     p e q u   p n   h e   p l n n e     l e e p   u n l   n n e   ' c l c k   e v e r     n   n e v e r   l k     n h e r   u n r e \\n \\n h e   p u l l e   v e r   n   f r n   f   h e   n r n   h u e   n   f l l e   h   c r r   r c k   w h   h e r   r e r :   r n g e   j u c e   w   q u r   f   l k     z e n   e g g   c l b n g   u   f   h e   c b   h   k n e e   g v e     w n g e   b u   n l     f n   n e   i   w   g n g     b e     f n e   \\n \\n t h e r e   w   n   n     m r   n r n '   u u l   r e r   n   s u n '   r u n   p l e r - e h   c r p :   “ p l e e   l e v e   n e   l l   u r   c r e   w n   t h n x ” \\n \\n p u r n n   w e n   b c k   f r     h n k n g     w   g n g     b e   n e   f   h e     w h e n   e v e r n e   w n e   e h n g   p e c l   s u r   c r e !\",\n",
       " \"h e   h   e     n c e   n   l k e     p u k e \\n \\n t h e   k   w   b e g n n n g     l g h e n   n   h e   e   n   n   h e   f e l   b e w e e n   h e r e   n   w n   h e v   e w   p r k l e   l k e     k n g '   r n   f   n \\n \\n \\n f o u r \\n \\n 5 : 1 5   a m \\n \\n e v   m l l e r   h   b e e n   u p   f r   w e n   n u e   r e e   n     r g   f     h u e r e   n     p r   f   f l p p   p n k   l p p e r   s h e   w   c k n g   h e r   b r e k f — f u r   c r b l e   e g g   e g h   r h e r   f   b c n     k l l e   f   h e   f r e   s h e   w u l   g r n h   h   h u b l e   r e p   w h   w   l c e   f     n   j     e n - u n c e   u b l e r   f   r n g e   j u c e   n   w   c u p   f   c f f e e   w h   c r e     f l l w   s h e   w     b g   w n   b u   n   p r e c e l   f ;   h e   w r k e     h r     k e e p n g   h e r   p l c e   u p     e v e r   b e   f   t h e   c u r v e   f   h e r   b   w e r e   h e r c   r b e l n   w c h n g   h e r   n   n     h e r   e g h - b u r n e r   e l e c r c   v e   w   l k e   w c h n g   h e   r e l e   v e e n   f   h e   e   r   h e   g r n   f   n   u n e \\n \\n s h e   l k e     e   h e r   r n n g   e l   n   h   u e r   l u e   p l n n n g   h e   w r k   h e   f   h e r   f r   h e     t h e r e   w     l   f   :   w e n e   w   h e     h e   c h n g e   h e   l n e n   s h e   h   n n e   b r e r     p r e e n   c u n n g   h e   n e w   n e   m r   m e r   t h e   h u e   h   h r e e   r e   n   e v e n e e n   r   n   h e r e   w e r e   l   f l r     w h   h e   r     b e   c r u b b e   h e   b n e r     b e   w x e   n   h e   r u g     b e   u r n e   n   h e   c e n r l   c n   r   s h e   w u l   g e   w e e l   c r g     h e l p   h e r   w h   e   f     u n l e   h e   w   l e e p n g   f f     b   r u n k \\n \\n t h e   b c k   r   p e n e   j u     h e   w   n g   w n     h e   b l e \\n \\n “ h   w n   h w   r e   u   n g ?\",\n",
       " \"” \\n \\n “ p b l e   k n e e '   k c k n '     b ” \\n \\n “ s r r     h e r     y u   w n     l e v e   n   e x r   q u r   f   l k   n     g l l n   f   h   l e n e ?\",\n",
       " \"” \\n \\n “ s u r e ”   h e     r e g n e   “ i   k n e w     w   g n n   b e   h   k n   f   ” \\n \\n s h e   u g   n   h e r   e g g   n g   h e   c e n   w n   p u r n n   c u l   l w   f n   e h n g     c p l n   b u   l h u g h   g   k n e w   h e   h u l   h v e   b e e n   h e   h p p e   n   l v e   n c e   h   h e l l c   h e   h   h k e   u p   w h   f e l l   w n   h e   c e l l r   r   n   b r k e   h e r   n e c k \\n \\n a   q u r e r   f   x   j u     h e   w   f n h n g   u p   h e r   e c n   c u p   f   c f f e e   n   k n g     c h e e r f e l   h e   p r e - h e r l   h u p e   g n   h e   e   f   h e   h u e   n   r p p e   n   h e   r e b u h e   t h e   h r   e   h   w e e k ;   h e   k l b   k   w   b n g     h u n   p r b b l   e l v e r n g   h e   p p e r   w r e c k e   u   f   h   n   w e l l   l e       h e r e   w h l e   t h e   e r l e   u n h n e   h n   n   p r e c u   g l   w   l n n g   n   h r u g h   h e   e   w n w   i   w   h e   b e   e   f   h e r     n   h e   w u l   n   u r b     v e l e   p e c e   f r   n h n g \\n \\n h e r   b r e r   h   h e   u e   f   h e   v e   n   h e   r e f r g e r r — h   l k e   h e   w e e k l   c h n g e   f   l n e n   c e   w h   h e r   r e n — n   h r l   h e   p e c e   w u l   b e   b r k e n     g r v e r   v e r r l l   n   m c k e   s l v e e r   c e   w n     l p   u p   h e r   c e r e l   b e f r e   l e v n g   f r   h e   e x l e   l l   v e r   n   g e   f l l   w h e r e   h e   b h   w r k e \\n \\n a   f   h e r   h u g h   h   u n e     e e n g e r   f   h e r   c n g   h e   l e   n   h e   e c n   f l r   f l u h e   n   h e   h e r   s l v e e r '   h e v   w r k   b   n   h e   r \\n \\n s h e   h e v e   h e r e l f   u p   n   w e n     r e c u e   h e   p p e r \\n \\n \\n f i v e \\n \\n 6 : 0 5   a m \\n \\n t h e   b b '   h n   w l   p e r c e   s n   m c d u g l l '   h n   r n n g   l e e p   n   h e   g   u p     c h e c k   h e   b b   w h   h e r   e e   l l   b l e r e   h u   s h e   b r k e   h e r   h n   n   h e   n g h n   n     “ k u k k !\",\n",
       " '” \\n \\n t h e   b b   h e r n g   h e r   c r e e   l u e r   “ s h u   u p !',\n",
       " \"”   h e   e l l e   “ i '   c n g !\",\n",
       " \"” \\n \\n s h e   w l k e   w n   h e   n r r w   r l e r   c r r r     h e   k c h e n     l e n e r   g r l   w h   w   l n g   w h e v e r   r g n l   p r e n e   h e   g h   n c e   h v e   h   s h e   g   r n '   b l e   u   f   h e   r e f r g e r r   h u g h   b u   w r n g     h e n   h u g h     h e l l   w h     i f   u   w n       b   b u e r   u   c n   j u   r n k     c l \\n \\n s h e   w e n   w n     h   b e r   n   l k e     h   c l l   h e   w   e n   n h   l   b u   c k l   n   p u l n g   f r   h   g e   h e   h   n l   r e   c r w l n g   l   n h   m b e   h e   h   p l   r   e h n g   n w   h e r e   w   e h n g   n   h   h n   n   n   h e   w l l     s h e   p u h e   f r w r   w n e r n g   w h   n   m r '   n e   h e   h   b e e n   n \\n \\n s h e   w   e v e n e e n   e r   l   n   h e   n   h e r   h u b n   h   c e l e b r e   h e r   f r   w e n g   n n v e r r   n   j u l   a   h e   e   h e   h   r r e   r c e   m c d u g l l   x   n h '   p r e g n n   n   l k n g   l k e   h e   g e r   b l p   r r g e   h   e e e   e v e r   b     b l e e     f h e r   c l l h n       w —   b l e e   e c p e   h c h   n w     j u   e e e   l k e     p l e   f   k u k k \\n \\n w h c h   w   h e   w   w h     e x c l   w h   r n   h   e r e   l l   v e r   h   h n   n   h e   w l l   n   n   h   h r \\n \\n s h e     l k n g     h   u l l   h l n g   h e   c l   b l e   n   n e   h n \\n \\n t h   w   w h   h e   h   g v e n   u p   h g h   c h l   f r   h e r   f r e n   f r   h e r   h p e   f   b e c n g     e l   f r   f r   h   c r u   r l e r   u c k   u   n   h e   b e n   f r c   l r e   p e e l n g   f f   h e   c u n e r   n   r p   f r     h u b n   h   w r k e   l l       h e   l l   n   w e n   f f   r n k n g   r   p l n g   p k e r   w h   h   n - g   g - n   b u e     n g h   f r     k   w h   l k e   j u   l k e   h   n - g   l   n   n   e r e   k u k k   l l   v e r   e v e r h n g \\n \\n h e   w   c r e n g     h e   p   f   h   l u n g \\n \\n “ y u   h u   u p !\",\n",
       " '”   h e   c r e e   b c k   u e n l   n   h r e w   h e   p l c   b l e     h   i   r u c k   h   f r e h e   n   h e   p p l e   n   h   b c k   n   h e   c r b   w l n g   n   h r h n g   h   r   t h e r e   w     r e   c r c l e   j u   b e l w   h e   h r l n e   n   h e   f e l     h r r   u r g e   f   g r f c n   p   n   h e   n   h e r   h r   s h e   p l u c k e   h   u   f   h e   c r b   l k e     r g \\n \\n “ s h u   u p !',\n",
       " 's h u   u p !',\n",
       " 's h u   u p !',\n",
       " \"”   s h e   h   p u n c h e   h   w c e   b e f r e   h e   c u l   p   h e r e l f   n   r n '   c r e   f   p n   h   b e c e     g r e   f r   u n   h e   l   g p n g   n   h   c r b   h   f c e   p u r p l e \\n \\n “ i '   r r ”   h e   u e r e   “ j e u   m r   n   j e p h   i '   r r   y u   k   r n ?\",\n",
       " \"j u     n u e   m '   g n g     c l e n   u   u p ” \\n \\n b   h e   e   h e   c e   b c k   w h     w e   r g   b h   f   r n '   e e   h   w e l l e   h u   n   w e r e   c l r n g   b u   h e   k   h e   b l e   n   w h e n   h e   b e g n     w p e   h   f c e   w h     p   r g   h e   l e   h l e l     h e r \\n \\n i ' l l   e l l   r   h e   f e l l   f f   h e   c h n g n g   b l e   h e   h u g h   h e ' l l   b e l e v e   h   o h   g   l e   h   b e l e v e   h \\n \\n \\n s i x \\n \\n 6 : 4 5   a m \\n \\n m   f   h e   b l u e - c l l r   p p u l n   f   ' l e '   l   w   n     w     w r k   m k e   r e r n   w   n e   f   h e   f e w   w h   w r k e   n   w n   i n   h e   n n u l   w n   r e p r   h e   w   l e       g r u n k e e p e r   b u   h e   w   c u l l   n   c h r g e   f   n n n g   h e   w n '   h r e e   c e e e r e   i n   h e   u e r   h   w   l     f u l l - e   j b   b u   e v e n   n   h e   w n e r     w   n   w l k     e   f l k   u c h     h   p r   g e r g e   m l e r   w n     h e   h r w r e   r e   e e e     h n k   h e   w r k e   p r - e   f r   c r l   f r e n   h e   l '   u n e r k e r   n     f   h e   l   f l k   e e e     p p   f f   n   h e   w n e r \\n \\n n w   h e   w   n   h   w   u     h e   b u r n   r   n   h   p c k u p   r u c k   w h c h   w   l e   w n   w h   c l p p e r     b e r - r v e n   h e g e - r e r     b x   f   f l g   n     c r w b r   f r   l f n g   g r v e n e   h   g h   h v e   f l l e n   v e r     e n - g l l n   g   c n   n   w   b r g g   &   s r n   l w n   w e r \\n \\n h e   w u l   w   h e   g r     h r n   h l l   h   r n n g   n     n   n e n n c e   n   h e   n e   n   h e   r c k   w l l   h   w   n e c e r   n   h   f e r n n   h e   w u l   c r   w n     h e   s c h l r   h l l   c e e e r   w h e r e   c h l e c h e r   e e   c e       r u b b n g   n   c c u n   f   n   e x n c   c l n   f   s h k e r   w h   h   n c e   b u r e   h e r   e   h e r e   b u   h e   l k e   h r n   h l l   b e   f   l l   h r e e   i   w   n     l     h e   s c h l r   h l l   b n e r   b u     w   p l e n   n   h   h e   h p e   h   e   h e   c u l   b e   b u r e   h e r e   h e l f — n     h u n r e   e r   r   \\n \\n h e   w   w e n - e v e n   n   h   g n e   h r u g h   h r e e   e r   f   c l l e g e   n   h e   c u r e   f     r h e r   c h e c k e r e   c r e e r   h e   h p e     g   b c k   e   n   f n h   u p   h e   w   g - l k n g   n   n   p e n   p l e n   w   n   h e   h   n   r u b l e   c n n e c n g   w h   u n c h e   f e l e   n   s u r   n g h   u     d e l l '   r   n   p r l n   s e   f   h e   w e r e   u r n e   f f   b   h   j b   n   m k e   f u n   h   h n e l   h r     u n e r n   i   w   p l e n   w r k   h e r e   w   n   b   l w   l k n g   v e r   u r   h u l e r   n   h e   w r k   w   n   h e   p e n   r   u n e r   g '   k ;   n     w h   f   h e   u g     f e w   g r v e   r   n   c c n   r v e   c r l   f r e n '   f u n e r l   h c k ?\",\n",
       " \"s e b   h         t   h   w   f   h n k n g   h e   n l   h n g   r e   n u r l   h n   e h   w   e x \\n \\n h u n g   h e   u r n e   f f   n   h e   b u r n   r   n   h f e     e c n   g n g   u p   h e   h l l   d r   u   p u e   u   b e h n   h   t h r u g h   h e   c h k e   u e r   g r e e n e r   n   b h   e   f   h e   r   h e   c u l   e e   h e   k e l e l   l e f l e   r u n k   f   h e   r e e   h   h   b u r n e   n   h e   b g   f r e   f   ' 5 1   l k e   l   n   l e r n g   b n e   t h e r e   w e r e   e f l l   b c k   n   h e r e   h e   k n e w   w h e r e     n   c u l   b r e k   h   l e g   f   h e   w n '   c r e f u l   e v e n   f e r   w e n - f v e   e r   h e   c r   f   h   g r e   b u r n n g   w   h e r e   w e l l   h   w   j u     i n   h e     f   l f e   w e   r e   n   e h \\n \\n t h e   c e e e r   w     h e   c r e   f   h e   h l l   n   m k e   u r n e   n   h e   r v e   r e     g e   u   n   u n l c k   h e   g e … n   h e n   b r k e   h e   r u c k       h u e r n g   p \\n \\n t h e   b   f     g   h u n g   h e - w n   f r   h e   w r u g h - r n   g e   n   h e   g r u n   b e n e h   w   u   w h     b l \\n \\n m k e   g   u   f   h e   r u c k   n   h u r r e   v e r       h e   p u l l e   h   w r k   g l v e   u   f   h   b c k   p c k e   n   l f e   h e   g '   h e   w h   n e   h n   i   c e   u p   w h   h r r b l e   b n e l e   e e   n   h e   w   r n g   n   h e   b l n k   g l z e   e e   f   w n   p u r n n '   n g r e l   c c k e r   d c   t h e   g   h   b e e n   h u n g   n   n e   f   h e   g e '   h g h   p k e   l k e     l b   f   b e e f   n     e   h k   f l e   l w   w h   h e   c l n e   f   e r l   r n n g   w e r e   l r e   c r w l n g   l u g g h l   v e r   h e   b \\n \\n m k e   r u g g l e   n   n k e   n   f n l l   p u l l e     f f   f e e l n g   c k     h   c h     h e   w e   u n   h   c c p n e   h   e f f r   g r v e r   v n l   w   n   l   r     h   e p e c l l   r u n   h l l w e e n   b u   h   w   l l     n h   n     h l f   w   n   h e   h   n e v e r   e e n   n h n g   l k e   h   u u l l   h e   c n e n e   h e e l v e   w h   k n c k n g   v e r     f e w   g r v e n e   c r w l n g     f e w   b c e n e   r   h n g n g     p p e r   k e l e n   f r   h e   g e   b u   f   h   l u g h e r   w   h e   w r k   f   k   h e n   h e   w e r e   r e l   b r   w n   w   g n g     b e   h e r b r k e n \\n \\n h e   e b e   k n g   h e   g   r e c l   b c k     w n   n   h w n g       p r k n   g l l e p e   n   e c e     w u l n '   g n   n h n g   h e   c u l   k e   p r   l   d c   b c k     w n   w h e n   h e   w e n   n     e   h   l u n c h — n   h   h e   w   g n g     h v e   u c h   p p e e   \\n \\n h e   u n l c k e   h e   g e   n   l k e     h   g l v e   w h c h   w e r e   e r e   w h   b l   t h e   r n   b r   f   h e   g e   w u l   h v e     b e   c r u b b e   n     l k e   l k e   h e   w u l n '   b e   g e n g   v e r     s c h l r   h l l   h   f e r n n   f e r   l l   h e   r v e   n e   n   p r k e   n   l n g e r   h u n g   t h e   z e   h   g n e   u   f   h e   \\n \\n \\n s e v e n \\n \\n 8 : 0 0   a m \\n \\n t h e   l u b e r n g   e l l w   c h l   b u e   w e r e   k n g   h e r   p p n e   r u n   p c k n g   u p   h e   c h l r e n   w h     u   b   h e r   l b x e   h l n g   h e r   l u n c h   b u c k e   n   k l r k n g   c h r l e   r h e   w   r v n g   n e   f   h e e   b u e   n   h   p c k u p   r u e   c v e r e   h e   t g g r   s r e   r   n   e   ' l e   n   h e   u p p e r   h l f   f   j n n e r   a v e n u e \\n \\n t h e   k   w h   r e   c h r l e '   b u   w e r e   h e   b e   b e h v e   n   w n — n   h e   e n r e   c h l   r c   f r   h   e r   t h e r e   w   n   e l l n g   r   h r e p l   r   p u l l n g   p g l   n   b u   6   t h e   g n   w e l l     l l   n   n e   h e r   n n e r   r   h e   c u l   w l k   h e   w   l e     s n l e   s r e e   e l e e n r   n   e x p l n   w h   n   h e   f f c e \\n \\n h e   k n e w   w h   h e   h u g h   f   h   n   h e   h     g   e   f   w h   h e   c l l e   h   b e h n   h   b c k   b u   h   w   l l   r g h   h e   w   n   g n g     h v e     l   f   f l h n e   n   h - l n g n g   n   h   b u   l e   h e   v e   h   f r   h e r   p n e l e   e c h e r \\n \\n t h e   p r n c p l     s n l e   s r e e   h   h   h e   n e r v e     k   h   f   h e   h n '   c e   “ p u l v e l ”   w h e n   h e   p u   h e   d u r h   b   f f   h r e e   '   r u n n n g   f r   j u   l k n g     l l e     l u   c h r l e   h   j u   r e     h   n   e v e n u l l   h e   p r n c p l     w e - e r e   l l e   p p q u e k   w h   h   n l   b e e n   u   f   c l l e g e   f u r   e r   h   l k e   w   t h e   n   n   c h r g e   f   h e   s a d   2 1   r   p l   d v e   f e l e n   w   n   l   b u ;   h e   w e n   l l   h e   w   b c k     k r e   g e h e r   t h e   u n e r   e c h   h e r   t h e   u n e r   w h   w   g n g   n   n   h e   c u n r   t h e   u n e r   h w   h e   k   w h   h   b e e n   “ j u   l k n g     l l e     l u ”   n   h e   c h l   b u   n   1 9 5 8   w   h e   k   w h   h   b e e n   u   p n g   n   h e   f l g   n   1 9 6 8 \\n \\n h e   g l n c e   n   h e   w e   v e r h e   r r r   n   w   m r   k e   g r e g n   p n g     n e     h e r   l l e   c h u   b r e n   t e n n e   l l e   c h u   e h   r g h   t h e   w e r e   b n g n g   e c h   h e r   b   h e   x h   g r e   h e e   \\n \\n h e   p u l l e   v e r   w c h n g   n   h   s p   f l h e r   m r   k e   n   b r e n   l k e   u p   e \\n \\n “ g     l     l k   b u ?\",\n",
       " \"”   h e   k e   n   h e   r r r   “ g   y u   b e e r   g e   r e ” \\n \\n h e   h r e w   p e n   h e   f l n g   r   n   w e   f r   h e     g e   h e   h e l l   f f   h   b u \\n \\n \\n e i g h t \\n \\n 9 : 0 0   a m \\n \\n w e e l   c r g   r l l e   u   f   b e — l e r l l   t h e   u n h n e   c n g   n   h   e c n - f l r   w n w   w   b l n n g   h   h e   h u p e   q u e l   u p r   h   w r e r   f e l l   w   l r e   p e c k n g   w   c h r     n   w u l   h v e     b e   n u e r   h n     q u r r e l     p - p - p   w   l k e   h     n   n     u \\n \\n h e   g   u p   n   w e n   v e r     h e   c l e n r   n   h   k v v e     e e   f   h   w   h e     h e   p c k e   u p   h   u n e p l e n   n   t h   w   w e n e \\n \\n h   h n g v e r   w n '     b       h   b e e n   n   c c n   h e   h   b e e n   u     d e l l '   u n l     c l e     n e   b u   h e   h   n l   h   w   l l r   n   h n '   b e e n   b l e     c g e   n   b e e r   f e r   h   w   g n e   l n g     u c h   h e   h u g h   n   c r u b b e   h e   e   f   h   f c e   w h   n e   h n \\n \\n h e   p u l l e   n   h e   h e r l   u n e r h r   h   h e   w r e   w n e r   n   u e r   p u l l e   n   h   g r e e n   w r k   p n   n   h e n   p e n e   h   c l e   n   g   b r e k f —   b l e   f   w r   b e e r   f r   u p   h e r e   n     b x   f   g v e r n e n - n e - c e   e l   f r   w n r   h e   h e   e l   b u   h e   h   p r e   h e   w w   h e   w u l   h e l p   h e r   u r n   h   r u g   n   h e   w u l   p r b b l   h v e   e   h e r   c h r e   l n e   u p \\n \\n h e   n '   n — n   r e l l — b u     w     c e w n   f r   h e     w h e n   h e   h   h r e   e v   m l l e r '   b e   h e r   h u b n   h   e   n     w l l   c c e n   n   1 9 5 9   n     w   k n   f   f u n n   n     w   f   u   c u l   c l l   n   u c h   h r r b l e   c c e n   f u n n   i n   h e     h e   w l l   h   e p l e   x   r   e v e n   e n   n   r l p h   m l l e r   h   b e e n   n   l n e   f r   h e   l l '   p r e e n c \\n \\n w h   h   h p p e n e     h   w   r   f   f u n n   b e c u e   r l p h   m l l e r   h n '   u c h e     b   f   c h n e r   n c e   1 9 5 2   e v e n   e r   b e f r e   w h e n   h e   e p p e   u p   f r   f r e n     h e   f r n   f f c e   t h   w   e x e c u v e   g r u e   f r   u   u r e   e n u g h   n   w e e l   u p p e   h   r l p h   h   e r n e     w h e n   h e   b g   f r e   h   w e p   u   f   h e   m r h e   n   j u p e   j n n e r   a v e n u e   u n e r   h e   u r g n g   f     w e n - f v e - l e - n - h u r   e   w n     h   e e e   h   h e   w l l   w   c e r n     g   t h e   f r e   e p r e n   f   x   n e g h b r n g   w n h p   h   e n u g h   n   h e r   h n   r n g     v e   h e   w n   w h u   p r n g   e n   f r   u c h     p n   p e r n     h e   j e r u l e '   l   s w l l   r l p h   m l l e r   h   r g n z e   h e   w h l e   e c n   h f   n     f r e - f g h n g   f r c e   n   u n e r   h   r e c n   h e   w e e   h e   r f   n     w h   h e   e n r e   c b n e   f r e - f g h n g   f r c e   h   b e e n   u n b l e       w e   f   j n n e r   a v e n u e — h e   h   c n r u c e     f r e b r e k   h   p p e   h e   f r e   n   u r n e     u h   w h e r e     w   f u l l   c n n e \\n \\n s e v e n   e r   l e r   h e   h   f l l e n   n     h r e n g   c h n e   w h l e   h e   w   l k n g     e   v n g   b r   f r     m c h u e   c p n   h e   h   b e e n   k n g   h e   r u n   h e   p l n   h p n g     c n v n c e   h e     b u   n   h   f   l p p e   n     p u l e   f   w e r   n   n   f     b c h   r g h   n   h e   h r e e r   b e f r e   h e r   v e r   e e   n e e l e       n   p b l   f     e l   w e n   r g h   w n   h e   c h u e   w h   r l p h   m l l e r   t h e   w l l   h   h e   h   v e   n   1 9 5 1   c l e   f r   g   n   f e b r u r   f   1 9 6 0 \\n \\n w e e l   l k e   n   h   w e r - p e   r r r   n   c b e   h   w h e   h r   w h c h   w   h g g   b e u f u l   n   l l   e x     x - e v e n   i   w   h e   n l   p r   f   h   h   e e e     h r v e   n   l c h l   t h e n   h e   p u l l e   n   h   k h k   w r k   h r   k   h   e l   b x   n   w e n   w n r \\n \\n a n   h e r e   h e   w   l   x e e n   e r   f e r   l l   f   h   h   h p p e n e   h r n g   u       f r g g n g   h u e k e e p e r       w n   h e   h   n c e   b e e — n     w n   h e   l l   r e g r e     n e   r c v e \\n \\n t h e   w w   f e l l   n   h   l k e     v u l u r e     n     h e   e p p e   n   h e   u n n   k c h e n \\n \\n “ s   w u l   u   l k e     w x   h   f r n   b n e r   f r   e   f e r   u   h v e   u r   b r e k f   w e e l ?\",\n",
       " 'y u   g   e ?',\n",
       " \"”   t h e   b h   p r e e r v e   h e   g e n l e   f c n   h   h e     h e e   h n g     f v r   n   n     p   f r   h   f u r e e n - l l r - - w e e k   u p r   r \\n \\n “ s u r e   w u l   e v ” \\n \\n “ a n   h   r u g   n   h e   f r n   r — ” \\n \\n “ — h   g     b e   u r n e   y e h   i   r e e b e r ” \\n \\n “ h w '   u r   h e   h   r n n g ?\",\n",
       " \"”   s h e   k e   h e   q u e n   n     b u n e l k e   w   l l w n g   n   p     e n e r   h e r   n e … b u   h e   e n e     e x e n c e   b e n e h   h e   u r f c e \\n \\n “ h e '   f n e ”   h e     u c h l   p u n g   w e r   n     b l   f r   h e   e l \\n \\n “ y u   w e r e   u   l e     w h   i   k e ” \\n \\n “ y u   g     l n e   n   e     h   r g h ?\",\n",
       " \"”   h e   c c k e     h u r u   e e b r w     h e r   n   w   g r f e     e e   h   h e   c u l   l l   b l u h   l k e     c h l g r l   e v e n   h u g h   h e   h   l e f   f f   n   f u n n   u f f   l   n n e   e r   g \\n \\n “ n w   e — ” \\n \\n s h e   w   h e   n l   n e   w h   l l   c l l e   h   h   t   e v e r n e   e l e   n   h e   l   h e   w   j u   w e e l   w e l l   h   w   l l   r g h   l e   h e   c l l   h   n   l   h n g   h e   w n e   t h e   b e r   h   c u g h   h   u r e   e n u g h \\n \\n “ n e v e r   n ”   h e     g r u f f l   “ i   g   u p   n   h e   w r n g   e   f   h e   b e ” \\n \\n “ f e l l   u   f     b   h e   u n ”   s h e   p k e   r e   q u c k l   h n   h e   h   n e n e   b u   w e e l   n l   g r u n e   h e   c k e   n   e   h   h e f u l   e l   h e n   k   h e   c n   f   f u r n u r e   w x   n   r g   w h u   l k n g   b c k \\n \\n u p r   h e   p - p   f   h   g u '   p e w r e r   w e n   n   n   n   v n n e   u p h w   w h   h   h e   r   u p r   c r   f r   h     h e   r e   n   e v e r   r n n g     n n e   w e n   l l   n n   r e   n   g n     h r e e   w e n   u n l   x   r e   n   g n     n n e   n   w e n   r g h   h r u g h   u n l   n g h   w e e l   c u l n '   g n e   h v n g   h   n   w r   n   u r   n \\n \\n s l l   h e   e e e     n c e   e n u g h   r   n   h e   g h   b e   g   f r     f e w   b e e r   u     d e l l '   e   n g h   h e   h   h e r     f   h e   w r e r   r n k   l k e   f h \\n \\n h e   b e g n     p l h   h e   b n e r   e h c l l   n   f e l l     h n k n g   b u   h e   w w   g n   s h e   h   u r n e   h   p l c e   n     b r n g h u e   w h   h e r   h u b n '   n u r n c e   n e   n   h   n e   q u e   w e l l   w h   h u l n '   h e ?\",\n",
       " 's h e   w r k e   l k e     r   h r e   b u   h e   u   h v e   b e e n   u e     g e n g     r e g u l r   f r   h e r   h u b n   n   f e r   h e   g r e f   h   w h e   u   f   h e r   h   n e e   h   r e n e   g   h e   h   l k e       !',\n",
       " \"i n   h e     ' 6 1   n   ' 6 2   p e p l e   h   l l   b e e n   c l l n g   h   e   n e   f   w e e l   n   h e   h   l l   b e e n   h l n g   h e   b l e   n e   f   h e   h e r   w   r u n   h e   h     g   j b   n   h e   b & m   n   n e   n g h   n   j n u r   f   1 9 6 2     h   h p p e n e \\n \\n h e   p u e   n   h e   e   w x n g   v e e n   n   l k e   h u g h f u l l   u   f   h e   n r r w   j u   w n w   n   h e   e c n - f l r   l n n g   i   w   f l l e   w h   h e   l   b r g h   f l h l   g l e n   l g h   f   u e r     l g h   h   l u g h e     h e   c l   r l n g   u u n   n   h e   c l e r   w n e r   h   w u l   f l l w   \\n \\n i   h   b e e n   p r   h e r   n   p r   h   h   n g h   n   f e r     h   h p p e n e   n   h e   w e r e   l n g   g e h e r   n   h e   r k n e   f   h e r   b e r   h e   b e g n     w e e p   n   e l l   h   h   w h   h e   h   n e   w   w r n g   h e   l   h e r     h   b e e n   r g h   n   k n w n g   f     h   b e e n   r g h   r   n   n   n   c r n g   n   h e r e   h   b e e n     n r h e r   w h p n g   n   c u g h n g   n   c r e n g   r u n   h e   e v e   n   h e r   r   h   b e e n   w r   n   f e   n     l   h e   h   l e p   g e h e r   l k e   p n   n     l v e r w r e   r w e r \\n \\n a h   g   n   n n   j e u   e   w   l k e     r v e r   n   h e   w n e r e   f   h   w r e r   f e l l   k n e w   h \\n \\n h e   b e g n     p l h   h e   b n e r   g n   w h   l n g   w e e p n g   r k e \\n \\n \\n n i n e \\n \\n 1 0 : 0 0   a m \\n \\n i   w   r e c e   e     s n l e   s r e e   e l e e n r   s c h l   w h c h   w   h e   l '   n e w e   n   p r u e   c h l   b u l n g   i   w     l w   g l n e   f u r - c l r   b u l n g   h   h e   c h l   r c   w   l l   p n g   f r     n e w   n   b r g h   n   e r n     h e   b r c k   s r e e   e l e e n r   s c h l   w   l   n   r k \\n \\n r c h e   b n   w h   w   h e   c h l   b u l l   n   p r u   f     e p p e   u   n   h e   p l g r u n   g r n l   e e   e r c h n g   f r   h   r -   n e w   k   w h   k n e w   l l   h e   n w e r   n   h   n   n e w   k   c e   w l z n g   n   h   c h l   w h u   k n w n g   w h   w   b   e p e c l l   e   f u r - e e   q u e e r - b   e c h e r '   p e   l k e   h   n e \\n \\n r c h e   w   e l e v e n   e r   l   n   w e g h e   1 4 0   p u n   a l l   h   l f e   h   h e r   h   b e e n   c l l n g   n   p e p l e     e e   w h     h u g e   u n g   n   h e r   n   w   a n     h e   k n e w   h e   w   b g   s e e   h e   f n c e   h   h e   c u l   f e e l   h e   g r u n   r e b l e   u n e r n e h   h   f e e   w h e n   h e   w l k e   a n   w h e n   h e   g r e w   u p   h e   w   g n g     k e   c e l   j u   l k e   h   l   n \\n \\n t h e   f u r h - n   f f h - g r e r   w e r e   e r r f e   f   h   n   h e   l l e r   k   r e g r e   h       c h l r   e   w h e n   h e   v e   n     h e   e v e n h   g r e     b r c k   s r e e   s c h l   h e r   p n h e n   w u l   b e   e p   f     e v l   a l l   h   p l e e   h   e n e l \\n \\n a n   h e r e   w   h e   p e r e   k   w n g     b e   c h e n   u p   f r   h e   r e c e   u c h   f b l l   g e \\n \\n “ h e !\",\n",
       " \"”   r c h e   e l l e \\n \\n e v e r n e   l k e   r u n   e x c e p   p e r e   e v e r   e e   h     g l   h e e n   n     n   e v e r   p r   f   e e   h w e   r e l e f   w h e n   h e   w   h   r c h e '   r e e   e l e w h e r e \\n \\n “ h e   u !\",\n",
       " 'f u r - e e !',\n",
       " '” \\n \\n m r k   p e r e   u r n e   n   l k e     r c h e   h   e e l - r e   g l e   f l h e   n   h e   r n n g   u n   h e   w     l l     r c h e   w h c h   e n   h e   w e r e   v e r     f   h   c l e   b u   h e   w   l e n e r   n   h   f c e   l k e   e f e n e l e   n   b k h \\n \\n “ a r e   u   p e k n g     e ?',\n",
       " \"” \\n \\n “ ' a r e   u   p e k n g     e ?\",\n",
       " ' ”   r c h e   c k e   h   v c e     h g h   f l e   “ y u   u n   l k e     q u e e r   f u r - e e   y u   k n w   h ?',\n",
       " \"” \\n \\n “ n   i   n '   k n w   h ”   m r k   p e r e   \\n \\n r c h e   k     e p   f r w r   “ i   b e   u   u c k   u   k n w   h   f u r - e e ?\",\n",
       " 'i   b e   u   u c k   h e   l   h r   r ” \\n \\n “ r e l l ?',\n",
       " \"”   h   p l e   n e   w   n f u r n g \\n \\n “ y e h   i   h e r   u   r e l l   u c k     n   j u   t h u r   f r   u   y u   c n '   w   e v e r     f r   u ” \\n \\n k   b e g n     r f   v e r     w c h   r c h e   p   h e   n e w   b   m   h l c b   w h   w   p l g r u n   n r   h   w e e k   w   u   f r n   w c h n g   h e   l l e   k   n   h e   w n g   n   e e w \\n \\n “ w h '   u r   r c k e ?\",\n",
       " \"”   m r k   p e r e   k e   h e   w   l k n g     r c h e     f   h e   h   c v e r e   n   n e r e n g   n e w   b e e l e \\n \\n “ ' w h '   u r   r c k e ?\",\n",
       " \" ”   r c h e   c k e   f l e   “ i   n '   g   n   r c k e   i   j u   h e r   u   w e r e     b g   f   q u e e r   h '   l l ” \\n \\n “ i   h   r g h ?\",\n",
       " \"”   m r k   k e   l l   p l e   “ i   h e r   h   u   w e r e     b g   c l u   u p   u r   h '   w h   i   h e r ” \\n \\n u e r   l e n c e   t h e   h e r   b   g p e   b u     w   n   n e r e e   g p e ;   n n e   f   h e   h   e v e r   e e n     f e l l w   g n   h   w n   e h   w r r n   b e f r e   r c h e   w   c u g h   e n r e l   b   u r p r e   n   g p e   w h   h e   r e \\n \\n m r k   k   f f   h   g l e   n   h n e   h e     h e   b   n e x     h   “ h l   h e e   w u l   u ?\",\n",
       " \"”   t h e   b   k   h e   n   g g g l e     m r k   l e n l \\n \\n r c h e   c h r g e   i   w     l w   l u b e r n g   c h r g e   w h   n     b   f   g r c e   r   f n e e   n     t h e   g r u n   r e b l e   u n e r   h   f e e   h e   w   f l l e   w h   c n f e n c e   n   h e   c l e r   j u   u r g e     p   n   b r e k   h e   w u n g   h   h k e r   r g h   w h c h   w u l   c c h   l e   f u r - e e   q u e e r - b   r g h   n   h e   u h   n   e n   h   e e h   f l n g   l k e   p n   k e   g e   r e   f r   h e   e n   q u e e r - b   h e r e   i   c e \\n \\n m r k   p e r e   u c k e   n   e e p p e     h e   e   n n   t h e   h k e r   w e n   v e r   h   h e   r c h e   w   p u l l e   h l f w   r u n   b   h e   f r c e   f   h   w n   b l w   n   m r k   h   n l     c k   u     f   r c h e   b n   h u p e     h e   g r u n   h e   g r u n e   t h e   c r w   f   w c h n g   c h l r e n   w e n   “ a h ” \\n \\n m r k   k n e w   p e r f e c l   w e l l   h   f   h e   b g   c l u   b   n   h e   g r u n   r e g n e   h e   v n g e   h e   w u l   b e   b e e n   u p   b l   m r k   w   g l e   b u   g l   c u l   n   n   u p   f r   l n g   n     c h l r   b r w l   i n     r e e   u n   h   w u l   h v e   b e e n   h e   e     r u n     u n c e   h   l w e r   p u r u e r   h e n   u r n   n   h u b   h   n e   b u   h   w n '   h e   r e e   r   h e   c   n   h e   k n e w   p e r f e c l   w e l l   h   f   h e   n '   w h p   h   b g   u g l   u r   n w   h e   h r e n   w u l   n e v e r   p \\n \\n t h e e   h u g h   w e n   h r u g h   h   n   n     f f h   f     e c n \\n \\n h e   j u p e   n   r c h e   b n '   b c k \\n \\n r c h e   g r u n e   t h e   c r w   w e n   “ a h ”   g n   m r k   g r b b e   r c h e '   r   c r e f u l     g e     b v e   h e   h r   c u f f     h e   c u l n '   w e   u   f   h   g r p   n   w e     b e h n   r c h e '   b c k   r c h e   c r e e   n   p n \\n \\n “ s   u n c l e ”   m r k   l   h \\n \\n r c h e '   r e p l   w u l   h v e   p l e e     w e n - e r   n v   n \\n \\n m r k   n k e   r c h e '   r   u p     h   h u l e r   b l e   n   r c h e   c r e e   g n   h e   w   f l l e   w h   n g n n   f r g h   n   p u z z l e e n   t h   h   n e v e r   h p p e n e     h   b e f r e   i   c u l n '   b e   h p p e n n g   n w   s u r e l   n   f u r - e e   q u e e r - b   c u l   b e   n g   n   h   b c k   n   w n g   h   r   n   k n g   h   c r e   b e f r e   h   u b j e c \\n \\n “ s   u n c l e ”   m r k   r e p e e \\n \\n r c h e   h e v e   h e l f     h   k n e e ;   m r k   q u e e z e   h   w n   k n e e   n   r c h e '   e   l k e     n   r n g     h r e   b r e b c k   n   e   n   t h e   w e r e   b h   c v e r e   w h   u   b u   r c h e   w   u c h   h e   w r e   f r   w e r   h   f c e   w   r e   n   r n n g   h   e e   b u l g e   n   h e r e   w     c r c h   n   h   c h e e k \\n \\n h e   r e     u p   m r k   v e r   h   h u l e r   n   m r k   n k e   u p w r   n   h e   r   g n   t h   e   r c h e   n '   c r e   h e   w l e \\n \\n “ s   u n c l e   r     h e l p   e   g   i ' l l   b r e k   ” \\n \\n r c h e '   h r   h   p u l l e   u   f   h   p n   h   b e l l   f e l   h   n   c r c h e   h e   b e g n     b   n   w r e n c h   h   h u l e r   f r   e     e   y e   h e   h e f u l   f u r - e e   q u e e r - b   e   n   h   f r e r   w   c e   h   h u l e r   f r e \\n \\n “ g e   f f   e   u   n   f     w h r e !\",\n",
       " \"y u   n '   f g h   f r !\",\n",
       " '” \\n \\n a n   e x p l n   f   p n \\n \\n “ s   u n c l e ” \\n \\n “ n !',\n",
       " '” \\n \\n h e   v e r b l n c e   n   h   k n e e   n   w e n   f c e w n   n   h e   u   t h e   p n   n   h   r   w   p r l z n g   h e   w   e n g   r   t h e r e   w   r   n   h   e e   h e   h r h e   h   l e g   h e l p l e l   h e   h   f r g e n   b u   b e n g   h u g e   h e   h   f r g e n   b u   h w   h e   g r u n   r e b l e   u n e r   h   f e e   w h e n   h e   w l k e   h e   h   f r g e n   h   h e   w   g n g     k e   c e l   j u   l k e   h   l   n   w h e n   h e   g r e w   u p \\n \\n “ u n c l e !',\n",
       " 'u n c l e !',\n",
       " 'u n c l e !',\n",
       " \"”   r c h e   c r e e   h e   f e l   h   h e   c u l   g   n   c r e n g   u n c l e   f r   h u r   f r     f     w u l   g e   h   r   b c k \\n \\n “ s :   ' i '     b g   u g l   u r ' ” \\n \\n “ i '     b g   u g l   u r !\",\n",
       " \"”   r c h e   c r e e   n   h e   r \\n \\n “ g   e n u g h ” \\n \\n m r k   p e r e   g   f f   h   n   e p p e   b c k   w r l   u   f   r e c h     r c h e   g   u p   h   h g h   h u r   f r   q u e e z n g   h e   g e h e r   h e   h p e   h   l l   h e   f g h   w   u   f   r c h e   i f   n   h e   w   g n g     g e   c r e e \\n \\n r c h e   g   u p   h e   l k e   r u n   n   n e   e   h   e e   t h e   u r n e   w   n   w e n   b c k     w h e v e r   h e   h   b e e n   n g   t h   n k n g   g l c k   k   w   n n g   n e x     h e   q u e e r - b   n   l k n g     h     h u g h   h e   w e r e   e   k n   f   g \\n \\n r c h e     b   h e l f   h r l   b l e     b e l e v e   h w   q u c k l   h   r u n n   h   c e   h   f c e   w   u   e x c e p   w h e r e     h   b e e n   r e k e   c l e n   w h   h   e r   f   r g e   n   h e   h e   c n e r e   l u n c h n g   h e l f     m r k   p e r e   y e   h   h e   n   f e r   n e w   n   h n n g   n   h u g e   w u l   n   l l w     n   e   h   r   c h e   l k e     r e   h   s n   f     w h r n g   r   f g h e r   i f   i   e v e r   l n   n   u   n   g e   u   w n — \\n \\n b u   n     h e   u r n e   w   n   w l k e   f f   n   h e   g r u n   n '   r e b l e     b   h e   l k e     h e   g r u n     h e   w u l n '   h v e     l k   n n e   n   h e   f c e \\n \\n s e n e   n   h e   g r l '   e   l u g h e —   h g h   c k n g   u n   h   c r r e   w h   c r u e l   c l r   n   h e   r n n g   r \\n \\n h e   n '   l k   u p     e e   w h   w   l u g h n g     h \\n \\n \\n t e n \\n \\n 1 1 : 1 5   a m \\n \\n t h e   j e r u l e '   l   t w n   d u p   h   b e e n     p l n   l   g r v e l   p   u n l     r u c k   c l   n   p   u   n   1 9 4 5   i   w     h e   e n   f     p u r   h   l e   f f   f r   h e   b u r n   r   w   l e   b e n   h r n   h l l   c e e e r \\n \\n d u   r g e r   c u l   h e r   h e   f n   p u e r   n   c u g h   f   m k e   r e r n '   l w n   w e r   w n   h e   r   b u   h   u n   w u l   n   b e   b l e   u   b   h e   c r c k l e   f   f l e \\n \\n d u   h   b e e n   h e   u p   c u n   n c e   1 9 5 6   n   h   r e p p n e n   e c h   e r     w n   e e n g   w   r u n e   n   b   c c l n   h e   l v e     h e   u p   n     n e   r p p e r   l e n -   w h     g n   r e n g   “ d u p   c u n ”   n   h e   k e w - h u n g   r   h e   h   w n g l e     p c e   h e e r   u   f   h   k n f l n   b r   f   e l e c e n   h r e e   e r   g   n   h   g v e n   u p   h   p r e n   n   w n   f r   g \\n \\n h e   w     h u n c h b c k   w h     c u r u   c c k e   h e   h   e   h   l k     f   g   h   g v e n   h     f n l   p e u l n   w r e n c h   b e f r e   l l w n g   h   u   n   h e   w r l   h   r   w h c h   n g l e   p e l k e   l     h   k n e e   w e r e   z n g l   r n g   i   h   k e n   f u r   e n     l   h e   l   h r w r e   r e   f l r   f e   n   h e r   p n e l   r u c k     b r n g     u   h e r e   w h e n   h e   r e   g     n e w   w l l   j b   t h e   r e   f   h e   r u c k   h   e l e   p p r e c b l   w h e n   h e   p u     n   b u   d u   r g e r   h   k e n     f f   h e l f   c r   n n g   u   n   h   n e c k   v e n   b u l g n g   n   h   f r e h e   n   f r e r   n   b c e p   l k e   b l u e   c b l e   h e   h   p u h e     v e r   h e   e   e g e   h e l f \\n \\n d u   l k e   h e   u p   h e   l k e   r u n n n g   f f   h e   k   w h   c e   h e r e     b u   b l e   n   h e   l k e   r e c n g   r f f c     w h e r e v e r   h e   '   u p n g   w   g n g   n   h e   l k e   u p - p c k n g   w h c h   w   h   p r v l e g e     c u n   h e   u p p e   h e   n e e r e     h   w l k n g   c r   h e   u n n   f   r h   n   h   h p   w e r   n   l e h e r   g l v e   w h   h   p l   n   h   h l e r     c k   v e r   h   h u l e r   n   h   p c k e k n f e   n   h   h n   l e   h e   n e e r   t h e r e   w   c p p e r   c r e   w r e   n   e e   w h l e   r   w h   h e r   c p p e r   w r p p n g   n c   n   c p p e r   f e c h e     g   p r c e   n   p r l n   t h e r e   w e r e   b u e - u   b u r e u   n   c h r   n   f   h n g   h   c u l   b e   f x e   u p   n   l     h e   n q u e   e l e r   n   r u e   1   d u   r k e   h e   e l e r   n   h e   e l e r   u r n e   r u n   n   r k e   h e   u e r   p e p l e   n   w n '     j u   f n e   h e   w   h e   w r l   w e n   r u n   n   r u n   h e '   f u n     p l n e r e   p l   b e   w h     b u e   f r e   w   e r   b c k   n   h   l         f g g   f r   w e l l   f r   w   h u n r e   b u c k   t h e   f g g   h   g n e   n   e c e   b u   h e   n e w   e n g l n   u h e n c   f   h   b e   n e v e r   k n w n g   h w   c r e f u l l   d u   h   n e   f f   h e   m e   n   g r n   r p   n   h e   b c k   f   h e   h e b r \\n \\n a   h e   f r   e n   f   h e   u p   w e r e   h e   j u n k e   c r   b u c k   n   f r   n   c h e v e   n   u   n e     n     g   h e   p r   p e p l e   l e f   n   h e r   c h n e   w h e n   h e   w e r e   h r u g h   w h   h e   r r   w e r e   b e   b u     g   f u r - b r r e l   c r b   w u l   f e c h   e v e n   l l r   f e r     h   b e e n   k e   n   g l n e   n     e n n   f n   b e l   l l g h   r b u r   c p   w n h e l   e e r n g   w h e e l   n   f l r   \\n \\n y e   h e   u p   w   f n e   t h e   u p   w   d n e l n   n   s h n g r - l   l l   r l l e   u p   n   n e   b u   n   e v e n   h e   n e   u c k e   w   n   h e   b l c k   b x   b u r e   n   h e   r   b e l w   h   e   c h r   w   h e   b e   p r \\n \\n t h e   b e   p r   w   h e   f r e — n   h e   r \\n \\n d u   e   p r   f   h   u p   n   f r e   n   s u n   n   w e n e   r n n g   n   n   m n   n   f r   e v e n n g   e v e n n g   f r e   w e r e   h e   p r e e   h e   l v e   h e   u k   r e e   g l w   h   b l e   u   f   h e   g r e e n   p l c   b g   f   c r p   n   l l   h e   n e w p p e r   n   b x e   b u   r n n g   f r e   w e r e   b e e r   f r   r \\n \\n n w   n g   n   h   e   c h r   n   w c h n g   h e   f r e   c c h   n   b e g n     e n     g r e   b l c k   k e   n   h e   r   e n n g   h e   g u l l   l f   d u   h e l   h   2 2   r g e   p l   l e l   n   h   h n   n   w e   f r   h e   r     c e   u \\n \\n w h e n   h e   c e   h e   c e   n   b l n   t h e   w e r e   b g   r   g r   p n k - e e   s l l   f l e   n   c k   j u p e   n   h e r   h e   t h e r   l   r g g e   f e r   h e   l k e   h c k   p n k   w r e   d u   l v e     h   r \\n \\n “ y u   b u     p w e r f u l   l u g   '   h e l l   d u ”   g e r g e   m l e r   w n     h e   h r w r e   r e   w u l     n   h   f r u   v c e   p u h n g   h e   b x e   f   r e n g n   c r   “ t w n   p   f r   ' e ?\",\n",
       " \"”   t h   w   n   l   j k e   s e   e r   b c k   d u   h   p u   n     p u r c h e   r e r   f r   w   h u n   r u n   f   h l l w - p n   2 2   c r r g e   n   b l l   n r n   h   g r l   e n   h   p c k n g \\n \\n “ n w ”   d u   w u l     “ u   k n w   h     p u r e l     p u b l c   e r v c e   g e r g e ” \\n \\n t h e r e   t h   b g   f   n e   w h   h e   g p   b c k   l e g   w   g e r g e   m l e r   h   e h n g   n   h   u h   h   l k e   l k e     h r e e   p e c e   f   c h c k e n   l v e r \\n \\n “ h e r e   u   g   g e r g e   h e r e   ' r e ”   d u     n   q u e e z e   f f   t h e   2 2 '   r e p r   w   f l   n   u n r c   b u   h e   r   u b l e   v e r   w c e   n   l   w c h n g   h l l w   p n   h   w   h e   c k e   s e   h e   w   g n g     g e     l r g e - b r e   4 5   r     3 5 7   m g n u   n   e e   w h   h       h e   l l e   c c k - k n c k e r \\n \\n t h   n e x   n e   n w   h   w   h   l u   l l e   r u h e   c r c k e   h e   n e   w h   n '   w e r   n   b r     c h l   n   w   l w   e l b w n g   h e r   c h u   n   n g g e r n g   w h e n   d u   p e   n   h e   r e e   b n g   g - b   r u h e \\n \\n t h e   r   c u r r e   l   f r   h e   p r e c n   f   h e   u p '   f r   e   b u   b e f r e   h e   w e r e   g n e   d u   h   g e n   x   f   h e —   g   r n n g '   k l l   i f   h e   w e n   u   h e r e   n   l k e     h e   h e   c k   w u l   b e   r u n n n g   f f   h e   c l n g   b e   l k e … l k e … w h   l k e   r   e e r n g     n k n g   h p \\n \\n t h   r u c k   h     e l c u l   f u n n   n   h e   h r e w   b c k   h   q u e e r l   c c k e   h e   n   r c k e   b c k   n   h   h u p   n   l u g h e   n   g r e   l n g   g u     h e   f r e   c r e p   h r u g h   h e   r h   w h     g r p n g   r n g e   f n g e r \\n \\n l f e   u r e l   w   g r n \\n \\n \\n e l e v e n \\n \\n 1 2 : 0 0   n n \\n \\n t h e   w n   w h l e   w e n   f f   w h     g r e   w e l v e - e c n   b l   u h e r n g   n   l u n c h   h u r     l l   h r e e   c h l   n   w e l c n g   h e   f e r n n   l w r e n c e   c r c k e   h e   l '   e c n   e l e c n   n   p r p r e r   f   c r c k e '   s u h e r n   m n e   i n u r n c e   n   r e l   p u   w   h e   b k   h e   h   b e e n   r e n g   s n '   s e x   s l v e   n   e   h   w c h   b   h e   w h l e   h e   w e n     h e   r   n   h u n g   h e   “ b c k     o n e   o ' c l c k ”   g n   f r   h e   h e   p u l l   h   r u n e   w   u n v r n g   h e   w u l   w l k   u p     h e   e x c e l l e n   c f é   h v e   w   c h e e e b u r g e r   w h   h e   w r k   n     c u p   f   c f f e e   n   w c h   p u l n e '   l e g   w h l e   h e   k e     w l l   p e n n \\n \\n h e   r l e   h e   r k n b   n c e     k e   u r e   h e   l c k   h   c u g h   n   v e   f f   w n   j n n e r   a v e n u e   h e   p u e   n   h e   c r n e r   n   g l n c e   u p     h e   m r e n   h u e   t h e r e   w     c r   n   h e   r v e w   h e   c u l   j u   k e     u   w n k l n g   n   h n n g   i   c u e     h r e   f   q u e   e w h e r e   n   h   c h e   h e   h   l   h e   m r e n   h u e   n   h e   l n g - e f u n c   v l l g e   w h u b   n     p c k g e   e l   v e r     e r   g   i   h   b e e n   h e   r n g e   e l   f   h   l f e — n   h e   h   e   e   r n g e   n e   n   h   e   t h e   w n e r   f   h e   c r   u p   h e r e   w   n   l l   p r b b l     n   n e   s r k e r   r t   s r k e r   a n   j u   h   r n n g   h e   h   r e c e v e   e h n g   n   h e   l   f r   h   s r k e r \\n \\n t h e   f e l l w   n   q u e n   h   r v e n   u p     c r c k e '   f f c e   n     h e r n g   j u l   f e r n n   j u   v e r     e r   g   h e   g   u   f   h e   c r   n     n   h e   e w l k   f r     e n   b e f r e   c n g   n e     l l   n   r e e   n     b e r   h r e e - p e c e   u   n   p e   f   h e   '   h e   h e   w     b l       c u e b l l   n     w e l e     e   h   e e b r w   w e r e     r g h   b l c k   l h   n   h e   e e   c k e   h e l v e   w   b e l w   h e     r k   h l e   h   g h   h v e   b e e n   c r v e   n   h e   n g u l r   u r f c e   f   h   f c e   w h   r l l   b   h e   c r r e     l   b l c k   b r e f c e   n   n e   h n   l r r   w   l n e   n   h   f f c e   w h e n   s r k e r   c e   n ;   h   p r - e   e c r e r     f l u h   g r l   w h   h e     e l e c b l e   e   f   j h b e   u   e v e r   c l p p e   n   e e     w r k e   f r     g e   f l l   l w e r   n   h e r   f e r n n \\n \\n t h e   b l   n     w n   n   h e   c l e n '   c h r   p u   h   b r e f c e   n   h   l p   n   r e     l r r   c r c k e   i   w   p b l e     r e   h e   e x p r e n   n   h   e e   n   h   b h e r e   l r r   h e   l k e     b e   b l e     r e     n '   w n   n   h   b b   b l u e   r   b r w n   b e f r e   h e   n   e v e n   p e n e   h   u h   t h   n   h   n   p u e     l k     h e   p c u r e   f   l c l   p r p e r e   h   w e r e   c k e   u p   n   h e   b u l l e n   b r   h   n   f f e r e     h k e   h n   n   n r u c e   h e l f   h   n   e v e n     h e l l \\n \\n “ h w   c n   i   h e l p   u ?\",\n",
       " \"”   l r r   k e \\n \\n “ i   h v e   b e e n   e n     b u     r e e n c e   n     b u n e   e b l h e n   n   u r   - f r   w n ”   h e   b l   n     h e   p k e   w h     f l   u n n f l e c e   n e l e n e   h   e   l r r   h n k   f   h e   r e c r e   n n u n c e e n   u   g   w h e n   u   l e   h e   w e h e r \\n \\n “ w e l l   h e   w n e r f u l ”   l r r     “ w e   h v e   e v e r l   v e r   n c e   p r p e r e   h   g h — ” \\n \\n “ t h e r e     n   n e e ”   h e   b l   n     n   h e l   u p   h   h n     p   l r r '   w r   l r r   n e   w h   f c n n   h   h   f n g e r   w e r e   z n g l   l n g — h e   l e   f n g e r   l k e   f u r   r   f v e   n c h e   f r   b e     p   “ t h e   b u n e   e b l h e n       b l c k   b e n   h e   t w n   o f f c e   b u l n g   i   f r n   n   h e   p r k ” \\n \\n “ y e h   i   c n   e l   w h   u   n   h   u e     b e     l u n r   w e n   b r k e     e r   g   t h '   b e     r e l   g   l c n   f   u — ” \\n \\n “ t h e   r e e n c e ”   h e   b l   n   v e r r e   h   “   h e   n e   r e f e r r e     n   w n     h e   m r e n   h u e ” \\n \\n l r r   h   b e e n   n   h e   b u n e     l n g     h w   h   h u n e r r u c k   f e e l n g   n   h   f c e   “ i   h   ?\",\n",
       " '” \\n \\n “ y e   m   n e     s r k e r   r c h r   t h r c k e   s r k e r   a l l   p p e r   w l l   b e   n     n e ” \\n \\n “ v e r   g ”   l r r     t h e   n   e n   b u n e   h   u c h   e e e   c l e r   e n u g h   “ t h e   k n g   p r c e   n   h e   m r e n   h u e     f u r e e n   h u n   l h u g h   i   h n k     c l e n   c u l   b e   p e r u e     k e     l l e   l e   o n   h e   l   w h e r — ” \\n \\n “ t h     n   c c r   i   h v e   b e e n   u h r z e     p   n e   l l r ” \\n \\n “ o n e — ?',\n",
       " \"”   l r r   l e   h   h e   f r w r   h e   w     n   w l l   w h e n   h e   h   f l e     h e r   e h n g   c r r e c l \\n \\n “ y e   a e n   p l e e ” \\n \\n s r k e r '   l n g   f n g e r   u n   h e   c l p   n   h   b r e f c e   p e n e     n   k   u     n u b e r   f   p p e r   b u n   n     b l u e   r n p r e n   f l e r \\n \\n l r r   c r c k e   l k e     h   f r w n n g \\n \\n “ r e   p l e e   t h   w l l   v e   e ” \\n \\n l r r   h u b e   b c k   h e   f l e r '   p l c   c v e r   n   g l n c e   w n     h e   f r   h e e   w h   h e   r   f     n   h u r n g     f l   h   e e   v e   f r   l e f     r g h   r n l   f r     e n   h e n   r v e e   n   e h n g \\n \\n s r k e r   l e   h n l   h e   r e c h e   n e   h   u   c   p r u c e     f l   g l   c g r e e   c e   n   e l e c e     c g r e e   h e   p e     n   h e n   l     w h     w e n   c h   t h e   h r h   r   f     t u r k h   b l e n   f l l e   h e   f f c e   n   w   e e   r u n   b   h e   f n \\n \\n t h e r e   h   b e e n   l e n c e   n   h e   f f c e   f r   h e   n e x   e n   n u e   b r k e n   n l   b   h e   h u   f   h e   f n   n   h e   u e   p g e   f   r f f c   n   h e   r e e   u e   s r k e r   k e   h   c g r e e   w n       h r e   c r u h e   h e   g l w n g   h   b e w e e n   h   f n g e r   n   l   n h e r \\n \\n l r r   l k e   u p   h   f c e   p l e   n   h k e n   “ t h       j k e   w h   p u   u   u p     ?\",\n",
       " 'j h n   k e l l ?',\n",
       " \"” \\n \\n “ i   k n w   n   j h n   k e l l   i   n '   j k e ” \\n \\n “ t h e e   p p e r … q u - c l   e e … l n   l e   e r c h …   g   n   n '   u   k n w   h   p e c e   f   l n     w r h   n e   n     h l f   l l n   l l r ?\",\n",
       " '” \\n \\n “ y u   p k e r ”   s r k e r     c l l   “ i     w r h   f u r   l l n   s n     b e   w r h   r e   w h e n   h e   h p p n g   c e n e r     b u l ” \\n \\n “ w h     u   w n ?',\n",
       " '”   l r r   k e   h   v c e   w   h r e \\n \\n “ i   h v e   l   u   w h   i   w n   m   p r n e r   n   i   p l n     p e n     b u n e   n   h   w n   w e   p l n     l v e   n   h e   m r e n   h u e ” \\n \\n “ w h   r   f   b u n e ?',\n",
       " 'm u r e r   i n c r p r e ?',\n",
       " \"” \\n \\n s r k e r   l e   c l l   “ a   p e r f e c l   r n r   f u r n u r e   b u n e   i     f r   w h     l n e   f   r h e r   p e c l   n q u e   f r   c l l e c r   m   p r n e r     e h n g   f   n   e x p e r   n   h   f e l ” \\n \\n “ s h ”   l r r     c r u e l   “ t h e   m r e n   h u e   u   c u l   h v e   f r   e g h   n     h l f   g r n   h e   h p   f r   x e e n   y u r   p r n e r   u   k n w   h   a n   u   b h   u   k n w   h   h   w n   c n '   u p p r     f n c   f u r n u r e   n   n q u e   p l c e ” \\n \\n “ m   p r n e r     e x r e e l   k n w l e g e b l e   n   n   u b j e c   n   w h c h   h e   b e c e   n e r e e ”   s r k e r     “ h e   k n w   h   u r   w n     n     h g h w   w h c h   e r v e   u r   n   u e r   r e e n   t h e e   r e   h e   p e p l e   w h   w h   w e   e x p e c       h e   b u l k   f   u r   b u n e   h w e v e r   h     n   c c r     u   d   u   f n   h e   p p e r   n   r e r ?\",\n",
       " \"” \\n \\n l r r   p p e   h   e k   w h   h e   b l u e   f l e r   “ t h e   e e     b e   b u   i '   n   g n g     b e   h r e - r e   n   e r   w h   u     u   w n ” \\n \\n “ n   f   c u r e   n ”   s r k e r '   v c e   w   e g e   w h   w e l l - b r e   c n e p   “ y u   h v e     l w e r   n   b n   i   b e l e v e   o n e   f r n c   w l h ” \\n \\n “ h w     u   k n w   h ?\",\n",
       " \"”   l r r   b r k e \\n \\n “ i   e n '   e r   t k e   h e   p p e r     h   h e   w l l   c n f r   h e r   v l   t h e   l n   w h e r e   h   h p p n g   c e n e r       b e   b u l   w l l   b e   u r   n   f u l f l l e n   f   h r e e   c n n ” \\n \\n “ a h ”   l r r     n   l k e   r e l e v e   “ c n n ”   h e   l e n e   b c k   n   e l e c e     w l l   p e n n   f r   h e   c e r c   c g r   b x   n   h   e k   h e   c r c h e     c h   n   h e   l e h e r   n   p u f f e   “ n w   w e ' r e   g e n g   w n     h e   b n e   f r e   w ” \\n \\n “ n u b e r   n e   y u   w l l   e l l   e   h e   m r e n   h u e   n   h e   b u n e   e b l h e n   f r   n e   l l r   y u r   c l e n   n   h e   e r   f   h e   h u e       l n   c r p r n   n   b n g r   t h e   b u n e   e b l h e n   n w   b e l n g       p r l n   b n k   i     u r e   b h   p r e   w l l   b e   g r e e b l e   f   u   k e   u p   h e   f f e r e n c e     h e   l w e   c c e p b l e   p r c e   m n u   u r   c n   f   c u r e ” \\n \\n “ w h e r e     u   g e   u r   n f r n ?\",\n",
       " \"” \\n \\n “ t h     n   f r   u     k n w   m r   c r c k e   c n n   w   y u   w l l     n h n g   f   u r   r n c n   h e r e     n h n g   i f   h e   q u e n   e v e r   c e   u p   l l   u   k n w     w h   i   h v e   l   u — w e   r e   w   p r n e r   b e g n n n g     b u n e   e     u r   n   u e r   p e p l e   t h     v e r   p r n ” \\n \\n “ i   n '   b l b ” \\n \\n “ n n e h e l e   i   w n     p r e   n   u   h e   e r u n e   f   h e   c n n   a   e     c e   m r   c r c k e   w h e n   u   w l l   w n     e l l   e n e   f   h e   w n e r f u l   e l   u   e   n   h     i f   u       i   w l l   f n   u   i   w l l   r u n   u   d   u   u n e r n ?\",\n",
       " '” \\n \\n “ y u   u n   l k e   n e   f   h e   c h e p   p   v e ”   l r r     h e   u n e   u n r u f f l e   b u   u n e r n e h   h e   f e l     n   r e r   f   f e r   t h e   w r   i   w l l   r u n   u   h   c e   u     f l l     h w   r e   u     i   g v e   h e   e e n   n   u n p l e n   r n g   f   r u h   a n   h w   n   h e l l     h   j k e r   k n w   b u   f r n k   w l h ?',\n",
       " 'n   e v e n   h   w f e   k n e w   b u   f r n k   w l h \\n \\n “ d   u   u n e r n   e   m r   c r c k e ?',\n",
       " \"” \\n \\n “ y e ”   l r r     “ i '   u e     p l n g   h e   c l e     h e   v e ” \\n \\n s r k e r   f f e r e   h   h n   l e   g n   “ o f   c u r e   t h     w h   i     n g   b u n e   w h   u ” \\n \\n “ t h e   h r   c n n ?\",\n",
       " \"” \\n \\n “ t h e   h u e   w l l   n e e   c e r n   r e n v n ” \\n \\n “ t h '   n e   w   f   p u n '   ”   l r r     r l \\n \\n “ m   p r n e r   p l n     c r r   h   k   u   h e l f   b u   u   w l l   b e   h   g e n   f r   e     e   h e r e   w l l   b e   r e q u e   f r   e     e   i   w l l   r e q u r e   h e   e r v c e   f   w h e v e r   l b r e r   u   e p l     b r n g   c e r n   h n g   e h e r     h e   h u e   r     h e   h p   y u   w l l   n   p e k   f   u c h   e r v c e   d   u   u n e r n ?\",\n",
       " \"” \\n \\n “ y e h   i   u n e r n   b u   u   n '   c e   f r   h e e   p r     u ?\",\n",
       " '” \\n \\n “ d e   h   h v e   b e r n g ?',\n",
       " \"”   s r k e r   r e   h   e e b r w \\n \\n “ s u r e     e   t h   n '   b n   r   n e w   y r k   i '   n   g n g     b e   j u     e r   f   e   k e e p n '     l p   b u n e   p e p l e   r e   g n g     l k   w h   h e r e '   n   l   b   v e r   n   r l r   s r e e   n e   f   m b e l   w e r   w h   p e n   l l     w h     p r   f   b n c u l r — ” \\n \\n “ i   n '   c r e   b u   h e   w n p e p l e   m   p r n e r   e n '   c r e   b u   h e   w n p e p l e   t h e   w n p e p l e   l w   l k   t h e   r e   n   f f e r e n   f r   h e   g p e   n   h e   e l e p h n e   w r e   s n   h e   w l l   c c e p   u ” \\n \\n l r r   h r u g g e   “ i '   u r   p r ” \\n \\n “ a   u   ”   s r k e r   g r e e   “ y u   w l l   p   f r   l l   e r v c e   n   k e e p   l l   n v c e   n   b l l   y u   w l l   b e   r e b u r e   d   u   g r e e ?\",\n",
       " \"” \\n \\n l r r   w     h e   h   l   s r k e r   u e     p l n g   h e   c l e     h e   v e   n   h e   h     r e p u n     n e   f   h e   b e   p k e r   p l e r   n   c u b e r l n   c u n   a n   l h u g h   h e   h   n n e   h   u w r   c l   h r u g h   l l   f   h   h e   w   n   f r e   n e   t h e   e l   h   c r z n   w   f f e r n g   h   w   h e   k n   f   h n g   h   c e   l n g   n c e   f   e v e r   p e r h p   h e   g u '   b   w   n e   f   h e   n u   b l l n r e   r e c l u e   w h — \\n \\n “ m r   c r c k e ?\",\n",
       " 'i     w n g ” \\n \\n “ t h e r e   r e   w   c n n   f     w n ”   l r r   \\n \\n “ a h ?',\n",
       " \"”   s r k e r   l k e   p l e l   n e r e e \\n \\n h e   r l e   h e   b l u e   f l e r   “ f r   h e e   p p e r   h v e     c h e c k   u ” \\n \\n “ o f   c u r e ” \\n \\n “ s e c n   f   u ' r e   n g   n h n g   l l e g l   u p   h e r e   i   n '   w n     k n w   b u     b   h   i   e n — ” \\n \\n b u   h e   w   n e r r u p e   s r k e r   h r e w   h   h e   b c k   n   g v e   v e n       n g u l r l   c l   n   e n l e   l u g h \\n \\n “ d   i     e h n '   f u n n ?\",\n",
       " '”   l r r   k e   w h u     r c e   f     l e \\n \\n “ o h … h … f   c u r e   n   m r   c r c k e   y u   u   p r n     u b u r   i   f u n   u r   c e n   u n g   f r   r e n   f     w n   w h   w e r e   u   b u     ?',\n",
       " \"” \\n \\n “ t h e e   r e n v n   i '   n   g n g     g e   u   n h n g   h   w u l   l e v e       u     h e   w n   i f   u ' r e   f x n g   u p     k e   n h n e   r   l s d   r   e x p l v e   f r   e   h p p e   r c l   u f   h '   u r   w n   l k u ” \\n \\n “ a g r e e ”   s r k e r     t h e   l e   w   g n e   f r   h   f c e   “ h v e   w e     e l ?\",\n",
       " \"” \\n \\n a n   w h   n     f e e l n g   f   r e l u c n c e   l r r   h     “ i f   h e e   p p e r   c h e c k   u   i   g u e   w e       h   a l h u g h     e e   l k e   u     l l   h e   e l n '   n   i     l l   h e   n e - k n ' ” \\n \\n “ t h     m n ”   s r k e r     “ s h l l   i   p   b   t h u r   f e r n n ?\",\n",
       " \"” \\n \\n “ b e e r   k e     f r ” \\n \\n “ s       v e r   w e l l ”   h e     “ g     m r   c r c k e ” \\n \\n t h e   p p e r   h   c h e c k e   u   l r r '   b n   l w e r     h e   l n   w h e r e   h e   p r l n   h p p n g   c e n e r   w     b e   b u l   h   b e e n   p u r c h e   b   n   u f   c l l e   c n n e n l   l n   n   r e l   w h c h   w     u   c p n   w h   f f c e   p c e   n   h e   c h e c l   b n k   b u l n g   n   n e w   y r k   t h e r e   w   n h n g   n   c n n e n l '   f f c e   b u     f e w   e p   f l n g   c b n e   n     l   f   u \\n \\n s r k e r   h   c e   b c k   h   f r   n   l r r   g n e   h e   n e c e r   l e   p p e r   h e       w h     r n g   e   f   u b   n   h e   b c k   f   h   u h   h e   h   v e r h r w n   h   w n   p e r n l   x   f r   h e   f r   e :   y u   n '   h   w h e r e   u   e   a n   l h u g h   h e   n u c e e n   h   b e e n   h g h   h e   r e l z e     s r k e r   p u   h e   w n e r h p   p p e r     h e   m r e n   h u e   n   e r w h l e   v l l g e   w h u b   n   h   b r e f c e   h   h e   h   p u   h e l f     h   n '   b e c k   n   c l l   a n   h e   e   w e n   f r   h   p r n e r   h e   b e n   m r   b r l w \\n \\n a   l   a u g u   h   p e   n     u e r   h   l p p e   n   f l l   n   h e n   f l l   n   w n e r   h e   h   b e g u n     f e e l   n   n e f n b l e   e n e   f   r e l e f   b   h   p r n g   h e   h   l   n g e     f r g e   h e   e l   h e   h   e     g e   h e   p p e r   w h c h   n w   r e e   n   h   p r l n   f e - e p   b x \\n \\n t h e n   h n g   b e g n     h p p e n \\n \\n t h   w r e r   m e r   h   c e   n     w e e k   n     h l f   g   k n g   f   h e   m r e n   h u e   w   v l b l e   f r   r e n l   n   h e   h   g v e n   l r r     p e c u l r   l k   w h e n   h e   l   h     w   l \\n \\n y e e r   h e r e   h   b e e n     l n g   u b e   n   h   p   f f c e   b x   n     l e e r   f r   s r k e r   a   n e   r e l l   i   h   b e e n   b r e f :   “ k n l   h v e   h e   p e r   w h c h   u   w l l   b e   r e c e v n g   u n e   n   h e   w n w   f   h e   h p — r t   s r k e r ”   t h e   p e r   e l f   w   c n   e n u g h   n   r e   u b u e   h n   e   i   n l   :   “ o p e n n g   n   n e   w e e k   b r l w   n   s r k e r   f n e   f u r n h n g   s e l e c e   n q u e   b r w e r   w e l c e ”   h e   h   g e n   r l   s n w     p u     r g h   u p \\n \\n a n   n w   h e r e   w     c r   u p   h e r e     h e   m r e n   h u e   h e   w   l l   l k n g       w h e n   e n e       h   e l b w :   “ f l l n '   l e e p   l r r ?\",\n",
       " \"” \\n \\n h e   j u p e   n   l k e   r u n     p r k n   g l l e p e   w h   w   n n g   n   h e   c r n e r   n e x     h   n   l g h n g     p l l   m l l \\n \\n “ n ”   h e     n   l u g h e   n e r v u l   “ j u   h n k n g ” \\n \\n p r k n   g l n c e   u p     h e   m r e n   h u e   w h e r e   h e   u n   w n k l e   n   c h r e   n   e l   n   h e   r v e w   h e n   w n     h e   l   l u n r   w h     n e w   g n   n   h e   w n w   “ a n   u ' r e   n   h e   n l   n e   i   g u e   a l w   g     g e   n e w   f l k   n   w n   y u ' v e   e   ' e   n '   u ?\",\n",
       " '” \\n \\n “ o n e   f   h e   l   e r ” \\n \\n “ m r   b r l w   r   m r   s r k e r ?',\n",
       " '” \\n \\n “ s r k e r ” \\n \\n “ s e e   l k e     n c e   e n u g h   r     h e ?',\n",
       " \"” \\n \\n “ h r     e l l ”   l r r     n   f u n   h e   w n e     l c k   h   l p   h e   n '   “ w e   n l   l k e   b u n e   h e   e e e   k ” \\n \\n “ g   t h '   g   c e   n   i ' l l   w l k   u p     h e   e x c e l l e n   w h   u ” \\n \\n w h e n   h e   c r e   h e   r e e   l w r e n c e   c r c k e   w   h n k n g   b u   e l   w h   h e   e v l \\n \\n \\n t w e l v e \\n \\n 1 : 0 0   p m \\n \\n s u n   n r n   e p p e   n   b b '   b e u   b u q u e   l e     b b   g r f f e n   h l   n   j c k '   e l e   e r   n     “ t h n k   g n e   u   c u l   k e   e   n   u c h   h r   n c e ” \\n \\n “ n   p r b l e   n   h e   l e   f   h e   w e e k ”   b b     u r n n g   n   h e   f n   “ m   n '     c l e ?\",\n",
       " \"i ' l l   h u n e r r   h   f e r n n ” \\n \\n s u n   l k e     h e   k   w h c h   w   n   u n b l e h e   b l u e   “ d   u   h n k   ?\",\n",
       " '” \\n \\n “ y e h   h w     u   w n     h n ?',\n",
       " \"” \\n \\n “ n u r l ”   s u n     h n k n g   f   b e n   m e r   “ l k e   i   h n '   e v e n   b e e n   n e r   h   p l c e ” \\n \\n “ h n ”   b b     c l n g   n   n   h e r   w h     g h   “ h '   w h   h e   l l   ” \\n \\n t h e   g h   w f e   h e   r   f   j u c   f r u   g u   n   b b   k e   s u n   f   h e   h   e e n   h   e   f l k   w e r e   p e n n g   u p     n e w   f u r n u r e   r e   n   h e   l   v l l g e   w h u b   e x p e n v e   u f f   b   h e   l k   f     b u   w u l n '     b e   n c e   f   h e   h     n c e   l l e   h u r r c n e   l p     c h   h e   n e   h e   h   n   h e r   p r e n   n   g e n g   w   f r   h e   n   l v n g   n   w n   w   h e   r e   v e   h e '   e v e r   e   n   h n '     b e e n     n c e   u e r ?\",\n",
       " \"i   e e e     h e     e v e r   h     e n \\n \\n \\n t h i r t e e n \\n \\n 3 : 0 0   p m \\n \\n b n n e   s w e r   w   l n g   n   h e   b g   u b l e   b e   n   h e r   h u e   n   h e   d e e p   c u   r   i   w     r e g u l r   h u e   n   h n   r l e r   n     h     f u n n   n     c e l l r   h e r   h u b n   r e g   e   g   n e       c r   e c h n c     j   s h '   p n c   n   b u x n \\n \\n s h e   w   n k e   e x c e p   f r     p r   f   f l   b l u e   p n e   n   h e   l k e   p e n l   v e r     h e   c l c k   n   h e   n g h n :   3 : 0 2 — w h e r e   w   h e ?\",\n",
       " 'a l     f   h e   h u g h   h   u n e   h   h e   b e r   r   p e n e   h e   n e   b   n   c r e   b r n   p e e r e   h r u g h \\n \\n “ i     k ?',\n",
       " \"”   h e   w h p e r e   c r e   w   n l   w e n - w   h   b e e n   w r k n g   f r   h e   p h n e   c p n   w   e r   n   h   f f r   w h     r r e   w n — e p e c l l     k n c k u   l k e   b n n e   s w e r   w h   h   b e e n   m   c u b e r l n   c u n   f   1 9 7 3 — l e f   h   f e e l n g   w e k   n   n e r v u   n   h r n \\n \\n b n n e   l e     h   w h   h e r   l v e l   c p p e   e e h   “ i f     w n '   h n e ”   h e     “ u '   h v e     h l e   n   u   b g   e n u g h     w c h   t v   h r u g h ” \\n \\n h e   c e   p e n g   n   h   u l   l n e n '   b e l   j n g l n g   r c u l u l   r u n   h   w \\n \\n b n n e   g g g l e   n   p e n e   h e r   r   “ i   r e l l   l k e   u   c r e   y u ' r e   c u e ” \\n \\n c r e '   e e   h p p e n e   n   h e   r k   h w   b e n e h   h e   u   b l u e   n l n   n   h e   b e g n     f e e l   r e   h r n   h n   n e r v u   h e   f r g   b u   p e n g   n   c e     h e r   n     h e   j n e     c c   b e g n     b u z z   e w h e r e   n   h e   w \\n \\n \\n f o u r t e e n \\n \\n 4 : 0 0   p m \\n \\n b e n   m e r   p u h e   w   f r   h   e k   h e   f e r n n '   w r n g   n e   h e   h   f r g n e   h   w l k   n   h e   p r k     h e   c u l   g     n n e r     h e   n r n '   h   n g h   w h     c l e r   c n c e n c e   n   h   w r e n   f r     f   h e     w h u     b r e k \\n \\n h e     u p   n   r e c h e   l e n n g     h e   b n e   n   h   p n e   c r c k l e   h   r   w   w e   w h   w e   h e   w e n     h e   c u p b r     h e   h e   f   h e   b e   p u l l e   u     f r e h   w e l   n   w e n   w n     h e   b h r     h w e r   b e f r e   e v e r n e   e l e   g   h e   f r   w r k   n   c l g g e   h e   p l c e \\n \\n h e   h u n g   h e   w e l   v e r   h   h u l e r   u r n e   b c k     h e   r   n   h e n   w e n     h e   w n w   w h e r e   e h n g   h   c u g h   h   e e   n h n g   n   w n ;     w   r w n g   w   h e   l e   f e r n n   u n e r     k   h   p e c u l r   h e   f   e e p   b l u e   h   g r c e   n e w   e n g l n   n   f n e   l e   u e r   \\n \\n h e   c u l   l k   c r   h e   w - r   b u l n g   n   j n n e r   a v e n u e   c u l   e e   h e r   f l   p h l e   r f   n   c r   h e   p r k   w h e r e   h e   c h l r e n   n w   h e   f r   c h l   l z e   r   b k e   r   q u b b l e   n   u     h e   n r h w e   e c n   f   w n   w h e r e   b r c k   s r e e   p p e r e   b e h n   h e   h u l e r   f   h   f r   w e   h l l   h   e e   r v e l e   n u r l l   u p     h e   b r e k   n   h e   w   w h e r e   h e   b u r n   r   n   h e   b r k   r   n e r e c e   n     t — n   n   u p     w h e r e   h e   m r e n   h u e     v e r l k n g   h e   w n \\n \\n f r   h e r e     w     p e r f e c   n u r e   n h e     h e   z e   f     c h l '   l l h u e   a n   h e   l k e     h   w   f r   h e r e   h e   m r e n   h u e   w     z e   h   c u l   b e   c p e   w h   y u   c u l   h l   u p   u r   h n   n   b l     u   w h   u r   p l \\n \\n t h e r e   w     c r   n   h e   r v e w \\n \\n h e     w h   h e   w e l   v e r   h   h u l e r   l k n g   u       n   v n g   f e e l n g     c r w l   f   e r r r   n   h   b e l l   h   h e     n   r     n l z e   t w   f   h e   f l l e n   h u e r   h   b e e n   r e p l c e     g v n g   h e   h u e     e c r e v e   b l n   l k   h     h   n   p e e   b e f r e \\n \\n h   l p   v e   l e n l     f   f r n g   w r   n   n e — e v e n   h e l f — c u l   u n e r n \\n \\n \\n f i f t e e n \\n \\n 5 : 0 0   p m \\n \\n m h e w   b u r k e   l e f   h e   h g h   c h l   c r r n g   h   b r e f c e   n   h   l e f   h n   n   c r e   h e   e p   p r k n g   l     w h e r e   h   l   c h e v   b c n e     l l   n   l   e r '   n w   r e \\n \\n h e   w   x - h r e e   w   e r   f r   n r   r e r e e n   n   l l   c r r n g     f u l l   l   f   e n g l h   c l e   n   e x r c u r r c u l r   c v e   f l l '   c v   w   h e   c h l   p l   n   h e   h   j u   f n h e   r e n g   f r     h r e e - c   f r c e   c l l e   c h r l e '   p r b l e   h e   h   g e n   h e   u u l   g l u   f   u e r   p b l e   p e r h p     z e n   u b l e   w r   b e   w h   w u l     l e   e r z e   h e r   l n e   n   h e n   e l v e r   h e   n     e h l   r e b l n g   n n e   n   h r e e   k   w h   h w e   f l r   h e   w u l   c   h e   n   f r   n   b e g n   b l c k n g   n e x   w e e k   t h e   w u l   p u l l   g e h e r   b e w e e n   h e n   n   o c b e r   3 0   w h c h   w   h e   p l   e   i   w   m '   h e r   h     h g h   c h l   p l   h u l   b e   l k e     b w l   f   c p b e l l '   a l p h b e   s u p :   e l e   b u   n   c v e l   f f e n v e   t h e   r e l v e   w u l   c e   n   l v e     t h e   h e e r   c r c   f r   h e   c u b e r l n   l e g e r   w u l   c e   n   g   n   p l l l b c   e c e     h e   w   p       v e r   n   l c l   p l   t h e   f e l e   l e   r u h e   c r c k e   h   e r   p r b b l   w u l   f l l   n   l v e   w h   e   h e r   c   e b e r   n   q u e   p b l   l e   h e r   v r g n   f e r   h e   c   p r   a n   h e n   h e   w u l   p c k   u p   h e   h r e   f   h e   d e b e   c l u b \\n \\n a   x - h r e e   m   b u r k e   l l   e n j e   e c h n g   h e   w     l u   c p l n r n   h u   f r f e n g   n   c h n c e   h e   g h   n c e   h v e   h     e p   u p     n r n   h e   w     l l e     r e - e e     e v e r   e r v e   e f f e c v e l     n   n   p r n c p l   b u   h   l c k   f   c p l n e   h   n e v e r   h e l   h   b c k   h e   h   r e   h e   n n e   f   s h k e p e r e   n   c l   p p e - c l n k n g   c l r   f u l l   f   f l n g   r p l n e   n   p b l l   h     w n   u p n   c k   n   h r w n   h e   w   b e n l     h e   l   h e   c l     u r n     p g e   4 6 7   n   h e r   g r r   h   p e n e   r w e r     g e   c p n   p p e r   n l     c v e r   c r c k e   f r g   n   n c e     e v e n - f   b l c k   n k e \\n \\n h e   h   r n g e   c r   h e   l e n g h   n   b r e h   f   h e   e n g l h   l n g u g e   l k e     l r   n   l   c p l c e n   a n c e n   m r n e r :   s e n b e c k   p e r   n e   c h u c e r   p e r   w   h e   p c   e n e n c e   p e r   h r e e   n   h e   f u n c n   f   h e   g e r u n   j u   b e f r e   l u n c h   h   f n g e r   w e r e   p e r n e n l   e l l w e   w h   c h l k   u   r h e r   h n   n c n e   b u     w   l l   h e   r e u e   f   n   c n g   u b n c e \\n \\n c h l r e n     n   r e v e r e   r   l v e   h ;   h e   w   n     m r   c h p   l n g u h n g   w   n     r u c   c r n e r   f   a e r c   n   w n g   f r   r   h u n e r     c v e r   h   b u   n   f   h   u e n     c e     r e p e c   h   n     f e w   l e r n e   f r   h   h   e c n   h w e v e r   e c c e n r c   r   h u b l e   c n   b e     n e w r h   h n g   h e   l k e   h   w r k \\n \\n n w   h e   g   n   h   c r   p u p e   h e   c c e l e r r     u c h   n   f l e     w e   n   r e     g n   h e   u n e   h e   r       p r l n   r c k   ' n '   r l l   n   n   j c k e   h e   v l u e   l     h e   p e k e r '   r n   p n   h e   h u g h   r c k   ' n '   r l l   w   f n e   u c   h e   b c k e   u   f   h   p r k n g   l   l l e   n   r e   h e   c r   u p   g n \\n \\n h e   h     l l   h u e   u   n   h e   t g g r   s r e   r   n   h   v e r   f e w   c l l e r   h e   h   n e v e r   b e e n   r r e   h   n   f l   e x c e p   f r     b r h e r   n   t e x   w h   w r k e   f r   n   l   c p n   n   n e v e r   w r e   h e     n   r e l l     h e   c h e n   h e   w     l r   n   b u   l u e   h   n   n   w   w e   h \\n \\n h e   p u e     h e   b l n k n g   l g h     h e   n e r e c n   f   j n n e r   a v e n u e   n   b r c k   s r e e   h e n   u r n e   w r   h e   t h e   h w   w e r e   l n g   n w   n   h e   l g h   h   k e n   n     c u r u l   b e u f u l   w r h — f l   n   g l e n   l k e   e h n g   f r     f r e n c h   i p r e n   p n n g   h e   g l n c e   v e r     h   l e f   w   h e   m r e n   h u e   n   g l n c e   g n \\n \\n “ t h e   h u e r ”   h e     l u   g n   h e   r v n g   b e   f r   h e   r   “ t h e   h u e r   r e   b c k   u p ” \\n \\n h e   g l n c e   n   h e   r e r v e w   r r r   n   w   h   h e r e   w     c r   p r k e   n   h e   r v e w   h e   h   b e e n   e c h n g   n   ' l e '   l   n c e   1 9 5 2   n   h e   h   n e v e r   e e n     c r   p r k e   n   h   r v e w \\n \\n “ i   e n e   l v n g   u p   h e r e ?\",\n",
       " \"”   h e   k e   n   n e   n   p r c u l r   n   r v e   n \\n \\n \\n s i x t e e n \\n \\n 6 : 0 0   p m \\n \\n s u n '   f h e r   b l l   n r n   h e   l '   f r   e l e c n   w   u r p r e     f n   h   h e   l k e   b e n   m e r — l k e   h   q u e     l   b l l   w     b g   u g h   n   w h   b l c k   h r   b u l   l k e     r u c k   n   n   f   e v e n   f e r   f f   h e   h   l e f   h g h   c h l   f r   h e   n v   n   h e   e l e v e n h   g r e   w h   h   f h e r '   p e r n   n   h e   h   c l w e   h   w   u p   f r   h e r e   p c k n g   u p   h   p l     h e   g e   f   w e n - f u r   n     h g h   c h l   e q u v l e n c   e   k e n   l     n   f e r h u g h   h e   w   n     b l n   b u l l h   n - n e l l e c u l     e   p l n   w r k n g e n   b e c e   w h e n   h e   r e   e n e   h e   l e v e l   f   l e r n n g   h   h e     h v e   b e e n   c p b l e   f   e h e r   h r u g h   f e   r   h e r   w n   n g   b u   h e   h   n   p e n c e   w h   “ r   f r ”     h e   e r e   e   f   h e   e - e e   l n g - h r e   b   s u n   h   b r u g h   h e   f r   c h l   h e   n '   n   h e r   h r   r   h e r   r e   w h   b h e r e   h   w   h   n n e   f   h e   e e e   e r u - n e   h e   n '   h r e   h   w f e '   l k n g   f r   f l   t b b   h e   b   h   s u e   h   b e e n   g n g   r u n   w h   h e     n c e   h e   g r u e   b u   h e   n '   c v e l   l k e   h   e h e r   f l   h     p r e   g   j b     h e   e x e c u v e   l e v e l   n   h e   f l u h   g r n '   n   b l l   n r n   c n e r e   h     b e   e r e l   e r u - n e   a n   h e   w     h e w n   b   b u     w   h   m e r   n     n n e r   f   p e k n g \\n \\n “ n w   u   l e v e   h   l n e   b u   h   r   f r   b u n e ”   s u n     r n g     h e   u n   f   h e   r b e l l   s h e   w   w e r n g     l g h   g r e e n   u e r   r e   h e r   n e w   c u l   h r   p u l l e   b c k   n   e   l e l   w h     h n k   f   v e r z e   g r e e n   r n \\n \\n b l l   l u g h e   “ i   g     c l l   ' e     i   e e   ' e   s u e   r l n '   i   w n '   e b r r   u … n e v e r       i ?\",\n",
       " \"” \\n \\n s h e   g v e   h     p e n v e   n e r v u   l e   n   w e n     p e n   h e   r \\n \\n t h e   n   w h   c e   b c k   n   w h   h e r   w   l n k   n   g l e - l k n g   w h   f n e l   r w n   f e u r e   n     h c k   l   g r e   h c k   f   b l c k   h r   h   l k e   f r e h l   w h e   e p e     n u r l   l n e   h e   w   r e e   n     w   h   p r e e   b l l   f v r b l :   p l n   b l u e   j e n   v e r   n e w   n     w h e   h r   r l l e     h e   e l b w \\n \\n “ b e n   h         n   — b l l   n   a n n   n r n   m   d   b e n   m e r ” \\n \\n “ h e l l   n c e     e e   u ” \\n \\n h e   l e     m r   n r n   w h     u c h   f   r e e r v e   n   h e     “ h e l l   m r   m e r   t h     h e   f r   e   w e ' v e   e e n     r e l   l v e   u h r   u p   c l e   s u n   h   b e e n   w f u l l   e x c e ” \\n \\n “ d n '   w r r ;   i   n '   q u e   f r     w n   w r k ”   h e   l e   g n \\n \\n “ h ' l ”   b l l     n   h e v e   h e l f   u p   u   f   h   c h r   h e   h   w r k e   h e l f   u p     h e   u n n   p n   h e   n w   h e l   n   h e   p r l n   c k   n   h   g r p   w   h r   n   r n g   b u   m e r '   h n     n   c r p   n   j e l l f h   l k e   h   f   u r   r n r   g r e n - v r e   r   f r   n   b l l   w   p l e e   h e   p e   h   e c n   e n g   c r e r n \\n \\n “ l k e     b e e r ?\",\n",
       " \"g   e   n   c e   u   n e r ”   h e   g e u r e   w r   h e   b c k   p   w h c h   h e   h   b u l   h e l f   a r   f r   n v r b l     n ;     f   h e   w e r e   p h e   n   c u l n '   w e   h e r   v l u b l e   c n c u n e   j u c n g \\n \\n “ m n   i '   l v e     b e e r ”   b e n     n   h e   l e   b e c e     g r n   “ t w   r   h r e e   e v e n ” \\n \\n b l l '   l u g h e r   b e   u   “ o k   u ' r e     n   c e   n ” \\n \\n a   h e   u n   f   h   l u g h e r   n     c u n c n   e e e     p   b e w e e n   h e   w   w e n   w h   b r e     r n g   r e e b l n c e     e c h   h e r   a n n   n r n '   b r w   c n r c e   w h l e   s u n '   h e   u —   l   f   w r r   e e e     h v e   b e e n   r n f e r r e   c r   h e   r   b   e l e p h \\n \\n b e n   f l l w e   b l l   u   n   h e   v e r n   a n   c e   c h e     n     l   n   h e   c r n e r   u f f e   w h   r n g - b   c n   f   p b   b l l   p u l l e     c n   u   f   h e   c l e r   n   e       b e n   w h   c u g h     n e - h n   b u   l g h l       w u l n '   f z z \\n \\n “ n c e   u   h e r e ”   b e n     l k n g   w r   h e   b r b e c u e   n   h e   b c k r   i   w     l w   b u n e l k e   c n r u c n   f   b r c k   n     h e r   f   h e   h u n g   v e r   \\n \\n “ b u l     e l f ”   b l l     “ b e e r   b e   n c e ” \\n \\n b e n   r n k   e e p l   n   h e n   b e l c h e   n h e r   g n   n   h   f v r \\n \\n “ s u e   h n k   u ' r e   q u e   h e   f e l l ”   n r n   \\n \\n “ s h e '     n c e   g r l ” \\n \\n “ g   p r c c l   g r l ”   n r n   e   n   b e l c h e   r e f l e c v e l   “ s h e     u ' v e   w r e n   h r e e   b k   p u b l h e   ' e   ” \\n \\n “ y e   h '   ” \\n \\n “ t h e     w e l l ?\",\n",
       " '” \\n \\n “ t h e   f r   ”   b e n     n     n   r e   b l l   n r n   n e   l g h l   n   p p r v l   f     n   w h   h   e n u g h   r b l e     k e e p   h   l l r - n - c e n   b u n e     h e l f \\n \\n “ y u   l k e     l e n     h n   w h   e   b u r g e r   n   h   g ?',\n",
       " \"” \\n \\n “ s u r e ” \\n \\n “ y u   g     c u   h e   h   g     l e   h e   q u g e   u   f   ' e   y u   k n w   b u   h ?\",\n",
       " \"” \\n \\n “ y e h ”   h e   e   g n l   l h e   n   h e   r   w h   h   r g h   n e x   f n g e r   g r n n n g   l g h l     h e       t h e   l l   l h e   n   n u r l   c n g   f r n k   k e p   h e   f r   b l e r n g \\n \\n “ y u   c e   f r   h   n e c k   f   h e   w   l l   r g h ”   b l l   n r n     “ g n   w e l l   l   t k e   h   b g   f   b r q u e e   v e r   h e r e   n   i ' l l   g e   h e   e   b r n g   u r   b e e r ” \\n \\n “ y u   c u l n '   p r   e   f r   ” \\n \\n b l l   h e e   n   h e   v e r g e   f   g n g   n   n   c c k e   n   e e b r w     b e n   m e r   “ y u     e r u - n e   f e l l ?\",\n",
       " \"”   h e   k e \\n \\n b e n   l e     r f l e   g r l   “ t h   i   ”   h e   \\n \\n b l l   n e   “ t h '   g ”   h e     n   w e n   n e \\n \\n b b   g r f f e n '   p r e c n   f   r n   w     l l n   l e   w r n g   n   h e   b c k r   n n e r   w e n   w e l l   a   l g h   b r e e z e   p r n g   u p   c b n n g   w h   h e   e e   f   h c k r   k e   f r   h e   b r b e c u e     k e e p   h e   w r   f   h e   l e - e n   q u e   w   t h e   w e n   c l e r e   w   h e   p p e r   p l e   n   c n e n   h e n   c e   b c k     r n k     b e e r   e c h   n   l u g h     b l l   n   l   h n     p l n g   h e   r c k   w n   c u r r e n   r e   b e n   2 1 – 6     b n n   b e n   e c l n e     r e c h   w h   r e l   r e g r e   p n n g     h   w c h \\n \\n “ i   g     b k   n   h e   f r e ”   h e     “ i   w e   n h e r   x   p g e   i f   i   g e   r u n k   i   w n '   e v e n   b e   b l e     r e   w h   i   w r e   r r w   r n n g ” \\n \\n s u n   w   h     h e   f r n   g e — h e   h   w l k e   u p   f r   w n   b l l   n e     h e l f     h e   p e   h e   f r e   h e   h     h e   w   e r u - n e   n   b l l   w   r e     k e   h     h   w r   h e   h   n   c e   w h     b g   c e   n     p r e   n n e   b u   n   n   w h   w r k e   f e r   n n e r   w   u     k e   h   r k   n   e b '   r e e   p r b b l   n   b g   l e e r \\n \\n a n n   n r n   h w e v e r   n e v e r   q u e   u n h w e \\n \\n \\n s e v e n t e e n \\n \\n 7 : 0 0   p m \\n \\n f l   t b b   p u l l e   n   h e   c r u h e - n e   p r k n g   l     d e l l '   b u   e n   n u e   f e r   d e l b e r   m r k e   w n e r   n   b r e n e r   h   u r n e   n   h   n e w   p n k   g n   u   f r n   t h e   g n     e l l '   n   l e e r   h r e e   f e e   h g h   n   h e   p r p h e   w     h g h b l l   g l \\n \\n o u e   h e   u n l g h   h   b e e n   l e c h e   f r   h e   k   b   g h e r n g   p u r p l e   w l g h   n   n   g r u n     w u l   b e g n     f r   n   h e   l w - l n g   p c k e   f   l n   t h e   n g h '   r e g u l r   w u l   b e g n     h w   u p   n   n h e r   h u r   r   \\n \\n “ h   f l ”   d e l l     p u l l n g     m c h e l b   u   f   h e   c l e r   “ g   ?\",\n",
       " \"” \\n \\n “ f r ”   f l     “ t h   b e e r   l k   g ” \\n \\n h e   w     l l   n   w h     w e l l - r e   n   b e r   n w   r e e   n   u b l e - k n   l c k   n     c u l   p r   j c k e — h   g r n '   w r k n g   u n f r   h e   w   e c n   n   c h r g e   f   c r e   n   l k e   h   w r k   n   h e   b e n   k n   f   w   h   c n   c r   h e   l n e   n   b r e   l   v e r n g h   h e   f e l   h e l f     b e   r f n g   b u   h e   e n n   w   n   c v e l   u n p l e n   a n   h e r e   w   s u z e —   f n e   g r l   s h e   w   g n g     c e   r u n   b e f r e   u c h   l n g e r   n   h e n   h e   u p p e   h e   w u l   h v e     k e   e h n g   f   h e l f \\n \\n h e   r p p e     l l r   b l l   n   h e   b r   p u r e   b e e r   w n   h e   e   f   h   g l   w n e     h r l   n   r e f l l e   t h e   b r '   n l   h e r   p r n     p r e e n   w     u n g   f e l l w   n   p h n e - c p n   c v e r l l — h e   b r n   k   f l   h u g h   h e   w   r n k n g   b e e r       b l e   n   l e n n g         l v e   n g   n   h e   j u k e \\n \\n “ s   w h '   n e w   n   w n ?\",\n",
       " \"”   f l   k e   k n w n g   h e   n w e r   l r e   n h n g   n e w   n   r e l l   s e n e   g h   h v e   h w e   u p   r u n k     h e   h g h   c h l   b u   h e   c u l n '   h n k   f   n h n g   e l e \\n \\n “ w e l l   e b   k l l e   u r   u n c l e '   g   t h '   n e w ” \\n \\n f l   p u e   w h   h   g l   h l f w     h   u h   “ w h ?\",\n",
       " \"u n c l e   w n '   g   d c ?\",\n",
       " \"” \\n \\n “ t h '   r g h ” \\n \\n “ h   h   w h     c r ?\",\n",
       " \"” \\n \\n “ n     u '   n c e   m k e   r e r n   f u n   h   h e   w   u     h r n   h l l     w   h e   g r   n   d c   w   h n g n '   f f   h e   p k e   p   h e   c e e e r   g e   r p p e   w e   p e n ” \\n \\n “ s n   f     b c h !\",\n",
       " \"”   f l     u n e \\n \\n d e l l   n e   g r v e l   p l e e   w h   h e   p r e n   h e   h   e   h e   k n e w   e h n g   e l e   h   w     f r l   h   e   n   w n   h   e v e n n g — h   f l '   g r l   h   b e e n   e e n   w h   h   w r e r   w h   w   n g     e v '   b u   l e   f l   f n   h   u   f r   h e l f \\n \\n “ r e r n   b r u n g   h e   c ' p e   n     p r k n   g l l e p e ”   h e   l   f l   “ h e   w   f   h e   n   h   b e   h e   g   w   e   n     b u n c h   f   k   h u n g     u p   f r     j k e ” \\n \\n “ g l l e p e   e n '   k n w   h     f r     h l e   n   h e   g r u n ” \\n \\n “ m b e   n   i ' l l   e l l   u   w h   i   h n k ”   d e l l   l e n e   f r w r   n   h   h c k   f r e r   “ i   h n k   '   k   l l   r g h … h e l l   i   k n w   h   b u     g h   b e     g e   r e   e r u   h n   j u     j k e   h e r e   l k   h ”   h e   r e c h e   u n e r   h e   b r   n   l p p e     n e w p p e r   w n   n     u r n e     n   n e   p g e \\n \\n f l   p c k e     u p   t h e   h e l n e   r e   n   w r h p p e r   e e c r e   f l   c h u r c h   h e   k e   h r u g h     a p p r e n l     b u n c h   f   k   h   b r k e n   n     c h l c   c h u r c h   n   c l e w n   f l r   e   e   f e r   n g h   n   h   h e l   e   r   f   u n h l   r e   h e r e   t h e   l r   h   b e e n   e e c r e   b c e n e   w r   h   b e e n   c r w l e   n   h e   p e w   h e   c n f e n l   n   h e   h l   f n   n   p l e r   f   b l   h   b e e n   f u n   n   e p   l e n g     h e   n v e   l b r r   n l   h   c n f r e   h   l h u g h   e   f   h e   b l   w   n l   g '   b l   w   u g g e e     f     w   h u n   t h e   c l e w n   p l c e   c h e f   e   h e r e   w e r e   n   e e   l e \\n \\n f l   p u   h e   p p e r   w n   “ d e v l   w r h p p e r   n   h e   l ?\",\n",
       " \"c e   n   d e l l   y u ' v e   b e e n   n   h e   c k '   p ” \\n \\n “ t h e   k   r e   g n g   c r z ”   d e l l     u b b r n l   “ y u   e e   f   h   n '     n e x   h n g   u   k n w   h e ' l l   b e   n g   h u n   c r f c e   n   g r f f e n '   p u r e   w n     r e f l l   n   h ?\",\n",
       " \"” \\n \\n “ n   h n k ”   f l     l n g   f f   h   l   “ i   h n k   i ' l l   g   u   n   e e   h w   u n c l e   w n '   g e n g   l n g   h e   l v e   h   g ” \\n \\n “ g v e   h     b e ”   d e l l     w n g   h   p p e r   b c k   u n e r   h e   b r — e x h b   a   f r   l e r   n   h e   e v e n n g   “ a w f u l   r r     h e r   b u   ” \\n \\n f l   p u e   h l f w     h e   r   n   p k e   e e n g l     h e   r   “ h u n g   h   u p   n   h e   p k e     h e ?\",\n",
       " \"b   c h r   i '   l k e     g e   h l   f   h e   k   w h     h ” \\n \\n “ d e v l   w r h p p e r ”   d e l l     “ w u l n '   u r p r e   e     b   i   n '   k n w   w h '   g   n   p e p l e   h e e   ” \\n \\n f l   l e f   t h e   b r n   k   p u   n h e r   e   n   h e   j u k e   n   d c k   c u r l e   b e g n     n g   “ b u r   h e   b l e   w h   m e ” \\n \\n \\n e i g h t e e n \\n \\n 7 : 3 0   p m \\n \\n “ y u   b e   h e   e r l ”   m r j r e   g l c k       h e r   e l e   n   d n n   “ s c h l   r r w   i   w n   u r   b r h e r   n   b e   b   q u r e r   p   n n e ” \\n \\n d n n   h u f f l e   h   f e e   “ i   n '   e e   w h   i   h v e     k e   h     l l ” \\n \\n “ y u   n ' ”   m r j r e     w h   n g e r u   p l e n n e   “ y u   c n   l w     h e ” \\n \\n s h e   u r n e   b c k     h e   c u n e r   w h e r e   h e   w   f r e h e n n g   f h   n   r l p h e   u c k   u   h   n g u e   d n n   e     f   n   h k     b u   h   p u r   l l e   b r h e r   n l   l e \\n \\n “ w e ' l l   b e   b c k ”   h e   u e r e   n   u r n e     l e v e   h e   k c h e n   r l p h e   n   w \\n \\n “ b   n n e ” \\n \\n “ o k   k ” \\n \\n i n   h e   l v n g   r   t n   g l c k   w   n g   n   f r n   f   h e   t v   w h   h   f e e   u p   w c h n g   h e   r e   s x   n   h e   y n k e e   “ w h e r e   r e   u   g n g   b ?\",\n",
       " \"” \\n \\n “ o v e r     e e   h   n e w   k ”   d n n     “ m r k   p e r e ” \\n \\n “ y e h ”   r l p h e     “ w e ' r e   g n n   l k     h … e l e c r c   r n ” \\n \\n d n n   c     b l e f u l   e e   n   h   b r h e r   b u   h e r   f h e r   n c e   n e h e r   h e   p u e   n r   h e   e p h   d u g   g r f f e n   h   j u   r u c k   u   “ b e   h e   e r l ”   h e     b e n l \\n \\n o u e   f e r l g h   l l   l n g e r e   n   h e   k   l h u g h   u n e   h   p e   a   h e   c r e   h e   b c k r   d n n     “ i   u g h     b e   h e   u f f   u   f   u   p u n k ” \\n \\n “ i ' l l   e l l ”   r l p h e     u g l   “ i ' l l   e l l   w h   u   r e l l   w n e     g ” \\n \\n “ y u   c r e e p ”   d n n     h p e l e l \\n \\n a   h e   b c k   f   h e   w e   r     b e e n   p h   l e   w n   h e   l p e     h e   w   t h e   g l c k   h u e   w   n   b r c k   s r e e   m r k   p e r e '   n   s u h   j n n e r   a v e n u e   t h e   p h   w     h r c u   h   v e   c n e r b l e   e   f   u   w e r e   w e l v e   n   n n e   e r   l   n   w l l n g     p c k   u r   w   c r   h e   c r c k e   b r k   e p p n g - n e   p n e   n e e l e   n   w g   c r c k l e   u n e r   h e r   f e e   s e w h e r e   n   h e   w     w h p p r w l l   n g   n   c r c k e   c h r r e   l l   r u n   h e \\n \\n d n n   h   e   h e   k e   f   e l l n g   h   b r h e r   h   m r k   p e r e   h   h e   e n r e   e   f   a u r r   p l c   n e r — w l f n   u   d r c u l   f r n k e n e n   h e     c r   n   e v e n   h e   c h b e r   f   h r r r   t h e r   h e r   h u g h   l l   h   u f f   w   b   n e w   r e   u r   b r n   r   e h n g   n   d n n '   b r h e r   h   e e l   u r n e   b l c k l e r   h e   w   p u r   l l   r g h \\n \\n “ y u ' r e   p u r   u   k n w   h ?\",\n",
       " \"”   d n n   \\n \\n “ i   k n w ”   r l p h e     p r u l   “ w h '   p u r ?\",\n",
       " \"” \\n \\n “ i '   w h e n   u   g e   g r e e n   n   q u h   l k e   b g e r ” \\n \\n “ g e   b e n ”   r l p h e     t h e   w e r e   g n g   w n   h e   b n k   f   c r c k e   b r k   w h c h   g u r g l e   l e u r e l   v e r     g r v e l   b e   h l n g     f n   p e r l n e   n     u r f c e   t w   l e   e     j n e   t g g r   s r e   w h c h   n   u r n   j n e   h e   r l   r v e r \\n \\n d n n   r e   c r   h e   e p p n g - n e   q u n n g   n   h e   g h e r n g   g l     e e   h   f n g \\n \\n “ i '   g n n   p u h !\",\n",
       " \"”   r l p h e   c r e   g l e e f u l l   b e h n   h   “ l k   u   d n n   i '   g n n   p u h !\",\n",
       " \"” \\n \\n “ y u   p u h   e   n   i ' l l   p u h   u   n   h e   q u c k n   r n g e ”   d n n   \\n \\n t h e   r e c h e   h e   h e r   b n k   “ t h e r e   n '   n   q u c k n   r u n   h e r e ”   r l p h e   c f f e   v n g   c l e r     h   b r h e r   n e v e r h e l e \\n \\n “ y e h ?\",\n",
       " \"”   d n n     n u l   “ a   k   g   k l l e   n   h e   q u c k n   j u     f e w   e r   g   i   h e r   h e   l   u e   h   h n g   r u n   h e   r e   l k n '   b u   ” \\n \\n “ r e l l ?\",\n",
       " \"”   r l p h e   k e   h   e e   w e r e   w e \\n \\n “ y e h ”   d n n     “ h e   w e n   w n   c r e n '   n   h l l e r n '   n   h   u h   f l l e   u p   w h   q u c k n   n   h   w     r c c c c c c h h h h ” \\n \\n “ c ' n ”   r l p h e     u n e l   i   w   c l e     f u l l   r k   n w   n   h e   w   w e r e   f u l l   f   v n g   h w   “ l e '   g e   u   f   h e r e ” \\n \\n t h e   r e   u p   h e   h e r   b n k   l p p n g     l l e   n   h e   p n e   n e e l e   t h e   b   d n n   h   h e r   c u e   n   h e   r e   w     e n - e r - l   n e   j e r r   k n g f e l   h e   g h   h v e   g n e   w n   n   h e   q u c k n   c r e n g   n   h l l e r n g   b u   f   h e   h   n   n e   h   h e r   h   h e   h   p l   p p e r e   n   h e   m r h e   x   e r   g   w h l e   f h n g   s e   p e p l e   h u g h   q u c k n   h e r   h e l   h     e x   p r e e v e r   h   k l l e   h   t h e r e   w e r e   p r e e v e r   e v e r w h e r e \\n \\n “ t h e     h   g h   l l   h u n   h e e   w ”   d n n     l e n l   n e g l e c n g     e l l   h   l l e   b r h e r   h   h e   m r h e   w e r e   h r e e   l e   u h \\n \\n “ d n '   d n n ”   r l p h e     u n e l   “ n … n   n   h e   r k ” \\n \\n t h e   w   c r e k e   e c r e v e l   r u n   h e   t h e   w h p p r w l l   h   c e e   h   c r   a   b r n c h   n p p e   e w h e r e   b e h n   h e   l   e l h l   t h e   l g h   w   n e r l   g n e   f r   h e   k \\n \\n “ e v e r   n w   n   h e n ”   d n n   w e n   n   e e r l   “ w h e n   e   r n g e   l l e   k   c e   u   f e r   r k     c e   f l p p n g   u   f   h e   r e e   h e   f c e   l l   p u r   n   c v e r e   w h   q u c k n — ” \\n \\n “ d n n   c e   n ” \\n \\n h   l l e   b r h e r '   v c e   h e l   r e l   p l e n g   n   d n n   p p e   h e   h   l   c r e   h e l f   t h e   r e e   w e r e   r k   b u l k n g   p r e e n c e   l l   r u n   h e   v n g   l w l   n   h e   n g h   b r e e z e   r u b b n g   g e h e r   c r e k n g   n   h e r   j n \\n \\n a n h e r   b r n c h   n p p e   f f     h e r   l e f \\n \\n d n n   u e n l   w h e   h e   h   g n e   b   h e   r \\n \\n a n h e r   b r n c h   n p p e \\n \\n “ d n n   i '   c r e ”   r l p h e   w h p e r e \\n \\n “ d n '   b e   u p ”   d n n     “ c e   n ” \\n \\n t h e   r e     w l k   g n   t h e r   f e e   c r c k l e   n   h e   p n e   n e e l e   d n n   l   h e l f   h   h e   n '   h e r   n   b r n c h e   n p p n g   h e   n '   h e r   n h n g   e x c e p   h e   b l   h u e   n   h   e p l e   h   h n   w e r e   c l   c u n   e p   h e   l   h e l f   w e ' l l   b e     j n n e r   a v e n u e   n   w   h u n r e   e p   a n   w h e n   w e   c e   b c k   w e ' l l   g   b   h e   r     r n g e   w n '   b e   c r e   i n   j u     n u e   w e ' l l   e e   h e   r e e l g h   n   f e e l   u p   b u     w l l   b e   g     f e e l   u p     c u n   e p   o n e … w … h r e e … \\n \\n r l p h e   h r e k e \\n \\n “ i   e e   !\",\n",
       " 'i   e e   h e   g h !',\n",
       " 'i   s e e   i t !',\n",
       " \"” \\n \\n t e r r r   l k e   h   r n   l e p e   n   d n n '   c h e   w r e   e e e     h v e   r u n   u p   h   l e g   h e   w u l   h v e   u r n e   n   r u n   b u   r l p h e   w   c l u c h n g   h \\n \\n “ w h e r e ?\",\n",
       " '”   h e   w h p e r e   f r g e n g   h   h e   h   n v e n e   h e   g h   “ w h e r e ?',\n",
       " \"”   h e   p e e r e   n   h e   w   h l f   f r   f   w h   h e   g h   e e   n   w   n l   b l c k n e \\n \\n “ i '   g n e   n w — b u   i   w   h …   e e   i   w   e e   o h   d n n e e e — ”   h e   w   b l u b b e r n g \\n \\n “ t h e r e   n '   n   g h   u   f l   c e   n ” \\n \\n d n n   h e l   h   b r h e r '   h n   n   h e   b e g n     w l k   h   l e g   f e l     f   h e   w e r e   e   u p   f   e n   h u n   p e n c l   e r e r   h   k n e e   w e r e   r e b l n g   r l p h e   w   c r w n g   g n   h   l   f r c n g   h   f f   h e   p h \\n \\n “ i '   w c h n '   u ”   r l p h e   w h p e r e \\n \\n “ l e n   i '   n   g n n — ” \\n \\n “ n   d n n   r e l l   c n '   u   f e e l   ?\",\n",
       " \"” \\n \\n d n n   p p e   a n   n   h e   w   f   c h l r e n   h e     f e e l   e h n g   n   k n e w   h e   w e r e   n   l n g e r   l n e   a   g r e   h u h   h   f l l e n   v e r   h e   w ;   b u     w     l e f c   h u h   s h w   u r g e   b   h e   w n   w e   l n g u r u l   r u n   h e \\n \\n a n   d n n   e l l e   e h n g   v g e   b u   n   w h   h   n e \\n \\n t h e r e   w e r e   n   g h   b u   h e r e   w e r e   p r e e v e r   t h e   p p e   n   b l c k   c r   n   f f e r e   u   c n   r   h u n g   r u n   n   r e e   c r n e r   r … r   h e   f l l w e   u   n   h e   w … \\n \\n a n   h e n … \\n \\n o h   n   h e n   h e … \\n \\n “ r u n ”   h e     h r h l \\n \\n b u   r l p h e   r e b l e   b e e   h   n     p r l   f   f e r   h   g r p   n   d n n '   h n   w     g h     b l n g   w r e   h   e e   r e   n   h e   w   n   h e n   b e g n     w e n \\n \\n “ d n n ?\",\n",
       " \"” \\n \\n a   b r n c h   n p p e \\n \\n d n n   u r n e   n   l k e   w h e r e   h   b r h e r   w   l k n g \\n \\n t h e   r k n e   e n f l e   h e \\n \\n \\n n i n e t e e n \\n \\n 9 : 0 0   p m \\n \\n m b e l   w e r   w     h u g e l   f   w n   e v e n - f u r   n   h e r   l   b r h   n   h e r   l e g   h   b e c e   l e   n   l e   r e l b l e   s h e   w     r e p r   f   w n   h r   n   w n   g p   n   h e r   e r   r e c h e   b c k   v e r   f v e   e c e   f   n e c r l g   u l e r   h e v e r   n   n n   s h e   w     g p   b u   n     e l b e r e l   c r u e l   n e   l h u g h   h e   w h e   r e   h e   h   p e   n   h e r   b c k   f e n c e   w   g h   e n     g r e e ;   h e   p l   l v e   n   n   f r   h e   w n   i n     w   h e   w   h e   w n     f   w w   w h   n w   w e n   u   v e r   l l e   n   w h   p e n     f   h e r   e   b   h e r   w n w   r e e   n     e n l k e   l k   c l e   h e r   e l l w h - v r   h r   n e   u p   n     c r n e   f   h c k   b r e   c b l e   w h   h e   e l e p h n e   n   h e r   r g h   h n   n   h e r   h g h - p w e r e   j p n e e   b n c u l r   n   h e   l e f   t h e   c b n n   f   h e   w — p l u   h e   e     u e   h e   f u l l — e   h e r     b e n e v l e n   p e r   n g   n   h e   c e n e r   f     c u n c n   w e b   h   r e c h e   f r   h e   b e n     e   ' l e \\n \\n s h e   h   b e e n   w c h n g   h e   m r e n   h u e   f r   w n   f   e h n g   b e e r     w c h   w h e n   h e   h u e r     h e   l e f   f   h e   p r c h   w e r e   p e n e   l e n g   u     g l e n   q u r e   f   l g h   h   w   e f n e l   n   h e   e   g l w   f   e l e c r c   s h e   h   g e n   j u     n l z n g   g l p e   f   w h   g h   h v e   b e e n     n '   h e   n   h u l e r   l h u e e   g n   h e   l g h   i   g v e   h e r     q u e e r   h r l l \\n \\n t h e r e   h   b e e n   n   r e   v e e n   f r   h e   h u e \\n \\n s h e   h u g h :   n w   w h   k n   f   p e p l e       h   n l   p e n   u p   w h e n     b   c n '   c c h     e c e n   g l p e   f   h e ?\",\n",
       " \"s h e   p u   h e   g l e   w n   n   c r e f u l l   p c k e   u p   h e   e l e p h n e   t w   v c e — h e   q u c k l   e n f e   h e     h r r e   d u r h   n   g l n   m b e r r — w e r e   l k n g   b u   h e   r e r n   b   f n n g   i r w n   p u r n n '   g \\n \\n s h e     q u e l   b r e h n g   h r u g h   h e r   u h         g v e   n   g n   f   h e r   p r e e n c e   n   h e   l n e \\n \\n \\n t w e n t y \\n \\n 1 1 : 5 9   p m \\n \\n t h e     r e b l e   n   h e   e g e   f   e x n c n   t h e   h u e   l e p   n   r k n e   d w n w n   n g h   l g h   n   h e   h r w r e   r e   n   h e   f r e n   f u n e r l   h e   n   h e   e x c e l l e n   c f é   h r e w   l   e l e c r c   l g h   n   h e   p v e e n   s e   l   w k e — g e r g e   b e r   w h   h   j u   g e n   h e   f r   h e   h r e e - - e l e v e n   h f     h e   g e   m l l   w n   p u r n n   n g   n   p l n g   l r e   n   u n b l e     l e e p   f r   h n k n g   f   h   d c   w h e   p n g   h   f f e c e   h   u c h   r e   e e p l   h n   h   f   h   w f e — b u     l e p   h e   l e e p   f   h e   j u   n   h e   h r - w r k n g \\n \\n i n   h r n   h l l   c e e e r     r k   f g u r e     e v e l   n e   h e   g e   w n g   f r   h e   u r n   f   e   w h e n   h e   p k e   h e   v c e   w   f   n   c u l u r e \\n \\n “ o     f h e r   f v r   e   n w   l r   f   f l e   f v r   e   n w   n w   i   b r n g   u   p l e   e   n   r e e k n g   f l e h   i   h v e   e   c r f c e   f r   u r   f v r   w h     l e f   h n   i   b r n g     m k e     g n   f r   e   n   h   g r u n   c n e c r e   n   u r   n e   i   w   f r     g n     b e g n   u r   w r k ” \\n \\n t h e   v c e   e   w   a   w n   h   p r u n g   u p   g e n l e   b r n g n g   w h     h e   g h   n   w h p e r   f   l e f   b r n c h e   n   g r e   n     w h f f   f   c r r n   f r   h e   u p   u p   h e   r \\n \\n t h e r e   w   n   u n   b u   h   b r u g h   n   h e   b r e e z e   t h e   f g u r e     l e n   n   h u g h f u l   f r     e   t h e n     p e   n     w h   h e   f g u r e   f     c h l   n   h   r \\n \\n “ i   b r n g   u   h ” \\n \\n i   b e c e   u n p e k b l e \\n \\n \\n \\n \\n \\n c h p e r   f u r \\n \\n d n n   g l c k   n   o h e r \\n \\n d n n   n   r l p h e   g l c k   h   g n e   u     e e   m r k   p e r e   w h   r e r     b e   n   b   n n e   n   w h e n   h e   h n '   c e   h e   b   e n   p   m r j r e   g l c k   c l l e   h e   p e r e   h u e   n   m r   p e r e     h e   b   w e r e n '   h e r e   h n '   b e e n   h e r e   m b e   u r   h u b n   h   b e e r   l k     h e n r   m r   g l c k   h n e   h e   p h n e     h e r   h u b n   f e e l n g   h e   l g h n e   f   f e r   n   h e r   b e l l \\n \\n t h e   e n   l k e     v e r   y e   h e   b   h   g n e   b   h e   w   p h   n   h e   l l e   b r k   w   v e r   h l l w     h   e   f   e r   e p e c l l   f e r   h e   f n e   w e h e r   n   r e   h n   n k l e - e e p   h e n r   u g g e e   h   h e   r   f r   h   e n   f   h e   p h   w h     h g h - p w e r e   f l h l g h   n   m r   g l c k   r   f r   h   p e r h p   h e   b   h   f u n     w c h u c k   b u r r w   r   w e r e   k n g   c g r e e   r   e h n g   t n   g r e e   n   h n k e   m r   p e r e   f r   h   r u b l e   m r   p e r e       w   n   r u b l e     l l   t n   h u n g   u p   n   c f r e   h   w f e     l l e ;   h e   w   f r g h e n e   h e   h   e n l l   e c e   h   n e h e r   f   h e   b   w   g n g     b e   b l e       w n   f r     w e e k   w h e n   h e   f u n   h e \\n \\n b u   b e f r e   h e   h   e v e n   l e f   h e   r   d n n   u b l e   u   f r   h e   r e e   n   c l l p e   b e e   h e   b c k r   b r b e c u e   h e   w   z e   n   l w - p k e n   r e p n n g     q u e n   p l n g l   n   n   l w   e n b l   t h e r e   w   g r   n   h   c u f f   n     f e w   u u n   l e v e   n   h   h r \\n \\n h e   l   h   f h e r   h   h e   n   r l p h e   h   g n e   w n   h e   p h   h r u g h   h e   w   h   c r e   c r c k e   b r k   b   h e   e p p n g - n e   n   h   g e n   u p   h e   h e r   b n k   w h   n   r u b l e   t h e n   r l p h e   b e g n     l k   b u     g h   n   h e   w   d n n   n e g l e c e     e n n   h e   h   p u   h   e   n   h   b r h e r '   h e   r l p h e     h e   c u l   e e     f c e   d n n   b e g n     b e   f r g h e n e   h e   n '   b e l e v e   n   g h   r   n   n   k   u f f   l k e   h e   b g e n   b u   h e     h n k   h e   h   h e r   e h n g   n   h e   r k \\n \\n w h     h e     h e n ?\",\n",
       " \"d n n   h u g h   h e   h   r e     w l k   g n   h l n g   h n   h e   w n '   u r e   r l p h e   h   b e e n   w h p e r n g   b u   h e   g h   d n n   l   h   n     c r   b e c u e   n   h e   w u l   b e   b l e     e e   h e   r e e l g h   f   j n n e r   a v e n u e   i   w   n l   w   h u n r e   e p   b e   l e   t h e n   e h n g   b   h   h p p e n e \\n \\n w h ?\",\n",
       " 'w h   w   h e   b   h n g ?',\n",
       " \"d n n   n '   k n w \\n \\n t h e   r g u e   w h   h   g r e w   e x c e   e x p u l e   d n n   n l   h k   h   h e   l w l   n   u n c p r e h e n n g l   y e   h e   k n e w   h e   h u l   r e e b e r   b u   h e   c u l n '   h n e l   h e   c u l n '   n   h e   n '   r e e b e r   f l l n g   v e r   n h n g   j u … e v e r h n g   w   r k   v e r   r k   a n   h e   n e x   h n g   h e   r e e b e r e   w   l n g   n   h e   p h   b   h e l f   r l p h e   w   g n e \\n \\n p r k n   g l l e p e     h e r e   w   n   p n   n   e n n g   e n   n   h e   w   h   n g h   t   n   e f l l   p r b b l   h e   b   h   j u   w n e r e   f f   h e   p h   h e   n   n l l   g r e n e r   n   t n   g l c k   n   h e n r   p e r e   w e n   u p   n   w n   h e   p h   n   l n g   h e   h u l e r   f   b h   s u h   j n n e r   n   b r c k   r e e   h l n g   w h   b e r - p w e r e   b u l l h r n \\n \\n e r l   h e   n e x   r n n g   b h   h e   c u b e r l n   n   h e   e   p l c e   b e g n     c r n e   e r c h   f   h e   w   l   w h e n   h e   f u n   n h n g   h e   e r c h   w   w e n e   t h e   b e   h e   b u h e   f r   f u r     n   m r   n   m r   g l c k   w n e r e   h r u g h   h e   w   n   f e l   p c k n g   h e r   w   r u n   h e   e f l l   l e f   b   h e   n c e n   f r e   c l l n g   h e r   n '   n e   w h   e n l e   n   w r e n c h n g   h p e \\n \\n w h e n   h e r e   w   n   r e u l   t g g r   s r e   n   h e   r l   r v e r   w e r e   r g g e   n   r e u l \\n \\n o n   h e   r n n g   f   h e   f f h     m r j r e   g l c k   w k e   h e r   h u b n     4 : 0 0   a m   e r r f e   n   h e r c l   d n n   h   c l l p e   n   h e   u p r   h l l w   p p r e n l   n   h   w     h e   b h r   a n   b u l n c e   b r e   h   w     c e n r l   m n e   g e n e r l   h p l   t h e   p r e l n r   g n   w   e v e r e   n   e l e   e n l   h c k \\n \\n t h e   c r   n   c h r g e     n   n e   g r b   k   m r   g l c k   e \\n \\n “ h   u r   b   e v e r   b e e n   u b j e c     h   c k ?\",\n",
       " '” \\n \\n m r   g l c k   b l n k n g   r p l   h k   h   h e   h e   h   g e   e n   e r   n   l e   h n     w e e k \\n \\n “ a n   h r   f   r h e u c   f e v e r ?',\n",
       " '” \\n \\n “ d n n ?',\n",
       " 'n … n   d n n ” \\n \\n “ h   h e   h     t b   k n   p c h   u r n g   h e   l   e r ?',\n",
       " '” \\n \\n “ t b ?',\n",
       " 'm   b   g   t b ?',\n",
       " \"” \\n \\n “ m r   g l c k   w e ' r e   n l   r n g     f n   u — ” \\n \\n “ m r g e !\",\n",
       " 'm r g e   c e   w n   h e r e !',\n",
       " '” \\n \\n m r j r e   g l c k   g   u p   n   w l k e   l w l   w n   h e   c r r r   h e r   f c e   w   p l e   h e r   h r   b e n l   c b e   s h e   l k e   l k e     w n   n   h e   g r p   f     e e p   g r n e   h e c h e \\n \\n “ d   d n n   h v e     t b   k n   p c h     c h l   h   e r ?',\n",
       " '” \\n \\n “ y e ”   h e     u l l   “ w h e n   h e   r e   c h l   n   r e c n ” \\n \\n g r b   k e   “ d e   h e   c u g h   n   h e   n g h ?',\n",
       " '” \\n \\n “ n ” \\n \\n “ c p l n   f   c h e   n   h e   c h e   r   j n ?',\n",
       " '” \\n \\n “ n ” \\n \\n “ p n f u l   u r n n ?',\n",
       " '” \\n \\n “ n ” \\n \\n “ a n   b n r l   b l e e n g ?',\n",
       " 'b l   n e   r   b l   l   r   e v e n   n   b n r l   n u b e r   f   c r p e   n   b r u e ?',\n",
       " \"” \\n \\n “ n ” \\n \\n g r b   l e   n   n e   “ w e '   l k e     k e e p   h   f r   e   f   w e   ” \\n \\n “ s u r e ”   t n     “ s u r e   i   g   b l u e   c r ” \\n \\n “ h   r e c n   r e   v e r   l w ”   h e   c r     “ w e ' r e   g n g       e   x - r     r r w   e     w h e   c u n — ” \\n \\n m r j r e   g l c k '   e e   h   l w l   b e e n   w e n n g   “ h   d n n   g   l e u k e ?\",\n",
       " \"”   h e   w h p e r e \\n \\n “ m r   g l c k   h '   h r l — ” \\n \\n b u   h e   h   f n e \\n \\n \\n t w o \\n \\n b e n   m e r   w   n e   f   h e   ' l e '   l   v l u n e e r   w h   b e   h e   b u h e   f r   r l p h e   g l c k   n   h e   g   n h n g   f r   h   p n   h e r   h n   p n   c u f f   f u l l   f   c c k l e b u r   n   n   g g r v e   c e   f   h   f e v e r   b r u g h   n   b   l e   u e r   g l e n r \\n \\n o n   h e   h r     f   h e   e r c h   h e   c e   n   h e   k c h e n   f   e v '   r e     e     c n   f   r v l   n   h e n   f l l   n   b e   f r     n p   b e f r e   w r n g   h e   f u n   s u n   n r n   b u l n g   r u n   h e   k c h e n   v e   n   p r e p r n g   e   k n   f   h b u r g e r   c e r l e   t h e   e n   j u   h e   f r   w r k   w e r e   n g   r u n   h e   b l e   p r e e n n g     l k   n   g l n g   h e r — h e   w   w e r n g     f e   c h e c k   h r   e     h e   r f f   n   c u f f   c r u r   h r   e v   m l l e r   w   r n n g   n     p r v e   l c v e   f f   h e   k c h e n \\n \\n “ h e   w h   r e   u   n g   h e r e ?\",\n",
       " \"”   h e   k e \\n \\n “ c k n g   u   e h n g   e c e n   b e f r e   u   f l l   w       h w ”   h e     n   e v   n r e   l u g h e r   f r   b e h n   h e   n g l e   f   h e   w l l   b e n   f e l   h   e r   b u r n \\n \\n “ c k   r e l   g   h e   e ”   w e e l     “ i   c n   e l l   i   b e e n   w c h n ' ” \\n \\n “ i f   u   w   w c h n '   n   r e   u r   e e   w u l   f e l l   u   h e r   c k e ”   g r v e r   v e r r l l     n   c c k l e \\n \\n s u n   c v e r e   h e   c e r l e   p u     n   h e   v e n   n   h e   w e n   u   n   h e   b c k   p r c h     w   f r     t h e   u n   w   g n g   w n   r e   n   n f l e \\n \\n “ a n   l u c k ?\",\n",
       " \"” \\n \\n “ n   n h n g ”   h e   p u l l e     b e r e   p c k   f   c g r e e   u   f   h   b r e   p c k e   n   l   n e \\n \\n “ y u   e l l   l k e   u   k     b h   n   o l   w n ' ”   h e   \\n \\n “ f   l   f   g     ”   h e   h e l   u   h   r   n   h w e   h e r     n u b e r   f   p u f f e   n e c   b e   n   h l f - h e l e   c r c h e   “ s n   f     b c h n g   q u e   n   g n   p r c k e r   b u h e ” \\n \\n “ w h     u   h n k   h p p e n e     h   b e n ?\",\n",
       " \"” \\n \\n “ g   k n w ”   h e   e x h l e   k e   “ m b e   e b   c r e p   u p   b e h n   h e   l e r   b r h e r   c h e   h   w h     c k   f u l l   f   n   r   e h n g   n   b u c e   h e   k ” \\n \\n “ d   u   h n k   h e '   e ?\",\n",
       " \"” \\n \\n b e n   l k e     h e r     e e   f   h e   w n e   n   h n e   n w e r   r   e r e l     h p e f u l   n e   h e   k   h e r   h n   n   l c k e   h   f n g e r   h r u g h   h e r   “ y e ”   h e     b r e f l   “ i   h n k   h e   k     e   n   c n c l u v e   p r f   e   b u   i   h n k   ” \\n \\n s h e   h k   h e r   h e   l w l   “ i   h p e   u ' r e   w r n g   m     n   e   f   h e   h e r   l e   h v e   b e e n   n       w h   m r   g l c k   s h e '   u   f   h e r   n   n       h e r   h u b n   a n   h e   h e r   b   j u   w n e r   r u n   l k e     g h ” \\n \\n “ u ”   b e n     h e   w   l k n g   u p     h e   m r e n   h u e   n   r e l l   l e n n g   t h e   h u e r   w e r e   c l e ;   h e   w u l   p e n   u p   l e r   n   a f e r   r k   t h e   h u e r   w u l   p e n   f e r   r k   h e   f e l     r b   c h l l     h e   h u g h   n     n e r l   n c n r   q u l \\n \\n “ … n g h ?\",\n",
       " '” \\n \\n “ h ?',\n",
       " 's r r ”   h e   l k e   r u n     h e r \\n \\n “ i         w u l   l k e   u     c e   v e r   r r w   n g h   c n   u ?',\n",
       " '” \\n \\n “ w l l   u   b e   h e r e ?',\n",
       " \"” \\n \\n “ s u r e   i   w l l ”   h e     n   l k e     h \\n \\n “ a l l   r g h   g ”   h e   w n e     l k     h e r — h e   w   l v e l   n   h e   u n e   l g h — b u   h   e e   w e r e   r w n   w r   h e   m r e n   h u e     f   b     g n e \\n \\n “ i   r w   u   e n '   ?\",\n",
       " \"”   h e     n   h e   r e n g   f   h   h u g h   r g h   w n     h e   e p h r   w   n e r l   u n c n n \\n \\n “ y e   i   e ” \\n \\n “ b e n   w h '   h   n e w   b k   b u ?\",\n",
       " \"” \\n \\n “ n   e ”   h e     “ g v e     e   i ' l l   e l l   u     n     i   c n   i ' … g     w r k   e l f   u ” \\n \\n s h e   w n e       i   l v e   u     h   p r e c e   e n       w h   h e   e e   n   l c k   f   e l f - c n c u n e   w h   w h c h   h e   h u g h   h   r e n     h e   u r f c e   f   h e r   n   b u   h e   b   h e   w r   f f   b e h n   h e r   l p   s h e     n   w n         w h l e   h e   w   l k n g … l k n g   u p   h e r e \\n \\n s h e   g   u p   “ i ' l l   c h e c k   h e   c e r l e ” \\n \\n w h e n   h e   l e f   h   h e   w   k n g   n   l k n g   u p     h e   m r e n   h u e \\n \\n \\n t h r e e \\n \\n l w r e n c e   c r c k e   w   n g   n   h   f f c e   n   h e   r n n g   f   h e   w e n - e c n   p r e e n n g     r e   h   m n   c r r e p n e n c e   n   k e e p n g   n   e e   n   h   e c r e r '   j h b e   w h e n   h e   e l e p h n e   r n g   h e   h   b e e n   h n k n g   b u   h   b u n e   c r e e r   n   ' l e '   l   b u   h   l l   w n k l n g   c r   n   h e   m r e n   h u e   r v e w   n   b u   e l   w h   h e   e v l \\n \\n e v e n   b e f r e   h e   e l   w h   s r k e r   h   b e e n   c n u e   h '   e   w r   l l   r g h   h e   h u g h   n   h   e e   c r w l e   v e r   h e   f r n   f   h   e c r e r '   b l u e   l w r e n c e   c r c k e   w   w h u   u b   h e   r c h e   n   n   ' l e '   l   n   n e   f   h e   r c h e   n   c u b e r l n   c u n   l h u g h   h e r e   w   n h n g   b u   h   f f c e   r   h   p e r n     n c e     t h e   f f c e   w   l   u   n   l g h e   b   w   f l - p e c k e   e l l w   g l b e   t h e   e k   w   n   n c e n   r l l p   l e r e   w h   p p e r   p e n   n   c r r e p n e n c e   a   g l u e   p     n   n e   e   f     n   n   h e   h e r   w     q u r e   g l   p p e r w e g h   h   h w e   p c u r e   f   h   f l   n     f f e r e n   f c e   p e   p e r l u l   n   p   f     c k   f   l e g e r   w     g l   f h   b w l   f l l e   w h   c h e   n     g n   n   h e   f r n     “ f r   o u r   m c h l e   f r e n ”   e x c e p   f r   h r e e   f r e p r f   e e l   f l n g   c b n e   n   h e   e c r e r '   e k   n     l l   e n c l u r e   h e   f f c e   w   b r r e n \\n \\n t h e r e   w e r e   h w e v e r   p c u r e \\n \\n s n p h   n   p h   w e r e   e v e r w h e r e — c k e   p l e   r   p e     e v e r   v l b l e   u r f c e   s e   w e r e   n e w   p l r   p r n   h e r   w e r e   c l r e   k k   h   k e n     f e w   e r   b c k   l l   r e   w e r e   c u r l e   n   e l l w n g   b l c k - n - w h e   e   g n g   b c k   f f e e n   e r   b e n e h   e c h   w     p e   c p n :   f n e   c u n r   l v n g !\",\n",
       " 's x   r   r   h l l p   l c n !',\n",
       " 't g g r   s r e   r   $ 3 2 0 0 0 — c h e p !',\n",
       " 'r   f   f r     s q u r e !',\n",
       " \"t e n - r   f r h u e   b u r n   r   i   l k e   l k e     l   f l - b - n g h   p e r n   n       h   b e e n   u n l   1 9 5 7   w h e n   l r r   c r c k e   w h   w   r e g r e   b   h e   b e e r   e l e e n   n   j e r u l e '   l     n l   n e   e p   b v e   h f l e   h   e c e   h   r l e r   w e r e   h e   w v e   f   h e   f u u r e   i n   h e     e       p e p l e   h u g h   f   r l e r     h e   c u e   l v e r   h n g   u   h k e   n   h e   b c k   f   u r   c r   w h e n   u   w n e     g     y e l l w n e   n n l   p r k   n   k e   p c u r e   f   u r   w f e   n   k   n n g   n   f r n   f   o l   f h f u l   i n   h e     e     h r l   n n e — e v e n   h e   r l e r   n u f c u r e r   h e e l v e — f r e w       w h e n   h e   c u e   l v e r   h n g   w u l   b e   r e p l c e   b   c p e r   w h c h   h k e   r g h   v e r   h e   b e   f   u r   c h e v   p c k u p   r   w h c h   c u l   c e   c p l e e   n   r z e   n   h e e l v e \\n \\n l r r   h w e v e r   h   n   n e e e     k n w   h e e   h n g   a   b u h - l e g u e   v n r     b e   h e   h   p l   g n e   w n     h e   w n   f f c e   n   h e     h e   w   n     e l e c n ;   n   h e     h e   c u l n '   h v e   g e n   e l e c e   g c c h e r   n   l k e   u p   h e   j e r u l e '   l   z n n g   l w   t h e   w e r e   r e e n u l   f c r   p e e r n g   b e w e e n   h e   l n e   h e   c u l   e e   h u n   f   l l r   t h e   l w     u   c u l   n   n n     p u b l c   u p n g   g r u n   r   h v e   r e   h n   h r e e   j u n k e   c r   n   u r   r   u n l e   u   l   h     j u n k   r   p e r   r   h v e     c h e c l   l e —   f n c   n   n   v e r   c c u r e   e r   f r   u h u e — u n l e     w   p p r v e   b   h e   t w n   h e l h   o f f c e r   a n   h   w   \\n \\n l r r   h   r g g e   h e l f     h e   h l   h   b r r w e   r e   n   h   b u g h   h r e e   r l e r   n   c u e   l l e   l v e r   h n g   b u   l n g   p l u h   h r l   n e r   w h   p l c   w   p n e l n g   n   f r c   b h r   h e   b u g h   n e - c r e   p l   f r   e c h   n   h e   b e n   w h e r e   l n   w   c h e p   h   e   h e   n   c h e p   f u n n   n   h   g n e     w r k   e l l n g   h e   h e   h   n e     n   h r e e   n h   v e r c n g   e   n l   r e n c e   f r   p e p l e   w h   w e r e   u b u   b u   l v n g   n     h e   h   r e e b l e     p u l l n   c r   n   h   p r f   h   b e e n   c l e     e n   h u n   l l r   t h e   w v e   f   h e   f u u r e   h   r r v e   n   ' l e '   l   n   l r r   c r c k e   h   b e e n   r g h   u p   h e r e   h n g   h e   c u r l \\n \\n o n   h e     r t   s r k e r   h   w l k e   n   h   f f c e   c r c k e   h   b e e n   w r h   n e r l   w   l l n   l l r   h e   h   n e   h       r e u l   f   l n   p e c u l n   n     g r e   n   n e g h b r n g   w n   b u   n   n   h e   l ;   u   n '   h   w h e r e   u   e   w   l w r e n c e   c r c k e '     b e   n   h e   c n v c n   h   h e   b l e - h e   n u r   w   g n g     g r w   l k e       b r   i     n     g   h w   h e   n e   r l l e   n \\n \\n i n   1 9 6 5   l r r   c r c k e   b e c e   h e   l e n   p r n e r   f     c n r c r   n e   r e   p u l n   w h   w   b u l n g     u p e r r k e   p l z   n   a u b u r n   p u l n   w     v e e r n   c r n e r - c u e r   n   w h   h   n - h e - j b   k n w - h w   n   l r r '   w   w h   f g u r e   h e   e   $ 7 5 0 0 0 0   p e c e   n   n l   h     r e p r     h r   f   h     u n c l e   i   w   l l   e x r e e l   f c r   n   f   h e   u p e r r k e   r f   h     b   c e   f   h e   l e k   w e l l   h   w   l f e \\n \\n i n   1 9 6 6 – 6 8   l r r   b u g h   c n r l l n g   n e r e   n   h r e e   m n e   b l e - h e   b u n e e   g n g   h r u g h   n   n u b e r   f   f n c   w n e r h p   h u f f l e     h r w   h e   x   p e p l e   f f   t   r e   p u l n   h e   e c r b e   h   p r c e     g n g   n   h e   u n n e l   f   l v e   w h   g r l   a   c r e w n g   g r l   b   n   h e   c r   b e h n   u   n   e n n g   u p   h l n g   h n   w h   g r l   a   n   h e   h e r   e   h e   e n e   u p   b u n g   b l e   h e   f r   h e l f   n   h e e   n c e u u   b u n e e   w e r e     h e l h   h e   w e r e   l   f r g h e n n g \\n \\n d e l   w h   h e   e v l   l l   r g h   l r r   h u g h   h u f f l n g   h   p p e r   w h e n   u   e l   w h   h   n e   c e   u e   n   b r n e \\n \\n t h e   p e p l e   w h   b u g h   r l e r   w e r e   l w e r - l e - c l   b l u e -   r   w h e - c l l r   w r k e r   p e p l e   w h   c u l   n   r e     w n   p e n   n     r e   c n v e n n l   h u e   r   l e r   p e p l e   l k n g   f r   w     r e c h   h e r   c l   e c u r   t h e   e   f     b r n - n e w   x - r   h u e   w   e h n g     c n j u r e   w h   f r   h e e   p e p l e   f r   h e   e l e r l   h e r e   w   n h e r   v n g e   e h n g   h   h e r   e   b u   l r r   l w   u e   h   n c e :   t r l e r   w e r e   l l   n   n e   l e v e l   n   h e r e   w e r e   n   r     c l b \\n \\n f n n c n g   w   e     a   $ 5 0 0   w n   p e n   w   u u l l   e n u g h       b u n e   n   a n   n   h e   b   l   b r r c u - f n n c n g     f   h e   x e   h e   f c   h   h e   h e r   $ 9 5 0 0   w   f n n c e     2 4   p e r c e n   r r e l   r u c k   h e e   h u e - h u n g r   p e p l e       p f l l \\n \\n a n     g !\",\n",
       " \"h w   h e   n e   r l l e   n \\n \\n c r c k e   h e l f   h   c h n g e   v e r   l l e   e v e n   f e r   p l n g   “ l e '   m k e     d e l ”   w h   h e   u n e l n g   m r   s r k e r   n   f g   e c r r   c e     r e   h   f f c e   h e   l l   g   b   w h   h e   c h e p   e l e c r c   f n   n e   f   r   c n n n g   h e   w r e   h e   e   h n - e   u   r   g l r n g   p r   j c k e   c b n n   h e   k e   h e   e   c h e p   c g r   n   l l   r p p e   b   d e l l '   n   s u r   n g h     h v e     f e w   b e e r   n   h   e   b u p e r   p l   w h   h e   b   h e   h   k e p   h   h n   n   h e w n   r e l   e e   w h c h   h   b r n e   w   f r u :   f r     h   g e n   h   e l e c e   e l e c n   n   e c n     w r e   f f   n c e l   n   h   n c e   x   r e u r n   b e c u e   e c h   e r '   v b l e   p e r n   w   n e   r u n g   b e l w   h e   b r e k e v e n   p n   b e e   h e   m r e n   h u e   h e   w   n   h   b e e n   h e   e l l n g   g e n   f r   p e r h p   h r e e   z e n   h e r   e c r e p   n e   n   h e   r e   t h e r e   w e r e   e   g   e l   f   c u r e   b u   l r r   n '   p u h   h e   t h e   n e   w   f e r   l l   r l l n g   n \\n \\n t   u c h   n e   b e   i   w   p b l e   h e   u p p e     u r   u r e l f   t   g   n   h e   u n n e l   f   l v e   w h   g r l   a   c r e w   g r l   b   c e   u   h l n g   h n   w h   g r l   a   n l     h v e   b h   f   h e   b e   h e   l v n g   h   u   f   u   s r k e r   h     h e   w u l   b e   n   u c h   n   h   h   b e e n   f u r e e n   n h   g   n w   w h   f — \\n \\n t h   w   w h e n   h e   e l e p h n e   r n g \\n \\n \\n f o u r \\n \\n “ m r   c r c k e ”   h e   f l r   c c e n l e   v c e   \\n \\n “ s r k e r   n '   ?\",\n",
       " \"” \\n \\n “ i n e e ” \\n \\n “ i   w   j u   h n k n '   b u   u   m b e   i '   p c h c ” \\n \\n “ h w   v e r   u n g   m r   c r c k e   i   n e e     e r v c e   p l e e ” \\n \\n “ i   h u g h   u   g h ” \\n \\n “ y u   w l l   p r c u r e     r u c k   p l e e   a   b g   n e   a   r e n l   r u c k   p e r h p   h v e       h e   p r l n   c k   n g h     e v e n   h r p   c u   h u e   w h r f   t w   v e r   w l l   b e   u f f c e n   i   h n k ” \\n \\n “ o k ”   l r r   r e w     p   v e r   b   h   r g h   h n   n   c r w l e :   h   p e e r   r   s n w   h e n r '   u - h u l   6     l e   h e     n   p     c n e r   h w   p e r v e     e e e     f l l w   s r k e r '   r e r     h e   l e e r \\n \\n “ t h e r e   r e     z e n   b x e     b e   p c k e   u p   a l l   v e   n e   g     h e   h p   t h e   h e r     n   e x r e e l   v l u b l e   e b r —   h e p p l e w h e   y u r   v e r   w l l   k n w     b     z e   i       b e   k e n     h e   h u e   y u   u n e r n ?\",\n",
       " '” \\n \\n “ y e h ” \\n \\n “ h v e   h e   p u     w n   c e l l r   y u r   e n   c n   e n e r   h r u g h   h e   u e   b u l k h e   b e l w   h e   k c h e n   w n w   y u   u n e r n ?',\n",
       " '” \\n \\n “ y e h   n w   h   e b r — ” \\n \\n “ o n e   h e r   e r v c e   p l e e   y u   w l l   p r c u r e   f v e   u   y l e   p l c k   y u   r e   f l r   w h   h e   b r n   y l e ?',\n",
       " \"” \\n \\n “ e v e r b     w h — ” \\n \\n “ y u r   v e r   w l l   l c k   h e   h p '   b c k   r   w h e n   h e   l e v e   a   h e   h u e   h e   w l l   l e v e   h e   k e     l l   f v e   l c k   n   h e   b e e n   b l e   w h e n   h e   l e v e   h e   h u e   h e   w l l   p l c k   h e   b u l k h e   r   h e   f r n   n   b c k   r   n   h e   h e - g r g e   y u   u n e r n ?\",\n",
       " \"” \\n \\n “ y e h ” \\n \\n “ t h n k   u   m r   c r c k e   f l l w   l l   r e c n   e x p l c l   g - b ” \\n \\n “ n w   w   j u     n u e — ” \\n \\n d e   l n e \\n \\n \\n f i v e \\n \\n i   w   w   n u e   f   e v e n   w h e n   h e   b g   r n g e - n - w h e   r u c k   w h   “ h e n r '   u - h u l ”   p r n e   n   h e   e   n   b c k   p u l l e   u p     h e   c r r u g e - e e l   h c k     h e   e n   f   c u   h u e   w h r f     h e   p r l n   c k   t h e   e   w   n   h e   u r n   n   h e   g u l l   w e r e   r e l e   w h     w h e e l n g   n   c r n g   v e r h e   g n   h e   u n e - c r n   k \\n \\n “ c h r   h e r e '   n b   h e r e ”   r l   s n w     w g g n g   h e   l   f   h   p e p   n   r p p n g   h e   e p     h e   f l r   f   h e   c b   “ w e ' l l   g e   r r e e   f r   b u r g l r ” \\n \\n “ t h e r e '   e b ”   h n k   p e e r     “ c p ” \\n \\n i   w n '   p r e c e l     c p ;     w     n g h   w c h n   h e   h n e   h   l g h   n     h e   “ e h e r   f   u   g u   l w r e n c e   c r e w c u ?\",\n",
       " \"” \\n \\n “ c r c k e ”   r l     “ w e ' r e   f r   h   c e     p c k   u p   e   b x e ” \\n \\n “ g ”   h e   n g h   w c h n     “ c e   n   n   h e   f f c e   i   g   n   n v c e   f r   u     g n ”   h e   g e u r e     p e e r   w h   w   b e h n   h e   w h e e l   “ b c k   u p   r g h   v e r   h e r e   t h e   u b l e   r   w h   h e   l g h   b u r n n g   s e e ?\",\n",
       " \"” \\n \\n “ y e h ”   h e   p u   h e   r u c k   n   r e v e r e \\n \\n r l   s n w   f l l w e   h e   n g h   w c h n   n   h e   f f c e   w h e r e     c f f e e k e r   w   b u r b l n g   t h e   c l c k   v e r   h e   p n - u p   c l e n r     7 : 0 4   t h e   n g h   w c h n   c r b b l e   h r u g h   e   p p e r   n   h e   e k   n   c e   u p   w h     c l p b r   “ s g n   h e r e ” \\n \\n r l   g n e   h   n e \\n \\n “ y u   w n     w c h   u   w h e n   u   g   n   h e r e   t u r n   n   h e   l g h   t h e r e '   r ” \\n \\n “ i ' v e   n e v e r   e e n     r   h   w u l n '   r u n   f r   n e   f   h e e ”   r l     n   w u n g   h   w r k - b e   f   n   n   r c \\n \\n “ t h e e   r e   w h r f   r   n n ”   h e   w c h n     r l   “ t h e ' v e   r u n   f f   w h   b g g e r   e n   h n   u ” \\n \\n r l   w e n   b c k   u   n   w l k e   v e r     h e   w r e h u e   r   t h e   n g h   w c h n     n   h e   r w   f   h e   h c k   w c h n g   h   “ l k   u ”   r l       p e e r   “ t h e   l   g u     h e r e   w   r ” \\n \\n “ o k ”   h e   n g g e r e   “ g   l e   l r r   c r e w c u ” \\n \\n r l   f u n   h e   l g h   w c h   n e   h e   r   n   u r n e     n   t h e r e   w   e h n g   b u   h e   p h e r e   h e v   w h   h e   x e   r   f   l   n   w   r   n   w e n e   h   f l e   h l r   t h   n   h e   h u g h   f   r \\n \\n t h e   b x e   w e r e   c k e   n   h e   l e   f   h e   w e   w r e h u e   f l r   t h e   p l c e   w   h e r w e   e p   n   h e   c l l e c n   l k e     l l e   p r e n u       r e u l   t h e   e b r   w   n   h e   c e n e r   l l e r   h n   h e   h e r   n   h e   n l   n e   n   p e   “ b r l w   n   s r k e r   2 7   j n n e r   a v e n u e   j e r   l   m n e ” \\n \\n “ w e l l   h   n '   l k     b ”   r l     h e   c n u l e   h   c p   f   h e   n v c e   n   h e n   c u n e   b x e   “ y e h   h e ' r e   l l   h e r e ” \\n \\n “ t h e r e   r e   r ”   h n k     “ h e r   ' e ?\",\n",
       " \"” \\n \\n “ y e h   e r b l e   h n g   i   h e   ' e ” \\n \\n t h e   b h   f e l l   l e n   f r     e n   l e n n g     h e   q u e k   n   p e r   c n g   f r   h e   h w \\n \\n “ w e l l   l e '   g e   w h   ”   r l     “ l e '   p u   h   b g   b b   n   f r       w n '   b e   n   h e   w   w h e n   w e   g e     h e   r e ” \\n \\n “ o k ” \\n \\n t h e   w l k e   v e r     h e   b x   n   r l   k   u   h   p c k e k n f e   w h   n e   q u c k   g e u r e   h e   h   l   h e   b r w n   n v c e   e n v e l p e   p e     h e   e \\n \\n “ h e ”   h n k     “ d   u   h n k   w e   u g h   — ” \\n \\n “ w e   g   k e   u r e   w e   g   h e   r g h   h n g   n '   w e ?\",\n",
       " \"i f   w e   c r e w   u p   l r r ' l l   c k   u r   e     h   b u l l e n   b r ”   h e   p u l l e   h e   n v c e   u   n   l k e     \\n \\n “ w h '     ?\",\n",
       " \"”   h n k   k e \\n \\n “ h e r n ”   r l     j u c u l   “ t w   h u n r e   p u n   f   h e   h   a l   w   h u n   g r l e   b k   f r   s w e e n   h r e e   h u n r e   g r   f   f r e n c h   c k l e r — ” \\n \\n “ g e   h ”   h n k   n c h e     w   “ s e b r ”   h e     “ j u   l k e   l r r   l   u   f r   l n n   e n g l n   p r l n   m n e   p o e   f r e n c h   c k l e r       p u   h   b c k ” \\n \\n r l     “ s e h n g   f u n n   b u   h ”   h e   \\n \\n “ y e h   u   f u n n   l k e   h e   i l n   a r ” \\n \\n “ n   n   h   t h e r e '   n   c u   p   n   h   f u c k e r   n   n   h e   b x   n   n   h e   n v c e   e n v e l p e   n   n   h e   n v c e   n   p ” \\n \\n “ t h e   p r b b l     ' e   n   h   n k   h   n l   h w   u p   u n e r     p e c l   b l c k   l g h ” \\n \\n “ t h e   n e v e r     w h e n   i   w   n   h e   c k   c h r   h e   p e   c r g   n n e   w   f r   s u n   y u   c u l n '   g r b     b x   w h u   g e n g   b l u e   n k   u p     u r   e l b w ” \\n \\n “ g   i '   v e r   g l   b u     w f e   h p p e n     g     b e   v e r   e r l   n   i   h   h p e   f   g e n g   e   n g h ” \\n \\n “ m b e   f   w e   k     l k   n e — ” \\n \\n “ n   w   c e   n   g r b   ” \\n \\n r l   h r u g g e   t h e   p p e   h e   b x   n   e h n g   h f e   h e v l   n e   t h e   b x   w     b c h     l f   i   c u l   b e   n e   f   h e   f n c   r e e r   l l   r g h   i   w   h e v   e n u g h \\n \\n g r u n n g   h e   g g e r e   u     h e   r u c k   n   h e v e     n   h e   h r u l c   l f e r   w h   e n c l   c r e   f   r e l e f   r l     b c k   w h l e   h n k   p e r e   h e   l f   w h e n     w   e v e n   w h   h e   r u c k   b   h e   c l b e   u p   n   w l k e     n e \\n \\n t h e r e   w   e h n g   b u   h e   b x   h e   n '   l k e   i   w   r e   h n   h e   l c k   f   c u   p   a n   n e f n b l e   e h n g   h e   l k e       u n l   h n k   r n   w n   h e   b c k   g e \\n \\n “ c e   n ”   h e     “ l e '   g e   h e   r e   f   h e ” \\n \\n t h e   h e r   b x e   h   r e g u l n   c u   p   e x c e p   f r   h r e e   h   h   b e e n   h p p e   h e r e   f r   n e   h e   u n e   s e   a   h e   l e   e c h   b x   n   h e   r u c k   r l   c h e c k e     f f   n   h e   n v c e   f r   n   n l e     t h e   c k e   l l   f   h e   b x e   b u n   f r   h e   n e w   r e   n e r   h e   b c k   g e   f   h e   r u c k   w   f r   h e   e b r \\n \\n “ n w   w h   n   h e   n e   f   g     g n g     b u   l l   h   u f f ?\",\n",
       " \"”   r l   k e   w h e n   h e   h   f n h e   “ a   p l h   r c k n g   c h r     g e r n   c l c k     p n n n g   w h e e l   f r   i r e l n … c h r   a l g h   i   b e   h e   c h r g e     f r g g n g   f r u n e ” \\n \\n “ t u r ”   h n k     w e l   “ t u r ' l l   b u   n h n g   s e   f   h e   p e p l e   f r   b n   n   n e w   y r k … h e '   b u     b g   f   c w - h   f     w   n   l   b g ” \\n \\n “ i   n '   l k e   h   b g   b x   n e h e r ”   r l     “ n   c u   p   h '     h e l l   f     f u n n   h n g ” \\n \\n “ w e l l   l e '   g e     w h e r e   '   g n g ” \\n \\n t h e   r v e   b c k     ' l e '   l   w h u   p e k n g   h n k   r v n g   h e v   n   h e   g   t h   w   n e   e r r n   h e   w n e   n e   h e   n '   l k e     a   r l   h       w   n   p e c u l r \\n \\n h e   r v e   r u n     h e   b c k   f   h e   n e w   r e   n   h e   b c k   r   w   u n l c k e     l r r   h       w u l   b e   r l   r e   h e   l g h   w c h   j u   n e   w h   n   r e u l \\n \\n “ t h '   n c e ”   h e   g r u b l e   “ w e   g e     u n l   h   u f f   n   h e   g n   r k …   e     e l l     l l e   f u n n   n   h e r e     u ?\",\n",
       " \"” \\n \\n h n k   n f f e   y e   h e r e   w   n   r   n   u n p l e n   n e   b u   h e   c u l   n   h v e     e x c l   w h     r e n e   h   f   i   w   r   n   c r   n   h e   n r l   l k e     w h f f   f   l   c r r u p n \\n \\n “ i '   j u   b e e n   h u   u p     l n g ”   h e     h n n g   h   f l h l g h   r u n   h e   l n g   e p   r   “ n e e     g   r n g   u ” \\n \\n “ o r     g   b u r n n g   w n ”   r l     h e   n '   l k e     s e h n g   b u   h e   p l c e   p u   h   b c k   u p   “ c e   n   a n   l e '   r   n     b r e k   u r   l e g ” \\n \\n t h e   u n l e   h e   b x e     q u c k l     h e   c u l   p u n g   e c h   n e   w n   c r e f u l l   h l f   n   h u r   l e r   r l   c l e   h e   b c k   r   w h     g h   f   r e l e f   n   n p p e   n e   f   h e   n e w   p l c k   n   \\n \\n “ t h '   h l f   f   ”   h e   \\n \\n “ t h e   e   h l f ”   h n k   n w e r e   h e   l k e   u p   w r   h e   m r e n   h u e   w h c h   w   r k   n   h u e r e   n g h   “ i   n '   l k e   g n '   u p   h e r e   n   i   n '   f r         i f   h e r e   w   e v e r     h u n e   h u e   h '     t h e   g u   u   b e   c r z   r n '     l v e   h e r e   p r b b l   q u e e r   f r   e c h   h e r   n w ” \\n \\n “ l k e   h e   f g   n e r r   e c r r ”   r l   g r e e   “ p r b b l   r n g     u r n     n     h w p l c e   g   f r   b u n e ” \\n \\n “ w e l l   f   w e   g         l e '   g e   w h   ” \\n \\n t h e   p r e     l   l k   f r   h e   c r e   e b r   l e n n g   g n   h e   e   f   h e   u - h u l   n   h e n   h n k   p u l l e   h e   b c k   r   w n   w h     b n g   h e   g   n   b e h n   h e   w h e e l   n   h e   r v e   u p   j n n e r   a v e n u e   n   h e   b r k   r   a   n u e   l e r   h e   m r e n   h u e   l e   h e   f   h e   r k   n   c r e p n g   n   r l   f e l   h e   f r   h r e   f   r e l   f e r   w r     w   n   h   b e l l \\n \\n “ l r   h '     c r e e p   p l c e ”   h n k   u r u r e   “ w h '   w n     l v e   h e r e ?\",\n",
       " \"” \\n \\n “ i   n '   k n w   y u   e e   n   l g h   n   b e h n   h e   h u e r ?\",\n",
       " \"” \\n \\n “ n ” \\n \\n t h e   h u e   e e e     l e n   w r   h e     f   w n g   h e r   r r v l   h n k   w h e e l e   h e   r u c k   u p   h e   r v e w   n   r u n     h e   b c k   n e h e r   f   h e   l k e     c l e l     w h   h e   b u n c n g   h e l g h   g h   r e v e l   n   h e   r n k   g r   f   h e   b c k r   h n k   f e l     r n   f   f e r   e n e r   h   h e r   h   h e   h   n   e v e n   f e l   n   n   l h u g h   h e   h   b e e n   c r e     f   h   e   h e r e   t h   w     r n l   f e r   f e r   h   u   g h   e p   n     p n g e e   c k   n   e e   u r   f   w e l l   u p   l k e   e   n x u   g r e e n   b l l n   f e r   h   e   k   n   b l c k   p j '   w h e   n e   u   c u l n '   e v e n   f   n   u r   u h   g h   b l w   u r   h e   f f   w h     r u n   r f l e   f e r   h   u   g h   r w     c r z   j k e   n   p r l   h   g h   w n   u     b l w   u p   e v e r n e   n     v l l g e   w h e r e   h e   c n g   h   b e e n     w e e k   b e f r e   b u   h   f e r   w   c h l l k e   r e   t h e r e   w   n   r e f e r e n c e   p n       a   h u e   w     h u e — b r   n   h n g e   n   n l   n   l l   t h e r e   w   n   r e n   r e l l   n   r e n     f e e l   h   e c h   p l n e r e   c r c k   w   e x h l n g     w n   c h l k   r   f   e v l   t h   w   j u   p l n   u p   h n k n g   g h ?\",\n",
       " \"h e   n '   b e l e v e   n   g h   n   f e r   n \\n \\n h e   h     f u b l e   w c e   f r   r e v e r e   n   h e n   b c k e   h e   r u c k   j e r k l   u p     h e   b u l k h e   l e n g     h e   c e l l r   t h e   r u e   r     p e n   n   n   h e   r e   g l w   f   h e   r u c k '   l l g h   h e   h l l w   n e   e p   e e e     l e   w n   n   h e l l \\n \\n “ m n   i   n '   g   h     l l ”   h n k     h e   r e     l e   n     b e c e     g r c e \\n \\n “ m e   e h e r ” \\n \\n t h e   l k e     e c h   h e r   n   h e   w n   h   l g h   h e   f e r   h e v   n   b h   f   h e   b u   c h l h   w   b e n   h e   n   h e   w e r e   n c p b l e   f   g n g   b c k   w h   h e   j b   u n n e   b e c u e   f   r r n l   f e r — h w   w u l   h e   e x p l n     n   b r g h   l g h ?\",\n",
       " \"t h e   j b   h     b e   n e \\n \\n h n k   k l l e   h e   e n g n e   n   h e   g   u   n   w l k e   r u n     h e   b c k   f   h e   r u c k   r l   c l b e   u p   r e l e e   h e   r   c c h   n   h r u   h e   r   u p   n     r c k \\n \\n t h e   b x     h e r e   w u   l l   c l n g n g       q u   n   u e \\n \\n “ g   i   n '   w n     k e   h   w n   h e r e !\",\n",
       " \"”   h n k   p e e r   c h k e   u   n   h   v c e   w   l     b \\n \\n “ c e   n   u p ”   r l     “ l e '   g e   r   f   ” \\n \\n t h e   r g g e   h e   b x   n   h e   l f   n   l e     w n   w h     h   f   e c p n g   r   w h e n     w     w   l e v e l   h n k   l e   g   f   h e   l e v e r   n   h e   g r p p e   \\n \\n “ e ”   r l   g r u n e   b c k n g   w r   h e   e p   “ e   e   … e … ”   i n   h e   r e   g l w   f   h e   l l g h   h   f c e   w   c n r c e   n   c r e   l k e   h e   f c e   f     n   h v n g     h e r   c k \\n \\n h e   b c k e   w n   h e   r   n e       e   n     h e   b x   l e   u p   g n   h   c h e   h e   f e l     r e f u l   w e g h   e l e   g n   h   l k e     l b   f   n e   i   w   h e v   h e   w u l   h n k   l e r   b u   n   h   h e v   h e   n   h n k   h   u c l e   b g g e r   l   f r   l r r   c r c k e   b h   u p r   n   w n   b u   h e r e   w   e h n g   b u   h e   p h e r e   f   h   p l c e   h   k   h e   h e r   u   f   u   n   e   u   n   g \\n \\n t h e   e p   w e r e   l - l c k   n   w c e   h e   e r e   n   h e   p r e c r u   e g e   f   b l n c e   c r n g   u   e r b l   “ h e !\",\n",
       " \"f r   c h r '   k e !\",\n",
       " 'w c h   !',\n",
       " '” \\n \\n a n   h e n   h e   w e r e   w n   t h e   c e l n g   w   l w   b v e   h e   n   h e   c r r e   h e   e b r   b e n   v e r   l k e   h g \\n \\n “ s e     h e r e !',\n",
       " \"”   h n k   g p e   “ i   c n '   c r r     n   f u r h e r !\",\n",
       " \"” \\n \\n t h e   e     w n   w h     h u p   n   e p p e   w   t h e   l k e   n   e c h   h e r '   e e   n   w   h   f e r   h   b e e n   c h n g e     n e r   e r r r   b   e   e c r e   l c h e   t h e   c e l l r   e e e   u e n l   f l l e   w h   e c r e   r u l n g   n e   r   p e r h p   r   p e r h p   e h n g   h   n '   e v e n   b e r   h n k n g   f \\n \\n t h e   b l e   h n k   f r   n   r l   s n w   r g h   b e h n   h   t h e   r n   u p   h e   c e l l r   e p   n   r l   l e   h e   b u l k h e   r   w h   b c k w r   w e e p   f   h   r \\n \\n t h e   c l b e r e   n   h e   c b   f   h e   u - h u l   n   h n k   r e     u p   n   p u     n   g e r   r l   g r b b e   h   r   n   n   h e   r k n e   h   f c e   e e e     b e   l l   e e   h u g e   n   r n g \\n \\n “ h n k   w e   n e v e r   p u   n   h e   l c k ” \\n \\n t h e   b h   r e     h e   b u n l e   f   n e w   p l c k   n   h e   r u c k '   h b r   h e l   g e h e r   b     w   f   b l n g   w r e   h n k   g r b b e     h   j c k e   p c k e   n   b r u g h   u     k e   r n g   w h   f v e   n e w   y l e   k e   n     n e   w h c h   w u l   f   h e   l c k   n   h e   b c k   r   f   h e   h p   n   w n   f u r   f r   u   h e r e   e c h   w   n e l   l b e l e \\n \\n “ o h   c h r ”   h e     “ l k   f   w e   c e   b c k   e r l   r r w   r n n g — ” \\n \\n r l   u n c l p e   h e   f l h l g h   u n e r   h e   h b r   “ t h   w n '   w r k ”   h e     “ n   u   k n w   ” \\n \\n t h e   g   u   f   h e   c b   f e e l n g   h e   c l   e v e n n g   b r e e z e   r k e   h e   w e   n   h e r   f r e h e   “ g     h e   b c k   r ”   r l     “ i ' l l   g e   h e   f r n   r   n   h e   h e ” \\n \\n t h e   e p r e   h n k   w e n     h e   b c k   r   h   h e r   h u n g   h e v l   n   h   c h e   h e   h     f u b l e   w c e     h r e   h e   l c k n g   r   h r u g h   h e   h p   t h   c l e     h e   h u e   h e   e l l   f   g e   n   w   r   w   p l p b l e   a l l   h e   r e   b u   h u b e   m r e n   h   h e   h   l u g h e   b u     k   b e g n     r e c u r   n   h e   c h n   h e   h   c h e   h e   g r l   w h :   w c h   u   w c h   u   w c h   u !\",\n",
       " \"h u b e ' l l   g e   u   f   u   n ' … w c h … o u t — \\n \\n “ h n k ?\",\n",
       " '” \\n \\n h e   r e w   n   b r e h   h r p l   n   h e   h e r   l c k   r p p e   u   f   h   h n   h e   p c k e     u p   “ y u   u g h   k n w   b e e r   h n     c r e e p   u p   n     p e r n   l k e   h   d   u … ?',\n",
       " \"” \\n \\n “ y e h   h n k   w h '   g n n   g   w n   n   h   c e l l r   g n   n   p u   h e   k e   r n g   n   h e   b l e ?\",\n",
       " '” \\n \\n “ i   u n n ”   h n k   p e e r     “ i   u n n ” \\n \\n “ t h n k   w e   b e e r   f l p   f r   ?',\n",
       " \"” \\n \\n “ y e h   i   g u e   h '   b e ” \\n \\n r l   k   u     q u r e r   “ c l l     n   h e   r ”   h e   f l c k e   \\n \\n “ h e ” \\n \\n r l   c u g h     l p p e     n   h   f r e r   n   e x p e     t h e   e g l e   g l e e     h e   u l l \\n \\n “ j e u ”   h n k     e r b l   b u   h e   k   h e   k e   r n g   n   h e   f l h l g h   n   p e n e   h e   b u l k h e   r   g n \\n \\n h e   f r c e   h   l e g     c r r   h   w n   h e   e p   n   w h e n   h e   h   c l e r e   h e   r f   v e r h n g   h e   h n e   h   l g h   c r   h e   v b l e   c e l l r   w h c h   k   n   l - u r n   h r   f e e   f u r h e r   u p   n   w e n   f f   g   k n e w   w h e r e   t h e   f l h l g h   b e   p c k e   u   h e   b l e   w h     u   c h e c k e   b l e c l h   n     a   r     n   h e   b l e     h u g e   n e   n       n   v e   w h e n   h e   b e   f   l g h   r u c k     i     u p   n     p l u p   h u n c h e   n   l   e e e     g r n \\n \\n h e   w l k e   p   h e   b x   w r   h e   b l e   “ h !\",\n",
       " 'r !',\n",
       " \"” \\n \\n t h e   r   j u p e   w n   n   r e   f f   w r   h e   e l b w - b e n   f u r h e r   u p   h n k '   h n   w   r e b l n g   n w   n   h e   f l h l g h   b e   l p p e   j e r k l   f r   p l c e     p l c e   n w   p c k n g   u     u   b r r e l   n w     e c e - l   b u r e u   h   h   b e e n   l e   w n   h e r e   n w     c k   f   l   n e w p p e r   n w — \\n \\n h e   j e r k e   h e   f l h l g h   b e   b c k   w r   h e   n e w p p e r   n   u c k e   n   b r e h     h e   l g h   f e l l   n   e h n g     h e   l e f   e   f   h e \\n \\n a   h r … w   h     h r ?\",\n",
       " \"b u n l e   u p   l k e   n   l   r g   s e h n g   b e h n     h   g h   h v e   b e e n   b l u e   j e n   a n   e h n g   h   l k e   l k e … \\n \\n s e h n g   n p p e   b e h n   h \\n \\n h e   p n c k e   h r e w   h e   k e   w l l   n   h e   b l e   n   u r n e   w   h b l n g   n     r u n   a   h e   p e   h e   b x   h e   w   w h   h   e   h e   n e   o n e   f   h e   l u n u   b n   h   l e   g   n   n w   p n e   j g g e l   w r   h e   l w   r f   l k e     f n g e r \\n \\n h e   u b l e   u p   h e   r   l e   h e   b u l k h e   b e h n   h   h   w h l e   b   h   c r w l e   n   g e   f l e h ;   h e   w u l   n   b e   w r e   f     u n l   l e r   n p p e   h e   l c k   n   h e   c c h   n   r n     h e   c b   f   h e   r u c k   h e   w   b r e h n g   n   l l   w h l n g   g p   l k e     h u r   g   h e   l   h e r   r l   k n g   h   w h   h   h p p e n e   w h   w   g n g   n   w n   h e r e   n   h e n   h e   h r e w   h e   r u c k   n   r v e   n   c r e e   u   r r n g   r u n   h e   c r n e r   f   h e   h u e   n   w   w h e e l   g g n g     h e   f   e r h   h e     n   l w   w n   u n l   h e   r u c k   w   b c k   n   h e   b r k   r   p e e n g   w r   l w r e n c e   c r c k e '   f f c e   n   w n   a n   h e n   h e   b e g n     h k e     b l   h e   w   f r   h e   w u l   h v e     p u l l   v e r \\n \\n “ w h   w   w n   h e r e ?\",\n",
       " '”   r l   k e   “ w h     u   e e ?',\n",
       " \"” \\n \\n “ n h n ' ”   h n k   p e e r     n   h e   w r   c e   u   n   e c n   v e   b   h   c l c k n g   e e h   “ i   n '   e e   n h n '   n   i   n e v e r   w n     e e     g n ” \\n \\n \\n s i x \\n \\n l r r   c r c k e   w   g e n g   r e     h u   u p   h p   n   g   h e   w h e n   h e r e   w     p e r f u n c r   p   n   h e   r   n   h n k   p e e r   e p p e   b c k   n   h e   l l   l k e   c r e \\n \\n “ f r g e   e h n '   h n k ?\",\n",
       " \"”   l r r   k e   w h e n   h e   h   c e   b c k   f r   h e   m r e n   h u e   b h   l k n g   l k e   e b   h   g v e n   h e r   n u     h e l h   w e k   h e   h   g v e n   h e   e c h   n   e x r   e n   l l r   n   w   x - p c k   f   b l c k   l b e l   n   h   l l w e     h w   b e     w u l   b e   b e   f   n n e   f   h e       u c h   b u   h e   e v e n n g '   u n g \\n \\n “ i   g     e l l   u ”   h n k     n w   “ i   c n '   h e l p     l r r   i   g   ” \\n \\n “ s u r e   u   ”   l r r     h e   p e n e   h e   b   e k   r w e r   k   u     b l e   f   j h n n e   w l k e r   n   p u r e   h e   e c h     k n c k   n     c u p l e   f   d x e   c u p   “ w h '   n   u r   n ?\",\n",
       " \"” \\n \\n h n k   k     u h f u l   g r c e   n   w l l w e   \\n \\n “ w h e n   i   k   h e   k e   w n     p u   ' e   n   h e   b l e   i   e e n   e h n g   c l h e     l k e   l k e   a   h r   n   b e   e   u n g r e e   a n     n e k e r   i   h n k     w     n e k e r   l r r ” \\n \\n l r r   h r u g g e   n   l e   “ s ?\",\n",
       " \"”   i   e e e     h   h     l r g e   l u p   f   c e   w   r e n g   n   h   c h e \\n \\n “ t h   l l e   g l c k   b   w   w e r n '   j e n   t h '   w h       n   h e   l e g e r   j e n   n     r e   p u l l v e r   h r   n   n e k   l r r   w h   f — ” \\n \\n l r r   k e p   l n g   t h e   l e   f e l   f r z e n   n \\n \\n h n k   g u l p e   c n v u l v e l   “ w h   f   h e   g u   h   b u g h   h e   m r e n   h u e   n   h   r e   b l e w   u p   h e   g l c k   k ?\",\n",
       " \"”   t h e r e   i   w   u   h e   w l l w e   h e   r e   f   h e   l q u   f r e   n   h   c u p \\n \\n s l n g   l r r     “ m b e   u   w     b   ” \\n \\n “ n — n   b u — ” \\n \\n “ t h '   b e     e r   f r   h e   p l c e ”   l r r   c r c k e     h e   r e f l l e   h n k '   c u p   n   h   h n   n '   r e b l e     l l   i   w     c l   n   e       r c k   n     f r z e n   b r k   “ a n   i '   r v e   u   r g h   w n     e e   p r k n   b u   e h n g   l k e   h … ”   h e   h k   h   h e   “ a   l   f   n n e   c n   c e   u p   t h n g   l k e   u   n   h   w r e   u     d e l l ' … h e r   n e '   j c k e   n '   ?\",\n",
       " '” \\n \\n “ w h   h e   h e l l   r e   u   l k n g   b u ?',\n",
       " \"”   h   f c e   h   g n e   e l   p l e \\n \\n “ a n   h e '   u r e     h   f n   u   b u   h   h n r b l e   c h r g e   f   u r   b u   u     u r   u   h n k   d       u   e e   ” \\n \\n “ i   n '   e e   n   b ”   h n k   w h p e r e \\n \\n “ t h '   g ”   l r r     l n g   “ a n   b e   u   n '   e e   n   c l h e   e h e r   m b e   h e   w e r e   j u … r g ” \\n \\n “ r g ”   h n k   p e e r     h l l w l \\n \\n “ s u r e   u   k n w   h e   l   p l c e   a l l   k n   f   j u n k   n   ' e   m b e   u   w   e   l   h r   r   e h n g   h   w   r n   u p   f r     c l e n n g   r g ” \\n \\n “ s u r e ”   h n k     h e   r n e   h   g l     e c n   e   “ y u   g     g   w   f   l k n g     h n g   l r r ” \\n \\n c r c k e   k   h   w l l e   u   f   h   b c k   p c k e   p e n e     n   c u n e   f v e   e n - l l r   b l l   u   n   h e   e k \\n \\n “ w h '   h   f r ?\",\n",
       " \"” \\n \\n “ f r g   l l   b u   p n g   u   f r   h   b r e n n n   j b   l   n h   y u   h u l   p r   e   b u   h e   h n g   h n k   y u   k n w   h w   i   f r g e   h n g ” \\n \\n “ b u   u   — ” \\n \\n “ w h ”   l r r   n e r r u p e   l n g   “ u   c u l   b e   n g   r g h   h e r e   n   e l l n g   e   e h n g   n   i   w u l n '   r e e b e r     h n g   b u     r r w   r n n g   a n '   h     p f u l   w     b e ?\",\n",
       " \"” \\n \\n “ y e h ”   h n k   w h p e r e   h   h n   r e c h e   u   r e b l n g   n   k   h e   b l l ;   u f f e   h e   n   h e   b r e   p c k e   f   h   e n   j c k e     f   n x u     b e   r   f   h e   u c h   f   h e   h e   g   u p   w h   u c h   j e r k   h u r r e n e   h   h e   l   k n c k e   h   c h r   v e r   “ l e n   i   g     g   l r r   i … i   n ' … i   g     g ” \\n \\n “ t k e   h e   b l e ”   l r r   n v e   b u   h n k   w   l r e   g n g   u   h e   r   h e   n '   p u e \\n \\n l r r     b c k   w n   h e   p u r e   h e l f   n h e r   r n k   h   h n   l l     n   r e b l e   h e     n   g   n   h u n g   u p   h p   h e   h   n h e r   r n k   n   h e n   n h e r   h e   h u g h   b u   e l   w h   h e   e v l   a n     l   h   p h n e   r n g   h e   p c k e     u p   l e n e \\n \\n “ i '   k e n   c r e   f ”   l r r   c r c k e   \\n \\n h e   l e n e   h e   h u n g   u p   h e   p u r e   h e l f   n h e r   r n k \\n \\n \\n s e v e n \\n \\n h n k   p e e r   w k e   u p   n   h e   e r l   h u r   f   h e   n e x   r n n g   f r     r e   f   h u g e   r   c r w l n g   u   f   n   p e n   g r v e     g r v e   w h c h   h e l   h e   g r e e n   n   r n g   b   f   h u b e   m r e n   w h     f r e   l e n g h   f   n l   h e p   r u n   h   n e c k   p e e r   l   p r p p e   n   h   e l b w   b r e h n g   h e v l   n k e   r   l c k e   w h   w e   n   w h e n   h   w f e   u c h e   h   r   h e   c r e e   l u \\n \\n \\n e i g h t \\n \\n m l   c r e n '   a g r c u l u r l   s r e   w   l c e   n   h e   n g l e   f r e   b   h e   n e r e c n   f   j n n e r   a v e n u e   n   r l r   s r e e   n     f   h e   w n '   l   c g e r   w e n   h e r e   w h e n     r n e   n   h e   p r k   w   u n n h b b l e   d u r n g   h e   l n g   w n e r   h e   w e r e     - b -   f x u r e \\n \\n w h e n   s r k e r   r v e   u p   n   h   ' 3 9   p c k r — r   w       ' 4 0 ?\",\n",
       " \"—   w   j u   n g   g e n l   n   m l   n   p   m l e r   w e r e   h v n g     e u l r   c n v e r n   b u   w h e h e r   f r e   o v e r l c k '   g r l   j u   r u n   f f   n   1 9 5 7   r   ' 5 8   t h e   b h   g r e e   h   h e   h   r u n   f f   w h   h   s l - e r   l e n   f r   y r u h   n   h e   b h   g r e e   h   h e   h n '   b e e n   w r h     p h l e   n   h e   n w   n r   w   h e   b u   b e n   h   h e   c u l n '   g e   g e h e r \\n \\n a l l   c n v e r n   c e e   w h e n   s r k e r   w l k e   n \\n \\n h e   l k e   r u n     h e — m l   n   p   m l e r   n   j e   c r n e   n   v n n e   u p h w   n   c l e   c r l — n   l e   h u r l e l   “ g   f e r n n   g e n l e e n ”   h e   \\n \\n m l   c r e n     u p   p u l l n g   h   p r n   r u n   h   l   p r l   “ h e l p   u ?\",\n",
       " \"” \\n \\n “ v e r   g ”   s r k e r     “ a e n   v e r     h   e   c e   p l e e ” \\n \\n h e   b u g h     r   f   b e e f     z e n   p r e   r b   e   h b u r g e r   n     p u n   f   c l v e '   l v e r   t   h   h e   e   e   r   g — f l u r   u g r   b e n — n   e v e r l   l v e   f   r e - e   b r e \\n \\n h   h p p n g   k   p l c e   n   u e r   l e n c e   t h e   r e '   h b u é     r u n   h e   l r g e   p e r l   k n e   v e   h   m l '   f h e r   h   c n v e r e     r n g e   l   k e   l k e   w e l   u     h e   k   n   b e r v e   h e   r n g e r   f r   h e   c r n e r   f   h e r   e e \\n \\n w h e n   m l   h   f n h e   p c k n g   h e   g   n     l r g e   c r b r   c r n   s r k e r   p   w h   h r   c h —   w e n   n     e n   h e   p c k e   u p   h e   c r n   u c k e     u n e r   n e   r   n   f l h e   h   h r   h u r l e   l e     h e   g n \\n \\n “ g     g e n l e e n ”   h e     n   l e f \\n \\n j e   c r n e   p e     l   f   p l n e r '   n   h   c r n c b   c l e   c r l   h w k e   b c k   n   p       f   p h l e g   n   c h e w n g   b c c   n   h e   e n e   p l   b e e   h e   v e   v n n e   u p h w   p r u c e   h   l   t p   c g r e e   r l l e r   f r   n e   h   v e   p l l e     l n e   f   b c c   n     n   n e r e     c g r e e   p p e r   w h   r h r - w e l l e   f n g e r \\n \\n t h e   w c h e   h e   r n g e r   l f   h e   c r n   n   h e   r u n k   a l l   f   h e   k n e w   h   h e   c r n   u   h v e   w e g h e   h r   p u n   w h   h e   r   g   n   h e   h   l l   e e n   h   u c k     u n e r   h   r   l k e     f e h e r   p l l w   g n g   u   h e   w e n   r u n     h e   r v e r '   e   g   n   n   r v e   f f   u p   j n n e r   a v e n u e   t h e   c r   w e n   u p   h e   h l l   u r n e   l e f   n   h e   b r k   r   p p e r e   n   r e p p e r e   f r   b e h n   h e   c r e e n   f   r e e     f e w   e n   l e r   n w   - z e   w h   n c e   i   u r n e   n   h e   m r e n   r v e w   n   w   l   f r   g h \\n \\n “ p e c u l r   f e l l ”   v n n e     h e   u c k   h   c g r e e   n   h   u h   p l u c k e     f e w   b   f   b c c   f r   h e   e n   f     n   k     k c h e n   c h   f r   h   v e   p c k e \\n \\n “ m u   b e   n e   f   h e   n e   g   h   r e ”   j e   c r n e   \\n \\n “ m r e n   h u e   ”   v n n e   g r e e \\n \\n c l e   c r l   b r k e   w n \\n \\n p   m l e r   p c k e       c l l u   n   h   l e f   p l   w h   g r e   n e r e \\n \\n f v e   n u e   p e \\n \\n “ d   u   u p p e   h e ' l l   k e     g   f   ?\",\n",
       " \"”   c l e   k e   n   n e   n   p r c u l r \\n \\n “ m g h ”   v n n e     “ t h e   g h   h w   u p   r g h   p e r   n   h e   u e r e   h r     e l l   h e   w   h n g   r e   h e e   ” \\n \\n a   g e n e r l   u r u r   g h   l   f   g r e e e n \\n \\n “ s r n g   f e l l ”   j e   \\n \\n “ a u h ”   v n n e     “ t h   w     h r - n n e   p c k r   n   n     p   f   r u   n   h e r ” \\n \\n “ ' t w     f r ”   c l e   \\n \\n “ t h e   f r   n '   h v e   r u n n n '   b r ”   v n n e     “ ' t w     h r - n n e ” \\n \\n “ y u ' r e   w r n g   n   h   n e ”   c l e   \\n \\n f v e   n u e   p e   t h e   w   m l   w   e x n n g   h e   w e n   s r k e r   h   p   w h \\n \\n “ t h   f u n n   n e   m l ?\",\n",
       " '”   p   k e   “ t h   f e l l   g v e   u   e   f u n n   n e ?',\n",
       " \"” \\n \\n “ n ;   b u   l k ”   m l   p e     c r   h e   c u n e r   n   h e   l l   r e       i   w   u c h   b g g e r   h n   n   r n r   b l l \\n \\n p   h e l     u p     h e   l g h   e x n e     h e n   u r n e     v e r   “ t h '     e r e   e   w e n   n '     m l ?\",\n",
       " \"” \\n \\n “ y e p ”   m l     “ t h e   p p e   k n '   h e   f r - f v e   r   f f   e r   b c k   m   g u e     h '   b e   w r h   e   n e   w n     a r c e   c n   n   p r l n ” \\n \\n p   h n e   h e   b l l   r u n   n   e c h   e x n e     h l n g     u p   c l e   r   f r   f f   e p e n n g   n   h e   f l w   n   h e r   e e g h   j e   c r n e   h n e     b c k   n   m l   p u     u n e r   h e   c h   r w e r   w h   h e   p e r n l   c h e c k   n   h e   c u p n \\n \\n “ s u r e       f u n n   f e l l ”   c l e   u e \\n \\n “ a u h ”   v n n e     n   p u e   “ t h   w     h r - n n e   h u g h   m   h l f   b r h e r   v c   h   n e   w   h e   f r   c r   h e   e v e r   w n e   b u g h     u e   h e     n   1 9 4 4   l e f   h e   l   u   f   h e r   n e   r n n '   n   b u r n e   h e   g n   p n   r g h   u   f   h e r ” \\n \\n “ i   b e l e v e     w     f r ”   c l e     “ b e c u e   i   r e e b e r     f e l l   h   u e     c n e   c h r   w n   b   a l f r e   c e   r g h     u r   h u e   h e   w u l   n — ” \\n \\n a n     h e   r g u e n   w   b e g u n   p r g r e n g   r e   n   h e   l e n c e   h n   n   h e   p e e c h e   l k e     c h e   g e   p l e   b   l   a n   h e     e e e     n   l l   n   r e c h   n   e e r n   f r   h e   n   v n n e   u p h w   b e g n     k e   n h e r   c g r e e   w h   w e e   r h r c   l w n e \\n \\n \\n n i n e \\n \\n b e n   w   w r n g   w h e n   h e   p   c e     h e   r   n   h e   r k e   h   p l c e   b e f r e   g e n g   u p     p e n     i   w   j u   f e r   h r e e   ' c l c k   n   w e n e   s e p e b e r   2 4   t h e   r n   h   e n e   n   p l n     e r c h   f u r h e r   f r   r l p h e   g l c k   n   h e   c n e n u   w   h   h e   e r c h   w   v e r   t h e   g l c k   b   w   g n e … l   g n e \\n \\n h e   p e n e   h e   r   n   p r k n   g l l e p e   w   n n g   h e r e   k n g     c g r e e   h e   w   h l n g     p p e r b c k   n   n e   h n   n   b e n   w   w h   e   u e e n   h     w   h e   b n   e n   f   c n w '   d u g h e r \\n \\n “ c e   n   n   c n b l e ”   h e     “ w e   u   h e r e ” \\n \\n “ i       r f l e ”   p r k n     e p p n g   n   “ s e p e b e r '   g r p p e   w e h e r   i   l w   w e r   '   g l h e   t h e r e '   e   h   l u g h   b u   i   n '   h   h e   g r p p e   n c e   s - l ô   f r n c e   n   1 9 4 4 ” \\n \\n “ l   u r   c   n   h e   b e   s r r   i   c n '   f f e r   u   c f f e e ” \\n \\n “ w u l n '   h n k   f   w e n '   ”   p r k n     n   p p e   h   n   b e n '   w e b k e   “ a n   i   j u   h     c u p   f   p u l n e '   w n     h e   e x c e l l e n ” \\n \\n “ c n   i     e h n g   f r   u ?\",\n",
       " \"” \\n \\n “ w e l l     w f e   r e   h … ”   h e   h e l   u p   h e   b k   “ s h e   h e r   u   w   n   w n   b u   h e '   h   s h e   k n   f   h u g h   b e   u   g h   w r e   u r   n e   n     r   e h n ' ” \\n \\n b e n   k   h e   b k   “ t h e   w   w e e l   c r g   e l l     u r   w f e '   b e e n   e   f u r e e n   r   f f e e n   e r ” \\n \\n “ t h   ?\",\n",
       " \"”   p r k n   l k e   l l   u n u r p r e   “ t h   w e e l   h e   e   l v e     l k   h e ' l l   p e n   h   u h     w e   n e     n   f l l   r g h   n ” \\n \\n b e n     n h n g \\n \\n “ d   u   ' p e   u   c u l   g n     f r   e   h e n ?\",\n",
       " '” \\n \\n “ d e l g h e   ”   h e   k     p e n   f r   h e   e k   p e n e   h e   b k     h e   f l l e f   “ a   r w   l c e   f   l f e !',\n",
       " \"” — c l e v e l n   p l n   d e l e r   n   w r e :   b e   w h e     c n b l e   g l l e p e   f r   b e n   m e r   9 / 2 4 / 7 5   h e   h n e     b c k \\n \\n “ i   p p r e c e   h ”   p r k n     w h u   l k n g     w h   b e n   h   w r e n   h e   b e n   v e r   n   c r u h e   u   h   k e   n   h e   e   f   h e   w e b k e   “ t h '   h e   n l   g n e   b k   i   g ” \\n \\n “ d   u   c e   h e r e     b r c e   e ?\",\n",
       " \"”   b e n   k e   l n g \\n \\n “ y u ' r e   p r e   h r p ”   p r k n     “ i   f g u r e   i   u g h     c e   n   k     q u e n   r   w   n w   h   u   e n n     w e   u n l   n l l   w   f f   e w h e r e   h e '     g   b   b u   h e   l k e     l k     l r   h e   g p   h   g e   n ” \\n \\n “ w h   w u l   u   l k e     k n w ?\",\n",
       " \"” \\n \\n “ m l   w h e r e   u   w e r e   n   l   w e n e   e v e n n ' ” \\n \\n “ t h e   n g h   r l p h e   g l c k   p p e r e ?\",\n",
       " '” \\n \\n “ y e h ” \\n \\n “ a   i     u p e c   c n b l e ?',\n",
       " \"” \\n \\n “ n   r   i   n '   g   n   u p e c   a   h n g   l k e   h     u e     u r   u   g h     c c h n '   p e e e r   u   b   d e l l '   r   c h n '   k   u   h e   p r k   b e f r e   h e   u r n   r n     r e     l n e   i '   j u   n n '   h e r e   n   h e r e ” \\n \\n “ s u p p e   i   n '   w n     e l l   u ” \\n \\n p r k n   h r u g g e   n   p r u c e   h   c g r e e   “ t h '   u r   b u n e   n ” \\n \\n “ i   h   n n e r   w h   s u n   n r n   n   h e r   f l k   p l e   e   b n n   w h   h e r   ” \\n \\n “ b e   h e   b e   u     h e   l w   b e   n l l   n l l   r v e   u p   n   w n   b u   h w   b   h e '   l k e     b e   b l l   n r n   j u   n c e   w h   e     u   l e v e ?\",\n",
       " \"” \\n \\n b e n   l u g h e   b u   h e   u n     n   c n n     g r e   e l   f   h u r   “ y u   c u   r g h     h e   b n e   n '   u ?\",\n",
       " \"” \\n \\n “ y u   k n w ”   p r k n     “ f   i   w   n e   f   h e   n e w   y r k   e e c v e   l k e   n   t v   i   g h   h n k   u   h   e h n '     h e   h e   w   u   p l k   r u n     q u e n ” \\n \\n “ n h n g     h e ”   b e n     “ i '   j u   r e   f   b e n g   h e   r n g e r   n   w n   g e n g   p n e     n   h e   r e e   b e n g   n u g e   v e r   n   h e   l b r r   n w   u   c e   r u n   w h   h   y n k e e   r e r   r u n e   r n g     f n   u   f   i ' v e   g   r l p h e   g l c k '   c l p   n     c l e ” \\n \\n “ n w   i   n '   h n k   h   n     l l ”   h e   g z e     b e n   v e r   h   c g r e e   n   h   e e   h   g n e   f l n   “ i '   j u   r n '     c l e   u   f f   i f   i   h u g h   u   h   n h n g       w h   n h n g   u '   b e   w n   n   h e   n k ” \\n \\n “ o k ”   b e n     “ i   l e f   h e   n r n   r u n   q u r e r   p   e v e n   i   k     w l k   u   w r   s c h l r   h l l   w h e n     g     r k     e e   i   c e   b c k   h e r e   w r e   f r   w   h u r   n   w e n     b e ” \\n \\n “ w h   e     u   g e   b c k   h e r e ?\",\n",
       " \"” \\n \\n “ q u r e r   p   e g h   i   h n k   a r u n   h e r e ” \\n \\n “ w e l l   h   n '   c l e r   u     w e l l     i '   l k e   d   u   e e   n b ?\",\n",
       " \"” \\n \\n “ n ”   b e n     “ n   n e ” \\n \\n p r k n   e     n n c l   g r u n   n   w l k e   w r   h e   p e w r e r   “ w h   r e   u   w r n '   b u ?\",\n",
       " \"” \\n \\n “ n n e   f   u r   n   b u n e ”   b e n     n   h   v c e   h   g n e   g h   “ i ' l l   h n k   u     k e e p   u r   e e   n   u r   h n   f f   h   u n l e   u ' v e   g     e r c h   w r r n   f   c u r e ” \\n \\n “ k n   f   u c h   n '   u ?\",\n",
       " 'f r     n   w h   e n   h   b k     b e   r e ?',\n",
       " \"” \\n \\n “ w h e n   '   g n e   h r u g h   h r e e   r f   e r l   c r r e c n   g l l e - p r f   c r r e c n   f n l   e   n   p r n   i ' l l   p e r n l l   e e   h   u   g e   f u r   c p e   s g n e   r g h   n w   h   c e   u n e r   h e   h e n g   f   p r v e   p p e r ” \\n \\n p r k n   l e   n   v e   w   “ g   e n u g h   i   u b   l k e   h e l l   h   '     g n e   c n f e n     n h n g   n w ” \\n \\n b e n   l e   b c k   “ m r k   t w n       n v e l   w     c n f e n     e v e r h n g   b     n   w h   h   n e v e r   n e   n h n g ” \\n \\n p r k n   b l e w   u   k e   n   w e n     h e   r   “ i   w n '   r p   n   u r   r u g   n r e   m r   m e r   w n     h n k   u   f r   ' e   n   j u   f r   h e   r e c r   i   n '   h n k   u   e v e r   w   h   g l c k   b   b u   '     j b     k n   f   k   r u n   b u   h e e   h n g ” \\n \\n b e n   n e   “ u n e r ” \\n \\n “ a n   u   u g h   k n w   h w   h n g   r e   n   p l c e   l k e   ' l e '   l   r   m l b r g e   r   g u l f r   r   n   l l e   p n   b u r g   y u ' r e   h e   r n g e r   n   w n   u n l   u   b e e n   h e r e   w e n   e r ” \\n \\n “ i   k n w   i '   r r   f   i   n p p e     u   b u   f e r     w e e k   f   l k n g   f r   h   n   n   f n n g     g n e   h n g — ”   b e n   h k   h   h e \\n \\n “ y e h ”   p r k n     “ i '   b   f r   h   h e r   a w f u l   b   y u   k e   c r e ” \\n \\n “ s u r e ”   b e n   \\n \\n “ n   h r   f e e l n ' ?\",\n",
       " '” \\n \\n “ n ”   h e   p u e   “ w l l   u   e l l   e   n e   h n g ?',\n",
       " '” \\n \\n “ i   w l l   f   i   c n ” \\n \\n “ w h e r e     u   g e   h   b k ?',\n",
       " 'r e l l ?',\n",
       " \"” \\n \\n p r k n   g l l e p e   l e   “ w e l l   h e r e '     f e l l   v e r   n   c u b e r l n   h '   g     u e - f u r n u r e   b r n   k n   f       f e l l   h e     n e   f   g e n r n   h e   e l l   p p e r b c k     e   p e c e   h   f v e   f   h e e ” \\n \\n b e n   h r e w   b c k   h   h e   n   l u g h e   n   p r k n   g l l e p e   w e n   u   l n g   n   k n g   b e n   w e n     h e   w n w   n   w c h e   u n l   h e   w   h e   c n b l e   c e   u   n   c r   h e   r e e   w l k n g   c r e f u l l   r u n   p u l e   n   h   b l c k   g l h e \\n \\n \\n t e n \\n \\n p r k n   p u e     e n     l k   n   h e   h w   w n w   f   h e   n e w   h p   b e f r e   k n c k n g   n   h e   r   w h e n   h e   p l c e   h   b e e n   h e   v l l g e   w h u b     b   c u l   l k   n   h e r e   n   e e   n h n g   b u     l   f   f   w e n   n   r l l e r   n g   b l e c h   r   g e n g   c h n g e   u   f   h e   c h n e   n   h e   w l l     f   h e   c h e w n g   g u   l k e   c w   w h   u h f u l   f   u l c h   b u   n   n e r r   e c r r '   r u c k   f r   p r l n   h   b e e n   h e r e   e e r   f e r n n   n     f     n   h e   p l c e   l k e   c n e r b l   f f e r e n \\n \\n a   p l f r   h   b e e n   h v e   u p   b e h n   h e   w n w   n     w   c v e r e   w h     w c h   f   e e p   n u b b   c r p e   l g h   g r e e n   n   c l r   t w   p l g h   h   b e e n   n l l e   u p   u   f   g h   n   h e   c   f   h g h l g h n g   g l w   n   h e   h r e e   b j e c   h   h   b e e n   r r n g e   n   h e   w n w :     c l c k     p n n n g   w h e e l   n   n   l - f h n e   c h e r r w   c b n e   t h e r e   w     l l   e e l   n   f r n   f   e c h   p e c e   n     c r e e   p r c e   g   n   e c h   e e l   n     g   w u l   n b   n   h e r   r g h   n   c u l l   p   $ 6 0 0   f r     p n n n g   w h e e l   w h e n   h e   c u l   g   w n     h e   v l u e   h u e   n   g e     s n g e r   f r   $ 4 8 9 5 ?\",\n",
       " 's g h n g   p r k n   w e n     h e   r   n   k n c k e \\n \\n i   w   p e n e   n l     e c n   l e r   l     f   h e   n e w   f e l l   h   b e e n   l u r k n g   b e h n     w n g   f r   h     c e     h e   r \\n \\n “ i n p e c r !',\n",
       " '”   s r k e r     w h     n r r w   l e   “ h w   g   f   u     r p   b !',\n",
       " '” \\n \\n “ p l n   l   c n b l e   i   g u e ”   p r k n     h e   l     p l l   m l l   n   r l l e   n   “ p r k n   g l l e p e   p l e e     e e   u ”   h e   u c k   u   h   h n   i   w   g r p p e   q u e e z e   g e n l   b     h n   h   f e l   e n r u l   r n g   n   v e r   r   n   h e n   r p p e \\n \\n “ r c h r   t h r c k e   s r k e r ”   h e   b l   n   \\n \\n “ i   f g u r e   u   w ”   p r k n     l k n g   r u n   t h e   e n r e   h p   h   b e e n   c r p e e   n   w   n   h e   p r c e   f   b e n g   p n e   t h e   e l l   f   f r e h   p n   w     g   n e   b u   h e r e   e e e     b e   n h e r   e l l   u n e r n e h     n   u n p l e n   n e   p r k n   c u l   n   p l c e   ;   h e   u r n e   h   e n n   b c k     s r k e r \\n \\n “ w h   c n   i     f r   u   n   h   - f n e   ?',\n",
       " \"”   s r k e r   k e \\n \\n p r k n   u r n e   h   l   g z e   u   h e   w n w   w h e r e   h e   r n   c n n u e     p u r   w n \\n \\n “ o h   n h n g     l l   i   g u e   i   j u   c e   b       h w -   m r e   r   l e   w e l c e   u     h e   w n   n '   w h   u   g   l u c k   i   g u e ” \\n \\n “ h w   h u g h f u l   w u l   u   c r e   f r     c f f e e ?\",\n",
       " 's e   h e r r ?',\n",
       " \"i   h v e   b h   u   b c k ” \\n \\n “ n   h n k   i   c n '   p   m r   b r l w   r u n ?\",\n",
       " \"” \\n \\n “ m r   b r l w     n   n e w   y r k   n     b u n g   r p   i   n '   e x p e c   h   b c k   u n l     l e   h e   e n h   f   o c b e r ” \\n \\n “ y u ' l l   b e   p e n n '   w h u   h   h e n ”   p r k n     h n k n g   h   f   h e   p r c e   h e   h   e e n   n   h e   w n w   w e r e   n   n c n   s r k e r   w u l n '   e x c l   b e   w p e   w h   c u e r   “ w h '   m r   b r l w '   f r   n e   b   h e   w ?\",\n",
       " \"” \\n \\n s r k e r '   l e   r e p p e r e   r z r - h n   “ a r e   u   k n g   n   u r   f f c l   c p c   h … c n b l e ?\",\n",
       " \"” \\n \\n “ n p e   j u   c u r u ” \\n \\n “ m   p r n e r '   f u l l   n e     k u r   b r l w ”   s r k e r     “ w e   h v e   w r k e   g e h e r   n   b h   l n n   n   h b u r g   t h ” — h e   w e p   h   r   r u n   h — “ h     u r   r e r e e n   m e   y e   e f u l   w e   e x p e c     k e   n   r e   h n     l v n g   y e   w e   b h   l v e   l   h n g   f n e   h n g   n   w e   h p e     k e     r e p u n   n   h e   r e … p e r h p   e v e n   h r u g h u   u r   - b e u f u l   n e w   e n g l n   r e g n   d   u   h n k   h   w u l   b e   p b l e   c n b l e   g l l e p e ?\",\n",
       " \"” \\n \\n “ a n h n g '   p b l e   i   g u e ”   p r k n     l k n g   r u n   f r   n   h r   h e   w   n n e   n   p p e   h   c g r e e   h   n   h   c   p c k e   “ a n w   i   h p e   u ' l l   h v e   h e   b e   f   l u c k   n   e l l   m r   b r l w   w h e n   u   e e   h   h   i '   g n n   r   n   g e   r u n ” \\n \\n “ i ' l l     ”   s r k e r     “ h e   e n j   c p n ” \\n \\n “ t h '   f n e ”   g l l e p e     h e   w e n     h e   r   p u e   l k e   b c k   s r k e r   w   l k n g     h   n e n l   “ b   h e   w   h w     u   l k e   h   l   h u e ?\",\n",
       " \"” \\n \\n “ i   n e e     g r e   e l   f   w r k ”   s r k e r     “ b u   w e   h v e   e ” \\n \\n “ i   g u e   u   ”   p r k n   g r e e   “ d n '   u p p e   u   e e n   n   w ' u n   u p   r u n   h e r e ” \\n \\n s r k e r '   b r w   c r e e   “ y w w e n ?\",\n",
       " \"” \\n \\n “ k ”   p r k n   e x p l n e   p e n l   “ y u   k n w   h w   h e   e e   l k e     e v l   n e w   f l k   t h r w   r c k   r   r n g   h e   b e l l   n '   r u n   w … h   r   f   h n g ” \\n \\n “ n ”   s r k e r     “ n   c h l r e n ” \\n \\n “ w e   e e     k n   h v e   p l c e   n e ” \\n \\n “ i   h   ?\",\n",
       " \"” \\n \\n “ y e ”   p r k n     j u c u l   “ e       t h e   h n k n '   n w     h   w e     n   f n   h   n   l v e ” \\n \\n “ w h     h e ”   s r k e r     n l \\n \\n “ i     k n   i f   u   h u l   e e   n h n g … ” \\n \\n “ i   w u l   f   c u r e   r e p r       u r   f f c e   p h e ”   h e   l e   h   c h l l   l e   g n \\n \\n “ t h '   g ”   p r k n     h e   p e n e   h e   r   n   l k e   r e g n e l   u     h e   p u r n g   r n   “ y u   e l l   m r   b r l w   h   i '   l k n '   f r w r ” \\n \\n “ i   c e r n l   w l l   c n b l e   g l l e p e   c ” \\n \\n p r k n   l k e   b c k   r l e   “ c h w ?\",\n",
       " \"” \\n \\n s r k e r '   l e   w e n e   “ g - b   c n b l e   g l l e p e   t h     h e   f l r   i l n   e x p r e n   f r   g - b ” \\n \\n “ o h ?\",\n",
       " \"w e l l   u   l e r n   e h n '   n e w   e v e r     n '   u ?\",\n",
       " \" b ”   h e   e p p e   u   n   h e   r n   n   c l e   h e   r   b e h n   h   “ n   f l r     e     n ' ”   h   c g r e e   w   k e   h e   h r e w     w \\n \\n i n e   s r k e r   w c h e   h   u p   h e   r e e   h r u g h   h e   h w   w n w   h e   w   n   l n g e r   l n g \\n \\n \\n e l e v e n \\n \\n w h e n   p r k n   g   b c k     h   f f c e   n   h e   m u n c p l   b u l n g   h e   c l l e   “ n l l ?\",\n",
       " 'y u   h e r e   n l l ?',\n",
       " \"” \\n \\n n   n w e r   p r k n   n e   n l l   w     g   b   b u     l l e   b   h r   n   b r n   h e   k   f f   h   c   u n b u c k l e   h   g l h e     w n     h   e k   l k e   u p     e l e p h n e   n u b e r   n   h e   p r l n   b k   n   l e   t h e   h e r   e n   p c k e   u p   n   h e   f r   r n g \\n \\n “ f b i   p r l n   a g e n   h n r h n ” \\n \\n “ t h     p r k n   g l l e p e   c n b l e     j e r u l e '   l   w n h p   w e ' v e   g   u     n '   b   u p   h e r e ” \\n \\n “ s   i   u n e r n ”   h n r h n     c r p l   “ r l p h   g l c k   n n e   e r   l   f u r - h r e e   b l c k   h r   b l u e   e e   w h       k n p   n e ?\",\n",
       " \"” \\n \\n “ n h n '   l k e   h   c n   u   c h e c k   n   e   f e l l   f r   e ?\",\n",
       " \"” \\n \\n h n r h n   n w e r e   n   h e   f f r v e \\n \\n “ f r   n e     b e n j n   m e r   m - e - a - r - s   w r e r   w r e     b k   c l l e   c n w '   d u g h e r   t h e   h e r   w   r e   r   p l e   g e h e r   k u r   b r l w   b - a - r - l - o - w   t h e   h e r   g u — ” \\n \\n “ y u   p e l l   h   k u r   w h     ' c '   r     ' k ' ?\",\n",
       " \"”   h n r h n   k e \\n \\n “ i   u n n ” \\n \\n “ o k   g   n ” \\n \\n p r k n       w e n g   t l k n g     h e   r e l   l w   l w   e   h   f e e l   l k e   n   h l e   “ t h e   h e r   g u     r c h r   t h r c k e   s r k e r   t w   '   n   h e   e n   f   t h r c k e   n   s r k e r   l k e     u n   t h   g u   n   b r l w   r e   n   h e   f u r n u r e   n   n q u e   b u n e   t h e   j u   p e n e     l l e   h p   h e r e   n   w n   s r k e r   c l   b r l w '   n   n e w   y r k   n     b u n '   r p   s r k e r   c l   h e   w   f   h e   w r k e   g e h e r   n   l n n   n '   h b u r g   a n   i   g u e   h   p r e   w e l l   c v e r   ” \\n \\n “ d   u   u p e c   h e e   p e p l e   n   h e   g l c k   c e ?\",\n",
       " \"” \\n \\n “ r g h   n w   i   n '   k n w   f   h e r e   e v e n       c e   b u   h e   l l   h w e   u p   n   w n   b u   h e   e   e ” \\n \\n “ d   u   h n k   h e r e '   n   c n n e c n   b e w e e n   h   g u   m e r   n   h e   h e r   w ?\",\n",
       " \"” \\n \\n p r k n   l e n e   b c k   n   c c k e   n   e e   u   h e   w n w   “ t h ”   h e     “   n e   f   h e   h n g   i '   l k e     f n   u ” \\n \\n \\n t w e l v e \\n \\n t h e   e l e p h n e   w r e   k e   n     h u n g   n   c l e r   c l     l     f   v b r n g   w h   h e   g p   h     r n e   h r u g h   h e   n         u n   l k e   n   h e r — h e   l n e l   u n   f   v c e   f l n g   v e r   p c e   t h e   e l e p h n e   p l e   r e   g r   n   p l n e r   n   h e   f r e e z e   n   h w   f   w n e r   h v e   h e v e   h e   n   l e n n g   p u r e   h   r e   c u l   t h e   r e   n   b u n e l k e   n   l r   l k e   p h n e   p l e   n c h r e   n   c n c r e e   t h e r   b e   r e   b l c k   w h   r   f   h e   r e   b e e   p v e   r   n   f l u r e   w h   u   f   b e e   h e   b c k   r   o l   w e h e r e   c l e   r k   h w   n   h e r   u r f c e   w h e r e   l n e e n   h v e   c l b e     f x   e h n g   n   1 9 4 6   r   1 9 5 2   r   1 9 6 9   b r — c r w   p r r w   r b n   r l n g — r   n   h e   h u n g   w r e   n     n   h u n c h e   l e n c e   n   p e r h p   h e   h e r   h e   f r e g n   h u n   u n   h r u g h   h e r   l n e   f e e   i f     h e r   b e   e e   g v e   n   g n   t h e   w n   h     e n e   n   f   h r   b u   f   e   n   h e   e l e p h n e   p l e   e e     k n w   h   i f   u   l   u r   h n   g n   n e   u   c n   f e e l   h e   v b r n   f r   h e   w r e   e e p   n   h e   w     f   u l   h   b e e n   p r n e   n   h e r e   n   w e r e   r u g g l n g     g e   u \\n \\n “ … n   h e   p   w h   n   l   w e n   m b e l   n e   f   h e   b g   n e   c l e     h e   h n '   e e n   n e   f   h e   n c e   h e   r u n   n   h e   g e   b n k   n   t r u   n   1 9 3 0   h e   w … ” \\n \\n “ … e   h e       p e c u l r   r   f   n   e v v e   i ' v e   e e n   h   h r u g h     b n c   r u n l n g   r u n   b e h n   h e   h u e   w h     w h e e l b r r e r   i   h e   u p   h e r e   l n e   i   w n e r   r … ” \\n \\n “ … c r c k e   g h   k n w   b u   h e   w n '   e l l   h e '   k e e p n g   h u   b u     h e   l w   w   … ” \\n \\n “ … w r e r     e v '   i   w n e r   f   f l   t b b   k n w   h e '   b e e n … ” \\n \\n “ … p e n   n   w f u l   l   f   e     h e   l b r r   l r e   s r c h e r     h e   n e v e r   w     f e l l   w h   k n e w     n … ” \\n \\n “ … h e     h   n e   w … ” \\n \\n “ … e   '   s r k e r   m r   r t   s r k e r   k e n n   d n l e '       h e   p p e   b   h   n e w   p l c e   w n w n   n   h e r e   w     g e n u n e   d e b e r   c b n e   n   h e   w n w   n   h e   w n e   e g h   h u n r e   l l r   f r     c n   u   g n e ?\",\n",
       " \"s   i   … ” \\n \\n “ … f u n n   h   c n g   n   h   l l e   g l c k   b … ” \\n \\n “ … u   n '   h n k … ” \\n \\n “ … n   b u       f u n n   b   h e   w     u   l l   h v e   h   r e c p e   f r … ” \\n \\n t h e   w r e   h u   a n   h u   a n   h u \\n \\n \\n t h i r t e e n \\n \\n \\n 9 / 2 3 / 7 5 \\n \\n n e :   g l c k   d n e l   f r n c \\n \\n a r e :   r f d   # 1   b r c k   r   j e r u l e '   l   m n e   0 4 2 7 0 \\n \\n a g e :   1 2   s e x :   m l e   r c e :   c u c n \\n \\n a e :   9 / 2 2 / 7 5   a n g   p e r n :   a n h n   h   g l c k   f h e r \\n \\n s p :   s h c k   l   f   e r   p r l   n u e   n e r e   n   f   c n p n   g e n e r l   l g n e \\n \\n \\n \\n t e   e e   c h e   h e e : \\n \\n \\n \\n 1   t u b e r c u l   k n   p c h :   n e g \\n \\n 2   t u b e r c u l   p u u   n   u r n e :   n e g \\n \\n 3   d b e e :   n e g \\n \\n 4   w h e   c e l l   c u n :   n e g \\n \\n 5   r e   c e l l   c u n :   4 5 %   h e \\n \\n 6   m r r w   p l e :   n e g \\n \\n 7   c h e   x - r :   n e g \\n \\n \\n \\n p b l e   g n :   p e r n c u   n e   p r r   r   e c n r ;   p r e v u   e x   h w   8 6 %   h e g l b n   s e c n r   n e     u n l k e l ;   n   h r   f   u l c e r   h e r r h   b l e e n g   p l e   e   l   d f f e r e n l   c e l l   c u n   n e g   p r r   n e   c b n e   w h   e n l   h c k   l k e l   r e c e n   b r u   e n e   n   x - r   f r   n e r n l   b l e e n g   n   h e   f f - c h n c e   e   n   r e c e n   c c e n   f h e r     a l   r e c e n   l   g e   f   v n   b 1 2   e e   c h e   h e e \\n \\n \\n \\n p e n n g   f u r h e r   e   l e '   r e l e e   h \\n \\n \\n g m   g r b \\n \\n a e n n g   p h c n \\n \\n \\n \\n \\n f o u r t e e n \\n \\n a   n e   ' c l c k   n   h e   r n n g   s e p e b e r   2 4   h e   n u r e   e p p e   n   d n n   g l c k '   h p l   r     g v e   h   h   e c n   s h e   p u e   n   h e   r w   f r w n n g   t h e   b e   w   e p \\n \\n h e r   e e   j u p e   f r   h e   b e     h e   l   w e   w h e   b u n l e   h   l   c l l p e   b   h e   f   “ d n n ?\",\n",
       " \"”   h e   \\n \\n s h e   e p p e   w r   h   n   h u g h   h e   h     g     h e   b h r   n     w     u c h   f r   h   h '   l l \\n \\n s h e   u r n e   h   v e r   g e n l   n   h e r   f r   h u g h   b e f r e   r e l z n g   h   h e   w   e   w   h   h e   b 1 2   h   b e e n   h e l p n g ;   h e   l k e   b e e r   h n   h e   h   n c e   h   n \\n \\n a n   h e n   h e   f e l   h e   c l   f l e h   f   h   w r   n   h e   l c k   f   v e e n   n   h e   l g h   b l u e   r c e r   f   v e n   b e n e h   h e r   f n g e r   n   h e   r n   f r   h e   n u r e '   n     r e p r     e h   n   h e   w r \\n \\n \\n \\n \\n \\n c h p e r   f v e \\n \\n b e n   i i \\n \\n o n   s e p e b e r   2 5   b e n   k   n n e r   w h   h e   n r n   g n   i   w   t h u r   n g h   n   h e   e l   w   r n l — b e n   n   f r n k   b l l   n r n   g r l l e   h e   f r n k   n   h e   u r   g r l l   n   a n n   h   h   h e r   k n e   b e n   e r n g   n   l e   n c e   n n e   h   r n n g   t h e   e     h e   p c n c   b l e   n   f e r w r   h e     k n g   h e   f u r   f   h e   l k n g   e u l r l   f   b n '   f n g   p e n n n   c h n c e \\n \\n t h e r e   w     u b l e   c h n g e   n   h e   r ;     w   l l   p l e n   e n u g h   e v e n   n   h r l e e v e   b u   h e r e   w     g l n   f   c e   n     n w   a u u n   w   w n g   n   h e   w n g   l   n   g h   t h e   l r g e   n   n c e n   p l e   n   f r n   f   e v   m l l e r '   b r n g h u e   h   l r e   b e g u n     g   r e \\n \\n t h e r e   h   b e e n   n   c h n g e   n   b e n '   r e l n h p   w h   h e   n r n   s u n '   l k n g   f r   h   w   f r n k   n   c l e r   n   n u r l   a n   h e   l k e   h e r   v e r   u c h   i n   b l l   h e   e n e     e l   n c r e n g   l k n g   h e l   n   b e n c e   b   h e   u b c n c u   b   h   f f e c   l l   f h e r   w h e n   n   h e   p r e e n c e   f   e n   w h   r e   h e r e   b e c u e   f   h e r   u g h e r   r h e r   h n   h e e l v e   i f   u   l k e   n h e r   n   n   u   r e   h n e   u   p e k   f r e e l   c u   w e n   v e r   b e e r   h   h e   h   b u   p l c   b u   n   e r   h w   e e p   h e   p e n l   l k n g       p b l e     p e n   u p   c p l e e l       n   w h     n g l n g   u r   u g h e r '   p e n l   e f l r n   b e w e e n   h   l e g   b e n   r e f l e c e   h   f e r   r r g e   h e   p b l e   h   b e c e   h e   c u l   n   c u l   u   b e c e   c p l e e   f r e n   w h   h e   n   w h   w   b n g n g   u r   u g h e r   n g h   f e r   n g h ?\",\n",
       " \"t h e r e   g h   b e     r l   h e r e   b u   b e n   u b e   \\n \\n a n n   n r n   c n n u e   c l   s u n   h   l   h     l l e   f   h e   f l   t b b   u n   h e   n g h   b e f r e — f   h e r   h e r '   u p n   h   h e r   n - n - l w   p r b l e   h   b e e n   l v e   n e l   n   f c r l   n   h   r e c n   f l   w     k n w n   q u n ;   h e   w   s e   b e n   m e r   n   h e   h e r   h n   h   c e   u   f   n w h e r e   n   g h   p p e r   b c k   h e r e   j u     q u c k l   p b l   w h   h e r   u g h e r '   h e r   n   h   p c k e   s h e   r u e   h e   c r e v e   l e   w h   n   n n c v e   l l - w n   l k e   n e   h   e w r   a r l n g n   r b n n   r   s h e r w   a n e r n   w u l   h v e   r e c g n z e     n c e   n   b e n   u p e c e   h   w n   e e p   h e   h   b r b e     x :   e h e r   f g g   r   b u l l   u ;   e e   h c l   u c l   r   n c l   e n     e n   u n g   g r l   p c k g e   c n n n g   h e r   l e f   e r   b e n '   p r c p n   n   h e   e r c h   f r   r l p h e   g l c k   e e e     h v e   n c r e e   h e r   u p c n   r h e r   h n   l l e   h e   n   h e   u p e c e   h   w n n n g   h e r   v e r   w   n   p b l   h e   w n e r e   f   h e   k n e w   f   p r k n   g l l e p e '   v     h   r \\n \\n h e   w   c h e w n g   h e e   h u g h   v e r   l z l   w h e n   a n n     “ t e r r b l e   b u   h e   g l c k   b ” \\n \\n “ r l p h e ?\",\n",
       " \"y e ”   b l l   \\n \\n “ n   h e   l e r   n e   h e '   e ” \\n \\n b e n   r e   “ w h ?\",\n",
       " 'd n n ?',\n",
       " \"” \\n \\n “ h e   e   e r l   e e r   r n n g ”   s h e   e e e   u r p r e   h   h e   e n     n   k n w   i   h   b e e n   l l   h e   l k \\n \\n “ i   h e r   h e   l k n g   n   m l ' ”   s u n     h e r   h n   f u n   b e n '   u n e r   h e   b l e   n   h e   k     w l l n g l   “ h w   r e   h e   g l c k   k n g   ?\",\n",
       " '” \\n \\n “ t h e   e   w   i   w u l ”   a n n     p l   “ t h e   r e   u   f   h e r   n ” \\n \\n w e l l   h e   g h   b e   b e n   h u g h   t e n     g   h e r   l f e   h   b e e n   g n g   b u     u u l   r n e   c c l e ;   n w   h e r   f l   u n   w   h e   n   n   p e c e   i   g v e   h     r b   c h l l \\n \\n “ d   u   h n k   h e   h e r   g l c k   b   w l l   e v e r   h w   u p   l v e ?',\n",
       " \"”   b l l   k e   b e n \\n \\n “ n ”   b e n     “ i   h n k   h e '   e   ” \\n \\n “ l k e   h   h n g   n   h u n   w   e r   g ”   s u n     “ i f   h e '   e   i   l   h p e   h e   n '   f n   h   w h e v e r   c u l     e h n g   l k e   h       l l e   e f e n e l e   b — ” \\n \\n “ t h e   p l c e   r e   l k n g   r u n   i   g u e ”   b e n     “ r u n n g   u p   k n w n   e x   f f e n e r   n   l k n g     h e ” \\n \\n “ w h e n   h e   f n   h e   g u   h e   u g h     h n g   h   u p   b   h e   h u b ”   b l l   n r n     “ b n n   b e n ?\",\n",
       " \"” \\n \\n b e n     “ n   h n k   t   u c h   l k e   u   p l n g   l r e   w h   e   f r   h e   u   t h n k   f r   h e   n c e   e l   i ' v e   g   w r k       n g h ” \\n \\n a n n   n r n   l f e   h e r   e e b r w   n     n h n g \\n \\n b l l     “ h w '   h   n e w   b k   c n g ?\",\n",
       " \"” \\n \\n “ g ”   b e n     b r e f l   “ w u l   u   l k e     w l k   w n   h e   h l l   w h   e   n   h v e         s p e n c e r '   s u n ?\",\n",
       " \"” \\n \\n “ o h   i   n '   k n w ”   a n n   n e r p e   w f l   “ a f e r   r l p h e   g l c k   n   l l   i '   f e e l   b e e r   f — ” \\n \\n “ m   i '     b g   g r l ”   s u n   n e r p e   “ a n   h e r e   r e   r e e l g h   l l   h e   w   u p   b r c k   h l l ” \\n \\n “ i ' l l   w l k   u   b c k   u p   f   c u r e ”   b e n     l   f r l l   h e   h   l e f   h   c r     e v '   t h e   e r l   e v e n n g   h   b e e n     f n e     r v e \\n \\n “ t h e ' l l   b e   f n e ”   b l l     “ y u   w r r     u c h   m h e r ” \\n \\n “ o h   i   u p p e   i     y u n g   f l k   l w   k n w   b e   n '   h e ?\",\n",
       " \"”   s h e   l e   h n l \\n \\n “ i ' l l   j u   g e     j c k e ”   s u n   u r u r e     b e n   n   u r n e   u p   h e   b c k   w l k   s h e   w   w e r n g     r e   p l   k r   h g h - h g h   n   h e   e x p e     l   f   l e g   g n g   u p   h e   e p     h e   r   b e n   w c h e   k n w n g   a n n   w   w c h n g   h   w c h   h e r   h u b n   w   p n g   h e   c h r c l   f r e \\n \\n “ h w   l n g     u   n e n       n   h e   l   b e n ?\",\n",
       " \"”   a n n   k e   h w n g   p l e   n e r e \\n \\n “ u n l   h e   b k   g e   w r e n   n w ”   h e     “ a f e r   h   i   c n '     i '   v e r   l v e l   n   h e   r n n g   n   h e   r   e   g   w h e n   u   b r e h e   ”   h e   l e   n   h e r   e e   “ i       l n g e r ” \\n \\n s h e   l e   b c k   “ i   g e   c l   n   h e   w n e r   b e n   a w f u l l   c l ” \\n \\n t h e n   s u n   w   c n g   b c k   w n   h e   e p   w h     l g h   j c k e   h r w n   v e r   h e r   h u l e r   “ r e ?\",\n",
       " \"i '   g n g     h v e     c h c l e   l k   u   c p l e x n ” \\n \\n “ y u r   c p l e x n   w l l   u r v v e ”   h e     n   u r n e     m r   n   m r   n r n   “ t h n k   u   g n ” \\n \\n “ a n e ”   b l l     “ c e   n   v e r   w h     x - p c k   r r w   n g h   f   u   w n   w e ' l l   k e   f u n   f   h   g n   y r z e k ” \\n \\n “ t h   w u l   b e   f u n ”   b e n     “ b u   w h ' l l   w e     f e r   h e   e c n   n n n g ?\",\n",
       " \"” \\n \\n h   l u g h e r   h e r   n   f u l l   f l l w e   h e   r u n   h e   c r n e r   f   h e   h u e \\n \\n \\n t w o \\n \\n “ i   n '   r e l l   w n     g     s p e n c e r ' ”   h e       h e   w e n   w n   h e   h l l   “ l e '   g     h e   p r k   n e ” \\n \\n “ w h   b u   u g g e r   l ?\",\n",
       " \"”   h e   k e   n g   h e   b r n x   f r   h e r \\n \\n “ i n   h e   l   l l   u g g e r   h v e     b e   n   b   e v e n   i '     w n   r n n c e   a n       n w   e x c l   e g h - h - h r e e ”   d r k n e   h   f l l e n   v e r   h e     h e   w l k e   w n   h e   h l l   n   h e r   h w   w x e   n   w n e   n   h e   r e e l g h \\n \\n “ a g r e e b l e   u g g e r   u   h v e ”   h e     “ n   n e   g e     h e   p r k   f e r   r k ?\",\n",
       " \"” \\n \\n “ s e e   h e   w n   k   g   h e r e     k e   u   f   h e   c n '   f f r   h e   r v e - n ”   h e     n   w n k e     h   “ s   f   u   e e   n n e   k u l k n g   r u n   n   h e   b u h e   l k   h e   h e r   w ” \\n \\n t h e   e n e r e   f r   h e   w e   e   w h c h   f c e   h e   m u n c p l   b u l n g   t h e   p r k   w   h w   n     l l e   r e l k e   h e   c n c r e e   w l k   c u r v n g   w   u n e r   h e   l e f   r e e   n   h e   w n g   p l   g l e r n g   q u e l   n   h e   r e f r c e   g l w   f r   h e   r e e l g h   i f   n n e   w   h e r e   b e n   n '   e e   h \\n \\n t h e   w l k e   r u n   h e   w r   m e r l   w h     l n g   l   f   n e   h e   l e   f r   h e   r e v l u n r   w r   h e   n e w e   f r   v e n   c r v e   u n e r   h e   w r   f   1 8 1 2   t h e r e   w e r e   x   h e w n   n e   f r   h e     r e c e n   c n f l c   h e   n e w   c u   n   h e   b r   g l e n g   l k e   f r e h   w u n   h e   h u g h :   t h   w n   h   h e   w r n g   n e   i   u g h     b e   t e   a n     f   h e   c n   w     n u r l   u g r w h   f   h e   h u g h   h e   l k e   v e r   h   h u l e r   f r   h e   m r e n   h u e   b u   h e   b u l k   f   h e   m u n c p l   b u l n g   b l c k e     u \\n \\n s h e   w   h   g l n c e   n     e   h e r   f r w n   a   h e   p r e   h e r   j c k e   n   h e   g r   n     w n   h e   h   p u r n e   h e   p r k   b e n c h e   w h u   c u n   h e     “ m     p r k n   g l l e p e   w   c h e c k n g   u p   n   u   t h e   n e w   b   n   c h l   u   h v e   l e n   h e   l k   n e   r   e h n g   l k e   h ” \\n \\n “ h e '   q u e     c h r c e r ”   b e n   \\n \\n “ m   h   u   p r c c l l   r e   n   c n v c e ”   i   w     l g h l   b u   h e   l g h n e   f l e r e   n   l e   e h n g   e r u   h r u g h \\n \\n “ y u r   h e r   e n '   c r e   f r   e   u c h   e   h e ?\",\n",
       " \"” \\n \\n “ n ”   s u n     h l n g   h   h n   “ i   w     c e   f   l k e     f r   g h   i '   v e r   r r ” \\n \\n “ i '   k ”   h e     “ i '   b n g   f v e   h u n r e   n w ” \\n \\n “ d ?\",\n",
       " \"”   s h e   l e   “ h e   j u   k n w   c l   w h e n   h e   e e   ”   t h e   l e   f e   “ b e n   w h '   h   n e w   b k   b u ?\",\n",
       " \"” \\n \\n “ t h '   h r     ”   h e   l p p e   h   l f e r   f f   n   u g   h   e   n   h e   e w   g r \\n \\n “ s u b j e c - c h n g e r ” \\n \\n “ n   i   n '   n   e l l n g   u ”   a n   h e   f u n   u r p r n g l   h   h   w   r u e   h e   h   l w   h u g h   f     w r k   n   p r g r e       c h l     w e k   c h l   h   h     b e   p r e c e   n   c r l e   t   u c h   h n l n g   w u l   k l l     h e   h   r e f u e     e l l   m r n     w r   b u   c n w '   d u g h e r   r   a r   d n c e   l h u g h   h e   h   b e e n   w l l   c u r u   b u   b h   f   h e   b u   s u n   w   f f e r e n   w h   m r n   h e r e   h   l w   b e e n     r e c e   r   f   p r b n g   n   h e r   q u e n   w e r e   r e   l k e   n e r r g n \\n \\n “ j u   l e   e   h n k   h w     p u     g e h e r ”   h e   \\n \\n “ c n   u   k   e   w h l e   u   h n k ?\",\n",
       " \"”   h e   k e   l n g   b c k   n   h e   g r   h e   w   f r c b l   w r e   f   h w   h r   h e r   k r   w ;     h   g v e n     l   f   g r u n \\n \\n “ i   h n k   h   g h   n e r f e r e   w h   h e   h u g h   p r c e e ”   h e     f l   “ l e '   e e ” \\n \\n h e   l e n e   v e r   n   k e   h e r   p l c n g   n e   h n   l g h l   n   h e r   w   s h e   e   h   u h   f r l   n   h e r   h n   c l e   v e r   h   a   e n   l e r   h e   f e l   h e r   n g u e   f r   h e   f r   e   n   h e   e     w h   h   w n   s h e   h f e     r e u r n   h   k   r e   f u l l   n   h e   f   r u l e   f   h e r   c n   k r   e e e   l u   l   e n n g \\n \\n h e   l   h   h n   u p   n   h e   r c h e   h e r   b r e   n     f   n   f u l l   f r   h e   e c n   e   n c e   h e   h   k n w n   h e r   h e   f e l   x e e n     h e - b u n g   x e e n   w h   e v e r h n g   n   f r n   f   h   x   l n e   w e   n   n   h r   r v e l n g   n   g h \\n \\n “ b e n ?\",\n",
       " '” \\n \\n “ y e ” \\n \\n “ m k e   l v e     e ?',\n",
       " 'd   u   w n   ?',\n",
       " \"” \\n \\n “ y e ”   h e     “ i   w n   h ” \\n \\n “ h e r e   n   h e   g r ”   h e   \\n \\n “ y e ” \\n \\n s h e   w   l k n g   u p     h   h e r   e e   w e   n   h e   r k   s h e     “ m k e     b e   g ” \\n \\n “ i ' l l   r ” \\n \\n “ s l w ”   h e     “ s l w   s l w   h e r e … ” \\n \\n t h e   b e c e   h w   n   h e   r k \\n \\n “ t h e r e ”   h e     “ o h   s u n ” \\n \\n \\n t h r e e \\n \\n t h e   w e r e   w l k n g   f r   l e l   h r u g h   h e   p r k   n   h e n   w h   r e   p u r p e   w r   b r c k   s r e e \\n \\n “ a r e   u   r r ?\",\n",
       " \"”   h e   k e \\n \\n s h e   l k e   u p     h   n   l e   w h u   r f c e   “ n   i '   g l ” \\n \\n “ g ” \\n \\n t h e   w l k e   h n   n   h n   w h u   p e k n g \\n \\n “ t h e   b k ?\",\n",
       " \"”   h e   k e   “ y u   w e r e   g n g     e l l   e   b u   h   b e f r e   w e   w e r e     w e e l   n e r r u p e ” \\n \\n “ t h e   b k     b u   h e   m r e n   h u e ”   h e     l w l   “ m b e     n '   r   u     b e   n   w h l l   i   h u g h     w   g n g     b e   b u   h   w n   b u   b e   i '   f l n g   e l f   i   r e e r c h e   h u b e   m r e n   u   k n w   h e   w     b e r   t h e   r u c k n g   c p n   w   j u     f r n ” \\n \\n s h e   w   l k n g     h   n   w n e r   “ h w     u   f n   h   u ?\",\n",
       " \"” \\n \\n “ s e   f r   h e   b n   p l c e   n   r e   f r     w n   n e   m n e l l   c r e   b r e   m r e n '   e r   s h e '   e v e n - n n e   n w   n   h e   c n '   r e e b e r   w h   h e   h   f r   b r e k f   b u   h e '   n e v e r   f r g e n     h n g   h   h p p e n e   b e f r e   1 9 4 0 ” \\n \\n “ a n   h e   l   u — ” \\n \\n “ a   u c h     h e   k n e w   s h e '   n     n u r n g   h e   n   n e w   h p h r e   n   i   n '   h n k   n n e '   r e l l   k e n   h e   e     l e n     h e r   n   e r   i   k e   h e r   f   h u b e r   m r e n   h   r e l l   b e e n     c n r c   k l l e r   n   h e   b n   r e — h e   p l c e   u r e   h u g h   h e   w — n   h e   n e   ' h w   n ?\",\n",
       " \"   i   k e   h e r   s h e   h e l   h e r   f n g e r   u p   n   f r n   f   h e r   e e   n   w g g l e   h e   b c k   n   f r h   n     ' h w   n   e   c n   u   c u n   h e e ?\",\n",
       " \" ” \\n \\n “ m   g ” \\n \\n “ t h e   b n   r g n z n   b e g n     g e   v e r   n e r v u   b u   h u b e r   m r e n   n   1 9 2 7 ”   b e n   w e n   n   “ h e   w   p c k e   u p   f r   q u e n n g   w c e   n c e   b   h e   c   p l c e   n   n c e   b   h e   m l e n   p l c e   t h e   b n   g r b   w   f r     g n g l n   k l l n g   n   h e   w   b c k   n   h e   r e e   n   w   h u r   t h e   h n g   n   m l e n   w n '   b u n e     l l   i   w   h e   u r e r   f   n   e l e v e n - e r - l   b   t h e   c h l   h   b e e n   e v c e r e ” \\n \\n “ b e n ”   h e     n   h e r   v c e   w   c k \\n \\n “ m r e n '   e p l e r   g   h   f f   h e   h k — i   g n e   h e   k n e w   w h e r e     f e w   b e   w e r e   b u r e — b u   h   w   h e   e n   f   h   n   b n   h e   v e   q u e l     ' l e '   l   j u     r e r e   r u c k n g   f f c l   w h   g     c h e c k   n c e     n h   h e   n '   g   u   u c h   a   l e   n   u c h   h   w e   k n w   f ” \\n \\n “ w h     u   e n ?\",\n",
       " \"” \\n \\n “ i ' v e   p e n     l   f   e   n   h e   l b r r   l k n g     l   c p e   f   h e   l e g e r   f r   1 9 2 8     1 9 3 9   f u r   c h l r e n   p p e r e   n   h   p e r   n   h   u n u u l   n   n     r u r l   r e   k   g e   l   n   h e   e e   e   f   e x p u r e   s e e   k   g e   b u r e   n     g r v e l - p   l e   n   n c e   b u     h p p e n ” \\n \\n “ b u   u   n '   h n k   h '   w h   h p p e n e ?\",\n",
       " \"” \\n \\n “ i   n '   k n w   b u   i     k n w   h   n   n e   f   h e   f u r   w   e v e r   f u n   n   h u n e r   u r n n g   u p     k e l e n   n   1 9 4 5   r     c n r c r   g g n g   n e   u p   w h l e   g e n g     l   f   g r v e l     k e   c e e n   h u b e r   n   b r e   l v e   n   h   h u e   f r   e l e v e n   e r   n   h e   k   p p e r e   n   h '   l l   n n e   k n w   b u   i   k e e p   h n k n g   b u   h   k   n   m l e n   i   h n k   b u   h     l   d   u   k n w   t h e   h u n n g   f   h l l   h u e   b   s h r l e   j c k n ?\",\n",
       " \"” \\n \\n “ y e ” \\n \\n h e   q u e   f l   “ ' a n   w h e v e r   w l k e   h e r e   w l k e   l n e '   y u   k e   w h     b k   w   b u   e e n l l   '   b u   h e   r e c u r r e n   p w e r   f   e v l ” \\n \\n s h e   p u   h e r   h n   n   h   r   “ y u   n '   h n k   h   r l p h e   g l c k … ” \\n \\n “ w   g b b l e   u p   b   h e   r e v e n g e f u l   p r   f   h u b e r   m r e n   w h   c e   b c k     l f e   n   e v e r   h r   e r     h e   f u l l   f   h e   n ?\",\n",
       " \"” \\n \\n “ s e h n g   l k e   h ” \\n \\n “ y u ' r e   k n g   h e   w r n g   p e r n   f   u   w n     b e   r e u r e   d n '   f r g e   i '   h e   k   w h   p e n e   h e   r     n   u p r   b e r   n   w   h   h n g n g   f r     b e ” \\n \\n “ t h '   n   n   n w e r ” \\n \\n “ n   '   n   l e   e   e l l   u   n e   h e r   h n g   b e f r e   i   e l l   u   e x c l   w h   i   h n k   s e h n g   m n e l l   c r e     s h e     h e r e   r e   e v l   e n   n   h e   w r l   r u l   e v l   e n   s e e   w e   h e r   f   h e   b u   r e   f e n   h e   w r k   n   b l u e   r k n e   s h e     h e   h   b e e n   c u r e   w h     k n w l e g e   f   w   u c h   e n   n   h e r   l f e e   o n e   w   a l f   h l e r   t h e   h e r   w   h e r   b r h e r - n - l w   h u b e r   m r e n ”   h e   p u e   “ s h e     h   n   h e     h u b e   h   h e r   e r   h e   w   h r e e   h u n r e   l e   w   n   c p e   c   s h e   h   k e n     j b     h u e k e e p e r   f r     r c h   f l   h   u e r   s h e   w   k n g     e   l   n     l r g e   w e n   b w l   i   w   q u r e r   f e r   w   n   h e   f e r n n   a   b l   f   p n   ' l k e   l g h n n g '   h e     w e n   h r u g h   h e r   h e   n   h e   h e r     h g u n   b l   s h e   f e l l   n   h e   f l r   h e   c l   w h e n   h e   p c k e   h e r e l f   u p — h e   w   l n e   n   h e   h u e — w e n   n u e   h   p e   s h e   l k e   n   h e   w e n   b w l   n   c r e e   i   p p e r e     h e r   h     w   f u l l   f   b l ” \\n \\n “ g ”   s u n   u r u r e \\n \\n “ a   e n   l e r   e v e r h n g   w   n r l   g n   n   h e c h e   n h n g   n   h e   l   b w l   b u   l   b u   h e     h e   k n e w — h e   k n e w — h   h e r   e r   w   e   u r e r e   w h     h g u n ” \\n \\n “ t h '   h e r   u n u b n e   r ?\",\n",
       " \"” \\n \\n “ u n u b n e   e   b u   h e '   n   e   l   r c k e r ;   h e '   n   l   w n   w h u   e n u g h   b r n   l e f     l e   t h   p r   e n '   b h e r   e   n w   n   v e r   u c h     l e   t h e r e '     l r g e   e n u g h   b   f   e s p     n w     h     r n l   n   l u g h     f f     h   w n   e x p e n e   t h e   e   h   b r e   r n e   h e   f c   f   h e r   e h   h r e e   h u n r e   l e   v e r     k n   f   p c h c   e l e g r p h   n '   h l f     h r   f r   e     b e l e v e     h e   f c e   f   e v l — h e   r e l l   n r u   f c e — h   i   e e   h n k   i   c n   e e   b u r e   n   h e   u l n e   f   h   h u e \\n \\n “ y u   k e   e   w h   i   h n k   i ' l l   e l l   u   i   h n k   '   r e l v e l   e   f r   p e p l e     c c e p   e h n g   l k e   e l e p h   r   p r e c g n n   r   e l e p l   b e c u e   h e r   w l l n g n e     b e l e v e   e n '   c   h e   n h n g   i   e n '   k e e p   h e   w k e   n g h   b u   h e   e   h   h e   e v l   h   e n     l v e   f e r   h e     r e   u n e l n g ” \\n \\n h e   l k e   u p     h e   m r e n   h u e   n   p k e   l w l \\n \\n “ i   h n k   h   h u e   g h   b e   h u b e r   m r e n '   n u e n     e v l     k n   f   p c h c   u n n g   b r   a   u p e r n u r l   b e c n   f   u   l k e   s n g   h e r e   l l   h e e   e r   b e   h l n g   h e   e e n c e   f   h u b e '   e v l   n     l   l e r n g   b n e \\n \\n “ a n   n w   '   c c u p e   g n \\n \\n “ a n   h e r e '   b e e n   n h e r   p p e r n c e ”   h e   u r n e     h e r   n   c r l e   h e r   u p u r n e   f c e   n   h   h n   “ y u   e e   h '   e h n g   i   n e v e r   c u n e   n   w h e n   i   c e   b c k   h e r e   i   h u g h   h e   h u e   g h   h v e   b e e n   r n   w n   b u   n e v e r   n     w l e   r e   h     h   b e e n   b u g h   i   w   e l f   r e n n g     n … h   i   n '   k n w   c n f r n n g     w n   e r r r   n   e v l   b e   p l n g   g h - b r e k e r   b e — b e   g n e   n   h e   n e   f   l l   h e   n   h u b e   o r   b e   j u   p p n g   n   h e   p h e r e   f   h e   p l c e     w r e     b k   c r   e n u g h     k e   e     l l n   l l r   b u   n   e r   w h   i   f e l   h   i   w   n   c n r l   f   h e   u n   n   h   w u l   k e   l l   h e   f f e r e n c e   i   w n '   n   n n e - e r - l   k   n r e   r e     r u n   c r e n g   f r     g c - l n e r n   h w   h   b e   c e   u   f     w n   n   n   n   p l c e   e l e   b u   n w … ” \\n \\n “ n w   w h   b e n ?\",\n",
       " \"” \\n \\n “ n w   '   c c u p e !\",\n",
       " \"”   h e   b u r   u   n   b e     f   n   h   p l   “ i '   n   n   c n r l   f   h e   u n   a   l l e   b   h   p p e r e   n   i   n '   k n w   w h     k e   f     i   c u l   h v e   n h n g       w h   h   h u e   b u … i   n '   b e l e v e   ”   t h e   l   f u r   w r   c e   u   n   e u r e   l e n g h \\n \\n “ g h ?\",\n",
       " 's p r ?',\n",
       " '” \\n \\n “ n   n e c e r l   m b e   j u   e   h r l e   g u   w h   r e   h e   h u e   w h e n   h e   w     k   n   b u g h     n   b e c e … p e e ” \\n \\n “ d   u   k n w   e h n g   b u — ”   h e   b e g n   l r e \\n \\n “ t h e   n e w   e n n ?',\n",
       " \"n   i '   j u   g u e n g   b u   f       h e   h u e   i '   l   r h e r     w   p e n   h n   e h n g   e l e ” \\n \\n “ w h ?\",\n",
       " \"” \\n \\n h e     p l   “ p e r h p   '   c l l e   n h e r   e v l   n ” \\n \\n \\n f o u r \\n \\n a n n   n r n   w c h e   h e   f r   h e   w n w   s h e   h   c l l e   h e   r u g r e   e r l e r   n   m   c g n     w h   e h n g   l k e   g l e e   n   h e r e   h v e n '   b e e n   n \\n \\n w h e r e   h v e   u   b e e n   s u n ?\",\n",
       " 'o h   w h e r e   h v e   u   b e e n ?',\n",
       " \"h e r   u h   w e   w n   n     h e l p l e   u g l   g r c e \\n \\n g   w   b e n   m e r   g   w   n   l e v e   h e r   l n e \\n \\n \\n f i v e \\n \\n w h e n   h e   l e f   h   r   h e     “ d   e h n g   p r n   f r   e   b e n ” \\n \\n “ w h e v e r   i   c n ” \\n \\n “ d n '   e n n   h e   h n g     n n e   e l e   n   w n   a n n e ” \\n \\n h e   l e   h u r l e l   “ d n '   w r r   i '   n   n x u     h v e   p e p l e   h n k n g   i ' v e   b e e n   r u c k   n u ” \\n \\n “ d   u   l c k   u r   r     e v ' ?\",\n",
       " \"” \\n \\n “ n ” \\n \\n “ i '   r   l c k n g   ”   s h e   l k e     h   l e v e l l   “ y u   h v e     h n k   f   u r e l f     u n e r   u p c n ” \\n \\n “ w h   u   ?\",\n",
       " \"” \\n \\n “ y u   w u l   b e   f   i   n '   l v e   u ” \\n \\n a n   h e n   h e   w   g n e   h e n n g   u p   h e   r v e w   l e v n g   h     l k   f e r   h e r   u n n e   b   l l   h e   h     n   r e   u n n e   b   h e   f u r   r   f v e   w r   h e   h       h e   e n \\n \\n \\n s i x \\n \\n h e   f u n   w h e n   h e   g   b c k     e v '   h   h e   c u l   n e h e r   w r e   n r   l e e p   h e   w     e x c e       e h e r   s   h e   w r e   u p   h e   c r ë n   n   f e r     e n   f   n e c n   h e   r v e   u   w r   d e l l '   p l c e \\n \\n i   w   c r w e   n   h e   p l c e   w   k   n   l u   t h e   b n     c u n r - n - w e e r n   g r u p   n   r l   c l l e   h e   r n g e r   w   p l n g     v e r n   f   “ y u ' v e   n e v e r   b e e n   t h   f r   b e f r e ”   w h c h   e   u p   n   v l u e   f r   w h e v e r     l   n   q u l   p e r h p   f r   c u p l e   w e r e   g r n g   n   h e   f l r     f   h e   w e r n g   b l u e   j e n   b e n     l l e   u e   h u g h   f   e w r   a l b e e '   l n e   b u   n k e   n p p l e \\n \\n t h e   l   n   f r n   f   h e   b r   w e r e   h e l   w n   b   c n r u c n   n   l l   w r k e r   e c h   r n k n g   e n c l   g l e   f   b e e r   n   l l   w e r n g   n e r l   e n c l   c r e p e - l e   w r k   b   l c e   w h   r w h e \\n \\n t w   r   h r e e   b r   w h   b u f f n   h r   n   h e r   n e   w r e n   n   g l   h r e   n   h e r   w h e   b l u e   j c k e   t n   s h r l e   c r c u l e     h e   b l e   n   b h   b e h n   h e   b r   d e l l   w   r w n g   b e e r   n     h e   f r   e n     h w k l k e   n   w h   h   h r   g r e e   b c k   w   k n g   x e   r n k   h   f c e   r e n e   u e r l   b l n k     h e   e u r e   l q u r   n   h   g l e   u p e     n   h   l v e r   h k e r   n   e   w h e v e r   w e n   w h   \\n \\n b e n   r e   w r   h e   b r   k r n g   h e   n c e   f l r   n   e n e   c l l e   u   “ b e n !\",\n",
       " 's   f e l l !',\n",
       " 'h w   r e   u   b u ?',\n",
       " '” \\n \\n b e n   l k e   r u n   n   w   w e e l   c r g   n g       b l e   c l e     h e   b r     h l f - e p   b e e r   n   f r n   f   h \\n \\n “ h e l l   w e e l ”   b e n     n g   w n   h e   w   r e l e v e     e e     f l r   f c e   n   h e   l k e   w e e l \\n \\n “ d e c e     g e   e   n g h   l f e     u   b u ?',\n",
       " '”   w e e l   l e   n   c l p p e   h   n   h e   h u l e r   b e n   h u g h   h   h   c h e c k   u   h v e   c e   n ;   h   b r e h   l n e   c u l   h v e   e   m l w u k e e   f u \\n \\n “ y e h ”   b e n     h e   g   u     l l r   n   l     n   h e   b l e   w h c h   w   c v e r e   w h   h e   c r c u l r   g h   f   h e   n   b e e r   g l e   h   h     h e r e   “ h w   u   n g ?',\n",
       " '” \\n \\n “ j u   f n e   w h     u   h n k   f   h   n e w   b n ?',\n",
       " \"g r e   n '   h e ?\",\n",
       " \"” \\n \\n “ t h e ' r e   k ”   b e n     “ f n h   h   h n g   u p   b e f r e     g e   f l   i '   b u n g ” \\n \\n “ i   b e e n   w n '     h e r   e b     h   l l   n g h   j c k e !\",\n",
       " '”   h e   b w l e   “ b r n g     b u   h e r e     p c h e r !',\n",
       " 'b u w e e r !',\n",
       " \"” \\n \\n j c k e   b r u g h   h e   p c h e r   n     r   l e r e   w h   b e e r - k e   c h n g e   n   l f e     n   h e   b l e   h e r   r g h   r   b u l g n g   l k e     p r z e f g h e r '   s h e   l k e     h e   l l r     f     w e r e     n e w   p e c e   f   c c k r c h   “ t h '     b u c k   f w ”   h e   \\n \\n b e n   p u   n h e r   b l l   w n   s h e   p c k e   h e   b h   u p   f h e   x   c e n   u   f   h e   r e   p u l e   n   h e r   r   b n g e   h e   w n   n   h e   b l e   n     “ w e e l   c r g   w h e n   u   e l l   l k e   h   u   u n   l k e     r e r   g e n '     n e c k   w r u n g ” \\n \\n “ y u ' r e   b e u f u l   r l n ' ”   w e e l     “ t h     b e n   m e r   h e   w r e   b k ” \\n \\n “ m e e c h ”   j c k e     n   p p e r e   n   h e   n e \\n \\n b e n   p u r e   h e l f     g l   f   b e e r   n   w e e l   f l l w e   u   f l l n g   h   g l   p r f e n l l     h e   p   t h e   f   h r e e n e     v e r p l l   n   h e n   b c k e   w n   “ h e r e '     u   b u ” \\n \\n b e n   l f e   h   g l   n   r n k \\n \\n “ s   h w '   h   w r n '   g n ' ?\",\n",
       " \"” \\n \\n “ p r e   g   w e e l ” \\n \\n “ i   e e n   u   g n '   r u n   w h   h   l l e   n r n   g r l   s h e '     r e l   p e c h   h e     y u   c u l n '     n   b e e r   h e r e ” \\n \\n “ y e   h e ' — ” \\n \\n “ m !\",\n",
       " '”   w e e l   b w l e   l   r l n g   b e n   n   r p p n g   h   g l   b   g   h e   h u g h   h e   e   u n   l k e     r e r   n g   g - b     h   w r l \\n \\n “ m   b u r k e !',\n",
       " \"”   w e e l   w v e   w l l   n     n   w h   w h e   h r   r e   h   h n   n   g r e e n g   n   r e     c u   h r u g h   h e   c r w   “ h e r e '     f e l l   u   u g h     e e ”   w e e l   l   b e n   “ m   b u r k e '   n e   r   n   f     w h r e ” \\n \\n t h e   n   c n g   w r   h e   l k e   b u   x   h e   w   l l   w e r n g     c l e n   f l n n e l   h r   p e n     h e   h r   n   h   h r   w h c h   w     w h e     w e e l '   w   c u   n     f l p \\n \\n “ h e l l   w e e l ”   h e   \\n \\n “ h w   r e   u   b u ?\",\n",
       " \"”   w e e l     “ w n   u     e e     f e l l   n '   v e r     e v '   b e n   m e r   w r e   b k   h e   e   h e '     l v e l   f e l l ”   h e   l k e     b e n   “ m e ' n   m   g r e w   u p   g e h e r   n l   h e   g   n   e u c n   n   i   g   h e   h f ”   w e e l   c c k l e \\n \\n b e n     u p   n   h k   m   b u r k e '   b u n c h e   h n   g n g e r l   “ h w   r e   u ?\",\n",
       " \"” \\n \\n “ f n e   h n k   i ' v e   r e   n e   f   u r   b k   m r   m e r   a r   d n c e ” \\n \\n “ m k e     b e n   p l e e   i   h p e   u   l k e   ” \\n \\n “ i   l k e     u c h   b e e r   h n   h e   c r c   p p r e n l ”   m     n g   w n   “ i   h n k     w l l   g n   g r u n     e   g e   b   h w   r e   u   w e e l ?\",\n",
       " '” \\n \\n “ p e r k ”   w e e l     “ j u     p e r k     e v e r   i   c u l   b e   j c k e !',\n",
       " '”   h e   b w l e   “ b r n g   m     g l !',\n",
       " \"” \\n \\n “ j u   w     n u e   ' l   f r !\",\n",
       " \"”   j c k e   e l l e   b c k   r w n g   l u g h e r   f r   h e   n e r b   b l e \\n \\n “ s h e '     l v e l   g r l ”   w e e l     “ m u r e e n   t l b '   g r l ” \\n \\n “ y e ”   m     “ i   h   j c k e   n   c h l   c l   f   ' 7 1   h e r   h e r   w   ' 5 1 ” \\n \\n “ m   e c h e   h g h   c h l   e n g l h ”   w e e l   l   b e n   “ y u   n   h   h u l   h v e     l     l k   b u ” \\n \\n “ i   r e e b e r     g r l   n e   m u r e e n   t l b ”   b e n     “ s h e   c e   n   g     u n '   w h   n   b r u g h     b c k   l l   f l e   n     w c k e r   b k e   t h e   b k e   n l   h   n e   h n l e ” \\n \\n “ a r e   u   f r   w n   b e n ?\",\n",
       " '”   m   k e \\n \\n “ i   p e n   e   e   h e r e       b   w h     a u n   c n h ” \\n \\n “ c n   s w e n ?',\n",
       " \"” \\n \\n “ y e ” \\n \\n j c k e   c e   w h     c l e n   g l   n   m   p p e   b e e r   n     “ i   r e l l       l l   w r l   h e n   y u r   u n   w   n     e n r   c l   i   u g h     f r   e r   n   ' l e '   l   i   h e   w e l l ?\",\n",
       " \"” \\n \\n “ s h e   e   n   1 9 7 2 ” \\n \\n “ i '   r r ” \\n \\n “ s h e   w e n   v e r   e l ”   b e n     n   r e f l l e   h   g l   t h e   b n   h   f n h e     e   n   h e   e b e r   w e r e   r u p n g   w r   h e   b r   t h e   l e v e l   f   c n v e r n   w e n   w n     n c h \\n \\n “ h v e   u   c e   b c k     j e r u l e '   l     w r e     b k   b u   u ?\",\n",
       " \"”   m   k e \\n \\n a   w r n n g   b e l l   w e n   f f   n   b e n '   n \\n \\n “ i n     w   i   u p p e ”   h e   \\n \\n “ t h   w n   c u l     u c h   w r e   f r     b g r p h e r   a r   d n c e   w     f n e   b k   i   h n k   h e r e   g h   b e   n h e r   f n e   b k   n   h   w n   i   n c e   h u g h   i   g h   w r e   ” \\n \\n “ w h   n '   u ?\",\n",
       " \"” \\n \\n m   l e — n   e   l e   w h   n   r c e   f   b e r n e   c n c   r   l c e   “ i   l c k e   n e   v l   n g r e e n   t l e n ” \\n \\n “ d n '   u   b e l e v e   ”   w e e l     r e f l l n g   h   g l   f r   h e   r e g   f   h e   p c h e r   “ o l e   m '   g     w r l   f   l e n   s c h l e c h n '       w n n e r f u l   j b   n b   p p r e c e   c h ' e c h e r   b u   h e ' r e … ”   h e   w e     l l e   n   h   c h r   e r c h n g   f r   c p l e n   h e   w   b e c n g   v e r   r u n k   “ s l   f   h e   e r h ”   h e   f n h e   k     u h f u l   f   b e e r   g r c e   n     u p   “ p r n   e   w h l e   i   k e     l e k ” \\n \\n h e   w n e r e   f f   b u p n g   n   p e p l e   n   h l n g   h e   b   n e   t h e   p e   h   n   w h   p e n c e   r   g   c h e e r   n   w c h n g   h   p r g r e     h e   e n '   r   w   l k e   w c h n g     p n b l l   r c k e   n   b u n c e     w   w n   w r   h e   f l p p e r   b u n \\n \\n “ t h e r e   g e   h e   w r e c k   f     f n e   n ”   m     n   h e l   u p   n e   f n g e r   a   w r e   p p e r e   l   e e l   n   r e e   h     m r   b u r k e   s h e   e e e     r f l e   c n l z e   h   h e r   l   e n g l h   c l c   e c h e r   h u l   b e   h e r e   b z n g     u p   w h   h e   l k e   f   w e e l   c r g   w h e n   h e   u r n e   w     b r n g   h e   n h e r   p c h e r   b e n   h u g h   m   l k e     r f l e   b e u e \\n \\n “ i   l k e   w e e l ”   b e n     “ i   g e     f e e l n g   h e r e   w     l   h e r e   n c e   w h   h p p e n e     h ?\",\n",
       " \"” \\n \\n “ o h   h e r e '   n   r   h e r e ”   m     “ t h e   b l e   g   h   i   g   h     l l e   r e   e c h   e r   n   n w   '   g   l l   f   h   h e   w n     s l v e r   s r     a n z   n   w r l   w r   i i   a   c n c   g h   b e l e v e   h   l f e   w u l   h v e   h   r e   e n n g   f   h e   h   e   h e r e ” \\n \\n “ i '   n     c n c ”   b e n     “ i   l k e   h   l l   b u   i   h n k   i   b e e r   g v e   h     r e   h e   n g h ” \\n \\n “ t h   w u l   b e   g   f   u   i   c e   u   h e r e   n w   n   h e n     l e n     h e   u c   i   l k e   l u   u c   m r e   h n   e v e r   n c e     h e r n g   b e g n     f l   i   u n e r n   h   u ' r e   n e r e e   n   h e   m r e n   h u e   i   u r   b k   b u   ?\",\n",
       " '” \\n \\n b e n   j u p e   “ w h   l   u   h ?',\n",
       " '” \\n \\n m   l e   “ h w   e   h   l   m r v n   g e   n g   p u   ?',\n",
       " \"i   h e r     h r u g h   h e   g r p e v n e   l u c u   v v     l h u g h   h e   g e       b   b c u r e   f   u   c n e r     o n e   c n j u r e   u p     p c u r e   f     n   n n g   w h   h   e r   c c k e   e n v e l   w r     c n c r   r   t k … i '   r b l n g   i   r b l e     g r e   e l   h e e     b u   r r e l   r     k e e p     n   h n   n r e   i   h e r   f r   w h   h e   g e n l e e n   f   h e   p r e   w u l   c l l   n   n f r e   u r c e — l r e   s r c h e r   c u l l   s h e '   h e   l b r r n     u r   l c l   c e l   f   l e r u r e   y u ' v e   b e e n   n   e v e r l   e     l k     h e   c u b e r l n   l e g e r   r c l e   p e r n n g     h e   n c e n   c n l   n   h e   l   g   u   w   r u e - c r e   b k   h   h   r c l e   n     b   h e   w   h e   l u b e r   n e     g — h e   c e     h e   l   n   r e e r c h e     h e l f   n   1 9 4 6 — b u   h e   s n w   c h p e r     p e c u l v e   r h ” \\n \\n “ i   k n w ”   b e n     u c l l \\n \\n t h e   w r e   e   w n     f r e h   p c h e r   f   b e e r   n   b e n   u e n l   h   n   u n c f r b l e   g e :   h e r e       f h   w n g   r u n   c f r b l   n   h e   h n k   u n b r u v e l   f l c k n g   h e r e   n   h e r e   n g   h e   k e l p   n   h e   p l n k n   d r w   w   f r   h e   l n g   v e w   n   h e r e '   h e   k c k e r :   i '     g l f h   b w l \\n \\n m   p   h e   w r e   n     “ n   h n g   h   h p p e n e   u p   h e r e   i '   e   n   h e   w n '   c n c u n e     o f   c u r e   l e   f   n n e   n   u r e r   r e   l w   h n e   w n   w h   l v e r n g   e l g h   f r   g e n e r n     g e n e r n   w h l e   u e n   g r n   n   c p l n   w h e n   h e ' r e   f c e   w h     g e r g e   w h n g n   c r v e r   r     j n   s l k   b u   '   r e   h n   h   i   h n k   p e r h p   '   u e       g e g r p h c l   f r e k ” \\n \\n “ y e ”   b e n     r w n   n   p e   f   h e l f   t h e   e c h e r   h   j u   e   n   e   h   h   b e e n   l u r k n g   b e l w   h e   l e v e l   f   h   c n c u n e   f r   h e     h e   h   r r v e   b c k   n   w n   p b l   e v e n   b e f r e   h   “ i   n   n   h   h l l   v e r l k n g   h e   v l l g e   l k e — h   l k e   e   k n   f   r k   l ”   h e   c h u c k l e     k e   h e   r e r k   e e   r v l —   e e e     h   h   h e   h     e h n g     e e p l   f e l   n   n   u n g u r e   w   h   h e   u   h v e   p e n e     w n w   n   h   u l     h   r n g e r   m   b u r k e '   u e n   c l e   c r u n   f   h     n   k e   h   f e e l   n   b e e r \\n \\n “ t h     l e n ”   h e   \\n \\n “ p r n   e ?\",\n",
       " \"” \\n \\n “ y u   h v e       p r e c e l   t h e   m r e n   h u e   h   l k e   w n   n   u   l l   f r   l   f f   e r     l l   u r   l l e   p e c c l l e   n   n   n   l e   l k e   n   l ” \\n \\n “ m b e   '   e e n   h e   g   ”   b e n   \\n \\n “ t h e r e '   l l e   g   n   e e n r   l l   w n   m l   n f f e r e n c e   p c e   w h   n   c c n l   v p   e v l — r   w r e     c n c u   n e   i   b e l e v e   t h   w l f e   w r e   b u   e v e n   p u n   f   l e r u r e   b u   h ” \\n \\n “ i   h u g h   u   w e r e n '     c n c ” \\n \\n “ y u     h   n   i ”   m   l e   n   p p e     h   b e e r   t h e   b n   w   v n g   w   f r   h e   b r   r e p l e n e n   n   h e r   r e   h r   n   g l e r n g   v e   n   n e c k e r c h e f   t h e   l e   n g e r   k   h   g u r   n   b e g n     c h r   \\n \\n “ a   n   r e   u   n e v e r   n w e r e     q u e n   i   u r   n e w   b k   b u   h e   m r e n   h u e ?\",\n",
       " \"” \\n \\n “ i   u p p e       n     w ” \\n \\n “ i '   p u p n g   u   s r r ” \\n \\n “ i '   l l   r g h ”   b e n     h n k n g   f   s u n   n   f e e l n g   u n c f r b l e   “ i   w n e r   w h '   k e e p n g   w e e l ?\",\n",
       " \"h e '   b e e n   g n e     h e l l   f     l n g   e ” \\n \\n “ c u l   i   p r e u e   n   h r   c q u n n c e h p   n   k     r h e r   l r g e   f v r ?\",\n",
       " \"i f   u   r e f u e   i ' l l   r e   h n   u n e r n ” \\n \\n “ s u r e   k ”   b e n   \\n \\n “ i   h v e     c r e v e   w r n g   c l ”   m     “ t h e   r e   n e l l g e n   c h l r e n   e l e v e n h - n   w e l f h - g r e r     f   h e   n   i   w u l   l k e     p r e e n   e n e   w h   k e   h   l v n g   w h   w r     h e   s e n e   w h — h w   h l l   i   ?\",\n",
       " \"— h   k e n   h e   w r   n   e     f l e h ” \\n \\n “ i '   b e   r e   h n   h p p   ”   b e n     f e e l n g   b u r l   f l e r e   “ h w   l n g   r e   u r   p e r ?\",\n",
       " \"” \\n \\n “ f f   n u e ” \\n \\n “ w e l l   i   n '   u p p e   i   c n   b r e   h e     b l   n   h   l e n g h   f   e ” \\n \\n “ o h ?\",\n",
       " \"i       q u e   w e l l   i   h n k ”   m     “ a l h u g h   i '   u r e   u   w u l n '   b r e   h e     l l   t h   n e x   w e e k ?\",\n",
       " '” \\n \\n “ s u r e   n e       n     e ” \\n \\n “ t u e ?',\n",
       " 'p e r   f u r ?',\n",
       " \"t h   g e   f r   e l e v e n   ' c l c k   u n l   e n   f   w e l v e   n   n e   w l l   b   u   b u   i   u p e c   u   w l l   h e r     g r e   n   c h   r u b l e ” \\n \\n “ i ' l l   b r n g   e   c n   f r     e r ” \\n \\n m   l u g h e   “ i '   v e r   p l e e   i   w l l   e e   u     h e   f f c e   f   h '   g r e e b l e ” \\n \\n “ f n e   d   u — ” \\n \\n “ m r   b u r k e ?\",\n",
       " \"”   i   w   j c k e   h e   f   h e   h e v   b c e p   “ w e e l '   p e   u   n   h e   e n '   r   d   u   u p p e — ” \\n \\n “ o h ?\",\n",
       " 'g n e   e   b e n   w u l   u — ” \\n \\n “ s u r e ” \\n \\n t h e   g   u p   n   c r e   h e   r   t h e   b n   h   b e g u n     p l   g n   e h n g   b u   h w   h e   k   n   m u k g e e   l l   r e p e c e   h e   c l l e g e   e n \\n \\n t h e   b h r   e l l e   f   u r   u r n e   n   c h l r n e   w e e l   w   p r p p e   g n   h e   w l l   b e w e e n   w   u r n l   n     f e l l w   n   n   r   u n f r   w   p n g   p p r x e l   w   n c h e   f r   h   r g h   e r \\n \\n h   u h   w   p e n   n   b e n   h u g h   h w   e r r b l   l   h e   l k e   l   n   r v g e   b   c l   p e r n l   f r c e   w h   n   g e n l e   u c h   n   h e   t h e   r e l   f   h   w n   l u n   v n c n g     b     c e   h e     h   n   f r   h e   f r   e   b u   w h   h c k n g   u n e x p e c e n e   t h e   p   h   w e l l e   u p   n   h   h r   l k e   c l e r   b l c k   w e r   w     u c h   f r   h e l f     f r   w e e l \\n \\n “ h e r e ”   m     “ c n   u   g e   n   r   u n e r   h   w h e n   h   g e n l e n   f n h e   r e l e v n g   h e l f ?',\n",
       " '” \\n \\n “ y e ”   b e n     h e   l k e     h e   n   n   h e   r   u n f r   w h   w   h k n g   f f   n   l e u r e l   f h n   “ h u r r     u p   c n   u   b u ?',\n",
       " '” \\n \\n “ w h ?',\n",
       " \"h e   n '   n   n   r u h ” \\n \\n n e v e r h e l e   h e   z p p e   u p   n   e p p e   w   f r   h e   u r n l     h e   c u l   g e   n \\n \\n b e n   g   n   r   r u n   w e e l '   b c k   h k e     h n   n   h   r p   n   l f e   f r     e n   h   b u c k   p r e e   g n   h e   l e   w l l   n   h e   c u l   f e e l   h e   v b r n   f r   h e   b n   w e e l   c e   u p   w h   h e   l p   l   c k   w e g h   f   u e r   u n c n c u n e   m   l   h   h e   u n e r   w e e l '   h e r   r   h k e   h   w n   r   r u n   w e e l '   w   n   h e   c r r e   h   u   h e   r \\n \\n “ t h e r e   g e   w e e l ”   e n e     n   h e r e   w   l u g h e r \\n \\n “ d e l l   u g h     c u   h   f f ”   m     u n n g   u   f   b r e h   “ h e   k n w   h w   h   l w   u r n   u ” \\n \\n t h e   w e n   h r u g h   h e   r   n   h e   f e r   n   h e n   u   n   h e   w e n   e p   l e n g   w n     h e   p r k n g   l \\n \\n “ e ”   b e n   g r u n e   “ d n '   r p   h ” \\n \\n t h e   w e n   w n   h e   r   w e e l '   l p   f e e   c l p p n g   n   h e   r e r   l k e   b l c k   f   w \\n \\n “ t h e   c r ë n … v e r   n   h e   l   r w ” \\n \\n t h e   c r r e   h   v e r   t h e   c l n e   n   h e   r   w   h r p e r   n w   n   r r w   h e   l e v e   w u l   b e   b l e   w e e l   h   b e g u n     g r u n   e e p   n   h   h r   n   h   h e   j e r k e   w e k l   n   h e   l k   f   h   n e c k \\n \\n “ c n   u   p u   h     b e   w h e n   u   g e   b c k     e v ' ?\",\n",
       " \"”   m   k e \\n \\n “ y e   i   h n k   ” \\n \\n “ g   l k   u   c n   j u   e e   h e   r f p   f   h e   m r e n   h u e   v e r   h e   r e e ” \\n \\n b e n   l k e   m   w   r g h ;   h e   p   n g l e   j u   p e e k e   b v e   h e   r k   h r z n   f   p n e   b l n g   u   h e   r     h e   r   f   h e   v b l e   w r l   w h   h e   r e g u l r   h p e   f   h u n   c n r u c n \\n \\n b e n   p e n e   h e   p e n g e r   r   n     “ h e r e   l e   e   h v e   h ” \\n \\n h e   k   w e e l '   f u l l   w e g h   n   l p p e   h   n e l   n   h e   p e n g e r   e   n   c l e   h e   r   w e e l '   h e   l l l e   g n   h e   w n w   g v n g       f l e n e   g r e q u e   l k \\n \\n “ t u e     e l e v e n ?\",\n",
       " \"” \\n \\n “ i ' l l   b e   h e r e ” \\n \\n “ t h n k   a n   h n k   f r   h e l p n g   w e e l   ”   h e   h e l   u   h   h n   n   b e n   h k   \\n \\n h e   g   n   r e   h e   c r ë n   n   h e e   b c k   w r   w n   o n c e   h e   r h u e   n e n   h   p p e r e   b e h n   h e   r e e   h e   r   w   e e r e   n   b l c k   n   b e n   h u g h   t h e e   r   r e   h u n e   n w \\n \\n w e e l   g v e     n r   n     g r n   b e e   h   n   b e n   j u p e   t h e   c r ë n   w e r v e   n u e l   n   h e   r \\n \\n n w   w h     i   h n k   h ?\",\n",
       " \"n   n w e r \\n \\n \\n s e v e n \\n \\n h e   p e n e   h e   w n g   w n w     h     c p e   c l   r   r e c l   n   w e e l   n   h e   r e   h e   n   b   h e   e   h e   r v e   n   e v   m l l e r '   r r   w e e l   h   n e     u p   e c n c u n e \\n \\n b e n   l e   h   h l f   u b l n g   u p   h e   b c k   p r c h   e p   n   n   h e   k c h e n   w h c h   w   l   l   b   h e   v e '   f l u r e c e n   w e e l   n e   h e n   u e r e   e e p   n   h   h r   “ s h e '     l v e l   g r l   j c k   n   r r e   w e n   h e   k n w … k n w … ” \\n \\n a   h w   e c h e   e l f   f r   h e   h l l   n     w   e v   h u g e   n   n   l   q u l e   h u e c   h e r   h r   n e   u p   n   r l l e r   n   c v e r e   w h     f l   n e   c r f   h e r   f c e   w   p l e   n   g h l   w h   n g h   c r e \\n \\n “ e ”   h e     “ o h   e … u     g   n   n '   u ?\",\n",
       " \"” \\n \\n h   e e   p e n e     l l e     h e   u n   f   h e r   v c e   n     l e   u c h e   h   f e u r e   “ o n   n   n   n   n ”   h e   c r k e   “ w u l n '   u   k n w     r e   h n   h e   r e ?\",\n",
       " '” \\n \\n “ c n   u   g e   h   u p     h   r ?',\n",
       " \"”   h e   k e   b e n \\n \\n “ y e   n   w e ” \\n \\n h e   g h e n e   h   g r p   n   w e e l   n   e h w   g   h   u p   h e   r   n   w n     h   r   t h e   r   w   u n l c k e   n   h e   c r r e   h   n e   t h e   n u e   h e   l   h   n   h e   b e   g n   f   c n c u n e   c e e   n   h e   f e l l   n     e e p   l e e p \\n \\n b e n   p u e     e n     l k   r u n   t h e   r   w   c l e n   l   e r l e   h n g   p u   w   w h   b r r c k l k e   n e n e   a   h e   b e g n     w r k   n   w e e l '   h e   e v   m l l e r     f r   b e h n   h   “ n e v e r   n   h   m r   m e r   g   n   u p   f   u   l k e ” \\n \\n “ b u   h e   u g h     b e — ” \\n \\n “ i ' l l   u n r e   h ”   h e r   f c e   w   g r v e   n   f u l l   f   g n f e   e u r e   n e   “ u n r e   h   n   g v e   h   n   l c h l   r u b     h e l p   w h   h   h n g v e r   n   h e   r n n g   i ' v e   n e     b e f r e   m n   e ” \\n \\n “ a l l   r g h ”   b e n     n   w e n   u p r   w h u   l k n g   b c k   h e   u n r e e   l w l   h u g h   b u   k n g     h w e r   n   e c e   n     h e   g   n   b e   n   l   l k n g     h e   c e l n g   n     n   l e e p   f r     l n g   e \\n \\n \\n \\n \\n \\n c h p e r   s x \\n \\n t h e   l   i i \\n \\n f l l   n   p r n g   c e     j e r u l e '   l   w h   h e   e   u e n n e   f   u n r e   n   u n e   n   h e   r p c   t h e   l n e   f   e r c n   c u l   b e     h n     n e     b u   p r n g     n   h e   f n e   e n   n   n e w   e n g l n — '     h r     u n c e r n     p     u r n   v g e   n   h r   n c e   e v e n     h e r e   r e   a p r l     w h c h   l n g e r   n   h e   e r   e v e n   f e r   n e   h   f r g e n   h e   w f e '   u c h   r   h e   f e e l   f   h e   b b '   h l e   u h     h e   n p p l e   b u   b   - m   h e   u n   r e   u   f   h e   r n n g '   h z e   w h   u h r   n   p e n c   n   n n g   n   u r   p   e p     e v e n   n   h e   r n n g   w h   u r   n n e r   b u c k e   n   u r   h n   u   k n w   h   h e   e w   w l l   b e   e l e   f f   h e   g r   b   e g h   n   h   h e   u   n   h e   b c k   r   w l l   h n g   e p h l e   n   l l   n   h e   r   f r   f v e   n u e   f e r     c r '   p g e ;   n   h   b   n e   n   h e   f e r n n     w l l   b e   u p     n n e - f v e   n   h e   h r   f l r   f   h e   l l   n   h e   w e   w l l   r l l   f f   u r   r   l k e   l   n   c k   u r   h r     u r   b c k   n     w e n n g   p c h   n     g h     w e l l   b e   j u l \\n \\n b u   w h e n   f l l   c e   k c k n g   u e r   u   n     r e c h e r u         l w   e   n e     e e   f e r   h e   p n   f   s e p e b e r       w h l e   l k e   n   l   f r e n   h   u   h v e   e   i   e l e   n   h e   w   n   l   f r e n   w l l   e l e   n   u r   f v r e   c h r   n   k e   u   h   p p e   n   l g h     n   h e n   f l l   h e   f e r n n   w h   r e   f   p l c e   h e   h   b e e n   n   h n g   h e   h   n e   n c e   l   h e   w   u \\n \\n i     n   h r u g h   o c b e r   n   n   r r e   e r   n   n   n v e b e r   d   f e r     h e   k e   r e     c l e r   h r   b l u e   n   h e   c l u   h   f l   c r   h e   l w   w e     e   r e   c l   w h e   h p   w h   g r   k e e l   t h e   w n   b e g n     b l w   b   h e     n       n e v e r   l l   i   h u r r e   u   l n g     u   w l k   h e   r   c r u n c h n g   h e   l e v e   h   h v e   f l l e n   n     n   v r e g e   r f   t h e   w n   k e   u   c h e   n   e   p l c e   h     e e p e r   h n   u r   b n e   i     b e   h     u c h e   e h n g   l   n   h e   h u n   u l     c h r   f   r c e   e r   h     m g r e   r   e — g r e   r   e   e v e n   n   u r   h u e   b e h n   q u r e   w l l   h e   w n   b e   g n   h e   w   n   h e   g l   n   e n     f l e h l e   p u c k e r   g n   h e   e v e   n   n e r   r   l e r   u   h v e     p u   w n   w h   u   w e r e   n g   n   g   u   n   e e   a n   u   c n   n   n   u r   p   r   n   u r   r r     - f e r n n   n   w c h   h e   c l u   h w   r u h   c r   g r f f e n '   p u r e   n   u p   s c h l r   h l l   l g h   n   r k   l g h   n   r k   l k e   h e   h u e r   f   h e   g   b e n g   p e n e   n   c l e   y u   c n   e e   h e   g l e n r   h     e n c u   n   p e r n c u   n   b e u e u   f   l l   n e w   e n g l n   f l r   b w n g   w   f r   h e   w n   l k e     g r e   n   l e n   c n g r e g n   a n   f   h e r e   r e   n   c r   r   p l n e   n   f   n   n e '   u n c l e   j h n     u   n   h e   w   l   w e   f   w n   b n g n g   w       q u l   r   p h e n ;   f   h e   n l   u n     h e   l w   b e   f   u r   w n   h e r   u   c n   h e r   n h e r   u n   n   h     h e   u n   f   l f e   w n n g   w n       c c l c   c l e   w n g   f r   h e   f r   w n e r   n w     p e r f r   l   r e \\n \\n \\n t w o \\n \\n t h   e r   h e   f r     f   f l l   r e l   f l l     p p e     c l e n r   f l l   w   s e p e b e r   2 8   h e     h   d n n   g l c k   w   b u r e   n   h e   h r n   h l l   c e e e r \\n \\n c h u r c h   e r v c e   w e r e   p r v e   b u   h e   g r v e e   e r v c e   w e r e   p e n     h e   w n   n     g   p r n   f   h e   w n   u r n e   u — c l e   h e   c u r u   n   h e   l e r   p e p l e     w h   f u n e r l   g r w   n e r l   c p u l v e     l   g e   k n   h e r   h r u   u p   r u n   h e \\n \\n t h e   c e   u p   b u r n   r   n     l n g   l n e   w n g   u p   n   u   f   g h   v e r   h e   n e x   h l l   a l l   h e   c r   h   h e r   l g h   u r n e   n   n   p e   f   h e   '   b r l l n c e   f r   c e   c r l   f r e n '   h e r e     r e r   w n w   f l l e   w h   f l w e r   h e n   t n   g l c k '   1 9 6 5   m e r c u r     e e r r n g   u f f l e r   b e l l w n g   n   f r n g   b e h n   h   n   h e   n e x   f u r   c r   c e   r e l v e   n   b h   e   f   h e   f l   n e   b u n c h   f r     f r   w     t u l   o k l h   o h e r   n   h   l n g   l g h - n   p r e   n c l u e :   m r k   p e r e   h e   b   r l p h e   n   d n n   h   b e e n   n   h e r   w     e e   h e   n g h   r l p h e   p p e r e   n   h   h e r   n   f h e r ;   r c h e   b n   n   f l ;   m b e l   w e r   n     c r   c n n n g   m r   n   m r   w l l   n r n   n g   n   h e   b c k e   w h   h e r   c n e   p l n e   b e w e e n   h e r   w e l l e   l e g   h e   l k e   w h   u n c e n g   c n n c   b u   h e r   f u n e r l   h e   h   e n e   l l   h e   w   b c k     1 9 3 0 ;   l e e r   d u r h   n   h   w f e   h r r e ;   p u l   m b e r r   n   h   w f e   g l n ;   p   m l e r   j e   c r n e   v n n e   u p h w   n   c l e   c r l   l l   r n g   n     c r   r v e n   b   m l   c r e n   m l   h   p e n e   h e   b e e r   c l e r   b e f r e   h e   l e f   n   h e   h   l l   h r e   u     l e n   x - p c k   n   f r n   f   h e   v e ;   e v   m l l e r   n     c r   w h c h   l   c n n e   h e r   c l e   f r e n   l r e   s r c h e r   n   r h   c u r l e   w h   w e r e   b h   e n   l e ;   p r k n   g l l e p e   n   h   e p u   n l l   g r e n e r   r n g   n   h e   j e r u l e '   l   p l c e   c r   p r k n '   f r   w h     c k - n   h b r   b u b b l e ;   l w r e n c e   c r c k e   n   h   l l w   w f e ;   c h r l e   r h e   h e   u r   b u   r v e r   w h   w e n     l l   f u n e r l   n   g e n e r l   p r n c p l e ;   h e   c h r l e   g r f f e n   f l   n c l u n g   w f e   n   w   n   h l   n   j c k   h e   n l   f f p r n g   l l   l v n g     h e \\n \\n m k e   r e r n   n   r l   s n w   h   u g   h e   g r v e   e r l   h   r n n g   l n g   r p   f   f k e   g r   v e r   h e   r w   l   h e   h   h r w n   u   f   h e   g r u n   m k e   h   l g h e   h e   f l e   f   r e e b r n c e   h   h e   g l c k   h   p e c f e   m k e   c u l   r e e b e r   h n k n g   h   r l   n '   e e   h e l f   h   r n n g   h e   w   u u l l   f u l l   f   l l e   j k e   n   e   b u   h e   w r k     h n   c r c k e   f f - k e   e n r :   “ t h e   w r p   u   u p   n     b g   w h e   h e e   n '   p u   u   w n     l e   x   f e e … ”   b u   h   r n n g   h e   h   e e e   e x c e p n l l   q u e   l   u l l e n   h u n g   v e r   b e   m k e   h u g h   h e   n   h   u c l e - b u n   b u   f   h   p e e r   h   c e r n l   b e e n   l p p n g     u p   w n     d e l l '   h e   n g h   b e f r e \\n \\n f v e   n u e   g   w h e n   h e   h   e e n   c r l '   h e r e   c n g   v e r   h e   h l l   b u     l e   w n   h e   r   h e   h   w u n g   p e n   h e   w e   r n   g e   g l n c n g   u p     h e   h g h   r n   p k e     h e   l w     n c e   h e   h   f u n   d c   u p   h e r e   w h   h e   g e   p e n   h e   w l k e   b c k     h e   n e w l   u g   g r v e   w h e r e   f h e r   d n l   c l l h n   h e   p r   f   h e   j e r u l e '   l   p r h   w e   b   h e   g r v e   h e   w   w e r n g     l e   b u   h   h u l e r   n   h e   b k   h e   h e l   w   p e n     h e   c h l r e n '   b u r l   e r v c e   t h   w   w h   h e   c l l e   h e   h r   n   m k e   k n e w   t h e   f r   w   h e   h u e   f   h e   e c e e   h e   e c n     h e   n   c h l c   c h u r c h   s   a n r e w '   l   n   h r n   h l l   e v e r b   u \\n \\n a   l l e   c h l l   u c h e   h   n   h e   l k e   w n     h e   b r g h   p l c   g r   w n e r n g   w h     h     b e     p r   f   e v e r   f u n e r l   i   l k e   l k e   e x c l   w h     w :     c h e p   n   f   l f e   c r e e l   k n g   h e   h e v   b r w n   c l   f   h e   f n l   e r h \\n \\n “ t h e ' r e   n   h e r   w   f h e r ”   h e   \\n \\n c l l h n   w     l l   n   w h   p e r c n g   b l u e   e e   n     r u   c p l e x n   h   h r   w     g r n g   e e l   c l r   r e r n   w h   h n '   b e e n     c h u r c h   n c e   h e   u r n e   x e e n   l k e   h   h e   b e   f   l l   h e   l c l   w c h   c r   j h n   g r g g n   h e   m e h   n e r   w     h p c r c l   l   p p   n   p e r n   f r   h e   c h u r c h   f   h e   l e r -   s n   n   f l l w e r   f   h e   c r   w     c r z       b e r   u c k   n     h n e   r e e   a     f u n e r l   f r   n e   f   h e   c h u r c h   e c n   w   r   h r e e   e r   b c k   p e r n   h   g e n   r g h   w n   n   r l l e   n   h e   g r u n   b u   c l l h n   e e e   n c e   e n u g h   f r     p p e - l v e r ;   h   f u n e r l   w e r e   c l   n   c f r n g   n   l w   h r   r e r n   u b e   f   c l l h n   h   g e n   l l   h e   r e   n   b r k e n   v e n   n   h   c h e e k   n   r u n   h   n e   f r   p r n g   b u   f   c l l h n       l l e   r n k n g   w h   w     b l e   h ?\",\n",
       " \"t h e   w   h e   w r l   w     w     w n e r   l l   h e   p r e c h e r   n '   e n   u p   n   l n e   b n \\n \\n “ t h n k   m k e ”   h e     n   l k e   u p     h e   b r g h   k   “ t h     g n g     b e     h r   n e ” \\n \\n “ i   g u e     h w   l n g ?\",\n",
       " \"” \\n \\n “ t e n   n u e   n   r e   i '   n   g n g     r w   u   h   p r e n '   g n   t h e r e '   e n u g h   f   h   l l   h e   f   h e ” \\n \\n “ o k ”   m k e     n   w l k e   w r   h e   r e r   f   h e   g r v e r   h e   w u l   j u p   v e r   h e   n e   w l l   g   n   h e   w   n   e     l e   l u n c h   h e   k n e w   f r   l n g   e x p e r e n c e   h   h e   l   h n g   h e   g r e v n g   f l   n   f r e n   w n     e e   u r n g   h e   h r   n     h e   r e e n   g r v e g g e r   n   h   r - n e   c v e r l l ;     k n   f   p u     c r p   n   h e   n e r '   g l w n g   p c u r e   f   r l   n   h e   p e r l   g e \\n \\n n e r   h e   b c k   w l l   h e   p u e   n   b e n     e x n e     l e   h e n e   h   h   f l l e n   f r w r   h e       u p   n   g n   f e l     l l   c h l l   g   h r u g h   h     h e   b r u h e   h e   r   f r   h e   n c r p n : \\n \\n \\n \\n h u b e r t   b a r c l a y   m a r s t e n \\n \\n o c b e r   6   1 8 8 9 \\n \\n a u g u   1 2   1 9 3 9 \\n \\n \\n \\n t h e   n g e l   f   d e h   w h   h l e h \\n \\n t h e   b r n z e   l p   b e n   h e   g l e n   r \\n \\n h h   k e n   h e e   n   r k   w e r \\n \\n \\n \\n a n   b e l w   h   l   b l e r e   b   h r - x   e n   f   f r e e z e   n   h w : \\n \\n \\n \\n g   g r n   h e   l e   s l l \\n \\n \\n \\n s l l   v g u e l   r u b l e   n   l l   n   k n w n g   w h   m k e   r e r n   w e n   b c k   n   h e   w       b   h e   b r k   n   e   h   l u n c h \\n \\n \\n t h r e e \\n \\n i n   h e   e r l       h e   e n r     f r e n   f   f h e r   c l l h n '   h   g v e n   h     b l p h e u   c r e w e l w r k   p l e r   w h c h   h   e n   h   n   g l e   f   h r r f e   l u g h e r     h e   e   b u   w h c h   e e e   r e   r u e   n   l e   b l p h e u     h e   e r   p e :   g   g r n   e   h e   s e r e n i t y     c c e p   w h   i   c n n   c h n g e   h e   t e n a c i t y     c h n g e   w h   i     n   h e   g o o d   l u c k   n     f u c k   u p     f e n   t h   n   o l   e n g l h   c r p   w h     r n g   u n   n   h e   b c k g r u n \\n \\n n w   n n g   b e f r e   d n n   g l c k '   u r n e r   h   l   c r e   r e c u r r e \\n \\n t h e   p l l b e r e r   w   u n c l e   n   w   c u n   f   h e   e   b   h   l w e r e   h e   c f f n   n   h e   g r u n   m r j r e   g l c k   r e e   n     b l c k   c   n     v e l e   b l c k   h   h e r   f c e   h w n g   h r u g h   h e   e h   n   h e   n e n g   l k e   c g e   c h e e e     w n g   n   h e   p r e c v e   c u r v e   f   h e r   f h e r '   r   c l u c h n g     b l c k   p u r e     h u g h     w e r e     l f e   p r e e r v e r   t n   g l c k     p r   f r   h e r   h   f c e   h c k e   n   w n e r n g   s e v e r l   e   u r n g   h e   c h u r c h   e r v c e   h e   h   l k e   r u n     f     v e r f   h   p r e e n c e   n g   h e e   p e p l e   h   f c e   w   h   f     n   w h   b e l e v e   h e     r e n g \\n \\n t h e   c h u r c h   c n '   p   h   r e   c l l h n   h u g h   n r   l l   h e   e r e n   e n c   r   g   l u c k   n   h e   w r l   t h e   f u c k - u p   h   l r e   h p p e n e \\n \\n h e   p r n k l e   h l   w e r   n   h e   c f f n   n   h e   g r v e   n c f n g   h e   f r   l l   e \\n \\n “ l e   u   p r ”   h e     t h e   w r   r l l e   e l u l   f r   h   h r     h e   l w   h   n   h n e   n   h w   r u n k   r   b e r   t h e   u r n e r   b w e   h e r   h e \\n \\n “ l r   g   h r u g h   u r   e r c   h e   w h   h v e   l v e   n   f h   f n   e e r n l   p e c e   b l e   h   g r v e   n   e n   u r   n g e l     w c h   v e r     a   w e   b u r   h e   b   f   d n e l   g l c k   w e l c e   h   n   u r   p r e e n c e   n   w h   u r   n   l e   h   r e j c e   n   u   f r e v e r   w e   k     h r u g h   c h r   u r   l r   a e n ” \\n \\n “ a e n ”   h e   c n g r e g n   u e r e   n   h e   w n   w e p     w   n   r g   t n   g l c k   w   l k n g   r u n   w h   w e   h u n e   e e   h   w f e   w   p r e n g     k l e e n e x     h e r   u h \\n \\n “ w h   f h   n   j e u   c h r   w e   r e v e r e n l   b r n g   h e   b   f   h   c h l     b e   b u r e   n     h u n   p e r f e c n   l e   u   p r   w h   c n f e n c e     g   w h   g v e   l f e     l l   h n g   h   h e   w l l   r e   u p   h   r l   b     h e   p e r f e c n   n   c p n   f   n ” \\n \\n h e   u r n e   h e   p g e   f   h   l   a   w n   n   h e   h r   r w   f   h e   l e   h r e h e   g r u p e   r u n   h e   g r v e   h   b e g u n     b   h r e l   a   b r   c h r r u p e   e w h e r e   b c k   n   h e   w \\n \\n “ l e   u   p r   f r   u r   b r h e r   d n e l   g l c k     u r   l r   j e u   c h r ”   f h e r   c l l h n     “ w h   l   u :   ' i     h e   r e u r r e c n   n   h e   l f e   t h e   n   w h   b e l e v e   n   e   w l l   l v e   e v e n   h u g h   h e   e   n   e v e r   l v n g   p e r n   w h   p u   h   f h   n   e   w l l   n e v e r   u f f e r   e e r n l   e h '   l r   u   w e p     h e   e h   f   l z r u   u r   f r e n :   c f r   u   n   u r   r r w   w e   k   h   n   f h ” \\n \\n “ l r   h e r   u r   p r e r ”   h e   c h l c   n w e r e \\n \\n “ y u   r e   h e   e     l f e ;   g v e   u r   b r h e r   d n e l   e e r n l   l f e   w e   k   h   n   f h ” \\n \\n “ l r   h e r   u r   p r e r ”   h e   n w e r e   s e h n g   e e e     b e   w n n g   n   t n   g l c k '   e e ;     r e v e l n   p e r h p \\n \\n “ o u r   b r h e r   d n e l   w   w h e   c l e n   n   b p ;   g v e   h   f e l l w h p   w h   l l   u r   n   w e   k   h   n   f h ” \\n \\n “ l r   h e r   u r   p r e r ” \\n \\n “ h e   w   n u r h e   w h   u r   b   n   b l ;   g r n   h     p l c e     h e   b l e   n   u r   h e v e n l   k n g   w e   k   h   n   f h ” \\n \\n “ l r   h e r   u r   p r e r ” \\n \\n m r j r e   g l c k   h   b e g u n     r c k   b c k   n   f r h   n n g \\n \\n “ c f r   u   n   u r   r r w     h e   e h   f   u r   b r h e r ;   l e   u r   f h   b e   u r   c n l n   n   e e r n l   l f e   u r   h p e   w e   k   h   n   f h ” \\n \\n “ l r   h e r   u r   p r e r ” \\n \\n h e   c l e   h   l   “ l e   u   p r     u r   l r   u g h   u ”   h e     q u e l   “ o u r   f h e r   w h   r   n   h e v e n — ” \\n \\n “ n !\",\n",
       " \"”   t n   g l c k   c r e e   n   p r p e l l e   h e l f   f r w r   “ y u   n '   g n n   h r w   n   r   n     b !\",\n",
       " '” \\n \\n h n   r e c h e   u       h   b u   h e   w e r e   b e l e   f r     e n   h e   e r e   n   h e   e g e   f   h e   g r v e   n   h e n   h e   f k e   g r   w r n k l e   n   g v e   w   h e   f e l l   n   h e   h l e   n   l n e   n   h e   c f f n   w h     h r r   h e v   h u p \\n \\n “ d n n   u   c e   u   h e r e !',\n",
       " '”   h e   b w l e \\n \\n “ o h   ”   m b e l   w e r     n   p r e e   h e r   b l c k   l k   f u n e r l   h n k e     h e r   l p   h e r   e e   w e r e   b r g h   n   v   r n g   h   h e   w     q u r r e l   r e   n u   f r   h e   w n e r \\n \\n “ d n n   g   u   p   h   f u c k n g   r u n !',\n",
       " '” \\n \\n f h e r   c l l h n   n e     w   f   h e   p l l b e r e r   n   h e   e p p e   f r w r   b u   h r e e   h e r   e n   n c l u n g   p r k n   g l l e p e   n   n l l   g r e n e r   h     e p   n   b e f r e   g l c k   c u l   b e   g e n   u   f   h e   g r v e   k c k n g   n   c r e n g   n   h w l n g \\n \\n “ d n n   u   p     n w !',\n",
       " 'y u   g   u r   m   c r e !',\n",
       " \"i '   g n n   w h p   u r   b u   f r   u !\",\n",
       " 'l e e   g !',\n",
       " \"l e e   g … i   w n   ' b … l e   e   g   u   p r c k … h h h   g — ” \\n \\n “ o u r   f h e r   w h   r   n   h e v e n — ”   c l l h n   b e g n   g n   n   h e r   v c e   j n e   h   l f n g   h e   w r   w r   h e   n f f e r e n   h e l   f   h e   k \\n \\n “ — h l l w e   b e   h   n e   t h   k n g   c e   h   w l l   b e   n e — ” \\n \\n “ d n n   u   c e     e   h e r ?\",\n",
       " 'y u   h e r   e ?',\n",
       " \"” \\n \\n “ — n   e r h         n   h e v e n   g v e   u   h     u r   l   b r e   n   f r g v e   u — ” \\n \\n “ d n n n e e e e — ” \\n \\n “ — u r   r e p e     w e   f r g v e   h e   w h   r e p   g n   u — ” \\n \\n “ h e   n '   e   h e   n '   e   l e   g     e   u   e r b l e   h p k e — ” \\n \\n “ — n   l e   u   n   n   e p n   b u   e l v e r   u   f r   e v l   t h r u g h   c h r   u r   l r   e n ” \\n \\n “ h e   n '   e ”   t n   g l c k   b b e   “ h e   c n '   b e   h e '   n l   w e l v e   f u c k n g   e r   l ”   h e   b e g n     w e e p   h e v l   n   g g e r e   f r w r   n   p e   f   h e   e n   w h   h e l   h   h   f c e   r v g e   n   r e n g   w h   e r   h e   f e l l   n   h   k n e e     c l l h n '   f e e   n   g r p e   h   r u e r   w h   u   h n   “ p l e e   g v e   e     b   b c k   p l e e   n '   f l   e   n   r e ” \\n \\n c l l h n   k   h   h e   g e n l   w h   b h   h n   “ l e   u   p r ”   h e     h e   c u l   f e e l   g l c k '   w r c k n g   b   n   h   h g h \\n \\n “ l r   c f r   h   n   n   h   w f e   n   h e r   r r w   y u   c l e n e   h   c h l   n   h e   w e r   f   b p   n   g v e   h   n e w   l f e   m   w e   n e     j n   h   n   h r e   h e v e n '   j   f r e v e r   w e   k   h   n   j e u '   n e   e n ” \\n \\n h e   r e   h   h e   n   w   h   m r j r e   g l c k   h   f n e \\n \\n \\n f o u r \\n \\n w h e n   h e   w e r e   l l   g n e   m k e   r e r n   c e   b c k   n     w n   n   h e   e g e   f   h e   p e n   g r v e     e   h   l   h l f   n w c h   n   w   f r   r l   s n w     c e   b c k \\n \\n t h e   f u n e r l   h   b e e n     f u r   n     w   n w   l   f v e   ' c l c k   t h e   h w   w e r e   l n g   n   h e   u n   w   l r e   l n n g   h r u g h   h e   l l   w e e r n   k   t h   f r g g n g   r l   h   p r e     b e   b c k   b   q u r e r   f   f v e     h e   l e ;   n w   w h e r e   w   h e ?\",\n",
       " 't h e   n w c h   w   b l g n   n   c h e e e   h   f v r e   a l l   h e   n w c h e   h e   e   w e r e   h   f v r e ;   h   w   n e   f   h e   v n g e     b e n g   n g l e   h e   f n h e   u p   n   u e   h   h n   p r n g     f e w   b r e   c r u b   w n   n   h e   c f f n \\n \\n s e n e   w   w c h n g   h \\n \\n h e   f e l     u e n l   n   u r e l   h e   r e   r u n     h e   c e e e r   w h   w e   r l e   e e \\n \\n “ r l ?',\n",
       " 'y u   h e r e   r l ?',\n",
       " \"” \\n \\n n   n w e r   t h e   w n   g h e   h r u g h   h e   r e e   k n g   h e   r u l e   e r u l   i n   h e   w v n g   h w   f   h e   e l   b e n   h e   n e   w l l   h e   c u l   e e   h u b e r   m r e n '   r k e r   n   u e n l   h e   h u g h   f   w n '   g   h n g n g   p l e   n   h e   r n   f r n   g e \\n \\n e e   f l   n   e n l e   w c h n g \\n \\n d r k   n '   c c h   e   h e r e \\n \\n h e   r e     h   f e e     f   e n e   h   p k e n   l u \\n \\n “ g n   u   r l ”   h e   p k e   h e   w r   l u   b u   q u e l   h e   n   l n g e r   h u g h   r l   w   r u n   r   e v e n   c n g   b c k   h e   w u l   h v e         b   h e l f   n     w u l   k e     l n g   e   l n e \\n \\n m b e   u n l   r k \\n \\n h e   e     w r k   n   r n g     u n e r n   h e   r e   h   h   f l l e n   v e r   h   n   w n e r n g   w h   h   j b   h   h   n e v e r   b h e r e   h   b e f r e   w   b h e r n g   h   e r r b l   n w \\n \\n m v n g   w h   q u c k   e c n c l   g e u r e   h e   p u l l e   h e   r p   f   f k e   g r   w   f r   h e   r w   e r h   n   f l e   h e   n e l   h e   l   h e   v e r   h   r   n   k   h e   u     h   r u c k   p r k e   b e n   h e   g e   n   n c e   u   f   h e   g r v e r   h   n   f e e l n g   f   b e n g   w c h e   l p p e   w \\n \\n h e   p u   h e   g r   n   h e   b c k   f   h e   p c k u p   n   k   u     p e   h e   r e   b c k   h e n   h e e   h e   r e     h e   p e n   g r v e   n     e e e     c k   h \\n \\n i   c c u r r e     h   h   h e   f e e l n g   f   b e n g   w c h e   h   p p e     n     h e   c u l   n   l n g e r   e e   h e   c f f n   n e l e     h e   b   f     h l e   h e   h     u e n   e n l   g e   f   d n n   g l c k   l n g   n   h   l l e   n   p l l w   w h   h   e e   p e n   n — h   w   u p   t h e   c l e   h e   e e   h e   h   w c h e   c r l   f r e n       e n u g h   e   c u r e   w e   g u   ' e   c r l   h     n c e   w u l n '   w n   h e   c r p e   w n k n '     h e   c n g r e g n   w u l   w e ?\",\n",
       " \"h e   l e   h   h v e l   w h   r   n   h r e w     n   i   e     h e v   l   h u p   n   h e   p l h e   h g n   b x   n   m k e   w n c e   t h e   u n   e   h   f e e l     l l e   c k   h e   r g h e n e   u p   n   l k e   r u n   r c e l     h e   f l r l   p l   a   n   w e   t r r w   h e   p e l   w u l   b e   c e r e   l l   v e r   n   r e   n   e l l w   f l k e   w h   n b   b h e r e   w   b e n   h   i f   u   w e r e   g n g     p e n   n e   w h   n   g v e       h e   c n c e r   s c e   r   h e   m r c h   f   d e   r   e v e n   h e   l e '   a ?\",\n",
       " \"t h e n     w e n     e   g     l e \\n \\n h e   h r e w   n   n h e r   h v e l f u l   n   r e e   g n \\n \\n t h   c f f n   w   n h e r   w e   n c e   h g n   c f f n   w r h     h u n   b u c k     l e   n   h e r e   h e   w   h v e l n g   r   v e r     t h e   g l c k   n '   h v e   n   r e   n e   h n   n n e   e l e   n   w h   p u   b u r l   n u r n c e   n   k ?\",\n",
       " \"t h e   w e r e   p r b b l   x   l e   n   h c k   l l   f r     b x     h v e l   n   h e   g r u n \\n \\n h e   b e n   w n   g   n h e r   p e f u l   f   e r h   n   r e l u c n l   h r e w     n   a g n   h   h r r   f n l   h u p   t h e   p   f   h e   c f f n   w   p r e   w h   r   n w   b u   h e   p l h e   h g n   g l e e   h r u g h   l   r e p r c h f u l l \\n \\n s p   l k n g     e \\n \\n h e   g   n h e r   p e f u l   n     v e r   b g   n e   n   h r e w     n \\n \\n t h u p \\n \\n t h e   h w   w e r e   g e n g   v e r   l n g   n w   h e   p u e   l k e   u p   n   h e r e   w   h e   m r e n   h u e     h u e r   c l e   b l n k l   t h e   e   e   h e   n e   h   b   g       h e   l g h   f r   l k e   r e c l   w n   n   h e   r n   g e   f   h e   c e e e r   w h e r e   d c — \\n \\n h e   f r c e   h e l f     g e   n h e r   p e f u l   f   e r h   n   h r w     n   h e   h l e \\n \\n t h u p \\n \\n s e   f     r c k l e   f f   h e   e   c r e n g   n   h e   b r   h n g e   n w   f   n n e   p e n e     h e r e   w u l   b e     g r n g   g r n g   n e   l k e   p e n n g   h e   r       b \\n \\n s p   l k n g     e   g \\n \\n h e   b e g n     b e n   f r   n h e r   p e f u l   b u   h e   h u g h   e e e     h e v   n   h e   r e e   f r     n u e   h e   h   r e   n c e — n   h e   n n l   e n q u r e r   r   e p l c e — b u   e   t e x   l n   u e   w h   h   p e c f e   n   h   w l l   h   h e   b e   b u r e   n     b r n - n e w   c l l c   c u p e   e   v l l e   t h e         d u g   h e   h l e   w h     p l e r   n   l f e   h e   c r   n   w h     c r n e   p e p l e   l l   v e r   h e   c u n r   r v n g   r u n   n   l   c r   h e l   g e h e r   w h   p   n   b l n g   w r e   n   n e   f   h e e   r c h   p g   g e   h e l f   b u r e   n g   b e h n   h e   w h e e l   f     e n - h u n - l l r   c r   w h   l l   h e   c c e r e — \\n \\n h e   u e n l   j e r k e   n   k     e p   b c k w r   h k n g   h   h e   w r l   h e   h   l — w e l l — h   l   b e e n   n     r n c e     e e e   l k e   t h   f e e l n g   f   b e n g   w c h e   w   u c h   r n g e r   n w   h e   l k e     h e   k   n   w   l r e     e e   h w   u c h   l g h   h   g n e   u   f     o n l   h e   p   r   f   h e   m r e n   h u e   w   n   b r g h   u n l g h   n w   h   w c h     e n   p   x   c h r     h   b e e n   n   h u r   n   h e   h n '   h r w n   h l f     z e n   h v e l f u l   f   r   w n   h   h l e !\",\n",
       " 'm k e   b e n     h   w r k   r n g   n     l e   h e l f   h n k   t h u p   n   h u p   n   h u p   n   n w   h e   u n   f   r   r k n g   w   w   u f f l e ;   h e   p   f   h e   c f f n   w   c v e r e   n   r   w   r u n n n g   f f   h e   e   n   b r w n   r v u l e   l   u p     h e   l c k   n   c c h \\n \\n h e   h r e w   n   n h e r   w   p e f u l   n   p u e \\n \\n l c k   n   c c h ?',\n",
       " 'n w   w h   n   h e   n e   f   g   w u l   n n e   p u     l c k   n     c f f n ?',\n",
       " 'd   h e   h n k   e n e   w   g n g     r     g e   n ?',\n",
       " \"t h   h     b e     s u r e l   h e   c u l n '   h n k   e n e   w u l   b e   r n g     g e   u — \\n \\n “ s p   r n g     e ”   m k e   r e r n     l u   n   h e n   f e l   h   h e r   c r w l   u p   n   h   h r   a   u e n   u r g e     r u n   f r   h   p l c e     r u n   r g h   w n   h e   r     w n   f l l e   h   h e   c n r l l e     n l   w h   g r e   e f f r   j u   h e   h e e b e - j e e b e   h '   l l     w   w r k n g   n     g r v e r   w h   w u l n '   g e   h e   n c e   n     w h l e ?\",\n",
       " 'i   w   l k e     f u c k n g   h r r r   v e   h v n g     c v e r   u p   h   k   n l   w e l v e   e r   l   n   h   e e   w e   p e n — \\n \\n “ c h r   p   !',\n",
       " \"”   h e   c r e   n   l k e   w l l   u p   w r   h e   m r e n   h u e   n w   n l   h e   r f   w   n   u n h n e   i   w   x - f f e e n \\n \\n a f e r   h   h e   b e g n     w r k   r e   q u c k l   g n   b e n n g   n   h v e l n g   n   r n g     k e e p   h   n   c p l e e l   b l n k   b u   h   e n e   f   b e n g   w c h e   e e e     g r w   r h e r   h n   l e e n   n   e c h   h v e l f u l   f   r   e e e   h e v e r   h n   h e   l   t h e   p   f   h e   c f f n   w   c v e r e   n w   b u   u   c u l   l l   e e   h e   h p e   h r u e   n   e r h \\n \\n t h e   c h l c   p r e r   f r   h e   e   b e g n     r u n   h r u g h   h   n   h e   w   h n g   l k e   h   w l l   f r   n   g   r e n   h e   h   h e r   c l l h n   n g     w h l e   h e   w   e n g   h   n n e r   w n   b   h e   b r k   t h   n   h e   f h e r '   h e l p l e   c r e n g \\n \\n l e   u   p r   f r   u r   b r h e r   d n e l   g l c k     u r   l r   j e u   c h r   w h   … \\n \\n o     f h e r   f v r   e   n w \\n \\n h e   p u e   n   l k e   b l n k l   w n   n   h e   g r v e   i   w   e e p   v e r   e e p   t h e   h w   f   c n g   n g h   h   l r e   p l e   n     l k e   e h n g   v c   n   l v e   i   w   l l   e e p   h e   w u l   n e v e r   b e   b l e     f l l     b   r k   n e v e r \\n \\n i     h e   r e u r r e c n   n   h e   l f e   t h e   n   w h   b e l e v e   n   e   w l l   l v e   e v e n   h u g h   h e   e … \\n \\n l r   f   f l e   f v r   e   n w \\n \\n y e   h e   e e   w e r e   p e n   t h '   w h   h e   f e l   w c h e   c r l   h n '   u e   e n u g h   g u   n   h e   n   h e   h   f l w n   u p   j u   l k e   w n w   h e   n   h e   g l c k   k   w   r n g     h   s e h n g   u g h     b e   n e   b u   \\n \\n … n   e v e r   l v n g   p e r n   w h   p u   h   f h   n   e   w l l   n e v e r   u f f e r   e e r n l   e h … \\n \\n n w   i   b r n g   u   p l e   e   n   r e e k n g   f l e h \\n \\n s h v e l   u   h e   r   t h   w   h e   c k e   s h v e l     u   n   b r e k   h e   l c k   w h   h e   h v e l   n   p e n   h e   c f f n   n   c l e   h e   w f u l   r n g   e e   h e   h   n   r c n '   g u   b u   h e   h   w   q u r e r   n   h   p c k e   t h   w u l       w e l l   s l v e r   y e   l v e r   w   w h   h e   b   n e e e \\n \\n t h e   u n   w   b v e   h e   r f   f   h e   m r e n   h u e   n w   n   n l   u c h e   h e   h g h e   n   l e   p r u c e     h e   w e   f   w n   e v e n   w h   h e   h u e r   c l e   h e   h u e   e e e     r e     h \\n \\n y u   r e   h e   e     l f e ;   g v e   u r   b r h e r   d n e l   e e r n l   l f e \\n \\n i   h v e   e   c r f c e   f r   u r   f v r   w h     l e f   h n   i   b r n g   \\n \\n m k e   r e r n   u e n l   l e p e   n   h e   g r v e   n   b e g n     h v e l   l   h r w n g   r   u p   n   u   n   b r w n   e x p l n   a   l   h e   b l e   f   h e   h v e l   r u c k   w   n   h e   b e g n     c r p e   h e   l   f   h e   r   v e r   h e   e   n   h e n   h e   w   k n e e l n g   n   h e   c f f n   r k n g     h e   b r   l p   f   h e   l c k   g n   n   g n   n   g n \\n \\n t h e   f r g   w n   b   h e   b r k   h   b e g u n     h u p     n g h j r   w   n g n g   n   h e   h w   n   e w h e r e   c l e   b     n u b e r   f   w h p p r w l l   h   b e g u n     l f   h e r   h r l l n g   c l l \\n \\n s x - f f \\n \\n w h     i   n g ?\",\n",
       " \"h e   k e   h e l f   w h   n   g '   n e     i   n g ?\",\n",
       " \"h e   k n e l   h e r e   n   p   f   h e   c f f n   n   r e     h n k   b u   … b u   e h n g   n   h e   u n e r e   f   h   n   w   u r g n g   h     h u r r   h u r r   h e   u n   w   g n g   w n — \\n \\n d r k   n '   c c h   e   h e r e \\n \\n h e   l f e   h e   p e   v e r   h   h u l e r   b r u g h     w n   n   h e   l c k   n c e   r e   n   h e r e   w     n p p n g   u n   i   w   b r k e n \\n \\n h e   l k e   u p   f r     e n   n     l   g l e r n g   f   n   h   f c e   r e k e   n   c r c l e   w h   r   n   w e   h e   e e   r n g   f r     n   b u l g n g   w h e   c r c l e \\n \\n v e n u   g l w e   g n   h e   b r e   f   h e   k \\n \\n p n n g   h e   p u l l e   h e l f   u   f   h e   g r v e   l   w n   f u l l   l e n g h   n   f u b l e   f r   h e   c c h e   n   h e   c f f n   l   h e   f u n   h e   n   p u l l e   t h e   l   w u n g   u p w r   g r n g   n     h n g e   j u     h e   h   g n e     w u l   h w n g     f r   n l   p n k   n   n   h e n   n e   r k - c l   r   d n n   g l c k   h   b e e n   b u r e   n   h   c u n n   u   h e n … h e n   h e   f c e \\n \\n m k e '   b r e h   c l g g e   n   p p e   n   h   h r \\n \\n t h e   e e   w e r e   p e n   j u     h e   h   k n w n   h e   w u l   b e   w e   p e n   n   h r l   g l z e     l l   t h e   e e e     p r k l e   w h   h e u   l f e   n   h e   l   n g   l g h   f     t h e r e   w   n   e h   p l l r   n   h   f c e ;   h e   c h e e k   e e e   r   l   j u c   w h   v l \\n \\n h e   r e     r g   h   e e   w   f r   h   g l e r n g   f r z e n   r e   n   w   u n b l e \\n \\n h e   u e r e :   “ j e u — ” \\n \\n t h e   u n '   n h n g   r c   p e   b e l w   h e   h r z n \\n \\n \\n f i v e \\n \\n m r k   p e r e   w   w r k n g   n     e l   f   f r n k e n e n '   n e r   n   h   r   n   l e n n g     h   p r e n   w n   n   h e   l v n g   r   h   r   w   n   h e   e c n   f l r   f   h e   f r h u e   h e   h   b u g h   n   s u h   j n n e r   a v e n u e   n   l h u g h   h e   h u e   w   h e e   b     e r n   l   f u r n c e   n w   h e   l   e c n - f l r   g r e   w e r e   l l   h e r e   o r g n l l   w h e n   h e   h u e   h   b e e n   h e e   b     c e n r l   k c h e n   v e   h e   w r - r   g r e   h   k e p   h e   e c n   f l r   f r   b e c n g     c l — l h u g h   h e   w n   w h   h   r g n l l   l v e   n   h   h u e   w h   h e r   u r   b p   h u b n   f r   1 8 7 3     1 8 9 6   h   l l   k e n     h   b r c k   w r p p e   n   f l n n e l     b e   w h   h e r — b u   n w   h e   g r e   e r v e   n h e r   p u r p e   t h e   c n u c e   u n   e x c e l l e n l \\n \\n a l h u g h   h   p r e n   w e r e   w n   n   h e   l v n g   r   h e   g h     w e l l   h v e   b e e n   c u n g   h   r g h   u e   h e   r \\n \\n o n c e   w h e n   h   f h e r   h   c u g h   h   l e n n g     h e   r   n   h e r   l   h u e — m r k   h   n l   b e e n   x   h e n — h   f h e r   h   l   h   n   l   e n g l h   p r v e r b :   n e v e r   l e n       k n h l e   l e   u   b e   v e x e   t h   e n   h   f h e r     h   u     h e r   e h n g   b u   u r e l f   h   u   n '   l k e \\n \\n w e l l   h e r e   w   n h e r   n e     f r e w r n e     f r e r e \\n \\n a   g e   w e l v e   m r k   p e r e   w     l l e   k n n e r   h n   h e   v e r g e   n   l g h l   e l c e - l k n g   y e   h e   v e   w h     g r c e   n   l h e n e   h     n   h e   c n   l   f   b   h   g e   w h   e e   l   e   u p   f   k n e e   n   e l b w   n   c b   h   c p l e x n   w   f r   l   l k   n   h   f e u r e   w h c h   w u l   b e   c n e r e   q u l n e   l e r   n   l f e   n w   e e e     r f l e   f e n n e   i   h   c u e   h   e   r u b l e   e v e n   b e f r e   h e   r c h e   b n   n c e n   n   h e   c h l r   n   h e   h   e e r n e     h n l e     h e l f   h e   h   e   n   n l   f   h e   p r b l e   m   b u l l e   h e   h   e c e   w e r e   b g   n   u g l   n   c l u   t h e   c r e   p e p l e   b   b e n g   b l e     h u r   h e   t h e   f u g h   r   t h e r e f r e   f   u   w e r e   n   f r   f   b e n g   h u r     l l e   n   f   u   w e r e   w l l n g     f g h   r     b u l l   g h   b e   b e e   r c h e   b n   h   b e e n   h e   f r   f u l l   v n c n   f   h   h e r   h e   n   h e   b u l l     h e   k e r   e l e e n r   s c h l   h   c e   f f   e v e n   w h c h   h   b e e n     v c r   f     k n ;   h e   k e r   b u l l   b l   b u   u n b w e   h   p r c l e     h e   c h l r   c u n     l r g e   h   h e   n   m r k   p e r e   w e r e   p l   m r k   w h   h u g h   h e   k e r   b u l l   w     u b   p e c e   f   h     n   c n r c   h   h e   u n e r   c r e n   t l k     n   g   w h   b u l l e   h u r n g   w   h e   n l   l n g u g e   h   h e   r c h e   b n   f   h e   w r l   e e e     u n e r n   n   m r k   u p p e   h   w   w h   h e   w r l   l w   h   u c h     h r   e   g e n g   l n g   h e   h   b e e n   e n   f r   c h l   h     n   h   f h e r   h   b e e n   v e r   n g r   u n l   m r k   r e g n e     h   r u l   w h p p n g   w h     r l l e - u p   g z n e   l   h   h   h l e r   h   j u   b e e n     r c h e   b n     h e r   t h   h   e   h   f h e r   l u g h   l k e   h e l l   n   e v e n   h   h e r   n c k e r e   t h e   w h p p n g   h   b e e n   v e r e \\n \\n n w   j u n e   p e r e   w   n g :   “ d   u   h n k   '   f f e c e   h   h e n r ?\",\n",
       " \"” \\n \\n “ h r …   e l l ”   a n   m r k   k n e w   b   h e   p u e   h   h   f h e r   w   l g h n g   h   p p e   “ h e '   g     h e l l   f     p k e r   f c e ” \\n \\n “ s l l   w e r   r u n   e e p   h u g h ”   s h e   p u e   h   h e r   w   l w   n g   h n g   l k e   l l   w e r   r u n   e e p   r   '     l n g   l n g   r   h   h   n   u r n n g   h e   l v e   h e   b h   e r l   b u   e e   h e   e e e   j u     p n e r u     h e   b k   n   h e   f l   e c n   f   h e   l b r r … n   j u     u \\n \\n “ t h e   w e r e   n   h e r   w     e e   m r k ”   h e   r e u e   “ t   p l   w h   h   r n   e … n w   n e   e   n   n e   n g !\",\n",
       " \"d n '   f l   u r e l f   h e n r   t h e   b   f e e l   e h n g ” \\n \\n “ h e '   g   h   f e e   p r e   l l   p l n e   n   h e   g r u n ”   m r   p e r e     “ w h e v e r   h   f e e l n g   r e   i '   u r e   h e '   g   h e   n   h n ” \\n \\n m r k   g l u e   h e   f r n k e n e n   n e r '   l e f   r   n   h e   h u l e r   c k e   i   w     p e c l l   r e e   a u r r   e l   h   g l w e   g r e e n   n   h e   r k   j u   l k e   h e   p l c   j e u   h e   h   g e n   f r   e r z n g   l l   f   h e   1 1 9 h   p l   n   s u n   c h l   c l   n   k e r \\n \\n “ i ' v e   e e   h u g h   w e   h u l   h v e   h   n h e r ”   h   f h e r   w   n g   “ a n g   h e r   h n g     w u l   h v e   b e e n   g   f r   m r k ” \\n \\n a n   h   h e r   n   n   r c h   n e :   “ n   f r   l c k   f   r n g   e r ” \\n \\n h   f h e r   g r u n e \\n \\n t h e r e   w     l n g   p u e   n   h e   c n v e r n   h   f h e r   h e   k n e w   w u l   b e   r l n g   h r u g h   t h e   w l l   s r e e   j u r n l   h   h e r   w u l   b e   h l n g     n v e l   b   j n e   a u e n   n   h e r   l p   r   p e r h p   h e n r   j e   s h e   r e   h e   v e r   n   v e r   g n   n   m r k   w   r n e   f   h e   c u l   e e   h e   e n e   n   r e n g     b k   r e   h n   n c e   y u   k n e w   h w     w   g n g     e n \\n \\n “ d ' u   h n k   '   f e     l e   h   g   n   h e   w   b e h n   h e   h u e ?\",\n",
       " \"”   h   h e r   k e   p r e e n l   “ t h e     h e r e '   q u c k n   e w h e r e   n   w n — ” \\n \\n “ m l e   f r   h e r e ” \\n \\n m r k   r e l x e     l l e   n   g l u e   h e   n e r '   h e r   r   n   h e   h     w h l e   b l e   f   a u r r   h r r r   n e r   r r n g e   n     c e n e   h   h e   c h n g e   e c h   e     n e w   e l e e n   w   e   i   w     p r e   g   e   d n n   n   r l p h e   h   r e l l   b e e n   c n g     e e   h   h e   n g h   w h e n … w h e v e r \\n \\n “ i   h n k   '   k ”   h   f h e r     “ n   f e r   r k   f   c u r e ” \\n \\n “ w e l l   i   h p e   h   w f u l   f u n e r l   w n '   g v e   h   n g h r e ” \\n \\n m r k   c u l   l   e e   h   f h e r   h r u g   “ t n   g l c k … u n f r u n e   b u   e h   n   g r e f   r e   p r   f   l v n g   t e   h e   g   u e     h e   e ” \\n \\n “ m b e ”   a n h e r   l n g   p u e   w h   w   c n g   n w ?\",\n",
       " \"h e   w n e r e   t h e   c h l     h e   f h e r   f   h e   n   b e   o r     h e   w g     b e n   h e   r e e     h p e   m r k   g l u e   h e   n e r   n   h   b e   w h c h   w     g r v e   u n   w h     l e n n g   h e n e   n   h e   b c k g r u n   “ i n   h e     f   l f e   w e ' r e   n   e h   b u   i     h v e   n g h r e ” \\n \\n “ o h ?\",\n",
       " \"” \\n \\n “ t h   m r   f r e n   u   b e   q u e   n   r   g r l       u n   h e   r e l l   l k e     f   h e   w   j u   l e e p   t h   n   e c n   h e   g h   p e n   h   e e   n   w n   n … i   n '   k n w   w h   h e e   p e p l e   n   n   r u r n g   h e e l v e   w h   p e n - c f f n   e r v c e   i ' … h e h e n h ” \\n \\n “ w e l l   '   v e r ” \\n \\n “ y e   i   u p p e   h e '     g   b   n '   h e   h e n r ?\",\n",
       " '” \\n \\n “ m r k ?',\n",
       " 't h e   b e ” \\n \\n m r k   l e \\n \\n “ i   h e r e   n h n g   n   t v ?',\n",
       " \"” \\n \\n “ i ' l l   l k ” \\n \\n m r k   u r n e   h e   r e   f f ;   h e   e r u   c u n   w   n e   h e   e   h   e l   n   h e   w n w l l     r   n   h r e n   i n   n h e r   f f e e n   n u e   h   h e r   w u l   b e   c l l n g   u p   f r   h     g e   r e   f r   b e   h e   k   h   p j   u   f   h e   p   r e e r   r w e r   n   b e g n     u n r e \\n \\n i n   p n   f   f c   h   h e r   w   w r r n g   n e e l e l   b u   h   p c h e   w h c h   w   n   e n e r     l l   t h e r e   w   n   p r c u l r   r e n   w h     h u l   h v e   b e e n ;   h e   w     p c l   b   n     w   e p e   h   e c n   n   h   g r c e f u l n e   h   f l   w   u p p e r   l e   c l   n   l l   u p w r l   b l e   n   h e   r r g e   f   h   p r e n   w   u n   t h e   l v e   e c h   h e r   f r l   f     l l e   g l   t h e r e   h   n e v e r   b e e n   n   g r e   r u   n   m r k '   l f e   t h e   f e w   c h l   f g h   h   n   c r r e   h   h e   g   l n g   w h   h   p e e r   n   n   g e n e r l   w n e   h e   e   h n g   h e   w n e \\n \\n i f   h e r e   w   n h n g   h   e   h   p r     w     r e e r v r   f   r e e n e   f   c l   e l f - c n r l   n   n e   h   n c u l c e     n   h ;   h e   e e e     h v e   b e e n   b r n   w h     w h e n   h   p e   g   c h p p e r   h   b e e n   h   b     c r   h e   h   n e   n   g n g   w h   h   h e r     h e   v e '   a n   w h e n   h e   v e   h     t h e   g   h   g     b e   p u     l e e p     b   d   u   u n e r n   w h ?\",\n",
       " \"m r k     y u ' r e   n   g n g     p u   h     l e e p   y u ' r e   g n g     g   h     e h   r e n '   u ?\",\n",
       " \"t h e   v e     e   m r k   l   h     g   h e   b u   h e   h   k e   c h p p e r   f r   h e   h   f e l   r r   b u   h e   h n '   c r e   n   e r   h   n e v e r   b e e n   c l e     h e   u r f c e   h   h e r   h   c r e   b u   h r e e     l e r   c h p p e r   w   n   h e     p     h e r   n   h e   w u l   n e v e r   b e   n   h e     p   f r   m r k   t h   w   h e   v l u e   n   n   c r n g   c r n g   w   l k e   p n g   e v e r h n g   u   n   h e   g r u n \\n \\n h e   h   b e e n   h c k e   b   h e   p p e r n c e   f   r l p h e   g l c k   n   h c k e   g n   b   d n n '   e h   b u   h e   h   n   b e e n   f r g h e n e   h e   h   h e r   n e   f   h e   e n   n   h e   r e     h   p r b b l     e x   p e r v e r   h   g e n   r l p h e   m r k   k n e w   w h   p e r v e r   w e r e   t h e     e h n g     u   h   g   h e r   r c k   f f   n   w h e n   h e   w e r e   n e   h e   r n g l e   u   n   h e   c c   b k   h e   g u   g e n g   r n g l e   l w     a r r r g g g h   n   b u r e   u   n     g r v e l   p   r   u n e r   h e   b r   f     e e r e   h e   i f     e x   p e r v e r   e v e r   f f e r e   h   c n   h e   w u l   k c k   h   n   h e   b l l   n   h e n   r u n   l k e     p l   r e k \\n \\n “ m r k ?\",\n",
       " \"”   h   h e r '   v c e   r f n g   u p   h e   r \\n \\n “ i   ”   h e     n   l e   g n \\n \\n “ d n '   f r g e   u r   e r   w h e n   u   w h ” \\n \\n “ i   w n ' ” \\n \\n h e   w e n   w n r     k   h e   g   n g h   v n g   l h e l   n   g r c e f u l l   p r n g   n e   g l n c e   b c k w r     h e   b l e   w h e r e   h   n e r   r e e   n   b l e u :   d r c u l   w h   h   u h   p e n   h w n g   h   f n g   w   e n c n g     g r l   l n g   n   h e   g r u n   w h l e   h e   m   d c r   w   r u r n g     l   n   h e   r c k   n   m r   h e   w   c r e e p n g   u p   n   n   l   g u   w l k n g   h e \\n \\n u n e r n   e h ?\",\n",
       " \"s u r e   t h   w   w h e n   h e   n e r   g   u \\n \\n \\n s i x \\n \\n r   m c d u g l l   p u l l e   n   h e   r v e w   f   h   r l e r     h l f   p   e g h   g u n n e   h e   e n g n e   f   h   l   f r   w c e   n   u r n e   h e   e n g n e   f f   t h e   h e e r   p p e   w   j u   b u   h   h e   b l n k e r   n '   w r k   n   h e   c k e r   c e   u p   n e x   n h   s e   c r   s e   l f e   t h e   k   w   h w l n g   n   h e   h u e   n   s n   w   c r e n g     h   g r e   l   r r g e \\n \\n h e   g   u   f   h e   c r   n   f e l l   v e r   n e   f   h e   f l g n e   h e   h   b e e n   e n n g     u r n   n     w l k   f r   h e   r v e w     h e   e p   n c e   l   u e r \\n \\n “ s h f r e ”   h e   u e r e   g l w e r n g   b l e f u l l     h e   p e c e   f   f l g g n g   n   r u b b n g   h   h n \\n \\n h e   w   q u e   r u n k   h e   h   g e n   f f   w r k     h r e e   n   h   b e e n   r n k n g   w n     d e l l '   e v e r   n c e   w h   h n k   p e e r   n   b u   m b e r r   h n k   h   b e e n   f l u h   j u   l e l   n   e e e   n e n   n   r n k n g   u p   h e   w h l e   f   h   v e n   w h e v e r     h   b e e n   h e   k n e w   w h   s n   h u g h   f   h   b u e   w e l l   l e   h e r   g e   g h - e   b e g r u g e     n     f e w   b e e r   n   s u r   n   s u n   e v e n   h u g h   h e   p e n   h e   w h l e   w e e k   b r e k n g   h   b c k   n   h e   g n   p c k e r — n   g e n g   w e e k e n   v e r e     b   w h   w   h e     g e     h l ?\",\n",
       " \"s h e   p e n   l l     n g   n   h e   h u e   w h   n h n g       b u   k e   c r e   f   h e   p l c e   n   h   h e   h   w h   h e   l n   n   e e   h   h e   k   n '   c r w l   n   h e   v e n   s h e   h n '   b e e n   w c h n g   h     c l e   l e l   n w   g n   k   e v e n   f e l l   f f   h e   c h n g n g   b l e   h e   h e r   \\n \\n w h e r e   w e r e   u ?\",\n",
       " \"i   w   h l n g   h   r   h e   j u   w r g g l e   \\n \\n w r g g l e   y e h \\n \\n h e   w e n   u p     h e   r   l l   e n g   h   l e g   h u r   w h e r e   h e   h   b u p e     n   h   h e '   g e   n   p h   f r   h e r   s   w h   w   h e   n g   w h l e   h e   w   w e n g   h   g u   u   f r   h   p r c k   f     f r e n ?\",\n",
       " \"r e n g   c n f e n   g z n e   n   e n g   c h c l e - c v e r e   c h e r r e   r   w c h n g   h e   p   p e r   n   h e   t v   n   e n g   c h c l e - c v e r e   c h e r r e   r   g b b n g     h e r   f r e n   n   h e   p h n e   n   e n g   c h c l e - c v e r e   c h e r r e   s h e   w   g e n g   p p l e   n   h e r       w e l l     h e r   f c e   p r e   n   u   w u l n '   b e   b l e     e l l   h e   w   f   h e   p r \\n \\n h e   p u h e   p e n   h e   r   n   w l k e   n \\n \\n t h e   c e n e   r u c k   h   e e l   n   f r c b l   c u n g   h r u g h   h e   b e e r   h z e   l k e   h e   f l c k   f     w e   w e l :   h e   b b   n k e   n   c r e n g   b l   r u n n n g   f r   h   n e ;   s n   h l n g   h   h e r   l e e v e l e   b l u e   e r e   w h   b l   l k n g     h   v e r   h e r   h u l e r   h e r   f c e   c n r c n g   w h   u r p r e   n   f e r ;   h e   p e r   n   h e   f l r \\n \\n r n   w h   h e   c l r e   r k   r u n   h   e e   b r e l   f n g   r e   h   h n     f   n   u p p l c n \\n \\n “ w h '   g n g   n   r u n   h e r e ?\",\n",
       " \"”   r   k e   l w l \\n \\n “ n h n g   r   h e   j u — ” \\n \\n “ y u   h   h ”   h e     n e l e l   “ h e   w u l n '   h l   l l   f r   h e   p e r     u   c k e   h ” \\n \\n “ n ”   h e     q u c k l   “ h e   r l l e   v e r   n   b u p e   h   n e   h '   l l   t h '   l l ” \\n \\n “ i   u g h     b e   h e   h   u   f   u ”   h e   \\n \\n “ r   h e   j u   b u p e   h   n e — ” \\n \\n h   h u l e r   l u p e   “ w h '   f r   n n e r ?\",\n",
       " \"” \\n \\n “ h b u r g   t h e ' r e   b u r n ”   h e     p e u l n l   n   p u l l e   h e   b   f   h e r   b l u e   u   f   h e r   w r n g l e r     w p e   u n e r   r n '   n e   r   c u l   e e   h e   r l l   f   f   h e   w   g e n g   s h e '   n e v e r   b u n c e   b c k   f e r   h e   b b   d n '   c r e \\n \\n “ s h u   h   u p ” \\n \\n “ h e   n ' — ” \\n \\n “ s h u   h   u p !\",\n",
       " \"”   r   e l l e   n   r n   w h   h   c u l l   b e e n   q u e n g   w n     n u f f l e   b e g n     c r e   g n \\n \\n “ i ' l l   g v e   h     b l e ”   s n     g e n g   u p \\n \\n “ a n   g e     n n e r ”   h e   r e     k e   f f   h   e n   j c k e   “ c h r   n '   h   p l c e     e   w h     u     l l     b e   f f ?\",\n",
       " '” \\n \\n “ r !',\n",
       " '”   h e     u n n g   h c k e   t h e n   h e   g g g l e   h e r   n n e   b u r   f   n g e r     h e   b b   w h   w u l   n   h l   l l   n   h   p e r     h e   c u l   p n   h e   b e g n     b e   f r   w   h z   i   g h   h v e   h p p e n e   n   n e   f   h e r   f e r n n   r e   r   “ m e c l   c e n e r ” \\n \\n “ g e     n n e r   n   h e n   p c k   h   f r g g n g   p l c e   u p ” \\n \\n “ a l l   r g h   a l l   r g h   u r e ”   s h e   g     b l e   u   f   h e   r e f r g e r r   n   p u   r n   w n   n   h e   p l p e n   w h     h e   b e g n     u c k     p h e c l l   h   e e   v n g   f r   h e r     f h e r   n   l l   r p p e   c r c l e \\n \\n “ r ?',\n",
       " '” \\n \\n “ h ?',\n",
       " 'w h ?',\n",
       " \"” \\n \\n “ i '   l l   v e r ” \\n \\n “ w h   ?\",\n",
       " '” \\n \\n “ y u   k n w   w h   d   u   w n   ?',\n",
       " 't n g h ?',\n",
       " \"” \\n \\n “ s u r e ”   h e     “ s u r e ”   a n   h u g h   g n :   i n '   h   e   l f e   i n '   h   j u   e   l f e \\n \\n \\n s e v e n \\n \\n n l l   g r e n e r   w   l e n n g     r c k   ' n '   r l l   u c   n   w l o b   n   n p p n g   h   f n g e r   w h e n   h e   e l e p h n e   r n g   p r k n   p u   w n   h   c r w r   g z n e   n     “ c u   h   e   w l l   u ?\",\n",
       " '” \\n \\n “ s u r e   p r k ”   n l l   u r n e   h e   r   w n   n   w e n   n   n p p n g   h   f n g e r \\n \\n “ h e l l ?',\n",
       " '”   p r k n   \\n \\n “ c n b l e   g l l e p e ?',\n",
       " \"” \\n \\n “ y e h ” \\n \\n “ a g e n   t   h n r h n   h e r e   r   i ' v e   g   h e   n f r n   u   r e q u e e ” \\n \\n “ g   f   u     g e   b c k     q u c k ” \\n \\n “ w e   h v e n '   g   u c h   f     h k   f r   u ” \\n \\n “ t h '   k ”   p r k n     “ w h   h v e   u   g ?\",\n",
       " \"” \\n \\n “ b e n   m e r   n v e g e       r e u l   f     r f f c   f l   n   u p e   n e w   y r k   m   1 9 7 3   n   c h r g e   b r u g h   m r c c l e   h   h   w f e   m r n   w   k l l e   w n e e     h e   w   v n g   l w l   n     b r e h   e   w   n e g v e   a p p r e n l   j u   h     w e   p   h   p l c   r e   l e f h   h e   w   n     p e c e   r c h     p r n c e n   n   1 9 6 6   s p k e     n   n w r   r l l   n   b r k l n   n   1 9 6 7   m r c h   n   w h n g n   n   1 9 6 8   n   1 9 7 0   a r r e e   u r n g     s n   f r n c c   p e c e   r c h   n v e b e r   1 9 7 1   a n   h '   l l   h e r e     n   h ” \\n \\n “ w h   e l e ?\",\n",
       " \"” \\n \\n “ k u r   b r l w   h '   k u r   w h     ' k '   h e '   b r h   b u   b   n u r l z n   r h e r   h n   b r h   b r n   n   g e r n   f l e     e n g l n   n   1 9 3 8   p p r e n l   j u   h e   f   h e   g e p   h   e r l e r   r e c r   j u   r e n '   v l b l e   b u   h e '   p r b b l   n   h   e v e n e   t h e   n e   h e   w   b r n   w h   w   b r e c h e n   h e '   b e e n   n   h e   p r - e x p r   b u n e   n   l n n   n c e   1 9 4 5   b u   h e '   e l u v e   s r k e r   h   b e e n   h   p r n e r   n c e   h e n   n   s r k e r   e e     b e   h e   f e l l w   w h   e l   w h   h e   p u b l c ” \\n \\n “ y e h ?\",\n",
       " \"” \\n \\n “ s r k e r     b r h   b   b r h   f f - e g h   e r   l   h   f h e r   w     c b n e k e r   n   m n c h e e r   l e f     f r   u n   f   n e     h   n   p p r e n l   n   h   s r k e r   h   n e   l l   r g h     b h   f   h e   p p l e   f r   v     p e n   n   e x e n e   u n   f   e   n   h e   u n e   s e   e g h e e n   n h   g   t h '   l l   w e   h v e   e x c e p   h   h e     b e   q u e e r   f r   e c h   h e r ” \\n \\n “ y e h ”   p r k n     n   g h e   “ a b u   w h   i   h u g h ” \\n \\n “ i f   u '   l k e   f u r h e r   n c e   w e   c n   q u e r   c i d   n   s c l n   y r   b u   u r   w   n e w   e r c h n ” \\n \\n “ n   h '   f n e ” \\n \\n “ n   c n n e c n   b e w e e n   m e r   n   h e   h e r   w   b   h e   w   u n l e   '   e e p   u n e r c v e r ” \\n \\n “ o k   t h n k ” \\n \\n “ i '   w h   w e ' r e   h e r e   f r   i f   u   w n   n c e   g e   n   u c h ” \\n \\n “ i   w l l   t h n k   u   n w ” \\n \\n h e   p u   h e   r e c e v e r   b c k   n     c r l e   n   l k e       h u g h f u l l \\n \\n “ w h   w   h   p r k ?\",\n",
       " \"”   n l l   k e   u r n n g   u p   h e   r \\n \\n “ t h e   e x c e l l e n   c f é   t h e   n '   g   n   h   n   r e   n h n '   b u   e   c h e e e   n   e g g   l ” \\n \\n “ i   g   e   r p b e r r   f l u f f   n     e k   f   u   w n   ” \\n \\n “ n   h n k ”   p r k n     n   g h e   g n \\n \\n \\n e i g h t \\n \\n t h e   u p   w   l l   l e r n g \\n \\n d u   r g e r   w l k e   l n g   h e   e g e   e l l n g   h e   f r g r n c e   f   l e r n g   f f l   u n e r f   l l   b l e   c r u n c h e   n   p w e r   b l c k   h   p u f f e   u p     e v e r   e p   o u   n   h e   u p '   w e l n     w e   b e   f   c l   w x e   n   w n e   w h   h e   v g r e   f   h e   w n   r e n n g   h   f     h u g e   r e   e e   p e n n g   n   c l n g … h e   e e   f     g n   e v e r   n w   n   h e n   h e r e   w     u f f l e   l l   e x p l n     n   e r l   c n   r   l g h b u l b   b l e w   u p   a   g r e   n   r   h   c e   u   f   h e   u p   w h e n   h e   l     h   r n n g   r e   r   h n   h e   h   e v e r   e e n   b e f r e   h e   h   h   f u l l   h r e e   z e n   n   h   p l   h   b e e n   h     h e   u c h   w h e n   h e   f n l l   u c k e     b c k   n     h l e r   t h e   w e r e   b g   b r     e   f   h e   f u l l   w   f e e   l n g   r e c h e   e n     e n   f u n n   h w   h e r   n u b e r   e e e     g r w   r   h r n k   e p e n n g   n   h e   e r   h   e h n g       w h   h e   w e h e r   p r b b l   i f     k e p   u p   h e   w u l   h v e     r   l n g   p n   b   r u n   e h n g   h e   h n '   h       n c e   1 9 6 4 \\n \\n t h e r e   w   n e   n w   c r e e p n g   u n e r   n e   f   h e   e l l w   w h r e   h   e r v e     f r e   b r r e r \\n \\n d u   p u l l e   u   h   p l   c l c k e   f f   h e   f e   e   n   f r e   t h e   h   k c k e   r   n   f r n   f   h e   r   p r n g     f u r   b u   n e   f   r u n n n g     n l   r e   u p   n     h n   l e g   n   l k e     h   b e   l l e   e e   g l e r n g   r e   n   h e   f r e   g l w   j e u   b u   e   f   h e   w e r e   b l !\",\n",
       " \"“ b - b   m r   r ”   d u     n   k   c r e f u l   \\n \\n k p w   t h e   r   f l p p e   v e r   w c h n g \\n \\n d u   w l k e   c r   n   p r e     w h   n e   h e v   w r k   b   t h e   r   b   w e k l     h e   h e   l e h e r     e   p r n g   w e k l \\n \\n “ b r ”   d u     l l   n   c r u h e     h e \\n \\n h e   h u n k e r e   w n   l k e       n   f u n   h e l f   h n k n g   f   r u h e   c r c k e   w h   w r e   n   b r   w h e n   h e   w r e   n e   f   h e   c l n g   c r g n   w e e r   u   c u l   e e   h e r   l l e   n p p l e   j u     c l e r   e   e r e c   b   h e   f r c n     h e   r u b b e   g n   h e   w l   n   f     n   c u l   g e   h l   f   h e     n   r u b   h e   j u     l l e   j u     l l e   n   u     l u   l k e   h   w u l   g   f f   j u   l k e     r c k e … \\n \\n h e   p c k e   h e   r   u p   b     l   n   w u n g     l k e     p e n u l u   “ h w '   u   l k e   l e   m r   r   n   u r   p e n c l   b x   r u h e ?\",\n",
       " \"”   t h e   h u g h   w h     u n n e n n l   u b l e   e n e n r e   u e   h   n   h e   u e r e     h g h - p c h e   g g g l e   h   l   f f - c e n e r   h e   n n g   n   p p n g \\n \\n h e   l u n g   h e   r   f r   u   n   h e   u p   a   h e       h e   w u n g   r u n   n   c u g h   g h   f     f g u r e —   l l   e x r e e l   h n   l h u e e   b u   f f   p c e     h e   r g h \\n \\n d u   w p e   h   h n   n   h   g r e e n   p n   h c h e   h e   u p   n   r l l e   v e r \\n \\n “ d u p '   c l e   e r ” \\n \\n t h e   n   u r n e   w r   h   t h e   f c e   h   w   c v e r e   n   h e   r e   g l w   f   h e   n g   f r e   w   h g h - c h e e k b n e   n   h u g h f u l   t h e   h r   w   w h e   r e k e   w h   l   v r l e   l h e   f   r n   g r   t h e   g u   h     w e p   b c k   f r   h   h g h   w x   f r e h e   l k e   n e   f   h e   f g   c n c e r   p n   t h e   e e   c u g h   n   h e l   h e   r e   g l w   f   h e   e b e r   n   e   h e   l k   b l h \\n \\n “ i   ?\",\n",
       " '”   h e   n   k e   p l e l   n   h e r e   w     f n   c c e n   n   h e   w r   l h u g h   h e   w e r e   p e r f e c l   p k e n   t h e   g u   g h   b e     f r g   r   b e     b h u n k   “ i   c e     w c h   h e   f r e   i     b e u f u l ” \\n \\n “ y e h ”   d u     “ y u   f r   r u n   h e r e ?',\n",
       " '” \\n \\n “ i       r e c e n   r e e n   f   u r   l v e l   w n   e   d   u   h   n   r ?',\n",
       " \"” \\n \\n “ q u e     f e w   e h   j u   l e l   h e r e '   l l n   f   h e   l l e   n - w h r e   s   u   n '   h e   f e l l   w h   b u g h   h e   m r e n   p l c e   r e   u ?\",\n",
       " '” \\n \\n “ p r e r ”   h e   n     c r n g   h   h n   b e h n   h   b c k   d u   n c e   w h   u r p r e   h   h e   g u   w   l l   r c k e   u   n     u   v e   n   l l   “ i   l v e   h e   p r e r   f   h e   n g h   t h e   r … h e   w l … h e   w l v e   a r e   h e r e   w l v e   n   h   r e ?',\n",
       " \"” \\n \\n “ n w ”   d u     “ g u   u p   n   d u r h   b g g e     c e   w   e r   g   a n   h e r e '     w l - g   p c k   h '   b e e n   r u n n n '   e e r — ” \\n \\n “ d g ”   h e   r n g e r     n   g e u r e   w h   c n e p   “ l w   n l   h   c r n g e   n   h w l     h e   u n   f     r n g e   e p   f   n l     w h n e   n   g r v e l   g u   h e   l l   i     g u   h e   l l !\",\n",
       " \"” \\n \\n “ w e l l   i   n e v e r   h u g h   f     h   w ”   d u     k n g     h u f f l n g   e p   b c k w r   “ i '   l w   n c e     h v e   e n e   c e   u   n   u   k n w   h   h e   h   b u   h e   u p   c l e     x   n   s u n   n   '   h p p   n n e   n w — ” \\n \\n “ t   b e   u r e ” \\n \\n y e   h e   r n g e r   h w e   n   g n   f   v n g   w   d u   w   h n k n g   h   h e   h   l e n     r c h   n   h e   r e   f   h e   w n   t h e   w e r e   l l   w n e r n g   w h   w   b e h n   h   s r k e r   g u   n   h e   w   h e   f r     k n w — e x c e p   b e   f r   l r r   c r c k e   w h   w     e e p   n e   t h e   n e x   e   h e   w   n   w n   b u n g   h e l l   f r   h   p r - f c e   g e r g e   m l e r   h e   w u l   j u   h p p e n       c u l l :   h p p e n e     e e   h   n e w   f e l l   h e   h e r   n g h   w h ?\",\n",
       " 'o h   u   k n w   f e l l   h   k   h e   m r e n   h u e   n c e   e n u g h   f e l l   t l k e     l l e   l k e     b h u n k \\n \\n “ a n   g h   u p   n   h   l   h u e ?']"
      ]
     },
     "execution_count": 42,
     "metadata": {},
     "output_type": "execute_result"
    }
   ],
   "source": [
    "books[4][:500]"
   ]
  },
  {
   "cell_type": "markdown",
   "metadata": {},
   "source": [
    "### Lower Stop List"
   ]
  },
  {
   "cell_type": "code",
   "execution_count": 43,
   "metadata": {
    "ExecuteTime": {
     "end_time": "2018-07-09T16:52:21.585322Z",
     "start_time": "2018-07-09T16:52:21.582085Z"
    }
   },
   "outputs": [],
   "source": [
    "stoplist = [x.lower() for x in stoplist]"
   ]
  },
  {
   "cell_type": "markdown",
   "metadata": {},
   "source": [
    "### Convert sentences to Rows"
   ]
  },
  {
   "cell_type": "code",
   "execution_count": 44,
   "metadata": {
    "ExecuteTime": {
     "end_time": "2018-07-09T16:52:22.214298Z",
     "start_time": "2018-07-09T16:52:21.587084Z"
    }
   },
   "outputs": [],
   "source": [
    "s = df.apply(lambda x: pd.Series(x['content']),axis=1).stack().reset_index(level=1, drop=True)\n",
    "s.name = 'content'\n",
    "sentDF = df.drop('content', axis=1).join(s)"
   ]
  },
  {
   "cell_type": "code",
   "execution_count": 45,
   "metadata": {
    "ExecuteTime": {
     "end_time": "2018-07-09T16:52:22.225595Z",
     "start_time": "2018-07-09T16:52:22.216782Z"
    }
   },
   "outputs": [
    {
     "data": {
      "text/html": [
       "<div>\n",
       "<style scoped>\n",
       "    .dataframe tbody tr th:only-of-type {\n",
       "        vertical-align: middle;\n",
       "    }\n",
       "\n",
       "    .dataframe tbody tr th {\n",
       "        vertical-align: top;\n",
       "    }\n",
       "\n",
       "    .dataframe thead th {\n",
       "        text-align: right;\n",
       "    }\n",
       "</style>\n",
       "<table border=\"1\" class=\"dataframe\">\n",
       "  <thead>\n",
       "    <tr style=\"text-align: right;\">\n",
       "      <th></th>\n",
       "      <th>isbn</th>\n",
       "      <th>title</th>\n",
       "      <th>year</th>\n",
       "      <th>content</th>\n",
       "    </tr>\n",
       "  </thead>\n",
       "  <tbody>\n",
       "    <tr>\n",
       "      <th>0</th>\n",
       "      <td>9780062215956</td>\n",
       "      <td>Throttle</td>\n",
       "      <td>2009</td>\n",
       "      <td>b   “ d u e l ” \\n \\n j e   h l l   n   s e ...</td>\n",
       "    </tr>\n",
       "    <tr>\n",
       "      <th>0</th>\n",
       "      <td>9780062215956</td>\n",
       "      <td>Throttle</td>\n",
       "      <td>2009</td>\n",
       "      <td>c l r k e '   g n e   s '   h e   n e   t h e ...</td>\n",
       "    </tr>\n",
       "    <tr>\n",
       "      <th>0</th>\n",
       "      <td>9780062215956</td>\n",
       "      <td>Throttle</td>\n",
       "      <td>2009</td>\n",
       "      <td>” \\n \\n “ c l r k e '   e r ” \\n \\n “ w h   w ...</td>\n",
       "    </tr>\n",
       "    <tr>\n",
       "      <th>0</th>\n",
       "      <td>9780062215956</td>\n",
       "      <td>Throttle</td>\n",
       "      <td>2009</td>\n",
       "      <td>” \\n \\n “ f r   h e   n e   c e   u   h n '   ...</td>\n",
       "    </tr>\n",
       "    <tr>\n",
       "      <th>0</th>\n",
       "      <td>9780062215956</td>\n",
       "      <td>Throttle</td>\n",
       "      <td>2009</td>\n",
       "      <td>y u   e e   c l r k e   h n g n g   u p   h e ...</td>\n",
       "    </tr>\n",
       "  </tbody>\n",
       "</table>\n",
       "</div>"
      ],
      "text/plain": [
       "            isbn     title  year  \\\n",
       "0  9780062215956  Throttle  2009   \n",
       "0  9780062215956  Throttle  2009   \n",
       "0  9780062215956  Throttle  2009   \n",
       "0  9780062215956  Throttle  2009   \n",
       "0  9780062215956  Throttle  2009   \n",
       "\n",
       "                                             content  \n",
       "0    b   “ d u e l ” \\n \\n j e   h l l   n   s e ...  \n",
       "0  c l r k e '   g n e   s '   h e   n e   t h e ...  \n",
       "0  ” \\n \\n “ c l r k e '   e r ” \\n \\n “ w h   w ...  \n",
       "0  ” \\n \\n “ f r   h e   n e   c e   u   h n '   ...  \n",
       "0  y u   e e   c l r k e   h n g n g   u p   h e ...  "
      ]
     },
     "execution_count": 45,
     "metadata": {},
     "output_type": "execute_result"
    }
   ],
   "source": [
    "sentDF.head()"
   ]
  },
  {
   "cell_type": "code",
   "execution_count": 46,
   "metadata": {
    "ExecuteTime": {
     "end_time": "2018-07-09T16:52:22.266970Z",
     "start_time": "2018-07-09T16:52:22.227427Z"
    }
   },
   "outputs": [],
   "source": [
    "cujoDF = sentDF.loc[sentDF['title'] == 'Cujo']"
   ]
  },
  {
   "cell_type": "code",
   "execution_count": 47,
   "metadata": {
    "ExecuteTime": {
     "end_time": "2018-07-09T16:52:22.285292Z",
     "start_time": "2018-07-09T16:52:22.268752Z"
    },
    "scrolled": true
   },
   "outputs": [
    {
     "data": {
      "text/html": [
       "<div>\n",
       "<style scoped>\n",
       "    .dataframe tbody tr th:only-of-type {\n",
       "        vertical-align: middle;\n",
       "    }\n",
       "\n",
       "    .dataframe tbody tr th {\n",
       "        vertical-align: top;\n",
       "    }\n",
       "\n",
       "    .dataframe thead th {\n",
       "        text-align: right;\n",
       "    }\n",
       "</style>\n",
       "<table border=\"1\" class=\"dataframe\">\n",
       "  <thead>\n",
       "    <tr style=\"text-align: right;\">\n",
       "      <th></th>\n",
       "      <th>isbn</th>\n",
       "      <th>title</th>\n",
       "      <th>year</th>\n",
       "      <th>content</th>\n",
       "    </tr>\n",
       "  </thead>\n",
       "  <tbody>\n",
       "    <tr>\n",
       "      <th>60</th>\n",
       "      <td>978-1-101-13806-9</td>\n",
       "      <td>Cujo</td>\n",
       "      <td>1981</td>\n",
       "      <td>p g e \\n \\n c p r g h   p g e \\n \\n d e c n ...</td>\n",
       "    </tr>\n",
       "    <tr>\n",
       "      <th>60</th>\n",
       "      <td>978-1-101-13806-9</td>\n",
       "      <td>Cujo</td>\n",
       "      <td>1981</td>\n",
       "      <td>”   f r   h e   e   r — h   h e r \\n \\n t h e ...</td>\n",
       "    </tr>\n",
       "    <tr>\n",
       "      <th>60</th>\n",
       "      <td>978-1-101-13806-9</td>\n",
       "      <td>Cujo</td>\n",
       "      <td>1981</td>\n",
       "      <td>” \\n \\n a n   h e n   h     w   n   h e   b e ...</td>\n",
       "    </tr>\n",
       "    <tr>\n",
       "      <th>60</th>\n",
       "      <td>978-1-101-13806-9</td>\n",
       "      <td>Cujo</td>\n",
       "      <td>1981</td>\n",
       "      <td>”   h     k e   h   g n \\n \\n “ t h e r e   w ...</td>\n",
       "    </tr>\n",
       "    <tr>\n",
       "      <th>60</th>\n",
       "      <td>978-1-101-13806-9</td>\n",
       "      <td>Cujo</td>\n",
       "      <td>1981</td>\n",
       "      <td>”   t   c r e   “ i n     c l e !</td>\n",
       "    </tr>\n",
       "    <tr>\n",
       "      <th>60</th>\n",
       "      <td>978-1-101-13806-9</td>\n",
       "      <td>Cujo</td>\n",
       "      <td>1981</td>\n",
       "      <td>”   a n   h e   b u r   n   e r \\n \\n h       ...</td>\n",
       "    </tr>\n",
       "    <tr>\n",
       "      <th>60</th>\n",
       "      <td>978-1-101-13806-9</td>\n",
       "      <td>Cujo</td>\n",
       "      <td>1981</td>\n",
       "      <td>” \\n \\n “ y e ”   t     n   h e n   f r c e   ...</td>\n",
       "    </tr>\n",
       "    <tr>\n",
       "      <th>60</th>\n",
       "      <td>978-1-101-13806-9</td>\n",
       "      <td>Cujo</td>\n",
       "      <td>1981</td>\n",
       "      <td>” \\n \\n “ r e l l ”   h       “ n w   i   w n ...</td>\n",
       "    </tr>\n",
       "    <tr>\n",
       "      <th>60</th>\n",
       "      <td>978-1-101-13806-9</td>\n",
       "      <td>Cujo</td>\n",
       "      <td>1981</td>\n",
       "      <td>” \\n \\n s   h e   w e n   n   n   h e   w c h ...</td>\n",
       "    </tr>\n",
       "    <tr>\n",
       "      <th>60</th>\n",
       "      <td>978-1-101-13806-9</td>\n",
       "      <td>Cujo</td>\n",
       "      <td>1981</td>\n",
       "      <td>y u     h v e     g ” \\n \\n r e g n e   t   n ...</td>\n",
       "    </tr>\n",
       "    <tr>\n",
       "      <th>60</th>\n",
       "      <td>978-1-101-13806-9</td>\n",
       "      <td>Cujo</td>\n",
       "      <td>1981</td>\n",
       "      <td>i n   l l   h e   v e   h e   c c h   h e   l ...</td>\n",
       "    </tr>\n",
       "    <tr>\n",
       "      <th>60</th>\n",
       "      <td>978-1-101-13806-9</td>\n",
       "      <td>Cujo</td>\n",
       "      <td>1981</td>\n",
       "      <td>o h   p l e e   h   p l e e   h   p l e e — \\n...</td>\n",
       "    </tr>\n",
       "    <tr>\n",
       "      <th>60</th>\n",
       "      <td>978-1-101-13806-9</td>\n",
       "      <td>Cujo</td>\n",
       "      <td>1981</td>\n",
       "      <td>h e   c h e e k   g r n n n g   c h p u n k   ...</td>\n",
       "    </tr>\n",
       "    <tr>\n",
       "      <th>60</th>\n",
       "      <td>978-1-101-13806-9</td>\n",
       "      <td>Cujo</td>\n",
       "      <td>1981</td>\n",
       "      <td>h e   w u l   l e e p   n   r e   h   n g h \\n...</td>\n",
       "    </tr>\n",
       "    <tr>\n",
       "      <th>60</th>\n",
       "      <td>978-1-101-13806-9</td>\n",
       "      <td>Cujo</td>\n",
       "      <td>1981</td>\n",
       "      <td>”   d n n   k e   h e r   h u b n   h e   n e ...</td>\n",
       "    </tr>\n",
       "    <tr>\n",
       "      <th>60</th>\n",
       "      <td>978-1-101-13806-9</td>\n",
       "      <td>Cujo</td>\n",
       "      <td>1981</td>\n",
       "      <td>”   v c   k e   h e   w   b u r e   e e p   n ...</td>\n",
       "    </tr>\n",
       "    <tr>\n",
       "      <th>60</th>\n",
       "      <td>978-1-101-13806-9</td>\n",
       "      <td>Cujo</td>\n",
       "      <td>1981</td>\n",
       "      <td>” \\n \\n “ n   e ”   v c     u r n n g     p g ...</td>\n",
       "    </tr>\n",
       "    <tr>\n",
       "      <th>60</th>\n",
       "      <td>978-1-101-13806-9</td>\n",
       "      <td>Cujo</td>\n",
       "      <td>1981</td>\n",
       "      <td>” \\n \\n “ y u   r e e b e r   h e   b   r e   ...</td>\n",
       "    </tr>\n",
       "    <tr>\n",
       "      <th>60</th>\n",
       "      <td>978-1-101-13806-9</td>\n",
       "      <td>Cujo</td>\n",
       "      <td>1981</td>\n",
       "      <td>t h e   c l e   r   h u n g   j r   b l n k e ...</td>\n",
       "    </tr>\n",
       "    <tr>\n",
       "      <th>60</th>\n",
       "      <td>978-1-101-13806-9</td>\n",
       "      <td>Cujo</td>\n",
       "      <td>1981</td>\n",
       "      <td>”   g e r g e   k e \\n \\n “ w h ?</td>\n",
       "    </tr>\n",
       "    <tr>\n",
       "      <th>60</th>\n",
       "      <td>978-1-101-13806-9</td>\n",
       "      <td>Cujo</td>\n",
       "      <td>1981</td>\n",
       "      <td>” \\n \\n “ i     ' i   h   ?</td>\n",
       "    </tr>\n",
       "    <tr>\n",
       "      <th>60</th>\n",
       "      <td>978-1-101-13806-9</td>\n",
       "      <td>Cujo</td>\n",
       "      <td>1981</td>\n",
       "      <td>”   t h   w   h e   h e r   h n g   b u   a...</td>\n",
       "    </tr>\n",
       "    <tr>\n",
       "      <th>60</th>\n",
       "      <td>978-1-101-13806-9</td>\n",
       "      <td>Cujo</td>\n",
       "      <td>1981</td>\n",
       "      <td>”   a u n   e v v e   c r e e   t h e   h   f ...</td>\n",
       "    </tr>\n",
       "    <tr>\n",
       "      <th>60</th>\n",
       "      <td>978-1-101-13806-9</td>\n",
       "      <td>Cujo</td>\n",
       "      <td>1981</td>\n",
       "      <td>t   n e e u   e e n   e e r   u   b   m u n c ...</td>\n",
       "    </tr>\n",
       "    <tr>\n",
       "      <th>60</th>\n",
       "      <td>978-1-101-13806-9</td>\n",
       "      <td>Cujo</td>\n",
       "      <td>1981</td>\n",
       "      <td>g r   u n e r   h e   n w   w h e n   h e   e ...</td>\n",
       "    </tr>\n",
       "    <tr>\n",
       "      <th>60</th>\n",
       "      <td>978-1-101-13806-9</td>\n",
       "      <td>Cujo</td>\n",
       "      <td>1981</td>\n",
       "      <td>g r e e n   g r   m e r !</td>\n",
       "    </tr>\n",
       "    <tr>\n",
       "      <th>60</th>\n",
       "      <td>978-1-101-13806-9</td>\n",
       "      <td>Cujo</td>\n",
       "      <td>1981</td>\n",
       "      <td>” \\n \\n “ t h     e v v e ?</td>\n",
       "    </tr>\n",
       "    <tr>\n",
       "      <th>60</th>\n",
       "      <td>978-1-101-13806-9</td>\n",
       "      <td>Cujo</td>\n",
       "      <td>1981</td>\n",
       "      <td>”   g e r g e   r e p l e   n c e   e   r e p ...</td>\n",
       "    </tr>\n",
       "    <tr>\n",
       "      <th>60</th>\n",
       "      <td>978-1-101-13806-9</td>\n",
       "      <td>Cujo</td>\n",
       "      <td>1981</td>\n",
       "      <td>” \\n \\n “ t h a t   s o   a u n t   e v v i e ?</td>\n",
       "    </tr>\n",
       "    <tr>\n",
       "      <th>60</th>\n",
       "      <td>978-1-101-13806-9</td>\n",
       "      <td>Cujo</td>\n",
       "      <td>1981</td>\n",
       "      <td>”   g e r g e   m e r   c r e e   s l v   f l ...</td>\n",
       "    </tr>\n",
       "    <tr>\n",
       "      <th>...</th>\n",
       "      <td>...</td>\n",
       "      <td>...</td>\n",
       "      <td>...</td>\n",
       "      <td>...</td>\n",
       "    </tr>\n",
       "    <tr>\n",
       "      <th>60</th>\n",
       "      <td>978-1-101-13806-9</td>\n",
       "      <td>Cujo</td>\n",
       "      <td>1981</td>\n",
       "      <td>w h '   g n g     h p p e n     d n n ?</td>\n",
       "    </tr>\n",
       "    <tr>\n",
       "      <th>60</th>\n",
       "      <td>978-1-101-13806-9</td>\n",
       "      <td>Cujo</td>\n",
       "      <td>1981</td>\n",
       "      <td>a n h e r   p l c e   c r   p u l l e   u p   ...</td>\n",
       "    </tr>\n",
       "    <tr>\n",
       "      <th>60</th>\n",
       "      <td>978-1-101-13806-9</td>\n",
       "      <td>Cujo</td>\n",
       "      <td>1981</td>\n",
       "      <td>y u   h v e   n   b u n e   h e r e \\n \\n n   ...</td>\n",
       "    </tr>\n",
       "    <tr>\n",
       "      <th>60</th>\n",
       "      <td>978-1-101-13806-9</td>\n",
       "      <td>Cujo</td>\n",
       "      <td>1981</td>\n",
       "      <td>y u   c n '   f   u n e r   h e r e \\n \\n n   ...</td>\n",
       "    </tr>\n",
       "    <tr>\n",
       "      <th>60</th>\n",
       "      <td>978-1-101-13806-9</td>\n",
       "      <td>Cujo</td>\n",
       "      <td>1981</td>\n",
       "      <td>i '     l l   n   h e r e \\n \\n n   n e r   u ...</td>\n",
       "    </tr>\n",
       "    <tr>\n",
       "      <th>60</th>\n",
       "      <td>978-1-101-13806-9</td>\n",
       "      <td>Cujo</td>\n",
       "      <td>1981</td>\n",
       "      <td>y u   c n '   h l   n   u   h e r e \\n \\n n   ...</td>\n",
       "    </tr>\n",
       "    <tr>\n",
       "      <th>60</th>\n",
       "      <td>978-1-101-13806-9</td>\n",
       "      <td>Cujo</td>\n",
       "      <td>1981</td>\n",
       "      <td>”   h e   \\n \\n \\n \\n \\n \\n h l l   w c h e   ...</td>\n",
       "    </tr>\n",
       "    <tr>\n",
       "      <th>60</th>\n",
       "      <td>978-1-101-13806-9</td>\n",
       "      <td>Cujo</td>\n",
       "      <td>1981</td>\n",
       "      <td>w h ?</td>\n",
       "    </tr>\n",
       "    <tr>\n",
       "      <th>60</th>\n",
       "      <td>978-1-101-13806-9</td>\n",
       "      <td>Cujo</td>\n",
       "      <td>1981</td>\n",
       "      <td>n         n !</td>\n",
       "    </tr>\n",
       "    <tr>\n",
       "      <th>60</th>\n",
       "      <td>978-1-101-13806-9</td>\n",
       "      <td>Cujo</td>\n",
       "      <td>1981</td>\n",
       "      <td>t h e r e   u   b e   e   k e   i   e l l   u ...</td>\n",
       "    </tr>\n",
       "    <tr>\n",
       "      <th>60</th>\n",
       "      <td>978-1-101-13806-9</td>\n",
       "      <td>Cujo</td>\n",
       "      <td>1981</td>\n",
       "      <td>h e   f e l   l k e   h r e k n g   i   k n e ...</td>\n",
       "    </tr>\n",
       "    <tr>\n",
       "      <th>60</th>\n",
       "      <td>978-1-101-13806-9</td>\n",
       "      <td>Cujo</td>\n",
       "      <td>1981</td>\n",
       "      <td>” \\n \\n “ t h   w     n   f r   a u g u   n e ...</td>\n",
       "    </tr>\n",
       "    <tr>\n",
       "      <th>60</th>\n",
       "      <td>978-1-101-13806-9</td>\n",
       "      <td>Cujo</td>\n",
       "      <td>1981</td>\n",
       "      <td>” \\n \\n c h r   l k e   r e c l     h e r   h ...</td>\n",
       "    </tr>\n",
       "    <tr>\n",
       "      <th>60</th>\n",
       "      <td>978-1-101-13806-9</td>\n",
       "      <td>Cujo</td>\n",
       "      <td>1981</td>\n",
       "      <td>i f   h e   h   e e n   c h r   c b e r '   f ...</td>\n",
       "    </tr>\n",
       "    <tr>\n",
       "      <th>60</th>\n",
       "      <td>978-1-101-13806-9</td>\n",
       "      <td>Cujo</td>\n",
       "      <td>1981</td>\n",
       "      <td>” \\n \\n “ i   w   h e   g ”   c h r     “ i   ...</td>\n",
       "    </tr>\n",
       "    <tr>\n",
       "      <th>60</th>\n",
       "      <td>978-1-101-13806-9</td>\n",
       "      <td>Cujo</td>\n",
       "      <td>1981</td>\n",
       "      <td>”   a   f r   h e   w   b e w l e r e   u n b ...</td>\n",
       "    </tr>\n",
       "    <tr>\n",
       "      <th>60</th>\n",
       "      <td>978-1-101-13806-9</td>\n",
       "      <td>Cujo</td>\n",
       "      <td>1981</td>\n",
       "      <td>” \\n \\n b e f r e   c h r   c u l   r e p l — ...</td>\n",
       "    </tr>\n",
       "    <tr>\n",
       "      <th>60</th>\n",
       "      <td>978-1-101-13806-9</td>\n",
       "      <td>Cujo</td>\n",
       "      <td>1981</td>\n",
       "      <td>” \\n \\n h l l   h   n   n w e r   f r   h e r ...</td>\n",
       "    </tr>\n",
       "    <tr>\n",
       "      <th>60</th>\n",
       "      <td>978-1-101-13806-9</td>\n",
       "      <td>Cujo</td>\n",
       "      <td>1981</td>\n",
       "      <td>”   h e   n g e   n   n   u n e   v c e   “ v ...</td>\n",
       "    </tr>\n",
       "    <tr>\n",
       "      <th>60</th>\n",
       "      <td>978-1-101-13806-9</td>\n",
       "      <td>Cujo</td>\n",
       "      <td>1981</td>\n",
       "      <td>” \\n \\n “ i   n '   k n w ”   h e     “ i   h ...</td>\n",
       "    </tr>\n",
       "    <tr>\n",
       "      <th>60</th>\n",
       "      <td>978-1-101-13806-9</td>\n",
       "      <td>Cujo</td>\n",
       "      <td>1981</td>\n",
       "      <td>t h e   j u   g e   l n g   a n   r     h e l ...</td>\n",
       "    </tr>\n",
       "    <tr>\n",
       "      <th>60</th>\n",
       "      <td>978-1-101-13806-9</td>\n",
       "      <td>Cujo</td>\n",
       "      <td>1981</td>\n",
       "      <td>” \\n \\n “ w h ?</td>\n",
       "    </tr>\n",
       "    <tr>\n",
       "      <th>60</th>\n",
       "      <td>978-1-101-13806-9</td>\n",
       "      <td>Cujo</td>\n",
       "      <td>1981</td>\n",
       "      <td>” \\n \\n h e r   h r   w r k e   “ i   l v e   ...</td>\n",
       "    </tr>\n",
       "    <tr>\n",
       "      <th>60</th>\n",
       "      <td>978-1-101-13806-9</td>\n",
       "      <td>Cujo</td>\n",
       "      <td>1981</td>\n",
       "      <td>m ?</td>\n",
       "    </tr>\n",
       "    <tr>\n",
       "      <th>60</th>\n",
       "      <td>978-1-101-13806-9</td>\n",
       "      <td>Cujo</td>\n",
       "      <td>1981</td>\n",
       "      <td>i   — ” \\n \\n “ a l v   b r u g h   h   v e r ...</td>\n",
       "    </tr>\n",
       "    <tr>\n",
       "      <th>60</th>\n",
       "      <td>978-1-101-13806-9</td>\n",
       "      <td>Cujo</td>\n",
       "      <td>1981</td>\n",
       "      <td>”   b r e   k e   n   h e r   h e r   b r k e ...</td>\n",
       "    </tr>\n",
       "    <tr>\n",
       "      <th>60</th>\n",
       "      <td>978-1-101-13806-9</td>\n",
       "      <td>Cujo</td>\n",
       "      <td>1981</td>\n",
       "      <td>”   b r e   k e \\n \\n “ d e n '   h v e     n ...</td>\n",
       "    </tr>\n",
       "    <tr>\n",
       "      <th>60</th>\n",
       "      <td>978-1-101-13806-9</td>\n",
       "      <td>Cujo</td>\n",
       "      <td>1981</td>\n",
       "      <td>” \\n \\n “ y e ”   h e     n   h e n   l u g h ...</td>\n",
       "    </tr>\n",
       "    <tr>\n",
       "      <th>60</th>\n",
       "      <td>978-1-101-13806-9</td>\n",
       "      <td>Cujo</td>\n",
       "      <td>1981</td>\n",
       "      <td>i '   r e     n w   g n ” \\n \\n “ h e   c n   ...</td>\n",
       "    </tr>\n",
       "    <tr>\n",
       "      <th>60</th>\n",
       "      <td>978-1-101-13806-9</td>\n",
       "      <td>Cujo</td>\n",
       "      <td>1981</td>\n",
       "      <td>” \\n \\n “ i   n '   k n w ”   b r e     t h e ...</td>\n",
       "    </tr>\n",
       "  </tbody>\n",
       "</table>\n",
       "<p>1088 rows × 4 columns</p>\n",
       "</div>"
      ],
      "text/plain": [
       "                 isbn title  year  \\\n",
       "60  978-1-101-13806-9  Cujo  1981   \n",
       "60  978-1-101-13806-9  Cujo  1981   \n",
       "60  978-1-101-13806-9  Cujo  1981   \n",
       "60  978-1-101-13806-9  Cujo  1981   \n",
       "60  978-1-101-13806-9  Cujo  1981   \n",
       "60  978-1-101-13806-9  Cujo  1981   \n",
       "60  978-1-101-13806-9  Cujo  1981   \n",
       "60  978-1-101-13806-9  Cujo  1981   \n",
       "60  978-1-101-13806-9  Cujo  1981   \n",
       "60  978-1-101-13806-9  Cujo  1981   \n",
       "60  978-1-101-13806-9  Cujo  1981   \n",
       "60  978-1-101-13806-9  Cujo  1981   \n",
       "60  978-1-101-13806-9  Cujo  1981   \n",
       "60  978-1-101-13806-9  Cujo  1981   \n",
       "60  978-1-101-13806-9  Cujo  1981   \n",
       "60  978-1-101-13806-9  Cujo  1981   \n",
       "60  978-1-101-13806-9  Cujo  1981   \n",
       "60  978-1-101-13806-9  Cujo  1981   \n",
       "60  978-1-101-13806-9  Cujo  1981   \n",
       "60  978-1-101-13806-9  Cujo  1981   \n",
       "60  978-1-101-13806-9  Cujo  1981   \n",
       "60  978-1-101-13806-9  Cujo  1981   \n",
       "60  978-1-101-13806-9  Cujo  1981   \n",
       "60  978-1-101-13806-9  Cujo  1981   \n",
       "60  978-1-101-13806-9  Cujo  1981   \n",
       "60  978-1-101-13806-9  Cujo  1981   \n",
       "60  978-1-101-13806-9  Cujo  1981   \n",
       "60  978-1-101-13806-9  Cujo  1981   \n",
       "60  978-1-101-13806-9  Cujo  1981   \n",
       "60  978-1-101-13806-9  Cujo  1981   \n",
       "..                ...   ...   ...   \n",
       "60  978-1-101-13806-9  Cujo  1981   \n",
       "60  978-1-101-13806-9  Cujo  1981   \n",
       "60  978-1-101-13806-9  Cujo  1981   \n",
       "60  978-1-101-13806-9  Cujo  1981   \n",
       "60  978-1-101-13806-9  Cujo  1981   \n",
       "60  978-1-101-13806-9  Cujo  1981   \n",
       "60  978-1-101-13806-9  Cujo  1981   \n",
       "60  978-1-101-13806-9  Cujo  1981   \n",
       "60  978-1-101-13806-9  Cujo  1981   \n",
       "60  978-1-101-13806-9  Cujo  1981   \n",
       "60  978-1-101-13806-9  Cujo  1981   \n",
       "60  978-1-101-13806-9  Cujo  1981   \n",
       "60  978-1-101-13806-9  Cujo  1981   \n",
       "60  978-1-101-13806-9  Cujo  1981   \n",
       "60  978-1-101-13806-9  Cujo  1981   \n",
       "60  978-1-101-13806-9  Cujo  1981   \n",
       "60  978-1-101-13806-9  Cujo  1981   \n",
       "60  978-1-101-13806-9  Cujo  1981   \n",
       "60  978-1-101-13806-9  Cujo  1981   \n",
       "60  978-1-101-13806-9  Cujo  1981   \n",
       "60  978-1-101-13806-9  Cujo  1981   \n",
       "60  978-1-101-13806-9  Cujo  1981   \n",
       "60  978-1-101-13806-9  Cujo  1981   \n",
       "60  978-1-101-13806-9  Cujo  1981   \n",
       "60  978-1-101-13806-9  Cujo  1981   \n",
       "60  978-1-101-13806-9  Cujo  1981   \n",
       "60  978-1-101-13806-9  Cujo  1981   \n",
       "60  978-1-101-13806-9  Cujo  1981   \n",
       "60  978-1-101-13806-9  Cujo  1981   \n",
       "60  978-1-101-13806-9  Cujo  1981   \n",
       "\n",
       "                                              content  \n",
       "60    p g e \\n \\n c p r g h   p g e \\n \\n d e c n ...  \n",
       "60  ”   f r   h e   e   r — h   h e r \\n \\n t h e ...  \n",
       "60  ” \\n \\n a n   h e n   h     w   n   h e   b e ...  \n",
       "60  ”   h     k e   h   g n \\n \\n “ t h e r e   w ...  \n",
       "60                  ”   t   c r e   “ i n     c l e !  \n",
       "60  ”   a n   h e   b u r   n   e r \\n \\n h       ...  \n",
       "60  ” \\n \\n “ y e ”   t     n   h e n   f r c e   ...  \n",
       "60  ” \\n \\n “ r e l l ”   h       “ n w   i   w n ...  \n",
       "60  ” \\n \\n s   h e   w e n   n   n   h e   w c h ...  \n",
       "60  y u     h v e     g ” \\n \\n r e g n e   t   n ...  \n",
       "60  i n   l l   h e   v e   h e   c c h   h e   l ...  \n",
       "60  o h   p l e e   h   p l e e   h   p l e e — \\n...  \n",
       "60  h e   c h e e k   g r n n n g   c h p u n k   ...  \n",
       "60  h e   w u l   l e e p   n   r e   h   n g h \\n...  \n",
       "60  ”   d n n   k e   h e r   h u b n   h e   n e ...  \n",
       "60  ”   v c   k e   h e   w   b u r e   e e p   n ...  \n",
       "60  ” \\n \\n “ n   e ”   v c     u r n n g     p g ...  \n",
       "60  ” \\n \\n “ y u   r e e b e r   h e   b   r e   ...  \n",
       "60  t h e   c l e   r   h u n g   j r   b l n k e ...  \n",
       "60                  ”   g e r g e   k e \\n \\n “ w h ?  \n",
       "60                        ” \\n \\n “ i     ' i   h   ?  \n",
       "60     ”   t h   w   h e   h e r   h n g   b u   a...  \n",
       "60  ”   a u n   e v v e   c r e e   t h e   h   f ...  \n",
       "60  t   n e e u   e e n   e e r   u   b   m u n c ...  \n",
       "60  g r   u n e r   h e   n w   w h e n   h e   e ...  \n",
       "60                          g r e e n   g r   m e r !  \n",
       "60                        ” \\n \\n “ t h     e v v e ?  \n",
       "60  ”   g e r g e   r e p l e   n c e   e   r e p ...  \n",
       "60    ” \\n \\n “ t h a t   s o   a u n t   e v v i e ?  \n",
       "60  ”   g e r g e   m e r   c r e e   s l v   f l ...  \n",
       "..                                                ...  \n",
       "60            w h '   g n g     h p p e n     d n n ?  \n",
       "60  a n h e r   p l c e   c r   p u l l e   u p   ...  \n",
       "60  y u   h v e   n   b u n e   h e r e \\n \\n n   ...  \n",
       "60  y u   c n '   f   u n e r   h e r e \\n \\n n   ...  \n",
       "60  i '     l l   n   h e r e \\n \\n n   n e r   u ...  \n",
       "60  y u   c n '   h l   n   u   h e r e \\n \\n n   ...  \n",
       "60  ”   h e   \\n \\n \\n \\n \\n \\n h l l   w c h e   ...  \n",
       "60                                              w h ?  \n",
       "60                                      n         n !  \n",
       "60  t h e r e   u   b e   e   k e   i   e l l   u ...  \n",
       "60  h e   f e l   l k e   h r e k n g   i   k n e ...  \n",
       "60  ” \\n \\n “ t h   w     n   f r   a u g u   n e ...  \n",
       "60  ” \\n \\n c h r   l k e   r e c l     h e r   h ...  \n",
       "60  i f   h e   h   e e n   c h r   c b e r '   f ...  \n",
       "60  ” \\n \\n “ i   w   h e   g ”   c h r     “ i   ...  \n",
       "60  ”   a   f r   h e   w   b e w l e r e   u n b ...  \n",
       "60  ” \\n \\n b e f r e   c h r   c u l   r e p l — ...  \n",
       "60  ” \\n \\n h l l   h   n   n w e r   f r   h e r ...  \n",
       "60  ”   h e   n g e   n   n   u n e   v c e   “ v ...  \n",
       "60  ” \\n \\n “ i   n '   k n w ”   h e     “ i   h ...  \n",
       "60  t h e   j u   g e   l n g   a n   r     h e l ...  \n",
       "60                                    ” \\n \\n “ w h ?  \n",
       "60  ” \\n \\n h e r   h r   w r k e   “ i   l v e   ...  \n",
       "60                                                m ?  \n",
       "60  i   — ” \\n \\n “ a l v   b r u g h   h   v e r ...  \n",
       "60  ”   b r e   k e   n   h e r   h e r   b r k e ...  \n",
       "60  ”   b r e   k e \\n \\n “ d e n '   h v e     n ...  \n",
       "60  ” \\n \\n “ y e ”   h e     n   h e n   l u g h ...  \n",
       "60  i '   r e     n w   g n ” \\n \\n “ h e   c n   ...  \n",
       "60  ” \\n \\n “ i   n '   k n w ”   b r e     t h e ...  \n",
       "\n",
       "[1088 rows x 4 columns]"
      ]
     },
     "execution_count": 47,
     "metadata": {},
     "output_type": "execute_result"
    }
   ],
   "source": [
    "cujoDF"
   ]
  },
  {
   "cell_type": "code",
   "execution_count": 48,
   "metadata": {
    "ExecuteTime": {
     "end_time": "2018-07-09T16:52:22.289732Z",
     "start_time": "2018-07-09T16:52:22.286836Z"
    }
   },
   "outputs": [],
   "source": [
    "books = sentDF.content"
   ]
  },
  {
   "cell_type": "markdown",
   "metadata": {},
   "source": [
    "### Processing Sentences"
   ]
  },
  {
   "cell_type": "code",
   "execution_count": 49,
   "metadata": {
    "ExecuteTime": {
     "end_time": "2018-07-09T16:52:22.294419Z",
     "start_time": "2018-07-09T16:52:22.291786Z"
    }
   },
   "outputs": [],
   "source": [
    "# totalvocab_stemmed = []\n",
    "# totalvocab_tokenized = []\n",
    "# for i in books:\n",
    "#     allwords_stemmed = tokenize_and_stem(i) #for each item in 'synopses', tokenize/stem\n",
    "#     totalvocab_stemmed.extend(allwords_stemmed) #extend the 'totalvocab_stemmed' list\n",
    "    \n",
    "#     allwords_tokenized = tokenize_only(i)\n",
    "#     totalvocab_tokenized.extend(allwords_tokenized)"
   ]
  },
  {
   "cell_type": "code",
   "execution_count": 50,
   "metadata": {
    "ExecuteTime": {
     "end_time": "2018-07-09T16:52:22.299363Z",
     "start_time": "2018-07-09T16:52:22.296548Z"
    }
   },
   "outputs": [],
   "source": [
    "# totalvocab_stemmed"
   ]
  },
  {
   "cell_type": "code",
   "execution_count": 51,
   "metadata": {
    "ExecuteTime": {
     "end_time": "2018-07-09T16:52:22.303381Z",
     "start_time": "2018-07-09T16:52:22.301109Z"
    }
   },
   "outputs": [],
   "source": [
    "titles = sentDF.title\n",
    "#titles"
   ]
  },
  {
   "cell_type": "code",
   "execution_count": 52,
   "metadata": {
    "ExecuteTime": {
     "end_time": "2018-07-09T16:52:22.308501Z",
     "start_time": "2018-07-09T16:52:22.305083Z"
    }
   },
   "outputs": [
    {
     "data": {
      "text/plain": [
       "110219"
      ]
     },
     "execution_count": 52,
     "metadata": {},
     "output_type": "execute_result"
    }
   ],
   "source": [
    "len(books)"
   ]
  },
  {
   "cell_type": "code",
   "execution_count": 53,
   "metadata": {
    "ExecuteTime": {
     "end_time": "2018-07-09T16:52:22.318496Z",
     "start_time": "2018-07-09T16:52:22.310433Z"
    }
   },
   "outputs": [
    {
     "data": {
      "text/html": [
       "<div>\n",
       "<style scoped>\n",
       "    .dataframe tbody tr th:only-of-type {\n",
       "        vertical-align: middle;\n",
       "    }\n",
       "\n",
       "    .dataframe tbody tr th {\n",
       "        vertical-align: top;\n",
       "    }\n",
       "\n",
       "    .dataframe thead th {\n",
       "        text-align: right;\n",
       "    }\n",
       "</style>\n",
       "<table border=\"1\" class=\"dataframe\">\n",
       "  <thead>\n",
       "    <tr style=\"text-align: right;\">\n",
       "      <th></th>\n",
       "      <th>isbn</th>\n",
       "      <th>title</th>\n",
       "      <th>year</th>\n",
       "      <th>content</th>\n",
       "    </tr>\n",
       "  </thead>\n",
       "  <tbody>\n",
       "    <tr>\n",
       "      <th>0</th>\n",
       "      <td>9780062215956</td>\n",
       "      <td>Throttle</td>\n",
       "      <td>2009</td>\n",
       "      <td>b   “ d u e l ” \\n \\n j e   h l l   n   s e ...</td>\n",
       "    </tr>\n",
       "    <tr>\n",
       "      <th>0</th>\n",
       "      <td>9780062215956</td>\n",
       "      <td>Throttle</td>\n",
       "      <td>2009</td>\n",
       "      <td>c l r k e '   g n e   s '   h e   n e   t h e ...</td>\n",
       "    </tr>\n",
       "    <tr>\n",
       "      <th>0</th>\n",
       "      <td>9780062215956</td>\n",
       "      <td>Throttle</td>\n",
       "      <td>2009</td>\n",
       "      <td>” \\n \\n “ c l r k e '   e r ” \\n \\n “ w h   w ...</td>\n",
       "    </tr>\n",
       "    <tr>\n",
       "      <th>0</th>\n",
       "      <td>9780062215956</td>\n",
       "      <td>Throttle</td>\n",
       "      <td>2009</td>\n",
       "      <td>” \\n \\n “ f r   h e   n e   c e   u   h n '   ...</td>\n",
       "    </tr>\n",
       "    <tr>\n",
       "      <th>0</th>\n",
       "      <td>9780062215956</td>\n",
       "      <td>Throttle</td>\n",
       "      <td>2009</td>\n",
       "      <td>y u   e e   c l r k e   h n g n g   u p   h e ...</td>\n",
       "    </tr>\n",
       "  </tbody>\n",
       "</table>\n",
       "</div>"
      ],
      "text/plain": [
       "            isbn     title  year  \\\n",
       "0  9780062215956  Throttle  2009   \n",
       "0  9780062215956  Throttle  2009   \n",
       "0  9780062215956  Throttle  2009   \n",
       "0  9780062215956  Throttle  2009   \n",
       "0  9780062215956  Throttle  2009   \n",
       "\n",
       "                                             content  \n",
       "0    b   “ d u e l ” \\n \\n j e   h l l   n   s e ...  \n",
       "0  c l r k e '   g n e   s '   h e   n e   t h e ...  \n",
       "0  ” \\n \\n “ c l r k e '   e r ” \\n \\n “ w h   w ...  \n",
       "0  ” \\n \\n “ f r   h e   n e   c e   u   h n '   ...  \n",
       "0  y u   e e   c l r k e   h n g n g   u p   h e ...  "
      ]
     },
     "execution_count": 53,
     "metadata": {},
     "output_type": "execute_result"
    }
   ],
   "source": [
    "sentDF.head()"
   ]
  },
  {
   "cell_type": "markdown",
   "metadata": {},
   "source": [
    "## Sentiment Analysis"
   ]
  },
  {
   "cell_type": "code",
   "execution_count": 54,
   "metadata": {
    "ExecuteTime": {
     "end_time": "2018-07-09T16:52:22.433371Z",
     "start_time": "2018-07-09T16:52:22.320300Z"
    }
   },
   "outputs": [],
   "source": [
    "dfRaw = pd.read_pickle('books.pkl')"
   ]
  },
  {
   "cell_type": "code",
   "execution_count": 55,
   "metadata": {
    "ExecuteTime": {
     "end_time": "2018-07-09T16:52:22.440498Z",
     "start_time": "2018-07-09T16:52:22.435494Z"
    }
   },
   "outputs": [],
   "source": [
    "#Cujo Test\n",
    "cujo = dfRaw.loc[dfRaw['title'] == 'Cujo']"
   ]
  },
  {
   "cell_type": "code",
   "execution_count": 56,
   "metadata": {
    "ExecuteTime": {
     "end_time": "2018-07-09T16:52:22.451097Z",
     "start_time": "2018-07-09T16:52:22.442872Z"
    }
   },
   "outputs": [],
   "source": [
    "cujo.to_pickle('cujodf.pkl')"
   ]
  },
  {
   "cell_type": "code",
   "execution_count": 57,
   "metadata": {
    "ExecuteTime": {
     "end_time": "2018-07-09T16:52:22.462923Z",
     "start_time": "2018-07-09T16:52:22.454123Z"
    }
   },
   "outputs": [
    {
     "data": {
      "text/plain": [
       "60     Page\\n\\nCopyright Page\\n\\nDedication\\n\\n\\n\\n\\...\n",
       "Name: content, dtype: object"
      ]
     },
     "execution_count": 57,
     "metadata": {},
     "output_type": "execute_result"
    }
   ],
   "source": [
    "cujo.content"
   ]
  },
  {
   "cell_type": "code",
   "execution_count": 58,
   "metadata": {
    "ExecuteTime": {
     "end_time": "2018-07-09T16:52:22.582942Z",
     "start_time": "2018-07-09T16:52:22.464786Z"
    }
   },
   "outputs": [
    {
     "data": {
      "text/plain": [
       "Sentiment(polarity=0.0, subjectivity=0.0)"
      ]
     },
     "execution_count": 58,
     "metadata": {},
     "output_type": "execute_result"
    }
   ],
   "source": [
    "TextBlob(str(cujo.content)).sentiment"
   ]
  },
  {
   "cell_type": "code",
   "execution_count": 59,
   "metadata": {
    "ExecuteTime": {
     "end_time": "2018-07-09T16:52:23.629280Z",
     "start_time": "2018-07-09T16:52:22.584365Z"
    }
   },
   "outputs": [
    {
     "name": "stderr",
     "output_type": "stream",
     "text": [
      "/Users/xavier/anaconda/lib/python3.6/site-packages/ipykernel_launcher.py:1: SettingWithCopyWarning: \n",
      "A value is trying to be set on a copy of a slice from a DataFrame.\n",
      "Try using .loc[row_indexer,col_indexer] = value instead\n",
      "\n",
      "See the caveats in the documentation: http://pandas.pydata.org/pandas-docs/stable/indexing.html#indexing-view-versus-copy\n",
      "  \"\"\"Entry point for launching an IPython kernel.\n"
     ]
    }
   ],
   "source": [
    "cujoDF['sentiment'] = cujoDF.content.apply(lambda x: TextBlob(x).sentiment[0])"
   ]
  },
  {
   "cell_type": "code",
   "execution_count": 60,
   "metadata": {
    "ExecuteTime": {
     "end_time": "2018-07-09T16:53:56.461016Z",
     "start_time": "2018-07-09T16:52:23.631955Z"
    }
   },
   "outputs": [],
   "source": [
    "sentDF['sentiment'] = sentDF.content.apply(lambda x: TextBlob(x).sentiment[0])"
   ]
  },
  {
   "cell_type": "code",
   "execution_count": 61,
   "metadata": {
    "ExecuteTime": {
     "end_time": "2018-07-09T16:53:56.718914Z",
     "start_time": "2018-07-09T16:53:56.464726Z"
    }
   },
   "outputs": [],
   "source": [
    "sentDF.to_pickle('sentiment.pkl')"
   ]
  },
  {
   "cell_type": "code",
   "execution_count": 62,
   "metadata": {
    "ExecuteTime": {
     "end_time": "2018-07-09T16:53:56.731656Z",
     "start_time": "2018-07-09T16:53:56.720667Z"
    }
   },
   "outputs": [
    {
     "data": {
      "text/html": [
       "<div>\n",
       "<style scoped>\n",
       "    .dataframe tbody tr th:only-of-type {\n",
       "        vertical-align: middle;\n",
       "    }\n",
       "\n",
       "    .dataframe tbody tr th {\n",
       "        vertical-align: top;\n",
       "    }\n",
       "\n",
       "    .dataframe thead th {\n",
       "        text-align: right;\n",
       "    }\n",
       "</style>\n",
       "<table border=\"1\" class=\"dataframe\">\n",
       "  <thead>\n",
       "    <tr style=\"text-align: right;\">\n",
       "      <th></th>\n",
       "      <th>isbn</th>\n",
       "      <th>title</th>\n",
       "      <th>year</th>\n",
       "      <th>content</th>\n",
       "      <th>sentiment</th>\n",
       "    </tr>\n",
       "  </thead>\n",
       "  <tbody>\n",
       "    <tr>\n",
       "      <th>0</th>\n",
       "      <td>9780062215956</td>\n",
       "      <td>Throttle</td>\n",
       "      <td>2009</td>\n",
       "      <td>b   “ d u e l ” \\n \\n j e   h l l   n   s e ...</td>\n",
       "      <td>0.0</td>\n",
       "    </tr>\n",
       "    <tr>\n",
       "      <th>0</th>\n",
       "      <td>9780062215956</td>\n",
       "      <td>Throttle</td>\n",
       "      <td>2009</td>\n",
       "      <td>c l r k e '   g n e   s '   h e   n e   t h e ...</td>\n",
       "      <td>0.0</td>\n",
       "    </tr>\n",
       "    <tr>\n",
       "      <th>0</th>\n",
       "      <td>9780062215956</td>\n",
       "      <td>Throttle</td>\n",
       "      <td>2009</td>\n",
       "      <td>” \\n \\n “ c l r k e '   e r ” \\n \\n “ w h   w ...</td>\n",
       "      <td>0.0</td>\n",
       "    </tr>\n",
       "    <tr>\n",
       "      <th>0</th>\n",
       "      <td>9780062215956</td>\n",
       "      <td>Throttle</td>\n",
       "      <td>2009</td>\n",
       "      <td>” \\n \\n “ f r   h e   n e   c e   u   h n '   ...</td>\n",
       "      <td>0.0</td>\n",
       "    </tr>\n",
       "    <tr>\n",
       "      <th>0</th>\n",
       "      <td>9780062215956</td>\n",
       "      <td>Throttle</td>\n",
       "      <td>2009</td>\n",
       "      <td>y u   e e   c l r k e   h n g n g   u p   h e ...</td>\n",
       "      <td>0.0</td>\n",
       "    </tr>\n",
       "  </tbody>\n",
       "</table>\n",
       "</div>"
      ],
      "text/plain": [
       "            isbn     title  year  \\\n",
       "0  9780062215956  Throttle  2009   \n",
       "0  9780062215956  Throttle  2009   \n",
       "0  9780062215956  Throttle  2009   \n",
       "0  9780062215956  Throttle  2009   \n",
       "0  9780062215956  Throttle  2009   \n",
       "\n",
       "                                             content  sentiment  \n",
       "0    b   “ d u e l ” \\n \\n j e   h l l   n   s e ...        0.0  \n",
       "0  c l r k e '   g n e   s '   h e   n e   t h e ...        0.0  \n",
       "0  ” \\n \\n “ c l r k e '   e r ” \\n \\n “ w h   w ...        0.0  \n",
       "0  ” \\n \\n “ f r   h e   n e   c e   u   h n '   ...        0.0  \n",
       "0  y u   e e   c l r k e   h n g n g   u p   h e ...        0.0  "
      ]
     },
     "execution_count": 62,
     "metadata": {},
     "output_type": "execute_result"
    }
   ],
   "source": [
    "sentDF.head()"
   ]
  },
  {
   "cell_type": "markdown",
   "metadata": {},
   "source": [
    "### Smoothing"
   ]
  },
  {
   "cell_type": "code",
   "execution_count": 63,
   "metadata": {
    "ExecuteTime": {
     "end_time": "2018-07-09T16:53:57.047161Z",
     "start_time": "2018-07-09T16:53:56.733845Z"
    }
   },
   "outputs": [
    {
     "name": "stderr",
     "output_type": "stream",
     "text": [
      "/Users/xavier/anaconda/lib/python3.6/site-packages/numpy/core/fromnumeric.py:2957: RuntimeWarning: Mean of empty slice.\n",
      "  out=out, **kwargs)\n",
      "/Users/xavier/anaconda/lib/python3.6/site-packages/numpy/core/_methods.py:80: RuntimeWarning: invalid value encountered in double_scalars\n",
      "  ret = ret.dtype.type(ret / rcount)\n"
     ]
    },
    {
     "data": {
      "image/png": "[encoded data removed]",
      "text/plain": [
       "<Figure size 432x288 with 1 Axes>"
      ]
     },
     "metadata": {},
     "output_type": "display_data"
    }
   ],
   "source": [
    "plot_story('Dark Tower, The',sentDF)"
   ]
  },
  {
   "cell_type": "code",
   "execution_count": 64,
   "metadata": {
    "ExecuteTime": {
     "end_time": "2018-07-09T16:53:57.202545Z",
     "start_time": "2018-07-09T16:53:57.049908Z"
    }
   },
   "outputs": [
    {
     "name": "stderr",
     "output_type": "stream",
     "text": [
      "/Users/xavier/anaconda/lib/python3.6/site-packages/numpy/core/fromnumeric.py:2957: RuntimeWarning: Mean of empty slice.\n",
      "  out=out, **kwargs)\n",
      "/Users/xavier/anaconda/lib/python3.6/site-packages/numpy/core/_methods.py:80: RuntimeWarning: invalid value encountered in double_scalars\n",
      "  ret = ret.dtype.type(ret / rcount)\n"
     ]
    },
    {
     "data": {
      "image/png": "[encoded data removed]",
      "text/plain": [
       "<Figure size 432x288 with 1 Axes>"
      ]
     },
     "metadata": {},
     "output_type": "display_data"
    }
   ],
   "source": [
    "plot_story('Girl Who Loved Tom Gordon_ A Novel, The',sentDF)"
   ]
  },
  {
   "cell_type": "code",
   "execution_count": 65,
   "metadata": {
    "ExecuteTime": {
     "end_time": "2018-07-09T16:53:57.499729Z",
     "start_time": "2018-07-09T16:53:57.204662Z"
    }
   },
   "outputs": [
    {
     "data": {
      "image/png": "[encoded data removed]",
      "text/plain": [
       "<Figure size 432x288 with 1 Axes>"
      ]
     },
     "metadata": {},
     "output_type": "display_data"
    }
   ],
   "source": [
    "plot_story('Cujo',sentDF)"
   ]
  },
  {
   "cell_type": "code",
   "execution_count": 66,
   "metadata": {
    "ExecuteTime": {
     "end_time": "2018-07-09T16:53:58.630001Z",
     "start_time": "2018-07-09T16:53:57.501631Z"
    }
   },
   "outputs": [
    {
     "data": {
      "image/png": "[encoded data removed]",
      "text/plain": [
       "<Figure size 432x288 with 1 Axes>"
      ]
     },
     "metadata": {},
     "output_type": "display_data"
    }
   ],
   "source": [
    "plot_story('Gunslinger, The')"
   ]
  },
  {
   "cell_type": "code",
   "execution_count": 67,
   "metadata": {
    "ExecuteTime": {
     "end_time": "2018-07-09T16:54:12.078447Z",
     "start_time": "2018-07-09T16:53:58.633123Z"
    }
   },
   "outputs": [
    {
     "data": {
      "image/png": "[encoded data removed]",
      "text/plain": [
       "<Figure size 432x288 with 1 Axes>"
      ]
     },
     "metadata": {},
     "output_type": "display_data"
    }
   ],
   "source": [
    "plot_story('Stand, The')"
   ]
  },
  {
   "cell_type": "code",
   "execution_count": 68,
   "metadata": {
    "ExecuteTime": {
     "end_time": "2018-07-09T16:54:17.746127Z",
     "start_time": "2018-07-09T16:54:12.084641Z"
    }
   },
   "outputs": [
    {
     "data": {
      "image/png": "[encoded data removed]",
      "text/plain": [
       "<Figure size 432x288 with 1 Axes>"
      ]
     },
     "metadata": {},
     "output_type": "display_data"
    }
   ],
   "source": [
    "plot_story('Wizard and Glass')"
   ]
  },
  {
   "cell_type": "code",
   "execution_count": 69,
   "metadata": {
    "ExecuteTime": {
     "end_time": "2018-07-09T16:54:24.040424Z",
     "start_time": "2018-07-09T16:54:17.748808Z"
    },
    "scrolled": true
   },
   "outputs": [
    {
     "data": {
      "image/png": "[encoded data removed]",
      "text/plain": [
       "<Figure size 432x288 with 1 Axes>"
      ]
     },
     "metadata": {},
     "output_type": "display_data"
    }
   ],
   "source": [
    "plot_story('11_22_63')"
   ]
  },
  {
   "cell_type": "code",
   "execution_count": 70,
   "metadata": {
    "ExecuteTime": {
     "end_time": "2018-07-09T16:54:27.757033Z",
     "start_time": "2018-07-09T16:54:24.043535Z"
    }
   },
   "outputs": [
    {
     "data": {
      "image/png": "[encoded data removed]",
      "text/plain": [
       "<Figure size 432x288 with 1 Axes>"
      ]
     },
     "metadata": {},
     "output_type": "display_data"
    }
   ],
   "source": [
    "plot_story('Bag of Bones_ A Novel')"
   ]
  },
  {
   "cell_type": "code",
   "execution_count": 71,
   "metadata": {
    "ExecuteTime": {
     "end_time": "2018-07-09T16:54:30.455743Z",
     "start_time": "2018-07-09T16:54:27.759277Z"
    }
   },
   "outputs": [
    {
     "data": {
      "image/png": "[encoded data removed]",
      "text/plain": [
       "<Figure size 432x288 with 1 Axes>"
      ]
     },
     "metadata": {},
     "output_type": "display_data"
    }
   ],
   "source": [
    "plot_story('Shining, The')"
   ]
  },
  {
   "cell_type": "markdown",
   "metadata": {},
   "source": [
    "### Novel Sentiment Average"
   ]
  },
  {
   "cell_type": "code",
   "execution_count": 72,
   "metadata": {
    "ExecuteTime": {
     "end_time": "2018-07-09T16:54:30.488617Z",
     "start_time": "2018-07-09T16:54:30.459394Z"
    }
   },
   "outputs": [],
   "source": [
    "sentGroup = sentDF.groupby(['title','year']).sentiment.mean().reset_index()\n",
    "sentGroup.sort_values('sentiment',ascending=False,inplace=True)"
   ]
  },
  {
   "cell_type": "code",
   "execution_count": 73,
   "metadata": {
    "ExecuteTime": {
     "end_time": "2018-07-09T16:54:30.493235Z",
     "start_time": "2018-07-09T16:54:30.490606Z"
    }
   },
   "outputs": [],
   "source": [
    "year = sentDF.year"
   ]
  },
  {
   "cell_type": "code",
   "execution_count": 74,
   "metadata": {
    "ExecuteTime": {
     "end_time": "2018-07-09T16:54:30.497901Z",
     "start_time": "2018-07-09T16:54:30.495557Z"
    }
   },
   "outputs": [],
   "source": [
    "#sentGroup.merge(pd.DataFrame(data = [year.values] * len(year), columns = year.index),how=left, left_index=True, right_index=True)"
   ]
  },
  {
   "cell_type": "code",
   "execution_count": 75,
   "metadata": {
    "ExecuteTime": {
     "end_time": "2018-07-09T16:54:30.508722Z",
     "start_time": "2018-07-09T16:54:30.500081Z"
    }
   },
   "outputs": [
    {
     "data": {
      "text/html": [
       "<div>\n",
       "<style scoped>\n",
       "    .dataframe tbody tr th:only-of-type {\n",
       "        vertical-align: middle;\n",
       "    }\n",
       "\n",
       "    .dataframe tbody tr th {\n",
       "        vertical-align: top;\n",
       "    }\n",
       "\n",
       "    .dataframe thead th {\n",
       "        text-align: right;\n",
       "    }\n",
       "</style>\n",
       "<table border=\"1\" class=\"dataframe\">\n",
       "  <thead>\n",
       "    <tr style=\"text-align: right;\">\n",
       "      <th></th>\n",
       "      <th>title</th>\n",
       "      <th>year</th>\n",
       "      <th>sentiment</th>\n",
       "    </tr>\n",
       "  </thead>\n",
       "  <tbody>\n",
       "    <tr>\n",
       "      <th>4</th>\n",
       "      <td>Blockade Billy</td>\n",
       "      <td>2010</td>\n",
       "      <td>0.017742</td>\n",
       "    </tr>\n",
       "    <tr>\n",
       "      <th>67</th>\n",
       "      <td>the_girl_who_loved_tom_gordon.txt</td>\n",
       "      <td>1999</td>\n",
       "      <td>0.017236</td>\n",
       "    </tr>\n",
       "    <tr>\n",
       "      <th>37</th>\n",
       "      <td>Mile 81</td>\n",
       "      <td>2011</td>\n",
       "      <td>0.017127</td>\n",
       "    </tr>\n",
       "    <tr>\n",
       "      <th>34</th>\n",
       "      <td>Just After Sunset_ Stories</td>\n",
       "      <td>2008</td>\n",
       "      <td>0.010101</td>\n",
       "    </tr>\n",
       "    <tr>\n",
       "      <th>25</th>\n",
       "      <td>Gerald's Game</td>\n",
       "      <td>1992</td>\n",
       "      <td>0.008687</td>\n",
       "    </tr>\n",
       "  </tbody>\n",
       "</table>\n",
       "</div>"
      ],
      "text/plain": [
       "                                title  year  sentiment\n",
       "4                      Blockade Billy  2010   0.017742\n",
       "67  the_girl_who_loved_tom_gordon.txt  1999   0.017236\n",
       "37                            Mile 81  2011   0.017127\n",
       "34         Just After Sunset_ Stories  2008   0.010101\n",
       "25                      Gerald's Game  1992   0.008687"
      ]
     },
     "execution_count": 75,
     "metadata": {},
     "output_type": "execute_result"
    }
   ],
   "source": [
    "sentGroup.head()"
   ]
  },
  {
   "cell_type": "markdown",
   "metadata": {},
   "source": [
    "## mpld3 Test"
   ]
  },
  {
   "cell_type": "code",
   "execution_count": 76,
   "metadata": {
    "ExecuteTime": {
     "end_time": "2018-07-09T16:54:30.514553Z",
     "start_time": "2018-07-09T16:54:30.510876Z"
    }
   },
   "outputs": [],
   "source": [
    "mpld3.enable_notebook()"
   ]
  },
  {
   "cell_type": "code",
   "execution_count": 77,
   "metadata": {
    "ExecuteTime": {
     "end_time": "2018-07-09T16:54:30.520853Z",
     "start_time": "2018-07-09T16:54:30.516632Z"
    }
   },
   "outputs": [],
   "source": [
    "def plot_d3(title,df=sentDF,f=.1,d=0.0):\n",
    "    bookDF = df.loc[df['title'] == title]\n",
    "    sentiment = list(bookDF.sentiment)\n",
    "    lowX = list(range(1,len(sentiment)+1))\n",
    "    #print(len(sent),len(lowX))\n",
    "    low_plot = lowess(sentiment,lowX,frac=.1,return_sorted=False,delta=d)\n",
    "    fig = plt.figure()\n",
    "    plt.plot(low_plot,label=title)\n",
    "    plt.ylabel(\"Sentiment Score\")\n",
    "    plt.xlabel(\"Sentence #\")    \n",
    "    plt.legend()\n",
    "#     plt.savefig('images/'+title+'.svg')\n",
    "    mpld3.show()\n",
    "    p = mpld3.fig_to_d3(fig)\n",
    "    return p"
   ]
  }
 ],
 "metadata": {
  "kernelspec": {
   "display_name": "Python 3",
   "language": "python",
   "name": "python3"
  },
  "language_info": {
   "codemirror_mode": {
    "name": "ipython",
    "version": 3
   },
   "file_extension": ".py",
   "mimetype": "text/x-python",
   "name": "python",
   "nbconvert_exporter": "python",
   "pygments_lexer": "ipython3",
   "version": "3.6.6"
  },
  "toc": {
   "nav_menu": {},
   "number_sections": true,
   "sideBar": true,
   "skip_h1_title": true,
   "toc_cell": false,
   "toc_position": {
    "height": "854px",
    "left": "0px",
    "right": "1228px",
    "top": "106px",
    "width": "218px"
   },
   "toc_section_display": "block",
   "toc_window_display": true
  }
 },
 "nbformat": 4,
 "nbformat_minor": 2
}
