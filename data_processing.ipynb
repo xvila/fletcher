{
 "cells": [
  {
   "cell_type": "markdown",
   "metadata": {},
   "source": [
    "# Stephen King Novel NLP"
   ]
  },
  {
   "cell_type": "markdown",
   "metadata": {},
   "source": [
    "## Imports"
   ]
  },
  {
   "cell_type": "code",
   "execution_count": 3,
   "metadata": {
    "ExecuteTime": {
     "end_time": "2017-11-10T04:32:09.746249Z",
     "start_time": "2017-11-10T04:31:57.992499Z"
    },
    "collapsed": true
   },
   "outputs": [],
   "source": [
    "import pandas as pd\n",
    "import numpy as np\n",
    "from IPython import display\n",
    "from pymongo import MongoClient\n",
    "import os\n",
    "import re\n",
    "from textblob import TextBlob\n",
    "import nltk\n",
    "from nltk.corpus import stopwords\n",
    "from collections import Counter\n",
    "from sklearn.feature_extraction.text import TfidfVectorizer\n",
    "from sklearn.feature_extraction.text import CountVectorizer\n",
    "from nltk.tokenize import sent_tokenize\n",
    "from nltk.tokenize import word_tokenize\n",
    "from sklearn.decomposition import NMF, LatentDirichletAllocation\n",
    "from nltk.util import ngrams\n",
    "import operator\n",
    "from gensim import corpora, models, similarities, matutils\n",
    "from sklearn import datasets\n",
    "import json\n",
    "import spacy \n",
    "from sklearn.metrics.pairwise import cosine_similarity\n",
    "from sklearn.cluster import KMeans\n",
    "from sklearn.externals import joblib\n",
    "from afinn import Afinn\n",
    "import random\n",
    "import scipy\n",
    "from scipy.signal import spectrogram\n",
    "from importlib import reload\n",
    "from scipy.fftpack import fft\n",
    "from statsmodels.nonparametric.smoothers_lowess import lowess\n",
    "from scipy.interpolate import interp1d\n",
    "\n",
    "\n",
    "# gensim\n",
    "from gensim import corpora, models, similarities, matutils\n",
    "from gensim.models import LdaModel\n",
    "\n",
    "# sklearn\n",
    "from sklearn import datasets\n",
    "from sklearn.feature_extraction.text import CountVectorizer\n",
    "from sklearn.cluster import KMeans\n",
    "# logging for gensim (set to INFO)\n",
    "import logging\n",
    "logging.basicConfig(format='%(asctime)s : %(levelname)s : %(message)s', level=logging.INFO)\n",
    "\n",
    "\n",
    "display.clear_output(wait=True)\n",
    "from config import user_name,password,ip\n",
    "from epub_conversion.utils import open_book\n",
    "\n",
    "%matplotlib inline\n",
    "import seaborn as sns\n",
    "import matplotlib.pyplot as plt, mpld3\n",
    "plt.style.use('fivethirtyeight')\n",
    "plt.rcParams['figure.figsize'] = 20, 10"
   ]
  },
  {
   "cell_type": "markdown",
   "metadata": {
    "collapsed": true
   },
   "source": [
    "## Stoplist"
   ]
  },
  {
   "cell_type": "code",
   "execution_count": 4,
   "metadata": {
    "ExecuteTime": {
     "end_time": "2017-11-10T04:32:09.774667Z",
     "start_time": "2017-11-10T04:32:09.748641Z"
    },
    "collapsed": true
   },
   "outputs": [],
   "source": [
    "stoplist = stopwords.words('english')\n",
    "stoplist += ['.', ',', '(', ')', \"'\", '\"']\n",
    "#stoplist = set(stoplist)"
   ]
  },
  {
   "cell_type": "markdown",
   "metadata": {},
   "source": [
    "## Import Sentiment"
   ]
  },
  {
   "cell_type": "code",
   "execution_count": 5,
   "metadata": {
    "ExecuteTime": {
     "end_time": "2017-11-10T04:32:10.256715Z",
     "start_time": "2017-11-10T04:32:09.777018Z"
    },
    "collapsed": true
   },
   "outputs": [],
   "source": [
    "sentDF = pd.read_pickle('sentiment.pkl')"
   ]
  },
  {
   "cell_type": "markdown",
   "metadata": {},
   "source": [
    "## Functions"
   ]
  },
  {
   "cell_type": "markdown",
   "metadata": {},
   "source": [
    "### Manual Word Count"
   ]
  },
  {
   "cell_type": "code",
   "execution_count": 6,
   "metadata": {
    "ExecuteTime": {
     "end_time": "2017-11-10T04:32:10.267161Z",
     "start_time": "2017-11-10T04:32:10.260275Z"
    },
    "collapsed": true
   },
   "outputs": [],
   "source": [
    "def clean_text(row):\n",
    "    text = row['content'].lower()\n",
    "    text = text.strip('\\n')\n",
    "    return text"
   ]
  },
  {
   "cell_type": "markdown",
   "metadata": {},
   "source": [
    "### Manual Word Count"
   ]
  },
  {
   "cell_type": "code",
   "execution_count": 7,
   "metadata": {
    "ExecuteTime": {
     "end_time": "2017-11-10T04:32:10.293553Z",
     "start_time": "2017-11-10T04:32:10.272094Z"
    },
    "collapsed": true
   },
   "outputs": [],
   "source": [
    "def book_word_count(book,n,stoplist=stoplist):\n",
    "    text = clean_text(book)\n",
    "    words = [''.join(words) for words in text.split()]\n",
    "    title = book['title']\n",
    "    counter = Counter()\n",
    "    n = n\n",
    "    words = [w for w in words if w not in stoplist]\n",
    "    bigrams = ngrams(words, n)\n",
    "    counter += Counter(bigrams)\n",
    "    sorted_counter = sorted(counter.items(), key=operator.itemgetter(1),reverse=True)\n",
    "    return title, sorted_counter"
   ]
  },
  {
   "cell_type": "markdown",
   "metadata": {
    "ExecuteTime": {
     "end_time": "2017-11-04T21:26:42.260226Z",
     "start_time": "2017-11-04T21:26:42.253791Z"
    }
   },
   "source": [
    "### Count Vectorizer Function"
   ]
  },
  {
   "cell_type": "code",
   "execution_count": 8,
   "metadata": {
    "ExecuteTime": {
     "end_time": "2017-11-10T04:32:10.307787Z",
     "start_time": "2017-11-10T04:32:10.296492Z"
    },
    "collapsed": true
   },
   "outputs": [],
   "source": [
    "def book_cv(dtbooks,stoplist):\n",
    "    cv = CountVectorizer(stop_words=stoplist,token_pattern=\"\\\\b[a-z][a-z]+\\\\b\")\n",
    "    print(type(dtbooks[0]))\n",
    "    cv.fit(dtbooks)\n",
    "    x = cv.transform(dtbooks)\n",
    "    x_back = x.toarray()\n",
    "    df = pd.DataFrame(x_back, columns=cv.get_feature_names())\n",
    "    counts = cv.transform(dtbooks).transpose()\n",
    "    print(counts.shape)\n",
    "    corpus = matutils.Sparse2Corpus(counts)\n",
    "    id2word = dict((v, k) for k, v in cv.vocabulary_.items())\n",
    "    return df,corpus,id2word"
   ]
  },
  {
   "cell_type": "markdown",
   "metadata": {},
   "source": [
    "### Display Topics"
   ]
  },
  {
   "cell_type": "code",
   "execution_count": 9,
   "metadata": {
    "ExecuteTime": {
     "end_time": "2017-11-10T04:32:10.314531Z",
     "start_time": "2017-11-10T04:32:10.309807Z"
    },
    "collapsed": true
   },
   "outputs": [],
   "source": [
    "def display_topics(model, feature_names, no_top_words):\n",
    "    for topic_idx, topic in enumerate(model.components_):\n",
    "        print (\"Topic %d:\" % (topic_idx))\n",
    "        print (\" \".join([feature_names[i]\n",
    "                        for i in topic.argsort()[:-no_top_words - 1:-1]]))"
   ]
  },
  {
   "cell_type": "markdown",
   "metadata": {},
   "source": [
    "### Return Topics"
   ]
  },
  {
   "cell_type": "code",
   "execution_count": 10,
   "metadata": {
    "ExecuteTime": {
     "end_time": "2017-11-10T04:32:10.332820Z",
     "start_time": "2017-11-10T04:32:10.317502Z"
    },
    "collapsed": true
   },
   "outputs": [],
   "source": [
    "def return_topics(model, feature_names, no_top_words):\n",
    "    topics = []\n",
    "    for topic_idx, topic in enumerate(model.components_):\n",
    "        print (\"Topic %d:\" % (topic_idx))\n",
    "        words = \" \".join([feature_names[i]for i in topic.argsort()[:-no_top_words - 1:-1]])\n",
    "        print(words)\n",
    "        top_words = {'topic_idx':topic_idx,'words':words}\n",
    "        topics.append(top_words)\n",
    "    \n",
    "    return topics"
   ]
  },
  {
   "cell_type": "markdown",
   "metadata": {},
   "source": [
    "### Cleanup"
   ]
  },
  {
   "cell_type": "code",
   "execution_count": 11,
   "metadata": {
    "ExecuteTime": {
     "end_time": "2017-11-10T04:32:10.341920Z",
     "start_time": "2017-11-10T04:32:10.336385Z"
    },
    "collapsed": true
   },
   "outputs": [],
   "source": [
    "def cleanup(token, lower = True):\n",
    "    if lower:\n",
    "       token = token.lower()\n",
    "    return token.strip()"
   ]
  },
  {
   "cell_type": "markdown",
   "metadata": {},
   "source": [
    "### Entity Detection"
   ]
  },
  {
   "cell_type": "code",
   "execution_count": 12,
   "metadata": {
    "ExecuteTime": {
     "end_time": "2017-11-10T04:32:10.360640Z",
     "start_time": "2017-11-10T04:32:10.345652Z"
    },
    "collapsed": true
   },
   "outputs": [],
   "source": [
    "def ie_preprocess(document):\n",
    "    document = ' '.join([i for i in document.split() if i not in stoplist])\n",
    "    sentences = nltk.sent_tokenize(document)\n",
    "    sentences = [nltk.word_tokenize(sent) for sent in sentences]\n",
    "    sentences = [nltk.pos_tag(sent) for sent in sentences]\n",
    "    return sentences"
   ]
  },
  {
   "cell_type": "code",
   "execution_count": 13,
   "metadata": {
    "ExecuteTime": {
     "end_time": "2017-11-10T04:32:10.373890Z",
     "start_time": "2017-11-10T04:32:10.363405Z"
    },
    "collapsed": true
   },
   "outputs": [],
   "source": [
    "def extract_names(document):\n",
    "    names = []\n",
    "    sentences = ie_preprocess(document)\n",
    "    for tagged_sentence in sentences:\n",
    "        for chunk in nltk.ne_chunk(tagged_sentence):\n",
    "            if type(chunk) == nltk.tree.Tree:\n",
    "                if chunk.label() == 'PERSON':\n",
    "                    names.append(' '.join([c[0] for c in chunk]))\n",
    "    return names"
   ]
  },
  {
   "cell_type": "markdown",
   "metadata": {},
   "source": [
    "### Tokenize and Stem"
   ]
  },
  {
   "cell_type": "code",
   "execution_count": 14,
   "metadata": {
    "ExecuteTime": {
     "end_time": "2017-11-10T04:32:10.387768Z",
     "start_time": "2017-11-10T04:32:10.376660Z"
    },
    "collapsed": true
   },
   "outputs": [],
   "source": [
    "def tokenize_and_stem(text):\n",
    "    # first tokenize by sentence, then by word to ensure that punctuation is caught as it's own token\n",
    "    tokens = [word for sent in nltk.sent_tokenize(text) for word in nltk.word_tokenize(sent)]\n",
    "    filtered_tokens = []\n",
    "    # filter out any tokens not containing letters (e.g., numeric tokens, raw punctuation)\n",
    "    for token in tokens:\n",
    "        if re.search('[a-zA-Z]', token):\n",
    "            filtered_tokens.append(token)\n",
    "    stems = [stemmer.stem(t) for t in filtered_tokens]\n",
    "    return stems"
   ]
  },
  {
   "cell_type": "code",
   "execution_count": 15,
   "metadata": {
    "ExecuteTime": {
     "end_time": "2017-11-10T04:32:10.398228Z",
     "start_time": "2017-11-10T04:32:10.390037Z"
    },
    "collapsed": true
   },
   "outputs": [],
   "source": [
    "def tokenize_only(text):\n",
    "    # first tokenize by sentence, then by word to ensure that punctuation is caught as it's own token\n",
    "    tokens = [word.lower() for sent in nltk.sent_tokenize(text) for word in nltk.word_tokenize(sent)]\n",
    "    filtered_tokens = []\n",
    "    # filter out any tokens not containing letters (e.g., numeric tokens, raw punctuation)\n",
    "    for token in tokens:\n",
    "        if re.search('[a-zA-Z]', token):\n",
    "            filtered_tokens.append(token)\n",
    "    return filtered_tokens"
   ]
  },
  {
   "cell_type": "markdown",
   "metadata": {},
   "source": [
    "### Sentiment"
   ]
  },
  {
   "cell_type": "code",
   "execution_count": 16,
   "metadata": {
    "ExecuteTime": {
     "end_time": "2017-11-10T04:32:10.409922Z",
     "start_time": "2017-11-10T04:32:10.400476Z"
    },
    "collapsed": true
   },
   "outputs": [],
   "source": [
    "def a_sentiment(filename):\n",
    "    with open (filename, \"r\") as myfile:\n",
    "        text=myfile.read().replace('\\n', ' ')\n",
    "        blob = TextBlob(text)       \n",
    "        tot = 0.0\n",
    "        sent = []        \n",
    "        afinn = Afinn()\n",
    "        for sentence in blob.sentences:            \n",
    "            senti = afinn.score(str(sentence))        \n",
    "            sent.append(senti)   \n",
    "        return sent"
   ]
  },
  {
   "cell_type": "markdown",
   "metadata": {},
   "source": [
    "### Sentiment Plot"
   ]
  },
  {
   "cell_type": "code",
   "execution_count": 17,
   "metadata": {
    "ExecuteTime": {
     "end_time": "2017-11-10T04:32:10.418888Z",
     "start_time": "2017-11-10T04:32:10.412195Z"
    },
    "collapsed": true
   },
   "outputs": [],
   "source": [
    "def sentiplot(filename, title):\n",
    "    fig = plt.figure()\n",
    "    sent= a_sentiment(filename)    \n",
    "    plt.plot(sent,label=title)\n",
    "    plt.ylabel(\"Cumulative Emotional Valence\")\n",
    "    plt.xlabel(\"Sentence #\")    \n",
    "    plt.legend()\n"
   ]
  },
  {
   "cell_type": "markdown",
   "metadata": {
    "collapsed": true
   },
   "source": [
    "### Plot Stories"
   ]
  },
  {
   "cell_type": "code",
   "execution_count": 18,
   "metadata": {
    "ExecuteTime": {
     "end_time": "2017-11-10T04:32:10.441910Z",
     "start_time": "2017-11-10T04:32:10.421007Z"
    },
    "collapsed": true
   },
   "outputs": [],
   "source": [
    "def plot_story(title,df=sentDF,f=.1,d=0.0):\n",
    "    bookDF = df.loc[df['title'] == title]\n",
    "    sentiment = list(bookDF.sentiment)\n",
    "    lowX = list(range(1,len(sentiment)+1))\n",
    "    #print(len(sent),len(lowX))\n",
    "    low_plot = lowess(sentiment,lowX,frac=.1,return_sorted=False,delta=d)\n",
    "    #f2 = interp1d(lowX, sentiment, kind='cubic')\n",
    "    title = title\n",
    "    #y = np.arange(-1.0,2.0,.1)\n",
    "    fig = plt.figure()\n",
    "    plt.plot(low_plot,label=title)\n",
    "    plt.ylabel(\"Sentiment Score\")\n",
    "    plt.xlabel(\"Sentence #\")    \n",
    "    plt.legend()\n",
    "    plt.savefig('images/'+title+'.svg')\n",
    "   \n",
    "    #mpld3.show()\n",
    "    return"
   ]
  },
  {
   "cell_type": "markdown",
   "metadata": {},
   "source": [
    "## Data Processing"
   ]
  },
  {
   "cell_type": "markdown",
   "metadata": {},
   "source": [
    "**Create a dictionary from all books**"
   ]
  },
  {
   "cell_type": "code",
   "execution_count": null,
   "metadata": {
    "ExecuteTime": {
     "start_time": "2017-11-10T03:28:54.281Z"
    },
    "collapsed": true
   },
   "outputs": [],
   "source": [
    "# book_list = []\n",
    "# book_dict = {}\n",
    "# path = \"/Users/xavier/dev/metis/fletcher/books/\"\n",
    "# for file in os.listdir(path):\n",
    "#     if file.endswith(\".txt\"):\n",
    "#         clean_name = file.replace(\" - Stephen King.txt\",\"\")\n",
    "#         book_dict[clean_name] = open(path+file, \"r\").read()\n",
    "#         book_list.append(clean_name)"
   ]
  },
  {
   "cell_type": "code",
   "execution_count": 17,
   "metadata": {
    "ExecuteTime": {
     "end_time": "2017-11-10T03:15:53.771299Z",
     "start_time": "2017-11-10T03:15:53.765392Z"
    },
    "collapsed": true
   },
   "outputs": [],
   "source": [
    "# # Insert the books into mongo db\n",
    "# clean_list = []\n",
    "# for k,v in book_dict.items():\n",
    "#     try:\n",
    "#         year = re.search(\"[Cc]opyright ©\\s*.*_*(\\d{4}).*Stephen King|[Cc]opyright ©\\s.*Stephen King.*_*(\\d{4})|[Cc]opyright ©\\s*.*_*(\\d{4}).*Richard Bachman|[Cc]opyright ©\\s.*Richard Bachman.*_*(\\d{4})\",v).group(0) # get copyright year from book text\n",
    "#         year = re.search(\"(\\d{4})\",year).group(0)\n",
    "#     except:\n",
    "#         year = \"\"\n",
    "#     try:\n",
    "#         isbn = re.search(\".*ISBN+:*(\\d*.*)\",v)[1].split(\" \")\n",
    "#         isbn = max(isbn, key=len)\n",
    "#     except:\n",
    "#         isbn = \"\"\n",
    "#     try:\n",
    "#         start = v.find('******start_of_file******')+25\n",
    "#         end = v.find('******end_of_file******')\n",
    "#         text = v[start:end]\n",
    "#     except:\n",
    "#         text = \"\"\n",
    "        \n",
    "#     doc = {\"title\":k,\"year\":year,'isbn':isbn,\"content\":text}\n",
    "#     clean_list.append(doc)\n",
    "#     #print(doc['title'],doc['isbn'])\n",
    "#     #print(doc['title'],doc['year'])\n",
    "#     #db.books.insert_one(doc)"
   ]
  },
  {
   "cell_type": "code",
   "execution_count": 18,
   "metadata": {
    "ExecuteTime": {
     "end_time": "2017-11-10T03:15:53.777241Z",
     "start_time": "2017-11-10T03:15:53.773962Z"
    },
    "collapsed": true
   },
   "outputs": [],
   "source": [
    "# len(clean_list)"
   ]
  },
  {
   "cell_type": "code",
   "execution_count": 19,
   "metadata": {
    "ExecuteTime": {
     "end_time": "2017-11-10T03:15:53.782286Z",
     "start_time": "2017-11-10T03:15:53.779141Z"
    },
    "collapsed": true
   },
   "outputs": [],
   "source": [
    "# #pd.DataFrame(a, index=['i',])\n",
    "# df = pd.DataFrame(clean_list)"
   ]
  },
  {
   "cell_type": "code",
   "execution_count": 20,
   "metadata": {
    "ExecuteTime": {
     "end_time": "2017-11-10T03:15:53.788570Z",
     "start_time": "2017-11-10T03:15:53.784287Z"
    },
    "collapsed": true
   },
   "outputs": [],
   "source": [
    "# df.to_pickle('books.pkl')"
   ]
  },
  {
   "cell_type": "markdown",
   "metadata": {
    "ExecuteTime": {
     "end_time": "2017-11-06T21:26:34.672733Z",
     "start_time": "2017-11-06T21:26:34.669109Z"
    }
   },
   "source": [
    "### Import Pickle"
   ]
  },
  {
   "cell_type": "code",
   "execution_count": 32,
   "metadata": {
    "ExecuteTime": {
     "end_time": "2017-11-10T03:42:48.169883Z",
     "start_time": "2017-11-10T03:42:47.998349Z"
    },
    "collapsed": true
   },
   "outputs": [],
   "source": [
    "df = pd.read_pickle('books.pkl')"
   ]
  },
  {
   "cell_type": "code",
   "execution_count": 33,
   "metadata": {
    "ExecuteTime": {
     "end_time": "2017-11-10T03:42:48.257397Z",
     "start_time": "2017-11-10T03:42:48.248114Z"
    }
   },
   "outputs": [
    {
     "data": {
      "text/plain": [
       "['content', 'isbn', 'title', 'year']"
      ]
     },
     "execution_count": 33,
     "metadata": {},
     "output_type": "execute_result"
    }
   ],
   "source": [
    "df.columns.tolist()"
   ]
  },
  {
   "cell_type": "code",
   "execution_count": 34,
   "metadata": {
    "ExecuteTime": {
     "end_time": "2017-11-10T03:42:48.545478Z",
     "start_time": "2017-11-10T03:42:48.482537Z"
    }
   },
   "outputs": [
    {
     "data": {
      "text/html": [
       "<div>\n",
       "<style>\n",
       "    .dataframe thead tr:only-child th {\n",
       "        text-align: right;\n",
       "    }\n",
       "\n",
       "    .dataframe thead th {\n",
       "        text-align: left;\n",
       "    }\n",
       "\n",
       "    .dataframe tbody tr th {\n",
       "        vertical-align: top;\n",
       "    }\n",
       "</style>\n",
       "<table border=\"1\" class=\"dataframe\">\n",
       "  <thead>\n",
       "    <tr style=\"text-align: right;\">\n",
       "      <th></th>\n",
       "      <th>content</th>\n",
       "      <th>isbn</th>\n",
       "      <th>title</th>\n",
       "      <th>year</th>\n",
       "    </tr>\n",
       "  </thead>\n",
       "  <tbody>\n",
       "    <tr>\n",
       "      <th>0</th>\n",
       "      <td>d by “Duel”\\n\\nJoe Hill and Stephen King\\n\\n\\n...</td>\n",
       "      <td>9780062215956</td>\n",
       "      <td>Throttle</td>\n",
       "      <td>2009</td>\n",
       "    </tr>\n",
       "    <tr>\n",
       "      <th>1</th>\n",
       "      <td>TS\\n\\n\\n\\nCover Page\\n\\nTitle Page\\n\\n\\n\\nIntr...</td>\n",
       "      <td>978-0-385-52884-9</td>\n",
       "      <td>Night Shift</td>\n",
       "      <td>1976</td>\n",
       "    </tr>\n",
       "    <tr>\n",
       "      <th>2</th>\n",
       "      <td>this Scribner eBook.\\n\\n\\n\\n* * *\\n\\n\\n\\nSign...</td>\n",
       "      <td>0-7432-0467-0</td>\n",
       "      <td>Riding the Bullet</td>\n",
       "      <td>2000</td>\n",
       "    </tr>\n",
       "    <tr>\n",
       "      <th>3</th>\n",
       "      <td>Page\\n\\nCopyright Page\\n\\nDedication\\n\\n\\n\\n\\...</td>\n",
       "      <td>978-1-101-13813-7</td>\n",
       "      <td>Roadwork</td>\n",
       "      <td>1981</td>\n",
       "    </tr>\n",
       "    <tr>\n",
       "      <th>4</th>\n",
       "      <td>dication\\n\\nIntroduction\\n\\nAuthor’s Note\\n\\n\\...</td>\n",
       "      <td>978-0-385-52822-1</td>\n",
       "      <td>Salem's Lot</td>\n",
       "      <td>1975</td>\n",
       "    </tr>\n",
       "  </tbody>\n",
       "</table>\n",
       "</div>"
      ],
      "text/plain": [
       "                                             content               isbn  \\\n",
       "0  d by “Duel”\\n\\nJoe Hill and Stephen King\\n\\n\\n...      9780062215956   \n",
       "1  TS\\n\\n\\n\\nCover Page\\n\\nTitle Page\\n\\n\\n\\nIntr...  978-0-385-52884-9   \n",
       "2   this Scribner eBook.\\n\\n\\n\\n* * *\\n\\n\\n\\nSign...      0-7432-0467-0   \n",
       "3   Page\\n\\nCopyright Page\\n\\nDedication\\n\\n\\n\\n\\...  978-1-101-13813-7   \n",
       "4  dication\\n\\nIntroduction\\n\\nAuthor’s Note\\n\\n\\...  978-0-385-52822-1   \n",
       "\n",
       "               title  year  \n",
       "0           Throttle  2009  \n",
       "1        Night Shift  1976  \n",
       "2  Riding the Bullet  2000  \n",
       "3           Roadwork  1981  \n",
       "4        Salem's Lot  1975  "
      ]
     },
     "execution_count": 34,
     "metadata": {},
     "output_type": "execute_result"
    }
   ],
   "source": [
    "df.head()"
   ]
  },
  {
   "cell_type": "code",
   "execution_count": 35,
   "metadata": {
    "ExecuteTime": {
     "end_time": "2017-11-10T03:42:48.673266Z",
     "start_time": "2017-11-10T03:42:48.665680Z"
    },
    "collapsed": true
   },
   "outputs": [],
   "source": [
    "document = df.iloc[28]['content']"
   ]
  },
  {
   "cell_type": "code",
   "execution_count": 36,
   "metadata": {
    "ExecuteTime": {
     "end_time": "2017-11-10T03:42:48.847046Z",
     "start_time": "2017-11-10T03:42:48.843624Z"
    },
    "collapsed": true
   },
   "outputs": [],
   "source": [
    "# df['content'] = df.content.apply(lambda x: x.lower())\n",
    "# df['content'] = df.content.apply(lambda x: x.strip(\"\\n\"))"
   ]
  },
  {
   "cell_type": "code",
   "execution_count": 37,
   "metadata": {
    "ExecuteTime": {
     "end_time": "2017-11-10T03:42:49.008615Z",
     "start_time": "2017-11-10T03:42:49.004716Z"
    },
    "collapsed": true
   },
   "outputs": [],
   "source": [
    "# words = [''.join(words) for words in gs_text.split()]\n",
    "# vectorizer = TfidfVectorizer(stop_words=stop, ngram_range=(1))\n",
    "# doc_vectors = vectorizer.fit_transform(documents)"
   ]
  },
  {
   "cell_type": "markdown",
   "metadata": {},
   "source": [
    "### Character extraction test"
   ]
  },
  {
   "cell_type": "code",
   "execution_count": 38,
   "metadata": {
    "ExecuteTime": {
     "end_time": "2017-11-10T03:43:07.842649Z",
     "start_time": "2017-11-10T03:42:49.379015Z"
    },
    "collapsed": true
   },
   "outputs": [],
   "source": [
    "characters = extract_names(document)"
   ]
  },
  {
   "cell_type": "code",
   "execution_count": 39,
   "metadata": {
    "ExecuteTime": {
     "end_time": "2017-11-10T03:43:07.865020Z",
     "start_time": "2017-11-10T03:43:07.845314Z"
    }
   },
   "outputs": [
    {
     "data": {
      "text/plain": [
       "['Penguin Book',\n",
       " 'Stephen King',\n",
       " 'Penguin Putnam',\n",
       " 'Penguin Books',\n",
       " 'Penguin Putnam',\n",
       " 'Penguin Putnam',\n",
       " 'STEPHEN',\n",
       " 'Carrie',\n",
       " 'Salem',\n",
       " 'Christine Pet Sematary Cycle Werewolf',\n",
       " 'Peter Straub',\n",
       " 'Dolores Claiborne Insomnia Rose Madder',\n",
       " 'Wizard Glass Bag Bones',\n",
       " 'Tom Gordon Dreamcatcher Black House',\n",
       " 'Peter Straub',\n",
       " 'Skeleton Crew',\n",
       " 'Atlantis Everything',\n",
       " 'Eventual SCREENPLAYS Creepshow Cat',\n",
       " 'Eye Silver Bullet Maximum Overdrive Pet Sematary Golden',\n",
       " 'Century',\n",
       " 'Who',\n",
       " 'Merrys Pippins',\n",
       " 'Max Yasgur',\n",
       " 'Great Woodstock Music Festival',\n",
       " 'Gandalfs',\n",
       " 'Tolkien',\n",
       " 'Stephen Donaldson',\n",
       " 'Terry Brooks',\n",
       " 'Tolkien',\n",
       " 'Tolkien',\n",
       " 'Tricky Dick Nixon',\n",
       " 'Mr. Tolkien',\n",
       " 'Look',\n",
       " 'Stevie',\n",
       " 'Nineteen',\n",
       " 'Bob Seger',\n",
       " 'Patrol Boy',\n",
       " 'Bad Lieutenant',\n",
       " 'Patrol Boy',\n",
       " 'Mine',\n",
       " 'Stephen',\n",
       " 'God',\n",
       " 'Tolkien',\n",
       " 'Pall Malls',\n",
       " 'Patrol Boy',\n",
       " 'Maine',\n",
       " 'Sergio Leone',\n",
       " 'Bad',\n",
       " 'Ugly',\n",
       " 'Tolkien',\n",
       " 'Leone',\n",
       " 'Clint',\n",
       " 'Lee Van Cleef',\n",
       " 'Wizard Glass',\n",
       " 'Leone',\n",
       " 'Phoenix',\n",
       " 'Seems',\n",
       " 'Patrol Boy',\n",
       " 'From Buick',\n",
       " 'Dearborn',\n",
       " 'Michigan',\n",
       " 'Dark Tower',\n",
       " 'Varney Vampire',\n",
       " 'Tower',\n",
       " 'Beams',\n",
       " 'Tower',\n",
       " 'Dark Tower',\n",
       " 'Gramma',\n",
       " 'Outside',\n",
       " 'Me',\n",
       " 'Single',\n",
       " 'Marsha DiFilippo',\n",
       " 'Texas Florida',\n",
       " 'Chussit',\n",
       " 'Patrol Boy',\n",
       " 'Volume Five',\n",
       " 'Stephen',\n",
       " 'Dark Tower',\n",
       " 'Bullshit Rule',\n",
       " 'Dark',\n",
       " 'Tower',\n",
       " 'Dark Tower',\n",
       " 'Chaucer',\n",
       " 'Charles Dickens',\n",
       " 'Stephen',\n",
       " 'Volume Five',\n",
       " 'Volume Six',\n",
       " 'Volume Seven',\n",
       " 'Roland',\n",
       " 'God',\n",
       " 'Roland',\n",
       " 'Dark Tower',\n",
       " 'Dark Tower',\n",
       " 'Thomas',\n",
       " 'Wolfe Look Homeward',\n",
       " 'Had',\n",
       " 'Man Jesus',\n",
       " 'Philistine',\n",
       " 'God',\n",
       " 'Water',\n",
       " 'God',\n",
       " 'Jericho Hill',\n",
       " 'Weren',\n",
       " 'Cort',\n",
       " 'Old Mother',\n",
       " 'Silva',\n",
       " 'Man Jesus',\n",
       " 'Him',\n",
       " 'Algul Siento',\n",
       " 'Blue Haven Heaven',\n",
       " 'Manni',\n",
       " 'Brown',\n",
       " 'Brown',\n",
       " 'Zoltan',\n",
       " 'Screw',\n",
       " 'Brown',\n",
       " 'Prayer',\n",
       " 'Lord',\n",
       " 'Brown',\n",
       " 'Thought',\n",
       " 'Did',\n",
       " 'Brown',\n",
       " 'Zoltan',\n",
       " 'Brown',\n",
       " 'Brown',\n",
       " 'Brown',\n",
       " 'Brown',\n",
       " 'Zoltan',\n",
       " 'Screw',\n",
       " 'Brown',\n",
       " 'Brown',\n",
       " 'Brown',\n",
       " 'God',\n",
       " 'God',\n",
       " 'Brown',\n",
       " 'Brown',\n",
       " 'Pappa',\n",
       " 'Brown',\n",
       " 'Zoltan',\n",
       " 'Tull',\n",
       " 'Sheemie',\n",
       " 'Brown',\n",
       " 'Didn',\n",
       " 'Tull',\n",
       " 'Brown',\n",
       " 'Brown',\n",
       " 'Brown',\n",
       " 'Dinner',\n",
       " 'Brown',\n",
       " 'Roasted',\n",
       " 'Brown',\n",
       " 'Brown',\n",
       " 'Brown',\n",
       " 'Brown',\n",
       " 'Brown',\n",
       " 'Brown',\n",
       " 'Garlan',\n",
       " 'Zoltan',\n",
       " 'Tull',\n",
       " 'Brown',\n",
       " 'Came',\n",
       " 'Pappa',\n",
       " 'Doc',\n",
       " 'Brown',\n",
       " 'Brown',\n",
       " 'Brown',\n",
       " 'Brown',\n",
       " 'Brown',\n",
       " 'Brown',\n",
       " 'Brown',\n",
       " 'Tull',\n",
       " 'Tull',\n",
       " 'Tull',\n",
       " 'Hey Jude',\n",
       " 'Jude',\n",
       " 'Rub',\n",
       " 'Might',\n",
       " 'Charlie',\n",
       " 'Watch Me',\n",
       " 'Mouths',\n",
       " 'Beer',\n",
       " 'Don',\n",
       " 'Bread',\n",
       " 'Peddler',\n",
       " 'Moon',\n",
       " 'High Speech Gilead',\n",
       " 'High Speech',\n",
       " 'Numbed',\n",
       " 'Don',\n",
       " 'Reap',\n",
       " 'Mice',\n",
       " 'Nort',\n",
       " 'Jubal',\n",
       " 'Kennerly',\n",
       " 'Kennerly',\n",
       " 'Nort',\n",
       " 'Zachary',\n",
       " 'Amy Feldon',\n",
       " 'Aunt Mill',\n",
       " 'Allie',\n",
       " 'Tull',\n",
       " 'Wake',\n",
       " 'Don',\n",
       " 'Mistuh Norton',\n",
       " 'Aunt',\n",
       " 'Mill',\n",
       " 'Sheb',\n",
       " 'Aunt Mill',\n",
       " 'Aunt Mill',\n",
       " 'Thunder',\n",
       " 'Sheb',\n",
       " 'Sheb',\n",
       " 'Nort',\n",
       " 'Nort',\n",
       " 'Sheb',\n",
       " 'Allie',\n",
       " 'Nort',\n",
       " 'Nort',\n",
       " 'Hello',\n",
       " 'Allie',\n",
       " 'Kennerly',\n",
       " 'Sheb',\n",
       " 'Nort',\n",
       " 'Allie',\n",
       " 'Nort',\n",
       " 'Dim',\n",
       " 'Sooner',\n",
       " 'Life',\n",
       " 'Nort',\n",
       " 'Allie',\n",
       " 'Nort',\n",
       " 'Suppose',\n",
       " 'Land Death',\n",
       " 'Don',\n",
       " 'Walter',\n",
       " 'Dim',\n",
       " 'Sooner',\n",
       " 'Allie',\n",
       " 'Don',\n",
       " 'Nort',\n",
       " 'Kennerly',\n",
       " 'Someone',\n",
       " 'Hit',\n",
       " 'Kennerly',\n",
       " 'Soobie',\n",
       " 'Soobie',\n",
       " 'Ain',\n",
       " 'Kennerly',\n",
       " 'Ain',\n",
       " 'Book',\n",
       " 'Kennerly',\n",
       " 'Kennerly',\n",
       " 'Kennerly',\n",
       " 'Kennerly',\n",
       " 'Kennerly',\n",
       " 'Kennerly',\n",
       " 'Kennerly',\n",
       " 'Kennerly',\n",
       " 'Allie',\n",
       " 'Kennerly',\n",
       " 'Soobie',\n",
       " 'Kennerly',\n",
       " 'Allie',\n",
       " 'Sheb',\n",
       " 'Allie',\n",
       " 'Allie',\n",
       " 'Sheb',\n",
       " 'Spittle',\n",
       " 'Sheb',\n",
       " 'Allie',\n",
       " 'Allie',\n",
       " 'Sheb',\n",
       " 'Allie',\n",
       " 'Broken',\n",
       " 'Didn',\n",
       " 'Mejis',\n",
       " 'Mejis',\n",
       " 'Clean',\n",
       " 'Susan',\n",
       " 'Sheb',\n",
       " 'Eldred Jonas',\n",
       " 'Coffin Hunter',\n",
       " 'Sheb',\n",
       " 'Sabbath Tull',\n",
       " 'Allie',\n",
       " 'Allie',\n",
       " 'Kennerly',\n",
       " 'Castner',\n",
       " 'Allie',\n",
       " 'Sylvia Pittston',\n",
       " 'Mejis',\n",
       " 'Sylvia Pittston',\n",
       " 'Good Book',\n",
       " 'Daniel',\n",
       " 'David',\n",
       " 'Bathsheba',\n",
       " 'Samson',\n",
       " 'St. Paul',\n",
       " 'Damascus',\n",
       " 'Mary Golgotha.',\n",
       " 'Jezebel',\n",
       " 'Ahaz',\n",
       " 'O',\n",
       " 'Jesus',\n",
       " 'Lord',\n",
       " 'Star Wormword',\n",
       " 'LeMark',\n",
       " 'Lord',\n",
       " 'Watch Me',\n",
       " 'Jesus',\n",
       " 'Walter',\n",
       " 'Allie',\n",
       " 'Pittston',\n",
       " 'Jesus Savior',\n",
       " 'Jesus',\n",
       " 'Jonson',\n",
       " 'Lord Flies Serpents',\n",
       " 'Jonson',\n",
       " 'Jonson',\n",
       " 'Wit',\n",
       " 'Will',\n",
       " 'Main Street',\n",
       " 'Allie',\n",
       " 'Allie',\n",
       " 'Allie',\n",
       " 'Allie',\n",
       " 'Allie',\n",
       " 'Are',\n",
       " 'Sylvia Pittston',\n",
       " 'Pittston',\n",
       " 'Tongue',\n",
       " 'Antichrist.',\n",
       " 'Don',\n",
       " 'Don',\n",
       " 'Eye',\n",
       " 'Answer',\n",
       " 'Mountains',\n",
       " 'Crimson King',\n",
       " 'Kennerly',\n",
       " 'Ahead',\n",
       " 'Kennerly',\n",
       " 'Soobie',\n",
       " 'Kennerly',\n",
       " 'Kennerly',\n",
       " 'Soobie',\n",
       " 'Soobie',\n",
       " 'Allie',\n",
       " 'Sheb',\n",
       " 'God Tull',\n",
       " 'Allie',\n",
       " 'Allie',\n",
       " 'Sheb',\n",
       " 'Sheb',\n",
       " 'Sheb',\n",
       " 'Sheb Allie',\n",
       " 'Sylvia Pittston',\n",
       " 'Sheb',\n",
       " 'Aunt Mill',\n",
       " 'Sylvia Pittston',\n",
       " 'Eye Hand',\n",
       " 'Kennerly',\n",
       " 'Amy Feldon',\n",
       " 'Sylvia Pittston',\n",
       " 'Tull',\n",
       " 'None',\n",
       " 'Sheb',\n",
       " 'Kennerly',\n",
       " 'Brown',\n",
       " 'Brown',\n",
       " 'Brown',\n",
       " 'Brown',\n",
       " 'Brown',\n",
       " 'Brown',\n",
       " 'Brown',\n",
       " 'Brown',\n",
       " 'Brown',\n",
       " 'Brown',\n",
       " 'Walk',\n",
       " 'Allie',\n",
       " 'Cort',\n",
       " 'Susan',\n",
       " 'Mejis',\n",
       " 'Cort',\n",
       " 'High Speech',\n",
       " 'Cort',\n",
       " 'John Chambers',\n",
       " 'Jake',\n",
       " 'Jake',\n",
       " 'Jake',\n",
       " 'Zorro',\n",
       " 'Shaw',\n",
       " 'Times',\n",
       " 'Jake',\n",
       " 'Shaw',\n",
       " 'Who',\n",
       " 'Bama',\n",
       " 'Allie',\n",
       " 'Jake',\n",
       " 'Jake',\n",
       " 'Jake',\n",
       " 'Jake',\n",
       " 'Tower',\n",
       " 'Tower',\n",
       " 'Chussit',\n",
       " 'Earth Science',\n",
       " 'Geography',\n",
       " 'None',\n",
       " 'Jake',\n",
       " 'Jake',\n",
       " 'Jake Chambers',\n",
       " 'Lanes',\n",
       " 'Clay Blaisdell Western',\n",
       " 'Network',\n",
       " 'Bloomie',\n",
       " 'Shaw',\n",
       " 'Jake',\n",
       " 'Cadillac',\n",
       " 'Jake',\n",
       " 'Kiss',\n",
       " 'Jake',\n",
       " 'Jake',\n",
       " 'Jake',\n",
       " 'Cort',\n",
       " 'Susan',\n",
       " 'Marten',\n",
       " 'Jonas',\n",
       " 'Susan',\n",
       " 'Drop',\n",
       " 'Clean Sea',\n",
       " 'Traveller',\n",
       " 'Rest',\n",
       " 'See',\n",
       " 'Jake',\n",
       " 'Jake',\n",
       " 'Jake',\n",
       " 'Old',\n",
       " 'Old Mother',\n",
       " 'East Wing',\n",
       " 'Cuthbert Jamie',\n",
       " 'Jake',\n",
       " 'Jake',\n",
       " 'Jake',\n",
       " 'Jake',\n",
       " 'Jake',\n",
       " 'Demon',\n",
       " 'Fathoms',\n",
       " 'Jake',\n",
       " 'Jake',\n",
       " 'Off',\n",
       " 'Jake',\n",
       " 'Jake',\n",
       " 'Jake',\n",
       " 'Jake',\n",
       " 'Marten',\n",
       " 'Round Table',\n",
       " 'Jake',\n",
       " 'Arthur Eld',\n",
       " 'Cuthbert',\n",
       " 'Cuthbert',\n",
       " 'Marten',\n",
       " 'David',\n",
       " 'David',\n",
       " 'David',\n",
       " 'David',\n",
       " 'Cuthbert',\n",
       " 'Bert',\n",
       " 'Cort',\n",
       " 'Back Courts',\n",
       " 'Cuthbert',\n",
       " 'Cuthbert',\n",
       " 'Aren',\n",
       " 'Davey',\n",
       " 'Cuthbert',\n",
       " 'Cort',\n",
       " 'Cuthbert',\n",
       " 'Cuthbert',\n",
       " 'Tears',\n",
       " 'Cuthbert',\n",
       " 'Cort',\n",
       " 'Roland',\n",
       " 'Roland',\n",
       " 'Cort',\n",
       " 'Cuthbert',\n",
       " 'David',\n",
       " 'David',\n",
       " 'David',\n",
       " 'Cort',\n",
       " 'Roland',\n",
       " 'Cort',\n",
       " 'Cort',\n",
       " 'Cuthbert',\n",
       " 'Cort',\n",
       " 'Cort',\n",
       " 'Cuthbert',\n",
       " 'Cort',\n",
       " 'Cuthbert',\n",
       " 'Cuthbert',\n",
       " 'Cort',\n",
       " 'Cuthbert',\n",
       " 'Cort',\n",
       " 'Cuthbert Allgood',\n",
       " 'Cuthbert',\n",
       " 'Cort',\n",
       " 'Roland',\n",
       " 'Cuthbert',\n",
       " 'Cuthbert',\n",
       " 'Roland',\n",
       " 'Cort',\n",
       " 'Roland',\n",
       " 'Cuthbert',\n",
       " 'Hax',\n",
       " 'Bert',\n",
       " 'Guards',\n",
       " 'Guard',\n",
       " 'Don',\n",
       " 'Don',\n",
       " 'Maggie',\n",
       " 'Cuthbert',\n",
       " 'Cuthbert',\n",
       " 'Someone',\n",
       " 'Cuthbert',\n",
       " 'Guards',\n",
       " 'Farson',\n",
       " 'Guard',\n",
       " 'Guard',\n",
       " 'Guard',\n",
       " 'Soldier',\n",
       " 'Guard',\n",
       " 'Taunton',\n",
       " 'Guard',\n",
       " 'Will',\n",
       " 'Guard',\n",
       " 'Hax',\n",
       " 'Soldier',\n",
       " 'Guard',\n",
       " 'Cuthbert',\n",
       " 'Roland',\n",
       " 'Hax',\n",
       " 'Cuthbert',\n",
       " 'Cuthbert',\n",
       " 'Hax',\n",
       " 'Guard',\n",
       " 'Robeson',\n",
       " 'Cuthbert',\n",
       " 'Roland',\n",
       " 'Steven',\n",
       " 'Deschain',\n",
       " 'Hendrickson',\n",
       " 'Roland',\n",
       " 'Roland',\n",
       " 'Cuthbert',\n",
       " 'Does',\n",
       " 'Treason',\n",
       " 'Taunton',\n",
       " 'Cuthbert Vannay',\n",
       " 'Deschain',\n",
       " 'Father',\n",
       " 'Roland',\n",
       " 'Cook',\n",
       " 'Sooner',\n",
       " 'Roland',\n",
       " 'Hax',\n",
       " 'Susan',\n",
       " 'Oedipus',\n",
       " 'Farson',\n",
       " 'Gallows Hill Taunton Road',\n",
       " 'Cuthbert',\n",
       " 'Gilead',\n",
       " 'Cuthbert',\n",
       " 'Gallows Hill',\n",
       " 'Cuthbert',\n",
       " 'Roland',\n",
       " 'Cuthbert',\n",
       " 'Roland',\n",
       " 'Barony',\n",
       " 'Cuthbert',\n",
       " 'Cuthbert',\n",
       " 'Cuthbert',\n",
       " 'Roland',\n",
       " 'Roland',\n",
       " 'Cuthbert',\n",
       " 'Roland',\n",
       " 'Roland',\n",
       " 'Taunton',\n",
       " 'Cuthbert',\n",
       " 'Cuthbert',\n",
       " 'Cuthbert',\n",
       " 'Hax',\n",
       " 'Cuthbert',\n",
       " 'Hax',\n",
       " 'Hax',\n",
       " 'Hax',\n",
       " 'Bert',\n",
       " 'Cort',\n",
       " 'Cuthbert',\n",
       " 'Charles',\n",
       " 'Charles',\n",
       " 'Charles Charles',\n",
       " 'Hax',\n",
       " 'Guards Watch',\n",
       " 'Charles',\n",
       " 'Charles',\n",
       " 'Hax',\n",
       " 'Hax',\n",
       " 'Cuthbert',\n",
       " 'Roland',\n",
       " 'Bert',\n",
       " 'Cuthbert',\n",
       " 'Cuthbert',\n",
       " 'Bert',\n",
       " 'Jake',\n",
       " 'Jake',\n",
       " 'Jake',\n",
       " 'Jake',\n",
       " 'Cuthbert',\n",
       " 'Jake',\n",
       " 'Jake',\n",
       " 'Jake',\n",
       " 'Vannay',\n",
       " 'Allie',\n",
       " 'Tull',\n",
       " 'Allie',\n",
       " 'Jake',\n",
       " 'Jake',\n",
       " 'Cuthbert',\n",
       " 'Cuthbert',\n",
       " 'Far',\n",
       " 'Susan Delgado',\n",
       " 'Susan',\n",
       " 'Susan',\n",
       " 'Hey Jude',\n",
       " 'Jake',\n",
       " 'Roland',\n",
       " 'Mejis',\n",
       " 'Jake',\n",
       " 'Jake',\n",
       " 'Jake',\n",
       " 'Jake',\n",
       " 'Jake',\n",
       " 'Jake',\n",
       " 'Jake',\n",
       " 'Jake',\n",
       " 'Susan Delgado',\n",
       " 'Jake',\n",
       " 'Jake',\n",
       " 'Jake',\n",
       " 'Jake',\n",
       " 'Jake',\n",
       " 'Jake',\n",
       " 'See',\n",
       " 'Jake',\n",
       " 'Jake',\n",
       " 'Jake',\n",
       " 'Don',\n",
       " 'Jake',\n",
       " 'Cuthbert',\n",
       " 'Bert',\n",
       " 'Jake',\n",
       " 'Sylvia Pittston',\n",
       " 'Pittston',\n",
       " 'Jake',\n",
       " 'Cort',\n",
       " 'Gods',\n",
       " 'Jake',\n",
       " 'Jake',\n",
       " 'Marten',\n",
       " 'Will',\n",
       " 'Jake',\n",
       " 'Jake',\n",
       " 'Jake',\n",
       " 'Jake',\n",
       " 'Jake',\n",
       " 'Narcissus',\n",
       " 'Sunlight',\n",
       " 'Coherent',\n",
       " 'Susan',\n",
       " 'Make',\n",
       " 'Susan',\n",
       " 'Susan Delgado',\n",
       " 'Don',\n",
       " 'Sterile',\n",
       " 'Already',\n",
       " 'Wind',\n",
       " 'Jake',\n",
       " 'Empires',\n",
       " 'Dark Tower',\n",
       " 'Don',\n",
       " 'Marten',\n",
       " 'Sylvia Pittston',\n",
       " 'Tull',\n",
       " 'Jake',\n",
       " 'Jake',\n",
       " 'Jake',\n",
       " 'Yar',\n",
       " 'Jake',\n",
       " 'Jake',\n",
       " 'Jake',\n",
       " 'Jake',\n",
       " 'Jake',\n",
       " 'Trunks',\n",
       " 'Jake',\n",
       " 'Jake',\n",
       " 'Jake',\n",
       " 'Will',\n",
       " 'Don',\n",
       " 'Jake',\n",
       " 'Jake',\n",
       " 'Don',\n",
       " 'Jake',\n",
       " 'Jake',\n",
       " 'Cort',\n",
       " 'Cort',\n",
       " 'Jake',\n",
       " 'Tower',\n",
       " 'Jake',\n",
       " 'Bible',\n",
       " 'Jesus Moses',\n",
       " 'Ulysses',\n",
       " 'Jake',\n",
       " 'Jake',\n",
       " 'Aileen Ritter',\n",
       " 'Cort',\n",
       " 'Hax',\n",
       " 'Slow Mutants',\n",
       " 'Jake',\n",
       " 'Jake',\n",
       " 'Jake',\n",
       " 'Jake',\n",
       " 'Patches',\n",
       " 'Jake',\n",
       " 'Jake',\n",
       " 'Jake',\n",
       " 'Jake',\n",
       " 'Jeremiah',\n",
       " 'Jake',\n",
       " 'Allie',\n",
       " 'Tull',\n",
       " 'Jake',\n",
       " 'Jake',\n",
       " 'Worlds',\n",
       " 'Coffee Thermos',\n",
       " 'Jake',\n",
       " 'Jake',\n",
       " 'Cuthbert',\n",
       " 'Cort',\n",
       " 'Jake',\n",
       " 'Fresh Commala',\n",
       " 'Susan Delgado Mejis',\n",
       " 'Ball',\n",
       " 'Marten',\n",
       " 'Marten',\n",
       " 'Tet',\n",
       " 'Dinh Gilead',\n",
       " 'Marten',\n",
       " 'Gabrielle Verriss',\n",
       " 'Alan',\n",
       " 'Steven',\n",
       " 'Marten',\n",
       " 'Jake',\n",
       " 'Careful',\n",
       " 'Jake',\n",
       " 'Him',\n",
       " 'Roland',\n",
       " 'Jake',\n",
       " 'Handcar',\n",
       " 'Good',\n",
       " 'Jake',\n",
       " 'Good',\n",
       " 'Jake',\n",
       " 'Great Hall',\n",
       " 'Night Cotillion',\n",
       " 'Tull',\n",
       " 'Next',\n",
       " 'Cuthbert Allgood',\n",
       " 'Susan',\n",
       " 'Goodbye',\n",
       " 'Larchies',\n",
       " 'Jake',\n",
       " 'Roland',\n",
       " 'Da',\n",
       " 'Jake',\n",
       " 'Jake',\n",
       " 'Town',\n",
       " 'Tower',\n",
       " 'Dad',\n",
       " 'Roland',\n",
       " 'Full',\n",
       " 'Marten',\n",
       " 'Don',\n",
       " 'Marten',\n",
       " 'Are',\n",
       " 'Ro',\n",
       " 'Marten',\n",
       " 'Vannay',\n",
       " 'Cuthbert',\n",
       " 'Jamie',\n",
       " 'David',\n",
       " 'Marten',\n",
       " 'Marten',\n",
       " 'Marten',\n",
       " 'Cort',\n",
       " 'Marten',\n",
       " 'Marten',\n",
       " 'Marten',\n",
       " 'Will',\n",
       " 'Marten',\n",
       " 'Marten',\n",
       " 'Marten',\n",
       " 'Cort',\n",
       " 'Jamie',\n",
       " 'Roland',\n",
       " 'Cort',\n",
       " 'High Speech',\n",
       " 'Cort',\n",
       " 'Cort',\n",
       " 'High Speech',\n",
       " 'Cort',\n",
       " 'Rise',\n",
       " 'Cort',\n",
       " 'Cort',\n",
       " 'Which',\n",
       " 'Great Hall',\n",
       " 'Cort',\n",
       " 'Marten',\n",
       " 'Cort',\n",
       " 'Roland',\n",
       " 'David',\n",
       " 'David',\n",
       " 'Hai',\n",
       " 'David',\n",
       " 'David',\n",
       " 'David',\n",
       " 'David',\n",
       " 'David',\n",
       " 'Great Hall',\n",
       " 'Mark',\n",
       " 'Great Hall',\n",
       " 'Garlan',\n",
       " 'Mohaine Desert',\n",
       " 'Jamie DeCurry',\n",
       " 'Cuthbert Allgood',\n",
       " 'Alain Johns',\n",
       " 'Thomas Whitman',\n",
       " 'Cuthbert',\n",
       " 'Marten',\n",
       " 'Has Cort',\n",
       " 'Cort',\n",
       " 'Eld',\n",
       " 'Cort',\n",
       " 'Steven Deschain',\n",
       " 'Cort',\n",
       " 'David',\n",
       " 'Did',\n",
       " 'Cort',\n",
       " 'Cort',\n",
       " 'David',\n",
       " 'Cort',\n",
       " 'Cuthbert',\n",
       " 'Cort',\n",
       " 'Cort',\n",
       " 'Cort',\n",
       " 'David',\n",
       " 'Cort',\n",
       " 'Cort',\n",
       " 'David',\n",
       " 'Cort',\n",
       " 'David',\n",
       " 'Kill',\n",
       " 'Cort',\n",
       " 'Cort',\n",
       " 'David',\n",
       " 'Cort',\n",
       " 'Cort',\n",
       " 'Cort',\n",
       " 'Cort',\n",
       " 'Cort',\n",
       " 'Cort',\n",
       " 'Gran',\n",
       " 'Cort',\n",
       " 'Cort',\n",
       " 'Cort',\n",
       " 'Cort',\n",
       " 'David',\n",
       " 'Cort',\n",
       " 'Cort',\n",
       " 'Wipe',\n",
       " 'Cort',\n",
       " 'Fools',\n",
       " 'Given',\n",
       " 'Will',\n",
       " 'Cuthbert',\n",
       " 'Thomas Jamie',\n",
       " 'Cuthbert',\n",
       " 'Bert',\n",
       " 'Marten',\n",
       " 'Thomas Jamie',\n",
       " 'Cuthbert',\n",
       " 'Marten',\n",
       " 'Jake',\n",
       " 'Above',\n",
       " 'Slow Mutants',\n",
       " 'None',\n",
       " 'Jake',\n",
       " 'Jesus',\n",
       " 'Jake',\n",
       " 'Slow Mutie',\n",
       " 'Hold',\n",
       " 'Hard',\n",
       " 'Jake',\n",
       " 'Jersey Turnpike',\n",
       " 'Elmer Chambers',\n",
       " 'Sargasso',\n",
       " 'High Speech',\n",
       " 'Subway',\n",
       " 'Gas',\n",
       " 'Vannay',\n",
       " 'Okay',\n",
       " 'Feast Reaptide',\n",
       " 'Jake',\n",
       " 'Mother',\n",
       " 'Simon',\n",
       " 'Mother Says',\n",
       " 'Cuthbert',\n",
       " 'Jamie',\n",
       " 'Jake',\n",
       " 'Yar',\n",
       " 'Roland',\n",
       " 'Man Jesus',\n",
       " 'Hello',\n",
       " 'Tarot',\n",
       " 'Hanged Man',\n",
       " 'Tower',\n",
       " 'Cuthbert',\n",
       " 'Gather',\n",
       " 'Joshua',\n",
       " 'Are',\n",
       " 'Gilead',\n",
       " 'Mockery',\n",
       " 'Tower',\n",
       " 'Roland',\n",
       " 'Hanged Man',\n",
       " 'Na',\n",
       " 'Don',\n",
       " 'Don',\n",
       " 'Tower Hanged Man',\n",
       " 'Volcanoes',\n",
       " 'Okay',\n",
       " 'Dinosaurs',\n",
       " 'Vannay',\n",
       " 'Further',\n",
       " 'Light',\n",
       " 'Tower',\n",
       " 'Shaken',\n",
       " 'Walter',\n",
       " 'Dark Tower',\n",
       " 'Earth',\n",
       " 'Steven',\n",
       " 'Great All',\n",
       " 'Gunslinger',\n",
       " 'Tower',\n",
       " 'Daddy',\n",
       " 'Might',\n",
       " 'Horsehead Nebula',\n",
       " 'God',\n",
       " 'Mohaine Desert',\n",
       " 'Tower',\n",
       " 'Room',\n",
       " 'Afraid',\n",
       " 'Milky Way',\n",
       " 'Cort',\n",
       " 'Ageless',\n",
       " 'Stranger',\n",
       " 'Tower',\n",
       " 'Tower',\n",
       " 'Marten',\n",
       " 'Marten',\n",
       " 'Marten',\n",
       " 'Tower',\n",
       " 'Tower',\n",
       " 'Water',\n",
       " 'Oracle',\n",
       " 'Ware',\n",
       " 'Roland',\n",
       " 'Roland',\n",
       " 'Walter',\n",
       " 'Walter',\n",
       " 'Dark Tower',\n",
       " 'Bullshit Factor',\n",
       " 'Scribner',\n",
       " 'Farson',\n",
       " 'John Farson',\n",
       " 'Gilead']"
      ]
     },
     "execution_count": 39,
     "metadata": {},
     "output_type": "execute_result"
    }
   ],
   "source": [
    "characters"
   ]
  },
  {
   "cell_type": "code",
   "execution_count": 40,
   "metadata": {
    "ExecuteTime": {
     "end_time": "2017-11-10T03:43:07.872568Z",
     "start_time": "2017-11-10T03:43:07.867698Z"
    },
    "collapsed": true
   },
   "outputs": [],
   "source": [
    "characters = [s.split(\" \") for s in characters]"
   ]
  },
  {
   "cell_type": "code",
   "execution_count": 41,
   "metadata": {
    "ExecuteTime": {
     "end_time": "2017-11-10T03:43:07.880529Z",
     "start_time": "2017-11-10T03:43:07.875325Z"
    },
    "collapsed": true
   },
   "outputs": [],
   "source": [
    "flat_list = [item for sublist in characters for item in sublist]"
   ]
  },
  {
   "cell_type": "code",
   "execution_count": 42,
   "metadata": {
    "ExecuteTime": {
     "end_time": "2017-11-10T03:43:07.901742Z",
     "start_time": "2017-11-10T03:43:07.882992Z"
    }
   },
   "outputs": [
    {
     "data": {
      "text/plain": [
       "['Penguin',\n",
       " 'Book',\n",
       " 'Stephen',\n",
       " 'King',\n",
       " 'Penguin',\n",
       " 'Putnam',\n",
       " 'Penguin',\n",
       " 'Books',\n",
       " 'Penguin',\n",
       " 'Putnam',\n",
       " 'Penguin',\n",
       " 'Putnam',\n",
       " 'STEPHEN',\n",
       " 'Carrie',\n",
       " 'Salem',\n",
       " 'Christine',\n",
       " 'Pet',\n",
       " 'Sematary',\n",
       " 'Cycle',\n",
       " 'Werewolf',\n",
       " 'Peter',\n",
       " 'Straub',\n",
       " 'Dolores',\n",
       " 'Claiborne',\n",
       " 'Insomnia',\n",
       " 'Rose',\n",
       " 'Madder',\n",
       " 'Wizard',\n",
       " 'Glass',\n",
       " 'Bag',\n",
       " 'Bones',\n",
       " 'Tom',\n",
       " 'Gordon',\n",
       " 'Dreamcatcher',\n",
       " 'Black',\n",
       " 'House',\n",
       " 'Peter',\n",
       " 'Straub',\n",
       " 'Skeleton',\n",
       " 'Crew',\n",
       " 'Atlantis',\n",
       " 'Everything',\n",
       " 'Eventual',\n",
       " 'SCREENPLAYS',\n",
       " 'Creepshow',\n",
       " 'Cat',\n",
       " 'Eye',\n",
       " 'Silver',\n",
       " 'Bullet',\n",
       " 'Maximum',\n",
       " 'Overdrive',\n",
       " 'Pet',\n",
       " 'Sematary',\n",
       " 'Golden',\n",
       " 'Century',\n",
       " 'Who',\n",
       " 'Merrys',\n",
       " 'Pippins',\n",
       " 'Max',\n",
       " 'Yasgur',\n",
       " 'Great',\n",
       " 'Woodstock',\n",
       " 'Music',\n",
       " 'Festival',\n",
       " 'Gandalfs',\n",
       " 'Tolkien',\n",
       " 'Stephen',\n",
       " 'Donaldson',\n",
       " 'Terry',\n",
       " 'Brooks',\n",
       " 'Tolkien',\n",
       " 'Tolkien',\n",
       " 'Tricky',\n",
       " 'Dick',\n",
       " 'Nixon',\n",
       " 'Mr.',\n",
       " 'Tolkien',\n",
       " 'Look',\n",
       " 'Stevie',\n",
       " 'Nineteen',\n",
       " 'Bob',\n",
       " 'Seger',\n",
       " 'Patrol',\n",
       " 'Boy',\n",
       " 'Bad',\n",
       " 'Lieutenant',\n",
       " 'Patrol',\n",
       " 'Boy',\n",
       " 'Mine',\n",
       " 'Stephen',\n",
       " 'God',\n",
       " 'Tolkien',\n",
       " 'Pall',\n",
       " 'Malls',\n",
       " 'Patrol',\n",
       " 'Boy',\n",
       " 'Maine',\n",
       " 'Sergio',\n",
       " 'Leone',\n",
       " 'Bad',\n",
       " 'Ugly',\n",
       " 'Tolkien',\n",
       " 'Leone',\n",
       " 'Clint',\n",
       " 'Lee',\n",
       " 'Van',\n",
       " 'Cleef',\n",
       " 'Wizard',\n",
       " 'Glass',\n",
       " 'Leone',\n",
       " 'Phoenix',\n",
       " 'Seems',\n",
       " 'Patrol',\n",
       " 'Boy',\n",
       " 'From',\n",
       " 'Buick',\n",
       " 'Dearborn',\n",
       " 'Michigan',\n",
       " 'Dark',\n",
       " 'Tower',\n",
       " 'Varney',\n",
       " 'Vampire',\n",
       " 'Tower',\n",
       " 'Beams',\n",
       " 'Tower',\n",
       " 'Dark',\n",
       " 'Tower',\n",
       " 'Gramma',\n",
       " 'Outside',\n",
       " 'Me',\n",
       " 'Single',\n",
       " 'Marsha',\n",
       " 'DiFilippo',\n",
       " 'Texas',\n",
       " 'Florida',\n",
       " 'Chussit',\n",
       " 'Patrol',\n",
       " 'Boy',\n",
       " 'Volume',\n",
       " 'Five',\n",
       " 'Stephen',\n",
       " 'Dark',\n",
       " 'Tower',\n",
       " 'Bullshit',\n",
       " 'Rule',\n",
       " 'Dark',\n",
       " 'Tower',\n",
       " 'Dark',\n",
       " 'Tower',\n",
       " 'Chaucer',\n",
       " 'Charles',\n",
       " 'Dickens',\n",
       " 'Stephen',\n",
       " 'Volume',\n",
       " 'Five',\n",
       " 'Volume',\n",
       " 'Six',\n",
       " 'Volume',\n",
       " 'Seven',\n",
       " 'Roland',\n",
       " 'God',\n",
       " 'Roland',\n",
       " 'Dark',\n",
       " 'Tower',\n",
       " 'Dark',\n",
       " 'Tower',\n",
       " 'Thomas',\n",
       " 'Wolfe',\n",
       " 'Look',\n",
       " 'Homeward',\n",
       " 'Had',\n",
       " 'Man',\n",
       " 'Jesus',\n",
       " 'Philistine',\n",
       " 'God',\n",
       " 'Water',\n",
       " 'God',\n",
       " 'Jericho',\n",
       " 'Hill',\n",
       " 'Weren',\n",
       " 'Cort',\n",
       " 'Old',\n",
       " 'Mother',\n",
       " 'Silva',\n",
       " 'Man',\n",
       " 'Jesus',\n",
       " 'Him',\n",
       " 'Algul',\n",
       " 'Siento',\n",
       " 'Blue',\n",
       " 'Haven',\n",
       " 'Heaven',\n",
       " 'Manni',\n",
       " 'Brown',\n",
       " 'Brown',\n",
       " 'Zoltan',\n",
       " 'Screw',\n",
       " 'Brown',\n",
       " 'Prayer',\n",
       " 'Lord',\n",
       " 'Brown',\n",
       " 'Thought',\n",
       " 'Did',\n",
       " 'Brown',\n",
       " 'Zoltan',\n",
       " 'Brown',\n",
       " 'Brown',\n",
       " 'Brown',\n",
       " 'Brown',\n",
       " 'Zoltan',\n",
       " 'Screw',\n",
       " 'Brown',\n",
       " 'Brown',\n",
       " 'Brown',\n",
       " 'God',\n",
       " 'God',\n",
       " 'Brown',\n",
       " 'Brown',\n",
       " 'Pappa',\n",
       " 'Brown',\n",
       " 'Zoltan',\n",
       " 'Tull',\n",
       " 'Sheemie',\n",
       " 'Brown',\n",
       " 'Didn',\n",
       " 'Tull',\n",
       " 'Brown',\n",
       " 'Brown',\n",
       " 'Brown',\n",
       " 'Dinner',\n",
       " 'Brown',\n",
       " 'Roasted',\n",
       " 'Brown',\n",
       " 'Brown',\n",
       " 'Brown',\n",
       " 'Brown',\n",
       " 'Brown',\n",
       " 'Brown',\n",
       " 'Garlan',\n",
       " 'Zoltan',\n",
       " 'Tull',\n",
       " 'Brown',\n",
       " 'Came',\n",
       " 'Pappa',\n",
       " 'Doc',\n",
       " 'Brown',\n",
       " 'Brown',\n",
       " 'Brown',\n",
       " 'Brown',\n",
       " 'Brown',\n",
       " 'Brown',\n",
       " 'Brown',\n",
       " 'Tull',\n",
       " 'Tull',\n",
       " 'Tull',\n",
       " 'Hey',\n",
       " 'Jude',\n",
       " 'Jude',\n",
       " 'Rub',\n",
       " 'Might',\n",
       " 'Charlie',\n",
       " 'Watch',\n",
       " 'Me',\n",
       " 'Mouths',\n",
       " 'Beer',\n",
       " 'Don',\n",
       " 'Bread',\n",
       " 'Peddler',\n",
       " 'Moon',\n",
       " 'High',\n",
       " 'Speech',\n",
       " 'Gilead',\n",
       " 'High',\n",
       " 'Speech',\n",
       " 'Numbed',\n",
       " 'Don',\n",
       " 'Reap',\n",
       " 'Mice',\n",
       " 'Nort',\n",
       " 'Jubal',\n",
       " 'Kennerly',\n",
       " 'Kennerly',\n",
       " 'Nort',\n",
       " 'Zachary',\n",
       " 'Amy',\n",
       " 'Feldon',\n",
       " 'Aunt',\n",
       " 'Mill',\n",
       " 'Allie',\n",
       " 'Tull',\n",
       " 'Wake',\n",
       " 'Don',\n",
       " 'Mistuh',\n",
       " 'Norton',\n",
       " 'Aunt',\n",
       " 'Mill',\n",
       " 'Sheb',\n",
       " 'Aunt',\n",
       " 'Mill',\n",
       " 'Aunt',\n",
       " 'Mill',\n",
       " 'Thunder',\n",
       " 'Sheb',\n",
       " 'Sheb',\n",
       " 'Nort',\n",
       " 'Nort',\n",
       " 'Sheb',\n",
       " 'Allie',\n",
       " 'Nort',\n",
       " 'Nort',\n",
       " 'Hello',\n",
       " 'Allie',\n",
       " 'Kennerly',\n",
       " 'Sheb',\n",
       " 'Nort',\n",
       " 'Allie',\n",
       " 'Nort',\n",
       " 'Dim',\n",
       " 'Sooner',\n",
       " 'Life',\n",
       " 'Nort',\n",
       " 'Allie',\n",
       " 'Nort',\n",
       " 'Suppose',\n",
       " 'Land',\n",
       " 'Death',\n",
       " 'Don',\n",
       " 'Walter',\n",
       " 'Dim',\n",
       " 'Sooner',\n",
       " 'Allie',\n",
       " 'Don',\n",
       " 'Nort',\n",
       " 'Kennerly',\n",
       " 'Someone',\n",
       " 'Hit',\n",
       " 'Kennerly',\n",
       " 'Soobie',\n",
       " 'Soobie',\n",
       " 'Ain',\n",
       " 'Kennerly',\n",
       " 'Ain',\n",
       " 'Book',\n",
       " 'Kennerly',\n",
       " 'Kennerly',\n",
       " 'Kennerly',\n",
       " 'Kennerly',\n",
       " 'Kennerly',\n",
       " 'Kennerly',\n",
       " 'Kennerly',\n",
       " 'Kennerly',\n",
       " 'Allie',\n",
       " 'Kennerly',\n",
       " 'Soobie',\n",
       " 'Kennerly',\n",
       " 'Allie',\n",
       " 'Sheb',\n",
       " 'Allie',\n",
       " 'Allie',\n",
       " 'Sheb',\n",
       " 'Spittle',\n",
       " 'Sheb',\n",
       " 'Allie',\n",
       " 'Allie',\n",
       " 'Sheb',\n",
       " 'Allie',\n",
       " 'Broken',\n",
       " 'Didn',\n",
       " 'Mejis',\n",
       " 'Mejis',\n",
       " 'Clean',\n",
       " 'Susan',\n",
       " 'Sheb',\n",
       " 'Eldred',\n",
       " 'Jonas',\n",
       " 'Coffin',\n",
       " 'Hunter',\n",
       " 'Sheb',\n",
       " 'Sabbath',\n",
       " 'Tull',\n",
       " 'Allie',\n",
       " 'Allie',\n",
       " 'Kennerly',\n",
       " 'Castner',\n",
       " 'Allie',\n",
       " 'Sylvia',\n",
       " 'Pittston',\n",
       " 'Mejis',\n",
       " 'Sylvia',\n",
       " 'Pittston',\n",
       " 'Good',\n",
       " 'Book',\n",
       " 'Daniel',\n",
       " 'David',\n",
       " 'Bathsheba',\n",
       " 'Samson',\n",
       " 'St.',\n",
       " 'Paul',\n",
       " 'Damascus',\n",
       " 'Mary',\n",
       " 'Golgotha.',\n",
       " 'Jezebel',\n",
       " 'Ahaz',\n",
       " 'O',\n",
       " 'Jesus',\n",
       " 'Lord',\n",
       " 'Star',\n",
       " 'Wormword',\n",
       " 'LeMark',\n",
       " 'Lord',\n",
       " 'Watch',\n",
       " 'Me',\n",
       " 'Jesus',\n",
       " 'Walter',\n",
       " 'Allie',\n",
       " 'Pittston',\n",
       " 'Jesus',\n",
       " 'Savior',\n",
       " 'Jesus',\n",
       " 'Jonson',\n",
       " 'Lord',\n",
       " 'Flies',\n",
       " 'Serpents',\n",
       " 'Jonson',\n",
       " 'Jonson',\n",
       " 'Wit',\n",
       " 'Will',\n",
       " 'Main',\n",
       " 'Street',\n",
       " 'Allie',\n",
       " 'Allie',\n",
       " 'Allie',\n",
       " 'Allie',\n",
       " 'Allie',\n",
       " 'Are',\n",
       " 'Sylvia',\n",
       " 'Pittston',\n",
       " 'Pittston',\n",
       " 'Tongue',\n",
       " 'Antichrist.',\n",
       " 'Don',\n",
       " 'Don',\n",
       " 'Eye',\n",
       " 'Answer',\n",
       " 'Mountains',\n",
       " 'Crimson',\n",
       " 'King',\n",
       " 'Kennerly',\n",
       " 'Ahead',\n",
       " 'Kennerly',\n",
       " 'Soobie',\n",
       " 'Kennerly',\n",
       " 'Kennerly',\n",
       " 'Soobie',\n",
       " 'Soobie',\n",
       " 'Allie',\n",
       " 'Sheb',\n",
       " 'God',\n",
       " 'Tull',\n",
       " 'Allie',\n",
       " 'Allie',\n",
       " 'Sheb',\n",
       " 'Sheb',\n",
       " 'Sheb',\n",
       " 'Sheb',\n",
       " 'Allie',\n",
       " 'Sylvia',\n",
       " 'Pittston',\n",
       " 'Sheb',\n",
       " 'Aunt',\n",
       " 'Mill',\n",
       " 'Sylvia',\n",
       " 'Pittston',\n",
       " 'Eye',\n",
       " 'Hand',\n",
       " 'Kennerly',\n",
       " 'Amy',\n",
       " 'Feldon',\n",
       " 'Sylvia',\n",
       " 'Pittston',\n",
       " 'Tull',\n",
       " 'None',\n",
       " 'Sheb',\n",
       " 'Kennerly',\n",
       " 'Brown',\n",
       " 'Brown',\n",
       " 'Brown',\n",
       " 'Brown',\n",
       " 'Brown',\n",
       " 'Brown',\n",
       " 'Brown',\n",
       " 'Brown',\n",
       " 'Brown',\n",
       " 'Brown',\n",
       " 'Walk',\n",
       " 'Allie',\n",
       " 'Cort',\n",
       " 'Susan',\n",
       " 'Mejis',\n",
       " 'Cort',\n",
       " 'High',\n",
       " 'Speech',\n",
       " 'Cort',\n",
       " 'John',\n",
       " 'Chambers',\n",
       " 'Jake',\n",
       " 'Jake',\n",
       " 'Jake',\n",
       " 'Zorro',\n",
       " 'Shaw',\n",
       " 'Times',\n",
       " 'Jake',\n",
       " 'Shaw',\n",
       " 'Who',\n",
       " 'Bama',\n",
       " 'Allie',\n",
       " 'Jake',\n",
       " 'Jake',\n",
       " 'Jake',\n",
       " 'Jake',\n",
       " 'Tower',\n",
       " 'Tower',\n",
       " 'Chussit',\n",
       " 'Earth',\n",
       " 'Science',\n",
       " 'Geography',\n",
       " 'None',\n",
       " 'Jake',\n",
       " 'Jake',\n",
       " 'Jake',\n",
       " 'Chambers',\n",
       " 'Lanes',\n",
       " 'Clay',\n",
       " 'Blaisdell',\n",
       " 'Western',\n",
       " 'Network',\n",
       " 'Bloomie',\n",
       " 'Shaw',\n",
       " 'Jake',\n",
       " 'Cadillac',\n",
       " 'Jake',\n",
       " 'Kiss',\n",
       " 'Jake',\n",
       " 'Jake',\n",
       " 'Jake',\n",
       " 'Cort',\n",
       " 'Susan',\n",
       " 'Marten',\n",
       " 'Jonas',\n",
       " 'Susan',\n",
       " 'Drop',\n",
       " 'Clean',\n",
       " 'Sea',\n",
       " 'Traveller',\n",
       " 'Rest',\n",
       " 'See',\n",
       " 'Jake',\n",
       " 'Jake',\n",
       " 'Jake',\n",
       " 'Old',\n",
       " 'Old',\n",
       " 'Mother',\n",
       " 'East',\n",
       " 'Wing',\n",
       " 'Cuthbert',\n",
       " 'Jamie',\n",
       " 'Jake',\n",
       " 'Jake',\n",
       " 'Jake',\n",
       " 'Jake',\n",
       " 'Jake',\n",
       " 'Demon',\n",
       " 'Fathoms',\n",
       " 'Jake',\n",
       " 'Jake',\n",
       " 'Off',\n",
       " 'Jake',\n",
       " 'Jake',\n",
       " 'Jake',\n",
       " 'Jake',\n",
       " 'Marten',\n",
       " 'Round',\n",
       " 'Table',\n",
       " 'Jake',\n",
       " 'Arthur',\n",
       " 'Eld',\n",
       " 'Cuthbert',\n",
       " 'Cuthbert',\n",
       " 'Marten',\n",
       " 'David',\n",
       " 'David',\n",
       " 'David',\n",
       " 'David',\n",
       " 'Cuthbert',\n",
       " 'Bert',\n",
       " 'Cort',\n",
       " 'Back',\n",
       " 'Courts',\n",
       " 'Cuthbert',\n",
       " 'Cuthbert',\n",
       " 'Aren',\n",
       " 'Davey',\n",
       " 'Cuthbert',\n",
       " 'Cort',\n",
       " 'Cuthbert',\n",
       " 'Cuthbert',\n",
       " 'Tears',\n",
       " 'Cuthbert',\n",
       " 'Cort',\n",
       " 'Roland',\n",
       " 'Roland',\n",
       " 'Cort',\n",
       " 'Cuthbert',\n",
       " 'David',\n",
       " 'David',\n",
       " 'David',\n",
       " 'Cort',\n",
       " 'Roland',\n",
       " 'Cort',\n",
       " 'Cort',\n",
       " 'Cuthbert',\n",
       " 'Cort',\n",
       " 'Cort',\n",
       " 'Cuthbert',\n",
       " 'Cort',\n",
       " 'Cuthbert',\n",
       " 'Cuthbert',\n",
       " 'Cort',\n",
       " 'Cuthbert',\n",
       " 'Cort',\n",
       " 'Cuthbert',\n",
       " 'Allgood',\n",
       " 'Cuthbert',\n",
       " 'Cort',\n",
       " 'Roland',\n",
       " 'Cuthbert',\n",
       " 'Cuthbert',\n",
       " 'Roland',\n",
       " 'Cort',\n",
       " 'Roland',\n",
       " 'Cuthbert',\n",
       " 'Hax',\n",
       " 'Bert',\n",
       " 'Guards',\n",
       " 'Guard',\n",
       " 'Don',\n",
       " 'Don',\n",
       " 'Maggie',\n",
       " 'Cuthbert',\n",
       " 'Cuthbert',\n",
       " 'Someone',\n",
       " 'Cuthbert',\n",
       " 'Guards',\n",
       " 'Farson',\n",
       " 'Guard',\n",
       " 'Guard',\n",
       " 'Guard',\n",
       " 'Soldier',\n",
       " 'Guard',\n",
       " 'Taunton',\n",
       " 'Guard',\n",
       " 'Will',\n",
       " 'Guard',\n",
       " 'Hax',\n",
       " 'Soldier',\n",
       " 'Guard',\n",
       " 'Cuthbert',\n",
       " 'Roland',\n",
       " 'Hax',\n",
       " 'Cuthbert',\n",
       " 'Cuthbert',\n",
       " 'Hax',\n",
       " 'Guard',\n",
       " 'Robeson',\n",
       " 'Cuthbert',\n",
       " 'Roland',\n",
       " 'Steven',\n",
       " 'Deschain',\n",
       " 'Hendrickson',\n",
       " 'Roland',\n",
       " 'Roland',\n",
       " 'Cuthbert',\n",
       " 'Does',\n",
       " 'Treason',\n",
       " 'Taunton',\n",
       " 'Cuthbert',\n",
       " 'Vannay',\n",
       " 'Deschain',\n",
       " 'Father',\n",
       " 'Roland',\n",
       " 'Cook',\n",
       " 'Sooner',\n",
       " 'Roland',\n",
       " 'Hax',\n",
       " 'Susan',\n",
       " 'Oedipus',\n",
       " 'Farson',\n",
       " 'Gallows',\n",
       " 'Hill',\n",
       " 'Taunton',\n",
       " 'Road',\n",
       " 'Cuthbert',\n",
       " 'Gilead',\n",
       " 'Cuthbert',\n",
       " 'Gallows',\n",
       " 'Hill',\n",
       " 'Cuthbert',\n",
       " 'Roland',\n",
       " 'Cuthbert',\n",
       " 'Roland',\n",
       " 'Barony',\n",
       " 'Cuthbert',\n",
       " 'Cuthbert',\n",
       " 'Cuthbert',\n",
       " 'Roland',\n",
       " 'Roland',\n",
       " 'Cuthbert',\n",
       " 'Roland',\n",
       " 'Roland',\n",
       " 'Taunton',\n",
       " 'Cuthbert',\n",
       " 'Cuthbert',\n",
       " 'Cuthbert',\n",
       " 'Hax',\n",
       " 'Cuthbert',\n",
       " 'Hax',\n",
       " 'Hax',\n",
       " 'Hax',\n",
       " 'Bert',\n",
       " 'Cort',\n",
       " 'Cuthbert',\n",
       " 'Charles',\n",
       " 'Charles',\n",
       " 'Charles',\n",
       " 'Charles',\n",
       " 'Hax',\n",
       " 'Guards',\n",
       " 'Watch',\n",
       " 'Charles',\n",
       " 'Charles',\n",
       " 'Hax',\n",
       " 'Hax',\n",
       " 'Cuthbert',\n",
       " 'Roland',\n",
       " 'Bert',\n",
       " 'Cuthbert',\n",
       " 'Cuthbert',\n",
       " 'Bert',\n",
       " 'Jake',\n",
       " 'Jake',\n",
       " 'Jake',\n",
       " 'Jake',\n",
       " 'Cuthbert',\n",
       " 'Jake',\n",
       " 'Jake',\n",
       " 'Jake',\n",
       " 'Vannay',\n",
       " 'Allie',\n",
       " 'Tull',\n",
       " 'Allie',\n",
       " 'Jake',\n",
       " 'Jake',\n",
       " 'Cuthbert',\n",
       " 'Cuthbert',\n",
       " 'Far',\n",
       " 'Susan',\n",
       " 'Delgado',\n",
       " 'Susan',\n",
       " 'Susan',\n",
       " 'Hey',\n",
       " 'Jude',\n",
       " 'Jake',\n",
       " 'Roland',\n",
       " 'Mejis',\n",
       " 'Jake',\n",
       " 'Jake',\n",
       " 'Jake',\n",
       " 'Jake',\n",
       " 'Jake',\n",
       " 'Jake',\n",
       " 'Jake',\n",
       " 'Jake',\n",
       " 'Susan',\n",
       " 'Delgado',\n",
       " 'Jake',\n",
       " 'Jake',\n",
       " 'Jake',\n",
       " 'Jake',\n",
       " 'Jake',\n",
       " 'Jake',\n",
       " 'See',\n",
       " 'Jake',\n",
       " 'Jake',\n",
       " 'Jake',\n",
       " 'Don',\n",
       " 'Jake',\n",
       " 'Cuthbert',\n",
       " 'Bert',\n",
       " 'Jake',\n",
       " 'Sylvia',\n",
       " 'Pittston',\n",
       " 'Pittston',\n",
       " 'Jake',\n",
       " 'Cort',\n",
       " 'Gods',\n",
       " 'Jake',\n",
       " 'Jake',\n",
       " 'Marten',\n",
       " 'Will',\n",
       " 'Jake',\n",
       " 'Jake',\n",
       " 'Jake',\n",
       " 'Jake',\n",
       " 'Jake',\n",
       " 'Narcissus',\n",
       " 'Sunlight',\n",
       " 'Coherent',\n",
       " 'Susan',\n",
       " 'Make',\n",
       " 'Susan',\n",
       " 'Susan',\n",
       " 'Delgado',\n",
       " 'Don',\n",
       " 'Sterile',\n",
       " 'Already',\n",
       " 'Wind',\n",
       " 'Jake',\n",
       " 'Empires',\n",
       " 'Dark',\n",
       " 'Tower',\n",
       " 'Don',\n",
       " 'Marten',\n",
       " 'Sylvia',\n",
       " 'Pittston',\n",
       " 'Tull',\n",
       " 'Jake',\n",
       " 'Jake',\n",
       " 'Jake',\n",
       " 'Yar',\n",
       " 'Jake',\n",
       " 'Jake',\n",
       " 'Jake',\n",
       " 'Jake',\n",
       " 'Jake',\n",
       " 'Trunks',\n",
       " 'Jake',\n",
       " 'Jake',\n",
       " 'Jake',\n",
       " 'Will',\n",
       " 'Don',\n",
       " 'Jake',\n",
       " 'Jake',\n",
       " 'Don',\n",
       " 'Jake',\n",
       " 'Jake',\n",
       " 'Cort',\n",
       " 'Cort',\n",
       " 'Jake',\n",
       " 'Tower',\n",
       " 'Jake',\n",
       " 'Bible',\n",
       " 'Jesus',\n",
       " 'Moses',\n",
       " 'Ulysses',\n",
       " 'Jake',\n",
       " 'Jake',\n",
       " 'Aileen',\n",
       " 'Ritter',\n",
       " 'Cort',\n",
       " 'Hax',\n",
       " 'Slow',\n",
       " 'Mutants',\n",
       " 'Jake',\n",
       " 'Jake',\n",
       " 'Jake',\n",
       " 'Jake',\n",
       " 'Patches',\n",
       " 'Jake',\n",
       " 'Jake',\n",
       " 'Jake',\n",
       " 'Jake',\n",
       " 'Jeremiah',\n",
       " 'Jake',\n",
       " 'Allie',\n",
       " 'Tull',\n",
       " 'Jake',\n",
       " 'Jake',\n",
       " 'Worlds',\n",
       " 'Coffee',\n",
       " 'Thermos',\n",
       " 'Jake',\n",
       " 'Jake',\n",
       " 'Cuthbert',\n",
       " 'Cort',\n",
       " 'Jake',\n",
       " 'Fresh',\n",
       " 'Commala',\n",
       " 'Susan',\n",
       " 'Delgado',\n",
       " 'Mejis',\n",
       " 'Ball',\n",
       " 'Marten',\n",
       " 'Marten',\n",
       " 'Tet',\n",
       " 'Dinh',\n",
       " 'Gilead',\n",
       " 'Marten',\n",
       " 'Gabrielle',\n",
       " 'Verriss',\n",
       " 'Alan',\n",
       " 'Steven',\n",
       " 'Marten',\n",
       " 'Jake',\n",
       " 'Careful',\n",
       " 'Jake',\n",
       " 'Him',\n",
       " 'Roland',\n",
       " 'Jake',\n",
       " 'Handcar',\n",
       " 'Good',\n",
       " 'Jake',\n",
       " 'Good',\n",
       " 'Jake',\n",
       " 'Great',\n",
       " 'Hall',\n",
       " 'Night',\n",
       " 'Cotillion',\n",
       " 'Tull',\n",
       " 'Next',\n",
       " 'Cuthbert',\n",
       " 'Allgood',\n",
       " 'Susan',\n",
       " 'Goodbye',\n",
       " 'Larchies',\n",
       " 'Jake',\n",
       " 'Roland',\n",
       " 'Da',\n",
       " 'Jake',\n",
       " 'Jake',\n",
       " 'Town',\n",
       " 'Tower',\n",
       " 'Dad',\n",
       " 'Roland',\n",
       " 'Full',\n",
       " 'Marten',\n",
       " 'Don',\n",
       " 'Marten',\n",
       " 'Are',\n",
       " 'Ro',\n",
       " 'Marten',\n",
       " 'Vannay',\n",
       " 'Cuthbert',\n",
       " 'Jamie',\n",
       " 'David',\n",
       " 'Marten',\n",
       " 'Marten',\n",
       " 'Marten',\n",
       " 'Cort',\n",
       " 'Marten',\n",
       " 'Marten',\n",
       " 'Marten',\n",
       " 'Will',\n",
       " 'Marten',\n",
       " 'Marten',\n",
       " 'Marten',\n",
       " 'Cort',\n",
       " 'Jamie',\n",
       " 'Roland',\n",
       " 'Cort',\n",
       " 'High',\n",
       " 'Speech',\n",
       " 'Cort',\n",
       " 'Cort',\n",
       " 'High',\n",
       " 'Speech',\n",
       " 'Cort',\n",
       " 'Rise',\n",
       " 'Cort',\n",
       " 'Cort',\n",
       " 'Which',\n",
       " 'Great',\n",
       " 'Hall',\n",
       " 'Cort',\n",
       " 'Marten',\n",
       " 'Cort',\n",
       " 'Roland',\n",
       " 'David',\n",
       " 'David',\n",
       " 'Hai',\n",
       " 'David',\n",
       " 'David',\n",
       " 'David',\n",
       " 'David',\n",
       " 'David',\n",
       " 'Great',\n",
       " 'Hall',\n",
       " 'Mark',\n",
       " 'Great',\n",
       " 'Hall',\n",
       " 'Garlan',\n",
       " ...]"
      ]
     },
     "execution_count": 42,
     "metadata": {},
     "output_type": "execute_result"
    }
   ],
   "source": [
    "flat_list"
   ]
  },
  {
   "cell_type": "code",
   "execution_count": 43,
   "metadata": {
    "ExecuteTime": {
     "end_time": "2017-11-10T03:43:07.909930Z",
     "start_time": "2017-11-10T03:43:07.904156Z"
    },
    "collapsed": true
   },
   "outputs": [],
   "source": [
    "characters = set(flat_list)\n",
    "characters = list(characters)"
   ]
  },
  {
   "cell_type": "code",
   "execution_count": 44,
   "metadata": {
    "ExecuteTime": {
     "end_time": "2017-11-10T03:43:07.928452Z",
     "start_time": "2017-11-10T03:43:07.912809Z"
    },
    "collapsed": true
   },
   "outputs": [],
   "source": [
    "stoplist = list(stoplist)\n",
    "stoplist.extend(characters)\n",
    "stoplist = set(stoplist)"
   ]
  },
  {
   "cell_type": "code",
   "execution_count": 45,
   "metadata": {
    "ExecuteTime": {
     "end_time": "2017-11-10T03:43:07.958236Z",
     "start_time": "2017-11-10T03:43:07.949660Z"
    }
   },
   "outputs": [
    {
     "name": "stdout",
     "output_type": "stream",
     "text": [
      "{'Sterile', 'we', 'Aren', 'Buick', 'Dad', 'Great', 'Ro', 'during', 'Chussit', 'into', 'just', 'itself', 'Don', 'him', 'Van', 'the', 'Century', 'Seems', 'Death', 'Round', 'Sabbath', 're', 'Stevie', 'Me', 'Carrie', 'Thomas', 'Pet', 'Dick', 'Gandalfs', 'when', 'Ware', 'won', 'Wizard', 'Wipe', 'Bullshit', 'Crimson', 'don', 'Yasgur', 'Way', 'O', 'Mr.', 'Science', 'where', 'Mine', 'Hold', 'how', 's', 'Bones', 'for', 'will', 'Antichrist.', 'Savior', 'Road', 'Eld', 'Jesus', 'Black', 'Tears', 'is', 'had', 'Street', 'Coffin', 'Wind', 'Make', 'Festival', 'Already', 'ain', 'Scribner', 'because', 'Farson', 'Geography', 'Tull', 'Bama', 'Soobie', 'Tongue', 'Ahead', 'Are', 'Donaldson', 'Feast', 'Afraid', 'll', 't', 'Worlds', 'Hall', 'Subway', 'Wing', 'Maximum', 'Says', 'Florida', 'Star', 'Werewolf', 'Robeson', 'Coffee', 'Music', 'Aileen', 'Ball', 'Dreamcatcher', 'than', 'Cycle', 'Marsha', 'Look', 'Sylvia', 'Hard', 'not', 'Jonas', 'Gunslinger', 'Did', 'Bloomie', 'St.', 'Dolores', 'Demon', 'Cook', 'Thermos', 'Allie', 'Cadillac', 'See', 'Zoltan', 'Had', 'which', 'Da', 'most', 'Insomnia', 'now', 'Creepshow', 'Cuthbert', 'below', 'Ain', 'mightn', 'Gas', 'both', 'hadn', 'Bert', 'Handcar', 'Skeleton', 'Charlie', 'Pippins', 'High', 'Patrol', 'Samson', 'Shaw', 'Cort', 'Vannay', 'Father', 'from', 'each', 'Answer', 'Jericho', 'Zorro', 'Maggie', 'Far', 'None', 'Night', 'Heaven', 'Bathsheba', 'these', 'Reaptide', 'ma', 'were', 'Thunder', 'Patches', 'Simon', 'Sargasso', 'STEPHEN', 'Silva', 'Rub', 'Next', 'Gather', 'Blaisdell', 'Fathoms', 'Beams', 'having', 'Does', 'Moses', 'Suppose', 'them', 'and', 'LeMark', 'Allgood', 'a', 'couldn', 'East', 'Rose', 'Steven', 'Off', 'Sematary', 'Book', 'Chaucer', 'Hello', 'Paul', 'Room', 'Deschain', 'some', 'at', 'Yar', 'Gallows', 'what', 'Weren', 'Pappa', 'doesn', 'Roasted', 'this', 'are', 'Narcissus', 'Wolfe', 'on', 'Mutie', 'Lieutenant', 'Watch', 'as', 'such', 'Na', 'in', 'wasn', 'Gordon', 'Town', 'Seven', 'Jake', 'Hey', 'while', 'Hill', 'Kill', 'Aunt', 'Ahaz', 'Hunter', 'Tet', 'Everything', 'Penguin', 'Dickens', 'Seger', 'Marten', 'Jude', 'Coherent', 'Ugly', 'Daniel', 'themselves', 'Hand', 'doing', 'Mistuh', 'Wormword', 'Which', 'by', 'Gilead', 'Salem', 'Outside', 'Broken', 'haven', 'herself', 'Oracle', 'Madder', 'Brown', 'Zachary', 'Haven', 'Sunlight', 'Traveller', 'Whitman', 'Man', 'Dinh', 'Mother', 'himself', 'Stranger', 'Siento', 'Mouths', 'Single', 'Land', '(', 'Reap', 'Damascus', 'Doc', 'very', 'Putnam', 'Five', 'has', 'Mark', 'Wit', 'Further', 'Courts', 'those', 'y', 'if', 'Trunks', 'shouldn', 'Nixon', 'House', 've', 'our', 'Gran', 'can', 'Amy', 'Factor', 'Above', 'about', 'after', 'off', 'Mockery', 'Drop', 'Hendrickson', 'any', 'Cleef', 'Rule', 'Cat', 'Johns', 'Bullet', 'Stephen', 'Nineteen', 'Shaken', 'Texas', 'Tolkien', 'Tom', 'nor', 'Walter', 'so', 'Turnpike', 'SCREENPLAYS', 'over', 'Overdrive', 'Wake', 'only', 'Boy', 'Kiss', 'other', 'Arthur', 'Didn', 'Silver', 'Bread', 'Good', 'Earth', 'Sheb', 'Eventual', 'Peddler', 'yourself', 'Treason', 'Brooks', 'Taunton', 'Life', 'Commala', 'Tricky', 'Who', 'Mejis', 'Might', 'Pall', 'Ritter', 'own', 'then', 'needn', 'too', 'Daddy', 'whom', 'more', 'Fresh', 'Nebula', 'until', 'all', 'Dearborn', 'Tower', 'Varney', 'why', 'Table', 'Moon', 'again', 'Beer', 'Dark', 'Mohaine', 'Mountains', 'Roland', 'Norton', 'her', 'Vampire', 'Books', 'Rest', ')', 'aren', 'Peter', 'further', 'Christine', 'Crew', 'Jezebel', 'Feldon', 'yourselves', 'Michigan', 'Barony', 'same', 'Hax', 'Jeremiah', 'have', 'Okay', 'All', 'Delgado', 'its', 'Phoenix', 'was', 'Maine', 'Homeward', 'Leone', 'Clay', 'once', 'Mice', 'Spittle', 'up', 'mustn', 'Light', 'Mill', 'down', 'DeCurry', 'who', 'Western', 'Volume', 'theirs', 'Oedipus', 'Merrys', 'Dinner', 'Larchies', 'Sea', 'through', 'few', 'Desert', 'Lord', 'Will', 'yours', 'i', 'hasn', 'before', 'been', 'there', 'weren', 'Him', 'should', '.', 'Dim', 'they', 'to', 'Jubal', 'be', 'Clint', 'Claiborne', 'wouldn', 'Philistine', 'Glass', 'his', 'Careful', 'Elmer', 'Jonson', 'against', 'Network', 'Back', 'Bag', 'Hai', 'Ulysses', 'Tarot', 'David', 'here', 'Soldier', 'Kennerly', 'Mutants', 'being', 'Gabrielle', 'Golgotha.', 'no', 'my', 'm', 'hers', 'Castner', 'their', 'Blue', 'between', 'of', 'Came', 'Alain', 'Joshua', 'out', 'God', 'Main', 'he', 'Jersey', 'Walk', 'Charles', 'Thought', 'Sooner', 'Cotillion', 'above', 'Times', 'Malls', 'Gramma', 'Sheemie', 'Sergio', 'Golden', 'Bible', 'Hit', 'Ageless', 'From', 'Water', 'Alan', 'Numbed', 'Algul', 'Six', 'o', 'do', 'Bob', 'Pittston', 'it', 'Terry', 'Dinosaurs', '\"', 'Given', 'John', 'Prayer', 'Jamie', 'Goodbye', 'Old', 'Clean', 'didn', 'Manni', ',', 'Milky', 'Davey', 'Rise', 'Fools', 'Someone', 'Verriss', 'myself', 'your', 'Slow', 'Empires', 'DiFilippo', 'or', 'Gods', 'with', 'she', 'Lanes', 'but', 'King', 'Eldred', 'Mary', 'Full', 'Serpents', 'Horsehead', 'isn', 'Max', 'Volcanoes', \"'\", 'that', 'Eye', 'Garlan', 'Guards', 'Screw', 'Guard', 'Chambers', 'Atlantis', 'ours', 'Has', 'Lee', 'ourselves', 'shan', 'Straub', 'Flies', 'Nort', 'Susan', 'does', 'am', 'under', 'Bad', 'Speech', 'Hanged', 'you', 'me', 'Woodstock', 'did', 'an', 'd'}\n"
     ]
    }
   ],
   "source": [
    "print(stoplist)"
   ]
  },
  {
   "cell_type": "markdown",
   "metadata": {},
   "source": [
    "### Word Tokenize"
   ]
  },
  {
   "cell_type": "code",
   "execution_count": 46,
   "metadata": {
    "ExecuteTime": {
     "end_time": "2017-11-10T03:43:07.969344Z",
     "start_time": "2017-11-10T03:43:07.962800Z"
    },
    "collapsed": true
   },
   "outputs": [],
   "source": [
    "# df['content'] = df.content.apply(lambda x: word_tokenize(x))"
   ]
  },
  {
   "cell_type": "code",
   "execution_count": 47,
   "metadata": {
    "ExecuteTime": {
     "end_time": "2017-11-10T03:43:07.999398Z",
     "start_time": "2017-11-10T03:43:07.972498Z"
    }
   },
   "outputs": [
    {
     "data": {
      "text/html": [
       "<div>\n",
       "<style>\n",
       "    .dataframe thead tr:only-child th {\n",
       "        text-align: right;\n",
       "    }\n",
       "\n",
       "    .dataframe thead th {\n",
       "        text-align: left;\n",
       "    }\n",
       "\n",
       "    .dataframe tbody tr th {\n",
       "        vertical-align: top;\n",
       "    }\n",
       "</style>\n",
       "<table border=\"1\" class=\"dataframe\">\n",
       "  <thead>\n",
       "    <tr style=\"text-align: right;\">\n",
       "      <th></th>\n",
       "      <th>content</th>\n",
       "      <th>isbn</th>\n",
       "      <th>title</th>\n",
       "      <th>year</th>\n",
       "    </tr>\n",
       "  </thead>\n",
       "  <tbody>\n",
       "    <tr>\n",
       "      <th>0</th>\n",
       "      <td>d by “Duel”\\n\\nJoe Hill and Stephen King\\n\\n\\n...</td>\n",
       "      <td>9780062215956</td>\n",
       "      <td>Throttle</td>\n",
       "      <td>2009</td>\n",
       "    </tr>\n",
       "    <tr>\n",
       "      <th>1</th>\n",
       "      <td>TS\\n\\n\\n\\nCover Page\\n\\nTitle Page\\n\\n\\n\\nIntr...</td>\n",
       "      <td>978-0-385-52884-9</td>\n",
       "      <td>Night Shift</td>\n",
       "      <td>1976</td>\n",
       "    </tr>\n",
       "    <tr>\n",
       "      <th>2</th>\n",
       "      <td>this Scribner eBook.\\n\\n\\n\\n* * *\\n\\n\\n\\nSign...</td>\n",
       "      <td>0-7432-0467-0</td>\n",
       "      <td>Riding the Bullet</td>\n",
       "      <td>2000</td>\n",
       "    </tr>\n",
       "    <tr>\n",
       "      <th>3</th>\n",
       "      <td>Page\\n\\nCopyright Page\\n\\nDedication\\n\\n\\n\\n\\...</td>\n",
       "      <td>978-1-101-13813-7</td>\n",
       "      <td>Roadwork</td>\n",
       "      <td>1981</td>\n",
       "    </tr>\n",
       "    <tr>\n",
       "      <th>4</th>\n",
       "      <td>dication\\n\\nIntroduction\\n\\nAuthor’s Note\\n\\n\\...</td>\n",
       "      <td>978-0-385-52822-1</td>\n",
       "      <td>Salem's Lot</td>\n",
       "      <td>1975</td>\n",
       "    </tr>\n",
       "  </tbody>\n",
       "</table>\n",
       "</div>"
      ],
      "text/plain": [
       "                                             content               isbn  \\\n",
       "0  d by “Duel”\\n\\nJoe Hill and Stephen King\\n\\n\\n...      9780062215956   \n",
       "1  TS\\n\\n\\n\\nCover Page\\n\\nTitle Page\\n\\n\\n\\nIntr...  978-0-385-52884-9   \n",
       "2   this Scribner eBook.\\n\\n\\n\\n* * *\\n\\n\\n\\nSign...      0-7432-0467-0   \n",
       "3   Page\\n\\nCopyright Page\\n\\nDedication\\n\\n\\n\\n\\...  978-1-101-13813-7   \n",
       "4  dication\\n\\nIntroduction\\n\\nAuthor’s Note\\n\\n\\...  978-0-385-52822-1   \n",
       "\n",
       "               title  year  \n",
       "0           Throttle  2009  \n",
       "1        Night Shift  1976  \n",
       "2  Riding the Bullet  2000  \n",
       "3           Roadwork  1981  \n",
       "4        Salem's Lot  1975  "
      ]
     },
     "execution_count": 47,
     "metadata": {},
     "output_type": "execute_result"
    }
   ],
   "source": [
    "df.head()"
   ]
  },
  {
   "cell_type": "markdown",
   "metadata": {},
   "source": [
    "### Omit Stop Words"
   ]
  },
  {
   "cell_type": "code",
   "execution_count": 48,
   "metadata": {
    "ExecuteTime": {
     "end_time": "2017-11-10T03:43:08.005135Z",
     "start_time": "2017-11-10T03:43:08.001784Z"
    },
    "collapsed": true
   },
   "outputs": [],
   "source": [
    "# df['content'] = df.content.apply(lambda x: [word for word in x if word not in stoplist])"
   ]
  },
  {
   "cell_type": "code",
   "execution_count": 49,
   "metadata": {
    "ExecuteTime": {
     "end_time": "2017-11-10T03:43:08.010910Z",
     "start_time": "2017-11-10T03:43:08.007421Z"
    },
    "collapsed": true,
    "scrolled": true
   },
   "outputs": [],
   "source": [
    "# df.head()"
   ]
  },
  {
   "cell_type": "markdown",
   "metadata": {},
   "source": [
    "### Convert tokens back to a long string"
   ]
  },
  {
   "cell_type": "code",
   "execution_count": 50,
   "metadata": {
    "ExecuteTime": {
     "end_time": "2017-11-10T03:43:08.017234Z",
     "start_time": "2017-11-10T03:43:08.012877Z"
    },
    "collapsed": true
   },
   "outputs": [],
   "source": [
    "# df['content'] = df.content.apply(lambda x: \" \".join(x))"
   ]
  },
  {
   "cell_type": "code",
   "execution_count": 51,
   "metadata": {
    "ExecuteTime": {
     "end_time": "2017-11-10T03:43:08.023930Z",
     "start_time": "2017-11-10T03:43:08.019653Z"
    },
    "collapsed": true,
    "scrolled": true
   },
   "outputs": [],
   "source": [
    "# df.head()"
   ]
  },
  {
   "cell_type": "markdown",
   "metadata": {},
   "source": [
    "### Sentence Tokenize"
   ]
  },
  {
   "cell_type": "code",
   "execution_count": 52,
   "metadata": {
    "ExecuteTime": {
     "end_time": "2017-11-10T03:43:37.231620Z",
     "start_time": "2017-11-10T03:43:08.026787Z"
    },
    "collapsed": true
   },
   "outputs": [],
   "source": [
    "df['content'] = df.content.apply(lambda x: sent_tokenize(x))"
   ]
  },
  {
   "cell_type": "code",
   "execution_count": 53,
   "metadata": {
    "ExecuteTime": {
     "end_time": "2017-11-10T03:43:37.256570Z",
     "start_time": "2017-11-10T03:43:37.233756Z"
    }
   },
   "outputs": [
    {
     "data": {
      "text/html": [
       "<div>\n",
       "<style>\n",
       "    .dataframe thead tr:only-child th {\n",
       "        text-align: right;\n",
       "    }\n",
       "\n",
       "    .dataframe thead th {\n",
       "        text-align: left;\n",
       "    }\n",
       "\n",
       "    .dataframe tbody tr th {\n",
       "        vertical-align: top;\n",
       "    }\n",
       "</style>\n",
       "<table border=\"1\" class=\"dataframe\">\n",
       "  <thead>\n",
       "    <tr style=\"text-align: right;\">\n",
       "      <th></th>\n",
       "      <th>content</th>\n",
       "      <th>isbn</th>\n",
       "      <th>title</th>\n",
       "      <th>year</th>\n",
       "    </tr>\n",
       "  </thead>\n",
       "  <tbody>\n",
       "    <tr>\n",
       "      <th>0</th>\n",
       "      <td>[d by “Duel”\\n\\nJoe Hill and Stephen King\\n\\n\\...</td>\n",
       "      <td>9780062215956</td>\n",
       "      <td>Throttle</td>\n",
       "      <td>2009</td>\n",
       "    </tr>\n",
       "    <tr>\n",
       "      <th>1</th>\n",
       "      <td>[TS\\n\\n\\n\\nCover Page\\n\\nTitle Page\\n\\n\\n\\nInt...</td>\n",
       "      <td>978-0-385-52884-9</td>\n",
       "      <td>Night Shift</td>\n",
       "      <td>1976</td>\n",
       "    </tr>\n",
       "    <tr>\n",
       "      <th>2</th>\n",
       "      <td>[ this Scribner eBook., * * *\\n\\n\\n\\nSign up f...</td>\n",
       "      <td>0-7432-0467-0</td>\n",
       "      <td>Riding the Bullet</td>\n",
       "      <td>2000</td>\n",
       "    </tr>\n",
       "    <tr>\n",
       "      <th>3</th>\n",
       "      <td>[ Page\\n\\nCopyright Page\\n\\nDedication\\n\\n\\n\\n...</td>\n",
       "      <td>978-1-101-13813-7</td>\n",
       "      <td>Roadwork</td>\n",
       "      <td>1981</td>\n",
       "    </tr>\n",
       "    <tr>\n",
       "      <th>4</th>\n",
       "      <td>[dication\\n\\nIntroduction\\n\\nAuthor’s Note\\n\\n...</td>\n",
       "      <td>978-0-385-52822-1</td>\n",
       "      <td>Salem's Lot</td>\n",
       "      <td>1975</td>\n",
       "    </tr>\n",
       "  </tbody>\n",
       "</table>\n",
       "</div>"
      ],
      "text/plain": [
       "                                             content               isbn  \\\n",
       "0  [d by “Duel”\\n\\nJoe Hill and Stephen King\\n\\n\\...      9780062215956   \n",
       "1  [TS\\n\\n\\n\\nCover Page\\n\\nTitle Page\\n\\n\\n\\nInt...  978-0-385-52884-9   \n",
       "2  [ this Scribner eBook., * * *\\n\\n\\n\\nSign up f...      0-7432-0467-0   \n",
       "3  [ Page\\n\\nCopyright Page\\n\\nDedication\\n\\n\\n\\n...  978-1-101-13813-7   \n",
       "4  [dication\\n\\nIntroduction\\n\\nAuthor’s Note\\n\\n...  978-0-385-52822-1   \n",
       "\n",
       "               title  year  \n",
       "0           Throttle  2009  \n",
       "1        Night Shift  1976  \n",
       "2  Riding the Bullet  2000  \n",
       "3           Roadwork  1981  \n",
       "4        Salem's Lot  1975  "
      ]
     },
     "execution_count": 53,
     "metadata": {},
     "output_type": "execute_result"
    }
   ],
   "source": [
    "df.head()"
   ]
  },
  {
   "cell_type": "markdown",
   "metadata": {},
   "source": [
    "### Paragraph Tokenize"
   ]
  },
  {
   "cell_type": "code",
   "execution_count": null,
   "metadata": {
    "collapsed": true
   },
   "outputs": [],
   "source": []
  },
  {
   "cell_type": "code",
   "execution_count": null,
   "metadata": {
    "collapsed": true
   },
   "outputs": [],
   "source": []
  },
  {
   "cell_type": "code",
   "execution_count": null,
   "metadata": {
    "collapsed": true
   },
   "outputs": [],
   "source": []
  },
  {
   "cell_type": "markdown",
   "metadata": {},
   "source": [
    "### Stem Words"
   ]
  },
  {
   "cell_type": "code",
   "execution_count": 54,
   "metadata": {
    "ExecuteTime": {
     "end_time": "2017-11-10T03:43:37.263241Z",
     "start_time": "2017-11-10T03:43:37.259040Z"
    },
    "collapsed": true
   },
   "outputs": [],
   "source": [
    "from nltk.stem.snowball import SnowballStemmer\n",
    "stemmer = SnowballStemmer(\"english\")"
   ]
  },
  {
   "cell_type": "code",
   "execution_count": 55,
   "metadata": {
    "ExecuteTime": {
     "end_time": "2017-11-10T03:43:57.673016Z",
     "start_time": "2017-11-10T03:43:37.265504Z"
    },
    "collapsed": true
   },
   "outputs": [],
   "source": [
    "df['content'] = df.content.apply(lambda x: [stemmer.stem(word) for word in x])"
   ]
  },
  {
   "cell_type": "code",
   "execution_count": 56,
   "metadata": {
    "ExecuteTime": {
     "end_time": "2017-11-10T03:43:57.695796Z",
     "start_time": "2017-11-10T03:43:57.675105Z"
    }
   },
   "outputs": [
    {
     "data": {
      "text/html": [
       "<div>\n",
       "<style>\n",
       "    .dataframe thead tr:only-child th {\n",
       "        text-align: right;\n",
       "    }\n",
       "\n",
       "    .dataframe thead th {\n",
       "        text-align: left;\n",
       "    }\n",
       "\n",
       "    .dataframe tbody tr th {\n",
       "        vertical-align: top;\n",
       "    }\n",
       "</style>\n",
       "<table border=\"1\" class=\"dataframe\">\n",
       "  <thead>\n",
       "    <tr style=\"text-align: right;\">\n",
       "      <th></th>\n",
       "      <th>content</th>\n",
       "      <th>isbn</th>\n",
       "      <th>title</th>\n",
       "      <th>year</th>\n",
       "    </tr>\n",
       "  </thead>\n",
       "  <tbody>\n",
       "    <tr>\n",
       "      <th>0</th>\n",
       "      <td>[d by “duel”\\n\\njoe hill and stephen king\\n\\n\\...</td>\n",
       "      <td>9780062215956</td>\n",
       "      <td>Throttle</td>\n",
       "      <td>2009</td>\n",
       "    </tr>\n",
       "    <tr>\n",
       "      <th>1</th>\n",
       "      <td>[ts\\n\\n\\n\\ncover page\\n\\ntitle page\\n\\n\\n\\nint...</td>\n",
       "      <td>978-0-385-52884-9</td>\n",
       "      <td>Night Shift</td>\n",
       "      <td>1976</td>\n",
       "    </tr>\n",
       "    <tr>\n",
       "      <th>2</th>\n",
       "      <td>[ this scribner ebook., * * *\\n\\n\\n\\nsign up f...</td>\n",
       "      <td>0-7432-0467-0</td>\n",
       "      <td>Riding the Bullet</td>\n",
       "      <td>2000</td>\n",
       "    </tr>\n",
       "    <tr>\n",
       "      <th>3</th>\n",
       "      <td>[ page\\n\\ncopyright page\\n\\ndedication\\n\\n\\n\\n...</td>\n",
       "      <td>978-1-101-13813-7</td>\n",
       "      <td>Roadwork</td>\n",
       "      <td>1981</td>\n",
       "    </tr>\n",
       "    <tr>\n",
       "      <th>4</th>\n",
       "      <td>[dication\\n\\nintroduction\\n\\nauthor's note\\n\\n...</td>\n",
       "      <td>978-0-385-52822-1</td>\n",
       "      <td>Salem's Lot</td>\n",
       "      <td>1975</td>\n",
       "    </tr>\n",
       "  </tbody>\n",
       "</table>\n",
       "</div>"
      ],
      "text/plain": [
       "                                             content               isbn  \\\n",
       "0  [d by “duel”\\n\\njoe hill and stephen king\\n\\n\\...      9780062215956   \n",
       "1  [ts\\n\\n\\n\\ncover page\\n\\ntitle page\\n\\n\\n\\nint...  978-0-385-52884-9   \n",
       "2  [ this scribner ebook., * * *\\n\\n\\n\\nsign up f...      0-7432-0467-0   \n",
       "3  [ page\\n\\ncopyright page\\n\\ndedication\\n\\n\\n\\n...  978-1-101-13813-7   \n",
       "4  [dication\\n\\nintroduction\\n\\nauthor's note\\n\\n...  978-0-385-52822-1   \n",
       "\n",
       "               title  year  \n",
       "0           Throttle  2009  \n",
       "1        Night Shift  1976  \n",
       "2  Riding the Bullet  2000  \n",
       "3           Roadwork  1981  \n",
       "4        Salem's Lot  1975  "
      ]
     },
     "execution_count": 56,
     "metadata": {},
     "output_type": "execute_result"
    }
   ],
   "source": [
    "df.head()"
   ]
  },
  {
   "cell_type": "code",
   "execution_count": 57,
   "metadata": {
    "ExecuteTime": {
     "end_time": "2017-11-10T03:43:57.702831Z",
     "start_time": "2017-11-10T03:43:57.698393Z"
    },
    "collapsed": true
   },
   "outputs": [],
   "source": [
    "titles = df.title"
   ]
  },
  {
   "cell_type": "code",
   "execution_count": 58,
   "metadata": {
    "ExecuteTime": {
     "end_time": "2017-11-10T03:43:57.710223Z",
     "start_time": "2017-11-10T03:43:57.705001Z"
    },
    "collapsed": true
   },
   "outputs": [],
   "source": [
    "books = df.content"
   ]
  },
  {
   "cell_type": "code",
   "execution_count": 59,
   "metadata": {
    "ExecuteTime": {
     "end_time": "2017-11-10T03:43:57.727661Z",
     "start_time": "2017-11-10T03:43:57.712889Z"
    }
   },
   "outputs": [
    {
     "data": {
      "text/plain": [
       "[\"dication\\n\\nintroduction\\n\\nauthor's note\\n\\n\\n\\n'salem's lot\\n\\n\\n\\nprologue\\n\\npart one\\n\\nthe marsten house\\n\\nchapter one ben (i)\\n\\nchapter two susan (i)\\n\\nchapter three the lot (i)\\n\\nchapter four danny glick and others\\n\\nchapter five ben (ii)\\n\\nchapter six the lot (ii)\\n\\nchapter seven matt\\n\\npart two\\n\\nthe emperor of ice cream\\n\\nchapter eight ben (iii)\\n\\nchapter nine susan (ii)\\n\\nchapter ten the lot (iii)\\n\\nchapter eleven ben (iv)\\n\\nchapter twelve mark\\n\\nchapter thirteen father callahan\\n\\npart three\\n\\nthe deserted village\\n\\nchapter fourteen the lot (iv)\\n\\nchapter fifteen ben and mark\\n\\nepilogue\\n\\n\\n\\none for the road\\n\\njerusalem's lot\\n\\ndeleted scenes\\n\\n\\n\\nafterword\\n\\ncopyright\\n\\n\\n\\n\\n\\nfor naomi rachel king\\n\\n“…promises to keep.”\\n\\n\\n\\n\\n\\nintroduction to 'salem's lot\\n\\nby stephen king\\n\\nmy father-in-law is now retired, but when he was working for maine's department of human services, he had a very cool sign in his office.\",\n",
       " 'it said once i had no children and eight ideas.',\n",
       " 'now i have eight children and no ideas.',\n",
       " 'i like that because once i had no published novels and roughly two hundred ideas about the art and craft of writing fiction (two hundred and fifty on a good day).',\n",
       " 'now i have just about fifty published novels to my credit and only one surviving idea about fiction; a writing seminar as taught by yours truly would probably last about fifteen minutes.',\n",
       " \"one of the ideas i had in those good old days was that it would be perfectly possible to combine the overlord-vampire myth from bram stoker's dracula with the naturalistic fiction of frank norris and the ec horror comics i'd loved as a child…and come out with a great american novel.\",\n",
       " 'i was twenty-three, remember, so cut me a break.',\n",
       " 'i had a teaching certificate upon which the ink had hardly dried, i had published eight short stories and i had a perfectly insane amount of confidence in my own ability, not to mention a totally ridiculous sense of my own importance.',\n",
       " 'i also had a wife with a typewriter who liked my stories—and those last two things, which i took for granted then, turned out to be the most important things of all.',\n",
       " 'did i really think i could combine dracula and tales from the crypt and come out with moby-dick?',\n",
       " 'i did.',\n",
       " 'i really did.',\n",
       " 'i even planned a section at the front called “extracta,” where i would include notes, clippings, and epigrams about vampires, as melville does about whales at the front of his book.',\n",
       " \"was i daunted by the fact that moby-dick only sold about twelve copies in melville's lifetime?\",\n",
       " 'not i; one of my ideas was that a novelist takes the long view, the lofty view, and that does not include the price of eggs.',\n",
       " '(my wife would not have agreed, and i doubt if mrs. melville would have, either.)',\n",
       " \"in any case, i liked the idea of my vampire novel serving as a balance for stoker's, which has to go down in history as the most optimistic scary novel of all time.\",\n",
       " 'count dracula, simultaneously feared and worshipped in his dark little european fiefdom of transylvania, makes the fatal mistake of taking his act and putting it on the road.',\n",
       " 'in london he meets men and women of science and reason, by god—abraham van helsing, who knows about blood transfusions; john seward, who keeps his diary on wax phonograph cylinders; mina harker, who keeps hers in shorthand and later serves as secretary to the fearless vampire hunters.',\n",
       " \"stoker was clearly fascinated by modern inventions and innovations, and the underlying thesis of his novel is clear: in a confrontation between a foreign child of the dark powers and a group of fine, upstanding britishers equipped with all mod cons, the powers of darkness don't stand a chance.\",\n",
       " 'dracula is hounded from carfax, his british estate, back to transylvania, and finally staked at sunset.',\n",
       " \"the vampire-hunters pay a price for their victory—that is stoker's genius—but that they will come out on top is never in much doubt.\",\n",
       " 'when i sat down to write my version of the story in 1972—a version whose life-force was drawn more from the nervously jokey jewish-american mythos of william gaines and al feldstein than from romanian folk-tales—i saw a different world, one where all of the gadgets stoker must have regarded with such hopeful wonder had begun to seem sinister and downright dangerous.',\n",
       " 'mine was the world that had begun to choke on its own effluent, that had hooked itself through the bag on diminishing energy resources, and had to deal not only with nuclear weapons but nuclear proliferation (big-time terrorism was, thankfully, at that time still over the horizon).',\n",
       " 'i saw myself and my society at the other end of the technological rainbow, and set out to write a book that would reflect that glum idea.',\n",
       " 'one where, in short, the vampire would end up eating the fearless vampire-hunters for lunch.',\n",
       " '(which he, as a vampire, would eat at midnight, of course.)',\n",
       " 'i was about three hundred pages into this book—then titled second coming—when carrie was published, and my first idea about novel-writing went west.',\n",
       " \"it would be years before i would hear alfred bester's axiom “the book is the boss,” but i didn't need to; i learned it for myself writing the novel that eventually became 'salem's lot.\",\n",
       " \"of course, the writer can impose control; it's just a really shitty idea.\",\n",
       " 'writing controlled fiction is called “plotting.” buckling your seatbelt and letting the story take over, however…that is called “storytelling.” storytelling is as natural as breathing; plotting is the literary version of artificial respiration.',\n",
       " 'given my dim view of small new england towns (i had grown up in one and knew what they were like), i had no doubt my version of count dracula would emerge completely triumphant over the puny representatives of the rational world arrayed against him.',\n",
       " \"what i didn't count on was that my characters weren't content to remain puny representatives.\",\n",
       " 'instead they came alive and began to do things—sometimes smart things, sometimes foolishly brave things—on their own.',\n",
       " \"more of stoker's characters are around at the finish of dracula than at the end of 'salem's lot, and yet this is—against its young author's will—a surprisingly optimistic book.\",\n",
       " \"i'm glad.\",\n",
       " 'i still see all the nicks and dings on its fenders, all the scars on its hide that were inflicted by the inexperience of a craftsman new at his trade, but i still find many passages of power here.',\n",
       " 'and a few of grace.',\n",
       " 'doubleday had published my first novel, and had an option on my second.',\n",
       " 'i had completed this one and another, what i thought of as a “serious” novel, called roadwork.',\n",
       " 'i showed them both to my then-editor, bill thompson.',\n",
       " 'he liked them both.',\n",
       " 'we had a lunch at which nothing was decided, then started to walk back to doubleday.',\n",
       " \"at the corner of park avenue and 54th street—something like that—we were stopped by a don't walk light.\",\n",
       " 'i finally pulled the pin and asked bill which one he thought we should publish.',\n",
       " 'he said, “roadwork would probably get more serious attention, but second coming is peyton place with vampires.',\n",
       " \"it's a great read and it could be a bestseller.\",\n",
       " \"there's only one problem.”\\n\\n“what's that?” i asked, as don't walk changed to walk and people started to move around us.\",\n",
       " 'bill stepped off the curb.',\n",
       " \"in new york you don't waste the walk, even when decisions of moment are being made, and this—i might have sensed it even then—was one that would affect the rest of my life.\",\n",
       " \"“you'll be typed as a horror writer,” he said.\",\n",
       " 'i was so relieved i laughed.',\n",
       " \"“i don't care what they call me as long as the checks don't bounce,” i said.\",\n",
       " \"“let's publish second coming.” and that was what we did, although the name was first changed to jerusalem's lot (because my wife, tabby, said that second coming sounded like a sex manual) and then to 'salem's lot (because the doubleday brass said jerusalem's lot sounded like a religious book).\",\n",
       " \"i was indeed typed as a horror writer, a tag i have never confirmed or denied, simply because i think it's irrelevant to what i do.\",\n",
       " 'it does, however, give bookstores a handy place to shelve my books.',\n",
       " 'since then i have let go of all but one of my ideas about fiction-writing.',\n",
       " \"it's the one i came to first (around age seven, as i recall), and the one i'll probably hold onto until the end: it's good to tell a story, and even better when people actually want to listen.\",\n",
       " \"i think 'salem's lot, for all its flaws, is one of the good ones.\",\n",
       " 'one of the scary ones.',\n",
       " \"if you've never heard it before, let me tell it to you now.\",\n",
       " 'and if you have, let me tell it to you again.',\n",
       " \"so turn off the television—in fact, why don't you turn off all the lights except for the one over your favorite chair?—and we'll talk about vampires here in the dim.\",\n",
       " 'i think i can make you believe in them, because while i was working on this book, i believed in them myself.',\n",
       " \"center lovell, maine\\n\\njune 15, 2005\\n\\n\\n\\n\\n\\nauthor's note\\n\\nno one writes a long novel alone, and i would like to take a moment of your time to thank some of the people who helped with this one: g. everett mccutcheon, of hampden academy, for his practical suggestions and encouragement; dr john pearson, of old town, maine, medical examiner of penobscot county and member in good standing of that most excellent medical specialty, general practice; father renald hallee, of st john's catholic church in bangor, maine.\",\n",
       " 'and of course my wife, whose criticism is as tough and unflinching as ever.',\n",
       " \"although the towns surrounding 'salem's lot are very real, 'salem's lot itself exists wholly in the author's imagination, and any resemblance between the people who live there and people who live in the real world is coincidental and unintended.\",\n",
       " 's.k.',\n",
       " '******start_of_file******\\nprologue\\n\\nold friend, what are you looking for?',\n",
       " 'after those many years abroad you come\\n\\nwith images you tended\\n\\nunder foreign skies\\n\\nfar away from your own land.',\n",
       " 'george seferis\\n\\n\\none\\n\\nalmost everyone thought the man and the boy were father and son.',\n",
       " 'they crossed the country on a rambling southwest line in an old citroën sedan, keeping mostly to secondary roads, traveling in fits and starts.',\n",
       " 'they stopped in three places along the way before reaching their final destination: first in rhode island, where the tall man with the black hair worked in a textile mill; then in youngstown, ohio, where he worked for three months on a tractor assembly line; and finally in a small california town near the mexican border, where he pumped gas and worked at repairing small foreign cars with an amount of success that was, to him, surprising and gratifying.',\n",
       " \"wherever they stopped, he got a maine newspaper called the portland press-herald and watched it for items concerning a small southern maine town named jerusalem's lot and the surrounding area.\",\n",
       " 'there were such items from time to time.',\n",
       " 'he wrote an outline of a novel in motel rooms before they hit central falls, rhode island, and mailed it to his agent.',\n",
       " 'he had been a mildly successful novelist a million years before, in a time when the darkness had not come over his life.',\n",
       " 'the agent took the outline to his last publisher, who expressed polite interest but no inclination to part with any advance money.',\n",
       " \"“please” and “thank you,” he told the boy as he tore the agent's letter up, were still free.\",\n",
       " 'he said it without too much bitterness and set about the book anyway.',\n",
       " 'the boy did not speak much.',\n",
       " 'his face retained a perpetual pinched look, and his eyes were dark—as if they always scanned some bleak inner horizon.',\n",
       " 'in the diners and gas stations where they stopped along the way, he was polite and nothing more.',\n",
       " \"he didn't seem to want the tall man out of his sight, and the boy seemed nervous even when the man left him to use the bathroom.\",\n",
       " \"he refused to talk about the town of jerusalem's lot, although the tall man tried to raise the topic from time to time, and he would not look at the portland newspapers the man sometimes deliberately left around.\",\n",
       " 'when the book was written, they were living in a beach cottage off the highway, and they both swam in the pacific a great deal.',\n",
       " 'it was warmer than the atlantic, and friendlier.',\n",
       " 'it held no memories.',\n",
       " 'the boy began to get very brown.',\n",
       " 'although they were living well enough to eat three square meals a day and keep a solid roof over their heads, the man had begun to feel depressed and doubtful about the life they were living.',\n",
       " \"he was tutoring the boy, and he did not seem to be losing anything in the way of education (the boy was bright and easy about books, as the tall man had been himself), but he didn't think that blotting 'salem's lot out was doing the boy any good.\",\n",
       " 'sometimes at night he screamed in his sleep and thrashed the blankets onto the floor.',\n",
       " 'a letter came from new york.',\n",
       " \"the tall man's agent said that random house was offering $12,000 in advance, and a book club sale was almost certain.\",\n",
       " 'was it okay?',\n",
       " 'it was.',\n",
       " 'the man quit his job at the gas station, and he and the boy crossed the border.',\n",
       " 'two\\n\\nlos zapatos, which means “the shoes” (a name that secretly pleased the man to no end), was a small village not far from the ocean.',\n",
       " 'it was fairly free of tourists.',\n",
       " 'there was no good road, no ocean view (you had to go five miles further west to get that), and no historical points of interest.',\n",
       " 'also, the local cantina was infested with cockroaches and the only whore was a fifty-year-old grandmother.',\n",
       " 'with the states behind them, an almost unearthly quiet dropped over their lives.',\n",
       " 'few planes went overhead, there were no turnpikes, and no one owned a power lawn mower (or cared to have one) for a hundred miles.',\n",
       " 'they had a radio, but even that was noise without meaning; the news broadcasts were all in spanish, which the boy began to pick up but which remained—and always would—gibberish to the man.',\n",
       " 'all the music seemed to consist of opera.',\n",
       " 'at night they sometimes got a pop music station from monterey made frantic with the accents of wolfman jack, but it faded in and out.',\n",
       " 'the only motor within hearing distance was a quaint old rototiller owned by a local farmer.',\n",
       " 'when the wind was right, its irregular burping noise would come to their ears faintly, like an uneasy spirit.',\n",
       " 'they drew their water from the well by hand.',\n",
       " 'once or twice a month (not always together) they attended mass at the small church in town.',\n",
       " 'neither of them understood the ceremony, but they went all the same.',\n",
       " 'the man found himself sometimes drowsing in the suffocating heat to the steady, familiar rhythms and the voices which gave them tongue.',\n",
       " 'one sunday the boy came out onto the rickety back porch where the man had begun work on a new novel and told him hesitantly that he had spoken to the priest about being taken into the church.',\n",
       " 'the man nodded and asked him if he had enough spanish to take instruction.',\n",
       " \"the boy said he didn't think it would be a problem.\",\n",
       " 'the man made a forty-mile trip once a week to get the portland, maine, paper, which was always at least a week old and was sometimes yellowed with dog urine.',\n",
       " \"two weeks after the boy had told him of his intentions, he found a featured story about 'salem's lot and a vermont town called momson.\",\n",
       " \"the tall man's name was mentioned in the course of the story.\",\n",
       " 'he left the paper around with no particular hope that the boy would pick it up.',\n",
       " 'the article made him uneasy for a number of reasons.',\n",
       " \"it was not over in 'salem's lot yet, it seemed.\",\n",
       " \"the boy came to him a day later with the paper in his hand, folded open to expose the headline: “ghost town in maine?”\\n\\n“i'm scared,” he said.\",\n",
       " '“i am, too,” the tall man answered.',\n",
       " 'three\\n\\nghost town in maine?',\n",
       " \"by john lewis\\n\\npress-herald features editor\\n\\n\\n\\njerusalem's lot—jerusalem's lot is a small town east of cumberland and twenty miles north of portland.\",\n",
       " 'it is not the first town in american history to just dry up and blow away, and will probably not be the last, but it is one of the strangest.',\n",
       " 'ghost towns are common in the american southwest, where communities grew up almost overnight around rich gold and silver lodes and then disappeared almost as rapidly when the veins of ore played out, leaving empty stores and hotels and saloons to rot emptily in desert silence.',\n",
       " \"in new england the only counterpart to the mysterious emptying of jerusalem's lot, or 'salem's lot as the natives often refer to it, seems to be a small town in vermont called momson.\",\n",
       " 'during the summer of 1923, momson apparently just dried up and blew away, and all 312 residents went with it.',\n",
       " \"the houses and few small business buildings in the town's center still stand, but since that summer fifty-two years ago, they have been uninhabited.\",\n",
       " 'in some cases the furnishings had been removed, but in most the houses were still furnished, as if in the middle of daily life some great wind had blown all the people away.',\n",
       " 'in one house the table had been set for the evening meal, complete with a centerpiece of long-wilted flowers.',\n",
       " 'in another the covers had been turned down neatly in an upstairs bedroom as if for sleep.',\n",
       " 'in the local mercantile store, a rotted bolt of cotton cloth was found on the counter and a price of $1.22 rung up on the cash register.',\n",
       " 'investigators found almost $50.00 in the cash drawer, untouched.',\n",
       " 'people in the area like to entertain tourists with the story and to hint that the town is haunted—that, they say, is why it has remained empty ever since.',\n",
       " 'a more likely reason is that momson is located in a forgotten corner of the state, far from any main road.',\n",
       " 'there is nothing there that could not be duplicated in a hundred other towns—except, of course, the mary celeste–like mystery of its sudden emptiness.',\n",
       " \"much the same could be said for jerusalem's lot.\",\n",
       " \"in the census of 1970, 'salem's lot claimed 1,319 inhabitants—a gain of exactly 67 souls in the ten years since the previous census.\",\n",
       " 'it is a sprawling, comfortable township, familiarly called the lot by its previous inhabitants, where little of any note ever took place.',\n",
       " \"the only thing the oldsters who regularly gathered in the park and around the stove in crossen's agricultural market had to talk about was the fire of '51, when a carelessly tossed match started one of the largest forest fires in the state's history.\",\n",
       " \"if a man wanted to spin out his retirement in a small country town where everyone minded his own business and the big event of any given week was apt to be the ladies' auxiliary bake-off, then the lot would have been a good choice.\",\n",
       " 'demographically, the census of 1970 showed a pattern familiar both to rural sociologists and to the longtime residents of any small maine town: a lot of old folks, quite a few poor folks, and a lot of young folks who leave the area with their diplomas under their arms, never to return again.',\n",
       " \"but a little over a year ago, something began to happen in jerusalem's lot that was not usual.\",\n",
       " 'people began to drop out of sight.',\n",
       " \"the larger proportion of these, naturally, haven't disappeared in the real sense of the word at all.\",\n",
       " \"the lot's former constable, parkins gillespie, is living with his sister in kittery.\",\n",
       " 'charles james, owner of a gas station across from the drugstore, is now running a repair shop in neighboring cumberland.',\n",
       " \"pauline dickens has moved to los angeles, and rhoda curless is working with the st matthew's mission in portland.\",\n",
       " 'the list of “un-disappearances” could go on and on.',\n",
       " \"what is mystifying about these found people is their unanimous unwillingness—or inability—to talk about jerusalem's lot and what, if anything, might have happened there.\",\n",
       " 'parkins gillespie simply looked at this reporter, lit a cigarette, and said, “i just decided to leave.” charles james claims he was forced to leave because his business dried up with the town.',\n",
       " \"pauline dickens, who worked as a waitress in the excellent café for years, never answered this reporter's letter of inquiry.\",\n",
       " \"and mrs curless refuses to speak of 'salem's lot at all.\",\n",
       " 'some of the missing can be accounted for by educated guesswork and a little research.',\n",
       " 'lawrence crockett, a local real estate agent who has disappeared with his wife and daughter, has left a number of questionable business ventures and land deals behind him, including one piece of portland land speculation where the portland mall and shopping center is now under construction.',\n",
       " 'the royce mcdougalls, also among the missing, had lost their infant son earlier in the year and there was little to hold them in town.',\n",
       " 'they might be anywhere.',\n",
       " 'others fit into the same category.',\n",
       " \"according to state police chief peter mcfee, “we've got tracers out on a great many people from jerusalem's lot—but that isn't the only maine town where people have dropped out of sight.\",\n",
       " 'royce mcdougall, for instance, left owing money to one bank and two finance companies…in my judgment, he was just a fly-by-nighter who decided to get out from under.',\n",
       " \"someday this year or next, he'll use one of those credit cards he's got in his wallet and the repossession men will land on him with both feet.\",\n",
       " 'in america missing persons are as natural as cherry pie.',\n",
       " \"we're living in an automobile-oriented society.\",\n",
       " 'people pick up stakes and move on every two or three years.',\n",
       " 'sometimes they forget to leave a forwarding address.',\n",
       " \"especially the deadbeats.”\\n\\nyet for all the hardheaded practicality of captain mcfee's words, there are unanswered questions in jerusalem's lot.\",\n",
       " 'henry petrie and his wife and son are gone, and mr petrie, a prudential insurance company executive, could hardly be called a deadbeat.',\n",
       " 'the local mortician, the local librarian, and the local beautician are also in the dead-letter file.',\n",
       " 'the list is of a disquieting length.',\n",
       " 'in the surrounding towns the whispering campaign that is the beginning of legend has already begun.',\n",
       " \"salem's lot is reputed to be haunted.\",\n",
       " 'sometimes colored lights are reported hovering over the central maine power lines that bisect the township, and if you suggest that the inhabitants of the lot have been carried off by ufos, no one will laugh.',\n",
       " \"there has been some talk of a “dark coven” of young people who were practicing the black mass in town and, perhaps, brought the wrath of god himself on the namesake of the holy land's holiest city.\",\n",
       " 'others, of a less supernatural bent, remember the young men who “disappeared” in the houston, texas, area some three years ago only to be discovered in grisly mass graves.',\n",
       " \"an actual visit to 'salem's lot makes such talk seem less wild.\",\n",
       " 'there is not one business left open.',\n",
       " \"the last one to go under was spencer's sundries and pharmacy, which closed its doors in january.\",\n",
       " \"crossen's agricultural store, the hardware store, barlow and straker's furniture shop, the excellent café, and even the municipal building are all boarded up.\",\n",
       " 'the new grammar school is empty, and so is the tri-town consolidated high school, built in the lot in 1967.',\n",
       " \"the school furnishings and the books have been moved to make-do facilities in cumberland pending a referendum vote in the other towns of the school district, but it seems that no children from 'salem's lot will be in attendance when a new school year begins.\",\n",
       " 'there are no children; only abandoned shops and stores, deserted houses, overgrown lawns, deserted streets, and back roads.',\n",
       " \"some of the other people that the state police would like to locate or at least hear from include john groggins, pastor of the jerusalem's lot methodist church; father donald callahan, parish priest of st andrew's; mabel werts, a local widow who was prominent in 'salem's lot church and social functions; lester and harriet durham, a local couple who both worked at gates mill and weaving; eva miller, who ran a local boardinghouse….\",\n",
       " 'four\\n\\ntwo months after the newspaper article, the boy was taken into the church.',\n",
       " 'he made his first confession—and confessed everything.',\n",
       " 'five\\n\\nthe village priest was an old man with white hair and a face seamed into a net of wrinkles.',\n",
       " 'his eyes peered out of his sun-beaten face with surprising life and avidity.',\n",
       " 'they were blue eyes, very irish.',\n",
       " 'when the tall man arrived at his house, he was sitting on the porch and drinking tea.',\n",
       " 'a man in a city suit stood beside him.',\n",
       " \"the man's hair was parted in the middle and greased in a manner that reminded the tall man of photograph portraits from the 1890s.\",\n",
       " 'the man said stiffly, “i am jesús de la rey muñoz.',\n",
       " 'father gracon has asked me to interpret, as he has no english.',\n",
       " 'father gracon has done my family a great service which i may not mention.',\n",
       " 'my lips are likewise sealed in the matter he wishes to discuss.',\n",
       " \"is it agreeable to you?”\\n\\n“yes.” he shook muñoz's hand and then gracon's.\",\n",
       " 'gracon replied in spanish and smiled.',\n",
       " 'he had only five teeth left in his jaw, but the smile was sunny and glad.',\n",
       " '“he asks, would you like a cup of tea?',\n",
       " 'it is green tea.',\n",
       " 'very cooling.”\\n\\n“that would be lovely.”\\n\\nwhen the amenities had passed among them, the priest said, “the boy is not your son.”\\n\\n“no.”\\n\\n“he made a strange confession.',\n",
       " 'in fact, i have never heard a stranger confession in all my days of the priesthood.”\\n\\n“that does not surprise me.”\\n\\n“he wept,” father gracon said, sipping his tea.',\n",
       " '“it was a deep and terrible weeping.',\n",
       " 'it came from the cellar of his soul.',\n",
       " 'must i ask the question this confession raises in my heart?”\\n\\n“no,” the tall man said evenly.',\n",
       " \"“you don't.\",\n",
       " 'he is telling the truth.”\\n\\ngracon was nodding even before muñoz translated, and his face had grown grave.',\n",
       " 'he leaned forward with his hands clasped between his knees and spoke for a long time.',\n",
       " 'muñoz listened intently, his face carefully expressionless.',\n",
       " 'when the priest finished, muñoz said:\\n\\n“he says there are strange things in the world.',\n",
       " 'forty years ago a peasant from el graniones brought him a lizard that screamed as though it were a woman.',\n",
       " \"he has seen a man with stigmata, the marks of our lord's passion, and this man bled from his hands and feet on good friday.\",\n",
       " 'he says this is an awful thing, a dark thing.',\n",
       " 'it is serious for you and the boy.',\n",
       " 'particularly for the boy.',\n",
       " 'it is eating him up.',\n",
       " 'he says…”\\n\\ngracon spoke again, briefly.',\n",
       " \"“he asks if you understand what you have done in this new jerusalem.”\\n\\n“jerusalem's lot,” the tall man said.\",\n",
       " '“yes.',\n",
       " 'i understand.”\\n\\ngracon spoke again.',\n",
       " '“he asks what you intend to do about it.”\\n\\nthe tall man shook his head very slowly.',\n",
       " \"“i don't know.”\\n\\ngracon spoke again.\",\n",
       " \"“he says he will pray for you.”\\n\\n\\nsix\\n\\na week later he awoke sweating from a nightmare and called out the boy's name.\",\n",
       " \"“i'm going back,” he said.\",\n",
       " 'the boy paled beneath his tan.',\n",
       " '“can you come with me?” the man asked.',\n",
       " '“do you love me?”\\n\\n“yes.',\n",
       " 'god, yes.”\\n\\nthe boy began to weep, and the tall man held him.',\n",
       " 'seven\\n\\nstill, there was no sleep for him.',\n",
       " 'faces lurked in the shadows, swirling up at him like faces obscured in snow, and when the wind blew an overhanging tree limb against the roof, he jumped.',\n",
       " \"jerusalem's lot.\",\n",
       " 'he closed his eyes and put his arm across them and it all began to come back.',\n",
       " 'he could almost see the glass paperweight, the kind that will make a tiny blizzard when you shake it.',\n",
       " \"salem's lot…\\n\\n\\n\\n\\n\\npart one\\n\\nthe marsten house\\n\\nno live organism can continue for long to exist sanely under conditions of absolute reality; even larks and katydids are supposed, by some, to dream.\",\n",
       " 'hill house, not sane, stood by itself against its hills, holding darkness within; it had stood for eighty years and might stand for eighty more.',\n",
       " 'within, walls continued upright, bricks met neatly, floors were firm, and doors were sensibly shut; silence lay steadily against the wood and stone of hill house, and whatever walked there, walked alone.',\n",
       " 'shirley jackson\\n\\nthe haunting of hill house\\n\\n\\n\\n\\n\\nchapter one\\n\\nben (i)\\n\\nby the time he had passed portland going north on the turnpike, ben mears had begun to feel a not unpleasurable tingle of excitement in his belly.',\n",
       " 'it was september 5, 1975, and summer was enjoying her final grand fling.',\n",
       " 'the trees were bursting with green, the sky was a high, soft blue, and just over the falmouth town line he saw two boys walking a road parallel to the expressway with fishing rods settled on their shoulders like carbines.',\n",
       " 'he switched to the travel lane, slowed to the minimum turnpike speed, and began to look for anything that would jog his memory.',\n",
       " 'there was nothing at first, and he tried to caution himself against almost sure disappointment.',\n",
       " 'you were nine then.',\n",
       " \"that's twenty-five years of water under the bridge.\",\n",
       " 'places change.',\n",
       " 'like people.',\n",
       " \"in those days the four-lane 295 hadn't existed.\",\n",
       " 'if you wanted to go to portland from the lot, you went out route 12 to falmouth and then got on number 1.',\n",
       " 'time had marched on.',\n",
       " 'stop that shit.',\n",
       " 'but it was hard to stop.',\n",
       " 'it was hard to stop when—\\n\\na big bsa cycle with jacked handlebars suddenly roared past him in the passing lane, a kid in a t-shirt driving, a girl in a red cloth jacket and huge mirror-lensed sunglasses riding pillion behind him.',\n",
       " 'they cut in a little too quickly and he overreacted, jamming on his brakes and laying both hands on the horn.',\n",
       " 'the bsa sped up, belching blue smoke from its exhaust, and the girl jabbed her middle finger back at him.',\n",
       " 'he resumed speed, wishing for a cigarette.',\n",
       " 'his hands were trembling slightly.',\n",
       " 'the bsa was almost out of sight now, moving fast.',\n",
       " 'the kids.',\n",
       " 'the goddamned kids.',\n",
       " 'memories tried to crowd in on him, memories of a more recent vintage.',\n",
       " 'he pushed them away.',\n",
       " \"he hadn't been on a motorcycle in two years.\",\n",
       " 'he planned never to ride on one again.',\n",
       " 'a flash of red caught his eye off to the left, and when he glanced that way, he felt a burst of pleasure and recognition.',\n",
       " 'a large red barn stood on a hill far across a rising field of timothy and clover, a barn with a cupola painted white—even at this distance he could see the sun gleam on the weather vane atop that cupola.',\n",
       " 'it had been there then and was still here now.',\n",
       " 'it looked exactly the same.',\n",
       " 'maybe it was going to be all right after all.',\n",
       " 'then the trees blotted it out.',\n",
       " 'as the turnpike entered cumberland, more and more things began to seem familiar.',\n",
       " 'he passed over the royal river, where they had fished for steelies and pickerel as boys.',\n",
       " 'past a brief, flickering view of cumberland village through the trees.',\n",
       " 'in the distance the cumberland water tower with its huge slogan painted across the side: “keep maine green.” aunt cindy had always said someone should print “bring money” underneath that.',\n",
       " 'his original sense of excitement grew and he began to speed up, watching for the sign.',\n",
       " \"it came twinkling up out of the distance in reflectorized green five miles later:\\n\\n\\n\\nroute 12 jerusalem's lot\\n\\ncumberland cumberland ctr\\n\\n\\n\\na sudden blackness came over him, dousing his good spirits like sand on fire.\",\n",
       " \"he had been subject to these since (his mind tried to speak miranda's name and he would not let it) the bad time and was used to fending them off, but this one swept over him with a savage power that was dismaying.\",\n",
       " 'what was he doing, coming back to a town where he had lived for four years as a boy, trying to recapture something that was irrevocably lost?',\n",
       " 'what magic could he expect to recapture by walking roads that he had once walked as a boy and were probably asphalted and straightened and logged off and littered with tourist beer cans?',\n",
       " 'the magic was gone, both white and black.',\n",
       " \"it had all gone down the chutes on that night when the motorcycle had gone out of control and then there was the yellow moving van, growing and growing, his wife miranda's scream, cut off with sudden finality when—\\n\\nthe exit came up on his right, and for a moment he considered driving right past it, continuing on to chamberlain or lewiston, stopping for lunch, and then turning around and going back.\",\n",
       " 'but back where?',\n",
       " 'home?',\n",
       " 'that was a laugh.',\n",
       " 'if there was a home, it had been here.',\n",
       " 'even if it had only been four years, it was his.',\n",
       " 'he signaled, slowed the citroën, and went up the ramp.',\n",
       " 'toward the top, where the turnpike ramp joined route 12 (which became jointner avenue closer to town), he glanced up toward the horizon.',\n",
       " 'what he saw there made him jam the brakes on with both feet.',\n",
       " 'the citroën shuddered to a stop and stalled.',\n",
       " 'the trees, mostly pine and spruce, rose in gentle slopes toward the east, seeming to almost crowd against the sky at the limit of vision.',\n",
       " 'from here the town was not visible.',\n",
       " 'only the trees, and in the distance, where those trees rose against the sky, the peaked, gabled roof of the marsten house.',\n",
       " 'he gazed at it, fascinated.',\n",
       " 'warring emotions crossed his face with kaleidoscopic swiftness.',\n",
       " '“still here,” he murmured aloud.',\n",
       " '“by god.”\\n\\nhe looked down at his arms.',\n",
       " 'they had broken out in goose flesh.',\n",
       " \"two\\n\\nhe deliberately skirted town, crossing into cumberland and then coming back into 'salem's lot from the west, taking the burns road.\",\n",
       " 'he was amazed by how little things had changed out here.',\n",
       " \"there were a few new houses he didn't remember, there was a tavern called dell's just over the town line, and a pair of fresh gravel quarries.\",\n",
       " 'a good deal of the hardwood had been pulped over.',\n",
       " 'but the old tin sign pointing the way to the town dump was still there, and the road itself was still unpaved, full of chuckholes and washboards, and he could see schoolyard hill through the slash in the trees where the central maine power pylons ran on a northwest to southeast line.',\n",
       " 'the griffen farm was still there, although the barn had been enlarged.',\n",
       " 'he wondered if they still bottled and sold their own milk.',\n",
       " 'the logo had been a smiling cow under the name brand: “sunshine milk from the griffen farms!” he smiled.',\n",
       " \"he had splashed a lot of that milk on his corn flakes at aunt cindy's house.\",\n",
       " \"he turned left onto the brooks road, passed the wrought-iron gates and the low fieldstone wall surrounding harmony hill cemetery, and then went down the steep grade and started up the far side—the side known as marsten's hill.\",\n",
       " 'at the top, the trees fell away on both sides of the road.',\n",
       " \"on the right, you could look right down into the town proper—ben's first view of it.\",\n",
       " 'on the left, the marsten house.',\n",
       " 'he pulled over and got out of the car.',\n",
       " 'it was just the same.',\n",
       " 'there was no difference, not at all.',\n",
       " 'he might have last seen it yesterday.',\n",
       " 'the witch grass grew wild and tall in the front yard, obscuring the old, frost-heaved flagstones that led to the porch.',\n",
       " 'chirring crickets sang in it, and he could see grasshoppers jumping in erratic parabolas.',\n",
       " 'the house itself looked toward town.',\n",
       " 'it was huge and rambling and sagging, its windows haphazardly boarded shut, giving it that sinister look of all old houses that have been empty for a long time.',\n",
       " 'the paint had been weathered away, giving the house a uniform gray look.',\n",
       " 'windstorms had ripped many of the shingles off, and a heavy snowfall had punched in the west corner of the main roof, giving it a slumped, hunched look.',\n",
       " 'a tattered no-trespassing sign was nailed to the right-hand newel post.',\n",
       " 'he felt a strong urge to walk up that overgrown path, past the crickets and hoppers that would jump around his shoes, climb the porch, peek between the haphazard boards into the hallway or the front room.',\n",
       " 'perhaps try the front door.',\n",
       " 'if it was unlocked, go in.',\n",
       " 'he swallowed and stared up at the house, almost hypnotized.',\n",
       " 'it stared back at him with idiot indifference.',\n",
       " 'you walked down the hall, smelling wet plaster and rotting wallpaper, and mice would skitter in the walls.',\n",
       " 'there would still be a lot of junk lying around, and you might pick something up, a paperweight maybe, and put it in your pocket.',\n",
       " 'then, at the end of the hall, instead of going through into the kitchen, you could turn left and go up the stairs, your feet gritting in the plaster dust which had sifted down from the ceiling over the years.',\n",
       " 'there were fourteen steps, exactly fourteen.',\n",
       " 'but the top one was smaller, out of proportion, as if it had been added to avoid the evil number.',\n",
       " 'at the top of the stairs you stand on the landing, looking down the hall toward a closed door.',\n",
       " 'and if you walk down the hall toward it, watching as if from outside yourself as the door gets closer and larger, you can reach out your hand and put it on the tarnished silver knob—\\n\\nhe turned away from the house, a straw-dry whistle of air slipping from his mouth.',\n",
       " 'not yet.',\n",
       " 'later, perhaps, but not yet.',\n",
       " 'for now it was enough to know that all of that was still here.',\n",
       " 'it had waited for him.',\n",
       " 'he put his hands on the hood of his car and looked out over the town.',\n",
       " 'he could find out down there who was handling the marsten house, and perhaps lease it.',\n",
       " 'the kitchen would make an adequate writing room and he could bunk down in the front parlor.',\n",
       " \"but he wouldn't allow himself to go upstairs.\",\n",
       " 'not unless it had to be done.',\n",
       " \"he got in his car, started it, and drove down the hill to jerusalem's lot.\",\n",
       " 'chapter two\\n\\nsusan (i)\\n\\nhe was sitting on a bench in the park when he observed the girl watching him.',\n",
       " 'she was a very pretty girl, and there was a silk scarf tied over her light blond hair.',\n",
       " 'she was currently reading a book, but there was a sketch pad and what looked like a charcoal pencil beside her.',\n",
       " 'it was tuesday, september 16, the first day of school, and the park had magically emptied of the rowdier element.',\n",
       " 'what was left was a scattering of mothers with infants, a few old men sitting by the war memorial, and this girl sitting in the dappled shade of a gnarled old elm.',\n",
       " 'she looked up and saw him.',\n",
       " 'an expression of startlement crossed her face.',\n",
       " 'she looked down at her book; looked up at him again and started to rise; almost thought better of it; did rise; sat down again.',\n",
       " 'he got up and walked over, holding his own book, which was a paperback western.',\n",
       " '“hello,” he said agreeably.',\n",
       " '“do we know each other?”\\n\\n“no,” she said.',\n",
       " \"“that is…you're benjaman mears, right?”\\n\\n“right.” he raised his eyebrows.\",\n",
       " 'she laughed nervously, not looking in his eyes except in a quick flash, to try to read the barometer of his intentions.',\n",
       " 'she was quite obviously a girl not accustomed to speaking to strange men in the park.',\n",
       " '“i thought i was seeing a ghost.” she held up the book in her lap.',\n",
       " \"he saw fleetingly that “jerusalem's lot public library” was stamped on the thickness of pages between covers.\",\n",
       " 'the book was air dance, his second novel.',\n",
       " 'she showed him the photograph of himself on the back jacket, a photo that was four years old now.',\n",
       " 'the face looked boyish and frighteningly serious—the eyes were black diamonds.',\n",
       " '“of such inconsequential beginnings dynasties are begun,” he said, and although it was a joking throwaway remark, it hung oddly in the air, like prophecy spoken in jest.',\n",
       " 'behind them, a number of toddlers were splashing happily in the wading pool and a mother was telling roddy not to push his sister so high.',\n",
       " 'the sister went soaring up on her swing regardless, dress flying, trying for the sky.',\n",
       " 'it was a moment he remembered for years after, as though a special small slice had been cut from the cake of time.',\n",
       " 'if nothing fires between two people, such an instant simply falls back into the general wrack of memory.',\n",
       " 'then she laughed and offered him the book.',\n",
       " \"“will you autograph it?”\\n\\n“a library book?”\\n\\n“i'll buy it from them and replace it.”\\n\\nhe found a mechanical pencil in his sweater pocket, opened the book to the flyleaf, and asked, “what's your name?”\\n\\n“susan norton.”\\n\\nhe wrote quickly, without thinking: for susan norton, the prettiest girl in the park.\",\n",
       " 'warm regards, ben mears.',\n",
       " 'he added the date below his signature in slashed notation.',\n",
       " \"“now you'll have to steal it,” he said, handing it back.\",\n",
       " \"“air dance is out of print, alas.”\\n\\n“i'll get a copy from one of those book finders in new york.” she hesitated, and this time her glance at his eyes was a little longer.\",\n",
       " \"“it's an awfully good book.”\\n\\n“thanks.\",\n",
       " \"when i take it down and look at it, i wonder how it ever got published.”\\n\\n“do you take it down often?”\\n\\n“yeah, but i'm trying to quit.”\\n\\nshe grinned at him and they both laughed and that made things more natural.\",\n",
       " 'later he would have a chance to think how easily this had happened, how smoothly.',\n",
       " 'the thought was never a comfortable one.',\n",
       " 'it conjured up an image of fate, not blind at all but equipped with sentient 20/20 vision and intent on grinding helpless mortals between the great millstones of the universe to make some unknown bread.',\n",
       " \"“i read conway's daughter, too.\",\n",
       " 'i loved that.',\n",
       " 'i suppose you hear that all the time.”\\n\\n“remarkably little,” he said honestly.',\n",
       " \"miranda had also loved conway's daughter, but most of his coffeehouse friends had been noncommittal and most of the critics had clobbered it.\",\n",
       " 'well, that was critics for you.',\n",
       " 'plot was out, masturbation in.',\n",
       " '“well, i did.”\\n\\n“have you read the new one?”\\n\\n“billy said keep going?',\n",
       " 'not yet.',\n",
       " \"miss coogan at the drugstore says it's pretty racy.”\\n\\n“hell, it's almost puritanical,” ben said.\",\n",
       " \"“the language is rough, but when you're writing about uneducated country boys, you can't…look, can i buy you an ice-cream soda or something?\",\n",
       " 'i was just getting a hanker on for one.”\\n\\nshe checked his eyes a third time.',\n",
       " 'then smiled, warmly.',\n",
       " '“sure.',\n",
       " \"i'd love one.\",\n",
       " \"they're great in spencer's.”\\n\\nthat was the beginning of it.\",\n",
       " 'two\\n\\n“is that miss coogan?”\\n\\nben asked it, low-voiced.',\n",
       " 'he was looking at a tall, spare woman who was wearing a red nylon duster over her white uniform.',\n",
       " 'her blue-rinsed hair was done in a steplike succession of finger waves.',\n",
       " \"“that's her.\",\n",
       " \"she's got a little cart she takes to the library every thursday night.\",\n",
       " 'she fills out reserve cards by the ton and drives miss starcher crazy.”\\n\\nthey were seated on red leather stools at the soda fountain.',\n",
       " 'he was drinking a chocolate soda; hers was strawberry.',\n",
       " \"spencer's also served as the local bus depot and from where they sat they could look through an old-fashioned scrolled arch and into the waiting room, where a solitary young man in air force blues sat glumly with his feet planted around his suitcase.\",\n",
       " \"“doesn't look happy to be going wherever he's going, does he?” she said, following his glance.\",\n",
       " \"“leave's over, i imagine,” ben said.\",\n",
       " \"now, he thought, she'll ask if i've ever been in the service.\",\n",
       " \"but instead: “i'll be on that ten-thirty bus one of these days.\",\n",
       " \"goodby, 'salem's lot.\",\n",
       " \"probably i'll be looking just as glum as that boy.”\\n\\n“where?”\\n\\n“new york, i guess.\",\n",
       " \"to see if i can't finally become self-supporting.”\\n\\n“what's wrong with right here?”\\n\\n“the lot?\",\n",
       " 'i love it.',\n",
       " 'but my folks, you know.',\n",
       " \"they'd always be sort of looking over my shoulder.\",\n",
       " \"that's a bummer.\",\n",
       " \"and the lot doesn't really have that much to offer the young career girl.” she shrugged and dipped her head to suck at her straw.\",\n",
       " 'her neck was tanned, beautifully muscled.',\n",
       " 'she was wearing a colorful print shift that hinted at a good figure.',\n",
       " '“what kind of job are you looking for?”\\n\\nshe shrugged.',\n",
       " \"“i've got a b.a.\",\n",
       " \"from boston university…not worth the paper it's printed on, really.\",\n",
       " 'art major, english minor.',\n",
       " 'the original dipso duo.',\n",
       " 'strictly eligible for the educated idiot category.',\n",
       " \"i'm not even trained to decorate an office.\",\n",
       " 'some of the girls i went to high school with are holding down plump secretarial jobs now.',\n",
       " 'i never got beyond personal typing i, myself.”\\n\\n“so what does that leave?”\\n\\n“oh…maybe a publishing house,” she said vaguely.',\n",
       " '“or some magazine…advertising, maybe.',\n",
       " 'places like that can always use someone who can draw on command.',\n",
       " 'i can do that.',\n",
       " 'i have a portfolio.”\\n\\n“do you have offers?” he asked gently.',\n",
       " '“no…no.',\n",
       " \"but…”\\n\\n“you don't go to new york without offers,” he said.\",\n",
       " '“believe me.',\n",
       " \"you'll wear out the heels on your shoes.”\\n\\nshe smiled uneasily.\",\n",
       " '“i guess you should know.”\\n\\n“have you sold stuff locally?”\\n\\n“oh yes.” she laughed abruptly.',\n",
       " '“my biggest sale to date was to the cinex corporation.',\n",
       " 'they opened a new triple cinema in portland and bought twelve paintings at a crack to hang in their lobby.',\n",
       " 'paid seven hundred dollars.',\n",
       " 'i made a down payment on my little car.”\\n\\n“you ought to take a hotel room for a week or so in new york,” he said, “and hit every magazine and publishing house you can find with your portfolio.',\n",
       " \"make your appointments six months in advance so the editors and personnel guys don't have anything on their calendars.\",\n",
       " \"but for god's sake, don't just haul stakes for the big city.”\\n\\n“what about you?” she asked, leaving off the straw and spooning ice cream.\",\n",
       " \"“what are you doing in the thriving community of jerusalem's lot, maine, population thirteen hundred?”\\n\\nhe shrugged.\",\n",
       " '“trying to write a novel.”\\n\\nshe was instantly alight with excitement.',\n",
       " '“in the lot?',\n",
       " \"what's it about?\",\n",
       " 'why here?',\n",
       " 'are you—”\\n\\nhe looked at her gravely.',\n",
       " \"“you're dripping.”\\n\\n“i'm—?\",\n",
       " 'oh, i am.',\n",
       " 'sorry.” she mopped the base of her glass with a napkin.',\n",
       " \"“say, i didn't mean to pry.\",\n",
       " \"i'm really not gushy as a rule.”\\n\\n“no apology needed,” he said.\",\n",
       " '“all writers like to talk about their books.',\n",
       " \"sometimes when i'm lying in bed at night i make up a playboy interview about me.\",\n",
       " 'waste of time.',\n",
       " 'they only do authors if their books are big on campus.”\\n\\nthe air force youngster stood up.',\n",
       " 'a greyhound was pulling up to the curb out front, air brakes chuffing.',\n",
       " \"“i lived in 'salem's lot for four years as a kid.\",\n",
       " 'out on the burns road.”\\n\\n“the burns road?',\n",
       " \"there's nothing out there now but the marshes and a little graveyard.\",\n",
       " 'harmony hill, they call it.”\\n\\n“i lived with my aunt cindy.',\n",
       " 'cynthia stowens.',\n",
       " 'my dad died, see, and my mom went through a…well, kind of a nervous breakdown.',\n",
       " 'so she farmed me out to aunt cindy while she got her act back together.',\n",
       " 'aunt cindy put me on a bus back to long island and my mom just about a month after the big fire.” he looked at his face in the mirror behind the soda fountain.',\n",
       " \"“i cried on the bus going away from mom, and i cried on the bus going away from aunt cindy and jerusalem's lot.”\\n\\n“i was born the year of the fire,” susan said.\",\n",
       " '“the biggest damn thing that ever happened to this town and i slept through it.”\\n\\nben laughed.',\n",
       " '“that makes you about seven years older than i thought in the park.”\\n\\n“really?” she looked pleased.',\n",
       " '“thank you…i think.',\n",
       " \"your aunt's house must have burned down.”\\n\\n“yes,” he said.\",\n",
       " '“that night is one of my clearest memories.',\n",
       " \"some men with indian pumps on their backs came to the door and said we'd have to leave.\",\n",
       " 'it was very exciting.',\n",
       " 'aunt cindy dithered around, picking things up and loading them into her hudson.',\n",
       " 'christ, what a night.”\\n\\n“was she insured?”\\n\\n“no, but the house was rented and we got just about everything valuable into the car, except for the tv.',\n",
       " \"we tried to lift it and couldn't even budge it off the floor.\",\n",
       " 'it was a video king with a seven-inch screen and a magnifying glass over the picture tube.',\n",
       " 'hell on the eyes.',\n",
       " 'we only got one channel anyway—lots of country music, farm reports, and kitty the klown.”\\n\\n“and you came back here to write a book,” she marveled.',\n",
       " \"ben didn't reply at once.\",\n",
       " 'miss coogan was opening cartons of cigarettes and filling the display rack by the cash register.',\n",
       " 'the pharmacist, mr labree, was puttering around behind the high drug counter like a frosty ghost.',\n",
       " 'the air force kid was standing by the door to the bus, waiting for the driver to come back from the bathroom.',\n",
       " '“yes,” ben said.',\n",
       " 'he turned and looked at her, full in the face, for the first time.',\n",
       " 'she had a very pretty face, with candid blue eyes and a high, clear, tanned forehead.',\n",
       " '“is this town your childhood?” he asked.',\n",
       " '“yes.”\\n\\nhe nodded.',\n",
       " '“then you know.',\n",
       " \"i was a kid in 'salem's lot and it's haunted for me.\",\n",
       " \"when i came back, i almost drove right by because i was afraid it would be different.”\\n\\n“things don't change here,” she said.\",\n",
       " '“not very much.”\\n\\n“i used to play war with the gardener kids down in the marshes.',\n",
       " \"pirates out by royal's pond.\",\n",
       " 'capture-the-flag and hide-and-go-seek in the park.',\n",
       " 'my mom and i knocked around some pretty hard places after i left aunt cindy.',\n",
       " 'she killed herself when i was fourteen, but most of the magic dust had rubbed off me long before that.',\n",
       " 'what there was of it was here.',\n",
       " \"and it's still here.\",\n",
       " \"the town hasn't changed that much.\",\n",
       " 'looking out on jointner avenue is like looking through a thin pane of ice—like the one you can pick off the top of the town cistern in november if you knock it around the edges first—looking through that at your childhood.',\n",
       " \"it's wavy and misty and in some places it trails off into nothing, but most of it is still all there.”\\n\\nhe stopped, amazed.\",\n",
       " 'he had made a speech.']"
      ]
     },
     "execution_count": 59,
     "metadata": {},
     "output_type": "execute_result"
    }
   ],
   "source": [
    "books[4][:500]"
   ]
  },
  {
   "cell_type": "markdown",
   "metadata": {},
   "source": [
    "### Lower Stop List"
   ]
  },
  {
   "cell_type": "code",
   "execution_count": 60,
   "metadata": {
    "ExecuteTime": {
     "end_time": "2017-11-10T03:43:57.735079Z",
     "start_time": "2017-11-10T03:43:57.730163Z"
    },
    "collapsed": true
   },
   "outputs": [],
   "source": [
    "stoplist = [x.lower() for x in stoplist]"
   ]
  },
  {
   "cell_type": "markdown",
   "metadata": {},
   "source": [
    "### Convert sentences to Rows"
   ]
  },
  {
   "cell_type": "code",
   "execution_count": 61,
   "metadata": {
    "ExecuteTime": {
     "end_time": "2017-11-10T03:44:02.178061Z",
     "start_time": "2017-11-10T03:43:57.737621Z"
    },
    "collapsed": true
   },
   "outputs": [],
   "source": [
    "s = df.apply(lambda x: pd.Series(x['content']),axis=1).stack().reset_index(level=1, drop=True)\n",
    "s.name = 'content'\n",
    "sentDF = df.drop('content', axis=1).join(s)"
   ]
  },
  {
   "cell_type": "code",
   "execution_count": 62,
   "metadata": {
    "ExecuteTime": {
     "end_time": "2017-11-10T03:44:02.198144Z",
     "start_time": "2017-11-10T03:44:02.183456Z"
    }
   },
   "outputs": [
    {
     "data": {
      "text/html": [
       "<div>\n",
       "<style>\n",
       "    .dataframe thead tr:only-child th {\n",
       "        text-align: right;\n",
       "    }\n",
       "\n",
       "    .dataframe thead th {\n",
       "        text-align: left;\n",
       "    }\n",
       "\n",
       "    .dataframe tbody tr th {\n",
       "        vertical-align: top;\n",
       "    }\n",
       "</style>\n",
       "<table border=\"1\" class=\"dataframe\">\n",
       "  <thead>\n",
       "    <tr style=\"text-align: right;\">\n",
       "      <th></th>\n",
       "      <th>isbn</th>\n",
       "      <th>title</th>\n",
       "      <th>year</th>\n",
       "      <th>content</th>\n",
       "    </tr>\n",
       "  </thead>\n",
       "  <tbody>\n",
       "    <tr>\n",
       "      <th>0</th>\n",
       "      <td>9780062215956</td>\n",
       "      <td>Throttle</td>\n",
       "      <td>2009</td>\n",
       "      <td>d by “duel”\\n\\njoe hill and stephen king\\n\\n\\n...</td>\n",
       "    </tr>\n",
       "    <tr>\n",
       "      <th>0</th>\n",
       "      <td>9780062215956</td>\n",
       "      <td>Throttle</td>\n",
       "      <td>2009</td>\n",
       "      <td>finally, in the early afternoon, they turned i...</td>\n",
       "    </tr>\n",
       "    <tr>\n",
       "      <th>0</th>\n",
       "      <td>9780062215956</td>\n",
       "      <td>Throttle</td>\n",
       "      <td>2009</td>\n",
       "      <td>the overlapping thunder of their engines shook...</td>\n",
       "    </tr>\n",
       "    <tr>\n",
       "      <th>0</th>\n",
       "      <td>9780062215956</td>\n",
       "      <td>Throttle</td>\n",
       "      <td>2009</td>\n",
       "      <td>they drew up together among parked long-haul t...</td>\n",
       "    </tr>\n",
       "    <tr>\n",
       "      <th>0</th>\n",
       "      <td>9780062215956</td>\n",
       "      <td>Throttle</td>\n",
       "      <td>2009</td>\n",
       "      <td>race adamson had led them the whole way, his h...</td>\n",
       "    </tr>\n",
       "  </tbody>\n",
       "</table>\n",
       "</div>"
      ],
      "text/plain": [
       "            isbn     title  year  \\\n",
       "0  9780062215956  Throttle  2009   \n",
       "0  9780062215956  Throttle  2009   \n",
       "0  9780062215956  Throttle  2009   \n",
       "0  9780062215956  Throttle  2009   \n",
       "0  9780062215956  Throttle  2009   \n",
       "\n",
       "                                             content  \n",
       "0  d by “duel”\\n\\njoe hill and stephen king\\n\\n\\n...  \n",
       "0  finally, in the early afternoon, they turned i...  \n",
       "0  the overlapping thunder of their engines shook...  \n",
       "0  they drew up together among parked long-haul t...  \n",
       "0  race adamson had led them the whole way, his h...  "
      ]
     },
     "execution_count": 62,
     "metadata": {},
     "output_type": "execute_result"
    }
   ],
   "source": [
    "sentDF.head()"
   ]
  },
  {
   "cell_type": "code",
   "execution_count": 63,
   "metadata": {
    "ExecuteTime": {
     "end_time": "2017-11-10T03:44:02.379980Z",
     "start_time": "2017-11-10T03:44:02.202734Z"
    },
    "collapsed": true
   },
   "outputs": [],
   "source": [
    "cujoDF = sentDF.loc[sentDF['title'] == 'Cujo']"
   ]
  },
  {
   "cell_type": "code",
   "execution_count": 64,
   "metadata": {
    "ExecuteTime": {
     "end_time": "2017-11-10T03:44:02.423729Z",
     "start_time": "2017-11-10T03:44:02.385434Z"
    },
    "scrolled": true
   },
   "outputs": [
    {
     "data": {
      "text/html": [
       "<div>\n",
       "<style>\n",
       "    .dataframe thead tr:only-child th {\n",
       "        text-align: right;\n",
       "    }\n",
       "\n",
       "    .dataframe thead th {\n",
       "        text-align: left;\n",
       "    }\n",
       "\n",
       "    .dataframe tbody tr th {\n",
       "        vertical-align: top;\n",
       "    }\n",
       "</style>\n",
       "<table border=\"1\" class=\"dataframe\">\n",
       "  <thead>\n",
       "    <tr style=\"text-align: right;\">\n",
       "      <th></th>\n",
       "      <th>isbn</th>\n",
       "      <th>title</th>\n",
       "      <th>year</th>\n",
       "      <th>content</th>\n",
       "    </tr>\n",
       "  </thead>\n",
       "  <tbody>\n",
       "    <tr>\n",
       "      <th>60</th>\n",
       "      <td>978-1-101-13806-9</td>\n",
       "      <td>Cujo</td>\n",
       "      <td>1981</td>\n",
       "      <td>page\\n\\ncopyright page\\n\\ndedication\\n\\n\\n\\n\\...</td>\n",
       "    </tr>\n",
       "    <tr>\n",
       "      <th>60</th>\n",
       "      <td>978-1-101-13806-9</td>\n",
       "      <td>Cujo</td>\n",
       "      <td>1981</td>\n",
       "      <td>.</td>\n",
       "    </tr>\n",
       "    <tr>\n",
       "      <th>60</th>\n",
       "      <td>978-1-101-13806-9</td>\n",
       "      <td>Cujo</td>\n",
       "      <td>1981</td>\n",
       "      <td>.</td>\n",
       "    </tr>\n",
       "    <tr>\n",
       "      <th>60</th>\n",
       "      <td>978-1-101-13806-9</td>\n",
       "      <td>Cujo</td>\n",
       "      <td>1981</td>\n",
       "      <td>cujo\\n\\nit happens innocently enough, but does...</td>\n",
       "    </tr>\n",
       "    <tr>\n",
       "      <th>60</th>\n",
       "      <td>978-1-101-13806-9</td>\n",
       "      <td>Cujo</td>\n",
       "      <td>1981</td>\n",
       "      <td>a big, friendly dog chases a rabbit into a hid...</td>\n",
       "    </tr>\n",
       "    <tr>\n",
       "      <th>60</th>\n",
       "      <td>978-1-101-13806-9</td>\n",
       "      <td>Cujo</td>\n",
       "      <td>1981</td>\n",
       "      <td>a terrified four-year-old boy sees his bedroom...</td>\n",
       "    </tr>\n",
       "    <tr>\n",
       "      <th>60</th>\n",
       "      <td>978-1-101-13806-9</td>\n",
       "      <td>Cujo</td>\n",
       "      <td>1981</td>\n",
       "      <td>the little maine town of castle rock is about ...</td>\n",
       "    </tr>\n",
       "    <tr>\n",
       "      <th>60</th>\n",
       "      <td>978-1-101-13806-9</td>\n",
       "      <td>Cujo</td>\n",
       "      <td>1981</td>\n",
       "      <td>“hits the jugular.”\\n\\n—new york times\\n\\n\\n\\n...</td>\n",
       "    </tr>\n",
       "    <tr>\n",
       "      <th>60</th>\n",
       "      <td>978-1-101-13806-9</td>\n",
       "      <td>Cujo</td>\n",
       "      <td>1981</td>\n",
       "      <td>250 camberwell road, camberwell.</td>\n",
       "    </tr>\n",
       "    <tr>\n",
       "      <th>60</th>\n",
       "      <td>978-1-101-13806-9</td>\n",
       "      <td>Cujo</td>\n",
       "      <td>1981</td>\n",
       "      <td>victoria 3124.</td>\n",
       "    </tr>\n",
       "    <tr>\n",
       "      <th>60</th>\n",
       "      <td>978-1-101-13806-9</td>\n",
       "      <td>Cujo</td>\n",
       "      <td>1981</td>\n",
       "      <td>australia (a division of pearson australia gro...</td>\n",
       "    </tr>\n",
       "    <tr>\n",
       "      <th>60</th>\n",
       "      <td>978-1-101-13806-9</td>\n",
       "      <td>Cujo</td>\n",
       "      <td>1981</td>\n",
       "      <td>ltd.)\\n\\npenguin books india pvt.</td>\n",
       "    </tr>\n",
       "    <tr>\n",
       "      <th>60</th>\n",
       "      <td>978-1-101-13806-9</td>\n",
       "      <td>Cujo</td>\n",
       "      <td>1981</td>\n",
       "      <td>ltd., ii community centre, panchsheel park, ne...</td>\n",
       "    </tr>\n",
       "    <tr>\n",
       "      <th>60</th>\n",
       "      <td>978-1-101-13806-9</td>\n",
       "      <td>Cujo</td>\n",
       "      <td>1981</td>\n",
       "      <td>rosedale, north shore 0632, new zealand (a div...</td>\n",
       "    </tr>\n",
       "    <tr>\n",
       "      <th>60</th>\n",
       "      <td>978-1-101-13806-9</td>\n",
       "      <td>Cujo</td>\n",
       "      <td>1981</td>\n",
       "      <td>ltd., 24 sturdee avenue, rosebank, johannesbur...</td>\n",
       "    </tr>\n",
       "    <tr>\n",
       "      <th>60</th>\n",
       "      <td>978-1-101-13806-9</td>\n",
       "      <td>Cujo</td>\n",
       "      <td>1981</td>\n",
       "      <td>england\\n\\n\\n\\n\\n\\nfirst signet printing, june...</td>\n",
       "    </tr>\n",
       "    <tr>\n",
       "      <th>60</th>\n",
       "      <td>978-1-101-13806-9</td>\n",
       "      <td>Cujo</td>\n",
       "      <td>1981</td>\n",
       "      <td>1981\\n\\nall rights reserved\\n\\n\\n\\n\\n\\ngratefu...</td>\n",
       "    </tr>\n",
       "    <tr>\n",
       "      <th>60</th>\n",
       "      <td>978-1-101-13806-9</td>\n",
       "      <td>Cujo</td>\n",
       "      <td>1981</td>\n",
       "      <td>portions of text from the song “sugaree,” word...</td>\n",
       "    </tr>\n",
       "    <tr>\n",
       "      <th>60</th>\n",
       "      <td>978-1-101-13806-9</td>\n",
       "      <td>Cujo</td>\n",
       "      <td>1981</td>\n",
       "      <td>copyright © ice nine publishing company, 1971.</td>\n",
       "    </tr>\n",
       "    <tr>\n",
       "      <th>60</th>\n",
       "      <td>978-1-101-13806-9</td>\n",
       "      <td>Cujo</td>\n",
       "      <td>1981</td>\n",
       "      <td>all rights reserved.</td>\n",
       "    </tr>\n",
       "    <tr>\n",
       "      <th>60</th>\n",
       "      <td>978-1-101-13806-9</td>\n",
       "      <td>Cujo</td>\n",
       "      <td>1981</td>\n",
       "      <td>random house, inc. an excerpt from “musée des ...</td>\n",
       "    </tr>\n",
       "    <tr>\n",
       "      <th>60</th>\n",
       "      <td>978-1-101-13806-9</td>\n",
       "      <td>Cujo</td>\n",
       "      <td>1981</td>\n",
       "      <td>reprinted from w h. auden: collected poems by ...</td>\n",
       "    </tr>\n",
       "    <tr>\n",
       "      <th>60</th>\n",
       "      <td>978-1-101-13806-9</td>\n",
       "      <td>Cujo</td>\n",
       "      <td>1981</td>\n",
       "      <td>registered trademark—marca registrada\\n\\n\\n\\n\\...</td>\n",
       "    </tr>\n",
       "    <tr>\n",
       "      <th>60</th>\n",
       "      <td>978-1-101-13806-9</td>\n",
       "      <td>Cujo</td>\n",
       "      <td>1981</td>\n",
       "      <td>publisher's note\\n\\nthis is a work of fiction.</td>\n",
       "    </tr>\n",
       "    <tr>\n",
       "      <th>60</th>\n",
       "      <td>978-1-101-13806-9</td>\n",
       "      <td>Cujo</td>\n",
       "      <td>1981</td>\n",
       "      <td>names, characters, places, and incidents eithe...</td>\n",
       "    </tr>\n",
       "    <tr>\n",
       "      <th>60</th>\n",
       "      <td>978-1-101-13806-9</td>\n",
       "      <td>Cujo</td>\n",
       "      <td>1981</td>\n",
       "      <td>the publisher does not have any control over a...</td>\n",
       "    </tr>\n",
       "    <tr>\n",
       "      <th>60</th>\n",
       "      <td>978-1-101-13806-9</td>\n",
       "      <td>Cujo</td>\n",
       "      <td>1981</td>\n",
       "      <td>the scanning, uploading, and distribution of t...</td>\n",
       "    </tr>\n",
       "    <tr>\n",
       "      <th>60</th>\n",
       "      <td>978-1-101-13806-9</td>\n",
       "      <td>Cujo</td>\n",
       "      <td>1981</td>\n",
       "      <td>please purchase only authorized electronic edi...</td>\n",
       "    </tr>\n",
       "    <tr>\n",
       "      <th>60</th>\n",
       "      <td>978-1-101-13806-9</td>\n",
       "      <td>Cujo</td>\n",
       "      <td>1981</td>\n",
       "      <td>your support of the author's rights is appreci...</td>\n",
       "    </tr>\n",
       "    <tr>\n",
       "      <th>60</th>\n",
       "      <td>978-1-101-13806-9</td>\n",
       "      <td>Cujo</td>\n",
       "      <td>1981</td>\n",
       "      <td>isbn : 978-1-101-13806-9\\n\\nhttp://us.penguing...</td>\n",
       "    </tr>\n",
       "    <tr>\n",
       "      <th>...</th>\n",
       "      <td>...</td>\n",
       "      <td>...</td>\n",
       "      <td>...</td>\n",
       "      <td>...</td>\n",
       "    </tr>\n",
       "    <tr>\n",
       "      <th>60</th>\n",
       "      <td>978-1-101-13806-9</td>\n",
       "      <td>Cujo</td>\n",
       "      <td>1981</td>\n",
       "      <td>it's started to snow again.”\\n\\n“he can come i...</td>\n",
       "    </tr>\n",
       "    <tr>\n",
       "      <th>60</th>\n",
       "      <td>978-1-101-13806-9</td>\n",
       "      <td>Cujo</td>\n",
       "      <td>1981</td>\n",
       "      <td>and if he piddles around, you clean it up.”\\n\\...</td>\n",
       "    </tr>\n",
       "    <tr>\n",
       "      <th>60</th>\n",
       "      <td>978-1-101-13806-9</td>\n",
       "      <td>Cujo</td>\n",
       "      <td>1981</td>\n",
       "      <td>“what do you want to call him, brett?”\\n\\n“i d...</td>\n",
       "    </tr>\n",
       "    <tr>\n",
       "      <th>60</th>\n",
       "      <td>978-1-101-13806-9</td>\n",
       "      <td>Cujo</td>\n",
       "      <td>1981</td>\n",
       "      <td>there was a long, long pause.</td>\n",
       "    </tr>\n",
       "    <tr>\n",
       "      <th>60</th>\n",
       "      <td>978-1-101-13806-9</td>\n",
       "      <td>Cujo</td>\n",
       "      <td>1981</td>\n",
       "      <td>“i don't know yet.</td>\n",
       "    </tr>\n",
       "    <tr>\n",
       "      <th>60</th>\n",
       "      <td>978-1-101-13806-9</td>\n",
       "      <td>Cujo</td>\n",
       "      <td>1981</td>\n",
       "      <td>i'll have to think on it.”\\n\\nshe had an impre...</td>\n",
       "    </tr>\n",
       "    <tr>\n",
       "      <th>60</th>\n",
       "      <td>978-1-101-13806-9</td>\n",
       "      <td>Cujo</td>\n",
       "      <td>1981</td>\n",
       "      <td>besides, his back was to her and she couldn't ...</td>\n",
       "    </tr>\n",
       "    <tr>\n",
       "      <th>60</th>\n",
       "      <td>978-1-101-13806-9</td>\n",
       "      <td>Cujo</td>\n",
       "      <td>1981</td>\n",
       "      <td>he was getting to be a big boy, and as much as...</td>\n",
       "    </tr>\n",
       "    <tr>\n",
       "      <th>60</th>\n",
       "      <td>978-1-101-13806-9</td>\n",
       "      <td>Cujo</td>\n",
       "      <td>1981</td>\n",
       "      <td>he went outside and brought the dog back in, c...</td>\n",
       "    </tr>\n",
       "    <tr>\n",
       "      <th>60</th>\n",
       "      <td>978-1-101-13806-9</td>\n",
       "      <td>Cujo</td>\n",
       "      <td>1981</td>\n",
       "      <td>it remained unnamed until the following spring...</td>\n",
       "    </tr>\n",
       "    <tr>\n",
       "      <th>60</th>\n",
       "      <td>978-1-101-13806-9</td>\n",
       "      <td>Cujo</td>\n",
       "      <td>1981</td>\n",
       "      <td>it was a small, lively, short-haired dog, most...</td>\n",
       "    </tr>\n",
       "    <tr>\n",
       "      <th>60</th>\n",
       "      <td>978-1-101-13806-9</td>\n",
       "      <td>Cujo</td>\n",
       "      <td>1981</td>\n",
       "      <td>somehow it just looked like a willie.</td>\n",
       "    </tr>\n",
       "    <tr>\n",
       "      <th>60</th>\n",
       "      <td>978-1-101-13806-9</td>\n",
       "      <td>Cujo</td>\n",
       "      <td>1981</td>\n",
       "      <td>the name stuck.</td>\n",
       "    </tr>\n",
       "    <tr>\n",
       "      <th>60</th>\n",
       "      <td>978-1-101-13806-9</td>\n",
       "      <td>Cujo</td>\n",
       "      <td>1981</td>\n",
       "      <td>much later, that spring, charity got a small p...</td>\n",
       "    </tr>\n",
       "    <tr>\n",
       "      <th>60</th>\n",
       "      <td>978-1-101-13806-9</td>\n",
       "      <td>Cujo</td>\n",
       "      <td>1981</td>\n",
       "      <td>she began to put away ten dollars a week.</td>\n",
       "    </tr>\n",
       "    <tr>\n",
       "      <th>60</th>\n",
       "      <td>978-1-101-13806-9</td>\n",
       "      <td>Cujo</td>\n",
       "      <td>1981</td>\n",
       "      <td>toward brett's college.</td>\n",
       "    </tr>\n",
       "    <tr>\n",
       "      <th>60</th>\n",
       "      <td>978-1-101-13806-9</td>\n",
       "      <td>Cujo</td>\n",
       "      <td>1981</td>\n",
       "      <td>shortly following those mortal events in the c...</td>\n",
       "    </tr>\n",
       "    <tr>\n",
       "      <th>60</th>\n",
       "      <td>978-1-101-13806-9</td>\n",
       "      <td>Cujo</td>\n",
       "      <td>1981</td>\n",
       "      <td>the ashes went out with the trash and were dis...</td>\n",
       "    </tr>\n",
       "    <tr>\n",
       "      <th>60</th>\n",
       "      <td>978-1-101-13806-9</td>\n",
       "      <td>Cujo</td>\n",
       "      <td>1981</td>\n",
       "      <td>it would perhaps not be amiss to point out tha...</td>\n",
       "    </tr>\n",
       "    <tr>\n",
       "      <th>60</th>\n",
       "      <td>978-1-101-13806-9</td>\n",
       "      <td>Cujo</td>\n",
       "      <td>1981</td>\n",
       "      <td>he had tried to do all the things his man and ...</td>\n",
       "    </tr>\n",
       "    <tr>\n",
       "      <th>60</th>\n",
       "      <td>978-1-101-13806-9</td>\n",
       "      <td>Cujo</td>\n",
       "      <td>1981</td>\n",
       "      <td>he would have died for them, if that had been ...</td>\n",
       "    </tr>\n",
       "    <tr>\n",
       "      <th>60</th>\n",
       "      <td>978-1-101-13806-9</td>\n",
       "      <td>Cujo</td>\n",
       "      <td>1981</td>\n",
       "      <td>he had never wanted to kill anybody.</td>\n",
       "    </tr>\n",
       "    <tr>\n",
       "      <th>60</th>\n",
       "      <td>978-1-101-13806-9</td>\n",
       "      <td>Cujo</td>\n",
       "      <td>1981</td>\n",
       "      <td>he had been struck by something, possibly dest...</td>\n",
       "    </tr>\n",
       "    <tr>\n",
       "      <th>60</th>\n",
       "      <td>978-1-101-13806-9</td>\n",
       "      <td>Cujo</td>\n",
       "      <td>1981</td>\n",
       "      <td>free will was not a factor.</td>\n",
       "    </tr>\n",
       "    <tr>\n",
       "      <th>60</th>\n",
       "      <td>978-1-101-13806-9</td>\n",
       "      <td>Cujo</td>\n",
       "      <td>1981</td>\n",
       "      <td>the small cave into which cujo had chased the ...</td>\n",
       "    </tr>\n",
       "    <tr>\n",
       "      <th>60</th>\n",
       "      <td>978-1-101-13806-9</td>\n",
       "      <td>Cujo</td>\n",
       "      <td>1981</td>\n",
       "      <td>eventually, for whatever vague reasons small c...</td>\n",
       "    </tr>\n",
       "    <tr>\n",
       "      <th>60</th>\n",
       "      <td>978-1-101-13806-9</td>\n",
       "      <td>Cujo</td>\n",
       "      <td>1981</td>\n",
       "      <td>the rabbit was unable to get out and it starve...</td>\n",
       "    </tr>\n",
       "    <tr>\n",
       "      <th>60</th>\n",
       "      <td>978-1-101-13806-9</td>\n",
       "      <td>Cujo</td>\n",
       "      <td>1981</td>\n",
       "      <td>its bones, so far as i know, still remain ther...</td>\n",
       "    </tr>\n",
       "    <tr>\n",
       "      <th>60</th>\n",
       "      <td>978-1-101-13806-9</td>\n",
       "      <td>Cujo</td>\n",
       "      <td>1981</td>\n",
       "      <td>i'm tellin you so you'll know,\\n\\ni'm tellin y...</td>\n",
       "    </tr>\n",
       "    <tr>\n",
       "      <th>60</th>\n",
       "      <td>978-1-101-13806-9</td>\n",
       "      <td>Cujo</td>\n",
       "      <td>1981</td>\n",
       "      <td>—folk song\\n\\n\\n\\nseptember 1977-\\n\\nmarch 198...</td>\n",
       "    </tr>\n",
       "  </tbody>\n",
       "</table>\n",
       "<p>9262 rows × 4 columns</p>\n",
       "</div>"
      ],
      "text/plain": [
       "                 isbn title  year  \\\n",
       "60  978-1-101-13806-9  Cujo  1981   \n",
       "60  978-1-101-13806-9  Cujo  1981   \n",
       "60  978-1-101-13806-9  Cujo  1981   \n",
       "60  978-1-101-13806-9  Cujo  1981   \n",
       "60  978-1-101-13806-9  Cujo  1981   \n",
       "60  978-1-101-13806-9  Cujo  1981   \n",
       "60  978-1-101-13806-9  Cujo  1981   \n",
       "60  978-1-101-13806-9  Cujo  1981   \n",
       "60  978-1-101-13806-9  Cujo  1981   \n",
       "60  978-1-101-13806-9  Cujo  1981   \n",
       "60  978-1-101-13806-9  Cujo  1981   \n",
       "60  978-1-101-13806-9  Cujo  1981   \n",
       "60  978-1-101-13806-9  Cujo  1981   \n",
       "60  978-1-101-13806-9  Cujo  1981   \n",
       "60  978-1-101-13806-9  Cujo  1981   \n",
       "60  978-1-101-13806-9  Cujo  1981   \n",
       "60  978-1-101-13806-9  Cujo  1981   \n",
       "60  978-1-101-13806-9  Cujo  1981   \n",
       "60  978-1-101-13806-9  Cujo  1981   \n",
       "60  978-1-101-13806-9  Cujo  1981   \n",
       "60  978-1-101-13806-9  Cujo  1981   \n",
       "60  978-1-101-13806-9  Cujo  1981   \n",
       "60  978-1-101-13806-9  Cujo  1981   \n",
       "60  978-1-101-13806-9  Cujo  1981   \n",
       "60  978-1-101-13806-9  Cujo  1981   \n",
       "60  978-1-101-13806-9  Cujo  1981   \n",
       "60  978-1-101-13806-9  Cujo  1981   \n",
       "60  978-1-101-13806-9  Cujo  1981   \n",
       "60  978-1-101-13806-9  Cujo  1981   \n",
       "60  978-1-101-13806-9  Cujo  1981   \n",
       "..                ...   ...   ...   \n",
       "60  978-1-101-13806-9  Cujo  1981   \n",
       "60  978-1-101-13806-9  Cujo  1981   \n",
       "60  978-1-101-13806-9  Cujo  1981   \n",
       "60  978-1-101-13806-9  Cujo  1981   \n",
       "60  978-1-101-13806-9  Cujo  1981   \n",
       "60  978-1-101-13806-9  Cujo  1981   \n",
       "60  978-1-101-13806-9  Cujo  1981   \n",
       "60  978-1-101-13806-9  Cujo  1981   \n",
       "60  978-1-101-13806-9  Cujo  1981   \n",
       "60  978-1-101-13806-9  Cujo  1981   \n",
       "60  978-1-101-13806-9  Cujo  1981   \n",
       "60  978-1-101-13806-9  Cujo  1981   \n",
       "60  978-1-101-13806-9  Cujo  1981   \n",
       "60  978-1-101-13806-9  Cujo  1981   \n",
       "60  978-1-101-13806-9  Cujo  1981   \n",
       "60  978-1-101-13806-9  Cujo  1981   \n",
       "60  978-1-101-13806-9  Cujo  1981   \n",
       "60  978-1-101-13806-9  Cujo  1981   \n",
       "60  978-1-101-13806-9  Cujo  1981   \n",
       "60  978-1-101-13806-9  Cujo  1981   \n",
       "60  978-1-101-13806-9  Cujo  1981   \n",
       "60  978-1-101-13806-9  Cujo  1981   \n",
       "60  978-1-101-13806-9  Cujo  1981   \n",
       "60  978-1-101-13806-9  Cujo  1981   \n",
       "60  978-1-101-13806-9  Cujo  1981   \n",
       "60  978-1-101-13806-9  Cujo  1981   \n",
       "60  978-1-101-13806-9  Cujo  1981   \n",
       "60  978-1-101-13806-9  Cujo  1981   \n",
       "60  978-1-101-13806-9  Cujo  1981   \n",
       "60  978-1-101-13806-9  Cujo  1981   \n",
       "\n",
       "                                              content  \n",
       "60   page\\n\\ncopyright page\\n\\ndedication\\n\\n\\n\\n\\...  \n",
       "60                                                  .  \n",
       "60                                                  .  \n",
       "60  cujo\\n\\nit happens innocently enough, but does...  \n",
       "60  a big, friendly dog chases a rabbit into a hid...  \n",
       "60  a terrified four-year-old boy sees his bedroom...  \n",
       "60  the little maine town of castle rock is about ...  \n",
       "60  “hits the jugular.”\\n\\n—new york times\\n\\n\\n\\n...  \n",
       "60                   250 camberwell road, camberwell.  \n",
       "60                                     victoria 3124.  \n",
       "60  australia (a division of pearson australia gro...  \n",
       "60                  ltd.)\\n\\npenguin books india pvt.  \n",
       "60  ltd., ii community centre, panchsheel park, ne...  \n",
       "60  rosedale, north shore 0632, new zealand (a div...  \n",
       "60  ltd., 24 sturdee avenue, rosebank, johannesbur...  \n",
       "60  england\\n\\n\\n\\n\\n\\nfirst signet printing, june...  \n",
       "60  1981\\n\\nall rights reserved\\n\\n\\n\\n\\n\\ngratefu...  \n",
       "60  portions of text from the song “sugaree,” word...  \n",
       "60     copyright © ice nine publishing company, 1971.  \n",
       "60                               all rights reserved.  \n",
       "60  random house, inc. an excerpt from “musée des ...  \n",
       "60  reprinted from w h. auden: collected poems by ...  \n",
       "60  registered trademark—marca registrada\\n\\n\\n\\n\\...  \n",
       "60     publisher's note\\n\\nthis is a work of fiction.  \n",
       "60  names, characters, places, and incidents eithe...  \n",
       "60  the publisher does not have any control over a...  \n",
       "60  the scanning, uploading, and distribution of t...  \n",
       "60  please purchase only authorized electronic edi...  \n",
       "60  your support of the author's rights is appreci...  \n",
       "60  isbn : 978-1-101-13806-9\\n\\nhttp://us.penguing...  \n",
       "..                                                ...  \n",
       "60  it's started to snow again.”\\n\\n“he can come i...  \n",
       "60  and if he piddles around, you clean it up.”\\n\\...  \n",
       "60  “what do you want to call him, brett?”\\n\\n“i d...  \n",
       "60                      there was a long, long pause.  \n",
       "60                                 “i don't know yet.  \n",
       "60  i'll have to think on it.”\\n\\nshe had an impre...  \n",
       "60  besides, his back was to her and she couldn't ...  \n",
       "60  he was getting to be a big boy, and as much as...  \n",
       "60  he went outside and brought the dog back in, c...  \n",
       "60  it remained unnamed until the following spring...  \n",
       "60  it was a small, lively, short-haired dog, most...  \n",
       "60              somehow it just looked like a willie.  \n",
       "60                                    the name stuck.  \n",
       "60  much later, that spring, charity got a small p...  \n",
       "60          she began to put away ten dollars a week.  \n",
       "60                            toward brett's college.  \n",
       "60  shortly following those mortal events in the c...  \n",
       "60  the ashes went out with the trash and were dis...  \n",
       "60  it would perhaps not be amiss to point out tha...  \n",
       "60  he had tried to do all the things his man and ...  \n",
       "60  he would have died for them, if that had been ...  \n",
       "60               he had never wanted to kill anybody.  \n",
       "60  he had been struck by something, possibly dest...  \n",
       "60                        free will was not a factor.  \n",
       "60  the small cave into which cujo had chased the ...  \n",
       "60  eventually, for whatever vague reasons small c...  \n",
       "60  the rabbit was unable to get out and it starve...  \n",
       "60  its bones, so far as i know, still remain ther...  \n",
       "60  i'm tellin you so you'll know,\\n\\ni'm tellin y...  \n",
       "60  —folk song\\n\\n\\n\\nseptember 1977-\\n\\nmarch 198...  \n",
       "\n",
       "[9262 rows x 4 columns]"
      ]
     },
     "execution_count": 64,
     "metadata": {},
     "output_type": "execute_result"
    }
   ],
   "source": [
    "cujoDF"
   ]
  },
  {
   "cell_type": "code",
   "execution_count": 65,
   "metadata": {
    "ExecuteTime": {
     "end_time": "2017-11-10T03:44:02.441176Z",
     "start_time": "2017-11-10T03:44:02.427052Z"
    },
    "collapsed": true
   },
   "outputs": [],
   "source": [
    "books = sentDF.content"
   ]
  },
  {
   "cell_type": "markdown",
   "metadata": {},
   "source": [
    "### Processing Sentences"
   ]
  },
  {
   "cell_type": "code",
   "execution_count": 55,
   "metadata": {
    "ExecuteTime": {
     "end_time": "2017-11-10T03:16:49.746551Z",
     "start_time": "2017-11-10T03:16:49.741544Z"
    },
    "collapsed": true
   },
   "outputs": [],
   "source": [
    "# totalvocab_stemmed = []\n",
    "# totalvocab_tokenized = []\n",
    "# for i in books:\n",
    "#     allwords_stemmed = tokenize_and_stem(i) #for each item in 'synopses', tokenize/stem\n",
    "#     totalvocab_stemmed.extend(allwords_stemmed) #extend the 'totalvocab_stemmed' list\n",
    "    \n",
    "#     allwords_tokenized = tokenize_only(i)\n",
    "#     totalvocab_tokenized.extend(allwords_tokenized)"
   ]
  },
  {
   "cell_type": "code",
   "execution_count": 56,
   "metadata": {
    "ExecuteTime": {
     "end_time": "2017-11-10T03:16:49.754355Z",
     "start_time": "2017-11-10T03:16:49.749741Z"
    },
    "collapsed": true
   },
   "outputs": [],
   "source": [
    "# totalvocab_stemmed"
   ]
  },
  {
   "cell_type": "code",
   "execution_count": 57,
   "metadata": {
    "ExecuteTime": {
     "end_time": "2017-11-10T03:16:49.761459Z",
     "start_time": "2017-11-10T03:16:49.757532Z"
    },
    "collapsed": true
   },
   "outputs": [],
   "source": [
    "titles = sentDF.title\n",
    "#titles"
   ]
  },
  {
   "cell_type": "code",
   "execution_count": 58,
   "metadata": {
    "ExecuteTime": {
     "end_time": "2017-11-10T03:16:49.771307Z",
     "start_time": "2017-11-10T03:16:49.764110Z"
    }
   },
   "outputs": [
    {
     "data": {
      "text/plain": [
       "748650"
      ]
     },
     "execution_count": 58,
     "metadata": {},
     "output_type": "execute_result"
    }
   ],
   "source": [
    "len(books)"
   ]
  },
  {
   "cell_type": "code",
   "execution_count": 66,
   "metadata": {
    "ExecuteTime": {
     "end_time": "2017-11-10T03:44:19.587561Z",
     "start_time": "2017-11-10T03:44:19.572994Z"
    }
   },
   "outputs": [
    {
     "data": {
      "text/html": [
       "<div>\n",
       "<style>\n",
       "    .dataframe thead tr:only-child th {\n",
       "        text-align: right;\n",
       "    }\n",
       "\n",
       "    .dataframe thead th {\n",
       "        text-align: left;\n",
       "    }\n",
       "\n",
       "    .dataframe tbody tr th {\n",
       "        vertical-align: top;\n",
       "    }\n",
       "</style>\n",
       "<table border=\"1\" class=\"dataframe\">\n",
       "  <thead>\n",
       "    <tr style=\"text-align: right;\">\n",
       "      <th></th>\n",
       "      <th>isbn</th>\n",
       "      <th>title</th>\n",
       "      <th>year</th>\n",
       "      <th>content</th>\n",
       "    </tr>\n",
       "  </thead>\n",
       "  <tbody>\n",
       "    <tr>\n",
       "      <th>0</th>\n",
       "      <td>9780062215956</td>\n",
       "      <td>Throttle</td>\n",
       "      <td>2009</td>\n",
       "      <td>d by “duel”\\n\\njoe hill and stephen king\\n\\n\\n...</td>\n",
       "    </tr>\n",
       "    <tr>\n",
       "      <th>0</th>\n",
       "      <td>9780062215956</td>\n",
       "      <td>Throttle</td>\n",
       "      <td>2009</td>\n",
       "      <td>finally, in the early afternoon, they turned i...</td>\n",
       "    </tr>\n",
       "    <tr>\n",
       "      <th>0</th>\n",
       "      <td>9780062215956</td>\n",
       "      <td>Throttle</td>\n",
       "      <td>2009</td>\n",
       "      <td>the overlapping thunder of their engines shook...</td>\n",
       "    </tr>\n",
       "    <tr>\n",
       "      <th>0</th>\n",
       "      <td>9780062215956</td>\n",
       "      <td>Throttle</td>\n",
       "      <td>2009</td>\n",
       "      <td>they drew up together among parked long-haul t...</td>\n",
       "    </tr>\n",
       "    <tr>\n",
       "      <th>0</th>\n",
       "      <td>9780062215956</td>\n",
       "      <td>Throttle</td>\n",
       "      <td>2009</td>\n",
       "      <td>race adamson had led them the whole way, his h...</td>\n",
       "    </tr>\n",
       "  </tbody>\n",
       "</table>\n",
       "</div>"
      ],
      "text/plain": [
       "            isbn     title  year  \\\n",
       "0  9780062215956  Throttle  2009   \n",
       "0  9780062215956  Throttle  2009   \n",
       "0  9780062215956  Throttle  2009   \n",
       "0  9780062215956  Throttle  2009   \n",
       "0  9780062215956  Throttle  2009   \n",
       "\n",
       "                                             content  \n",
       "0  d by “duel”\\n\\njoe hill and stephen king\\n\\n\\n...  \n",
       "0  finally, in the early afternoon, they turned i...  \n",
       "0  the overlapping thunder of their engines shook...  \n",
       "0  they drew up together among parked long-haul t...  \n",
       "0  race adamson had led them the whole way, his h...  "
      ]
     },
     "execution_count": 66,
     "metadata": {},
     "output_type": "execute_result"
    }
   ],
   "source": [
    "sentDF.head()"
   ]
  },
  {
   "cell_type": "markdown",
   "metadata": {},
   "source": [
    "## Sentiment Analysis"
   ]
  },
  {
   "cell_type": "code",
   "execution_count": 67,
   "metadata": {
    "ExecuteTime": {
     "end_time": "2017-11-10T03:46:21.586815Z",
     "start_time": "2017-11-10T03:46:21.329346Z"
    },
    "collapsed": true
   },
   "outputs": [],
   "source": [
    "dfRaw = pd.read_pickle('books.pkl')"
   ]
  },
  {
   "cell_type": "code",
   "execution_count": 68,
   "metadata": {
    "ExecuteTime": {
     "end_time": "2017-11-10T03:46:22.240080Z",
     "start_time": "2017-11-10T03:46:22.235354Z"
    },
    "collapsed": true
   },
   "outputs": [],
   "source": [
    "#Cujo Test\n",
    "cujo = dfRaw.loc[dfRaw['title'] == 'Cujo']"
   ]
  },
  {
   "cell_type": "code",
   "execution_count": 69,
   "metadata": {
    "ExecuteTime": {
     "end_time": "2017-11-10T03:46:22.506750Z",
     "start_time": "2017-11-10T03:46:22.478118Z"
    },
    "collapsed": true
   },
   "outputs": [],
   "source": [
    "cujo.to_pickle('cujodf.pkl')"
   ]
  },
  {
   "cell_type": "code",
   "execution_count": 70,
   "metadata": {
    "ExecuteTime": {
     "end_time": "2017-11-10T03:46:22.702766Z",
     "start_time": "2017-11-10T03:46:22.685022Z"
    }
   },
   "outputs": [
    {
     "data": {
      "text/plain": [
       "60     Page\\n\\nCopyright Page\\n\\nDedication\\n\\n\\n\\n\\...\n",
       "Name: content, dtype: object"
      ]
     },
     "execution_count": 70,
     "metadata": {},
     "output_type": "execute_result"
    }
   ],
   "source": [
    "cujo.content"
   ]
  },
  {
   "cell_type": "code",
   "execution_count": 71,
   "metadata": {
    "ExecuteTime": {
     "end_time": "2017-11-10T03:46:23.013101Z",
     "start_time": "2017-11-10T03:46:22.930045Z"
    }
   },
   "outputs": [
    {
     "data": {
      "text/plain": [
       "Sentiment(polarity=0.0, subjectivity=0.0)"
      ]
     },
     "execution_count": 71,
     "metadata": {},
     "output_type": "execute_result"
    }
   ],
   "source": [
    "TextBlob(str(cujo.content)).sentiment"
   ]
  },
  {
   "cell_type": "code",
   "execution_count": 72,
   "metadata": {
    "ExecuteTime": {
     "end_time": "2017-11-10T03:46:24.721959Z",
     "start_time": "2017-11-10T03:46:23.143988Z"
    }
   },
   "outputs": [
    {
     "name": "stderr",
     "output_type": "stream",
     "text": [
      "/Users/xavier/anaconda/lib/python3.6/site-packages/ipykernel_launcher.py:1: SettingWithCopyWarning: \n",
      "A value is trying to be set on a copy of a slice from a DataFrame.\n",
      "Try using .loc[row_indexer,col_indexer] = value instead\n",
      "\n",
      "See the caveats in the documentation: http://pandas.pydata.org/pandas-docs/stable/indexing.html#indexing-view-versus-copy\n",
      "  \"\"\"Entry point for launching an IPython kernel.\n"
     ]
    }
   ],
   "source": [
    "cujoDF['sentiment'] = cujoDF.content.apply(lambda x: TextBlob(x).sentiment[0])"
   ]
  },
  {
   "cell_type": "code",
   "execution_count": 76,
   "metadata": {
    "ExecuteTime": {
     "end_time": "2017-11-10T03:52:54.838782Z",
     "start_time": "2017-11-10T03:51:13.801848Z"
    },
    "collapsed": true
   },
   "outputs": [],
   "source": [
    "sentDF['sentiment'] = sentDF.content.apply(lambda x: TextBlob(x).sentiment[0])"
   ]
  },
  {
   "cell_type": "code",
   "execution_count": 77,
   "metadata": {
    "ExecuteTime": {
     "end_time": "2017-11-10T03:52:55.279114Z",
     "start_time": "2017-11-10T03:52:54.840598Z"
    },
    "collapsed": true
   },
   "outputs": [],
   "source": [
    "sentDF.to_pickle('sentiment.pkl')"
   ]
  },
  {
   "cell_type": "code",
   "execution_count": 78,
   "metadata": {
    "ExecuteTime": {
     "end_time": "2017-11-10T03:52:55.309781Z",
     "start_time": "2017-11-10T03:52:55.280780Z"
    }
   },
   "outputs": [
    {
     "data": {
      "text/html": [
       "<div>\n",
       "<style>\n",
       "    .dataframe thead tr:only-child th {\n",
       "        text-align: right;\n",
       "    }\n",
       "\n",
       "    .dataframe thead th {\n",
       "        text-align: left;\n",
       "    }\n",
       "\n",
       "    .dataframe tbody tr th {\n",
       "        vertical-align: top;\n",
       "    }\n",
       "</style>\n",
       "<table border=\"1\" class=\"dataframe\">\n",
       "  <thead>\n",
       "    <tr style=\"text-align: right;\">\n",
       "      <th></th>\n",
       "      <th>isbn</th>\n",
       "      <th>title</th>\n",
       "      <th>year</th>\n",
       "      <th>content</th>\n",
       "      <th>sentiment</th>\n",
       "    </tr>\n",
       "  </thead>\n",
       "  <tbody>\n",
       "    <tr>\n",
       "      <th>0</th>\n",
       "      <td>9780062215956</td>\n",
       "      <td>Throttle</td>\n",
       "      <td>2009</td>\n",
       "      <td>d by “duel”\\n\\njoe hill and stephen king\\n\\n\\n...</td>\n",
       "      <td>0.500000</td>\n",
       "    </tr>\n",
       "    <tr>\n",
       "      <th>0</th>\n",
       "      <td>9780062215956</td>\n",
       "      <td>Throttle</td>\n",
       "      <td>2009</td>\n",
       "      <td>finally, in the early afternoon, they turned i...</td>\n",
       "      <td>0.062500</td>\n",
       "    </tr>\n",
       "    <tr>\n",
       "      <th>0</th>\n",
       "      <td>9780062215956</td>\n",
       "      <td>Throttle</td>\n",
       "      <td>2009</td>\n",
       "      <td>the overlapping thunder of their engines shook...</td>\n",
       "      <td>0.000000</td>\n",
       "    </tr>\n",
       "    <tr>\n",
       "      <th>0</th>\n",
       "      <td>9780062215956</td>\n",
       "      <td>Throttle</td>\n",
       "      <td>2009</td>\n",
       "      <td>they drew up together among parked long-haul t...</td>\n",
       "      <td>-0.155556</td>\n",
       "    </tr>\n",
       "    <tr>\n",
       "      <th>0</th>\n",
       "      <td>9780062215956</td>\n",
       "      <td>Throttle</td>\n",
       "      <td>2009</td>\n",
       "      <td>race adamson had led them the whole way, his h...</td>\n",
       "      <td>0.200000</td>\n",
       "    </tr>\n",
       "  </tbody>\n",
       "</table>\n",
       "</div>"
      ],
      "text/plain": [
       "            isbn     title  year  \\\n",
       "0  9780062215956  Throttle  2009   \n",
       "0  9780062215956  Throttle  2009   \n",
       "0  9780062215956  Throttle  2009   \n",
       "0  9780062215956  Throttle  2009   \n",
       "0  9780062215956  Throttle  2009   \n",
       "\n",
       "                                             content  sentiment  \n",
       "0  d by “duel”\\n\\njoe hill and stephen king\\n\\n\\n...   0.500000  \n",
       "0  finally, in the early afternoon, they turned i...   0.062500  \n",
       "0  the overlapping thunder of their engines shook...   0.000000  \n",
       "0  they drew up together among parked long-haul t...  -0.155556  \n",
       "0  race adamson had led them the whole way, his h...   0.200000  "
      ]
     },
     "execution_count": 78,
     "metadata": {},
     "output_type": "execute_result"
    }
   ],
   "source": [
    "sentDF.head()"
   ]
  },
  {
   "cell_type": "markdown",
   "metadata": {},
   "source": [
    "### Smoothing"
   ]
  },
  {
   "cell_type": "code",
   "execution_count": 79,
   "metadata": {
    "ExecuteTime": {
     "end_time": "2017-11-10T03:58:22.242038Z",
     "start_time": "2017-11-10T03:58:15.936941Z"
    }
   },
   "outputs": [
    {
     "data": {
      "image/png": "[encoded data removed]",
      "text/plain": [
       "<matplotlib.figure.Figure at 0x1c3511c940>"
      ]
     },
     "metadata": {},
     "output_type": "display_data"
    }
   ],
   "source": [
    "plot_story('Dark Tower, The',sentDF)"
   ]
  },
  {
   "cell_type": "code",
   "execution_count": 80,
   "metadata": {
    "ExecuteTime": {
     "end_time": "2017-11-10T03:58:31.770059Z",
     "start_time": "2017-11-10T03:58:30.699776Z"
    }
   },
   "outputs": [
    {
     "data": {
      "image/png": "[encoded data removed]",
      "text/plain": [
       "<matplotlib.figure.Figure at 0x1c321a3358>"
      ]
     },
     "metadata": {},
     "output_type": "display_data"
    }
   ],
   "source": [
    "plot_story('Girl Who Loved Tom Gordon_ A Novel, The',sentDF)"
   ]
  },
  {
   "cell_type": "code",
   "execution_count": 83,
   "metadata": {
    "ExecuteTime": {
     "end_time": "2017-11-10T04:00:40.343066Z",
     "start_time": "2017-11-10T04:00:37.931751Z"
    }
   },
   "outputs": [
    {
     "data": {
      "image/png": "[encoded data removed]",
      "text/plain": [
       "<matplotlib.figure.Figure at 0x1c31348cc0>"
      ]
     },
     "metadata": {},
     "output_type": "display_data"
    }
   ],
   "source": [
    "plot_story('Cujo',sentDF)"
   ]
  },
  {
   "cell_type": "code",
   "execution_count": 85,
   "metadata": {
    "ExecuteTime": {
     "end_time": "2017-11-10T04:00:56.239437Z",
     "start_time": "2017-11-10T04:00:54.851310Z"
    }
   },
   "outputs": [
    {
     "data": {
      "image/png": "[encoded data removed]",
      "text/plain": [
       "<matplotlib.figure.Figure at 0x1c2c690ac8>"
      ]
     },
     "metadata": {},
     "output_type": "display_data"
    }
   ],
   "source": [
    "plot_story('Gunslinger, The')"
   ]
  },
  {
   "cell_type": "code",
   "execution_count": null,
   "metadata": {
    "ExecuteTime": {
     "end_time": "2017-11-10T03:16:51.949728Z",
     "start_time": "2017-11-10T03:15:45.988Z"
    },
    "collapsed": true
   },
   "outputs": [],
   "source": [
    "plot_story('Stand, The')"
   ]
  },
  {
   "cell_type": "code",
   "execution_count": null,
   "metadata": {
    "ExecuteTime": {
     "end_time": "2017-11-10T03:16:51.951103Z",
     "start_time": "2017-11-10T03:15:45.991Z"
    },
    "collapsed": true
   },
   "outputs": [],
   "source": [
    "plot_story('Wizard and Glass')"
   ]
  },
  {
   "cell_type": "code",
   "execution_count": null,
   "metadata": {
    "ExecuteTime": {
     "end_time": "2017-11-10T03:16:51.955966Z",
     "start_time": "2017-11-10T03:15:46.002Z"
    },
    "collapsed": true,
    "scrolled": true
   },
   "outputs": [],
   "source": [
    "plot_story('11_22_63')"
   ]
  },
  {
   "cell_type": "code",
   "execution_count": null,
   "metadata": {
    "ExecuteTime": {
     "end_time": "2017-11-10T03:16:51.957159Z",
     "start_time": "2017-11-10T03:15:46.005Z"
    },
    "collapsed": true
   },
   "outputs": [],
   "source": [
    "plot_story('Bag of Bones_ A Novel')"
   ]
  },
  {
   "cell_type": "code",
   "execution_count": null,
   "metadata": {
    "ExecuteTime": {
     "end_time": "2017-11-10T03:16:51.958453Z",
     "start_time": "2017-11-10T03:15:46.007Z"
    },
    "collapsed": true
   },
   "outputs": [],
   "source": [
    "plot_story('Shining, The')"
   ]
  },
  {
   "cell_type": "code",
   "execution_count": null,
   "metadata": {
    "collapsed": true
   },
   "outputs": [],
   "source": []
  },
  {
   "cell_type": "markdown",
   "metadata": {},
   "source": [
    "### Novel Sentiment Average"
   ]
  },
  {
   "cell_type": "code",
   "execution_count": 19,
   "metadata": {
    "ExecuteTime": {
     "end_time": "2017-11-10T04:33:54.521281Z",
     "start_time": "2017-11-10T04:33:54.346752Z"
    },
    "collapsed": true
   },
   "outputs": [],
   "source": [
    "sentGroup = sentDF.groupby(['title','year']).sentiment.mean().reset_index()\n",
    "sentGroup.sort_values('sentiment',ascending=False,inplace=True)"
   ]
  },
  {
   "cell_type": "code",
   "execution_count": 89,
   "metadata": {
    "ExecuteTime": {
     "end_time": "2017-11-10T04:14:58.624120Z",
     "start_time": "2017-11-10T04:14:58.620335Z"
    },
    "collapsed": true
   },
   "outputs": [],
   "source": [
    "year = sentDF.year"
   ]
  },
  {
   "cell_type": "code",
   "execution_count": 1,
   "metadata": {
    "ExecuteTime": {
     "end_time": "2017-11-10T04:31:28.713445Z",
     "start_time": "2017-11-10T04:31:28.706996Z"
    }
   },
   "outputs": [],
   "source": [
    "#sentGroup.merge(pd.DataFrame(data = [year.values] * len(year), columns = year.index),how=left, left_index=True, right_index=True)"
   ]
  },
  {
   "cell_type": "code",
   "execution_count": 20,
   "metadata": {
    "ExecuteTime": {
     "end_time": "2017-11-10T04:34:02.494815Z",
     "start_time": "2017-11-10T04:34:02.260335Z"
    }
   },
   "outputs": [
    {
     "data": {
      "text/html": [
       "<div>\n",
       "<style>\n",
       "    .dataframe thead tr:only-child th {\n",
       "        text-align: right;\n",
       "    }\n",
       "\n",
       "    .dataframe thead th {\n",
       "        text-align: left;\n",
       "    }\n",
       "\n",
       "    .dataframe tbody tr th {\n",
       "        vertical-align: top;\n",
       "    }\n",
       "</style>\n",
       "<table border=\"1\" class=\"dataframe\">\n",
       "  <thead>\n",
       "    <tr style=\"text-align: right;\">\n",
       "      <th></th>\n",
       "      <th>title</th>\n",
       "      <th>year</th>\n",
       "      <th>sentiment</th>\n",
       "    </tr>\n",
       "  </thead>\n",
       "  <tbody>\n",
       "    <tr>\n",
       "      <th>7</th>\n",
       "      <td>Colorado Kid, The</td>\n",
       "      <td>2005</td>\n",
       "      <td>0.057708</td>\n",
       "    </tr>\n",
       "    <tr>\n",
       "      <th>35</th>\n",
       "      <td>Joyland</td>\n",
       "      <td>2013</td>\n",
       "      <td>0.057485</td>\n",
       "    </tr>\n",
       "    <tr>\n",
       "      <th>14</th>\n",
       "      <td>Doctor Sleep_ A Novel</td>\n",
       "      <td>2013</td>\n",
       "      <td>0.048100</td>\n",
       "    </tr>\n",
       "    <tr>\n",
       "      <th>48</th>\n",
       "      <td>Revival</td>\n",
       "      <td>2014</td>\n",
       "      <td>0.046053</td>\n",
       "    </tr>\n",
       "    <tr>\n",
       "      <th>2</th>\n",
       "      <td>Big Driver</td>\n",
       "      <td>2010</td>\n",
       "      <td>0.042320</td>\n",
       "    </tr>\n",
       "  </tbody>\n",
       "</table>\n",
       "</div>"
      ],
      "text/plain": [
       "                    title  year  sentiment\n",
       "7       Colorado Kid, The  2005   0.057708\n",
       "35                Joyland  2013   0.057485\n",
       "14  Doctor Sleep_ A Novel  2013   0.048100\n",
       "48                Revival  2014   0.046053\n",
       "2              Big Driver  2010   0.042320"
      ]
     },
     "execution_count": 20,
     "metadata": {},
     "output_type": "execute_result"
    }
   ],
   "source": [
    "sentGroup.head()"
   ]
  },
  {
   "cell_type": "markdown",
   "metadata": {},
   "source": [
    "## Bins"
   ]
  },
  {
   "cell_type": "code",
   "execution_count": 25,
   "metadata": {
    "ExecuteTime": {
     "end_time": "2017-11-10T04:47:22.104444Z",
     "start_time": "2017-11-10T04:47:22.100774Z"
    }
   },
   "outputs": [],
   "source": [
    "bins = [1974, 1985, 1995, 2005, 2015]"
   ]
  },
  {
   "cell_type": "code",
   "execution_count": 28,
   "metadata": {
    "ExecuteTime": {
     "end_time": "2017-11-10T04:52:40.122406Z",
     "start_time": "2017-11-10T04:52:40.115622Z"
    },
    "collapsed": true
   },
   "outputs": [],
   "source": [
    "sentGroup['year'] = sentGroup.year.astype(int)"
   ]
  },
  {
   "cell_type": "code",
   "execution_count": 26,
   "metadata": {
    "ExecuteTime": {
     "end_time": "2017-11-10T04:48:38.390042Z",
     "start_time": "2017-11-10T04:48:38.385129Z"
    },
    "collapsed": true
   },
   "outputs": [],
   "source": [
    "group_names = ['1975-1985', '1986-1995', '1996-2005', '2006-2015']"
   ]
  },
  {
   "cell_type": "code",
   "execution_count": 43,
   "metadata": {
    "ExecuteTime": {
     "end_time": "2017-11-10T04:57:15.774309Z",
     "start_time": "2017-11-10T04:57:15.758702Z"
    }
   },
   "outputs": [
    {
     "data": {
      "text/plain": [
       "7     1996-2005\n",
       "35    2006-2015\n",
       "14    2006-2015\n",
       "48    2006-2015\n",
       "2     2006-2015\n",
       "0     2006-2015\n",
       "65    2006-2015\n",
       "67    1996-2005\n",
       "21    2006-2015\n",
       "51    1986-1995\n",
       "49    1996-2005\n",
       "42    2006-2015\n",
       "15    1986-1995\n",
       "25    2006-2015\n",
       "10    1996-2005\n",
       "28    2006-2015\n",
       "56    1996-2005\n",
       "37    2006-2015\n",
       "1     1996-2005\n",
       "62    2006-2015\n",
       "66    1996-2005\n",
       "50    1975-1985\n",
       "36    2006-2015\n",
       "43    1986-1995\n",
       "20    2006-2015\n",
       "11    1975-1985\n",
       "63    2006-2015\n",
       "13    1975-1985\n",
       "24    1996-2005\n",
       "31    1996-2005\n",
       "        ...    \n",
       "53    1975-1985\n",
       "57    1975-1985\n",
       "59    1975-1985\n",
       "4     2006-2015\n",
       "47    1996-2005\n",
       "23    1986-1995\n",
       "22    1975-1985\n",
       "9     1986-1995\n",
       "6     2006-2015\n",
       "55    1975-1985\n",
       "3     2006-2015\n",
       "39    2006-2015\n",
       "30    1975-1985\n",
       "34    1975-1985\n",
       "16    1996-2005\n",
       "44    1975-1985\n",
       "12    1996-2005\n",
       "46    1975-1985\n",
       "52    1975-1985\n",
       "40    1986-1995\n",
       "5           NaN\n",
       "32    2006-2015\n",
       "38    1975-1985\n",
       "8     1975-1985\n",
       "27    1996-2005\n",
       "54    1975-1985\n",
       "58    1975-1985\n",
       "41    1975-1985\n",
       "60    2006-2015\n",
       "29    1996-2005\n",
       "Name: year, Length: 68, dtype: category\n",
       "Categories (4, object): [1975-1985 < 1986-1995 < 1996-2005 < 2006-2015]"
      ]
     },
     "execution_count": 43,
     "metadata": {},
     "output_type": "execute_result"
    }
   ],
   "source": [
    "categories = pd.cut(sentGroup['year'], bins, labels=group_names)\n",
    "sentGroup['categories'] = pd.cut(sentGroup['year'], bins, labels=group_names)\n",
    "sentGroup['yearsBinned'] = pd.cut(sentGroup['year'], bins)\n",
    "categories"
   ]
  },
  {
   "cell_type": "code",
   "execution_count": 51,
   "metadata": {
    "ExecuteTime": {
     "end_time": "2017-11-10T05:00:36.165560Z",
     "start_time": "2017-11-10T05:00:36.158449Z"
    }
   },
   "outputs": [
    {
     "data": {
      "text/plain": [
       "1"
      ]
     },
     "execution_count": 51,
     "metadata": {},
     "output_type": "execute_result"
    }
   ],
   "source": [
    "sentGroup.categories.isnull().sum()"
   ]
  },
  {
   "cell_type": "code",
   "execution_count": 53,
   "metadata": {
    "ExecuteTime": {
     "end_time": "2017-11-10T05:02:04.670575Z",
     "start_time": "2017-11-10T05:02:04.665925Z"
    }
   },
   "outputs": [],
   "source": [
    "sentGroup.dropna(axis=0,inplace=True)"
   ]
  },
  {
   "cell_type": "code",
   "execution_count": 54,
   "metadata": {
    "ExecuteTime": {
     "end_time": "2017-11-10T05:02:05.826077Z",
     "start_time": "2017-11-10T05:02:05.819092Z"
    }
   },
   "outputs": [],
   "source": [
    "yearGroup = sentGroup.groupby('year').sentiment.mean().reset_index()\n"
   ]
  },
  {
   "cell_type": "code",
   "execution_count": 55,
   "metadata": {
    "ExecuteTime": {
     "end_time": "2017-11-10T05:02:07.075128Z",
     "start_time": "2017-11-10T05:02:06.775043Z"
    }
   },
   "outputs": [
    {
     "data": {
      "image/png": "[encoded data removed]",
      "text/plain": [
       "<matplotlib.figure.Figure at 0x1c20bb6b70>"
      ]
     },
     "metadata": {},
     "output_type": "display_data"
    }
   ],
   "source": [
    "plt.scatter(sentGroup.categories,sentGroup.sentiment)\n",
    "plt.title(\"Sentiment by Year Groups\")\n",
    "plt.ylabel('Sentiment')\n",
    "plt.savefig('images/sent_years.svg')"
   ]
  },
  {
   "cell_type": "markdown",
   "metadata": {},
   "source": [
    "## mpld3 Test"
   ]
  },
  {
   "cell_type": "code",
   "execution_count": null,
   "metadata": {
    "ExecuteTime": {
     "end_time": "2017-11-10T03:16:51.964384Z",
     "start_time": "2017-11-10T03:15:46.020Z"
    },
    "collapsed": true
   },
   "outputs": [],
   "source": [
    "mpld3.enable_notebook()"
   ]
  },
  {
   "cell_type": "code",
   "execution_count": null,
   "metadata": {
    "ExecuteTime": {
     "end_time": "2017-11-10T03:16:51.966770Z",
     "start_time": "2017-11-10T03:15:46.023Z"
    },
    "collapsed": true
   },
   "outputs": [],
   "source": [
    "def plot_d3(title,df=sentDF,f=.1,d=0.0):\n",
    "    bookDF = df.loc[df['title'] == title]\n",
    "    sentiment = list(bookDF.sentiment)\n",
    "    lowX = list(range(1,len(sentiment)+1))\n",
    "    #print(len(sent),len(lowX))\n",
    "    low_plot = lowess(sentiment,lowX,frac=.1,return_sorted=False,delta=d)\n",
    "    fig = plt.figure()\n",
    "    plt.plot(low_plot,label=title)\n",
    "    plt.ylabel(\"Sentiment Score\")\n",
    "    plt.xlabel(\"Sentence #\")    \n",
    "    plt.legend()\n",
    "#     plt.savefig('images/'+title+'.svg')\n",
    "    mpld3.show()\n",
    "    p = mpld3.fig_to_d3(fig)\n",
    "    return p"
   ]
  },
  {
   "cell_type": "markdown",
   "metadata": {},
   "source": [
    "## Model Fits"
   ]
  },
  {
   "cell_type": "markdown",
   "metadata": {},
   "source": [
    "### TFIDF Vectorizer"
   ]
  },
  {
   "cell_type": "code",
   "execution_count": 68,
   "metadata": {
    "ExecuteTime": {
     "end_time": "2017-11-10T03:18:25.475224Z",
     "start_time": "2017-11-10T03:18:18.019741Z"
    },
    "collapsed": true
   },
   "outputs": [],
   "source": [
    "# tf = TfidfVectorizer(stop_words=stoplist,use_idf=True,max_df=.0018,token_pattern=\"\\\\b[a-z][a-z]+\\\\b\")\n",
    "# x2 = tf.fit_transform(books)\n",
    "# tf_feature_names = tf.get_feature_names()"
   ]
  },
  {
   "cell_type": "code",
   "execution_count": 69,
   "metadata": {
    "ExecuteTime": {
     "end_time": "2017-11-10T03:18:25.484473Z",
     "start_time": "2017-11-10T03:18:25.477772Z"
    }
   },
   "outputs": [
    {
     "data": {
      "text/plain": [
       "(748650, 72700)"
      ]
     },
     "execution_count": 69,
     "metadata": {},
     "output_type": "execute_result"
    }
   ],
   "source": [
    "# x2.shape"
   ]
  },
  {
   "cell_type": "markdown",
   "metadata": {},
   "source": [
    "### Cosine Similarity"
   ]
  },
  {
   "cell_type": "code",
   "execution_count": null,
   "metadata": {
    "ExecuteTime": {
     "end_time": "2017-11-10T03:16:51.972509Z",
     "start_time": "2017-11-10T03:15:46.033Z"
    },
    "collapsed": true
   },
   "outputs": [],
   "source": [
    "# dist = 1 - cosine_similarity(x2)"
   ]
  },
  {
   "cell_type": "markdown",
   "metadata": {},
   "source": [
    "### NMF"
   ]
  },
  {
   "cell_type": "markdown",
   "metadata": {},
   "source": [
    "#### With TFIDF"
   ]
  },
  {
   "cell_type": "code",
   "execution_count": 70,
   "metadata": {
    "ExecuteTime": {
     "end_time": "2017-11-10T03:21:13.477751Z",
     "start_time": "2017-11-10T03:18:28.910025Z"
    },
    "collapsed": true
   },
   "outputs": [],
   "source": [
    "# nmf2 = NMF(n_components=20, init='random')\n",
    "# nmf_fit = nmf2.fit_transform(x2)"
   ]
  },
  {
   "cell_type": "code",
   "execution_count": 71,
   "metadata": {
    "ExecuteTime": {
     "end_time": "2017-11-10T03:21:13.483061Z",
     "start_time": "2017-11-10T03:21:13.480064Z"
    },
    "collapsed": true
   },
   "outputs": [],
   "source": [
    "# no_top_words = 5\n",
    "# no_top_documents = 2"
   ]
  },
  {
   "cell_type": "code",
   "execution_count": 72,
   "metadata": {
    "ExecuteTime": {
     "end_time": "2017-11-10T03:21:13.581808Z",
     "start_time": "2017-11-10T03:21:13.486002Z"
    }
   },
   "outputs": [
    {
     "name": "stdout",
     "output_type": "stream",
     "text": [
      "Topic 0:\n",
      "shouted beverly steve ear grabbed surprise todd rusty al sadie\n",
      "Topic 1:\n",
      "thad stark liz beaumont rawlie write pangborn wendy grinned muttered\n",
      "Topic 2:\n",
      "christ sake holy almighty steve muttered wish hurry sweet garraty\n",
      "Topic 3:\n",
      "important garraty letter speak write meeting knowing carefully forgotten surely\n",
      "Topic 4:\n",
      "callahan shrugged pere church cross sighed oy agreed calla grinned\n",
      "Topic 5:\n",
      "blaze huh uh shrugged sir grinned forgot stared luck bathroom\n",
      "Topic 6:\n",
      "sick stomach makes dying garraty gets doctor weak pale person\n",
      "Topic 7:\n",
      "crying harder beautiful rachel makes helen leaned duddits nearly gulls\n",
      "Topic 8:\n",
      "brian sir gaunt rusk glanced albert agreed lippy sean card\n",
      "Topic 9:\n",
      "problem drinking steve solve serious simple solved replied solving seconds\n",
      "Topic 10:\n",
      "glad safe sir damned rid bastard mort sight questions garraty\n",
      "Topic 11:\n",
      "thanks sir welcome sam lloyd harold rosie calling ride pass\n",
      "Topic 12:\n",
      "larry harold shrugged underwood nadine lucy glen met fran softly\n",
      "Topic 13:\n",
      "dear sweet ye letter muttered ah murmured write poor tess\n",
      "Topic 14:\n",
      "easy anymore worry lie minute bobbi ted safe wonder bitch\n",
      "Topic 15:\n",
      "tomorrow meet barbie pick meeting evening certainly jud noon promise\n",
      "Topic 16:\n",
      "changed color unless clothes shape situation tire weather expression certainly\n",
      "Topic 17:\n",
      "silence awhile seconds shocked loud utter blaine quiet listened drove\n",
      "Topic 18:\n",
      "wondered garraty mcvries briefly wonder richards stebbins mad olson baker\n",
      "Topic 19:\n",
      "possible believed understood likely certainly happening surely completely perfectly quickly\n"
     ]
    }
   ],
   "source": [
    "# display_topics(nmf2,tf_feature_names,10)"
   ]
  },
  {
   "cell_type": "code",
   "execution_count": 73,
   "metadata": {
    "ExecuteTime": {
     "end_time": "2017-11-10T03:21:13.673408Z",
     "start_time": "2017-11-10T03:21:13.583774Z"
    }
   },
   "outputs": [
    {
     "name": "stdout",
     "output_type": "stream",
     "text": [
      "Topic 0:\n",
      "shouted beverly steve ear grabbed surprise todd rusty al sadie\n",
      "Topic 1:\n",
      "thad stark liz beaumont rawlie write pangborn wendy grinned muttered\n",
      "Topic 2:\n",
      "christ sake holy almighty steve muttered wish hurry sweet garraty\n",
      "Topic 3:\n",
      "important garraty letter speak write meeting knowing carefully forgotten surely\n",
      "Topic 4:\n",
      "callahan shrugged pere church cross sighed oy agreed calla grinned\n",
      "Topic 5:\n",
      "blaze huh uh shrugged sir grinned forgot stared luck bathroom\n",
      "Topic 6:\n",
      "sick stomach makes dying garraty gets doctor weak pale person\n",
      "Topic 7:\n",
      "crying harder beautiful rachel makes helen leaned duddits nearly gulls\n",
      "Topic 8:\n",
      "brian sir gaunt rusk glanced albert agreed lippy sean card\n",
      "Topic 9:\n",
      "problem drinking steve solve serious simple solved replied solving seconds\n",
      "Topic 10:\n",
      "glad safe sir damned rid bastard mort sight questions garraty\n",
      "Topic 11:\n",
      "thanks sir welcome sam lloyd harold rosie calling ride pass\n",
      "Topic 12:\n",
      "larry harold shrugged underwood nadine lucy glen met fran softly\n",
      "Topic 13:\n",
      "dear sweet ye letter muttered ah murmured write poor tess\n",
      "Topic 14:\n",
      "easy anymore worry lie minute bobbi ted safe wonder bitch\n",
      "Topic 15:\n",
      "tomorrow meet barbie pick meeting evening certainly jud noon promise\n",
      "Topic 16:\n",
      "changed color unless clothes shape situation tire weather expression certainly\n",
      "Topic 17:\n",
      "silence awhile seconds shocked loud utter blaine quiet listened drove\n",
      "Topic 18:\n",
      "wondered garraty mcvries briefly wonder richards stebbins mad olson baker\n",
      "Topic 19:\n",
      "possible believed understood likely certainly happening surely completely perfectly quickly\n"
     ]
    }
   ],
   "source": [
    "# topics = return_topics(nmf2,tf_feature_names,10)"
   ]
  },
  {
   "cell_type": "code",
   "execution_count": 74,
   "metadata": {
    "ExecuteTime": {
     "end_time": "2017-11-10T03:21:13.687160Z",
     "start_time": "2017-11-10T03:21:13.675435Z"
    },
    "collapsed": true
   },
   "outputs": [],
   "source": [
    "# topicsDF = pd.DataFrame(topics)"
   ]
  },
  {
   "cell_type": "code",
   "execution_count": 75,
   "metadata": {
    "ExecuteTime": {
     "end_time": "2017-11-10T03:21:13.697536Z",
     "start_time": "2017-11-10T03:21:13.689185Z"
    }
   },
   "outputs": [
    {
     "data": {
      "text/html": [
       "<div>\n",
       "<style>\n",
       "    .dataframe thead tr:only-child th {\n",
       "        text-align: right;\n",
       "    }\n",
       "\n",
       "    .dataframe thead th {\n",
       "        text-align: left;\n",
       "    }\n",
       "\n",
       "    .dataframe tbody tr th {\n",
       "        vertical-align: top;\n",
       "    }\n",
       "</style>\n",
       "<table border=\"1\" class=\"dataframe\">\n",
       "  <thead>\n",
       "    <tr style=\"text-align: right;\">\n",
       "      <th></th>\n",
       "      <th>topic_idx</th>\n",
       "      <th>words</th>\n",
       "    </tr>\n",
       "  </thead>\n",
       "  <tbody>\n",
       "    <tr>\n",
       "      <th>0</th>\n",
       "      <td>0</td>\n",
       "      <td>shouted beverly steve ear grabbed surprise tod...</td>\n",
       "    </tr>\n",
       "    <tr>\n",
       "      <th>1</th>\n",
       "      <td>1</td>\n",
       "      <td>thad stark liz beaumont rawlie write pangborn ...</td>\n",
       "    </tr>\n",
       "    <tr>\n",
       "      <th>2</th>\n",
       "      <td>2</td>\n",
       "      <td>christ sake holy almighty steve muttered wish ...</td>\n",
       "    </tr>\n",
       "    <tr>\n",
       "      <th>3</th>\n",
       "      <td>3</td>\n",
       "      <td>important garraty letter speak write meeting k...</td>\n",
       "    </tr>\n",
       "    <tr>\n",
       "      <th>4</th>\n",
       "      <td>4</td>\n",
       "      <td>callahan shrugged pere church cross sighed oy ...</td>\n",
       "    </tr>\n",
       "  </tbody>\n",
       "</table>\n",
       "</div>"
      ],
      "text/plain": [
       "   topic_idx                                              words\n",
       "0          0  shouted beverly steve ear grabbed surprise tod...\n",
       "1          1  thad stark liz beaumont rawlie write pangborn ...\n",
       "2          2  christ sake holy almighty steve muttered wish ...\n",
       "3          3  important garraty letter speak write meeting k...\n",
       "4          4  callahan shrugged pere church cross sighed oy ..."
      ]
     },
     "execution_count": 75,
     "metadata": {},
     "output_type": "execute_result"
    }
   ],
   "source": [
    "# topicsDF.head()"
   ]
  },
  {
   "cell_type": "markdown",
   "metadata": {},
   "source": [
    "## Rejoin to Original DF"
   ]
  },
  {
   "cell_type": "code",
   "execution_count": 76,
   "metadata": {
    "ExecuteTime": {
     "end_time": "2017-11-10T03:25:08.500516Z",
     "start_time": "2017-11-10T03:25:08.495489Z"
    }
   },
   "outputs": [
    {
     "data": {
      "text/plain": [
       "Index(['isbn', 'title', 'year', 'content'], dtype='object')"
      ]
     },
     "execution_count": 76,
     "metadata": {},
     "output_type": "execute_result"
    }
   ],
   "source": [
    "# sentDF.columns"
   ]
  },
  {
   "cell_type": "code",
   "execution_count": 77,
   "metadata": {
    "ExecuteTime": {
     "end_time": "2017-11-10T03:25:08.837930Z",
     "start_time": "2017-11-10T03:25:08.773164Z"
    }
   },
   "outputs": [
    {
     "data": {
      "text/plain": [
       "array([ 0.00033177,  0.00019443,  0.00078174,  0.00049147,  0.00016345,\n",
       "        0.00023781,  0.00075588,  0.00035424,  0.00015663,  0.0005245 ,\n",
       "        0.00026624,  0.00023299,  0.00011855,  0.00029583,  0.00329023,\n",
       "        0.00032916,  0.0003343 ,  0.00032695,  0.00045089,  0.00076047])"
      ]
     },
     "execution_count": 77,
     "metadata": {},
     "output_type": "execute_result"
    }
   ],
   "source": [
    "# np.mean(nmf_fit[sentDF['title'] == 'Cujo'], axis=0)"
   ]
  },
  {
   "cell_type": "code",
   "execution_count": 78,
   "metadata": {
    "ExecuteTime": {
     "end_time": "2017-11-10T03:25:09.023244Z",
     "start_time": "2017-11-10T03:25:09.000731Z"
    },
    "collapsed": true
   },
   "outputs": [],
   "source": [
    "# unique_titles = list(set(titles))"
   ]
  },
  {
   "cell_type": "code",
   "execution_count": 79,
   "metadata": {
    "ExecuteTime": {
     "end_time": "2017-11-10T03:25:12.060862Z",
     "start_time": "2017-11-10T03:25:09.244333Z"
    },
    "collapsed": true
   },
   "outputs": [],
   "source": [
    "# topic_list = []\n",
    "# for title in unique_titles:\n",
    "#     topic_mean = np.mean(nmf_fit[sentDF['title'] == title], axis=0)\n",
    "#     #print(max(topic_mean))\n",
    "#     itemindex = np.where(topic_mean==max(topic_mean))\n",
    "#     #itemindex = topic_mean.argsort()[-3:][::-1]\n",
    "#     #print (int(itemindex[0]))\n",
    "#     topic_title = {\"title\":title,\"topic_category\":int(itemindex[0])}\n",
    "#     topic_list.append(topic_title)\n",
    "    "
   ]
  },
  {
   "cell_type": "code",
   "execution_count": 80,
   "metadata": {
    "ExecuteTime": {
     "end_time": "2017-11-10T03:25:12.067096Z",
     "start_time": "2017-11-10T03:25:12.063073Z"
    },
    "collapsed": true
   },
   "outputs": [],
   "source": [
    "# topics_df = pd.DataFrame(topic_list)"
   ]
  },
  {
   "cell_type": "code",
   "execution_count": null,
   "metadata": {
    "ExecuteTime": {
     "start_time": "2017-11-10T03:29:52.353Z"
    },
    "collapsed": true
   },
   "outputs": [],
   "source": [
    "# topics_df.head(30)"
   ]
  },
  {
   "cell_type": "code",
   "execution_count": 82,
   "metadata": {
    "ExecuteTime": {
     "end_time": "2017-11-10T03:25:12.089507Z",
     "start_time": "2017-11-10T03:25:12.080423Z"
    },
    "collapsed": true
   },
   "outputs": [],
   "source": [
    "topicGroup = topics_df.groupby('topic_category').title.count().reset_index()\n",
    "topicGroup.sort_values('title',ascending=False, inplace=True)"
   ]
  },
  {
   "cell_type": "code",
   "execution_count": 83,
   "metadata": {
    "ExecuteTime": {
     "end_time": "2017-11-10T03:25:12.098472Z",
     "start_time": "2017-11-10T03:25:12.091332Z"
    }
   },
   "outputs": [
    {
     "data": {
      "text/html": [
       "<div>\n",
       "<style>\n",
       "    .dataframe thead tr:only-child th {\n",
       "        text-align: right;\n",
       "    }\n",
       "\n",
       "    .dataframe thead th {\n",
       "        text-align: left;\n",
       "    }\n",
       "\n",
       "    .dataframe tbody tr th {\n",
       "        vertical-align: top;\n",
       "    }\n",
       "</style>\n",
       "<table border=\"1\" class=\"dataframe\">\n",
       "  <thead>\n",
       "    <tr style=\"text-align: right;\">\n",
       "      <th></th>\n",
       "      <th>topic_category</th>\n",
       "      <th>title</th>\n",
       "    </tr>\n",
       "  </thead>\n",
       "  <tbody>\n",
       "    <tr>\n",
       "      <th>6</th>\n",
       "      <td>14</td>\n",
       "      <td>59</td>\n",
       "    </tr>\n",
       "    <tr>\n",
       "      <th>2</th>\n",
       "      <td>4</td>\n",
       "      <td>2</td>\n",
       "    </tr>\n",
       "    <tr>\n",
       "      <th>4</th>\n",
       "      <td>8</td>\n",
       "      <td>2</td>\n",
       "    </tr>\n",
       "    <tr>\n",
       "      <th>0</th>\n",
       "      <td>0</td>\n",
       "      <td>1</td>\n",
       "    </tr>\n",
       "    <tr>\n",
       "      <th>1</th>\n",
       "      <td>1</td>\n",
       "      <td>1</td>\n",
       "    </tr>\n",
       "    <tr>\n",
       "      <th>3</th>\n",
       "      <td>5</td>\n",
       "      <td>1</td>\n",
       "    </tr>\n",
       "    <tr>\n",
       "      <th>5</th>\n",
       "      <td>12</td>\n",
       "      <td>1</td>\n",
       "    </tr>\n",
       "    <tr>\n",
       "      <th>7</th>\n",
       "      <td>18</td>\n",
       "      <td>1</td>\n",
       "    </tr>\n",
       "  </tbody>\n",
       "</table>\n",
       "</div>"
      ],
      "text/plain": [
       "   topic_category  title\n",
       "6              14     59\n",
       "2               4      2\n",
       "4               8      2\n",
       "0               0      1\n",
       "1               1      1\n",
       "3               5      1\n",
       "5              12      1\n",
       "7              18      1"
      ]
     },
     "execution_count": 83,
     "metadata": {},
     "output_type": "execute_result"
    }
   ],
   "source": [
    "topicGroup"
   ]
  },
  {
   "cell_type": "code",
   "execution_count": null,
   "metadata": {
    "collapsed": true
   },
   "outputs": [],
   "source": []
  },
  {
   "cell_type": "code",
   "execution_count": 84,
   "metadata": {
    "ExecuteTime": {
     "end_time": "2017-11-10T03:25:12.103648Z",
     "start_time": "2017-11-10T03:25:12.100520Z"
    },
    "collapsed": true
   },
   "outputs": [],
   "source": [
    "#joblib.dump(nmf2, 'nmf_tdidf.pkl')"
   ]
  },
  {
   "cell_type": "code",
   "execution_count": 85,
   "metadata": {
    "ExecuteTime": {
     "end_time": "2017-11-10T03:25:12.108479Z",
     "start_time": "2017-11-10T03:25:12.105564Z"
    },
    "collapsed": true
   },
   "outputs": [],
   "source": [
    "#nmf_pickle = joblib.load('nmf_tdidf.pkl')"
   ]
  },
  {
   "cell_type": "code",
   "execution_count": null,
   "metadata": {
    "ExecuteTime": {
     "start_time": "2017-11-10T03:25:18.049Z"
    },
    "collapsed": true
   },
   "outputs": [],
   "source": [
    "from sklearn.manifold import TSNE\n",
    "\n",
    "tsne_model = TSNE(n_components=2, random_state=0)\n",
    "results = tsne_model.fit_transform(nmf_fit) \n",
    "\n",
    "def get_coords(matrix2D):\n",
    "    x = []\n",
    "    y = []\n",
    "    for r in matrix2D:\n",
    "        x.append(r[0])\n",
    "        y.append(r[1])\n",
    "    return x, y\n",
    "\n",
    "x, y = get_coords(results)\n",
    "\n",
    "from sklearn.cluster import KMeans\n",
    "kmeans = KMeans(n_clusters=15, random_state=0).fit(nmf_fit)\n",
    "\n",
    "# Scatter plot with colouring by kmeans labels:\n",
    "plt.scatter(x, y, c=kmeans.labels_, marker='o', s=30);"
   ]
  },
  {
   "cell_type": "code",
   "execution_count": null,
   "metadata": {
    "ExecuteTime": {
     "start_time": "2017-11-10T03:25:19.080Z"
    },
    "collapsed": true
   },
   "outputs": [],
   "source": [
    "clusters = kmeans.clusters.tolist()"
   ]
  },
  {
   "cell_type": "code",
   "execution_count": null,
   "metadata": {
    "collapsed": true
   },
   "outputs": [],
   "source": []
  },
  {
   "cell_type": "markdown",
   "metadata": {},
   "source": [
    "## Clustering"
   ]
  },
  {
   "cell_type": "code",
   "execution_count": null,
   "metadata": {
    "ExecuteTime": {
     "end_time": "2017-11-07T15:33:55.890167Z",
     "start_time": "2017-11-07T15:16:45.372Z"
    },
    "collapsed": true
   },
   "outputs": [],
   "source": [
    "# lda2.print_topics()"
   ]
  },
  {
   "cell_type": "code",
   "execution_count": null,
   "metadata": {
    "ExecuteTime": {
     "end_time": "2017-11-07T15:33:55.891601Z",
     "start_time": "2017-11-07T15:16:45.892Z"
    },
    "collapsed": true
   },
   "outputs": [],
   "source": [
    "# print(stoplist)"
   ]
  },
  {
   "cell_type": "markdown",
   "metadata": {},
   "source": [
    "### K-Means"
   ]
  },
  {
   "cell_type": "code",
   "execution_count": 181,
   "metadata": {
    "ExecuteTime": {
     "end_time": "2017-11-08T04:09:08.632612Z",
     "start_time": "2017-11-08T04:06:30.171069Z"
    },
    "collapsed": true
   },
   "outputs": [],
   "source": [
    "km2 = KMeans(n_clusters=8,init='k-means++')\n",
    "\n",
    "km2.fit(x2)\n",
    "\n",
    "clusters = km2.labels_.tolist()"
   ]
  },
  {
   "cell_type": "code",
   "execution_count": 182,
   "metadata": {
    "ExecuteTime": {
     "end_time": "2017-11-08T04:09:08.644730Z",
     "start_time": "2017-11-08T04:09:08.634816Z"
    },
    "collapsed": true
   },
   "outputs": [],
   "source": [
    "clusters = km2.labels_.tolist()"
   ]
  },
  {
   "cell_type": "code",
   "execution_count": 183,
   "metadata": {
    "ExecuteTime": {
     "end_time": "2017-11-08T04:09:08.817027Z",
     "start_time": "2017-11-08T04:09:08.647056Z"
    }
   },
   "outputs": [
    {
     "ename": "ValueError",
     "evalue": "Shape of passed values is (2, 68), indices imply (2, 748650)",
     "output_type": "error",
     "traceback": [
      "\u001b[0;31m---------------------------------------------------------------------------\u001b[0m",
      "\u001b[0;31mValueError\u001b[0m                                Traceback (most recent call last)",
      "\u001b[0;32m~/anaconda/lib/python3.6/site-packages/pandas/core/internals.py\u001b[0m in \u001b[0;36mcreate_block_manager_from_arrays\u001b[0;34m(arrays, names, axes)\u001b[0m\n\u001b[1;32m   4309\u001b[0m         \u001b[0mblocks\u001b[0m \u001b[0;34m=\u001b[0m \u001b[0mform_blocks\u001b[0m\u001b[0;34m(\u001b[0m\u001b[0marrays\u001b[0m\u001b[0;34m,\u001b[0m \u001b[0mnames\u001b[0m\u001b[0;34m,\u001b[0m \u001b[0maxes\u001b[0m\u001b[0;34m)\u001b[0m\u001b[0;34m\u001b[0m\u001b[0m\n\u001b[0;32m-> 4310\u001b[0;31m         \u001b[0mmgr\u001b[0m \u001b[0;34m=\u001b[0m \u001b[0mBlockManager\u001b[0m\u001b[0;34m(\u001b[0m\u001b[0mblocks\u001b[0m\u001b[0;34m,\u001b[0m \u001b[0maxes\u001b[0m\u001b[0;34m)\u001b[0m\u001b[0;34m\u001b[0m\u001b[0m\n\u001b[0m\u001b[1;32m   4311\u001b[0m         \u001b[0mmgr\u001b[0m\u001b[0;34m.\u001b[0m\u001b[0m_consolidate_inplace\u001b[0m\u001b[0;34m(\u001b[0m\u001b[0;34m)\u001b[0m\u001b[0;34m\u001b[0m\u001b[0m\n",
      "\u001b[0;32m~/anaconda/lib/python3.6/site-packages/pandas/core/internals.py\u001b[0m in \u001b[0;36m__init__\u001b[0;34m(self, blocks, axes, do_integrity_check, fastpath)\u001b[0m\n\u001b[1;32m   2794\u001b[0m         \u001b[0;32mif\u001b[0m \u001b[0mdo_integrity_check\u001b[0m\u001b[0;34m:\u001b[0m\u001b[0;34m\u001b[0m\u001b[0m\n\u001b[0;32m-> 2795\u001b[0;31m             \u001b[0mself\u001b[0m\u001b[0;34m.\u001b[0m\u001b[0m_verify_integrity\u001b[0m\u001b[0;34m(\u001b[0m\u001b[0;34m)\u001b[0m\u001b[0;34m\u001b[0m\u001b[0m\n\u001b[0m\u001b[1;32m   2796\u001b[0m \u001b[0;34m\u001b[0m\u001b[0m\n",
      "\u001b[0;32m~/anaconda/lib/python3.6/site-packages/pandas/core/internals.py\u001b[0m in \u001b[0;36m_verify_integrity\u001b[0;34m(self)\u001b[0m\n\u001b[1;32m   3005\u001b[0m             \u001b[0;32mif\u001b[0m \u001b[0mblock\u001b[0m\u001b[0;34m.\u001b[0m\u001b[0m_verify_integrity\u001b[0m \u001b[0;32mand\u001b[0m \u001b[0mblock\u001b[0m\u001b[0;34m.\u001b[0m\u001b[0mshape\u001b[0m\u001b[0;34m[\u001b[0m\u001b[0;36m1\u001b[0m\u001b[0;34m:\u001b[0m\u001b[0;34m]\u001b[0m \u001b[0;34m!=\u001b[0m \u001b[0mmgr_shape\u001b[0m\u001b[0;34m[\u001b[0m\u001b[0;36m1\u001b[0m\u001b[0;34m:\u001b[0m\u001b[0;34m]\u001b[0m\u001b[0;34m:\u001b[0m\u001b[0;34m\u001b[0m\u001b[0m\n\u001b[0;32m-> 3006\u001b[0;31m                 \u001b[0mconstruction_error\u001b[0m\u001b[0;34m(\u001b[0m\u001b[0mtot_items\u001b[0m\u001b[0;34m,\u001b[0m \u001b[0mblock\u001b[0m\u001b[0;34m.\u001b[0m\u001b[0mshape\u001b[0m\u001b[0;34m[\u001b[0m\u001b[0;36m1\u001b[0m\u001b[0;34m:\u001b[0m\u001b[0;34m]\u001b[0m\u001b[0;34m,\u001b[0m \u001b[0mself\u001b[0m\u001b[0;34m.\u001b[0m\u001b[0maxes\u001b[0m\u001b[0;34m)\u001b[0m\u001b[0;34m\u001b[0m\u001b[0m\n\u001b[0m\u001b[1;32m   3007\u001b[0m         \u001b[0;32mif\u001b[0m \u001b[0mlen\u001b[0m\u001b[0;34m(\u001b[0m\u001b[0mself\u001b[0m\u001b[0;34m.\u001b[0m\u001b[0mitems\u001b[0m\u001b[0;34m)\u001b[0m \u001b[0;34m!=\u001b[0m \u001b[0mtot_items\u001b[0m\u001b[0;34m:\u001b[0m\u001b[0;34m\u001b[0m\u001b[0m\n",
      "\u001b[0;32m~/anaconda/lib/python3.6/site-packages/pandas/core/internals.py\u001b[0m in \u001b[0;36mconstruction_error\u001b[0;34m(tot_items, block_shape, axes, e)\u001b[0m\n\u001b[1;32m   4279\u001b[0m     raise ValueError(\"Shape of passed values is {0}, indices imply {1}\".format(\n\u001b[0;32m-> 4280\u001b[0;31m         passed, implied))\n\u001b[0m\u001b[1;32m   4281\u001b[0m \u001b[0;34m\u001b[0m\u001b[0m\n",
      "\u001b[0;31mValueError\u001b[0m: Shape of passed values is (2, 68), indices imply (2, 748650)",
      "\nDuring handling of the above exception, another exception occurred:\n",
      "\u001b[0;31mValueError\u001b[0m                                Traceback (most recent call last)",
      "\u001b[0;32m<ipython-input-183-9feaf924de42>\u001b[0m in \u001b[0;36m<module>\u001b[0;34m()\u001b[0m\n\u001b[1;32m      1\u001b[0m \u001b[0mtest_dict\u001b[0m \u001b[0;34m=\u001b[0m \u001b[0;34m{\u001b[0m \u001b[0;34m'title'\u001b[0m\u001b[0;34m:\u001b[0m \u001b[0mtitle_list\u001b[0m\u001b[0;34m,\u001b[0m \u001b[0;34m'content'\u001b[0m\u001b[0;34m:\u001b[0m \u001b[0mbook_list\u001b[0m\u001b[0;34m,\u001b[0m \u001b[0;34m'cluster'\u001b[0m\u001b[0;34m:\u001b[0m \u001b[0mclusters\u001b[0m\u001b[0;34m}\u001b[0m\u001b[0;34m\u001b[0m\u001b[0m\n\u001b[1;32m      2\u001b[0m \u001b[0;34m\u001b[0m\u001b[0m\n\u001b[0;32m----> 3\u001b[0;31m \u001b[0mframe\u001b[0m \u001b[0;34m=\u001b[0m \u001b[0mpd\u001b[0m\u001b[0;34m.\u001b[0m\u001b[0mDataFrame\u001b[0m\u001b[0;34m(\u001b[0m\u001b[0mtest_dict\u001b[0m\u001b[0;34m,\u001b[0m \u001b[0mindex\u001b[0m \u001b[0;34m=\u001b[0m \u001b[0;34m[\u001b[0m\u001b[0mclusters\u001b[0m\u001b[0;34m]\u001b[0m \u001b[0;34m,\u001b[0m \u001b[0mcolumns\u001b[0m \u001b[0;34m=\u001b[0m \u001b[0;34m[\u001b[0m\u001b[0;34m'title'\u001b[0m\u001b[0;34m,\u001b[0m \u001b[0;34m'cluster'\u001b[0m\u001b[0;34m]\u001b[0m\u001b[0;34m)\u001b[0m\u001b[0;34m\u001b[0m\u001b[0m\n\u001b[0m",
      "\u001b[0;32m~/anaconda/lib/python3.6/site-packages/pandas/core/frame.py\u001b[0m in \u001b[0;36m__init__\u001b[0;34m(self, data, index, columns, dtype, copy)\u001b[0m\n\u001b[1;32m    273\u001b[0m                                  dtype=dtype, copy=copy)\n\u001b[1;32m    274\u001b[0m         \u001b[0;32melif\u001b[0m \u001b[0misinstance\u001b[0m\u001b[0;34m(\u001b[0m\u001b[0mdata\u001b[0m\u001b[0;34m,\u001b[0m \u001b[0mdict\u001b[0m\u001b[0;34m)\u001b[0m\u001b[0;34m:\u001b[0m\u001b[0;34m\u001b[0m\u001b[0m\n\u001b[0;32m--> 275\u001b[0;31m             \u001b[0mmgr\u001b[0m \u001b[0;34m=\u001b[0m \u001b[0mself\u001b[0m\u001b[0;34m.\u001b[0m\u001b[0m_init_dict\u001b[0m\u001b[0;34m(\u001b[0m\u001b[0mdata\u001b[0m\u001b[0;34m,\u001b[0m \u001b[0mindex\u001b[0m\u001b[0;34m,\u001b[0m \u001b[0mcolumns\u001b[0m\u001b[0;34m,\u001b[0m \u001b[0mdtype\u001b[0m\u001b[0;34m=\u001b[0m\u001b[0mdtype\u001b[0m\u001b[0;34m)\u001b[0m\u001b[0;34m\u001b[0m\u001b[0m\n\u001b[0m\u001b[1;32m    276\u001b[0m         \u001b[0;32melif\u001b[0m \u001b[0misinstance\u001b[0m\u001b[0;34m(\u001b[0m\u001b[0mdata\u001b[0m\u001b[0;34m,\u001b[0m \u001b[0mma\u001b[0m\u001b[0;34m.\u001b[0m\u001b[0mMaskedArray\u001b[0m\u001b[0;34m)\u001b[0m\u001b[0;34m:\u001b[0m\u001b[0;34m\u001b[0m\u001b[0m\n\u001b[1;32m    277\u001b[0m             \u001b[0;32mimport\u001b[0m \u001b[0mnumpy\u001b[0m\u001b[0;34m.\u001b[0m\u001b[0mma\u001b[0m\u001b[0;34m.\u001b[0m\u001b[0mmrecords\u001b[0m \u001b[0;32mas\u001b[0m \u001b[0mmrecords\u001b[0m\u001b[0;34m\u001b[0m\u001b[0m\n",
      "\u001b[0;32m~/anaconda/lib/python3.6/site-packages/pandas/core/frame.py\u001b[0m in \u001b[0;36m_init_dict\u001b[0;34m(self, data, index, columns, dtype)\u001b[0m\n\u001b[1;32m    409\u001b[0m             \u001b[0marrays\u001b[0m \u001b[0;34m=\u001b[0m \u001b[0;34m[\u001b[0m\u001b[0mdata\u001b[0m\u001b[0;34m[\u001b[0m\u001b[0mk\u001b[0m\u001b[0;34m]\u001b[0m \u001b[0;32mfor\u001b[0m \u001b[0mk\u001b[0m \u001b[0;32min\u001b[0m \u001b[0mkeys\u001b[0m\u001b[0;34m]\u001b[0m\u001b[0;34m\u001b[0m\u001b[0m\n\u001b[1;32m    410\u001b[0m \u001b[0;34m\u001b[0m\u001b[0m\n\u001b[0;32m--> 411\u001b[0;31m         \u001b[0;32mreturn\u001b[0m \u001b[0m_arrays_to_mgr\u001b[0m\u001b[0;34m(\u001b[0m\u001b[0marrays\u001b[0m\u001b[0;34m,\u001b[0m \u001b[0mdata_names\u001b[0m\u001b[0;34m,\u001b[0m \u001b[0mindex\u001b[0m\u001b[0;34m,\u001b[0m \u001b[0mcolumns\u001b[0m\u001b[0;34m,\u001b[0m \u001b[0mdtype\u001b[0m\u001b[0;34m=\u001b[0m\u001b[0mdtype\u001b[0m\u001b[0;34m)\u001b[0m\u001b[0;34m\u001b[0m\u001b[0m\n\u001b[0m\u001b[1;32m    412\u001b[0m \u001b[0;34m\u001b[0m\u001b[0m\n\u001b[1;32m    413\u001b[0m     \u001b[0;32mdef\u001b[0m \u001b[0m_init_ndarray\u001b[0m\u001b[0;34m(\u001b[0m\u001b[0mself\u001b[0m\u001b[0;34m,\u001b[0m \u001b[0mvalues\u001b[0m\u001b[0;34m,\u001b[0m \u001b[0mindex\u001b[0m\u001b[0;34m,\u001b[0m \u001b[0mcolumns\u001b[0m\u001b[0;34m,\u001b[0m \u001b[0mdtype\u001b[0m\u001b[0;34m=\u001b[0m\u001b[0;32mNone\u001b[0m\u001b[0;34m,\u001b[0m \u001b[0mcopy\u001b[0m\u001b[0;34m=\u001b[0m\u001b[0;32mFalse\u001b[0m\u001b[0;34m)\u001b[0m\u001b[0;34m:\u001b[0m\u001b[0;34m\u001b[0m\u001b[0m\n",
      "\u001b[0;32m~/anaconda/lib/python3.6/site-packages/pandas/core/frame.py\u001b[0m in \u001b[0;36m_arrays_to_mgr\u001b[0;34m(arrays, arr_names, index, columns, dtype)\u001b[0m\n\u001b[1;32m   5504\u001b[0m     \u001b[0maxes\u001b[0m \u001b[0;34m=\u001b[0m \u001b[0;34m[\u001b[0m\u001b[0m_ensure_index\u001b[0m\u001b[0;34m(\u001b[0m\u001b[0mcolumns\u001b[0m\u001b[0;34m)\u001b[0m\u001b[0;34m,\u001b[0m \u001b[0m_ensure_index\u001b[0m\u001b[0;34m(\u001b[0m\u001b[0mindex\u001b[0m\u001b[0;34m)\u001b[0m\u001b[0;34m]\u001b[0m\u001b[0;34m\u001b[0m\u001b[0m\n\u001b[1;32m   5505\u001b[0m \u001b[0;34m\u001b[0m\u001b[0m\n\u001b[0;32m-> 5506\u001b[0;31m     \u001b[0;32mreturn\u001b[0m \u001b[0mcreate_block_manager_from_arrays\u001b[0m\u001b[0;34m(\u001b[0m\u001b[0marrays\u001b[0m\u001b[0;34m,\u001b[0m \u001b[0marr_names\u001b[0m\u001b[0;34m,\u001b[0m \u001b[0maxes\u001b[0m\u001b[0;34m)\u001b[0m\u001b[0;34m\u001b[0m\u001b[0m\n\u001b[0m\u001b[1;32m   5507\u001b[0m \u001b[0;34m\u001b[0m\u001b[0m\n\u001b[1;32m   5508\u001b[0m \u001b[0;34m\u001b[0m\u001b[0m\n",
      "\u001b[0;32m~/anaconda/lib/python3.6/site-packages/pandas/core/internals.py\u001b[0m in \u001b[0;36mcreate_block_manager_from_arrays\u001b[0;34m(arrays, names, axes)\u001b[0m\n\u001b[1;32m   4312\u001b[0m         \u001b[0;32mreturn\u001b[0m \u001b[0mmgr\u001b[0m\u001b[0;34m\u001b[0m\u001b[0m\n\u001b[1;32m   4313\u001b[0m     \u001b[0;32mexcept\u001b[0m \u001b[0mValueError\u001b[0m \u001b[0;32mas\u001b[0m \u001b[0me\u001b[0m\u001b[0;34m:\u001b[0m\u001b[0;34m\u001b[0m\u001b[0m\n\u001b[0;32m-> 4314\u001b[0;31m         \u001b[0mconstruction_error\u001b[0m\u001b[0;34m(\u001b[0m\u001b[0mlen\u001b[0m\u001b[0;34m(\u001b[0m\u001b[0marrays\u001b[0m\u001b[0;34m)\u001b[0m\u001b[0;34m,\u001b[0m \u001b[0marrays\u001b[0m\u001b[0;34m[\u001b[0m\u001b[0;36m0\u001b[0m\u001b[0;34m]\u001b[0m\u001b[0;34m.\u001b[0m\u001b[0mshape\u001b[0m\u001b[0;34m,\u001b[0m \u001b[0maxes\u001b[0m\u001b[0;34m,\u001b[0m \u001b[0me\u001b[0m\u001b[0;34m)\u001b[0m\u001b[0;34m\u001b[0m\u001b[0m\n\u001b[0m\u001b[1;32m   4315\u001b[0m \u001b[0;34m\u001b[0m\u001b[0m\n\u001b[1;32m   4316\u001b[0m \u001b[0;34m\u001b[0m\u001b[0m\n",
      "\u001b[0;32m~/anaconda/lib/python3.6/site-packages/pandas/core/internals.py\u001b[0m in \u001b[0;36mconstruction_error\u001b[0;34m(tot_items, block_shape, axes, e)\u001b[0m\n\u001b[1;32m   4278\u001b[0m         \u001b[0;32mraise\u001b[0m \u001b[0mValueError\u001b[0m\u001b[0;34m(\u001b[0m\u001b[0;34m\"Empty data passed with indices specified.\"\u001b[0m\u001b[0;34m)\u001b[0m\u001b[0;34m\u001b[0m\u001b[0m\n\u001b[1;32m   4279\u001b[0m     raise ValueError(\"Shape of passed values is {0}, indices imply {1}\".format(\n\u001b[0;32m-> 4280\u001b[0;31m         passed, implied))\n\u001b[0m\u001b[1;32m   4281\u001b[0m \u001b[0;34m\u001b[0m\u001b[0m\n\u001b[1;32m   4282\u001b[0m \u001b[0;34m\u001b[0m\u001b[0m\n",
      "\u001b[0;31mValueError\u001b[0m: Shape of passed values is (2, 68), indices imply (2, 748650)"
     ]
    }
   ],
   "source": [
    "test_dict = { 'title': title_list, 'content': book_list, 'cluster': clusters}\n",
    "\n",
    "frame = pd.DataFrame(test_dict, index = [clusters] , columns = ['title', 'cluster'])"
   ]
  },
  {
   "cell_type": "code",
   "execution_count": null,
   "metadata": {
    "ExecuteTime": {
     "end_time": "2017-11-08T04:09:08.817662Z",
     "start_time": "2017-11-08T04:06:31.359Z"
    },
    "collapsed": true
   },
   "outputs": [],
   "source": [
    "frame.cluster.value_counts()"
   ]
  },
  {
   "cell_type": "code",
   "execution_count": 185,
   "metadata": {
    "ExecuteTime": {
     "end_time": "2017-11-08T04:10:41.281173Z",
     "start_time": "2017-11-08T04:10:41.231140Z"
    },
    "collapsed": true
   },
   "outputs": [],
   "source": [
    "km3 = KMeans(n_clusters=8)\n",
    "\n",
    "km3.fit(fit2)\n",
    "\n",
    "clusters = km3.labels_.tolist()"
   ]
  },
  {
   "cell_type": "code",
   "execution_count": 186,
   "metadata": {
    "ExecuteTime": {
     "end_time": "2017-11-08T04:10:43.542567Z",
     "start_time": "2017-11-08T04:10:43.538375Z"
    },
    "collapsed": true
   },
   "outputs": [],
   "source": [
    "clusters = km3.labels_.tolist()"
   ]
  },
  {
   "cell_type": "code",
   "execution_count": 187,
   "metadata": {
    "ExecuteTime": {
     "end_time": "2017-11-08T04:10:44.338606Z",
     "start_time": "2017-11-08T04:10:44.333588Z"
    },
    "collapsed": true
   },
   "outputs": [],
   "source": [
    "test_dict = { 'title': title_list, 'content': book_list, 'cluster': clusters}\n",
    "\n",
    "frame = pd.DataFrame(test_dict, index = [clusters] , columns = ['title', 'cluster'])"
   ]
  },
  {
   "cell_type": "code",
   "execution_count": 188,
   "metadata": {
    "ExecuteTime": {
     "end_time": "2017-11-08T04:10:44.584124Z",
     "start_time": "2017-11-08T04:10:44.574757Z"
    }
   },
   "outputs": [
    {
     "data": {
      "text/plain": [
       "1    45\n",
       "7     7\n",
       "6     4\n",
       "5     4\n",
       "2     3\n",
       "4     2\n",
       "0     2\n",
       "3     1\n",
       "Name: cluster, dtype: int64"
      ]
     },
     "execution_count": 188,
     "metadata": {},
     "output_type": "execute_result"
    }
   ],
   "source": [
    "frame.cluster.value_counts()"
   ]
  },
  {
   "cell_type": "markdown",
   "metadata": {},
   "source": [
    "## Aggregate Sentiment"
   ]
  },
  {
   "cell_type": "code",
   "execution_count": null,
   "metadata": {
    "collapsed": true
   },
   "outputs": [],
   "source": []
  },
  {
   "cell_type": "markdown",
   "metadata": {
    "collapsed": true
   },
   "source": [
    "## Scrap"
   ]
  },
  {
   "cell_type": "markdown",
   "metadata": {},
   "source": [
    "Test Splitting the text for just the story content"
   ]
  },
  {
   "cell_type": "code",
   "execution_count": 95,
   "metadata": {
    "ExecuteTime": {
     "end_time": "2017-11-01T20:37:19.451144Z",
     "start_time": "2017-11-01T20:37:19.447273Z"
    },
    "collapsed": true
   },
   "outputs": [],
   "source": [
    "# start = gs_text.find('******start_of_file******')+25\n",
    "# end = gs_text.find('******end_of_file******')\n",
    "# gs_text = gs_text[start:end]"
   ]
  },
  {
   "cell_type": "code",
   "execution_count": 105,
   "metadata": {
    "ExecuteTime": {
     "end_time": "2017-11-01T20:38:21.803187Z",
     "start_time": "2017-11-01T20:38:21.798369Z"
    }
   },
   "outputs": [
    {
     "data": {
      "text/plain": [
       "'ble final battle.\\n\\n'"
      ]
     },
     "execution_count": 105,
     "metadata": {},
     "output_type": "execute_result"
    }
   ],
   "source": [
    "# gs_text[-20:-1]"
   ]
  },
  {
   "cell_type": "code",
   "execution_count": 36,
   "metadata": {
    "ExecuteTime": {
     "end_time": "2017-11-04T19:42:12.701995Z",
     "start_time": "2017-11-04T19:42:12.694825Z"
    },
    "collapsed": true
   },
   "outputs": [],
   "source": [
    "# words = [''.join(words) for words in gs_text.split()]"
   ]
  },
  {
   "cell_type": "code",
   "execution_count": 52,
   "metadata": {
    "ExecuteTime": {
     "end_time": "2017-11-02T19:04:35.541898Z",
     "start_time": "2017-11-02T19:04:35.494259Z"
    },
    "collapsed": true
   },
   "outputs": [],
   "source": [
    "counter = Counter()\n",
    "n = 1\n",
    "words = [w for w in words if w not in stoplist]\n",
    "bigrams = ngrams(words, n)\n",
    "counter += Counter(bigrams)\n",
    "\n",
    "sorted_counter = sorted(counter.items(), key=operator.itemgetter(1),reverse=True)\n",
    "# for word, count in gBlob.word_counts.items():\n",
    "#     print(\"%15s %i\" % (word, count))"
   ]
  },
  {
   "cell_type": "code",
   "execution_count": 53,
   "metadata": {
    "ExecuteTime": {
     "end_time": "2017-11-02T19:04:36.793976Z",
     "start_time": "2017-11-02T19:04:36.743195Z"
    }
   },
   "outputs": [
    {
     "data": {
      "text/plain": [
       "[(('gunslinger',), 531),\n",
       " (('man',), 243),\n",
       " (('boy',), 236),\n",
       " (('one',), 218),\n",
       " (('like',), 201),\n",
       " (('would',), 186),\n",
       " (('“i',), 169),\n",
       " (('black',), 156),\n",
       " (('said.',), 151),\n",
       " (('looked',), 147),\n",
       " (('back',), 143),\n",
       " (('could',), 136),\n",
       " (('said',), 129),\n",
       " (('jake',), 120),\n",
       " (('made',), 103),\n",
       " (('don’t',), 99),\n",
       " (('even',), 92),\n",
       " (('him.',), 92),\n",
       " (('it.',), 90),\n",
       " (('him,',), 89),\n",
       " (('eyes',), 88),\n",
       " (('seemed',), 87),\n",
       " (('came',), 85),\n",
       " (('roland',), 85),\n",
       " (('face',), 83),\n",
       " (('went',), 82),\n",
       " (('felt',), 81),\n",
       " (('might',), 80),\n",
       " (('way',), 77),\n",
       " (('still',), 77),\n",
       " (('know',), 76),\n",
       " (('time',), 75),\n",
       " (('never',), 74),\n",
       " (('come',), 74),\n",
       " (('“you',), 73),\n",
       " (('see',), 71),\n",
       " (('first',), 69),\n",
       " (('two',), 69),\n",
       " (('thought',), 68),\n",
       " (('cort',), 68),\n",
       " (('began',), 66),\n",
       " (('hands',), 66),\n",
       " (('said,',), 66),\n",
       " (('long',), 65),\n",
       " (('it,',), 65),\n",
       " (('last',), 65),\n",
       " (('go',), 64),\n",
       " (('almost',), 63),\n",
       " (('head',), 60),\n",
       " (('didn’t',), 59),\n",
       " (('saw',), 59),\n",
       " (('perhaps',), 59),\n",
       " (('old',), 58),\n",
       " (('three',), 57),\n",
       " (('think',), 57),\n",
       " (('“the',), 57),\n",
       " (('little',), 55),\n",
       " (('left',), 55),\n",
       " (('light',), 54),\n",
       " (('stood',), 54),\n",
       " (('turned',), 53),\n",
       " (('sound',), 53),\n",
       " (('voice',), 53),\n",
       " (('hand',), 53),\n",
       " (('put',), 52),\n",
       " (('want',), 52),\n",
       " (('around',), 50),\n",
       " (('knew',), 50),\n",
       " (('held',), 49),\n",
       " (('away',), 49),\n",
       " (('brown',), 47),\n",
       " (('dark',), 46),\n",
       " (('something',), 46),\n",
       " (('cuthbert',), 46),\n",
       " (('great',), 45),\n",
       " (('got',), 45),\n",
       " (('toward',), 45),\n",
       " (('tell',), 44),\n",
       " (('let',), 44),\n",
       " (('going',), 44),\n",
       " (('father',), 44),\n",
       " (('get',), 43),\n",
       " (('it’s',), 43),\n",
       " (('yet',), 43),\n",
       " (('moment',), 43),\n",
       " (('walked',), 42),\n",
       " (('far',), 42),\n",
       " (('again.',), 42),\n",
       " (('across',), 42),\n",
       " (('always',), 41),\n",
       " (('again,',), 41),\n",
       " (('boy’s',), 40),\n",
       " (('make',), 39),\n",
       " (('moved',), 39),\n",
       " (('world',), 38),\n",
       " (('although',), 38),\n",
       " (('say',), 38),\n",
       " (('nothing',), 38),\n",
       " (('much',), 38),\n",
       " (('them,',), 38),\n",
       " (('gone',), 38),\n",
       " (('fell',), 38),\n",
       " (('took',), 37),\n",
       " (('looking',), 37),\n",
       " (('them.',), 37),\n",
       " (('sat',), 37),\n",
       " (('enough',), 36),\n",
       " (('right',), 35),\n",
       " (('good',), 35),\n",
       " (('seen',), 35),\n",
       " (('gunslinger’s',), 35),\n",
       " (('beyond',), 35),\n",
       " (('feel',), 34),\n",
       " (('mind',), 34),\n",
       " (('behind',), 34),\n",
       " (('told',), 33),\n",
       " (('end',), 33),\n",
       " (('must',), 33),\n",
       " (('water',), 33),\n",
       " (('i’m',), 32),\n",
       " (('heard',), 32),\n",
       " (('now,',), 32),\n",
       " (('now.',), 32),\n",
       " (('slow',), 31),\n",
       " (('passed',), 31),\n",
       " (('look',), 31),\n",
       " (('you,',), 31),\n",
       " (('another',), 31),\n",
       " (('found',), 31),\n",
       " (('watched',), 31),\n",
       " (('up,',), 31),\n",
       " (('years',), 30),\n",
       " (('day',), 30),\n",
       " (('beneath',), 30),\n",
       " (('smell',), 30),\n",
       " (('dead',), 29),\n",
       " (('side',), 29),\n",
       " (('“what',), 29),\n",
       " (('may',), 28),\n",
       " (('without',), 28),\n",
       " (('body',), 28),\n",
       " (('back.',), 28),\n",
       " (('desert',), 28),\n",
       " (('ever',), 28),\n",
       " (('struck',), 28),\n",
       " (('coming',), 28),\n",
       " (('wind',), 28),\n",
       " (('place',), 28),\n",
       " (('asked.',), 28),\n",
       " (('“he',), 28),\n",
       " (('.”',), 28),\n",
       " (('boys',), 28),\n",
       " (('huge',), 28),\n",
       " (('blood',), 28),\n",
       " (('tower',), 27),\n",
       " (('green',), 27),\n",
       " (('wanted',), 27),\n",
       " (('face.',), 27),\n",
       " (('called',), 27),\n",
       " (('mouth',), 27),\n",
       " (('white',), 27),\n",
       " (('small',), 27),\n",
       " (('asked',), 27),\n",
       " (('suddenly',), 27),\n",
       " (('caught',), 27),\n",
       " (('hawk',), 27),\n",
       " (('feet',), 26),\n",
       " (('high',), 26),\n",
       " (('door',), 26),\n",
       " (('“it',), 26),\n",
       " (('cort’s',), 26),\n",
       " (('that,',), 25),\n",
       " (('mother',), 25),\n",
       " (('every',), 25),\n",
       " (('find',), 25),\n",
       " (('up.',), 25),\n",
       " (('sun',), 25),\n",
       " (('head.',), 25),\n",
       " (('“i’m',), 25),\n",
       " (('“but',), 25),\n",
       " (('new',), 24),\n",
       " (('things',), 24),\n",
       " (('four',), 24),\n",
       " (('eye',), 24),\n",
       " (('take',), 24),\n",
       " (('gunslinger,',), 24),\n",
       " (('on.',), 24),\n",
       " (('reached',), 24),\n",
       " (('also',), 23),\n",
       " (('night',), 23),\n",
       " (('sense',), 23),\n",
       " (('feeling',), 23),\n",
       " (('since',), 23),\n",
       " (('later',), 23),\n",
       " (('open',), 23),\n",
       " (('rising',), 23),\n",
       " (('fire',), 23),\n",
       " (('lay',), 23),\n",
       " (('shook',), 23),\n",
       " (('he’d',), 23),\n",
       " (('kill',), 23),\n",
       " (('become',), 23),\n",
       " (('woman',), 23),\n",
       " (('her.',), 23),\n",
       " (('stone',), 23),\n",
       " (('many',), 22),\n",
       " (('love',), 22),\n",
       " (('need',), 22),\n",
       " (('tiny',), 22),\n",
       " (('spoke',), 22),\n",
       " (('“and',), 22),\n",
       " (('“it’s',), 22),\n",
       " (('face,',), 22),\n",
       " (('allie',), 22),\n",
       " (('probably',), 21),\n",
       " (('me,',), 21),\n",
       " (('maybe',), 21),\n",
       " (('time.',), 21),\n",
       " (('thing',), 21),\n",
       " (('us',), 21),\n",
       " (('beside',), 21),\n",
       " (('turn',), 21),\n",
       " (('words',), 21),\n",
       " (('i’ll',), 21),\n",
       " (('close',), 21),\n",
       " (('nodded',), 21),\n",
       " (('gunslinger.',), 21),\n",
       " (('dropped',), 21),\n",
       " (('hear',), 21),\n",
       " (('boy,',), 21),\n",
       " (('kennerly',), 21),\n",
       " (('rolled',), 21),\n",
       " (('jake’s',), 21),\n",
       " (('rock',), 20),\n",
       " (('you.',), 20),\n",
       " (('watch',), 20),\n",
       " (('large',), 20),\n",
       " (('really',), 20),\n",
       " (('out.',), 20),\n",
       " (('gave',), 20),\n",
       " (('sky',), 20),\n",
       " (('already',), 20),\n",
       " (('blue',), 20),\n",
       " (('drew',), 20),\n",
       " (('eyes,',), 20),\n",
       " (('speak',), 20),\n",
       " (('half',), 19),\n",
       " (('gray',), 19),\n",
       " (('next',), 19),\n",
       " (('can’t',), 19),\n",
       " (('young',), 19),\n",
       " (('lost',), 19),\n",
       " (('remember',), 19),\n",
       " (('guns',), 19),\n",
       " (('light.',), 19),\n",
       " (('shadows',), 19),\n",
       " (('sometimes',), 19),\n",
       " (('“yes.”',), 19),\n",
       " (('eyes.',), 19),\n",
       " (('hard',), 19),\n",
       " (('“all',), 19),\n",
       " (('“do',), 19),\n",
       " (('sleep',), 19),\n",
       " (('time,',), 19),\n",
       " (('fingers',), 19),\n",
       " (('darkness',), 19),\n",
       " (('hair',), 18),\n",
       " (('you’re',), 18),\n",
       " (('able',), 18),\n",
       " (('pushed',), 18),\n",
       " (('final',), 18),\n",
       " (('people',), 18),\n",
       " (('someone',), 18),\n",
       " (('hold',), 18),\n",
       " (('wasn’t',), 18),\n",
       " (('god',), 18),\n",
       " (('followed',), 18),\n",
       " (('threw',), 18),\n",
       " (('know.',), 18),\n",
       " (('“a',), 18),\n",
       " (('stepped',), 18),\n",
       " (('shot',), 18),\n",
       " (('smiled',), 18),\n",
       " (('you.”',), 18),\n",
       " (('arms',), 18),\n",
       " (('nort',), 18),\n",
       " (('arm',), 18),\n",
       " (('stand',), 17),\n",
       " (('full',), 17),\n",
       " (('set',), 17),\n",
       " (('bad',), 17),\n",
       " (('hand.',), 17),\n",
       " (('me.',), 17),\n",
       " (('away,',), 17),\n",
       " (('word',), 17),\n",
       " (('flat',), 17),\n",
       " (('“that’s',), 17),\n",
       " (('hung',), 17),\n",
       " (('it.”',), 17),\n",
       " (('thought.',), 17),\n",
       " (('touched',), 17),\n",
       " (('screamed',), 17),\n",
       " (('none',), 17),\n",
       " (('hax',), 17),\n",
       " (('red',), 16),\n",
       " (('mountains',), 16),\n",
       " (('five',), 16),\n",
       " (('kind',), 16),\n",
       " (('started',), 16),\n",
       " (('idea',), 16),\n",
       " (('ran',), 16),\n",
       " (('somewhere',), 16),\n",
       " (('run',), 16),\n",
       " (('roland’s',), 16),\n",
       " (('given',), 16),\n",
       " (('strange',), 16),\n",
       " (('flew',), 16),\n",
       " (('“i’ll',), 16),\n",
       " (('away.',), 16),\n",
       " (('closed',), 16),\n",
       " (('won’t',), 16),\n",
       " (('sheb',), 16),\n",
       " (('heavy',), 16),\n",
       " (('filled',), 16),\n",
       " (('handcar',), 16),\n",
       " (('whole',), 15),\n",
       " (('read',), 15),\n",
       " (('men',), 15),\n",
       " (('age',), 15),\n",
       " (('way,',), 15),\n",
       " (('smoke',), 15),\n",
       " (('ask',), 15),\n",
       " (('part',), 15),\n",
       " (('“not',), 15),\n",
       " (('all,',), 15),\n",
       " (('this,',), 15),\n",
       " (('lips',), 15),\n",
       " (('tracks',), 15),\n",
       " (('wondered',), 15),\n",
       " (('others',), 15),\n",
       " (('corn',), 15),\n",
       " (('name',), 15),\n",
       " (('you?”',), 15),\n",
       " (('“how',), 15),\n",
       " (('nodded.',), 15),\n",
       " (('catch',), 15),\n",
       " (('fire.',), 15),\n",
       " (('black.',), 15),\n",
       " (('onto',), 15),\n",
       " (('stared',), 15),\n",
       " (('faces',), 15),\n",
       " (('led',), 15),\n",
       " (('front',), 15),\n",
       " (('“go',), 15),\n",
       " (('air.',), 15),\n",
       " (('fear',), 15),\n",
       " (('stopped',), 15),\n",
       " (('silent',), 15),\n",
       " (('making',), 14),\n",
       " (('rose',), 14),\n",
       " (('girl',), 14),\n",
       " (('mutants',), 14),\n",
       " (('paused',), 14),\n",
       " (('big',), 14),\n",
       " (('rather',), 14),\n",
       " (('then,',), 14),\n",
       " (('story',), 14),\n",
       " (('comes',), 14),\n",
       " (('carried',), 14),\n",
       " (('smile',), 14),\n",
       " (('done',), 14),\n",
       " (('known',), 14),\n",
       " (('upon',), 14),\n",
       " (('deep',), 14),\n",
       " (('seem',), 14),\n",
       " (('way.',), 14),\n",
       " (('better',), 14),\n",
       " (('there.',), 14),\n",
       " (('brought',), 14),\n",
       " (('yellow',), 14),\n",
       " (('light,',), 14),\n",
       " (('cold',), 14),\n",
       " (('thin',), 14),\n",
       " (('together',), 14),\n",
       " (('mule',), 14),\n",
       " (('ain’t',), 14),\n",
       " (('sudden',), 14),\n",
       " (('turning',), 14),\n",
       " (('dry',), 14),\n",
       " (('hot',), 14),\n",
       " (('“if',), 14),\n",
       " (('nearly',), 14),\n",
       " (('taken',), 14),\n",
       " (('back,',), 14),\n",
       " (('became',), 14),\n",
       " (('holding',), 14),\n",
       " (('pulled',), 14),\n",
       " (('land',), 14),\n",
       " (('air',), 14),\n",
       " (('boy.',), 14),\n",
       " (('marten',), 14),\n",
       " (('either',), 13),\n",
       " (('used',), 13),\n",
       " (('book',), 13),\n",
       " (('writing',), 13),\n",
       " (('(the',), 13),\n",
       " (('sure',), 13),\n",
       " (('begun',), 13),\n",
       " (('that’s',), 13),\n",
       " (('heart',), 13),\n",
       " (('he’s',), 13),\n",
       " (('start',), 13),\n",
       " (('empty',), 13),\n",
       " (('understand',), 13),\n",
       " (('single',), 13),\n",
       " (('line',), 13),\n",
       " (('quite',), 13),\n",
       " (('along',), 13),\n",
       " (('longer',), 13),\n",
       " (('flesh',), 13),\n",
       " (('work',), 13),\n",
       " (('hands.',), 13),\n",
       " (('beginning',), 13),\n",
       " (('right.',), 13),\n",
       " (('give',), 13),\n",
       " (('cut',), 13),\n",
       " (('father’s',), 13),\n",
       " (('huge,',), 13),\n",
       " (('raised',), 13),\n",
       " (('grass',), 13),\n",
       " (('desert.',), 13),\n",
       " (('nothing.',), 13),\n",
       " (('laid',), 13),\n",
       " (('drawn',), 13),\n",
       " (('watching',), 13),\n",
       " (('“then',), 13),\n",
       " (('bird',), 13),\n",
       " (('room',), 13),\n",
       " (('piano',), 13),\n",
       " (('“there',), 13),\n",
       " (('“no',), 13),\n",
       " (('children',), 13),\n",
       " (('water.',), 13),\n",
       " (('there,',), 13),\n",
       " (('more.',), 13),\n",
       " (('shirt',), 13),\n",
       " (('legs',), 13),\n",
       " (('faint',), 13),\n",
       " (('living',), 12),\n",
       " (('walk',), 12),\n",
       " (('(and',), 12),\n",
       " (('least',), 12),\n",
       " (('write',), 12),\n",
       " (('out,',), 12),\n",
       " (('change',), 12),\n",
       " (('fine',), 12),\n",
       " (('fall',), 12),\n",
       " (('whose',), 12),\n",
       " (('side,',), 12),\n",
       " (('trying',), 12),\n",
       " (('clear',), 12),\n",
       " (('man,',), 12),\n",
       " (('point',), 12),\n",
       " (('sand',), 12),\n",
       " (('ate',), 12),\n",
       " (('ancient',), 12),\n",
       " (('moving',), 12),\n",
       " (('steel',), 12),\n",
       " (('town',), 12),\n",
       " (('dweller',), 12),\n",
       " (('afraid',), 12),\n",
       " (('me.”',), 12),\n",
       " (('it?”',), 12),\n",
       " (('other,',), 12),\n",
       " (('earth',), 12),\n",
       " (('touch',), 12),\n",
       " (('killed',), 12),\n",
       " (('“will',), 12),\n",
       " (('slowly',), 12),\n",
       " (('crossed',), 12),\n",
       " (('continued',), 12),\n",
       " (('center',), 12),\n",
       " (('“are',), 12),\n",
       " (('ones',), 12),\n",
       " (('david',), 12),\n",
       " (('cry',), 12),\n",
       " (('thought,',), 12),\n",
       " (('lot',), 11),\n",
       " (('one.',), 11),\n",
       " (('wouldn’t',), 11),\n",
       " (('anything',), 11),\n",
       " (('else',), 11),\n",
       " (('here.',), 11),\n",
       " (('(or',), 11),\n",
       " (('mean',), 11),\n",
       " (('yes,',), 11),\n",
       " (('sort',), 11),\n",
       " (('believe',), 11),\n",
       " (('tried',), 11),\n",
       " (('less',), 11),\n",
       " (('near',), 11),\n",
       " (('“why',), 11),\n",
       " (('urge',), 11),\n",
       " (('thinking',), 11),\n",
       " (('edge',), 11),\n",
       " (('doesn’t',), 11),\n",
       " (('man’s',), 11),\n",
       " (('here,',), 11),\n",
       " (('thick',), 11),\n",
       " (('rain',), 11),\n",
       " (('grin',), 11),\n",
       " (('burned',), 11),\n",
       " (('true',), 11),\n",
       " (('stars',), 11),\n",
       " (('do.”',), 11),\n",
       " (('that?”',), 11),\n",
       " (('rabbit',), 11),\n",
       " (('rest',), 11),\n",
       " (('cigarette',), 11),\n",
       " (('move',), 11),\n",
       " (('wearing',), 11),\n",
       " (('shadow',), 11),\n",
       " (('gold',), 11),\n",
       " (('bright',), 11),\n",
       " (('smile.',), 11),\n",
       " (('knife',), 11),\n",
       " (('“who',), 11),\n",
       " (('wet',), 11),\n",
       " (('not.',), 11),\n",
       " (('faded',), 11),\n",
       " (('trap',), 11),\n",
       " (('“when',), 11),\n",
       " (('feet.',), 11),\n",
       " (('sylvia',), 11),\n",
       " (('know.”',), 11),\n",
       " (('“we',), 11),\n",
       " (('cort,',), 11),\n",
       " (('climbed',), 11),\n",
       " (('king',), 10),\n",
       " (('wide',), 10),\n",
       " (('past',), 10),\n",
       " (('chapter',), 10),\n",
       " (('station',), 10),\n",
       " (('oracle',), 10),\n",
       " (('twice',), 10),\n",
       " (('nineteen,',), 10),\n",
       " (('that.',), 10),\n",
       " (('show',), 10),\n",
       " (('isn’t',), 10),\n",
       " (('down,',), 10),\n",
       " (('card',), 10),\n",
       " (('ring',), 10),\n",
       " (('second',), 10),\n",
       " (('over,',), 10),\n",
       " (('well',), 10),\n",
       " (('tale',), 10),\n",
       " (('her,',), 10),\n",
       " (('call',), 10),\n",
       " (('course,',), 10),\n",
       " (('tower.',), 10),\n",
       " (('except',), 10),\n",
       " (('hall',), 10),\n",
       " (('down.',), 10),\n",
       " (('mind,',), 10),\n",
       " (('was,',), 10),\n",
       " (('grown',), 10),\n",
       " (('mind.',), 10),\n",
       " (('piece',), 10),\n",
       " (('falling',), 10),\n",
       " (('all.',), 10),\n",
       " (('standing',), 10),\n",
       " (('devil-grass',), 10),\n",
       " (('miles',), 10),\n",
       " (('dying',), 10),\n",
       " (('kicked',), 10),\n",
       " (('remains',), 10),\n",
       " (('hadn’t',), 10),\n",
       " (('belly.',), 10),\n",
       " (('wild',), 10),\n",
       " (('shoulder.',), 10),\n",
       " (('laughed',), 10),\n",
       " (('trembling',), 10),\n",
       " (('talk',), 10),\n",
       " (('whatever',), 10),\n",
       " (('folded',), 10),\n",
       " (('right.”',), 10),\n",
       " (('“no.”',), 10),\n",
       " (('playing',), 10),\n",
       " (('leaning',), 10),\n",
       " (('on,',), 10),\n",
       " (('window',), 10),\n",
       " (('“that',), 10),\n",
       " (('meat',), 10),\n",
       " (('“don’t',), 10),\n",
       " (('fingers.',), 10),\n",
       " (('merely',), 10),\n",
       " (('this.',), 10),\n",
       " (('cast',), 10),\n",
       " (('wood',), 10),\n",
       " (('before.',), 10),\n",
       " (('played',), 10),\n",
       " (('softly.',), 10),\n",
       " (('broke',), 10),\n",
       " (('sky.',), 10),\n",
       " (('blind',), 10),\n",
       " (('it,”',), 10),\n",
       " (('handle',), 10),\n",
       " (('opened',), 10),\n",
       " (('times',), 10),\n",
       " (('“what’s',), 10),\n",
       " (('finally',), 10),\n",
       " (('“come',), 10),\n",
       " (('“my',), 10),\n",
       " (('hand,',), 10),\n",
       " (('ripped',), 10),\n",
       " (('drank',), 10),\n",
       " (('mother,',), 10),\n",
       " (('rails',), 10),\n",
       " (('ahead',), 10),\n",
       " (('step',), 10),\n",
       " (('“yes,”',), 10),\n",
       " (('cuthbert’s',), 10),\n",
       " (('west',), 10),\n",
       " (('leave',), 10),\n",
       " (('willow',), 10),\n",
       " (('universe',), 10),\n",
       " (('drawing',), 9),\n",
       " (('loved',), 9),\n",
       " (('running',), 9),\n",
       " (('in,',), 9),\n",
       " (('women',), 9),\n",
       " (('i’d',), 9),\n",
       " (('usually',), 9),\n",
       " (('middle',), 9),\n",
       " (('inside',), 9),\n",
       " (('supposed',), 9),\n",
       " (('grow',), 9),\n",
       " (('waited.',), 9),\n",
       " (('fact',), 9),\n",
       " (('thousand',), 9),\n",
       " (('hundred',), 9),\n",
       " (('please',), 9),\n",
       " (('occurred',), 9),\n",
       " (('live',), 9),\n",
       " (('hate',), 9),\n",
       " (('enjoy',), 9),\n",
       " (('keep',), 9),\n",
       " (('so,',), 9),\n",
       " (('everything',), 9),\n",
       " (('blade',), 9),\n",
       " (('hands,',), 9),\n",
       " (('third',), 9),\n",
       " (('pointed',), 9),\n",
       " (('little.',), 9),\n",
       " (('life',), 9),\n",
       " (('gone.',), 9),\n",
       " (('dust',), 9),\n",
       " (('pull',), 9),\n",
       " (('dreams',), 9),\n",
       " (('days',), 9),\n",
       " (('moment,',), 9),\n",
       " (('guess',), 9),\n",
       " (('“you’ll',), 9),\n",
       " (('head,',), 9),\n",
       " (('steps',), 9),\n",
       " (('dark.',), 9),\n",
       " (('table',), 9),\n",
       " (('ask.',), 9),\n",
       " (('“is',), 9),\n",
       " (('glow',), 9),\n",
       " (('dark,',), 9),\n",
       " (('floor',), 9),\n",
       " (('hostler',), 9),\n",
       " (('picked',), 9),\n",
       " (('me,”',), 9),\n",
       " (('eat',), 9),\n",
       " (('lit',), 9),\n",
       " (('boots',), 9),\n",
       " (('kept',), 9),\n",
       " (('steady',), 9),\n",
       " (('warm',), 9),\n",
       " (('hurt',), 9),\n",
       " (('“you’re',), 9),\n",
       " (('faced',), 9),\n",
       " (('neck',), 9),\n",
       " (('black,',), 9),\n",
       " (('allie,',), 9),\n",
       " (('sleep.',), 9),\n",
       " (('“yes.',), 9),\n",
       " (('seeing',), 9),\n",
       " (('“where',), 9),\n",
       " (('pump',), 9),\n",
       " (('himself.',), 9),\n",
       " (('“she',), 9),\n",
       " (('strong',), 9),\n",
       " (('off.',), 9),\n",
       " (('makes',), 9),\n",
       " (('twisted',), 9),\n",
       " (('kitchen',), 9),\n",
       " (('bring',), 9),\n",
       " (('stable',), 9),\n",
       " (('mrs.',), 9),\n",
       " (('it?',), 9),\n",
       " (('central',), 9),\n",
       " (('guard',), 9),\n",
       " (('river',), 9),\n",
       " (('books',), 8),\n",
       " (('nineteen',), 8),\n",
       " (('number',), 8),\n",
       " (('suppose',), 8),\n",
       " (('late',), 8),\n",
       " (('question.',), 8),\n",
       " (('one’s',), 8),\n",
       " (('then.',), 8),\n",
       " (('forever',), 8),\n",
       " (('twenty',), 8),\n",
       " (('pretty',), 8),\n",
       " (('best',), 8),\n",
       " (('did.',), 8),\n",
       " (('you’ve',), 8),\n",
       " (('novel',), 8),\n",
       " (('tower,',), 8),\n",
       " (('saying',), 8),\n",
       " (('couldn’t',), 8),\n",
       " (('question',), 8),\n",
       " (('real',), 8),\n",
       " (('hardly',), 8),\n",
       " (('hell',), 8),\n",
       " (('year',), 8),\n",
       " (('volume',), 8),\n",
       " (('you’ll',), 8),\n",
       " (('finished',), 8),\n",
       " (('years.',), 8),\n",
       " (('begin',), 8),\n",
       " (('spring',), 8),\n",
       " (('world.',), 8),\n",
       " (('door.',), 8),\n",
       " (('alone',), 8),\n",
       " (('mother’s',), 8),\n",
       " (('sweet',), 8),\n",
       " (('occasional',), 8),\n",
       " (('sign',), 8),\n",
       " (('track',), 8),\n",
       " (('swung',), 8),\n",
       " (('bit',), 8),\n",
       " (('others.',), 8),\n",
       " (('short',), 8),\n",
       " (('fire,',), 8),\n",
       " (('straight',), 8),\n",
       " (('so.',), 8),\n",
       " (('grass,',), 8),\n",
       " (('stay',), 8),\n",
       " (('slept.',), 8),\n",
       " (('in.',), 8),\n",
       " (('coach',), 8),\n",
       " (('break',), 8),\n",
       " (('you,”',), 8),\n",
       " (('zoltan',), 8),\n",
       " (('horse',), 8),\n",
       " (('too.',), 8),\n",
       " (('drop',), 8),\n",
       " (('water,',), 8),\n",
       " (('named',), 8),\n",
       " (('dull',), 8),\n",
       " (('asked,',), 8),\n",
       " (('open.',), 8),\n",
       " (('man.',), 8),\n",
       " (('day.',), 8),\n",
       " (('dust.',), 8),\n",
       " (('dim',), 8),\n",
       " (('loose',), 8),\n",
       " (('forward,',), 8),\n",
       " (('answer.',), 8),\n",
       " (('broken',), 8),\n",
       " (('bar',), 8),\n",
       " (('wore',), 8),\n",
       " (('forehead.',), 8),\n",
       " (('meant',), 8),\n",
       " (('nodded,',), 8),\n",
       " (('smiling',), 8),\n",
       " (('color',), 8),\n",
       " (('aware',), 8),\n",
       " (('push',), 8),\n",
       " (('staring',), 8),\n",
       " (('itself.',), 8),\n",
       " (('“no,”',), 8),\n",
       " (('worn',), 8),\n",
       " (('hood',), 8),\n",
       " (('mixed',), 8),\n",
       " (('within',), 8),\n",
       " (('stick',), 8),\n",
       " (('knowing',), 8),\n",
       " (('path',), 8),\n",
       " (('grew',), 8),\n",
       " (('circle',), 8),\n",
       " (('bed',), 8),\n",
       " (('place.',), 8),\n",
       " (('closer',), 8),\n",
       " (('skin',), 8),\n",
       " (('screaming',), 8),\n",
       " (('demon',), 8),\n",
       " (('wall',), 8),\n",
       " (('ironwood',), 8),\n",
       " (('beat',), 8),\n",
       " (('peered',), 8),\n",
       " (('shoulder',), 8),\n",
       " (('fired',), 8),\n",
       " (('forehead',), 8),\n",
       " (('sent',), 8),\n",
       " (('“let’s',), 8),\n",
       " (('rise',), 8),\n",
       " (('cook',), 8),\n",
       " (('susan',), 8),\n",
       " (('wished',), 8),\n",
       " (('giant',), 8),\n",
       " (('penguin',), 7),\n",
       " (('street,',), 7),\n",
       " (('filling',), 7),\n",
       " (('page',), 7),\n",
       " (('one,',), 7),\n",
       " (('written',), 7),\n",
       " (('truth',), 7),\n",
       " (('world,',), 7),\n",
       " (('pocket',), 7),\n",
       " (('nineteen.',), 7),\n",
       " (('road',), 7),\n",
       " (('i’ve',), 7),\n",
       " (('beer',), 7),\n",
       " (('dream',), 7),\n",
       " (('anyway.',), 7),\n",
       " (('sit',), 7),\n",
       " (('no,',), 7),\n",
       " (('realized',), 7),\n",
       " (('volumes',), 7),\n",
       " (('growing',), 7),\n",
       " (('side.',), 7),\n",
       " (('heads',), 7),\n",
       " (('finish',), 7),\n",
       " (('sick',), 7),\n",
       " (('landed',), 7),\n",
       " (('death',), 7),\n",
       " (('remained',), 7),\n",
       " (('sharp',), 7),\n",
       " (('anyone',), 7),\n",
       " (('period',), 7),\n",
       " (('particularly',), 7),\n",
       " (('telling',), 7),\n",
       " (('deal',), 7),\n",
       " (('hidden',), 7),\n",
       " (('surprised',), 7),\n",
       " (('matter',), 7),\n",
       " (('forgotten',), 7),\n",
       " (('faces.',), 7),\n",
       " (('desert,',), 7),\n",
       " (('death.',), 7),\n",
       " (('hide',), 7),\n",
       " (('carefully',), 7),\n",
       " (('looped',), 7),\n",
       " (('buried',), 7),\n",
       " (('ground',), 7),\n",
       " (('blow',), 7),\n",
       " (('worlds',), 7),\n",
       " (('heat.',), 7),\n",
       " (('hill',), 7),\n",
       " (('scrawny',), 7),\n",
       " (('while.',), 7),\n",
       " (('low',), 7),\n",
       " (('stones',), 7),\n",
       " (('well.',), 7),\n",
       " (('tull,',), 7),\n",
       " (('right,',), 7),\n",
       " (('spread',), 7),\n",
       " (('“tell',), 7),\n",
       " (('expected',), 7),\n",
       " (('brief',), 7),\n",
       " (('halfway',), 7),\n",
       " (('offered',), 7),\n",
       " (('come.',), 7),\n",
       " (('unless',), 7),\n",
       " (('night.',), 7),\n",
       " (('neither',), 7),\n",
       " (('sky,',), 7),\n",
       " (('dead.',), 7),\n",
       " (('main',), 7),\n",
       " (('tull.',), 7),\n",
       " (('bodies',), 7),\n",
       " (('crashed',), 7),\n",
       " (('old,',), 7),\n",
       " (('grasped',), 7),\n",
       " (('outside',), 7),\n",
       " (('floor,',), 7),\n",
       " (('approached',), 7),\n",
       " (('cracked',), 7),\n",
       " (('sees',), 7),\n",
       " (('player',), 7),\n",
       " (('everything.',), 7),\n",
       " (('breathing',), 7),\n",
       " (('grass.',), 7),\n",
       " (('blood.',), 7),\n",
       " (('over.',), 7),\n",
       " (('sleep.”',), 7),\n",
       " (('afternoon',), 7),\n",
       " (('wake',), 7),\n",
       " (('flying',), 7),\n",
       " (('corner,',), 7),\n",
       " (('soft',), 7),\n",
       " (('“get',), 7),\n",
       " (('right,”',), 7),\n",
       " (('leaving',), 7),\n",
       " (('grinned',), 7),\n",
       " (('grinning',), 7),\n",
       " (('waiting',), 7),\n",
       " (('sitting',), 7),\n",
       " (('later,',), 7),\n",
       " (('word.',), 7),\n",
       " (('o’',), 7),\n",
       " (('rolling',), 7),\n",
       " (('getting',), 7),\n",
       " (('you’d',), 7),\n",
       " (('pain',), 7),\n",
       " (('now,”',), 7),\n",
       " (('weight',), 7),\n",
       " (('ten',), 7),\n",
       " (('was.',), 7),\n",
       " (('quick',), 7),\n",
       " (('walking',), 7),\n",
       " (('dressed',), 7),\n",
       " (('perfectly',), 7),\n",
       " (('end,',), 7),\n",
       " (('marten,',), 7),\n",
       " (('jamie',), 7),\n",
       " (('smiled.',), 7),\n",
       " (('granite',), 7),\n",
       " (('trees',), 7),\n",
       " (('jawbone',), 7),\n",
       " (('good.',), 7),\n",
       " (('mechanical',), 7),\n",
       " (('power',), 7),\n",
       " (('darkness.',), 7),\n",
       " (('metal',), 7),\n",
       " (('dead,',), 6),\n",
       " (('business',), 6),\n",
       " (('part,',), 6),\n",
       " (('lands',), 6),\n",
       " (('glass',), 6),\n",
       " (('bones',), 6),\n",
       " (('bullet',), 6),\n",
       " (('silence',), 6),\n",
       " (('facing',), 6),\n",
       " (('following',), 6),\n",
       " (('fallen',), 6),\n",
       " (('street.',), 6),\n",
       " (('rotten',), 6),\n",
       " (('cared',), 6),\n",
       " (('use',), 6),\n",
       " (('met',), 6),\n",
       " (('he’ll',), 6),\n",
       " (('off,',), 6),\n",
       " (('size',), 6),\n",
       " (('there’s',), 6),\n",
       " (('ii',), 6),\n",
       " (('possible',), 6),\n",
       " (('liked',), 6),\n",
       " (('showed',), 6),\n",
       " (('contained',), 6),\n",
       " (('talking',), 6),\n",
       " (('size.',), 6),\n",
       " (('added',), 6),\n",
       " (('iii',), 6),\n",
       " (('somehow',), 6),\n",
       " (('lines',), 6),\n",
       " (('knocked',), 6),\n",
       " (('done,',), 6),\n",
       " (('done.',), 6),\n",
       " (('hope',), 6),\n",
       " (('life.',), 6),\n",
       " (('readers',), 6),\n",
       " (('died',), 6),\n",
       " (('ones.',), 6),\n",
       " (('before,',), 6),\n",
       " (('remain',), 6),\n",
       " (('years,',), 6),\n",
       " (('three.',), 6),\n",
       " (('course',), 6),\n",
       " (('wants',), 6),\n",
       " (('removed',), 6),\n",
       " (('usual',), 6),\n",
       " (('do.',), 6),\n",
       " (('slightly',), 6),\n",
       " (('earth.',), 6),\n",
       " (('cloudy',), 6),\n",
       " (('hat',), 6),\n",
       " (('stretched',), 6),\n",
       " (('crumbled',), 6),\n",
       " (('oddly',), 6),\n",
       " (('answer',), 6),\n",
       " (('bitter',), 6),\n",
       " (('camp',), 6),\n",
       " (('letting',), 6),\n",
       " (('wind.',), 6),\n",
       " ...]"
      ]
     },
     "execution_count": 53,
     "metadata": {},
     "output_type": "execute_result"
    }
   ],
   "source": [
    "sorted_counter"
   ]
  },
  {
   "cell_type": "code",
   "execution_count": 70,
   "metadata": {
    "ExecuteTime": {
     "end_time": "2017-11-03T19:54:18.043109Z",
     "start_time": "2017-11-03T19:54:18.039911Z"
    },
    "collapsed": true
   },
   "outputs": [],
   "source": [
    "all_books = db.books.find({})"
   ]
  },
  {
   "cell_type": "code",
   "execution_count": 7,
   "metadata": {
    "ExecuteTime": {
     "end_time": "2017-11-04T22:51:36.658485Z",
     "start_time": "2017-11-04T22:51:36.654272Z"
    },
    "collapsed": true
   },
   "outputs": [],
   "source": [
    "# df = pd.DataFrame(columns=['title','isbn','text'])\n",
    "# for book in all_books:\n",
    "#     df2 = "
   ]
  },
  {
   "cell_type": "code",
   "execution_count": 8,
   "metadata": {
    "ExecuteTime": {
     "end_time": "2017-11-04T22:51:36.859492Z",
     "start_time": "2017-11-04T22:51:36.854045Z"
    },
    "collapsed": true
   },
   "outputs": [],
   "source": [
    "# book_counts = {}\n",
    "# for book in all_books:\n",
    "#     title,counts = book_word_count(book,1)\n",
    "#     book_counts[title] = counts"
   ]
  },
  {
   "cell_type": "code",
   "execution_count": 9,
   "metadata": {
    "ExecuteTime": {
     "end_time": "2017-11-04T22:51:37.085862Z",
     "start_time": "2017-11-04T22:51:37.081933Z"
    },
    "collapsed": true
   },
   "outputs": [],
   "source": [
    "# clean_books = []\n",
    "# for book in all_books:\n",
    "#     text = clean_text(book)\n",
    "#     clean_books.append(text)"
   ]
  },
  {
   "cell_type": "code",
   "execution_count": 10,
   "metadata": {
    "ExecuteTime": {
     "end_time": "2017-11-04T22:51:41.383281Z",
     "start_time": "2017-11-04T22:51:41.380214Z"
    },
    "collapsed": true
   },
   "outputs": [],
   "source": [
    "# book_list = sorted(book_list)"
   ]
  },
  {
   "cell_type": "code",
   "execution_count": 11,
   "metadata": {
    "ExecuteTime": {
     "end_time": "2017-11-04T22:51:43.830724Z",
     "start_time": "2017-11-04T22:51:43.827125Z"
    },
    "collapsed": true
   },
   "outputs": [],
   "source": [
    "dt_books = ['Gunslinger, The','Drawing of the Three, The','Waste Lands, The',\n",
    "            'Wizard and Glass','Wolves of the Calla','Song of Susannah','Dark Tower, The']"
   ]
  },
  {
   "cell_type": "code",
   "execution_count": 30,
   "metadata": {
    "ExecuteTime": {
     "end_time": "2017-11-02T21:34:52.276435Z",
     "start_time": "2017-11-02T21:34:52.272037Z"
    }
   },
   "outputs": [
    {
     "name": "stdout",
     "output_type": "stream",
     "text": [
      "['Gunslinger, The', 'Drawing of the Three, The', 'Waste Lands, The', 'Wizard and Glass', 'Wolves of the Calla', 'Song of Susannah', 'Dark Tower, The']\n"
     ]
    }
   ],
   "source": [
    "print(dt_books)"
   ]
  },
  {
   "cell_type": "code",
   "execution_count": 12,
   "metadata": {
    "ExecuteTime": {
     "end_time": "2017-11-04T22:51:46.255349Z",
     "start_time": "2017-11-04T22:51:46.251254Z"
    },
    "collapsed": true
   },
   "outputs": [],
   "source": [
    "# all_books = db.books.find({})"
   ]
  },
  {
   "cell_type": "code",
   "execution_count": 13,
   "metadata": {
    "ExecuteTime": {
     "end_time": "2017-11-04T22:51:50.018258Z",
     "start_time": "2017-11-04T22:51:50.014685Z"
    },
    "collapsed": true
   },
   "outputs": [],
   "source": [
    "# all_text = []\n",
    "# for book in all_books:\n",
    "#     text = clean_text(book)\n",
    "#     all_text.append(text)"
   ]
  },
  {
   "cell_type": "code",
   "execution_count": 5,
   "metadata": {
    "ExecuteTime": {
     "end_time": "2017-11-04T22:51:01.248141Z",
     "start_time": "2017-11-04T22:51:01.242598Z"
    },
    "collapsed": true
   },
   "outputs": [],
   "source": [
    "# dt_text = []\n",
    "# for book in all_books:\n",
    "#     if book['title'] in dt_books:\n",
    "#         text  = clean_text(book)\n",
    "#         name = book['title']\n",
    "#         print(book['title'])\n",
    "#         dt_text.append(text)\n",
    "#     #else:\n",
    "#         #print(\"Haha Fuck you!\")"
   ]
  },
  {
   "cell_type": "code",
   "execution_count": 64,
   "metadata": {
    "ExecuteTime": {
     "end_time": "2017-11-03T19:50:15.265374Z",
     "start_time": "2017-11-03T19:50:15.260374Z"
    }
   },
   "outputs": [
    {
     "data": {
      "text/plain": [
       "7"
      ]
     },
     "execution_count": 64,
     "metadata": {},
     "output_type": "execute_result"
    }
   ],
   "source": [
    "len(dt_text)"
   ]
  },
  {
   "cell_type": "code",
   "execution_count": 69,
   "metadata": {
    "ExecuteTime": {
     "end_time": "2017-11-03T19:51:16.442046Z",
     "start_time": "2017-11-03T19:51:14.140428Z"
    }
   },
   "outputs": [
    {
     "name": "stdout",
     "output_type": "stream",
     "text": [
      "<class 'str'>\n",
      "(29598, 7)\n"
     ]
    }
   ],
   "source": [
    "df,corp,id2word = book_cv(dt_text,stoplist)"
   ]
  },
  {
   "cell_type": "code",
   "execution_count": null,
   "metadata": {
    "collapsed": true
   },
   "outputs": [],
   "source": [
    "df.shape"
   ]
  }
 ],
 "metadata": {
  "kernelspec": {
   "display_name": "Python 3",
   "language": "python",
   "name": "python3"
  },
  "language_info": {
   "codemirror_mode": {
    "name": "ipython",
    "version": 3
   },
   "file_extension": ".py",
   "mimetype": "text/x-python",
   "name": "python",
   "nbconvert_exporter": "python",
   "pygments_lexer": "ipython3",
   "version": "3.6.3"
  },
  "toc": {
   "nav_menu": {},
   "number_sections": true,
   "sideBar": true,
   "skip_h1_title": true,
   "toc_cell": false,
   "toc_position": {
    "height": "854px",
    "left": "0px",
    "right": "1228px",
    "top": "106px",
    "width": "218px"
   },
   "toc_section_display": "block",
   "toc_window_display": true
  }
 },
 "nbformat": 4,
 "nbformat_minor": 2
}
